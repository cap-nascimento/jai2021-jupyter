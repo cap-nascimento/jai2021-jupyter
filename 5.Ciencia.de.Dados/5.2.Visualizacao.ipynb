{
 "cells": [
  {
   "cell_type": "markdown",
   "metadata": {},
   "source": [
    "# Visualização de Dados Científicos\n",
    "\n",
    "Em Ciência de Dados, a Visualização de Dados é uma fase importante que envolve a representação gráfica de informações. Através de elementos visuais, ela permite a **atribuição de sentido e a comunicação de tendências e padrões nos dados**.\n",
    "\n",
    "<br>\n",
    "\n",
    "> **Por que criar visualizações usando Jupyter?** 🤔\n",
    "\n",
    "Além do suporte simplificado do Jupyter, a linguagem Python oferece uma variedadede bibliotecas e módulos de visualização de dados, como <ins>Matplotlib</ins> e <ins>Seaborn</ins>. Ambas  funcionam  muito  bem para a tarefa de visualização, sendo mais poderosas quando comparadas com os recursos adicionais de plotagem incorporados do Pandas.\n",
    "\n",
    "<br>\n",
    "\n",
    "O conteúdo deste notebook está organizado de acordo com o **tipo de mensagem ou informação que transmitem**, conforme os tópicos da Seção 1.6. (Visualização de Dados Científicos) do Capítulo:\n",
    "\n",
    "- [1.6.1. Quantidade](#quantidade)\n",
    "    - [Gráfico de barras simples](#barras-simples)\n",
    "    - [Gráfico de barras agrupadas](#barras-agrupadas)\n",
    "- [1.6.2. Distribuição](#distribuicao)\n",
    "    - [Histograma](#histograma)\n",
    "    - [Gráfico de densidade](#densidade)\n",
    "    - [Boxplots e Gráficos Violino](#boxplots)\n",
    "- [1.6.3. Correlação](#correlacao)\n",
    "    - [Gráfico de dispersão](#dispersao)\n",
    "    - [Gráfico de bolhas](#bolhas)\n",
    "    - [Correlogramas](#correlogramas)\n",
    "- [1.6.4. Evolução](#evolucao)\n",
    "- [Conteúdo Extra](#extra)\n",
    "    - [Personalização](#personalizacao)\n",
    "    - [Gráficos interativos](#interativos)"
   ]
  },
  {
   "cell_type": "code",
   "execution_count": null,
   "metadata": {},
   "outputs": [],
   "source": [
    "# Importando os pacotes necessários\n",
    "import pandas as pd\n",
    "import numpy as np\n",
    "import seaborn as sns\n",
    "import matplotlib.pyplot as plt\n",
    "\n",
    "pd.set_option('display.max_columns', 6)"
   ]
  },
  {
   "cell_type": "markdown",
   "metadata": {},
   "source": [
    "Neste notebook, vamos trabalhar com três tabelas do nosso conjunto de dados: _Artists, Tracks, e Charts_."
   ]
  },
  {
   "cell_type": "code",
   "execution_count": null,
   "metadata": {},
   "outputs": [],
   "source": [
    "# Lendo os dados\n",
    "df_artistas = pd.read_table('../dataset/spotify_artists_info_complete.tsv', encoding='utf-8')\n",
    "df_hits = pd.read_table('../dataset/spotify_hits_dataset_complete.tsv', encoding='utf-8')\n",
    "df_charts = pd.read_table('../dataset/spotify_charts_complete.tsv', encoding='utf-8', parse_dates=['chart_week'])"
   ]
  },
  {
   "cell_type": "markdown",
   "metadata": {},
   "source": [
    "---\n",
    "\n",
    "<a id=\"quantidade\"></a>\n",
    "## Quantidade\n",
    "\n",
    "Ao visualizarmos quantidades, estamos interessados em analisar a **magnitude** de algum conjunto de números.\n",
    "\n",
    "A visualização mais utilizada para este cenário é o **gráfico de barras**, que pode ter barras <ins>simples, agrupadas ou empilhadas</ins>. Em um gráfico de barras, cada entidade da variável categórica é representada como uma barra e o tamanho da barra representa seu valor numérico.\n",
    "\n",
    "Utilizando nossos dados, suponha que queremos visualizar a **o total de streams** de músicas com relação ao **número de artistas presentes** (Solo/Colaboração). Além disso, queremos desmembrar essa visualização também de acordo com o **tipo de letra** (explícita ou não).\n",
    "\n",
    "> **IMPORTANTE:** Note que já criamos visualizações com gráficos de barras no notebook anterior, mas o foco aqui reside na construção da visualização, apresentando comandos Python mais poderosos.\n",
    "\n",
    "O primeiro passo então é agregar os _DataFrames_ contendo informações dos hits e dos charts, para obter a quantidade de músicas Solo/Colaboração (`df_hits`) e o total de streams (`df_charts`)."
   ]
  },
  {
   "cell_type": "code",
   "execution_count": null,
   "metadata": {},
   "outputs": [],
   "source": [
    "# Junção dos dois DataFrames\n",
    "data = pd.merge(df_hits, df_charts, on='song_id')\n",
    "\n",
    "# Agrupando o DataFrame resultante pelo tipo de música e agregando os valores das variáveis numéricas\n",
    "df = data.groupby(by=['song_type']).sum()\n",
    "df = df.reset_index()\n",
    "df.head()"
   ]
  },
  {
   "cell_type": "markdown",
   "metadata": {},
   "source": [
    "> **DICA:** A integração de fontes de dados já foi abordada anteriormente neste curso. Se ainda tiver dúvidas, revisite o notebook desta parte e releia o texto da Seção 1.3.2. (Integração de Dados) do Capítulo."
   ]
  },
  {
   "cell_type": "code",
   "execution_count": null,
   "metadata": {
    "cell_style": "center"
   },
   "outputs": [],
   "source": [
    "# Criando o DataFrame\n",
    "df = pd.DataFrame({\n",
    "    'Tipos de Música': df.song_type,\n",
    "    'Total de Streams': df.streams\n",
    "})"
   ]
  },
  {
   "cell_type": "markdown",
   "metadata": {},
   "source": [
    "<a id=\"barras-simples\"></a>\n",
    "### Gráfico de barras simples\n",
    "\n",
    "Neste exemplo de gráfico de barras, considere o **total de streams no Spotify para as músicas solo e colaborativas** mais populares em 2020. \n",
    "\n",
    "No exemplo a seguir, mostramos como construir um gráfico de barras simples usando _Matplotlib_ e _Seaborn_. Para cada tipo de música, desenhamos uma barra que começa em zero e se estende até o valor de streams."
   ]
  },
  {
   "cell_type": "code",
   "execution_count": null,
   "metadata": {
    "cell_style": "split"
   },
   "outputs": [],
   "source": [
    "# Criando um gráfico de barras horizontal no Matplotlib\n",
    "fig, ax = plt.subplots()                   # Inicializa a figura\n",
    "fig.set_size_inches(7, 1.5)                # Define o tamanho da figura (em polegadas)\n",
    "\n",
    "ax.barh(y=df['Tipos de Música'],           # Define a variável do eixo y\n",
    "        width=df['Total de Streams'])      # Define a variável do tamanho da barra\n",
    "\n",
    "ax.set_xlabel('Total de Streams')          # Título do eixo x\n",
    "ax.set_ylabel('Tipos de Música')           # Título do eixo y\n",
    "\n",
    "plt.show()                                 # Oculta a saída da console do Matplotlib"
   ]
  },
  {
   "cell_type": "code",
   "execution_count": null,
   "metadata": {
    "cell_style": "split"
   },
   "outputs": [],
   "source": [
    "# Criando um gráfico de barras horizontal no Seaborn\n",
    "sns.barplot(\n",
    "    data=df,                                    # Define o DataFrame de origem dos dados\n",
    "    x=\"Total de Streams\",                       # Coluna com os dados do eixo x do gráfico\n",
    "    y=\"Tipos de Música\",                        # Coluna com os dados do eixo y do gráfico\n",
    "    order=['Solo', 'Collaboration'],            # Ordem das classes do eixo y\n",
    "    color='#3274A1'                             # Cor das barras\n",
    ")     \n",
    "\n",
    "plt.gcf().set_size_inches(7, 1.5)               # Define o tamanho da figura (em polegadas)\n",
    "plt.show()                                      # Oculta a saída da console do Seaborn"
   ]
  },
  {
   "cell_type": "markdown",
   "metadata": {},
   "source": [
    "> **IMPORTANTE:** Na grande maioria dos casos, as bibliotecas Matplotlib e Seaborn são equivalentes, ou seja, o mesmo gráfico pode ser gerado pelas duas bibliotecas. Neste minicurso, optamos sempre pela que apresentar o código mais simples."
   ]
  },
  {
   "cell_type": "markdown",
   "metadata": {},
   "source": [
    "<a id=\"barras-agrupadas\"></a>\n",
    "### Gráfico de barras agrupadas\n",
    "\n",
    "O exemplo anterior mostra como uma quantidade quantitativa varia em relação a uma variável categórica. Entretanto, frequentemente, estamos interessados em **duas variáveis categóricas ao mesmo tempo**. \n",
    "\n",
    "Considere, por exemplo, que queremos saber o total de streams de acordo com a <ins>expliciticidade das músicas, além do tipo da música</ins>. \n",
    "\n",
    "Em primeiro lugar, precisamos ragrupar os dados de música, agora de acordo com essas duas variáveis."
   ]
  },
  {
   "cell_type": "code",
   "execution_count": null,
   "metadata": {},
   "outputs": [],
   "source": [
    "# Agrupando o DataFrame 'data' pelo tipo de música e a expliciticidade e agregando os valores das variáveis numéricas\n",
    "df = data.groupby(by=['song_type', 'explicit']).sum()\n",
    "df = df.reset_index()\n",
    "df.head()"
   ]
  },
  {
   "cell_type": "code",
   "execution_count": null,
   "metadata": {},
   "outputs": [],
   "source": [
    "# Criando o DataFrame\n",
    "df = pd.DataFrame({\n",
    "    'Tipos de Música': df.song_type,\n",
    "    'Total de Streams': df.streams,\n",
    "    'Explícita': df.explicit,\n",
    "})"
   ]
  },
  {
   "cell_type": "markdown",
   "metadata": {},
   "source": [
    "Agora, podemos plotar um gráfico de barras agrupados no Seaborn utilizando a mesma função `barplot`. A segunda variável categórica é adicionada no parâmetro `hue`. "
   ]
  },
  {
   "cell_type": "code",
   "execution_count": null,
   "metadata": {
    "cell_style": "center"
   },
   "outputs": [],
   "source": [
    "# Criando um gráfico de barras agrupadas\n",
    "sns.barplot(\n",
    "    x=\"Tipos de Música\",             # Coluna com os dados do eixo x do gráfico\n",
    "    y=\"Total de Streams\",            # Coluna com os dados do eixo y do gráfico\n",
    "    hue=\"Explícita\",                 # Coluna com a segunda variável categórica a ser analisada\n",
    "    data=df                          # Dataframe de origem dos dados\n",
    ")\n",
    "\n",
    "plt.gcf().set_size_inches(7, 2.5)    # Define o tamanho da figura (em polegadas)"
   ]
  },
  {
   "cell_type": "markdown",
   "metadata": {},
   "source": [
    "---\n",
    "\n",
    "<a id=\"distribuicao\"></a>\n",
    "## Distribuição\n",
    "\n",
    "O próximo tipo de visualização de dados são as distribuições, onde estamos interessados em entender **como uma determinada variável é distribuída em um conjunto de dados**. \n",
    "\n",
    "Por exemplo, podemos querer visualizar a distribuição da popularidade ou número de seguidores de artistas de sucesso. Uma das formas mais comuns de visualizar informações deste tipo é usando histogramas. No entanto, existem outras visualizações alternativas, incluindo gráficos de densidade e _boxplots_."
   ]
  },
  {
   "cell_type": "markdown",
   "metadata": {},
   "source": [
    "<a id=\"histograma\"></a>\n",
    "### Histograma\n",
    "\n",
    "É uma representação gráfica da **distribuição de uma variável numérica**. Neste tipo de gráfico, a variável é dividida em várias barras e o número de observações por barra é representado pela altura da barra. \n",
    "\n",
    "Para exemplificar, considere a <ins>distribuição da popularidade dos artistas de músicas populares de 2020</ins>. Especificamente, para cada artista, plotamos a distribuição da variável `popularity`, dividida por intervalos de tamanho igual a dez. \n",
    "\n",
    "> **IMPORTANTE:** Novamente, note que já criamos visualizações com gráficos de barras no notebook anterior, mas o foco aqui reside na construção da visualização, apresentando comandos Python mais poderosos."
   ]
  },
  {
   "cell_type": "code",
   "execution_count": null,
   "metadata": {},
   "outputs": [],
   "source": [
    "# Criando o DataFrame\n",
    "df = pd.DataFrame({\n",
    "    'Artista': df_artistas.name,\n",
    "    'Popularidade': df_artistas.popularity,\n",
    "})"
   ]
  },
  {
   "cell_type": "code",
   "execution_count": null,
   "metadata": {},
   "outputs": [],
   "source": [
    "# Criando um histograma simples no Seaborn\n",
    "sns.histplot(\n",
    "    df[\"Popularidade\"],\n",
    "    kde=False,\n",
    "    bins=10\n",
    ");"
   ]
  },
  {
   "cell_type": "markdown",
   "metadata": {},
   "source": [
    "O parâmetro `kde` aproxima uma função de distribuição de probabilidades sobre o conjunto de dados."
   ]
  },
  {
   "cell_type": "code",
   "execution_count": null,
   "metadata": {},
   "outputs": [],
   "source": [
    "# Criando um histograma simples no Seaborn\n",
    "sns.histplot(\n",
    "    df[\"Popularidade\"],\n",
    "    kde=True,\n",
    "    bins=10\n",
    ");"
   ]
  },
  {
   "cell_type": "markdown",
   "metadata": {},
   "source": [
    "<a id=\"densidade\"></a>\n",
    "### Gráfico de densidade\n",
    "\n",
    "Em geral, histogramas são utilizados para visualizar uma única distribuição. No entanto, para visualizar <ins>mais de uma distribuição simultaneamente</ins>, gráficos de densidade são mais apropriados. \n",
    "\n",
    "Aqui, a distribuição é visualizada através de uma **curva contínua**. Essa curva precisa ser estimada a partir dos dados e o método mais comumente usado para esse procedimento de estimativa é chamado de <ins>estimativa de densidade de kernel</ins>. \n",
    "\n",
    "A seguir, utilizamos o kernel gaussiano do método `seaborn.kdeplot` para estimar a distribuição da popularidade de cada tipo de música presente no nosso conjunto de dados."
   ]
  },
  {
   "cell_type": "code",
   "execution_count": null,
   "metadata": {},
   "outputs": [],
   "source": [
    "# Criando o DataFrame\n",
    "df = pd.DataFrame({\n",
    "    'Popularidade': df_hits.popularity,\n",
    "    'Tipo de Música': df_hits.song_type,\n",
    "})"
   ]
  },
  {
   "cell_type": "markdown",
   "metadata": {},
   "source": [
    "> **DICA:** Para retornar apenas a popularidade das músicas Solo, basta executar `df.loc[df['Tipo de Música'] == 'Solo', 'Popularidade']`. "
   ]
  },
  {
   "cell_type": "code",
   "execution_count": null,
   "metadata": {},
   "outputs": [],
   "source": [
    "# Plotando duas distribuições em uma mesma figura\n",
    "\n",
    "# Plot da distribuição das músicas Solo\n",
    "sns.kdeplot(\n",
    "    df.loc[df['Tipo de Música'] == 'Solo', 'Popularidade'], # Dataframe fonte dos dados\n",
    "    shade=True,                                             # Sombra das curvas\n",
    "    label='Solo'                                            # nome da curva (legenda)                            \n",
    ")\n",
    "\n",
    "# Plot da distribuição das músicas Collaboration\n",
    "sns.kdeplot(\n",
    "    df.loc[df['Tipo de Música'] == 'Collaboration', 'Popularidade'], # Dataframe fonte dos dados\n",
    "    shade=True,                                                      # Sombra das curvas\n",
    "    label='Collaboration'                                            # nome da curva (legenda)\n",
    ")\n",
    "\n",
    "# Configurações gerais do gráfico\n",
    "plt.xlabel(\"Popularidade\")                                  # Título do eixo x\n",
    "plt.ylabel(\"Densidade\")                                     # Título do eixo y\n",
    "plt.legend(loc='upper left')                                # Posição da caixa com a legenda\n",
    "\n",
    "plt.gcf().set_size_inches([7, 4.25])                        # Define o tamanho da figura (em)"
   ]
  },
  {
   "cell_type": "markdown",
   "metadata": {},
   "source": [
    "<a id=\"boxplots\"></a>\n",
    "### Boxplots e Gráficos Violino\n",
    "\n",
    "Assim como os gráficos de densidade, *boxplots* são uma ótima maneira de visualizar distribuições. \n",
    "\n",
    "Este tipo de visualização tem a vantagem de ocupar **pouco espaço**, o que é útil ao comparar distribuições entre <ins>muitos grupos</ins> ou conjuntos de dados. \n",
    "\n",
    "Aqui, visualizamos as mesmas distribuições do exemplo anterior, porém agora, utilizando o método `seaborn.boxplot`."
   ]
  },
  {
   "cell_type": "code",
   "execution_count": null,
   "metadata": {},
   "outputs": [],
   "source": [
    "# Criando um boxplot básico no Seaborn\n",
    "sns.boxplot(x=df[\"Tipo de Música\"], y=df[\"Popularidade\"]);"
   ]
  },
  {
   "cell_type": "markdown",
   "metadata": {},
   "source": [
    "Podemos aprimorar nosso boxplot adicionando novas informações, como por exemplo a média e intervalo de confiança ao redor da mediana. Para isso, utilizamos os parâmetros:\n",
    "\n",
    "- `notch`: achata a caixa de forma a indicar o intervalo de confiança ao redor da mediana (o padrão é 95%);\n",
    "- `showmeans`: exibe o valor médio da distribuição;\n",
    "- `meanprops`: personaliza características do indicador da média como símbolo, cor, etc."
   ]
  },
  {
   "cell_type": "code",
   "execution_count": null,
   "metadata": {},
   "outputs": [],
   "source": [
    "# Aprimorando um boxplot no Seaborn\n",
    "sns.boxplot(\n",
    "    x=df[\"Tipo de Música\"], \n",
    "    y=df[\"Popularidade\"],\n",
    "    \n",
    "    # Novos parâmetros adicionados \n",
    "    notch=True,\n",
    "    showmeans=True,\n",
    "    meanprops={\n",
    "        \"markerfacecolor\":\"black\",   # Cor do preenchimento do símbolo\n",
    "        \"markeredgecolor\":\"black\",   # Cor das bordas do símbolo\n",
    "        \"markersize\":\"7\"             # Tamanho do símbolo\n",
    "    }\n",
    ");"
   ]
  },
  {
   "cell_type": "markdown",
   "metadata": {},
   "source": [
    "Se considerarmos o *boxplot* anterior, aparentemente, podemos concluir que as <ins>colaborações são em média mais populares do que as músicas solo</ins>. \n",
    "\n",
    "No entanto, **não** podemos ver a distribuição subjacente de pontos em cada categoria ou o número de observações. \n",
    "\n",
    "Uma alternativa é utilizar **gráficos violino**, que descrevem a distribuição permitindo uma compreensão mais profunda da distribuição. A seguir, utilizamos o método `seaborn.violinplot` para melhor visualizarmos as distribuições anteriores."
   ]
  },
  {
   "cell_type": "code",
   "execution_count": null,
   "metadata": {},
   "outputs": [],
   "source": [
    "# Criando um gráfico violino\n",
    "sns.violinplot(x=df[\"Tipo de Música\"], y=df[\"Popularidade\"]);"
   ]
  },
  {
   "cell_type": "markdown",
   "metadata": {},
   "source": [
    "---\n",
    "\n",
    "<a id=\"correlacao\"></a>\n",
    "## Correlação\n",
    "\n",
    "Ao visualizarmos uma correlação, estamos interessados em analisar **como duas variáveis se relacionam entre si**. \n",
    "\n",
    "Para representar graficamente a relação de duas dessas variáveis, por exemplo, a <ins>popularidade e a duração da música</ins>, geralmente utilizamos um gráfico de dispersão. \n",
    "\n",
    "Nos exemplos a seguir, vamos explorar o gráfico de dispersão básico e algumas variações, incluindo gráficos de bolhas e correlogramas. Para todos os exemplos, consideramos a tabela `Track` do conjunto de dados."
   ]
  },
  {
   "cell_type": "markdown",
   "metadata": {},
   "source": [
    "<a id=\"dispersao\"></a>\n",
    "### Gráfico de Dispersão\n",
    "\n",
    "Neste gráfico, para cada instância dos dados (representada por um ponto), o valor de sua primeira variável é representado no eixo X, a segunda no eixo Y. \n",
    "\n",
    "A seguir, plotamos dois gráficos de dispersão sobre a popularidade em relação à duração e energia das músicas, respectivamente. Para isso, utilizamos o método `matplotlib.pyplot.scatter`."
   ]
  },
  {
   "cell_type": "code",
   "execution_count": null,
   "metadata": {},
   "outputs": [],
   "source": [
    "fig, ax = plt.subplots(ncols=2, figsize=(10, 5))\n",
    "\n",
    "# popularidade vs. duração\n",
    "ax[0].scatter(x = df_hits['popularity'], y = df_hits['duration_ms']) \n",
    "ax[0].set_xlabel(\"Popularidade\")\n",
    "ax[0].set_ylabel(\"Duração (ms)\")\n",
    "\n",
    "# popularidade vs. energia\n",
    "ax[1].scatter(x = df_hits['popularity'], y = df_hits['energy']) \n",
    "ax[1].set_xlabel(\"Popularidade\")\n",
    "ax[1].set_ylabel(\"Energia\");"
   ]
  },
  {
   "cell_type": "markdown",
   "metadata": {},
   "source": [
    "> **DICA:** Geralmente, linhas ou curvas são ajustadas dentro do gráfico de dispersão para auxiliar a análise. Utilizando o método `seaborn.regplot`, plotamos os mesmos gráficos de dispersão mas, agora, com uma reta vermelha representando o ajuste linear."
   ]
  },
  {
   "cell_type": "code",
   "execution_count": null,
   "metadata": {},
   "outputs": [],
   "source": [
    "fig, axs = plt.subplots(ncols=2, figsize=(10, 5)) # Inicializa a figura\n",
    "\n",
    "# Criando um gráfico de dispersão com o ajuste linear\n",
    "sns.regplot(\n",
    "    x='popularity', \n",
    "    y='duration_ms', \n",
    "    data=df_hits,\n",
    "    ax=axs[0], \n",
    "    # Personalização da linha\n",
    "    line_kws={\"color\":\"r\",\n",
    "              \"alpha\":0.7}\n",
    ")\n",
    "axs[0].set(xlabel='Popularity', ylabel='Duração (ms)')\n",
    "\n",
    "\n",
    "sns.regplot(\n",
    "    x='popularity', \n",
    "    y='energy', \n",
    "    data=df_hits,\n",
    "    ax=axs[1], \n",
    "    # Personalização da linha\n",
    "    line_kws={\"color\":\"r\",\n",
    "              \"alpha\":0.7}\n",
    ")\n",
    "axs[1].set(xlabel='Popularity', ylabel='Energia');"
   ]
  },
  {
   "cell_type": "markdown",
   "metadata": {},
   "source": [
    "<a id=\"bolhas\"></a>\n",
    "### Gráfico de bolhas\n",
    "\n",
    "É um gráfico de dispersão onde uma **terceira dimensão é adicionada**.\n",
    "\n",
    "Este tipo de gráfico recebe três variáveis numéricas como entrada: uma é representada pelo eixo x, uma pelo eixo y e uma pelo tamanho dos pontos. \n",
    "\n",
    "No exemplo a seguir, vamos juntar as três variáveis do exemplo anterior: <ins>duração em milissegundos, popularidade e energia</ins>. \n",
    "\n",
    "Vamos utilizar a função `seaborn.scatterplot()` para criar um gráfico de bolhas. Esta função possui um parâmetro que controla o tamanho do círculo de acordo com uma variável numérica do conjunto de dados. No nosso caso, a variável numérica consiste no atributo `energy`."
   ]
  },
  {
   "cell_type": "code",
   "execution_count": null,
   "metadata": {},
   "outputs": [],
   "source": [
    "fig, ax = plt.subplots(figsize=(5, 5))\n",
    "\n",
    "sns.scatterplot(\n",
    "    data=df_hits,\n",
    "    x=\"popularity\", \n",
    "    y=\"duration_ms\",\n",
    "    size=\"energy\", \n",
    "    alpha=0.5,\n",
    "    sizes=(5, 100)\n",
    ")\n",
    "\n",
    "ax.set_xlabel('Popularidade')\n",
    "ax.set_ylabel('Duração (ms)')\n",
    "plt.legend(title='Energy', loc='upper left', fontsize=13);"
   ]
  },
  {
   "cell_type": "markdown",
   "metadata": {},
   "source": [
    "<a id=\"correlogramas\"></a>\n",
    "### Correlogramas\n",
    "\n",
    "Quando queremos analisar visualmente a **correlação entre muitas variáveis** de uma só vez, correlogramas podem ser uma boa opção.\n",
    "\n",
    "Meste tipo de gráfico, a relação entre cada par de variáveis é visualizada através de um gráfico de dispersão, enquanto a diagonal representa a distribuição de cada variável, usando um histograma ou um gráfico de densidade.\n",
    "\n",
    "> **DICA:** Utilizar a função `seaborn.pairplot()` é definitivamente a melhor maneira de construir um correlograma em Python. \n",
    "\n",
    "No exemplo a seguir, vamos criar um correlograma básico de um subconjunto de quatro variáveis numéricas do nosso conjunto de músicas."
   ]
  },
  {
   "cell_type": "code",
   "execution_count": null,
   "metadata": {},
   "outputs": [],
   "source": [
    "df = df_hits[['popularity', 'acousticness', 'energy']]\n",
    "sns.pairplot(df); # criando um correlograma"
   ]
  },
  {
   "cell_type": "markdown",
   "metadata": {},
   "source": [
    "---\n",
    "\n",
    "<a id=\"evolucao\"></a>\n",
    "## Evolução\n",
    "\n",
    "Ao visualizarmos uma evolução, estamos interessados em analisar uma <ins>tendência</ins> nos dados ao longo de intervalos de tempo — uma **série temporal**. \n",
    "\n",
    "Nestes casos, **gráficos de linha e de área** são frequentemente utilizados, sendo semelhantes a um gráfico de dispersão, porém os pontos de medição são ordenados e unidos com segmentos de linha reta. \n",
    "\n",
    "Nos exemplos a seguir, vamos analisar a evolução de algumas variáveis do nosso conjunto de dados `Charts`, utilizando gráficos de linha e de área."
   ]
  },
  {
   "cell_type": "code",
   "execution_count": null,
   "metadata": {},
   "outputs": [],
   "source": [
    "# Junção dos dois DataFrames\n",
    "df_merged = pd.merge(df_charts, df_hits, on='song_id')\n",
    "df_merged.head()"
   ]
  },
  {
   "cell_type": "code",
   "execution_count": null,
   "metadata": {},
   "outputs": [],
   "source": [
    "# Agrupando o DataFrame resultante pela semana do chart e calculando a média das variáveis numéricas\n",
    "df = df_merged.groupby(['chart_week']).mean()\n",
    "df = df.reset_index()\n",
    "df.head()"
   ]
  },
  {
   "cell_type": "markdown",
   "metadata": {},
   "source": [
    "<a id=\"linha\"></a>\n",
    "### Gráfico de linha\n",
    "\n",
    "Exibe a evolução de uma ou várias variáveis numéricas, onde os dados são conectados por segmentos de linha reta e são frequentemente usados para **visualizar tendências e analisar como os dados mudaram ao longo do tempo**. \n",
    "\n",
    "A seguir, mostramos a construção de um gráfico de linha, analisando a evolução da média de streams durante 2020. Inicialmente, utilizamos a função `matplotlib.pyplot.plot()` para criar um gráfico de dispersão e, em seguida, usamos a mesma função para criar o gráfico de linha simples."
   ]
  },
  {
   "cell_type": "code",
   "execution_count": null,
   "metadata": {},
   "outputs": [],
   "source": [
    "fig, ax = plt.subplots(figsize=(15, 5))\n",
    "\n",
    "ax.plot('chart_week', 'streams', '-', data=df)\n",
    "ax.set_ylabel(\"Média de streams\")\n",
    "\n",
    "plt.show()"
   ]
  },
  {
   "cell_type": "markdown",
   "metadata": {},
   "source": [
    "Com os pontos conectados por uma linha, a visualização dá **mais ênfase à tendência geral dos dados** e menos às observações individuais. \n",
    "\n",
    "Para enfatizar ainda mais a tendência geral nos dados, também <ins>é possível preencher a área sob a curva</ins> com uma cor sólida. Neste caso, criaríamos um gráfico de área, exemplificado a seguir."
   ]
  },
  {
   "cell_type": "markdown",
   "metadata": {},
   "source": [
    "<a id=\"area\"></a>\n",
    "\n",
    "### Gráfico de área\n",
    "\n",
    "Assim como os gráficos de linha, os gráficos de área são usados para exibir a evolução de valores quantitativos cronologicamente. Eles são mais comumente usados para mostrar **tendências**, em vez de transmitir valores específicos. \n",
    "\n",
    "Para criar um gráfico de área simples, existem duas funções principais usando Matplotlib: `fill_between()` e `stackplot()`. A seguir, plotamos a mesma série temporal do exemplo anterior, mas utilizando ambas funções."
   ]
  },
  {
   "cell_type": "code",
   "execution_count": null,
   "metadata": {},
   "outputs": [],
   "source": [
    "fig, ax = plt.subplots(figsize=(15, 5))\n",
    "\n",
    "ax.plot('chart_week', 'streams', '-', data=df)\n",
    "ax.fill_between('chart_week', 'streams', data=df)  # preenche a área de área\n",
    "ax.set_ylabel(\"Média de streams\");"
   ]
  },
  {
   "cell_type": "markdown",
   "metadata": {},
   "source": [
    "---\n",
    "\n",
    "## Conclusão\n",
    "\n",
    "Este notebook apresentou as principais técnicas de visualização de dados usando Jupyter.\n",
    "\n",
    "O próximo notebook ([6.1.IPython.ipynb](6.1.IPython.ipynb)) apresenta IPython, iniciando a seção de Jupyter Avançado."
   ]
  },
  {
   "cell_type": "markdown",
   "metadata": {},
   "source": [
    "<br><br><br>\n",
    "<a id=\"extra\"></a>\n",
    "\n",
    "---\n",
    "---\n",
    "\n",
    "## Conteúdo Extra \n",
    "\n",
    "### Personalização\n",
    "\n",
    "Uma das maiores vantagens de se usar o Matplotlib/Seaborn para gerar gráficos é que você pode **personalizar** absolutamente (ou quase) tudo neles. \n",
    "\n",
    "> **DICA:** A quantidade de opções disponíveis para personalização é imensa, e uma das vantagens de se usar uma linguagem de programação tão popular quanto Python é a grande **disponibilidade de exemplos e tutoriais** sobre isso na Internet. \n",
    "\n",
    "Aqui, vamos focar em quatro tipos de personalização básicas:\n",
    "\n",
    "- [Cores](#cores)\n",
    "- [Estilos](#estilos)\n",
    "- [Eixos](#eixos)\n",
    "- [Fontes](#fontes)\n",
    "\n",
    "Essas personalizações podem transformar os gráficos, deixando-os mais <ins>sofisticados e apresentáveis</ins>.\n",
    "\n",
    "Para ilustrar melhor, vamos trabalhar com um gráfico de linhas para acompanhar a **evolução da média de streams de músicas solo e colaborações em 2020**. "
   ]
  },
  {
   "cell_type": "code",
   "execution_count": null,
   "metadata": {},
   "outputs": [],
   "source": [
    "# Monta os DataFrames que servirão de base para gerar os gráficos\n",
    "df_evolution = pd.merge(df_charts, df_hits, on='song_id')[['chart_week', 'song_type', 'streams']]\n",
    "\n",
    "df_solo = df_evolution[df_evolution['song_type'] == 'Solo'].groupby(by=['chart_week']).mean()\n",
    "df_collab = df_evolution[df_evolution['song_type'] == 'Collaboration'].groupby(by=['chart_week']).mean()"
   ]
  },
  {
   "cell_type": "code",
   "execution_count": null,
   "metadata": {},
   "outputs": [],
   "source": [
    "# Define o tamanho da figura\n",
    "fig, ax = plt.subplots(figsize=(15, 4))        # O tamanho será de 15x4 polegadas (largura, altura)\n",
    "\n",
    "# Plota a linha de evolução da soma dos streams pra músicas Solo/Collab\n",
    "ax.plot(df_solo, label=\"Solo\")\n",
    "ax.plot(df_collab, label=\"Collaboration\")\n",
    "\n",
    "# Mostra a legenda (cada cor uma tipo)\n",
    "plt.legend()\n",
    "\n",
    "# Altera nome dos eixos\n",
    "plt.xlabel(\"\")                                 # Aqui optei por tirar o nome do eixo x, mas poderia ser 'Data'\n",
    "plt.ylabel(\"Streams\")\n",
    "\n",
    "# Exibir e salvar\n",
    "plt.show()                                     # Esse comando é somente para mostrar a figura aqui embaixo"
   ]
  },
  {
   "cell_type": "markdown",
   "metadata": {},
   "source": [
    "<a name=\"cores\"></a>\n",
    "#### Cores\n",
    "\n",
    "Quando plotamos gráficos no Matplotlib, o pacote geralmente utiliza as cores padrão, que nem sempre são as melhores ou mais apresentáveis. Felizmente, podemos facilmente alterar as cores das coisas que plotamos através do parâmetro `color` da função `plot`. \n",
    "\n",
    "O Matplotlib aceita algumas cores [nomeadas](https://matplotlib.org/stable/gallery/color/named_colors.html) e também códigos hexadecimais, RGB e CMYK. \n",
    "\n",
    "Aqui, escolhemos a cor de cada linha através de seu código hexadecimal. Por exemplo, para músicas Solo, escolhemos uma cor cujo código é `#1b9e77`."
   ]
  },
  {
   "cell_type": "code",
   "execution_count": null,
   "metadata": {},
   "outputs": [],
   "source": [
    "# Define o tamanho da figura\n",
    "fig, ax = plt.subplots(figsize=(15, 4))        # O tamanho será de 15x4 polegadas (largura, altura)\n",
    "\n",
    "# Plota a linha de evolução da soma dos streams pra músicas Solo/Collab\n",
    "ax.plot(df_solo, label=\"Solo\", color=\"#1b9e77\")\n",
    "ax.plot(df_collab, label=\"Collaboration\", color=\"#d95f02\")\n",
    "\n",
    "# Mostra a legenda (cada cor uma tipo)\n",
    "plt.legend()\n",
    "\n",
    "# Altera nome dos eixos\n",
    "plt.xlabel(\"\")                                 # Aqui optei por tirar o nome do eixo x, mas poderia ser 'Data'\n",
    "plt.ylabel(\"Streams\")\n",
    "\n",
    "# Exibir e salvar\n",
    "plt.show()                                     # Esse comando é somente para mostrar a figura aqui embaixo"
   ]
  },
  {
   "cell_type": "markdown",
   "metadata": {},
   "source": [
    "<a name=\"estilos\"></a>\n",
    "#### Estilos\n",
    "\n",
    "Um outro ponto que devemos nos preocupar é o estilo das linhas. Na vida profissional, é bastante comum fazer gráficos para serem anexadas em artigos e/ou relatórios, que quase sempre são impressos em escala de cinza. Assim, as cores das linhas que serviam para diferenciá-las umas das outras, perdem sua utilidade pois muitas são impressas em tons muito semelhantes de cinza. \n",
    "\n",
    "Portanto, é necessário encontrar uma forma a mais para diferenciá-las. O Matplotlib nos oferece a opção de escolher [estilos variádos](https://matplotlib.org/stable/gallery/lines_bars_and_markers/linestyles.html) para nossas linhas (contínua, pontilhada, tracejada, etc.) através do parâmetro `linestyle` presente na função `plot`."
   ]
  },
  {
   "cell_type": "code",
   "execution_count": null,
   "metadata": {},
   "outputs": [],
   "source": [
    "# Define o tamanho da figura\n",
    "fig, ax = plt.subplots(figsize=(15, 4))        # O tamanho será de 15x4 polegadas (largura, altura)\n",
    "\n",
    "# Plota a linha de evolução da soma dos streams pra músicas Solo/Collab\n",
    "ax.plot(df_solo, label=\"Solo\", color=\"#1b9e77\", linestyle=\"-\")\n",
    "ax.plot(df_collab, label=\"Collaboration\", color=\"#d95f02\", linestyle=\"-.\")\n",
    "\n",
    "# Mostra a legenda (cada cor uma tipo)\n",
    "plt.legend()\n",
    "\n",
    "# Altera nome dos eixos\n",
    "plt.xlabel(\"\")                                 # Aqui optei por tirar o nome do eixo x, mas poderia ser 'Data'\n",
    "plt.ylabel(\"Streams\")\n",
    "\n",
    "# Exibir e salvar\n",
    "plt.show()                                     # Esse comando é somente para mostrar a figura aqui embaixo"
   ]
  },
  {
   "cell_type": "markdown",
   "metadata": {},
   "source": [
    "<a name=\"eixos\"></a>\n",
    "#### Eixos\n",
    "\n",
    "Os eixos também são partes importantes dos nossos gráficos, pois lá estão contidas informações relevantes sobre escalas, valores de referência e nome das variáveis categóricas. Aqui, nossas alterações focam em dois pontos principais:\n",
    "\n",
    "- Remoção das bordas da figura do gráfico (através do método `spines`)\n",
    "- Adição de *grids* internos para facilitar a visualização de pontos no gráfico"
   ]
  },
  {
   "cell_type": "code",
   "execution_count": null,
   "metadata": {},
   "outputs": [],
   "source": [
    "from matplotlib.dates import DateFormatter"
   ]
  },
  {
   "cell_type": "code",
   "execution_count": null,
   "metadata": {},
   "outputs": [],
   "source": [
    "# Define o tamanho da figura\n",
    "fig, ax = plt.subplots(figsize=(15, 4))        # O tamanho será de 15x4 polegadas (largura, altura)\n",
    "\n",
    "# Plota a linha de evolução da soma dos streams pra músicas Solo/Collab\n",
    "ax.plot(df_solo, label=\"Solo\", color=\"#1b9e77\", linestyle=\"-\")\n",
    "ax.plot(df_collab, label=\"Collaboration\", color=\"#d95f02\", linestyle=\"-.\")\n",
    "\n",
    "# Mostra a legenda (cada cor uma tipo)\n",
    "plt.legend()\n",
    "\n",
    "# Altera nome dos eixos\n",
    "plt.xlabel(\"\")                                 # Aqui optei por tirar o nome do eixo x, mas poderia ser 'Data'\n",
    "plt.ylabel(\"Streams\")\n",
    "\n",
    "# Formata o texto dos eixos\n",
    "ax.xaxis.set_major_formatter(DateFormatter(\"%b/%Y\")) # Formato da data (%b - abreviação do mês)\n",
    "\n",
    "# Remove bordas e ticks dos eixos x e y\n",
    "ax.spines['top'].set_visible(False)\n",
    "ax.spines['right'].set_visible(False)\n",
    "ax.spines['bottom'].set_visible(False)\n",
    "ax.spines['left'].set_visible(False)\n",
    "ax.tick_params(axis=u'both', which=u'both',length=0)\n",
    "\n",
    "# Adiciona grid interno\n",
    "ax.xaxis.grid(linestyle='-', color='#ededed')\n",
    "ax.yaxis.grid(linestyle='-', color='#d1d1d1')\n",
    "\n",
    "# Exibir e salvar\n",
    "plt.show()                                     # Esse comando é somente para mostrar a figura aqui embaixo"
   ]
  },
  {
   "cell_type": "markdown",
   "metadata": {},
   "source": [
    "<a name=\"fontes\"></a>\n",
    "#### Fontes\n",
    "\n",
    "A última personalização desse Notebook diz respeito às fontes usadas no gráfico. O Matplotlib permite ao usuário utilizar qualquer fonte instalada em seu computador nos gráficos. Além disso, o tamanho das fontes nos eixos, legendas e título podem ser alteradas separadamente (ou seja, podemos aplicar valores distintos) para deixar nosso gráfico mais adequado ao seu propósito.\n",
    "\n",
    "Neste último exemplo, aumentamos o tamanho do texto da legenda e do eixo y através do parâmetro `fontsize`."
   ]
  },
  {
   "cell_type": "code",
   "execution_count": null,
   "metadata": {},
   "outputs": [],
   "source": [
    "# Define o tamanho da figura\n",
    "fig, ax = plt.subplots(figsize=(15, 4))        # O tamanho será de 15x4 polegadas (largura, altura)\n",
    "\n",
    "# Plota a linha de evolução da soma dos streams pra músicas Solo/Collab\n",
    "ax.plot(df_solo, label=\"Solo\", color=\"#1b9e77\", linestyle=\"-\")\n",
    "ax.plot(df_collab, label=\"Collaboration\", color=\"#d95f02\", linestyle=\"-.\")\n",
    "\n",
    "# Mostra a legenda (cada cor uma tipo)\n",
    "plt.legend(fontsize=11.5)\n",
    "\n",
    "# Altera nome dos eixos\n",
    "ax.set_xlabel(\"\")                              # Aqui optei por tirar o nome do eixo x, mas poderia ser 'Data'\n",
    "ax.set_ylabel(\"Streams\", fontsize=11.5)\n",
    "\n",
    "# Formata o texto dos eixos\n",
    "ax.xaxis.set_major_formatter(DateFormatter(\"%b/%Y\")) # Formato da data (%b - abreviação do mês)\n",
    "\n",
    "# Remove bordas e ticks dos eixos x e y\n",
    "ax.spines['top'].set_visible(False)\n",
    "ax.spines['right'].set_visible(False)\n",
    "ax.spines['bottom'].set_visible(False)\n",
    "ax.spines['left'].set_visible(False)\n",
    "ax.tick_params(axis=u'both', which=u'both',length=0)\n",
    "\n",
    "# Adiciona grid interno\n",
    "ax.xaxis.grid(linestyle='-', color='#ededed')\n",
    "ax.yaxis.grid(linestyle='-', color='#d1d1d1')\n",
    "\n",
    "# Exibir e salvar\n",
    "#plt.savefig('lineplot.pdf')                    # Salva a imagem em formato PDF \n",
    "plt.show()                                     # Esse comando é somente para mostrar a figura aqui embaixo"
   ]
  },
  {
   "cell_type": "markdown",
   "metadata": {},
   "source": [
    "<br><br>\n",
    "<a id=\"interativos\"></a>\n",
    "\n",
    "---\n",
    "\n",
    "### Gráficos interativos\n",
    "\n",
    "Uma outra possibilidade do Jupyter é a construção de **ferramentas interativas** com o IPython. Este já é um conceito mais avançado, que será detalhado na próxima parte do curso.\n",
    "\n",
    "Aqui, vamos nos concentrar na apresentação de gráficos interativos utilizando as bibliotecas `plotly` e `cufflinks`.\n",
    "\n",
    "> **IMPORTANTE:** Se você ainda não possui essas bibliotecas instaladas, utilize o comando `!pip install plotly & pip install cufflinks` em uma célula separada."
   ]
  },
  {
   "cell_type": "code",
   "execution_count": null,
   "metadata": {},
   "outputs": [],
   "source": [
    "%matplotlib inline\n",
    "from IPython.display import HTML\n",
    "\n",
    "import plotly.offline as py\n",
    "from plotly.offline import iplot\n",
    "import plotly.graph_objs as go\n",
    "\n",
    "import cufflinks as cf\n",
    "cf.go_offline()\n",
    "cf.set_config_file(offline=False, world_readable=True)"
   ]
  },
  {
   "cell_type": "markdown",
   "metadata": {},
   "source": [
    "Vamos continuar no exemplo do gráfico de linhas para comparar a evolução da média de streams de músicas solo e colaborações em 2020. "
   ]
  },
  {
   "cell_type": "code",
   "execution_count": null,
   "metadata": {},
   "outputs": [],
   "source": [
    "# Conjunto de dados que serão plotados no gráfico interativo\n",
    "# A variável data contém as duas linhas (Solo/Collab)\n",
    "data = [go.Scatter(x=df_solo.index, y=df_solo['streams'], marker_color='#1b9e77', name='Solo'),\n",
    "        go.Scatter(x=df_collab.index, y=df_collab['streams'], marker_color='#d95f02', name='Collaboration')]\n",
    "\n",
    "# Configura alguns parâmetros do plot, como título e nome dos eixos\n",
    "layout = go.Layout(title=\"Stream Comparison of Songs\", yaxis=dict(title='Average Streams'))\n",
    "\n",
    "fig = go.Figure(data=data, layout=layout)\n",
    "py.iplot(fig)"
   ]
  },
  {
   "cell_type": "markdown",
   "metadata": {},
   "source": [
    "Agora, vamos para um exemplo mais prático, que é a **matriz de correlação** entre as features acústicas dos `Hits`. \n",
    "\n",
    "Esta matriz foi introduzida no notebook anterior, quando discutimos o conceito de correlações."
   ]
  },
  {
   "cell_type": "code",
   "execution_count": null,
   "metadata": {},
   "outputs": [],
   "source": [
    "df_hits.corr()"
   ]
  },
  {
   "cell_type": "markdown",
   "metadata": {},
   "source": [
    "Quando existem muitas variáveis que desejamos analisar, uma matriz numérica pode não ser a melhor visualização. \n",
    "\n",
    "Por isso, podemos plotar um **_heatmap_** (mapa de calor) para visualizar tais correlações.\n",
    "\n",
    "Uma visualização interativa pode ser bem útil para isso, pois conseguimos visualizar, para cada célula, as variáveis correlacionadas e o valor da correlação."
   ]
  },
  {
   "cell_type": "code",
   "execution_count": null,
   "metadata": {},
   "outputs": [],
   "source": [
    "df_hits.corr().iplot(kind='heatmap', \n",
    "                     colorscale=\"RdBu\", \n",
    "                     title=\"Feature Correlation Matrix\")"
   ]
  },
  {
   "cell_type": "markdown",
   "metadata": {},
   "source": [
    "---\n",
    "\n",
    "## Referências e Links Externos\n",
    "\n",
    "- [Python Graph Gallery](https://www.python-graph-gallery.com/)\n",
    "- [Matplotlib - Documentação](https://matplotlib.org/stable/api/)\n",
    "- [Seaborn - Documentação](https://seaborn.pydata.org/)\n",
    "- [Plotly - documentação](https://plotly.com/python-api-reference/)"
   ]
  }
 ],
 "metadata": {
  "julynter-results": {
   "filteredId": [],
   "filteredIndividual": [],
   "filteredRestart": [],
   "filteredType": [],
   "hash": "06d8556bc2eb19025b0370a091f9098a39f64d2b",
   "visible": []
  },
  "kernelspec": {
   "display_name": "Python 3",
   "language": "python",
   "name": "python3"
  },
  "language_info": {
   "codemirror_mode": {
    "name": "ipython",
    "version": 3
   },
   "file_extension": ".py",
   "mimetype": "text/x-python",
   "name": "python",
   "nbconvert_exporter": "python",
   "pygments_lexer": "ipython3",
   "version": "3.8.10"
  },
  "latex_envs": {
   "LaTeX_envs_menu_present": true,
   "autoclose": true,
   "autocomplete": true,
   "bibliofile": "biblio.bib",
   "cite_by": "apalike",
   "current_citInitial": 1,
   "eqLabelWithNumbers": true,
   "eqNumInitial": 1,
   "hotkeys": {
    "equation": "Ctrl-E",
    "itemize": "Ctrl-I"
   },
   "labels_anchors": false,
   "latex_user_defs": false,
   "report_style_numbering": false,
   "user_envs_cfg": false
  }
 },
 "nbformat": 4,
 "nbformat_minor": 4
}
