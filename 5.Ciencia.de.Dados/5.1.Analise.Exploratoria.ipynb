{
 "cells": [
  {
   "cell_type": "markdown",
   "metadata": {},
   "source": [
    "# Análise Exploratória de Dados\n",
    "\n",
    "Após realizar o pré-processamento dos dados descrito na seção anterior, a sequência natural é realizar a Análise Exploratória dos Dados (em inglês, *Exploratory Data Analysis* - EDA). Esta etapa consiste em **entender melhor um conjunto de dados através de estatísticas descritivas e de gráficos visuais**, sendo bastante utilizada em Ciência de Dados para levantar hipóteses e responder alguns questionamentos relativos aos dados em si. Apesar de relativamente simples, a análise exploratória é muito importante e pode levar bastante tempo, uma vez que este processo tem bastante ligação com a etapa de pré-processamento, podendo exigir que alguns passos desta etapa sejam reexecutados para assegurar uma melhor qualidade dos dados.\n",
    "\n",
    "Uma das principais vantagens de se utilizar o Jupyter em projetos de Ciência de Dados é justamente a sua estrutura em células. Tal vantagem é evidenciada principalmente nas etapas de análise exploratória e visualização de dados (próxima seção), pois a fácil visualização em formato tabular ou gráfico permite à pessoa cientista uma rápida análise descritiva do conjunto de dados. Dessa forma, a depender dos resultados, é possível corrigir, descartar ou lidar com os dados de forma apropriada. Além disso, é importante ressaltar que não existe uma única sequência de passos correta para descrever e lidar com dados. Cabe à pessoa cientista de dados escolher, a partir de um entendimento prévio e do arcabouço prático disponível, escolher as melhores técnicas para a tarefa de análise.\n",
    "\n",
    "<br>\n",
    "<p style=\"text-align: center;\">\n",
    "<img src=\"data:image/svg+xml;base64,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\" width=\"800px\" />\n",
    "</p>\n",
    "\n",
    "Apesar de não haver uma sequência definida de etapas para a realização de uma análise exploratória, nesta seção apresentamos os passos que são comumente utilizados neste tipo de abordagem. Os principais tópicos abordados incluem como a exploração e descrição inicial de um *DataFrame*, estatísticas básicas para variáveis numéricas e categóricas, além da análise de distribuições e de correlação de valores. Aqui, utilizaremos a tabela *Tracks* do nosso conjunto de dados, que contém informações relevantes sobre as canções que entraram na parada global de sucesso do Spotify no ano de 2020.\n",
    "\n",
    "O conteúdo deste notebook está organizado de acordo com os tópicos da seção 1.2.6. (Análise Exploratória de Dados) do Capítulo:\n",
    "\n",
    "- [1.2.6.1. Exploração Inicial](#exploracao-inicial)\n",
    "    - [Amostras de Dados](#amostras)\n",
    "    - [Dimensões e Tipos](#dimensoes)\n",
    "- [1.2.6.2. Estatísticas Básicas para Dados Numéricos](#stats-numericos)\n",
    "- [1.2.6.3. Estatísticas Básicas para Dados Categóricos](#stats-categoricos)\n",
    "- [1.2.6.4. Distribuições](#distribuicoes)\n",
    "    - [*Boxplots*](#boxplots)\n",
    "    - [Histogramas](#histogramas)\n",
    "- [1.2.6.5. Correlações](#correlacoes)"
   ]
  },
  {
   "cell_type": "code",
   "execution_count": 1,
   "metadata": {},
   "outputs": [],
   "source": [
    "# Importando bibliotecas necessárias\n",
    "import pandas as pd\n",
    "from matplotlib import pyplot as plt\n",
    "pd.set_option('display.max_columns', 6)"
   ]
  },
  {
   "cell_type": "code",
   "execution_count": 2,
   "metadata": {},
   "outputs": [],
   "source": [
    "# Criando dataframe a partir de um arquivo TSV\n",
    "df = pd.read_table('../dataset/spotify_hits_dataset_complete.tsv')"
   ]
  },
  {
   "cell_type": "markdown",
   "metadata": {},
   "source": [
    "<a id=\"exploracao-inicial\"></a>\n",
    "## Exploração Inicial\n",
    "\n",
    "A etapa de exploração inicial é simples, mas muito importante para a pessoa cientista se familiarizar com o conteúdo de seu conjunto de dados. Se na seção anterior o foco estava no pré-processamento dos dados para deixá-los prontos para a análise, aqui é onde serão feitas as primeiras análises visuais sobre o conjunto de dados. Assim, apresentamos técnicas de amostragem de dados, e verificamos informações básicas sobre o *DataFrame* como as dimensões e os tipos das variáveis."
   ]
  },
  {
   "cell_type": "markdown",
   "metadata": {},
   "source": [
    "<a id=\"amostras\"></a>\n",
    "### Amostras de Dados\n",
    "\n",
    "Uma das primeiras ações ao lidar com um novo conjunto de dados é verificar uma amostra das instâncias presentes neste conjunto. Assim, é possível entender mais a fundo o conteúdo das colunas e que tipo de informação se espera em cada uma delas. O Pandas possui algumas funções que nos permitem visualizar tais amostras, e a sua utilização em um ambiente Jupyter facilita ainda mais essa tarefa ao exibir uma visualização simples e amigável do *DataFrame* ao final de cada célula. Um exemplo é a função `head()`, que permite a visualização das primeiras linhas de um *DataFrame*."
   ]
  },
  {
   "cell_type": "code",
   "execution_count": 3,
   "metadata": {},
   "outputs": [
    {
     "data": {
      "text/html": [
       "<div>\n",
       "<style scoped>\n",
       "    .dataframe tbody tr th:only-of-type {\n",
       "        vertical-align: middle;\n",
       "    }\n",
       "\n",
       "    .dataframe tbody tr th {\n",
       "        vertical-align: top;\n",
       "    }\n",
       "\n",
       "    .dataframe thead th {\n",
       "        text-align: right;\n",
       "    }\n",
       "</style>\n",
       "<table border=\"1\" class=\"dataframe\">\n",
       "  <thead>\n",
       "    <tr style=\"text-align: right;\">\n",
       "      <th></th>\n",
       "      <th>song_id</th>\n",
       "      <th>song_name</th>\n",
       "      <th>artist_id</th>\n",
       "      <th>...</th>\n",
       "      <th>speechiness</th>\n",
       "      <th>valence</th>\n",
       "      <th>tempo</th>\n",
       "    </tr>\n",
       "  </thead>\n",
       "  <tbody>\n",
       "    <tr>\n",
       "      <th>0</th>\n",
       "      <td>2rRJrJEo19S2J82BDsQ3F7</td>\n",
       "      <td>Falling</td>\n",
       "      <td>['7uaIm6Pw7xplS8Dy06V6pT']</td>\n",
       "      <td>...</td>\n",
       "      <td>0.0364</td>\n",
       "      <td>0.236</td>\n",
       "      <td>127.087</td>\n",
       "    </tr>\n",
       "    <tr>\n",
       "      <th>1</th>\n",
       "      <td>3BYIzNZ3t9lRQCACXSMLrT</td>\n",
       "      <td>Venetia</td>\n",
       "      <td>['4O15NlyKLIASxsJ0PrXPfz']</td>\n",
       "      <td>...</td>\n",
       "      <td>0.1750</td>\n",
       "      <td>0.562</td>\n",
       "      <td>142.933</td>\n",
       "    </tr>\n",
       "    <tr>\n",
       "      <th>2</th>\n",
       "      <td>1g3J9W88hTG173ySZR6E9S</td>\n",
       "      <td>Tilidin Weg</td>\n",
       "      <td>['1aS5tqEs9ci5P9KD9tZWa6']</td>\n",
       "      <td>...</td>\n",
       "      <td>0.2330</td>\n",
       "      <td>0.171</td>\n",
       "      <td>109.090</td>\n",
       "    </tr>\n",
       "    <tr>\n",
       "      <th>3</th>\n",
       "      <td>75pQqzwgCjUOSSy5CpmAjy</td>\n",
       "      <td>Pero Ya No</td>\n",
       "      <td>['4q3ewBCX7sLwd24euuV69X']</td>\n",
       "      <td>...</td>\n",
       "      <td>0.1180</td>\n",
       "      <td>0.742</td>\n",
       "      <td>147.982</td>\n",
       "    </tr>\n",
       "    <tr>\n",
       "      <th>4</th>\n",
       "      <td>7kDUspsoYfLkWnZR7qwHZl</td>\n",
       "      <td>my ex's best friend (with blackbear)</td>\n",
       "      <td>['6TIYQ3jFPwQSRmorSezPxX', '2cFrymmkijnjDg9SS9...</td>\n",
       "      <td>...</td>\n",
       "      <td>0.0434</td>\n",
       "      <td>0.298</td>\n",
       "      <td>124.939</td>\n",
       "    </tr>\n",
       "  </tbody>\n",
       "</table>\n",
       "<p>5 rows × 24 columns</p>\n",
       "</div>"
      ],
      "text/plain": [
       "                  song_id                             song_name  \\\n",
       "0  2rRJrJEo19S2J82BDsQ3F7                               Falling   \n",
       "1  3BYIzNZ3t9lRQCACXSMLrT                               Venetia   \n",
       "2  1g3J9W88hTG173ySZR6E9S                           Tilidin Weg   \n",
       "3  75pQqzwgCjUOSSy5CpmAjy                            Pero Ya No   \n",
       "4  7kDUspsoYfLkWnZR7qwHZl  my ex's best friend (with blackbear)   \n",
       "\n",
       "                                           artist_id  ... speechiness  \\\n",
       "0                         ['7uaIm6Pw7xplS8Dy06V6pT']  ...      0.0364   \n",
       "1                         ['4O15NlyKLIASxsJ0PrXPfz']  ...      0.1750   \n",
       "2                         ['1aS5tqEs9ci5P9KD9tZWa6']  ...      0.2330   \n",
       "3                         ['4q3ewBCX7sLwd24euuV69X']  ...      0.1180   \n",
       "4  ['6TIYQ3jFPwQSRmorSezPxX', '2cFrymmkijnjDg9SS9...  ...      0.0434   \n",
       "\n",
       "   valence    tempo  \n",
       "0    0.236  127.087  \n",
       "1    0.562  142.933  \n",
       "2    0.171  109.090  \n",
       "3    0.742  147.982  \n",
       "4    0.298  124.939  \n",
       "\n",
       "[5 rows x 24 columns]"
      ]
     },
     "execution_count": 3,
     "metadata": {},
     "output_type": "execute_result"
    }
   ],
   "source": [
    "df.head() # Mostrando os primeiros registros do dataframe (5, por padrão)"
   ]
  },
  {
   "cell_type": "markdown",
   "metadata": {},
   "source": [
    "Esta função é definida de forma padrão para exibir somente as cinco primeiras linhas do *DataFrame*. No entanto, pode-se usar o parâmetro `n` da função `head()` para personalizar a saída. No exemplo a seguir, optou-se por exibir somente os dois primeiros registros. Note que esta função limita apenas as linhas, e portanto todas as colunas do *DataFrame* são mostradas no resultado final."
   ]
  },
  {
   "cell_type": "code",
   "execution_count": 4,
   "metadata": {},
   "outputs": [
    {
     "data": {
      "text/html": [
       "<div>\n",
       "<style scoped>\n",
       "    .dataframe tbody tr th:only-of-type {\n",
       "        vertical-align: middle;\n",
       "    }\n",
       "\n",
       "    .dataframe tbody tr th {\n",
       "        vertical-align: top;\n",
       "    }\n",
       "\n",
       "    .dataframe thead th {\n",
       "        text-align: right;\n",
       "    }\n",
       "</style>\n",
       "<table border=\"1\" class=\"dataframe\">\n",
       "  <thead>\n",
       "    <tr style=\"text-align: right;\">\n",
       "      <th></th>\n",
       "      <th>song_id</th>\n",
       "      <th>song_name</th>\n",
       "      <th>artist_id</th>\n",
       "      <th>...</th>\n",
       "      <th>speechiness</th>\n",
       "      <th>valence</th>\n",
       "      <th>tempo</th>\n",
       "    </tr>\n",
       "  </thead>\n",
       "  <tbody>\n",
       "    <tr>\n",
       "      <th>0</th>\n",
       "      <td>2rRJrJEo19S2J82BDsQ3F7</td>\n",
       "      <td>Falling</td>\n",
       "      <td>['7uaIm6Pw7xplS8Dy06V6pT']</td>\n",
       "      <td>...</td>\n",
       "      <td>0.0364</td>\n",
       "      <td>0.236</td>\n",
       "      <td>127.087</td>\n",
       "    </tr>\n",
       "    <tr>\n",
       "      <th>1</th>\n",
       "      <td>3BYIzNZ3t9lRQCACXSMLrT</td>\n",
       "      <td>Venetia</td>\n",
       "      <td>['4O15NlyKLIASxsJ0PrXPfz']</td>\n",
       "      <td>...</td>\n",
       "      <td>0.1750</td>\n",
       "      <td>0.562</td>\n",
       "      <td>142.933</td>\n",
       "    </tr>\n",
       "  </tbody>\n",
       "</table>\n",
       "<p>2 rows × 24 columns</p>\n",
       "</div>"
      ],
      "text/plain": [
       "                  song_id song_name                   artist_id  ...  \\\n",
       "0  2rRJrJEo19S2J82BDsQ3F7   Falling  ['7uaIm6Pw7xplS8Dy06V6pT']  ...   \n",
       "1  3BYIzNZ3t9lRQCACXSMLrT   Venetia  ['4O15NlyKLIASxsJ0PrXPfz']  ...   \n",
       "\n",
       "  speechiness  valence    tempo  \n",
       "0      0.0364    0.236  127.087  \n",
       "1      0.1750    0.562  142.933  \n",
       "\n",
       "[2 rows x 24 columns]"
      ]
     },
     "execution_count": 4,
     "metadata": {},
     "output_type": "execute_result"
    }
   ],
   "source": [
    "df.head(n=2) # Exibindo somente os primeiros dois registros do dataframe"
   ]
  },
  {
   "cell_type": "markdown",
   "metadata": {},
   "source": [
    "De forma similar, o Pandas também oferece a função `tail()`, que exibe as últimas linhas do *DataFrame*. Esta função também pode ter a saída personalizada com o parâmetro `n`, e portanto é uma importante ferramenta na inspeção manual dos registros."
   ]
  },
  {
   "cell_type": "code",
   "execution_count": 5,
   "metadata": {},
   "outputs": [
    {
     "data": {
      "text/html": [
       "<div>\n",
       "<style scoped>\n",
       "    .dataframe tbody tr th:only-of-type {\n",
       "        vertical-align: middle;\n",
       "    }\n",
       "\n",
       "    .dataframe tbody tr th {\n",
       "        vertical-align: top;\n",
       "    }\n",
       "\n",
       "    .dataframe thead th {\n",
       "        text-align: right;\n",
       "    }\n",
       "</style>\n",
       "<table border=\"1\" class=\"dataframe\">\n",
       "  <thead>\n",
       "    <tr style=\"text-align: right;\">\n",
       "      <th></th>\n",
       "      <th>song_id</th>\n",
       "      <th>song_name</th>\n",
       "      <th>artist_id</th>\n",
       "      <th>...</th>\n",
       "      <th>speechiness</th>\n",
       "      <th>valence</th>\n",
       "      <th>tempo</th>\n",
       "    </tr>\n",
       "  </thead>\n",
       "  <tbody>\n",
       "    <tr>\n",
       "      <th>1283</th>\n",
       "      <td>2bgcUk2A3jjKbCJ7KPquTi</td>\n",
       "      <td>Mi Niña</td>\n",
       "      <td>['3E6xrwgnVfYCrCs0ePERDz', '7iK8PXO48WeuP03g8Y...</td>\n",
       "      <td>...</td>\n",
       "      <td>0.166</td>\n",
       "      <td>0.791</td>\n",
       "      <td>99.999</td>\n",
       "    </tr>\n",
       "  </tbody>\n",
       "</table>\n",
       "<p>1 rows × 24 columns</p>\n",
       "</div>"
      ],
      "text/plain": [
       "                     song_id song_name  \\\n",
       "1283  2bgcUk2A3jjKbCJ7KPquTi   Mi Niña   \n",
       "\n",
       "                                              artist_id  ... speechiness  \\\n",
       "1283  ['3E6xrwgnVfYCrCs0ePERDz', '7iK8PXO48WeuP03g8Y...  ...       0.166   \n",
       "\n",
       "      valence   tempo  \n",
       "1283    0.791  99.999  \n",
       "\n",
       "[1 rows x 24 columns]"
      ]
     },
     "execution_count": 5,
     "metadata": {},
     "output_type": "execute_result"
    }
   ],
   "source": [
    "df.tail(n=1) # Mostrando o último registro do dataframe"
   ]
  },
  {
   "cell_type": "markdown",
   "metadata": {},
   "source": [
    "Entretanto, tais funções só permitem analisar as extremidades do *DataFrame*, e uma inspeção mais aprofundada sobre os outros registros pode ser necessária para um melhor entendimento dos dados. Dessa forma, o Pandas também oferece a função `sample()`, que de fato retorna uma amostra aleatória dos registros do *DataFrame*. Esta função possui mais parâmetros disponíveis do que as anteriores, o que oferece um maior poder de análise à pessoa cientista. Aqui, utilizamos os parâmetros `n`, para a quantidade de linhas amostradas, e `random_state`, que é uma semente de um gerador de números aleatórios que mantém o mesmo resultado caso a célula seja executada várias vezes. "
   ]
  },
  {
   "cell_type": "code",
   "execution_count": 6,
   "metadata": {},
   "outputs": [
    {
     "data": {
      "text/html": [
       "<div>\n",
       "<style scoped>\n",
       "    .dataframe tbody tr th:only-of-type {\n",
       "        vertical-align: middle;\n",
       "    }\n",
       "\n",
       "    .dataframe tbody tr th {\n",
       "        vertical-align: top;\n",
       "    }\n",
       "\n",
       "    .dataframe thead th {\n",
       "        text-align: right;\n",
       "    }\n",
       "</style>\n",
       "<table border=\"1\" class=\"dataframe\">\n",
       "  <thead>\n",
       "    <tr style=\"text-align: right;\">\n",
       "      <th></th>\n",
       "      <th>song_id</th>\n",
       "      <th>song_name</th>\n",
       "      <th>artist_id</th>\n",
       "      <th>...</th>\n",
       "      <th>speechiness</th>\n",
       "      <th>valence</th>\n",
       "      <th>tempo</th>\n",
       "    </tr>\n",
       "  </thead>\n",
       "  <tbody>\n",
       "    <tr>\n",
       "      <th>1245</th>\n",
       "      <td>0PQsrLxPbOBBwwmXCnGvcF</td>\n",
       "      <td>Diamonds (with Normani)</td>\n",
       "      <td>['181bsRPaVXVlUKXrxwZfHK', '2cWZOOzeOm4WmBJRnD...</td>\n",
       "      <td>...</td>\n",
       "      <td>0.0873</td>\n",
       "      <td>0.488</td>\n",
       "      <td>94.012</td>\n",
       "    </tr>\n",
       "    <tr>\n",
       "      <th>992</th>\n",
       "      <td>1bRpSCFv6P2OUhciByeRYR</td>\n",
       "      <td>Jangueo</td>\n",
       "      <td>['2DspEsT7UXGKd2VaaedgG4', '11YLRSsZA3YVuQQtHX...</td>\n",
       "      <td>...</td>\n",
       "      <td>0.0536</td>\n",
       "      <td>0.723</td>\n",
       "      <td>103.994</td>\n",
       "    </tr>\n",
       "    <tr>\n",
       "      <th>1045</th>\n",
       "      <td>4r9jkMEnArtWGH2rL2FZl0</td>\n",
       "      <td>A Tu Merced</td>\n",
       "      <td>['4q3ewBCX7sLwd24euuV69X']</td>\n",
       "      <td>...</td>\n",
       "      <td>0.0568</td>\n",
       "      <td>0.887</td>\n",
       "      <td>92.023</td>\n",
       "    </tr>\n",
       "  </tbody>\n",
       "</table>\n",
       "<p>3 rows × 24 columns</p>\n",
       "</div>"
      ],
      "text/plain": [
       "                     song_id                song_name  \\\n",
       "1245  0PQsrLxPbOBBwwmXCnGvcF  Diamonds (with Normani)   \n",
       "992   1bRpSCFv6P2OUhciByeRYR                  Jangueo   \n",
       "1045  4r9jkMEnArtWGH2rL2FZl0              A Tu Merced   \n",
       "\n",
       "                                              artist_id  ... speechiness  \\\n",
       "1245  ['181bsRPaVXVlUKXrxwZfHK', '2cWZOOzeOm4WmBJRnD...  ...      0.0873   \n",
       "992   ['2DspEsT7UXGKd2VaaedgG4', '11YLRSsZA3YVuQQtHX...  ...      0.0536   \n",
       "1045                         ['4q3ewBCX7sLwd24euuV69X']  ...      0.0568   \n",
       "\n",
       "      valence    tempo  \n",
       "1245    0.488   94.012  \n",
       "992     0.723  103.994  \n",
       "1045    0.887   92.023  \n",
       "\n",
       "[3 rows x 24 columns]"
      ]
     },
     "execution_count": 6,
     "metadata": {},
     "output_type": "execute_result"
    }
   ],
   "source": [
    "df.sample(n=3, random_state=7) # Mostrando uma amostra aleatória de n=3 linhas do DataFrame"
   ]
  },
  {
   "cell_type": "markdown",
   "metadata": {},
   "source": [
    "<a id=\"dimensoes\"></a>\n",
    "## Dimensões e Tipos\n",
    "\n",
    "Além de visualizar amostras das instâncias de um *DataFrame*, é importante obter uma visão mais geral sobre ele. Dessa forma, conhecer informações como suas dimensões e os tipos das colunas pode ser relevante em análises futuras. Para saber as dimensões de um *DataFrame* (ou qualquer objeto Pandas, como uma *Series*), basta acessar o atributo `shape`. Para um *DataFrame*, este atributo contém uma tupla com dois valores, informando o número de linhas e colunas, respectivamente."
   ]
  },
  {
   "cell_type": "code",
   "execution_count": 7,
   "metadata": {},
   "outputs": [
    {
     "name": "stdout",
     "output_type": "stream",
     "text": [
      "Dimensões do DataFrame completo:  (1284, 24)\n",
      "Dimensões da coluna song_id, que é uma Series:  (1284,)\n"
     ]
    }
   ],
   "source": [
    "print('Dimensões do DataFrame completo: ', df.shape)\n",
    "print('Dimensões da coluna song_id, que é uma Series: ', df['song_id'].shape)"
   ]
  },
  {
   "cell_type": "markdown",
   "metadata": {},
   "source": [
    "Ademais, o Pandas também possui outras funções com informações gerais sobre um *DataFrame*. A função `info()` retorna, para cada coluna, a quantidade de valores não-nulos, a existência desses valores, bem como o tipo de dado armazenado naquela coluna (`dtype`). Os tipos de dados suportados pelo Pandas são apresentados a seguir:\n",
    "\n",
    "| Tipo | Descrição |\n",
    "|-|-|\n",
    "| `object` | *String* ou uma mistura de valores numéricos e não-numéricos |\n",
    "| `int64` | Valores inteiros |\n",
    "| `float64` | Valores com ponto flutuante |\n",
    "| `bool` | Valores booleanos (`True`/`False`) |\n",
    "| `datetime64` | Valores com data e hora |\n",
    "| `timedelta[ns]` | Diferença entre valores `datetime64` |\n",
    "| `category` | Lista finita de categorias (*string*) |"
   ]
  },
  {
   "cell_type": "code",
   "execution_count": 8,
   "metadata": {},
   "outputs": [
    {
     "name": "stdout",
     "output_type": "stream",
     "text": [
      "<class 'pandas.core.frame.DataFrame'>\n",
      "RangeIndex: 1284 entries, 0 to 1283\n",
      "Data columns (total 24 columns):\n",
      " #   Column                 Non-Null Count  Dtype  \n",
      "---  ------                 --------------  -----  \n",
      " 0   song_id                1284 non-null   object \n",
      " 1   song_name              1284 non-null   object \n",
      " 2   artist_id              1284 non-null   object \n",
      " 3   artist_name            1284 non-null   object \n",
      " 4   popularity             1284 non-null   int64  \n",
      " 5   explicit               1284 non-null   bool   \n",
      " 6   song_type              1284 non-null   object \n",
      " 7   track_number           1284 non-null   int64  \n",
      " 8   num_artists            1284 non-null   int64  \n",
      " 9   num_available_markets  1284 non-null   int64  \n",
      " 10  release_date           1284 non-null   object \n",
      " 11  duration_ms            1284 non-null   int64  \n",
      " 12  key                    1284 non-null   int64  \n",
      " 13  mode                   1284 non-null   int64  \n",
      " 14  time_signature         1284 non-null   int64  \n",
      " 15  acousticness           1284 non-null   float64\n",
      " 16  danceability           1284 non-null   float64\n",
      " 17  energy                 1284 non-null   float64\n",
      " 18  instrumentalness       1284 non-null   float64\n",
      " 19  liveness               1284 non-null   float64\n",
      " 20  loudness               1284 non-null   float64\n",
      " 21  speechiness            1284 non-null   float64\n",
      " 22  valence                1284 non-null   float64\n",
      " 23  tempo                  1284 non-null   float64\n",
      "dtypes: bool(1), float64(9), int64(8), object(6)\n",
      "memory usage: 232.1+ KB\n"
     ]
    }
   ],
   "source": [
    "df.info()  # Verificando tipos das variáveis"
   ]
  },
  {
   "cell_type": "markdown",
   "metadata": {},
   "source": [
    "Conhecer os tipos de dados do seu conjunto de dados é fundamental em projetos de Ciência de Dados. Por exemplo, se o Pandas acusa um tipo diferente em uma coluna onde se espera um valor numérico, isso pode significar um possível ruído indesejado nesta coluna. Dessa forma, é necessário voltar à etapa de pré-processamento e realizar a remoção de ruídos antes de prosseguir para análises mais complexas."
   ]
  },
  {
   "cell_type": "markdown",
   "metadata": {},
   "source": [
    "<a id=\"stats-numericos\"></a>\n",
    "## Estatísticas Básicas para Dados Numéricos\n",
    "\n",
    "Em geral, variáveis de conjuntos de dados podem ser classificadas como *categóricas* ou *numéricas/quantitativas*. Dados categóricos são aqueles obtidos a partir de observações nominais (i.e., classes), enquanto as variáveis numéricas são derivadas de medições quantitativas em uma escala numérica. Por exemplo, a cor de uma régua é um atributo categórico, e seu valor sempre será obtido de uma lista de categorias bem definidas (i.e., cores). Já o seu comprimento é um atributo numérico, medido com valores inteiros.  Para cada tipo, existem um conjunto de estatísticas descritivas que permitem sumarizar essas informações de uma forma mais legível e próxima para as pessoas analistas.\n",
    "\n",
    "Considerando variáveis numéricas, a análise exploratória dos dados é feita principalmente por métodos de agregação para obter informações sobre a população (i.e., conjunto de todas as instâncias do conjunto de dados). Assim, as principais características utilizadas para representar esta população são a média, mediana, desvio padrão, soma, valores máximos e mínimos, dentre outras. Tais características são implementadas de forma simples e prática pelo Pandas, de modo com que a pessoa cientista de dados não gaste muito tempo nem linhas de código para obtê-las. O exemplo a seguir mostra como obter a média de todas as variáveis numéricas de um *DataFrame* a partir de um único comando."
   ]
  },
  {
   "cell_type": "code",
   "execution_count": 9,
   "metadata": {},
   "outputs": [
    {
     "data": {
      "text/plain": [
       "popularity                   68.959502\n",
       "explicit                      0.445483\n",
       "track_number                  4.961059\n",
       "num_artists                   1.598910\n",
       "num_available_markets       157.330997\n",
       "duration_ms              196804.523364\n",
       "key                           5.331776\n",
       "mode                          0.564642\n",
       "time_signature                3.966511\n",
       "acousticness                  0.243906\n",
       "danceability                  0.697962\n",
       "energy                        0.627272\n",
       "instrumentalness              0.011885\n",
       "liveness                      0.180263\n",
       "loudness                     -6.415536\n",
       "speechiness                   0.124298\n",
       "valence                       0.511828\n",
       "tempo                       123.467972\n",
       "dtype: float64"
      ]
     },
     "execution_count": 9,
     "metadata": {},
     "output_type": "execute_result"
    }
   ],
   "source": [
    "df.mean() # Exibindo a média das variáveis numéricas"
   ]
  },
  {
   "cell_type": "markdown",
   "metadata": {},
   "source": [
    "Neste exemplo, todas as variáveis exibidas são do tipo `int64` ou `float64`, com a exceção de `explicit` (informa se a letra de uma música contém termos explícitos), cujo tipo é `bool`. Neste caso, o próprio Pandas converte esses valores booleanos para inteiros (i.e., 0 para `False` e 1 para `True`), permitindo assim o cálculo da média.\n",
    "\n",
    "Assim como a média, também existem funções no Pandas para outros métodos de agregação para variáveis numéricas. A Tabela a seguir apresenta as principais delas acompanhadas de sua descrição. \n",
    "\n",
    "| Função | Descrição | Função | Descrição | Função | Descrição |\n",
    "|-|-|-|-|-|-|\n",
    "| `count` | Número de observações não-nulas | `max` | Valor máximo | `sem` | Erro padrão da média |\n",
    "| `sum` | Soma de valores | `mode` | Moda | `skew` | Assimetria (Skewness) |\n",
    "| `mean` | Média dos valores | `abs` | Valor absoluto | `kurt` | Curtose (Kurtosis) |\n",
    "| `mad` | Desvio absoluto médio | `prod` | Produto de valores | `quantile` | Quantis (valor em %) |\n",
    "| `median` | Valor mediano (50-percentil) | `std` | Desvio padrão | `cumsum` | Soma cumulativa |\n",
    "| `min` | Valor mínimo | `var` | Variância | `cumprod` | Produto cumulativo |\n",
    "\n",
    "As funções de agregação do Pandas também podem ser aplicadas a colunas individuais de um *DataFrame*, isto é, objetos do tipo *Series*. A seguir, são exibidas algumas características da duração das músicas, medidas em milissegundos na coluna `duration_ms`.\n"
   ]
  },
  {
   "cell_type": "code",
   "execution_count": 10,
   "metadata": {},
   "outputs": [
    {
     "name": "stdout",
     "output_type": "stream",
     "text": [
      "Registros não-nulos: 1284\n",
      "Valor máximo: 484146\n",
      "Valor mínimo: 30133\n",
      "Média: 196804.52336448597\n",
      "Mediana: 193683.0\n",
      "Desvio padrão: 44185.5234790528\n",
      "Variância: 1952360485.117926\n"
     ]
    }
   ],
   "source": [
    "print('Registros não-nulos:', df['duration_ms'].count())\n",
    "print('Valor máximo:', df['duration_ms'].max())\n",
    "print('Valor mínimo:', df['duration_ms'].min())\n",
    "print('Média:', df['duration_ms'].mean())\n",
    "print('Mediana:', df['duration_ms'].median())\n",
    "print('Desvio padrão:', df['duration_ms'].std())\n",
    "print('Variância:', df['duration_ms'].var())"
   ]
  },
  {
   "cell_type": "markdown",
   "metadata": {},
   "source": [
    "### Percentis"
   ]
  },
  {
   "cell_type": "markdown",
   "metadata": {},
   "source": [
    "Além disso, o Pandas também oferece a funcionalidade de calcular percentis, que são pontos estabelecidos em uma função de distribuição de probabilidade de uma variável aleatória. A função `quantile` permite o cálculo de um ou mais percentis a partir do parâmetro `q`, que aceita valores entre 0 e 1. O exemplo a seguir apresenta o cálculo do 10-percentil da variável `duration_ms`, ou seja, o valor abaixo do qual se encontram 10% das instâncias dessa variável. Em seguida, é apresentado um novo exemplo demonstrando que também é possível efetuar o cálculo de percentis para todo o *DataFrame*."
   ]
  },
  {
   "cell_type": "code",
   "execution_count": 11,
   "metadata": {},
   "outputs": [
    {
     "data": {
      "text/plain": [
       "150759.9"
      ]
     },
     "execution_count": 11,
     "metadata": {},
     "output_type": "execute_result"
    }
   ],
   "source": [
    "# Cálculo do 10º percentil\n",
    "#   (q=0.1) de duration_ms\n",
    "df['duration_ms'].quantile(\n",
    "    q=0.1\n",
    ")"
   ]
  },
  {
   "cell_type": "code",
   "execution_count": 12,
   "metadata": {},
   "outputs": [
    {
     "data": {
      "text/html": [
       "<div>\n",
       "<style scoped>\n",
       "    .dataframe tbody tr th:only-of-type {\n",
       "        vertical-align: middle;\n",
       "    }\n",
       "\n",
       "    .dataframe tbody tr th {\n",
       "        vertical-align: top;\n",
       "    }\n",
       "\n",
       "    .dataframe thead th {\n",
       "        text-align: right;\n",
       "    }\n",
       "</style>\n",
       "<table border=\"1\" class=\"dataframe\">\n",
       "  <thead>\n",
       "    <tr style=\"text-align: right;\">\n",
       "      <th></th>\n",
       "      <th>popularity</th>\n",
       "      <th>explicit</th>\n",
       "      <th>track_number</th>\n",
       "      <th>...</th>\n",
       "      <th>speechiness</th>\n",
       "      <th>valence</th>\n",
       "      <th>tempo</th>\n",
       "    </tr>\n",
       "  </thead>\n",
       "  <tbody>\n",
       "    <tr>\n",
       "      <th>0.1</th>\n",
       "      <td>54.0</td>\n",
       "      <td>0.0</td>\n",
       "      <td>1.0</td>\n",
       "      <td>...</td>\n",
       "      <td>0.0346</td>\n",
       "      <td>0.2076</td>\n",
       "      <td>86.3606</td>\n",
       "    </tr>\n",
       "    <tr>\n",
       "      <th>0.9</th>\n",
       "      <td>85.0</td>\n",
       "      <td>1.0</td>\n",
       "      <td>13.0</td>\n",
       "      <td>...</td>\n",
       "      <td>0.2900</td>\n",
       "      <td>0.8227</td>\n",
       "      <td>167.9285</td>\n",
       "    </tr>\n",
       "  </tbody>\n",
       "</table>\n",
       "<p>2 rows × 18 columns</p>\n",
       "</div>"
      ],
      "text/plain": [
       "     popularity  explicit  track_number  ...  speechiness  valence     tempo\n",
       "0.1        54.0       0.0           1.0  ...       0.0346   0.2076   86.3606\n",
       "0.9        85.0       1.0          13.0  ...       0.2900   0.8227  167.9285\n",
       "\n",
       "[2 rows x 18 columns]"
      ]
     },
     "execution_count": 12,
     "metadata": {},
     "output_type": "execute_result"
    }
   ],
   "source": [
    "# 10º e 90º percentis para variáveis numéricas\n",
    "df.quantile(q=[0.1, 0.9])"
   ]
  },
  {
   "cell_type": "markdown",
   "metadata": {},
   "source": [
    "Por fim, o Pandas oferece uma função que combina os principais agregadores utilizados nesta seção. Através da função `describe`, é possível verificar, para as colunas numéricas do *DataFrame*, a quantidade de valores não-nulos (`count`), a média, desvio padrão, valores mínimos, máximo, bem como os percentis 25, 50 (mediana) e 75."
   ]
  },
  {
   "cell_type": "code",
   "execution_count": 13,
   "metadata": {},
   "outputs": [
    {
     "data": {
      "text/html": [
       "<div>\n",
       "<style scoped>\n",
       "    .dataframe tbody tr th:only-of-type {\n",
       "        vertical-align: middle;\n",
       "    }\n",
       "\n",
       "    .dataframe tbody tr th {\n",
       "        vertical-align: top;\n",
       "    }\n",
       "\n",
       "    .dataframe thead th {\n",
       "        text-align: right;\n",
       "    }\n",
       "</style>\n",
       "<table border=\"1\" class=\"dataframe\">\n",
       "  <thead>\n",
       "    <tr style=\"text-align: right;\">\n",
       "      <th></th>\n",
       "      <th>popularity</th>\n",
       "      <th>track_number</th>\n",
       "      <th>num_artists</th>\n",
       "      <th>...</th>\n",
       "      <th>speechiness</th>\n",
       "      <th>valence</th>\n",
       "      <th>tempo</th>\n",
       "    </tr>\n",
       "  </thead>\n",
       "  <tbody>\n",
       "    <tr>\n",
       "      <th>count</th>\n",
       "      <td>1284.000000</td>\n",
       "      <td>1284.000000</td>\n",
       "      <td>1284.000000</td>\n",
       "      <td>...</td>\n",
       "      <td>1284.000000</td>\n",
       "      <td>1284.000000</td>\n",
       "      <td>1284.000000</td>\n",
       "    </tr>\n",
       "    <tr>\n",
       "      <th>mean</th>\n",
       "      <td>68.959502</td>\n",
       "      <td>4.961059</td>\n",
       "      <td>1.598910</td>\n",
       "      <td>...</td>\n",
       "      <td>0.124298</td>\n",
       "      <td>0.511828</td>\n",
       "      <td>123.467972</td>\n",
       "    </tr>\n",
       "    <tr>\n",
       "      <th>std</th>\n",
       "      <td>17.942532</td>\n",
       "      <td>5.003355</td>\n",
       "      <td>0.929485</td>\n",
       "      <td>...</td>\n",
       "      <td>0.109577</td>\n",
       "      <td>0.226580</td>\n",
       "      <td>29.547921</td>\n",
       "    </tr>\n",
       "    <tr>\n",
       "      <th>min</th>\n",
       "      <td>0.000000</td>\n",
       "      <td>1.000000</td>\n",
       "      <td>1.000000</td>\n",
       "      <td>...</td>\n",
       "      <td>0.023200</td>\n",
       "      <td>0.036000</td>\n",
       "      <td>46.718000</td>\n",
       "    </tr>\n",
       "    <tr>\n",
       "      <th>25%</th>\n",
       "      <td>65.000000</td>\n",
       "      <td>1.000000</td>\n",
       "      <td>1.000000</td>\n",
       "      <td>...</td>\n",
       "      <td>0.045800</td>\n",
       "      <td>0.341000</td>\n",
       "      <td>99.028500</td>\n",
       "    </tr>\n",
       "    <tr>\n",
       "      <th>50%</th>\n",
       "      <td>73.000000</td>\n",
       "      <td>3.000000</td>\n",
       "      <td>1.000000</td>\n",
       "      <td>...</td>\n",
       "      <td>0.078550</td>\n",
       "      <td>0.508500</td>\n",
       "      <td>122.066000</td>\n",
       "    </tr>\n",
       "    <tr>\n",
       "      <th>75%</th>\n",
       "      <td>80.000000</td>\n",
       "      <td>8.000000</td>\n",
       "      <td>2.000000</td>\n",
       "      <td>...</td>\n",
       "      <td>0.173250</td>\n",
       "      <td>0.680250</td>\n",
       "      <td>144.843500</td>\n",
       "    </tr>\n",
       "    <tr>\n",
       "      <th>max</th>\n",
       "      <td>97.000000</td>\n",
       "      <td>30.000000</td>\n",
       "      <td>9.000000</td>\n",
       "      <td>...</td>\n",
       "      <td>0.884000</td>\n",
       "      <td>0.978000</td>\n",
       "      <td>205.272000</td>\n",
       "    </tr>\n",
       "  </tbody>\n",
       "</table>\n",
       "<p>8 rows × 17 columns</p>\n",
       "</div>"
      ],
      "text/plain": [
       "        popularity  track_number  num_artists  ...  speechiness      valence  \\\n",
       "count  1284.000000   1284.000000  1284.000000  ...  1284.000000  1284.000000   \n",
       "mean     68.959502      4.961059     1.598910  ...     0.124298     0.511828   \n",
       "std      17.942532      5.003355     0.929485  ...     0.109577     0.226580   \n",
       "min       0.000000      1.000000     1.000000  ...     0.023200     0.036000   \n",
       "25%      65.000000      1.000000     1.000000  ...     0.045800     0.341000   \n",
       "50%      73.000000      3.000000     1.000000  ...     0.078550     0.508500   \n",
       "75%      80.000000      8.000000     2.000000  ...     0.173250     0.680250   \n",
       "max      97.000000     30.000000     9.000000  ...     0.884000     0.978000   \n",
       "\n",
       "             tempo  \n",
       "count  1284.000000  \n",
       "mean    123.467972  \n",
       "std      29.547921  \n",
       "min      46.718000  \n",
       "25%      99.028500  \n",
       "50%     122.066000  \n",
       "75%     144.843500  \n",
       "max     205.272000  \n",
       "\n",
       "[8 rows x 17 columns]"
      ]
     },
     "execution_count": 13,
     "metadata": {},
     "output_type": "execute_result"
    }
   ],
   "source": [
    "df.describe() # Principais informações descritivas para o DataFrame"
   ]
  },
  {
   "cell_type": "markdown",
   "metadata": {},
   "source": [
    "<a id=\"stats-categoricos\"></a>\n",
    "## Estatísticas Básicas para Dados Categóricos\n",
    "\n",
    "Para dados categóricos, uma das principais estratégias descritivas é uma contagem de instâncias pertencentes a cada categoria. Assim, cientistas de dados podem entender melhor a frequência de ocorrência de cada classe em um determinado conjunto de dados. Esta contagem é feita pelo Pandas de forma simples utilizando a função `value_counts`, que retorna as classes existentes ordenadas pela quantidade de elementos. Além disso, essa função possui um parâmetro booleano `normalize` que, caso seja verdadeiro, retorna a frequência de ocorrência de cada classe, isto é, a porcentagem de itens em cada uma. \n",
    "\n",
    "Seguindo as análises sobre o *DataFrame* com os dados das músicas, considere a coluna `song_type`, que informa o tipo de música com relação à quantidade de artistas. Por exemplo, músicas podem ser solo ou colaborações (i.e., dois ou mais artistas) como em duetos ou *featurings*. O exemplo a seguir demonstra a aplicação da função `value_counts` nesta coluna utilizando também o parâmetro `normalize`."
   ]
  },
  {
   "cell_type": "code",
   "execution_count": 14,
   "metadata": {},
   "outputs": [
    {
     "data": {
      "text/plain": [
       "Solo             752\n",
       "Collaboration    532\n",
       "Name: song_type, dtype: int64"
      ]
     },
     "execution_count": 14,
     "metadata": {},
     "output_type": "execute_result"
    }
   ],
   "source": [
    "# Contagem de valores para o tipo de música\n",
    "df['song_type'].value_counts()"
   ]
  },
  {
   "cell_type": "code",
   "execution_count": 15,
   "metadata": {},
   "outputs": [
    {
     "data": {
      "text/plain": [
       "Solo             0.58567\n",
       "Collaboration    0.41433\n",
       "Name: song_type, dtype: float64"
      ]
     },
     "execution_count": 15,
     "metadata": {},
     "output_type": "execute_result"
    }
   ],
   "source": [
    "# Frequência dos tipos de música\n",
    "df['song_type'].value_counts(normalize=True)"
   ]
  },
  {
   "cell_type": "markdown",
   "metadata": {},
   "source": [
    "Assim, descobre-se que mais da metade das músicas no conjunto de dados são canções solo (752, ou 58.6%), enquanto as colaborações representam aproximadamente 41.4% (532 canções). Este resultado pode ser exibido de uma forma ainda mais legível às pessoas que irão analisar este dado, pois o Pandas permite visualizá-lo de forma gráfica apenas adicionando uma função à contagem de valores. Basta então adicionar o comando `.plot.bar()` ou `.plot.barh()`, que transformam a contagem/frequência em um gráfico simples de barras."
   ]
  },
  {
   "cell_type": "code",
   "execution_count": 16,
   "metadata": {},
   "outputs": [
    {
     "data": {
      "text/plain": [
       "<AxesSubplot:>"
      ]
     },
     "execution_count": 16,
     "metadata": {},
     "output_type": "execute_result"
    },
    {
     "data": {
      "image/png": "[encoded data removed]",
      "text/plain": [
       "<Figure size 504x90 with 1 Axes>"
      ]
     },
     "metadata": {
      "needs_background": "light"
     },
     "output_type": "display_data"
    }
   ],
   "source": [
    "# Frequência em um gráfico de barras\n",
    "(\n",
    "df['song_type'].value_counts(normalize=True)\n",
    ".plot.barh(figsize=(7, 1.25))\n",
    ")"
   ]
  },
  {
   "cell_type": "markdown",
   "metadata": {},
   "source": [
    "<a id=\"distribuicoes\"></a>\n",
    "## Distribuições\n",
    "\n",
    "Estatísticas básicas para variáveis numéricas como média, mediana e variância são um bom ponto de partida para compreender conjuntos de dados. No entanto, elas não são suficientes para descrever totalmente esses dados, pois dados completamente diferentes podem ter a mesma média, por exemplo. Dessa forma, é necessário aprofundar a análise olhando para a distribuição, que de forma geral apresenta a frequência com que os valores aparecem no conjunto de dados. Nesta seção, são apresentadas duas das principais formas de se visualizar distribuições de valores: *boxplots* e histogramas."
   ]
  },
  {
   "cell_type": "markdown",
   "metadata": {},
   "source": [
    "<a id=\"boxplots\"></a>\n",
    "### Boxplots\n",
    "\n",
    "Também conhecidos como *diagramas de caixa* (embora a versão em inglês seja mais utilizada), são uma forma padronizada e visual de sumarizar a distribuição de uma variável através de seus quartis: primeiro (Q1), segundo (Q2, mediana) e terceiro (Q3). Além deles, um *boxplot* também exibe outras informações importantes, como o intervalo interquartil (IQR) e *outliers*. As principais definições necessárias para entender um *boxplot* estão a seguir:  \n",
    "\n",
    "- **Mediana (Q2, 50º percentil)**: o valor \"do meio\" do conjunto de dados;\n",
    "- **Primeiro quartil (Q1, 25º percentil)**: valor abaixo do qual se encontra os primeiros 25% dos valores do conjunto de dados (ordenados do menor para o maior);\n",
    "- **Terceiro quartil (Q3, 75º percentil)**: valor abaixo do qual se encontra os primeiros 75% dos valores do conjunto de dados (ordenados do menor para o maior);\n",
    "- **Intervalo interquartil (IQR)**: intervalo entre o 25º e o 75º percentis.\n",
    "\n",
    "Então, um *boxplot* para uma variável consiste de uma caixa cujas extremidades vão do primeiro ao terceiro quartil (Q1 a Q3), com uma linha indicando a mediana (Q2). Além disso, este tipo de gráfico contém linhas (\"bigodes\") que saem das extremidades da caixa e possuem o comprimento de $1,5*IQR$. Todos os valores acima ou abaixo dos \"bigodes\" são classificados como *outliers*, e portanto são visualizados como círculos. \n",
    "\n",
    "Para exibir um *boxplot* para uma coluna de um *DataFrame* (ou uma *Series*), basta adicionar o comando `.plot.box()`. O exemplo a seguir mostra um *boxplot* para a coluna `danceability`, uma *feature* do Spotify que informa a probabilidade de uma música ser dançante."
   ]
  },
  {
   "cell_type": "code",
   "execution_count": 17,
   "metadata": {},
   "outputs": [
    {
     "data": {
      "text/plain": [
       "<AxesSubplot:>"
      ]
     },
     "execution_count": 17,
     "metadata": {},
     "output_type": "execute_result"
    },
    {
     "data": {
      "image/png": "[encoded data removed]",
      "text/plain": [
       "<Figure size 432x288 with 1 Axes>"
      ]
     },
     "metadata": {
      "needs_background": "light"
     },
     "output_type": "display_data"
    }
   ],
   "source": [
    "df['danceability'].plot.box() # Distribuição de valores da coluna 'danceability'"
   ]
  },
  {
   "cell_type": "markdown",
   "metadata": {},
   "source": [
    "A partir deste exemplo, pode-se perceber que a maioria dos valores dessa coluna se encontra em um patamar acima de 0,5, ou seja, a maioria das músicas do nosso conjunto de dados possui um alto valor de `danceability` e portanto são bastante dançantes. Por outro lado, são poucas as músicas com valores baixos para esta métrica (*outliers*). Como nosso conjunto de dados compreende músicas que entraram nas paradas de sucesso do Spotify em 2020, pode-se afirmar que a maioria dos *hits* são músicas dançantes.\n",
    "\n",
    "*Boxplots* também podem servir para comparar distribuições de duas ou mais variáveis, e a estrutura de *DataFrame* do Pandas permite fazer tais comparações de forma simples. A seguir, são comparadas as colunas de `danceability` e `acousticness`, que informa a probabilidade de uma música ser acústica.  "
   ]
  },
  {
   "cell_type": "code",
   "execution_count": 18,
   "metadata": {},
   "outputs": [
    {
     "data": {
      "text/plain": [
       "<AxesSubplot:>"
      ]
     },
     "execution_count": 18,
     "metadata": {},
     "output_type": "execute_result"
    },
    {
     "data": {
      "image/png": "[encoded data removed]",
      "text/plain": [
       "<Figure size 504x118.8 with 1 Axes>"
      ]
     },
     "metadata": {
      "needs_background": "light"
     },
     "output_type": "display_data"
    }
   ],
   "source": [
    "# Distribuição das colunas\n",
    "#  'danceability' e 'acousticness'\n",
    "\n",
    "df[[\n",
    "    'danceability',\n",
    "    'acousticness'\n",
    "]].plot.box(vert=False, figsize=(7, 1.65)) "
   ]
  },
  {
   "cell_type": "markdown",
   "metadata": {},
   "source": [
    "Neste gráfico, os valores de `acousticness` estão em sua maioria abaixo de 0,5, com poucos *outliers* com valores altos. Completanto a conclusão feita a partir da *feature* `danceability`, pode-se afirmar que a maioria dos hits, além de serem dançantes, são não-acústicas (geralmente gravadas em estúdio)."
   ]
  },
  {
   "cell_type": "markdown",
   "metadata": {},
   "source": [
    "<a id=\"histogramas\"></a>\n",
    "### Histogramas\n",
    "\n",
    "Em linhas gerais, um histograma é uma representação da distribuição de dados numéricos, mostrando a frequência dos valores que ocorrem em um conjunto de dados. O intervalo em que os valores ocorrem é dividido em partes iguais (*bins*) cujo tamanho pode ser especificado pela pessoa analista, e a quantidade de valores que estão em cada uma dessas partes é representada por barras. Diferentemente dos gráficos de barras, histogramas não possuem espaços entre as barras por representarem valores em um espectro contínuo.\n",
    "\n",
    "No Pandas, um histograma de valores é facilmente construído adicionando o comando `.hist()` em um *DataFrame* ou *Series*. Assim como para os *boxplots*, construímos a seguir histogramas com a distribuição de valores das colunas `danceability` e `acousticness` do conjunto de músicas que entraram nas paradas globais do Spotify. Observe que as mesmas conclusões dos *boxplots* podem ser obtidas a partir dos histogramas, por serem duas formas diferentes de visualizar a mesma informação, i.e., a distribuição dos valores. "
   ]
  },
  {
   "cell_type": "code",
   "execution_count": 19,
   "metadata": {},
   "outputs": [
    {
     "data": {
      "text/plain": [
       "<AxesSubplot:>"
      ]
     },
     "execution_count": 19,
     "metadata": {},
     "output_type": "execute_result"
    },
    {
     "data": {
      "image/png": "[encoded data removed]",
      "text/plain": [
       "<Figure size 432x288 with 1 Axes>"
      ]
     },
     "metadata": {
      "needs_background": "light"
     },
     "output_type": "display_data"
    }
   ],
   "source": [
    "df['danceability'].hist() # Histograma de valores de 'danceability'"
   ]
  },
  {
   "cell_type": "code",
   "execution_count": 20,
   "metadata": {},
   "outputs": [
    {
     "data": {
      "image/png": "[encoded data removed]",
      "text/plain": [
       "<Figure size 504x118.8 with 2 Axes>"
      ]
     },
     "metadata": {
      "needs_background": "light"
     },
     "output_type": "display_data"
    }
   ],
   "source": [
    "# Histograma de valores de \n",
    "#  'danceability' e 'acousticness'\n",
    "\n",
    "df[[\n",
    "    'danceability',\n",
    "    'acousticness'\n",
    "]].hist(figsize=(7, 1.65));"
   ]
  },
  {
   "cell_type": "markdown",
   "metadata": {},
   "source": [
    "<a id=\"correlacoes\"></a>\n",
    "## Correlações\n",
    "\n",
    "Em estatística, a correlação é uma métrica que informa o grau em que duas ou mais variáveis estão relacionadas entre si. A correlação entre variáveis pode ser medida por um coeficiente, cujo valore varia entre -1 e 1. Uma correlação é dita **totalmente positiva** quando o coeficiente é exatamente igual a 1. De forma similar, um coeficiente de correlação igual a -1 indica uma correlação **totalmente negativa**. Valores de correlação iguais a zero informam que não existe correlação explícita entre as variáveis consideradas. Existem várias formas de se calcular coeficientes de correlação, dentre as quais pode-se eleger dois principais:\n",
    "\n",
    "- Pearson ($r$): mede a correlação linear (de primeira ordem) entre variáveis;\n",
    "- Spearman ($\\rho$): mede correlação monotônica entre variáveis, i.e., utiliza a ordem dos dados ao invés dos valores em si;\n",
    "\n",
    "Para calcular correlações, o Pandas dispõe da função `corr()`, que pode ser facilmente aplicada tanto para *Series* quanto para *DataFrame*. No exemplo a seguir, é calculado o valor do coeficiente de Pearson para as colunas `energy` e `loudness`, que medem a intensidade de uma música e a altura medida em decibéis (dB), respectivamente."
   ]
  },
  {
   "cell_type": "code",
   "execution_count": 21,
   "metadata": {},
   "outputs": [
    {
     "data": {
      "text/plain": [
       "0.7371095489903126"
      ]
     },
     "execution_count": 21,
     "metadata": {},
     "output_type": "execute_result"
    }
   ],
   "source": [
    "# Correlação de Pearson entre as colunas energy e loudness\n",
    "df['energy'].corr(other=df['loudness'], method='pearson')  "
   ]
  },
  {
   "cell_type": "markdown",
   "metadata": {},
   "source": [
    "A partir deste resultado, pode-se dizer que a correlação linear entre essas duas variáveis e forte e positiva, pois o valor de $0.737$ é muito próximo de 1. Ou seja, à medida em que o valor de `energy` aumenta, o valor de `loudness` também segue essa tendência, e vice-versa. É importante ressaltar que correlação não necessariamente implica causalidade, e portanto não é possível afirmar que uma coisa acontece por causa da outra, mas sim que ambas ocorrem juntas.\n",
    "\n",
    "Além disso, cientistas de dados frequentemente calculam correlações entre mais de duas variáveis para ter uma visão mais global de algum fenômeno. Para isso, **matrizes de correlação** são bastante úteis, pois permitem uma fácil e rápida visualização em única estrutra de dados. Em uma matriz de correlação $M$, as linhas e colunas são as variáveis para as quais se deseja observar a correlação, e os valores $m_{ij}$ representam a correlação entre as variáveis $i$ e $j$. A diagonal principal dessas matrizes é sempre igual a 1, pois a correlação entre uma variável e ela mesma é total. A seguir, é mostrada a matriz de correlação entre algumas *features* acústicas das música, isto é, obtidas do áudio da canção."
   ]
  },
  {
   "cell_type": "code",
   "execution_count": 22,
   "metadata": {},
   "outputs": [
    {
     "data": {
      "text/html": [
       "<div>\n",
       "<style scoped>\n",
       "    .dataframe tbody tr th:only-of-type {\n",
       "        vertical-align: middle;\n",
       "    }\n",
       "\n",
       "    .dataframe tbody tr th {\n",
       "        vertical-align: top;\n",
       "    }\n",
       "\n",
       "    .dataframe thead th {\n",
       "        text-align: right;\n",
       "    }\n",
       "</style>\n",
       "<table border=\"1\" class=\"dataframe\">\n",
       "  <thead>\n",
       "    <tr style=\"text-align: right;\">\n",
       "      <th></th>\n",
       "      <th>acousticness</th>\n",
       "      <th>danceability</th>\n",
       "      <th>energy</th>\n",
       "      <th>instrumentalness</th>\n",
       "      <th>loudness</th>\n",
       "      <th>valence</th>\n",
       "    </tr>\n",
       "  </thead>\n",
       "  <tbody>\n",
       "    <tr>\n",
       "      <th>acousticness</th>\n",
       "      <td>1.000000</td>\n",
       "      <td>-0.210552</td>\n",
       "      <td>-0.427403</td>\n",
       "      <td>-0.007332</td>\n",
       "      <td>-0.313412</td>\n",
       "      <td>-0.034162</td>\n",
       "    </tr>\n",
       "    <tr>\n",
       "      <th>danceability</th>\n",
       "      <td>-0.210552</td>\n",
       "      <td>1.000000</td>\n",
       "      <td>0.051333</td>\n",
       "      <td>-0.017828</td>\n",
       "      <td>0.149479</td>\n",
       "      <td>0.312837</td>\n",
       "    </tr>\n",
       "    <tr>\n",
       "      <th>energy</th>\n",
       "      <td>-0.427403</td>\n",
       "      <td>0.051333</td>\n",
       "      <td>1.000000</td>\n",
       "      <td>0.009851</td>\n",
       "      <td>0.703220</td>\n",
       "      <td>0.343683</td>\n",
       "    </tr>\n",
       "    <tr>\n",
       "      <th>instrumentalness</th>\n",
       "      <td>-0.007332</td>\n",
       "      <td>-0.017828</td>\n",
       "      <td>0.009851</td>\n",
       "      <td>1.000000</td>\n",
       "      <td>-0.130229</td>\n",
       "      <td>-0.133157</td>\n",
       "    </tr>\n",
       "    <tr>\n",
       "      <th>loudness</th>\n",
       "      <td>-0.313412</td>\n",
       "      <td>0.149479</td>\n",
       "      <td>0.703220</td>\n",
       "      <td>-0.130229</td>\n",
       "      <td>1.000000</td>\n",
       "      <td>0.330416</td>\n",
       "    </tr>\n",
       "    <tr>\n",
       "      <th>valence</th>\n",
       "      <td>-0.034162</td>\n",
       "      <td>0.312837</td>\n",
       "      <td>0.343683</td>\n",
       "      <td>-0.133157</td>\n",
       "      <td>0.330416</td>\n",
       "      <td>1.000000</td>\n",
       "    </tr>\n",
       "  </tbody>\n",
       "</table>\n",
       "</div>"
      ],
      "text/plain": [
       "                  acousticness  danceability    energy  instrumentalness  \\\n",
       "acousticness          1.000000     -0.210552 -0.427403         -0.007332   \n",
       "danceability         -0.210552      1.000000  0.051333         -0.017828   \n",
       "energy               -0.427403      0.051333  1.000000          0.009851   \n",
       "instrumentalness     -0.007332     -0.017828  0.009851          1.000000   \n",
       "loudness             -0.313412      0.149479  0.703220         -0.130229   \n",
       "valence              -0.034162      0.312837  0.343683         -0.133157   \n",
       "\n",
       "                  loudness   valence  \n",
       "acousticness     -0.313412 -0.034162  \n",
       "danceability      0.149479  0.312837  \n",
       "energy            0.703220  0.343683  \n",
       "instrumentalness -0.130229 -0.133157  \n",
       "loudness          1.000000  0.330416  \n",
       "valence           0.330416  1.000000  "
      ]
     },
     "execution_count": 22,
     "metadata": {},
     "output_type": "execute_result"
    }
   ],
   "source": [
    "# Construção da matriz de correlação para features acústicas\n",
    "acoustic_features = ['acousticness', 'danceability', 'energy', 'instrumentalness','loudness', 'valence']\n",
    "df[acoustic_features].corr(method='spearman')    # Aqui, vamos utilizar a correlação de Spearman"
   ]
  },
  {
   "cell_type": "markdown",
   "metadata": {},
   "source": [
    "Nesta matriz, utiliza-se a correlação de Spearman entre as colunas do *DataFrame*. O tipo de correlação pode ser definido através do parâmetro `method`. Além dos coeficientes de Pearson e Spearman, a função `corr()` do Pandas também permite calcular a correlação de Kendall ($\\tau$), que também é baseada na ordem das variáveis.\n",
    "\n",
    "Como pode ser notado nos tópicos mencionados acima, a análise exploratória dos dados possui uma grande interseção com a etapa de visualização de dados. Isso se deve ao fato de muitas ferramentas de análise de dados produzem gráficos como resultado, como por exemplo histogramas, gráficos de caixa (*boxplots*), dentre outros. No entanto, o objetivo desta seção é apenas apresentar as principais funções do Pandas e outras bibliotecas que nos auxiliam na exploração dos dados, ou seja, o foco aqui reside na análise destes dados. As informações detalhadas sobre os diferentes tipos de visualizações e como personalizá-las são abordadas nos próximos notebooks (referentes à seção de visualização de dados). "
   ]
  },
  {
   "cell_type": "markdown",
   "metadata": {},
   "source": [
    "## Conclusão\n",
    "\n",
    "Este notebook apresentou o básico da ciência de dados com análise exploratória.\n",
    "\n",
    "O próximo notebook ([5.2.Quantidade.ipynb](5.2.Quantidade.ipynb)) apresenta como representar graficamente informações de quantidade."
   ]
  },
  {
   "cell_type": "code",
   "execution_count": null,
   "metadata": {},
   "outputs": [],
   "source": []
  }
 ],
 "metadata": {
  "julynter-results": {
   "filteredId": [],
   "filteredIndividual": [],
   "filteredRestart": [],
   "filteredType": [],
   "hash": "9db5ffa7085e77cdc9f68d0afcd00474e53c1298",
   "visible": []
  },
  "kernelspec": {
   "display_name": "Python 3",
   "language": "python",
   "name": "python3"
  },
  "language_info": {
   "codemirror_mode": {
    "name": "ipython",
    "version": 3
   },
   "file_extension": ".py",
   "mimetype": "text/x-python",
   "name": "python",
   "nbconvert_exporter": "python",
   "pygments_lexer": "ipython3",
   "version": "3.8.5"
  },
  "latex_envs": {
   "LaTeX_envs_menu_present": true,
   "autoclose": true,
   "autocomplete": true,
   "bibliofile": "biblio.bib",
   "cite_by": "apalike",
   "current_citInitial": 1,
   "eqLabelWithNumbers": true,
   "eqNumInitial": 1,
   "hotkeys": {
    "equation": "Ctrl-E",
    "itemize": "Ctrl-I"
   },
   "labels_anchors": false,
   "latex_user_defs": false,
   "report_style_numbering": false,
   "user_envs_cfg": false
  }
 },
 "nbformat": 4,
 "nbformat_minor": 4
}
