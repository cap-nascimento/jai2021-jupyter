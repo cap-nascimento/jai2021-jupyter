{
 "cells": [
  {
   "cell_type": "markdown",
   "metadata": {
    "slideshow": {
     "slide_suffix": "Superconjunto",
     "slide_title": "Jupyter Avançado",
     "slide_type": "slide"
    },
    "tags": []
   },
   "source": [
    "## Superconjunto\n",
    "\n",
    "Este notebook tem o objetivo de apresentar o IPython como um superconjunto do Python. Ou seja, ele estende a sintaxe do Python para adicionar novas funcionalidades."
   ]
  },
  {
   "cell_type": "markdown",
   "metadata": {},
   "source": [
    "Extensões:\n",
    "\n",
    "- Expressão Bang\n",
    "- Mágica de linha\n",
    "- Mágica de célula\n",
    "- Consulta à documentação\n"
   ]
  },
  {
   "cell_type": "markdown",
   "metadata": {
    "slideshow": {
     "slide_type": "slide"
    },
    "tags": []
   },
   "source": [
    "### Expressão Bang\n",
    "\n",
    "Executa comandos no sistema e retorna a saída do comando como resultado.\n",
    "\n",
    "Já foi apresentada anteriormente como:\n",
    "```\n",
    "!pip install fuzzywuzzy\n",
    "```"
   ]
  },
  {
   "cell_type": "markdown",
   "metadata": {
    "slideshow": {
     "slide_type": "slide"
    },
    "tags": []
   },
   "source": [
    "Mas podemos usar qualquer comando de sistema:"
   ]
  },
  {
   "cell_type": "code",
   "execution_count": 1,
   "metadata": {
    "tags": []
   },
   "outputs": [
    {
     "name": "stdout",
     "output_type": "stream",
     "text": [
      "spotify_artists_info_complete.tsv  spotify_charts_complete.tsv\n",
      "spotify_artists_info_edited.csv    spotify_hits_dataset_complete.tsv\n"
     ]
    }
   ],
   "source": [
    "!ls ../dataset/ "
   ]
  },
  {
   "cell_type": "markdown",
   "metadata": {
    "slideshow": {
     "slide_type": "slide"
    },
    "tags": []
   },
   "source": [
    "É o equivalente a\n",
    "\n",
    "```python\n",
    "get_ipython().system('ls ../dataset/')\n",
    "```"
   ]
  },
  {
   "cell_type": "markdown",
   "metadata": {
    "slideshow": {
     "slide_type": "slide"
    },
    "tags": []
   },
   "source": [
    "A seguinte célula atribui a lista de arquivos a variável files.\n",
    "\n",
    "Em seguida, ela percorre os arquivos, pegando nome e número de linhas."
   ]
  },
  {
   "cell_type": "code",
   "execution_count": 2,
   "metadata": {},
   "outputs": [
    {
     "name": "stdout",
     "output_type": "stream",
     "text": [
      "spotify_artists_info_complete.tsv -- 626\n",
      "spotify_artists_info_edited.csv -- 626\n",
      "spotify_charts_complete.tsv -- 10401\n",
      "spotify_hits_dataset_complete.tsv -- 1285\n"
     ]
    }
   ],
   "source": [
    "files = !ls ../dataset/\n",
    "for name in files:\n",
    "    content = open(\"../dataset/\" + name).readlines()\n",
    "    print(name, '--', len(content))"
   ]
  },
  {
   "cell_type": "markdown",
   "metadata": {
    "slideshow": {
     "slide_type": "slide"
    },
    "tags": []
   },
   "source": [
    "Como está em uma atribuição, a expressão bang é transformada em um uma função ligeiramente diferente:\n",
    "\n",
    "```python\n",
    "files = get_ipython().getoutput('ls ../dataset/')\n",
    "```"
   ]
  },
  {
   "cell_type": "markdown",
   "metadata": {
    "slideshow": {
     "slide_type": "slide"
    },
    "tags": []
   },
   "source": [
    "Comparando:\n",
    "\n",
    "- `get_ipython().system('ls')` imprime resultado do comando\n",
    "- `get_ipython().getoutput('ls')` retorna resultado do comando"
   ]
  },
  {
   "cell_type": "markdown",
   "metadata": {
    "slideshow": {
     "slide_type": "slide"
    },
    "tags": []
   },
   "source": [
    "### Mágica de linha\n",
    "\n",
    "Tem o objetivo de modificar a forma de executar uma linha."
   ]
  },
  {
   "cell_type": "code",
   "execution_count": 3,
   "metadata": {},
   "outputs": [
    {
     "name": "stdout",
     "output_type": "stream",
     "text": [
      "   1: !ls ../dataset/\n",
      "   2:\n",
      "files = !ls ../dataset/\n",
      "for name in files:\n",
      "    content = open(\"../dataset/\" + name).readlines()\n",
      "    print(name, '--', len(content))\n",
      "   3: %history -n\n"
     ]
    }
   ],
   "source": [
    "%history -n"
   ]
  },
  {
   "cell_type": "markdown",
   "metadata": {
    "slideshow": {
     "slide_type": "slide"
    },
    "tags": []
   },
   "source": [
    "Essa mágica é transformada em:\n",
    "```python\n",
    "get_ipython().run_line_magic('history', '-n')\n",
    "```\n"
   ]
  },
  {
   "cell_type": "markdown",
   "metadata": {},
   "source": [
    "Essencialmente, mágicas de linha são funções chamadas de uma forma um pouco diferente."
   ]
  },
  {
   "cell_type": "markdown",
   "metadata": {
    "slideshow": {
     "slide_type": "slide"
    },
    "tags": []
   },
   "source": [
    "#### Mágicas de linha mais usadas\n",
    "\n",
    "| Mágica | Notebooks | Descrição | \n",
    "|:------ |:---------:|:-------- |\n",
    "| `%matplotlib` | 156.353 | Configura matplotlib para funcionar interativamente |\n",
    "| `%load_ext` | 14.216 | Carrega uma extensão IPython pelo nome do módulo |\n",
    "| `%autoreload` | 12.920 | Recarrega módulos automaticamente |\n",
    "| `%pylab` | 8.183 | Carrega numpy e matplotlib |\n",
    "| `%time` | 5.172 | Mede a duração da execução de uma expressão | \n",
    "| `%config` | 4.805 | Configura o IPython |\n",
    "| `%pinfo` | 3.253 | Acessa a documentação de um objeto | \n",
    "| `%run` | 2.474 | Executa um arquivo Python dentro do IPython |\n",
    "| `%timeit` | 2.318 | Tira a mediana de várias execuções de `%time` | \n",
    "| `%reload_ext` | 1.635 | Recarrega uma extensão IPython|\n",
    "\n",
    "Extraídas de um conjunto de 173.256 notebooks que usavam mágicas de linha em um estudo que coletou 1.450.071 notebooks do GitHub [Pimentel et al. 2021]."
   ]
  },
  {
   "cell_type": "markdown",
   "metadata": {
    "slideshow": {
     "slide_type": "slide"
    },
    "tags": []
   },
   "source": [
    "### Mágica de célula\n",
    "\n",
    "Tem o objetivo de modificar a forma de executar uma célula."
   ]
  },
  {
   "cell_type": "code",
   "execution_count": 4,
   "metadata": {},
   "outputs": [
    {
     "data": {
      "text/html": [
       "<a href=\"../dataset/spotify_artists_info_complete.tsv\">artists</a>\n",
       "<a href=\"../dataset/spotify_charts_complete.tsv\">charts</a>\n",
       "<a href=\"../dataset/spotify_hits_dataset_complete.tsv\">hits</a>\n"
      ],
      "text/plain": [
       "<IPython.core.display.HTML object>"
      ]
     },
     "metadata": {},
     "output_type": "display_data"
    }
   ],
   "source": [
    "%%html\n",
    "<a href=\"../dataset/spotify_artists_info_complete.tsv\">artists</a>\n",
    "<a href=\"../dataset/spotify_charts_complete.tsv\">charts</a>\n",
    "<a href=\"../dataset/spotify_hits_dataset_complete.tsv\">hits</a>"
   ]
  },
  {
   "cell_type": "markdown",
   "metadata": {
    "slideshow": {
     "slide_type": "slide"
    },
    "tags": []
   },
   "source": [
    "Essa mágica é transformada em:\n",
    "\n",
    "```python\n",
    "get_ipython().run_cell_magic('html', '', '<a href...</a>\\n')\n",
    "```"
   ]
  },
  {
   "cell_type": "markdown",
   "metadata": {
    "slideshow": {
     "slide_type": "slide"
    },
    "tags": []
   },
   "source": [
    "Considerações:\n",
    "- Mágica de célula deve ser usada no topo da célula\n",
    "- Pode aceitar parâmetros semelhantes ao da mágica de linha\n",
    "- Permite combinar diversas linguagens em um notebook"
   ]
  },
  {
   "cell_type": "markdown",
   "metadata": {
    "slideshow": {
     "slide_type": "slide"
    },
    "tags": []
   },
   "source": [
    "#### Desvantagem de mágicas de célula\n",
    "\n",
    "Como elas modificam a forma de executar a célula inteira, muitas vezes não é possível combinar a geração do conteúdo com Python para gerar resultados programando."
   ]
  },
  {
   "cell_type": "markdown",
   "metadata": {
    "slideshow": {
     "slide_type": "slide"
    },
    "tags": []
   },
   "source": [
    "Por exemplo, se quisermos gerar o HTML com links a partir de arquivos na pasta:"
   ]
  },
  {
   "cell_type": "code",
   "execution_count": 5,
   "metadata": {},
   "outputs": [
    {
     "data": {
      "text/plain": [
       "'<a href=\"../dataset/spotify_artists_info_complete.tsv\">spotify_artists_info_complete.tsv</a><br><a href=\"../dataset/spotify_artists_info_edited.csv\">spotify_artists_info_edited.csv</a><br><a href=\"../dataset/spotify_charts_complete.tsv\">spotify_charts_complete.tsv</a><br><a href=\"../dataset/spotify_hits_dataset_complete.tsv\">spotify_hits_dataset_complete.tsv</a>'"
      ]
     },
     "execution_count": 5,
     "metadata": {},
     "output_type": "execute_result"
    }
   ],
   "source": [
    "html = '<br>'.join(\n",
    "    f'<a href=\"../dataset/{name}\">{name}</a>'\n",
    "    for name in files\n",
    ")\n",
    "html"
   ]
  },
  {
   "cell_type": "code",
   "execution_count": 6,
   "metadata": {
    "tags": []
   },
   "outputs": [
    {
     "data": {
      "text/html": [
       "{html}\n"
      ],
      "text/plain": [
       "<IPython.core.display.HTML object>"
      ]
     },
     "metadata": {},
     "output_type": "display_data"
    }
   ],
   "source": [
    "%%html\n",
    "{html}"
   ]
  },
  {
   "cell_type": "markdown",
   "metadata": {
    "slideshow": {
     "slide_type": "slide"
    },
    "tags": []
   },
   "source": [
    "Usando o comando direto no kernel, é possível chegar ao resultado:"
   ]
  },
  {
   "cell_type": "code",
   "execution_count": 7,
   "metadata": {},
   "outputs": [
    {
     "data": {
      "text/html": [
       "<a href=\"../dataset/spotify_artists_info_complete.tsv\">spotify_artists_info_complete.tsv</a><br><a href=\"../dataset/spotify_artists_info_edited.csv\">spotify_artists_info_edited.csv</a><br><a href=\"../dataset/spotify_charts_complete.tsv\">spotify_charts_complete.tsv</a><br><a href=\"../dataset/spotify_hits_dataset_complete.tsv\">spotify_hits_dataset_complete.tsv</a>"
      ],
      "text/plain": [
       "<IPython.core.display.HTML object>"
      ]
     },
     "metadata": {},
     "output_type": "display_data"
    }
   ],
   "source": [
    "get_ipython().run_cell_magic('html', '', html)"
   ]
  },
  {
   "cell_type": "markdown",
   "metadata": {
    "slideshow": {
     "slide_type": "slide"
    },
    "tags": []
   },
   "source": [
    "Ou, mais diretamente, usando funções de exibição do IPython (`display` e `HTML`):"
   ]
  },
  {
   "cell_type": "code",
   "execution_count": 8,
   "metadata": {},
   "outputs": [
    {
     "data": {
      "text/html": [
       "<a href=\"../dataset/spotify_artists_info_complete.tsv\">spotify_artists_info_complete.tsv</a><br><a href=\"../dataset/spotify_artists_info_edited.csv\">spotify_artists_info_edited.csv</a><br><a href=\"../dataset/spotify_charts_complete.tsv\">spotify_charts_complete.tsv</a><br><a href=\"../dataset/spotify_hits_dataset_complete.tsv\">spotify_hits_dataset_complete.tsv</a>"
      ],
      "text/plain": [
       "<IPython.core.display.HTML object>"
      ]
     },
     "metadata": {},
     "output_type": "display_data"
    }
   ],
   "source": [
    "from IPython.display import HTML\n",
    "display(HTML(html))"
   ]
  },
  {
   "cell_type": "markdown",
   "metadata": {
    "slideshow": {
     "slide_type": "slide"
    },
    "tags": []
   },
   "source": [
    "#### Mágicas de célula mais usadas\n",
    "\n",
    "| Mágica | Notebooks | Descrição | \n",
    "|:------ |:---------:|:-------- |\n",
    "| `%%time` | 13.129 | O mesmo que `%time`, mas para a célula | \n",
    "| `%%html` | 2.944 | Exibe célula como HTML | \n",
    "| `%%writefile` | 2.937 | Escreve o conteúdo de uma célula em um arquivo | \n",
    "| `%%bash` | 2.850 | Executa a célula com bash em um subprocesso |\n",
    "| `%%timeit` | 2.628 | O mesmo que `%timeit`, mas para a célula |\n",
    "| `%%javascript` | 2.447 | Executa a célula em Javascript no navegador | \n",
    "| `%%sql` | 1.822 | Realiza consulta SQL |\n",
    "| `%%R` | 1.285 | Executa a célula com R em um subprocesso | \n",
    "| `%%capture` | 1.131 | Captura stdout, stderr e IPython display da execução |\n",
    "| `%%cython` | 1.117 | Compila e importa todas as funções definidas em cython |\n",
    "\n",
    "Extraídas de um conjunto de 33.541 notebooks que usavam mágicas de célula em um estudo que coletou 1.450.071 notebooks do GitHub [Pimentel et al. 2021]."
   ]
  },
  {
   "cell_type": "markdown",
   "metadata": {
    "slideshow": {
     "slide_type": "slide"
    },
    "tags": []
   },
   "source": [
    "### Mágicas disponíveis\n",
    "\n",
    "Nem todas essas mágicas estão disponíveis em uma instalação inicial do Jupyter. Muitas vêm de bibliotecas externas. Para saber quais estão disponíveis, é possível usar uma mágica de linha."
   ]
  },
  {
   "cell_type": "code",
   "execution_count": 9,
   "metadata": {},
   "outputs": [
    {
     "data": {
      "application/json": {
       "cell": {
        "!": "OSMagics",
        "HTML": "Other",
        "SVG": "Other",
        "bash": "Other",
        "capture": "ExecutionMagics",
        "debug": "ExecutionMagics",
        "file": "Other",
        "html": "DisplayMagics",
        "javascript": "DisplayMagics",
        "js": "DisplayMagics",
        "latex": "DisplayMagics",
        "markdown": "DisplayMagics",
        "perl": "Other",
        "prun": "ExecutionMagics",
        "pypy": "Other",
        "python": "Other",
        "python2": "Other",
        "python3": "Other",
        "ruby": "Other",
        "script": "ScriptMagics",
        "sh": "Other",
        "svg": "DisplayMagics",
        "sx": "OSMagics",
        "system": "OSMagics",
        "time": "ExecutionMagics",
        "timeit": "ExecutionMagics",
        "writefile": "OSMagics"
       },
       "line": {
        "alias": "OSMagics",
        "alias_magic": "BasicMagics",
        "autoawait": "AsyncMagics",
        "autocall": "AutoMagics",
        "automagic": "AutoMagics",
        "autosave": "KernelMagics",
        "bookmark": "OSMagics",
        "cat": "Other",
        "cd": "OSMagics",
        "clear": "KernelMagics",
        "colors": "BasicMagics",
        "conda": "PackagingMagics",
        "config": "ConfigMagics",
        "connect_info": "KernelMagics",
        "cp": "Other",
        "debug": "ExecutionMagics",
        "dhist": "OSMagics",
        "dirs": "OSMagics",
        "doctest_mode": "BasicMagics",
        "ed": "Other",
        "edit": "KernelMagics",
        "env": "OSMagics",
        "gui": "BasicMagics",
        "hist": "Other",
        "history": "HistoryMagics",
        "killbgscripts": "ScriptMagics",
        "ldir": "Other",
        "less": "KernelMagics",
        "lf": "Other",
        "lk": "Other",
        "ll": "Other",
        "load": "CodeMagics",
        "load_ext": "ExtensionMagics",
        "loadpy": "CodeMagics",
        "logoff": "LoggingMagics",
        "logon": "LoggingMagics",
        "logstart": "LoggingMagics",
        "logstate": "LoggingMagics",
        "logstop": "LoggingMagics",
        "ls": "Other",
        "lsmagic": "BasicMagics",
        "lx": "Other",
        "macro": "ExecutionMagics",
        "magic": "BasicMagics",
        "man": "KernelMagics",
        "matplotlib": "PylabMagics",
        "mkdir": "Other",
        "more": "KernelMagics",
        "mv": "Other",
        "notebook": "BasicMagics",
        "page": "BasicMagics",
        "pastebin": "CodeMagics",
        "pdb": "ExecutionMagics",
        "pdef": "NamespaceMagics",
        "pdoc": "NamespaceMagics",
        "pfile": "NamespaceMagics",
        "pinfo": "NamespaceMagics",
        "pinfo2": "NamespaceMagics",
        "pip": "PackagingMagics",
        "popd": "OSMagics",
        "pprint": "BasicMagics",
        "precision": "BasicMagics",
        "prun": "ExecutionMagics",
        "psearch": "NamespaceMagics",
        "psource": "NamespaceMagics",
        "pushd": "OSMagics",
        "pwd": "OSMagics",
        "pycat": "OSMagics",
        "pylab": "PylabMagics",
        "qtconsole": "KernelMagics",
        "quickref": "BasicMagics",
        "recall": "HistoryMagics",
        "rehashx": "OSMagics",
        "reload_ext": "ExtensionMagics",
        "rep": "Other",
        "rerun": "HistoryMagics",
        "reset": "NamespaceMagics",
        "reset_selective": "NamespaceMagics",
        "rm": "Other",
        "rmdir": "Other",
        "run": "ExecutionMagics",
        "save": "CodeMagics",
        "sc": "OSMagics",
        "set_env": "OSMagics",
        "store": "StoreMagics",
        "sx": "OSMagics",
        "system": "OSMagics",
        "tb": "ExecutionMagics",
        "time": "ExecutionMagics",
        "timeit": "ExecutionMagics",
        "unalias": "OSMagics",
        "unload_ext": "ExtensionMagics",
        "who": "NamespaceMagics",
        "who_ls": "NamespaceMagics",
        "whos": "NamespaceMagics",
        "xdel": "NamespaceMagics",
        "xmode": "BasicMagics"
       }
      },
      "text/plain": [
       "Available line magics:\n",
       "%alias  %alias_magic  %autoawait  %autocall  %automagic  %autosave  %bookmark  %cat  %cd  %clear  %colors  %conda  %config  %connect_info  %cp  %debug  %dhist  %dirs  %doctest_mode  %ed  %edit  %env  %gui  %hist  %history  %killbgscripts  %ldir  %less  %lf  %lk  %ll  %load  %load_ext  %loadpy  %logoff  %logon  %logstart  %logstate  %logstop  %ls  %lsmagic  %lx  %macro  %magic  %man  %matplotlib  %mkdir  %more  %mv  %notebook  %page  %pastebin  %pdb  %pdef  %pdoc  %pfile  %pinfo  %pinfo2  %pip  %popd  %pprint  %precision  %prun  %psearch  %psource  %pushd  %pwd  %pycat  %pylab  %qtconsole  %quickref  %recall  %rehashx  %reload_ext  %rep  %rerun  %reset  %reset_selective  %rm  %rmdir  %run  %save  %sc  %set_env  %store  %sx  %system  %tb  %time  %timeit  %unalias  %unload_ext  %who  %who_ls  %whos  %xdel  %xmode\n",
       "\n",
       "Available cell magics:\n",
       "%%!  %%HTML  %%SVG  %%bash  %%capture  %%debug  %%file  %%html  %%javascript  %%js  %%latex  %%markdown  %%perl  %%prun  %%pypy  %%python  %%python2  %%python3  %%ruby  %%script  %%sh  %%svg  %%sx  %%system  %%time  %%timeit  %%writefile\n",
       "\n",
       "Automagic is ON, % prefix IS NOT needed for line magics."
      ]
     },
     "execution_count": 9,
     "metadata": {},
     "output_type": "execute_result"
    }
   ],
   "source": [
    "%lsmagic"
   ]
  },
  {
   "cell_type": "markdown",
   "metadata": {
    "slideshow": {
     "slide_type": "slide"
    },
    "tags": []
   },
   "source": [
    "### Consulta à documentação"
   ]
  },
  {
   "cell_type": "code",
   "execution_count": 10,
   "metadata": {},
   "outputs": [
    {
     "data": {
      "text/plain": [
       "\u001b[0;31mSignature:\u001b[0m \u001b[0mlen\u001b[0m\u001b[0;34m(\u001b[0m\u001b[0mobj\u001b[0m\u001b[0;34m,\u001b[0m \u001b[0;34m/\u001b[0m\u001b[0;34m)\u001b[0m\u001b[0;34m\u001b[0m\u001b[0;34m\u001b[0m\u001b[0m\n",
       "\u001b[0;31mDocstring:\u001b[0m Return the number of items in a container.\n",
       "\u001b[0;31mType:\u001b[0m      builtin_function_or_method\n"
      ]
     },
     "metadata": {},
     "output_type": "display_data"
    }
   ],
   "source": [
    "len?"
   ]
  },
  {
   "cell_type": "markdown",
   "metadata": {
    "slideshow": {
     "slide_type": "slide"
    },
    "tags": []
   },
   "source": [
    "Ao adicionar uma interrogação em um nome e executar a célula, o IPython exibe a documentação. \n",
    "\n",
    "Essa consulta é convertida em:\n",
    "\n",
    "```python\n",
    "get_ipython().run_line_magic('pinfo', 'len')\n",
    "```\n",
    "\n",
    "Que é o mesmo que:\n",
    "```python\n",
    "%pinfo len\n",
    "```"
   ]
  },
  {
   "cell_type": "markdown",
   "metadata": {
    "slideshow": {
     "slide_type": "slide"
    },
    "tags": []
   },
   "source": [
    "A consulta pode ser feita em qualquer nome ou atributo:\n",
    "- Funções\n",
    "- Classes\n",
    "- Variáveis\n",
    "- Mágicas"
   ]
  },
  {
   "cell_type": "markdown",
   "metadata": {
    "slideshow": {
     "slide_type": "slide"
    },
    "tags": []
   },
   "source": [
    "Por exemplo:"
   ]
  },
  {
   "cell_type": "code",
   "execution_count": 11,
   "metadata": {},
   "outputs": [
    {
     "data": {
      "text/plain": [
       "\u001b[0;31mDocstring:\u001b[0m List currently available magic functions.\n",
       "\u001b[0;31mFile:\u001b[0m      ~/anaconda3/lib/python3.8/site-packages/IPython/core/magics/basic.py\n"
      ]
     },
     "metadata": {},
     "output_type": "display_data"
    }
   ],
   "source": [
    "%lsmagic?"
   ]
  },
  {
   "cell_type": "markdown",
   "metadata": {},
   "source": [
    " "
   ]
  },
  {
   "cell_type": "markdown",
   "metadata": {
    "slideshow": {
     "slide_type": "slide"
    },
    "tags": []
   },
   "source": [
    "Além de consultar a documentação, é possível consultar o código fonte de qualquer função, classe ou mágica definida em Python, através do uso de duas interrogações."
   ]
  },
  {
   "cell_type": "code",
   "execution_count": 12,
   "metadata": {},
   "outputs": [
    {
     "data": {
      "text/plain": [
       "\u001b[0;31mSource:\u001b[0m\n",
       "    \u001b[0;34m@\u001b[0m\u001b[0mline_magic\u001b[0m\u001b[0;34m\u001b[0m\n",
       "\u001b[0;34m\u001b[0m    \u001b[0;32mdef\u001b[0m \u001b[0mlsmagic\u001b[0m\u001b[0;34m(\u001b[0m\u001b[0mself\u001b[0m\u001b[0;34m,\u001b[0m \u001b[0mparameter_s\u001b[0m\u001b[0;34m=\u001b[0m\u001b[0;34m''\u001b[0m\u001b[0;34m)\u001b[0m\u001b[0;34m:\u001b[0m\u001b[0;34m\u001b[0m\n",
       "\u001b[0;34m\u001b[0m        \u001b[0;34m\"\"\"List currently available magic functions.\"\"\"\u001b[0m\u001b[0;34m\u001b[0m\n",
       "\u001b[0;34m\u001b[0m        \u001b[0;32mreturn\u001b[0m \u001b[0mMagicsDisplay\u001b[0m\u001b[0;34m(\u001b[0m\u001b[0mself\u001b[0m\u001b[0;34m.\u001b[0m\u001b[0mshell\u001b[0m\u001b[0;34m.\u001b[0m\u001b[0mmagics_manager\u001b[0m\u001b[0;34m,\u001b[0m \u001b[0mignore\u001b[0m\u001b[0;34m=\u001b[0m\u001b[0;34m[\u001b[0m\u001b[0;34m]\u001b[0m\u001b[0;34m)\u001b[0m\u001b[0;34m\u001b[0m\u001b[0;34m\u001b[0m\u001b[0m\n",
       "\u001b[0;31mFile:\u001b[0m   ~/anaconda3/lib/python3.8/site-packages/IPython/core/magics/basic.py\n"
      ]
     },
     "metadata": {},
     "output_type": "display_data"
    }
   ],
   "source": [
    "%lsmagic??"
   ]
  },
  {
   "cell_type": "markdown",
   "metadata": {},
   "source": [
    " "
   ]
  },
  {
   "cell_type": "markdown",
   "metadata": {
    "slideshow": {
     "slide_type": "slide"
    },
    "tags": []
   },
   "source": [
    "Essa consulta é convertida em:\n",
    "\n",
    "```python\n",
    "get_ipython().run_line_magic('pinfo2', 'len')\n",
    "```\n",
    "\n",
    "Que é o mesmo que:\n",
    "```python\n",
    "%pinfo2 len\n",
    "```"
   ]
  },
  {
   "cell_type": "markdown",
   "metadata": {
    "slideshow": {
     "slide_type": "slide"
    },
    "tags": []
   },
   "source": [
    "### Transformar IPython em Python"
   ]
  },
  {
   "cell_type": "markdown",
   "metadata": {},
   "source": [
    "Todas as operações do IPython são convertidas em Python para execução. Para saber como ocorre cada transformação, é possível executar o método `transform_cell` do kernel."
   ]
  },
  {
   "cell_type": "code",
   "execution_count": 13,
   "metadata": {},
   "outputs": [
    {
     "data": {
      "text/plain": [
       "\"get_ipython().run_line_magic('pinfo2', 'len')\\n\""
      ]
     },
     "execution_count": 13,
     "metadata": {},
     "output_type": "execute_result"
    }
   ],
   "source": [
    "get_ipython().transform_cell('len??')"
   ]
  },
  {
   "cell_type": "markdown",
   "metadata": {
    "slideshow": {
     "slide_type": "slide"
    },
    "tags": []
   },
   "source": [
    "## Conclusão\n",
    "\n",
    "Este notebook apresentou bang expressions (!), mágicas de linha (%), mágicas de célula (%%), e consultas a documentação (?).\n",
    "\n",
    "\n",
    "O próximo notebook ([6.3.Magica.ipynb](6.3.Magica.ipynb)) apresenta a definição de mágicas para o IPython."
   ]
  },
  {
   "cell_type": "code",
   "execution_count": null,
   "metadata": {},
   "outputs": [],
   "source": []
  }
 ],
 "metadata": {
  "julynter-results": {
   "filteredId": [],
   "filteredIndividual": [],
   "filteredRestart": [],
   "filteredType": [],
   "hash": "6bd330fbc083762cee1645ef748bc705c948c425",
   "visible": []
  },
  "kernelspec": {
   "display_name": "Python 3",
   "language": "python",
   "name": "python3"
  },
  "language_info": {
   "codemirror_mode": {
    "name": "ipython",
    "version": 3
   },
   "file_extension": ".py",
   "mimetype": "text/x-python",
   "name": "python",
   "nbconvert_exporter": "python",
   "pygments_lexer": "ipython3",
   "version": "3.8.5"
  }
 },
 "nbformat": 4,
 "nbformat_minor": 4
}
