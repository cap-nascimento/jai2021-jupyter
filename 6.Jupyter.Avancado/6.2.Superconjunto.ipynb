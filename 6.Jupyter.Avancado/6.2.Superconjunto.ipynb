{
 "cells": [
  {
   "cell_type": "markdown",
   "metadata": {},
   "source": [
    "# Superconjunto\n",
    "\n",
    "Este notebook tem o objetivo de apresentar o IPython como um superconjunto do Python. Ou seja, ele estende a sintaxe do Python para adicionar novas funcionalidades."
   ]
  },
  {
   "cell_type": "code",
   "execution_count": 1,
   "metadata": {},
   "outputs": [],
   "source": [
    "from IPython.display import HTML"
   ]
  },
  {
   "cell_type": "code",
   "execution_count": 2,
   "metadata": {},
   "outputs": [
    {
     "name": "stdout",
     "output_type": "stream",
     "text": [
      "spotify_artists_info_complete.tsv  spotify_charts_complete.tsv\n",
      "spotify_artists_info_edited.csv    spotify_hits_dataset_complete.tsv\n"
     ]
    }
   ],
   "source": [
    "!ls ../dataset/ "
   ]
  },
  {
   "cell_type": "code",
   "execution_count": 3,
   "metadata": {},
   "outputs": [
    {
     "name": "stdout",
     "output_type": "stream",
     "text": [
      "   1: from IPython.display import HTML\n",
      "   2: !ls ../dataset/\n",
      "   3: %history -n\n"
     ]
    }
   ],
   "source": [
    "%history -n"
   ]
  },
  {
   "cell_type": "markdown",
   "metadata": {},
   "source": [
    "A seguinte célula atribui a lista de arquivos a variável files.\n",
    "\n",
    "Em seguida, ela percorre os arquivos, pegando nome e número de linhas"
   ]
  },
  {
   "cell_type": "code",
   "execution_count": 4,
   "metadata": {},
   "outputs": [
    {
     "name": "stdout",
     "output_type": "stream",
     "text": [
      "spotify_artists_info_complete.tsv -- 626\n",
      "spotify_artists_info_edited.csv -- 626\n",
      "spotify_charts_complete.tsv -- 10401\n",
      "spotify_hits_dataset_complete.tsv -- 1285\n"
     ]
    }
   ],
   "source": [
    "files = !ls ../dataset/  # Atribui lista de arquivos a variável files\n",
    "for name in files:  # Percorre arquivos, pegando nome e número de linhas\n",
    "    print(name, '--', len(open(\"../dataset/\" + name).readlines()))"
   ]
  },
  {
   "cell_type": "code",
   "execution_count": 5,
   "metadata": {},
   "outputs": [
    {
     "data": {
      "text/html": [
       "<a href=\"../dataset/spotify_artists_info_complete.tsv\">artists</a>\n",
       "<a href=\"../dataset/spotify_charts_complete.tsv\">charts</a>\n",
       "<a href=\"../dataset/spotify_hits_dataset_complete.tsv\">hits</a>\n"
      ],
      "text/plain": [
       "<IPython.core.display.HTML object>"
      ]
     },
     "metadata": {},
     "output_type": "display_data"
    }
   ],
   "source": [
    "%%html\n",
    "<a href=\"../dataset/spotify_artists_info_complete.tsv\">artists</a>\n",
    "<a href=\"../dataset/spotify_charts_complete.tsv\">charts</a>\n",
    "<a href=\"../dataset/spotify_hits_dataset_complete.tsv\">hits</a>"
   ]
  },
  {
   "cell_type": "code",
   "execution_count": 6,
   "metadata": {},
   "outputs": [
    {
     "data": {
      "text/plain": [
       "\u001b[0;31mSignature:\u001b[0m \u001b[0mlen\u001b[0m\u001b[0;34m(\u001b[0m\u001b[0mobj\u001b[0m\u001b[0;34m,\u001b[0m \u001b[0;34m/\u001b[0m\u001b[0;34m)\u001b[0m\u001b[0;34m\u001b[0m\u001b[0;34m\u001b[0m\u001b[0m\n",
       "\u001b[0;31mDocstring:\u001b[0m Return the number of items in a container.\n",
       "\u001b[0;31mType:\u001b[0m      builtin_function_or_method\n"
      ]
     },
     "metadata": {},
     "output_type": "display_data"
    }
   ],
   "source": [
    "len?"
   ]
  },
  {
   "cell_type": "code",
   "execution_count": 7,
   "metadata": {},
   "outputs": [
    {
     "data": {
      "text/html": [
       "<a href=\"../dataset/spotify_artists_info_complete.tsv\">spotify_artists_info_complete.tsv</a><br><a href=\"../dataset/spotify_artists_info_edited.csv\">spotify_artists_info_edited.csv</a><br><a href=\"../dataset/spotify_charts_complete.tsv\">spotify_charts_complete.tsv</a><br><a href=\"../dataset/spotify_hits_dataset_complete.tsv\">spotify_hits_dataset_complete.tsv</a>"
      ],
      "text/plain": [
       "<IPython.core.display.HTML object>"
      ]
     },
     "metadata": {},
     "output_type": "display_data"
    }
   ],
   "source": [
    "display(HTML(\n",
    "    '<br>'.join(\n",
    "        f'<a href=\"../dataset/{name}\">{name}</a>'\n",
    "        for name in files\n",
    "    )\n",
    "))"
   ]
  },
  {
   "cell_type": "markdown",
   "metadata": {},
   "source": [
    "## Conclusão\n",
    "\n",
    "Este notebook apresentou bang expressions (!), mágicas de linha (%), mágicas de célula (%%), e consultas a documentação (?)\n",
    "\n",
    "\n",
    "O próximo notebook ([6.3.Magica.ipynb](6.3.Magica.ipynb)) apresenta a definição de mágicas para o IPython"
   ]
  },
  {
   "cell_type": "code",
   "execution_count": null,
   "metadata": {},
   "outputs": [],
   "source": []
  }
 ],
 "metadata": {
  "julynter-results": {
   "filteredId": [],
   "filteredIndividual": [],
   "filteredRestart": [],
   "filteredType": [],
   "hash": "6bd330fbc083762cee1645ef748bc705c948c425",
   "visible": []
  },
  "kernelspec": {
   "display_name": "Python 3",
   "language": "python",
   "name": "python3"
  },
  "language_info": {
   "codemirror_mode": {
    "name": "ipython",
    "version": 3
   },
   "file_extension": ".py",
   "mimetype": "text/x-python",
   "name": "python",
   "nbconvert_exporter": "python",
   "pygments_lexer": "ipython3",
   "version": "3.8.8"
  }
 },
 "nbformat": 4,
 "nbformat_minor": 4
}
