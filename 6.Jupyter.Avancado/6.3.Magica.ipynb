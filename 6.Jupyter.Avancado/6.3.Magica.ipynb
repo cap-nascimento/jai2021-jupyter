{
 "cells": [
  {
   "cell_type": "markdown",
   "metadata": {},
   "source": [
    "# Mágicas do IPython\n",
    "\n",
    "Esse notebook apresenta a definição de mágicas para o IPython\n"
   ]
  },
  {
   "cell_type": "code",
   "execution_count": 1,
   "metadata": {},
   "outputs": [
    {
     "data": {
      "text/plain": [
       "artist_id                                4gzpq5DPGxSnKTe4SA8HAU\n",
       "name                                                   Coldplay\n",
       "followers                                              29397183\n",
       "popularity                                                   90\n",
       "genres                                ['permanent wave', 'pop']\n",
       "image_url     https://i.scdn.co/image/4ffd6710617d289699cc0d...\n",
       "Name: 0, dtype: object"
      ]
     },
     "execution_count": 1,
     "metadata": {},
     "output_type": "execute_result"
    }
   ],
   "source": [
    "import pandas as pd\n",
    "from IPython.core.magic import Magics, magics_class, line_magic\n",
    "dfa = pd.read_csv(\"../dataset/spotify_artists_info_complete.tsv\", sep=\"\\t\")\n",
    "dfa.loc[0]"
   ]
  },
  {
   "cell_type": "code",
   "execution_count": 2,
   "metadata": {},
   "outputs": [],
   "source": [
    "EMBED_URL = ('<iframe src=\"https://open.spotify.com/embed/{type_}/{id}\" width=\"{w}\" height=\"{h}\"' \n",
    "             ' frameborder=\"0\" allowtransparency=\"true\" allow=\"encrypted-media\"></iframe>')\n",
    "@magics_class  # Define classe de mágicas\n",
    "class SpotifyMagics(Magics):\n",
    "    @line_magic  # Define mágica de lina\n",
    "    def artist(self, line):  # Executa mágica de célula no kernel (self.shell) para exibir HTML\n",
    "        return self.shell.run_cell_magic(\"html\", '', EMBED_URL.format(id=line, type_=\"artist\", w=360, h=180))\n",
    "get_ipython().register_magics(SpotifyMagics)  # Cadastra mágica"
   ]
  },
  {
   "cell_type": "code",
   "execution_count": 3,
   "metadata": {},
   "outputs": [
    {
     "name": "stderr",
     "output_type": "stream",
     "text": [
      "/home/joao/anaconda3/envs/deptest/lib/python3.8/site-packages/IPython/core/display.py:717: UserWarning: Consider using IPython.display.IFrame instead\n",
      "  warnings.warn(\"Consider using IPython.display.IFrame instead\")\n"
     ]
    },
    {
     "data": {
      "text/html": [
       "<iframe src=\"https://open.spotify.com/embed/artist/4gzpq5DPGxSnKTe4SA8HAU\" width=\"360\" height=\"180\" frameborder=\"0\" allowtransparency=\"true\" allow=\"encrypted-media\"></iframe>"
      ],
      "text/plain": [
       "<IPython.core.display.HTML object>"
      ]
     },
     "metadata": {},
     "output_type": "display_data"
    }
   ],
   "source": [
    "%artist 4gzpq5DPGxSnKTe4SA8HAU"
   ]
  },
  {
   "cell_type": "code",
   "execution_count": 4,
   "metadata": {},
   "outputs": [
    {
     "name": "stdout",
     "output_type": "stream",
     "text": [
      "Overwriting spotify.py\n"
     ]
    }
   ],
   "source": [
    "%%writefile spotify.py\n",
    "from IPython.core.magic import Magics, magics_class, line_magic, line_cell_magic\n",
    "from IPython.core.magic_arguments import parse_argstring, magic_arguments, argument\n",
    "from IPython.display import HTML\n",
    "\n",
    "EMBED_URL = ('<iframe src=\"https://open.spotify.com/embed/{type_}/{id}\" width=\"{w}\" height=\"{h}\"' \n",
    "             ' frameborder=\"0\" allowtransparency=\"true\" allow=\"encrypted-media\"></iframe>')\n",
    "    \n",
    "# Define classe de mágicas\n",
    "@magics_class\n",
    "class SpotifyMagics(Magics):\n",
    "    # Define mágica de linha\n",
    "    @line_magic\n",
    "    def artist(self, line):\n",
    "        \"\"\"Cria player para artista do spotify\"\"\"\n",
    "        # Executa mágica de célula para exibir HTML\n",
    "        kernel = self.shell\n",
    "        return HTML(EMBED_URL.format(\n",
    "            id=line, type_=\"artist\", w=360, h=180\n",
    "        ))\n",
    "                                     \n",
    "    @magic_arguments()\n",
    "    @argument(\"song_ids\", nargs=\"*\", help=\"Lista de músicas\")\n",
    "    @argument(\"-w\", \"--width\", type=int, default=300, help=\"Largura\")\n",
    "    @argument(\"-h\", \"--height\", type=int, default=80, help=\"Altura\")\n",
    "    @line_cell_magic\n",
    "    def track(self, line, cell=\"\"):\n",
    "        \"\"\"Cria player para música do spotify\"\"\"\n",
    "        args = parse_argstring(self.track, line)\n",
    "        # Usa lista de ids do parâmetro ou linhas da célula\n",
    "        ids = args.song_ids or cell.split(\"\\n\")\n",
    "        return HTML(\"<br>\".join(EMBED_URL.format(\n",
    "            id=song_id, type_=\"track\", w=args.width, h=args.height\n",
    "        ) for song_id in ids if song_id))\n",
    "        \n",
    "def load_ipython_extension(kernel):\n",
    "    # Cadastra mágicas\n",
    "    kernel.register_magics(SpotifyMagics)\n"
   ]
  },
  {
   "cell_type": "markdown",
   "metadata": {},
   "source": [
    "## Conclusão\n",
    "\n",
    "Este notebook apresentou a definição de uma mágica e de uma extensão para o IPython.\n",
    "\n",
    "O próximo notebook ([6.4.Uso.Magica.ipynb](6.4.Uso.Magica.ipynb)) apresenta o uso da extensão."
   ]
  },
  {
   "cell_type": "code",
   "execution_count": null,
   "metadata": {},
   "outputs": [],
   "source": []
  }
 ],
 "metadata": {
  "julynter-results": {
   "filteredId": [],
   "filteredIndividual": [],
   "filteredRestart": [],
   "filteredType": [],
   "hash": "0a2058f83d8f9660ac8fdcaae29ab786c39d6991",
   "visible": []
  },
  "kernelspec": {
   "display_name": "Python 3",
   "language": "python",
   "name": "python3"
  },
  "language_info": {
   "codemirror_mode": {
    "name": "ipython",
    "version": 3
   },
   "file_extension": ".py",
   "mimetype": "text/x-python",
   "name": "python",
   "nbconvert_exporter": "python",
   "pygments_lexer": "ipython3",
   "version": "3.8.8"
  }
 },
 "nbformat": 4,
 "nbformat_minor": 4
}
