{
 "cells": [
  {
   "cell_type": "markdown",
   "metadata": {
    "slideshow": {
     "slide_suffix": "Visualizações Ricas",
     "slide_title": "Jupyter Avançado",
     "slide_type": "slide"
    },
    "tags": []
   },
   "source": [
    "# Visualizações Ricas\n",
    "\n",
    "Até o momento, apresentamos como usar visualizações existentes de bibliotecas e como usar visualizações em mágicas e funções.\n",
    "\n",
    "Este notebook apresenta como estender a visualização no IPython para outras classes."
   ]
  },
  {
   "cell_type": "markdown",
   "metadata": {
    "slideshow": {
     "slide_type": "slide"
    },
    "tags": []
   },
   "source": [
    "Vamos começar carregando a extensão e os dados de música e artista:"
   ]
  },
  {
   "cell_type": "code",
   "execution_count": 1,
   "metadata": {},
   "outputs": [],
   "source": [
    "%reload_ext spotify\n",
    "import pandas as pd\n",
    "dfc = pd.read_csv(\"../dataset/spotify_charts_complete.tsv\", sep=\"\\t\")\n",
    "dfa = pd.read_csv(\"../dataset/spotify_artists_info_complete.tsv\", sep=\"\\t\")"
   ]
  },
  {
   "cell_type": "markdown",
   "metadata": {
    "slideshow": {
     "slide_type": "slide"
    },
    "tags": []
   },
   "source": [
    "Vamos criar uma classe que representa uma linha do arquivo de artistas:"
   ]
  },
  {
   "cell_type": "code",
   "execution_count": 2,
   "metadata": {},
   "outputs": [],
   "source": [
    "class Artist:\n",
    "    def __init__(self, row):\n",
    "        self.row = row\n",
    "    def __repr__(self):\n",
    "        return str(self.row['name'])\n",
    "    def _repr_html_(self):\n",
    "        html = %artist {self.row.artist_id}\n",
    "        return html.data\n",
    "    def _repr_markdown_(self):\n",
    "        return f\"# {self.row['name']}\"\n",
    "artist = Artist(dfa.loc[0])"
   ]
  },
  {
   "cell_type": "markdown",
   "metadata": {
    "slideshow": {
     "slide_type": "slide"
    },
    "tags": []
   },
   "source": [
    "Nessa classe, definimos diversas formas de representar o artista. \n",
    "\n",
    "A representação `__repr__` é a padrão do Python para texto.\n",
    "\n",
    "A representação `_repr_html_` é a representação em HTML do objeto. Para essa representação, estamos usando a mágica `%artist`.\n",
    "\n",
    "A representação `_repr_markdown_` é a representação em Markdown do objeto. Para essa representação, estamos pegando o nome do artista e usando como título do markdown."
   ]
  },
  {
   "cell_type": "markdown",
   "metadata": {
    "slideshow": {
     "slide_type": "slide"
    },
    "tags": []
   },
   "source": [
    "Além desses métodos, é possível especificar:\n",
    "\n",
    "- `_repr_svg_`\n",
    "- `_repr_png_`\n",
    "- `_repr_jpeg_`\n",
    "- `_repr_javascript_`\n",
    "- `_repr_latex_`"
   ]
  },
  {
   "cell_type": "markdown",
   "metadata": {
    "slideshow": {
     "slide_type": "slide"
    },
    "tags": []
   },
   "source": [
    "Se quisermos visualizar o artista com a representação Markdown podemos especificar na função `display` o Mimetype desejados:"
   ]
  },
  {
   "cell_type": "code",
   "execution_count": 3,
   "metadata": {},
   "outputs": [
    {
     "data": {
      "text/markdown": [
       "# Coldplay"
      ]
     },
     "metadata": {},
     "output_type": "display_data"
    }
   ],
   "source": [
    "display(artist, include=[\"text/markdown\"])"
   ]
  },
  {
   "cell_type": "markdown",
   "metadata": {
    "slideshow": {
     "slide_type": "slide"
    },
    "tags": []
   },
   "source": [
    "Se não especificarmos nada, o notebook seguirá a seguinte ordem de prioridade por padrão:\n",
    "\n",
    "- HTML\n",
    "- Markdown\n",
    "- LaTeX\n",
    "- SVG\n",
    "- PNG\n",
    "- JPEG\n",
    "- Javascript\n",
    "- Texto\n"
   ]
  },
  {
   "cell_type": "markdown",
   "metadata": {
    "slideshow": {
     "slide_type": "fragment"
    },
    "tags": []
   },
   "source": [
    "Mas é possível que a ordem mude de acordo com a aplicação.\n",
    "\n",
    "Jupyter console não exibe HTML nem Javascript, por exemplo."
   ]
  },
  {
   "cell_type": "markdown",
   "metadata": {
    "slideshow": {
     "slide_type": "slide"
    },
    "tags": []
   },
   "source": [
    "Essa ordem de exibição também vale para a representação de objetos no notebooks. Portanto, se uma instância de `artist` for a última expressão de uma célula, ela será exibida como HTML:"
   ]
  },
  {
   "cell_type": "code",
   "execution_count": 4,
   "metadata": {},
   "outputs": [
    {
     "name": "stderr",
     "output_type": "stream",
     "text": [
      "/home/joao/anaconda3/lib/python3.8/site-packages/IPython/core/display.py:717: UserWarning: Consider using IPython.display.IFrame instead\n",
      "  warnings.warn(\"Consider using IPython.display.IFrame instead\")\n"
     ]
    },
    {
     "data": {
      "text/html": [
       "<iframe src=\"https://open.spotify.com/embed/artist/4gzpq5DPGxSnKTe4SA8HAU\" width=\"360\" height=\"180\" frameborder=\"0\" allowtransparency=\"true\" allow=\"encrypted-media\"></iframe>"
      ],
      "text/markdown": [
       "# Coldplay"
      ],
      "text/plain": [
       "Coldplay"
      ]
     },
     "execution_count": 4,
     "metadata": {},
     "output_type": "execute_result"
    }
   ],
   "source": [
    "artist"
   ]
  },
  {
   "cell_type": "markdown",
   "metadata": {
    "slideshow": {
     "slide_type": "slide"
    },
    "tags": []
   },
   "source": [
    "## Alternativa\n",
    "Uma alternativa a definição de um método `_repr_<tipo>_` para cada tipo, é a definição de um único método `_repr_mimebundle_` para retornar todas as exibições suportadas."
   ]
  },
  {
   "cell_type": "markdown",
   "metadata": {
    "slideshow": {
     "slide_type": "slide"
    },
    "tags": []
   },
   "source": [
    "A seguir usamos `_repr_mimebundle_` para definir visualizações da classe `Track`."
   ]
  },
  {
   "cell_type": "code",
   "execution_count": 5,
   "metadata": {},
   "outputs": [],
   "source": [
    "class Track:\n",
    "    def __init__(self, row):\n",
    "        self.row = row\n",
    "    def _repr_mimebundle_(self, **kwargs):\n",
    "        row = self.row\n",
    "        html = %track {row.song_id}\n",
    "        return {\n",
    "          'text/markdown': f\"{row.artist} - \"\n",
    "                           f\"*{row.track_name}*\",\n",
    "          'text/html': html.data,\n",
    "          'trk.spotify+json': row.to_json(),\n",
    "          'text/plain': row.track_name \n",
    "        }\n",
    "track = Track(dfc.loc[0])"
   ]
  },
  {
   "cell_type": "markdown",
   "metadata": {
    "slideshow": {
     "slide_type": "slide"
    },
    "tags": []
   },
   "source": [
    "A função `display` pode ser usada da mesma forma para exibir cada tipo."
   ]
  },
  {
   "cell_type": "code",
   "execution_count": 6,
   "metadata": {},
   "outputs": [
    {
     "data": {
      "text/markdown": [
       "Tones And I - *Dance Monkey*"
      ]
     },
     "metadata": {},
     "output_type": "display_data"
    }
   ],
   "source": [
    "display(track, include=[\"text/markdown\"])"
   ]
  },
  {
   "cell_type": "code",
   "execution_count": 7,
   "metadata": {},
   "outputs": [
    {
     "data": {
      "text/plain": [
       "Dance Monkey"
      ]
     },
     "metadata": {},
     "output_type": "display_data"
    }
   ],
   "source": [
    "display(track, include=[\"text/plain\"])"
   ]
  },
  {
   "cell_type": "code",
   "execution_count": 8,
   "metadata": {},
   "outputs": [
    {
     "data": {
      "text/html": [
       "<iframe src=\"https://open.spotify.com/embed/track/1rgnBhdG2JDFTbYkYRZAku\" width=\"300\" height=\"80\" frameborder=\"0\" allowtransparency=\"true\" allow=\"encrypted-media\"></iframe>"
      ],
      "text/markdown": [
       "Tones And I - *Dance Monkey*"
      ],
      "text/plain": [
       "Dance Monkey"
      ],
      "trk.spotify+json": "{\"chart_week\":\"2020-01-02\",\"position\":1,\"track_name\":\"Dance Monkey\",\"artist\":\"Tones And I\",\"streams\":50183626,\"song_id\":\"1rgnBhdG2JDFTbYkYRZAku\"}"
     },
     "execution_count": 8,
     "metadata": {},
     "output_type": "execute_result"
    }
   ],
   "source": [
    "track"
   ]
  },
  {
   "cell_type": "markdown",
   "metadata": {
    "slideshow": {
     "slide_type": "slide"
    },
    "tags": []
   },
   "source": [
    "Note que é possível exibir também tipos que a princípio não são suportados."
   ]
  },
  {
   "cell_type": "code",
   "execution_count": 9,
   "metadata": {},
   "outputs": [
    {
     "data": {
      "trk.spotify+json": "{\"chart_week\":\"2020-01-02\",\"position\":1,\"track_name\":\"Dance Monkey\",\"artist\":\"Tones And I\",\"streams\":50183626,\"song_id\":\"1rgnBhdG2JDFTbYkYRZAku\"}"
     },
     "metadata": {},
     "output_type": "display_data"
    }
   ],
   "source": [
    "display(track, include=[\"trk.spotify+json\"])"
   ]
  },
  {
   "cell_type": "markdown",
   "metadata": {},
   "source": [
    "Esses tipos podem ser suportados através de extensões na interface do Jupyter (labextension, nbextension) e em geral são registrados com prioridade máxima na exibição."
   ]
  },
  {
   "cell_type": "markdown",
   "metadata": {},
   "source": [
    "Mas por questão de tempo e escopo, não mostraremos como fazer neste minicurso."
   ]
  },
  {
   "cell_type": "markdown",
   "metadata": {
    "slideshow": {
     "slide_type": "slide"
    },
    "tags": []
   },
   "source": [
    "## Conclusão\n",
    "\n",
    "Este notebook apresentou duas formas de definir visualizações ricas para objetos do Python.\n",
    "\n",
    "O próximo notebook ([6.6.Widget.Simples.ipynb](6.6.Widget.Simples.ipynb)) apresenta como criar um widget interativo simples."
   ]
  },
  {
   "cell_type": "code",
   "execution_count": null,
   "metadata": {},
   "outputs": [],
   "source": []
  }
 ],
 "metadata": {
  "julynter-results": {
   "filteredId": [],
   "filteredIndividual": [],
   "filteredRestart": [],
   "filteredType": [],
   "hash": "83fa32c373b8258ea698152213ddc662baf5e04c",
   "visible": []
  },
  "kernelspec": {
   "display_name": "Python 3",
   "language": "python",
   "name": "python3"
  },
  "language_info": {
   "codemirror_mode": {
    "name": "ipython",
    "version": 3
   },
   "file_extension": ".py",
   "mimetype": "text/x-python",
   "name": "python",
   "nbconvert_exporter": "python",
   "pygments_lexer": "ipython3",
   "version": "3.8.5"
  }
 },
 "nbformat": 4,
 "nbformat_minor": 4
}
