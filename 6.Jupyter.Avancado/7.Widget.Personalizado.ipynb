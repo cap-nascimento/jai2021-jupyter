{
 "cells": [
  {
   "cell_type": "markdown",
   "metadata": {
    "slideshow": {
     "slide_type": "slide"
    },
    "tags": []
   },
   "source": [
    "# Widget Personalizado\n",
    "\n",
    "Este notebook apresenta como personalizar widgets e criar formulários mais completos."
   ]
  },
  {
   "cell_type": "markdown",
   "metadata": {
    "slideshow": {
     "slide_type": "slide"
    },
    "tags": []
   },
   "source": [
    "Começamos carregando dados do spotify:"
   ]
  },
  {
   "cell_type": "code",
   "execution_count": 1,
   "metadata": {},
   "outputs": [],
   "source": [
    "import pandas as pd\n",
    "from ipywidgets import Combobox, Output, VBox\n",
    "%load_ext spotify\n",
    "df = pd.read_csv(\"../dataset/spotify_hits_dataset_complete.tsv\", sep=\"\\t\")"
   ]
  },
  {
   "cell_type": "markdown",
   "metadata": {},
   "source": [
    "Em seguida, definimos a interface básica do Widget.\n",
    "\n",
    "![widgetcustom.svg](widgetcustom.svg)"
   ]
  },
  {
   "cell_type": "markdown",
   "metadata": {
    "slideshow": {
     "slide_type": "slide"
    },
    "tags": []
   },
   "source": [
    "Esta interface pode ser criada da seguinte forma:"
   ]
  },
  {
   "cell_type": "code",
   "execution_count": 2,
   "metadata": {
    "slideshow": {
     "slide_type": "slide"
    },
    "tags": []
   },
   "outputs": [
    {
     "data": {
      "application/vnd.jupyter.widget-view+json": {
       "model_id": "32f83ccb0bb946618a38c20f3b020b15",
       "version_major": 2,
       "version_minor": 0
      },
      "text/plain": [
       "VBox(children=(Combobox(value='', description='Música', options=('Falling', 'Venetia', 'Tilidin Weg', 'Pero Ya…"
      ]
     },
     "metadata": {},
     "output_type": "display_data"
    }
   ],
   "source": [
    "# Cria items para comboboxes\n",
    "songs = df.song_name.to_list()\n",
    "artists = []\n",
    "# Cria form com 2 campos e 2 saídas\n",
    "combo_song = Combobox(description=\"Música\", options=songs)\n",
    "out_song = Output()\n",
    "combo_artist = Combobox(description=\"Artista\", options=[\"\"])\n",
    "out_artist = Output()\n",
    "widget = VBox([combo_song, out_song, combo_artist, out_artist])\n",
    "widget"
   ]
  },
  {
   "cell_type": "markdown",
   "metadata": {
    "slideshow": {
     "slide_type": "slide"
    },
    "tags": []
   },
   "source": [
    "Note que:\n",
    "- O campo Música está com a lista de todas as músicas\n",
    "- O campo Artista está vazio\n",
    "- As saídas estão sem resultado\n",
    "- Nenhuma funcionalidade foi implementada ainda"
   ]
  },
  {
   "cell_type": "markdown",
   "metadata": {},
   "source": [
    "Podemos escrever na saída:"
   ]
  },
  {
   "cell_type": "code",
   "execution_count": 3,
   "metadata": {
    "tags": [
     "skiprun"
    ]
   },
   "outputs": [],
   "source": [
    "with out_song:\n",
    "    print('Teste')"
   ]
  },
  {
   "cell_type": "markdown",
   "metadata": {
    "slideshow": {
     "slide_type": "fragment"
    },
    "tags": []
   },
   "source": [
    "E apagar:"
   ]
  },
  {
   "cell_type": "code",
   "execution_count": 4,
   "metadata": {
    "tags": [
     "skiprun"
    ]
   },
   "outputs": [],
   "source": [
    "out_song.clear_output()"
   ]
  },
  {
   "cell_type": "markdown",
   "metadata": {
    "slideshow": {
     "slide_type": "slide"
    },
    "tags": []
   },
   "source": [
    "Agora vamos adicionar uma função para monitorar mudanças no Combobox de Música para carregar a lista de artistas da música:"
   ]
  },
  {
   "cell_type": "code",
   "execution_count": 5,
   "metadata": {
    "slideshow": {
     "slide_type": "fragment"
    },
    "tags": []
   },
   "outputs": [],
   "source": [
    "# Chama função ao alterar a musica\n",
    "@combo_song.observe \n",
    "def change_song(w):\n",
    "    global artists\n",
    "    # Limpa saídas e seleção de combo_artist\n",
    "    out_song.clear_output()\n",
    "    out_artist.clear_output()\n",
    "    combo_artist.value = \"\"\n",
    "    artists = []\n",
    "    # Seleciona linha da música\n",
    "    if combo_song.value not in songs:\n",
    "        return\n",
    "    index = songs.index(combo_song.value)\n",
    "    row = df.loc[index]\n",
    "    # Exibe música\n",
    "    with out_song:\n",
    "        html = %track {row.song_id} -w 360\n",
    "        display(html)\n",
    "    # Atualiza opções de artista\n",
    "    artists = eval(row.artist_id)\n",
    "    combo_artist.options = tuple(eval(row.artist_name)+[\"\"])"
   ]
  },
  {
   "cell_type": "code",
   "execution_count": 6,
   "metadata": {
    "slideshow": {
     "slide_type": "slide"
    },
    "tags": []
   },
   "outputs": [
    {
     "data": {
      "application/vnd.jupyter.widget-view+json": {
       "model_id": "32f83ccb0bb946618a38c20f3b020b15",
       "version_major": 2,
       "version_minor": 0
      },
      "text/plain": [
       "VBox(children=(Combobox(value='', description='Música', options=('Falling', 'Venetia', 'Tilidin Weg', 'Pero Ya…"
      ]
     },
     "metadata": {},
     "output_type": "display_data"
    }
   ],
   "source": [
    "widget"
   ]
  },
  {
   "cell_type": "markdown",
   "metadata": {
    "slideshow": {
     "slide_type": "slide"
    },
    "tags": []
   },
   "source": [
    "Por enquanto, selecionar artista não faz nada. Vamos alterar a função para exibir o tocador de artista:"
   ]
  },
  {
   "cell_type": "code",
   "execution_count": 7,
   "metadata": {
    "slideshow": {
     "slide_type": "fragment"
    },
    "tags": []
   },
   "outputs": [],
   "source": [
    "# Chama função ao alterar o artista\n",
    "@combo_artist.observe\n",
    "def change_artist(w):\n",
    "    # Limpa saída de artista\n",
    "    out_artist.clear_output()\n",
    "    # Seleciona artista\n",
    "    v = combo_artist.value\n",
    "    if not v or v not in combo_artist.options:\n",
    "        return\n",
    "    index = combo_artist.options.index(v)\n",
    "    # Exibe artista\n",
    "    with out_artist:\n",
    "        html = %artist {artists[index]}\n",
    "        display(html)"
   ]
  },
  {
   "cell_type": "code",
   "execution_count": 8,
   "metadata": {},
   "outputs": [
    {
     "data": {
      "application/vnd.jupyter.widget-view+json": {
       "model_id": "32f83ccb0bb946618a38c20f3b020b15",
       "version_major": 2,
       "version_minor": 0
      },
      "text/plain": [
       "VBox(children=(Combobox(value='', description='Música', options=('Falling', 'Venetia', 'Tilidin Weg', 'Pero Ya…"
      ]
     },
     "metadata": {},
     "output_type": "display_data"
    }
   ],
   "source": [
    "widget"
   ]
  },
  {
   "cell_type": "markdown",
   "metadata": {
    "slideshow": {
     "slide_type": "slide"
    },
    "tags": []
   },
   "source": [
    "## Conclusão\n",
    "\n",
    "Este notebook apresentou como criar um widget personalizado e encerrou esta parte do tutorial. \n",
    "\n",
    "Faremos uma breve pausa agora e voltamos já para falar de Ciência Aberta em notebooks na próxima parte do minicurso.\n",
    "\n",
    "Exercícios que usam o que vimos nessa parte do minicurso estão disponíveis em [Exercicios.ipynb](Exercicios.ipynb).\n"
   ]
  }
 ],
 "metadata": {
  "julynter-results": {
   "filteredId": [],
   "filteredIndividual": [],
   "filteredRestart": [],
   "filteredType": [],
   "hash": "67664984e1d732604d0b94086b3080c60148718d",
   "visible": []
  },
  "kernelspec": {
   "display_name": "Python 3",
   "language": "python",
   "name": "python3"
  },
  "language_info": {
   "codemirror_mode": {
    "name": "ipython",
    "version": 3
   },
   "file_extension": ".py",
   "mimetype": "text/x-python",
   "name": "python",
   "nbconvert_exporter": "python",
   "pygments_lexer": "ipython3",
   "version": "3.8.5"
  }
 },
 "nbformat": 4,
 "nbformat_minor": 4
}
