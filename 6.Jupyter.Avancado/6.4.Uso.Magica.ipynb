{
 "cells": [
  {
   "cell_type": "markdown",
   "metadata": {
    "slideshow": {
     "slide_suffix": "Uso de Mágicas",
     "slide_title": "Jupyter Avançado",
     "slide_type": "slide"
    },
    "tags": []
   },
   "source": [
    "# Uso de Mágicas\n",
    "\n",
    "Este notebook apresenta o uso de mágicas de uma extensão no notebook"
   ]
  },
  {
   "cell_type": "markdown",
   "metadata": {
    "slideshow": {
     "slide_type": "slide"
    },
    "tags": []
   },
   "source": [
    "Começamos carregando a extensão:"
   ]
  },
  {
   "cell_type": "code",
   "execution_count": 1,
   "metadata": {},
   "outputs": [],
   "source": [
    "%load_ext spotify"
   ]
  },
  {
   "cell_type": "markdown",
   "metadata": {
    "slideshow": {
     "slide_type": "slide"
    },
    "tags": []
   },
   "source": [
    "Em seguida, carregamos músicas do dataset para obtermos o **song_id**:"
   ]
  },
  {
   "cell_type": "code",
   "execution_count": 2,
   "metadata": {},
   "outputs": [
    {
     "data": {
      "text/plain": [
       "chart_week                2020-01-02\n",
       "position                           1\n",
       "track_name              Dance Monkey\n",
       "artist                   Tones And I\n",
       "streams                     50183626\n",
       "song_id       1rgnBhdG2JDFTbYkYRZAku\n",
       "Name: 0, dtype: object"
      ]
     },
     "execution_count": 2,
     "metadata": {},
     "output_type": "execute_result"
    }
   ],
   "source": [
    "import pandas as pd\n",
    "dfc = pd.read_csv(\"../dataset/spotify_charts_complete.tsv\", sep=\"\\t\")\n",
    "dfc.loc[0]"
   ]
  },
  {
   "cell_type": "markdown",
   "metadata": {
    "slideshow": {
     "slide_type": "slide"
    },
    "tags": []
   },
   "source": [
    "É possível passar parâmetro para a mágica:"
   ]
  },
  {
   "cell_type": "code",
   "execution_count": 3,
   "metadata": {},
   "outputs": [
    {
     "name": "stderr",
     "output_type": "stream",
     "text": [
      "/home/joao/anaconda3/lib/python3.8/site-packages/IPython/core/display.py:717: UserWarning: Consider using IPython.display.IFrame instead\n",
      "  warnings.warn(\"Consider using IPython.display.IFrame instead\")\n"
     ]
    },
    {
     "data": {
      "text/html": [
       "<iframe src=\"https://open.spotify.com/embed/track/1rgnBhdG2JDFTbYkYRZAku\" width=\"300\" height=\"80\" frameborder=\"0\" allowtransparency=\"true\" allow=\"encrypted-media\"></iframe>"
      ],
      "text/plain": [
       "<IPython.core.display.HTML object>"
      ]
     },
     "execution_count": 3,
     "metadata": {},
     "output_type": "execute_result"
    }
   ],
   "source": [
    "%track {dfc.loc[0,\"song_id\"]} -h 80"
   ]
  },
  {
   "cell_type": "markdown",
   "metadata": {},
   "source": [
    " "
   ]
  },
  {
   "cell_type": "markdown",
   "metadata": {
    "slideshow": {
     "slide_type": "slide"
    },
    "tags": []
   },
   "source": [
    "Como `track` também foi definida como mágica de célula, também podemos exibir vários de uma vez:"
   ]
  },
  {
   "cell_type": "code",
   "execution_count": 4,
   "metadata": {},
   "outputs": [
    {
     "data": {
      "text/plain": [
       "1    696DnlkuDOXcMAnKlTgXXK\n",
       "2    7k4t7uLgtOxPwTpFmtJNTY\n",
       "3    2b8fOow8UzyDFAE27YhOZM\n",
       "4    4TnjEaWOeW0eKTKIEvJyCa\n",
       "Name: song_id, dtype: object"
      ]
     },
     "execution_count": 4,
     "metadata": {},
     "output_type": "execute_result"
    }
   ],
   "source": [
    "dfc.loc[1:4,\"song_id\"]"
   ]
  },
  {
   "cell_type": "code",
   "execution_count": 5,
   "metadata": {
    "slideshow": {
     "slide_type": "slide"
    },
    "tags": []
   },
   "outputs": [
    {
     "data": {
      "text/html": [
       "<iframe src=\"https://open.spotify.com/embed/track/696DnlkuDOXcMAnKlTgXXK\" width=\"300\" height=\"80\" frameborder=\"0\" allowtransparency=\"true\" allow=\"encrypted-media\"></iframe><br><iframe src=\"https://open.spotify.com/embed/track/7k4t7uLgtOxPwTpFmtJNTY\" width=\"300\" height=\"80\" frameborder=\"0\" allowtransparency=\"true\" allow=\"encrypted-media\"></iframe><br><iframe src=\"https://open.spotify.com/embed/track/2b8fOow8UzyDFAE27YhOZM\" width=\"300\" height=\"80\" frameborder=\"0\" allowtransparency=\"true\" allow=\"encrypted-media\"></iframe><br><iframe src=\"https://open.spotify.com/embed/track/4TnjEaWOeW0eKTKIEvJyCa\" width=\"300\" height=\"80\" frameborder=\"0\" allowtransparency=\"true\" allow=\"encrypted-media\"></iframe>"
      ],
      "text/plain": [
       "<IPython.core.display.HTML object>"
      ]
     },
     "execution_count": 5,
     "metadata": {},
     "output_type": "execute_result"
    }
   ],
   "source": [
    "%%track -h 80\n",
    "696DnlkuDOXcMAnKlTgXXK\n",
    "7k4t7uLgtOxPwTpFmtJNTY\n",
    "2b8fOow8UzyDFAE27YhOZM\n",
    "4TnjEaWOeW0eKTKIEvJyCa"
   ]
  },
  {
   "cell_type": "markdown",
   "metadata": {
    "slideshow": {
     "slide_type": "slide"
    },
    "tags": []
   },
   "source": [
    "## Conclusão\n",
    "\n",
    "A mágica track foi usada tanto como mágica de linha quanto como mágica de célula.\n",
    "\n",
    "O próximo notebook ([6.5.Exibicao.ipynb](6.5.Exibicao.ipynb)) apresenta como estender a visualização no IPython."
   ]
  },
  {
   "cell_type": "code",
   "execution_count": null,
   "metadata": {},
   "outputs": [],
   "source": []
  }
 ],
 "metadata": {
  "julynter-results": {
   "filteredId": [],
   "filteredIndividual": [],
   "filteredRestart": [],
   "filteredType": [],
   "hash": "c9edf2bcfa6f540e5bb463c0d387c8b3ffec4bfe",
   "visible": []
  },
  "kernelspec": {
   "display_name": "Python 3",
   "language": "python",
   "name": "python3"
  },
  "language_info": {
   "codemirror_mode": {
    "name": "ipython",
    "version": 3
   },
   "file_extension": ".py",
   "mimetype": "text/x-python",
   "name": "python",
   "nbconvert_exporter": "python",
   "pygments_lexer": "ipython3",
   "version": "3.8.5"
  }
 },
 "nbformat": 4,
 "nbformat_minor": 4
}
