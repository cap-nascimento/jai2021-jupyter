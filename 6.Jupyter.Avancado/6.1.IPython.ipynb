{
 "cells": [
  {
   "cell_type": "markdown",
   "metadata": {},
   "source": [
    "# Jupyter Avançado\n",
    "\n",
    "Este notebook tem o objetivo de apresentar a execução de células no kernel IPython.\n",
    "\n",
    "Temos um exemplo simples de notebook com execução de código e visualização de resultados:\n"
   ]
  },
  {
   "cell_type": "markdown",
   "metadata": {},
   "source": [
    "# Fibonacci"
   ]
  },
  {
   "cell_type": "code",
   "execution_count": 3,
   "metadata": {},
   "outputs": [
    {
     "data": {
      "text/plain": [
       "55"
      ]
     },
     "execution_count": 3,
     "metadata": {},
     "output_type": "execute_result"
    }
   ],
   "source": [
    "def fib(x):\n",
    "    if x <= 1:\n",
    "        return x\n",
    "    return fib(x-1) + fib(x-2)\n",
    "fib(10)"
   ]
  },
  {
   "cell_type": "markdown",
   "metadata": {
    "tags": []
   },
   "source": [
    "Vamos **visualizar** os números\n"
   ]
  },
  {
   "cell_type": "code",
   "execution_count": 8,
   "metadata": {},
   "outputs": [
    {
     "data": {
      "image/png": "[encoded data removed]",
      "text/plain": [
       "<Figure size 432x288 with 1 Axes>"
      ]
     },
     "metadata": {
      "needs_background": "light"
     },
     "output_type": "display_data"
    }
   ],
   "source": [
    "from matplotlib import pyplot\n",
    "%matplotlib inline\n",
    "x = range(15)\n",
    "y = [fib(n) for n in x]\n",
    "pyplot.plot(x, y);"
   ]
  },
  {
   "cell_type": "markdown",
   "metadata": {},
   "source": [
    "## Kernel\n",
    "\n",
    "O restante deste notebook tem o objetivo de apresentar variáveis criadas pelo kernel IPython. \n",
    "\n",
    "Anteriormente, ao executar a célula `In [3]`, o kernel criou as seguintes variáveis.\n",
    "```\n",
    "Out[3] = _ = _3 = fib(10)\n",
    "```"
   ]
  },
  {
   "cell_type": "markdown",
   "metadata": {},
   "source": [
    "Ou seja, é possível acessar o resultado da célula 3 por `_3`:"
   ]
  },
  {
   "cell_type": "code",
   "execution_count": 9,
   "metadata": {},
   "outputs": [
    {
     "data": {
      "text/plain": [
       "55"
      ]
     },
     "execution_count": 9,
     "metadata": {},
     "output_type": "execute_result"
    }
   ],
   "source": [
    "_3"
   ]
  },
  {
   "cell_type": "markdown",
   "metadata": {},
   "source": [
    "Ou por `Out[3]`:"
   ]
  },
  {
   "cell_type": "code",
   "execution_count": 10,
   "metadata": {},
   "outputs": [
    {
     "data": {
      "text/plain": [
       "55"
      ]
     },
     "execution_count": 10,
     "metadata": {},
     "output_type": "execute_result"
    }
   ],
   "source": [
    "Out[3]"
   ]
  },
  {
   "cell_type": "markdown",
   "metadata": {},
   "source": [
    "Ao executar a última célula, foram criadas as seguintes variáveis:\n",
    "```\n",
    "Out[10] = _ = _10 = Out[3]\n",
    "```\n",
    "\n",
    "Se acessarmos `_`, teremos o resultado da célula 10, que é o mesmo que o resultado da célula 3:"
   ]
  },
  {
   "cell_type": "code",
   "execution_count": 11,
   "metadata": {},
   "outputs": [
    {
     "data": {
      "text/plain": [
       "55"
      ]
     },
     "execution_count": 11,
     "metadata": {},
     "output_type": "execute_result"
    }
   ],
   "source": [
    "_"
   ]
  },
  {
   "cell_type": "markdown",
   "metadata": {},
   "source": [
    "## Objeto do Kernel\n",
    "\n",
    "O kernel do IPython também pode ser manipulado diretamente. Para obtê-lo, a função `get_ipython` está disponível.\n",
    "\n",
    "A seguite célula, usa o kernel para executar uma célula interna `a = 1`, que define o valor `1` para a variável `a`.\n",
    "\n",
    "Em seguida, a célula externa acessa o valor definido recentemente:"
   ]
  },
  {
   "cell_type": "code",
   "execution_count": 12,
   "metadata": {},
   "outputs": [
    {
     "data": {
      "text/plain": [
       "1"
      ]
     },
     "execution_count": 12,
     "metadata": {},
     "output_type": "execute_result"
    }
   ],
   "source": [
    "ip = get_ipython()\n",
    "\n",
    "ip.run_cell(\"a = 1\")\n",
    "\n",
    "a"
   ]
  },
  {
   "cell_type": "markdown",
   "metadata": {},
   "source": [
    "## Conclusão\n",
    "\n",
    "Este notebook apresentou o Jupyter com possibilidades de executar código e visualizar gráficos e apresentou a definição de variáveis no kernel do IPython.\n",
    "\n",
    "O próximo notebook ([6.2.Superconjunto.ipynb](6.2.Superconjunto.ipynb)) apresenta o IPython como um superconjunto do Python. Ou seja, oferecendo uma extensão da sintaxe."
   ]
  },
  {
   "cell_type": "code",
   "execution_count": null,
   "metadata": {},
   "outputs": [],
   "source": []
  }
 ],
 "metadata": {
  "julynter-results": {
   "filteredId": [],
   "filteredIndividual": [],
   "filteredRestart": [],
   "filteredType": [],
   "hash": "40df4596ca1012275ccb752cfc0f43f98c7b3841",
   "visible": [
    {
     "cellId": "group",
     "hash": "c0de46ba034d710c2b2406a37ee6816be9634aa0",
     "reason": "This groups other lint messages",
     "reportId": "group",
     "reportType": "hiddenstate",
     "suggestion": null,
     "text": "Hidden State"
    },
    {
     "cellId": 2,
     "hash": "016caffd1067952e8c28267865610ab5273a2ca3",
     "reason": "A skip in the execution count might indicate the presence of a hidden state caused by a cell that does not exist anymore. Hidden states might prevent cells from executing or producing the same results, hampering the reproducibility.",
     "reportId": "h4",
     "reportType": "hiddenstate",
     "suggestion": "Please consider re-running the notebook to guarantee the reproducibility.",
     "text": "Cell 2 skips the execution count"
    },
    {
     "cellId": 4,
     "hash": "b2c0019c3a83ae59d080f05fbf249bab1a256352",
     "reason": "A skip in the execution count might indicate the presence of a hidden state caused by a cell that does not exist anymore. Hidden states might prevent cells from executing or producing the same results, hampering the reproducibility.",
     "reportId": "h4",
     "reportType": "hiddenstate",
     "suggestion": "Please consider re-running the notebook to guarantee the reproducibility.",
     "text": "Cell 4 skips the execution count"
    },
    {
     "cellId": 7,
     "hash": "ddbf501a9ee47cef4889a6a523c14d94f3538977",
     "reason": "The cell uses a name that does not exist in this notebook. Using a name that does not exist prevents the reproducibility of the notebook.",
     "reportId": "h6",
     "reportType": "hiddenstate",
     "suggestion": "Please consider defining them to guarantee the reproducibility.",
     "text": "Cell 7 has the following undefined names: '_3'"
    },
    {
     "cellId": 13,
     "hash": "5072b4fcb93e2ecdac8c583a4ccd17a3f48acaa6",
     "reason": "The cell uses a name that does not exist in this notebook. Using a name that does not exist prevents the reproducibility of the notebook.",
     "reportId": "h6",
     "reportType": "hiddenstate",
     "suggestion": "Please consider defining them to guarantee the reproducibility.",
     "text": "Cell 13 has the following undefined names: 'a'"
    },
    {
     "cellId": "group",
     "hash": "d6fbc9d2bdd580e18ed0bc5805dc26db323d6f5f",
     "reason": "This groups other lint messages",
     "reportId": "group",
     "reportType": "import",
     "suggestion": null,
     "text": "Import"
    },
    {
     "cellId": 4,
     "hash": "4a1687404f6b8df1d133a3a0ba9941731d0f9feb",
     "reason": "Imports at the beginning of the notebook allow for a quick failure in the case of a non-installed dependency. It prevents users from stopping their executions for installing dependencies. Additionally, imports in the middle might reduce notebooks' readability by taking the attention from the logic to the import constructs.",
     "reportId": "i1",
     "reportType": "import",
     "suggestion": "Please consider moving the import to the first cell of the notebook.",
     "text": "Cell 4 has imports but it is not the first cell"
    }
   ]
  },
  "kernelspec": {
   "display_name": "Python 3",
   "language": "python",
   "name": "python3"
  },
  "language_info": {
   "codemirror_mode": {
    "name": "ipython",
    "version": 3
   },
   "file_extension": ".py",
   "mimetype": "text/x-python",
   "name": "python",
   "nbconvert_exporter": "python",
   "pygments_lexer": "ipython3",
   "version": "3.8.8"
  }
 },
 "nbformat": 4,
 "nbformat_minor": 4
}
