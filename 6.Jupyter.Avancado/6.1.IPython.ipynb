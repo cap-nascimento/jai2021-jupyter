{
 "cells": [
  {
   "cell_type": "markdown",
   "metadata": {
    "slideshow": {
     "slide_suffix": "IPython",
     "slide_title": "Jupyter Avançado",
     "slide_type": "slide"
    },
    "tags": []
   },
   "source": [
    "## Jupyter Avançado\n",
    "\n",
    "Anteriormente:\n",
    "\n",
    "- Como usar o Jupyter\n",
    "- Preparar Dados\n",
    "- Ciência de Dados"
   ]
  },
  {
   "cell_type": "markdown",
   "metadata": {
    "slideshow": {
     "slide_type": "slide"
    },
    "tags": []
   },
   "source": [
    "Esta parte do minicurso tem o objetivo de aprofundar em características avançadas do Jupyter\n",
    "\n",
    "- Funcionamento do kernel\n",
    "- IPython como superconjunto do Python\n",
    "- Mágicas, Exibições, Extensões.\n",
    "- Wigdets Interativos"
   ]
  },
  {
   "cell_type": "markdown",
   "metadata": {
    "slideshow": {
     "slide_type": "slide"
    },
    "tags": []
   },
   "source": [
    "Este notebook em si tem os seguintes objetivos:\n",
    "\n",
    "- Apresentar como referenciar o resultado de execuções anteriores \n",
    "- Apresentar a execução de células no kernel do IPython"
   ]
  },
  {
   "cell_type": "markdown",
   "metadata": {
    "slideshow": {
     "slide_type": "fragment"
    },
    "tags": []
   },
   "source": [
    "Temos um exemplo simples de notebook com execução de código e visualização de resultados:"
   ]
  },
  {
   "cell_type": "markdown",
   "metadata": {
    "slideshow": {
     "slide_type": "slide"
    },
    "tags": []
   },
   "source": [
    "## Exemplo - Fibonacci"
   ]
  },
  {
   "cell_type": "code",
   "execution_count": 1,
   "metadata": {},
   "outputs": [
    {
     "data": {
      "text/plain": [
       "1"
      ]
     },
     "execution_count": 1,
     "metadata": {},
     "output_type": "execute_result"
    }
   ],
   "source": [
    "def fib(x):\n",
    "    if x <= 1:\n",
    "        return x\n",
    "    return fib(x-1) + fib(x-2)\n",
    "fib(2)"
   ]
  },
  {
   "cell_type": "markdown",
   "metadata": {
    "slideshow": {
     "slide_type": "subslide"
    },
    "tags": []
   },
   "source": [
    "## Exemplo - Fibonacci"
   ]
  },
  {
   "cell_type": "code",
   "execution_count": 2,
   "metadata": {},
   "outputs": [
    {
     "data": {
      "text/plain": [
       "2"
      ]
     },
     "execution_count": 2,
     "metadata": {},
     "output_type": "execute_result"
    }
   ],
   "source": [
    "def fib(x):\n",
    "    if x <= 1:\n",
    "        return x\n",
    "    return fib(x-1) + fib(x-2)\n",
    "fib(3)"
   ]
  },
  {
   "cell_type": "markdown",
   "metadata": {
    "slideshow": {
     "slide_type": "subslide"
    },
    "tags": []
   },
   "source": [
    "## Exemplo - Fibonacci"
   ]
  },
  {
   "cell_type": "code",
   "execution_count": 3,
   "metadata": {},
   "outputs": [
    {
     "data": {
      "text/plain": [
       "55"
      ]
     },
     "execution_count": 3,
     "metadata": {},
     "output_type": "execute_result"
    }
   ],
   "source": [
    "def fib(x):\n",
    "    if x <= 1:\n",
    "        return x\n",
    "    return fib(x-1) + fib(x-2)\n",
    "fib(10)"
   ]
  },
  {
   "cell_type": "markdown",
   "metadata": {
    "slideshow": {
     "slide_type": "slide"
    },
    "tags": []
   },
   "source": [
    "Podemos usar a função em outras células:"
   ]
  },
  {
   "cell_type": "code",
   "execution_count": 4,
   "metadata": {
    "tags": []
   },
   "outputs": [
    {
     "data": {
      "text/plain": [
       "2"
      ]
     },
     "execution_count": 4,
     "metadata": {},
     "output_type": "execute_result"
    }
   ],
   "source": [
    "fib(3)"
   ]
  },
  {
   "cell_type": "code",
   "execution_count": 5,
   "metadata": {},
   "outputs": [
    {
     "data": {
      "text/plain": [
       "3"
      ]
     },
     "execution_count": 5,
     "metadata": {},
     "output_type": "execute_result"
    }
   ],
   "source": [
    "fib(4)"
   ]
  },
  {
   "cell_type": "code",
   "execution_count": 6,
   "metadata": {
    "tags": []
   },
   "outputs": [
    {
     "data": {
      "text/plain": [
       "5"
      ]
     },
     "execution_count": 6,
     "metadata": {},
     "output_type": "execute_result"
    }
   ],
   "source": [
    "fib(5)"
   ]
  },
  {
   "cell_type": "code",
   "execution_count": 7,
   "metadata": {},
   "outputs": [
    {
     "data": {
      "text/plain": [
       "377"
      ]
     },
     "execution_count": 7,
     "metadata": {},
     "output_type": "execute_result"
    }
   ],
   "source": [
    "fib(14)"
   ]
  },
  {
   "cell_type": "markdown",
   "metadata": {},
   "source": [
    " "
   ]
  },
  {
   "cell_type": "markdown",
   "metadata": {
    "slideshow": {
     "slide_type": "slide"
    },
    "tags": []
   },
   "source": [
    "Vamos **visualizar** os números\n"
   ]
  },
  {
   "cell_type": "code",
   "execution_count": 8,
   "metadata": {
    "slideshow": {
     "slide_delay": 500
    },
    "tags": []
   },
   "outputs": [
    {
     "data": {
      "image/png": "[encoded data removed]",
      "text/plain": [
       "<Figure size 432x288 with 1 Axes>"
      ]
     },
     "metadata": {
      "needs_background": "light"
     },
     "output_type": "display_data"
    }
   ],
   "source": [
    "from matplotlib import pyplot\n",
    "%matplotlib inline\n",
    "x = range(15)\n",
    "y = [fib(n) for n in x]\n",
    "pyplot.plot(x, y);"
   ]
  },
  {
   "cell_type": "markdown",
   "metadata": {},
   "source": [
    " "
   ]
  },
  {
   "cell_type": "markdown",
   "metadata": {
    "slideshow": {
     "slide_type": "slide"
    },
    "tags": []
   },
   "source": [
    "## Kernel\n",
    "\n",
    "A execução das células de um notebook ocorre em um **kernel**.\n",
    "\n",
    "No nosso caso, por usarmos um notebook Python, o kernel que está executando o código é o IPython."
   ]
  },
  {
   "cell_type": "markdown",
   "metadata": {
    "slideshow": {
     "slide_type": "slide"
    },
    "tags": []
   },
   "source": [
    "O IPython inicialmente foi criado como um programa REPL:\n",
    "\n",
    "- Read\n",
    "- Evaluate\n",
    "- Print\n",
    "- Loop\n",
    "\n",
    "E evoluiu até se tornar o Jupyter"
   ]
  },
  {
   "cell_type": "markdown",
   "metadata": {
    "slideshow": {
     "slide_type": "slide"
    },
    "tags": []
   },
   "source": [
    "Na execução de uma célula, o IPython pega o valor resultante da expressão que está na última linha e cria internamente variáveis com ela.\n",
    "\n",
    "![cell3.svg](cell3.svg)\n",
    "\n",
    "Ao executar a célula 3, o kernel usou a expressão `fib(10)` para criar as seguintes variáveis.\n",
    "```\n",
    "Out[3] = _ = _3 = fib(10)\n",
    "```"
   ]
  },
  {
   "cell_type": "markdown",
   "metadata": {
    "slideshow": {
     "slide_delay": 300,
     "slide_type": "slide"
    },
    "tags": []
   },
   "source": [
    "Ou seja, é possível acessar o resultado da célula 3 por `_3`:"
   ]
  },
  {
   "cell_type": "code",
   "execution_count": 9,
   "metadata": {},
   "outputs": [
    {
     "data": {
      "text/plain": [
       "55"
      ]
     },
     "execution_count": 9,
     "metadata": {},
     "output_type": "execute_result"
    }
   ],
   "source": [
    "_3"
   ]
  },
  {
   "cell_type": "markdown",
   "metadata": {},
   "source": [
    "Ou por `Out[3]`:"
   ]
  },
  {
   "cell_type": "code",
   "execution_count": 10,
   "metadata": {},
   "outputs": [
    {
     "data": {
      "text/plain": [
       "55"
      ]
     },
     "execution_count": 10,
     "metadata": {},
     "output_type": "execute_result"
    }
   ],
   "source": [
    "Out[3]"
   ]
  },
  {
   "cell_type": "markdown",
   "metadata": {
    "slideshow": {
     "slide_type": "slide"
    },
    "tags": []
   },
   "source": [
    "Ao executar a última célula, foram criadas as seguintes variáveis:\n",
    "```\n",
    "Out[10] = _ = _10 = Out[3]\n",
    "```\n",
    "\n",
    "Se acessarmos `_`, teremos o resultado da célula 10, que é o mesmo que o resultado da célula 3:"
   ]
  },
  {
   "cell_type": "code",
   "execution_count": 11,
   "metadata": {},
   "outputs": [
    {
     "data": {
      "text/plain": [
       "55"
      ]
     },
     "execution_count": 11,
     "metadata": {},
     "output_type": "execute_result"
    }
   ],
   "source": [
    "_"
   ]
  },
  {
   "attachments": {
    "kernel.svg": {
     "image/svg+xml": [
      "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"
     ]
    }
   },
   "cell_type": "markdown",
   "metadata": {
    "slideshow": {
     "slide_type": "skip"
    },
    "tags": []
   },
   "source": [
    "![kernel.svg](kernel.svg)"
   ]
  },
  {
   "cell_type": "markdown",
   "metadata": {
    "slideshow": {
     "slide_type": "slide"
    },
    "tags": []
   },
   "source": [
    "## Objeto do Kernel\n",
    "\n",
    "O kernel do IPython também pode ser manipulado diretamente. Para obtê-lo, a função `get_ipython` está disponível."
   ]
  },
  {
   "cell_type": "markdown",
   "metadata": {
    "slideshow": {
     "slide_delay": 300,
     "slide_type": "slide"
    },
    "tags": []
   },
   "source": [
    "A seguinte célula, usa o kernel para executar uma célula interna `a = 1`, que define o valor `1` para a variável `a`.\n",
    "\n",
    "Em seguida, a célula externa acessa o valor definido recentemente:"
   ]
  },
  {
   "cell_type": "code",
   "execution_count": 12,
   "metadata": {},
   "outputs": [
    {
     "data": {
      "text/plain": [
       "1"
      ]
     },
     "execution_count": 12,
     "metadata": {},
     "output_type": "execute_result"
    }
   ],
   "source": [
    "ip = get_ipython()\n",
    "\n",
    "ip.run_cell(\"a = 1\")\n",
    "\n",
    "a"
   ]
  },
  {
   "attachments": {
    "kernel2.svg": {
     "image/svg+xml": [
      "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"
     ]
    }
   },
   "cell_type": "markdown",
   "metadata": {
    "slideshow": {
     "slide_type": "fragment"
    },
    "tags": []
   },
   "source": [
    "![kernel2.svg](kernel2.svg)"
   ]
  },
  {
   "cell_type": "markdown",
   "metadata": {
    "slideshow": {
     "slide_type": "slide"
    },
    "tags": []
   },
   "source": [
    "## Conclusão\n",
    "\n",
    "Este notebook apresentou o Jupyter com possibilidades de executar código e visualizar gráficos e apresentou a definição de variáveis no kernel do IPython.\n",
    "\n",
    "O próximo notebook ([6.2.Superconjunto.ipynb](6.2.Superconjunto.ipynb)) apresenta o IPython como um superconjunto do Python. Ou seja, oferecendo uma extensão da sintaxe."
   ]
  },
  {
   "cell_type": "code",
   "execution_count": null,
   "metadata": {},
   "outputs": [],
   "source": []
  }
 ],
 "metadata": {
  "kernelspec": {
   "display_name": "Python 3",
   "language": "python",
   "name": "python3"
  },
  "language_info": {
   "codemirror_mode": {
    "name": "ipython",
    "version": 3
   },
   "file_extension": ".py",
   "mimetype": "text/x-python",
   "name": "python",
   "nbconvert_exporter": "python",
   "pygments_lexer": "ipython3",
   "version": "3.8.5"
  }
 },
 "nbformat": 4,
 "nbformat_minor": 4
}
