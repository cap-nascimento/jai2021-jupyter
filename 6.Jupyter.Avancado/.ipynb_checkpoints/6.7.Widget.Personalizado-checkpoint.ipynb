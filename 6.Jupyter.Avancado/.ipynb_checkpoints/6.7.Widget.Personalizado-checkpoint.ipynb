{
 "cells": [
  {
   "cell_type": "markdown",
   "metadata": {},
   "source": [
    "# Widget Personalizado\n",
    "\n",
    "Este notebook apresenta como personalizar widgets e criar formulários mais completos."
   ]
  },
  {
   "cell_type": "code",
   "execution_count": 1,
   "metadata": {},
   "outputs": [],
   "source": [
    "import pandas as pd\n",
    "from ipywidgets import Combobox, Output, VBox\n",
    "%load_ext spotify\n",
    "df = pd.read_csv(\"../dataset/spotify_hits_dataset_complete.tsv\", sep=\"\\t\")"
   ]
  },
  {
   "cell_type": "code",
   "execution_count": 2,
   "metadata": {},
   "outputs": [],
   "source": [
    "# Cria items para comboboxes\n",
    "songs = df.song_name.to_list()\n",
    "artists = []\n",
    "# Cria form com 2 campos e 2 saídas\n",
    "cs = Combobox(description=\"Música\", options=songs)\n",
    "out_song = Output()\n",
    "ca = Combobox(description=\"Artista\", options=[\"\"])\n",
    "out_artist = Output()\n",
    "widget = VBox([cs, out_song, ca, out_artist])"
   ]
  },
  {
   "cell_type": "code",
   "execution_count": 3,
   "metadata": {},
   "outputs": [],
   "source": [
    "# Chama função ao alterar a musica\n",
    "@cs.observe \n",
    "def change_song(w):\n",
    "    global artists\n",
    "    # Limpa saídas e seleção ca\n",
    "    out_song.clear_output()\n",
    "    out_artist.clear_output()\n",
    "    ca.value = \"\"\n",
    "    artists = []\n",
    "    # Seleciona linha da música\n",
    "    if cs.value not in songs:\n",
    "        return\n",
    "    index = songs.index(cs.value)\n",
    "    row = df.loc[index]\n",
    "    # Exibe música\n",
    "    with out_song:\n",
    "        html = %track {row.song_id} -w 360\n",
    "        display(html)\n",
    "    # Atualiza opções de artista\n",
    "    artists = eval(row.artist_id)\n",
    "    ca.options = tuple(eval(row.artist_name)+[\"\"])"
   ]
  },
  {
   "cell_type": "code",
   "execution_count": 4,
   "metadata": {},
   "outputs": [],
   "source": [
    "# Chama função ao alterar o artista\n",
    "@ca.observe\n",
    "def change_artist(w):\n",
    "    # Limpa saída de artista\n",
    "    out_artist.clear_output()\n",
    "    # Seleciona artista\n",
    "    v = ca.value\n",
    "    if not v or v not in ca.options:\n",
    "        return\n",
    "    index = ca.options.index(v)\n",
    "    # Exibe artista\n",
    "    with out_artist:\n",
    "        html = %artist {artists[index]}\n",
    "        display(html)"
   ]
  },
  {
   "cell_type": "code",
   "execution_count": 5,
   "metadata": {},
   "outputs": [
    {
     "data": {
      "application/vnd.jupyter.widget-view+json": {
       "model_id": "78101923a3f34a8c8eb1463dabcf50a4",
       "version_major": 2,
       "version_minor": 0
      },
      "text/plain": [
       "VBox(children=(Combobox(value='', description='Música', options=('Falling', 'Venetia', 'Tilidin Weg', 'Pero Ya…"
      ]
     },
     "metadata": {},
     "output_type": "display_data"
    }
   ],
   "source": [
    "widget"
   ]
  },
  {
   "cell_type": "markdown",
   "metadata": {},
   "source": [
    "## Conclusão\n",
    "\n",
    "Este notebook apresentou como criar um widget personalizado e encerrou esta parte do tutorial. \n",
    "\n",
    "A próxima parte ([7.Ciencia.Aberta](../7.Ciencia.Aberta/7.1.Compartilhamento.ipynb)) apresenta como compartilhar e desenvolver notebooks buscando a reprodutibilidade."
   ]
  }
 ],
 "metadata": {
  "julynter-results": {
   "filteredId": [],
   "filteredIndividual": [],
   "filteredRestart": [],
   "filteredType": [],
   "hash": "67664984e1d732604d0b94086b3080c60148718d",
   "visible": []
  },
  "kernelspec": {
   "display_name": "Python 3",
   "language": "python",
   "name": "python3"
  },
  "language_info": {
   "codemirror_mode": {
    "name": "ipython",
    "version": 3
   },
   "file_extension": ".py",
   "mimetype": "text/x-python",
   "name": "python",
   "nbconvert_exporter": "python",
   "pygments_lexer": "ipython3",
   "version": "3.8.8"
  }
 },
 "nbformat": 4,
 "nbformat_minor": 4
}
