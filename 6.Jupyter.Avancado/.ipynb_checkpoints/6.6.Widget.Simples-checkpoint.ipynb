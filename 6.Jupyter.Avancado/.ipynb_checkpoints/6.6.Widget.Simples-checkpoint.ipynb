{
 "cells": [
  {
   "cell_type": "markdown",
   "metadata": {},
   "source": [
    "# Widget Simples\n",
    "\n",
    "Este notebook apresenta como criar um widget simples para notebooks interativos."
   ]
  },
  {
   "cell_type": "code",
   "execution_count": 1,
   "metadata": {},
   "outputs": [],
   "source": [
    "import pandas as pd\n",
    "from ipywidgets import interact, interact_manual, IntSlider\n",
    "%load_ext spotify\n",
    "df = pd.read_csv(\"../dataset/spotify_hits_dataset_complete.tsv\", sep=\"\\t\")"
   ]
  },
  {
   "cell_type": "code",
   "execution_count": 2,
   "metadata": {},
   "outputs": [
    {
     "data": {
      "application/vnd.jupyter.widget-view+json": {
       "model_id": "4ec9056014954396becefa58fae22488",
       "version_major": 2,
       "version_minor": 0
      },
      "text/plain": [
       "interactive(children=(Text(value='duration_ms', description='column'), IntSlider(value=50, description='q'), O…"
      ]
     },
     "metadata": {},
     "output_type": "display_data"
    }
   ],
   "source": [
    "@interact(q=IntSlider(value=50, min=0, max=100))\n",
    "def percentil(column=\"duration_ms\", q=10):\n",
    "    print(f\"Percentil {q} de {column} é {df[column].quantile(q=q/100)}\")"
   ]
  },
  {
   "cell_type": "code",
   "execution_count": 3,
   "metadata": {},
   "outputs": [
    {
     "data": {
      "application/vnd.jupyter.widget-view+json": {
       "model_id": "249b907648114c4c8183ff81fe5481ec",
       "version_major": 2,
       "version_minor": 0
      },
      "text/plain": [
       "interactive(children=(Text(value='duration_ms', description='column'), IntSlider(value=50, description='q'), B…"
      ]
     },
     "metadata": {},
     "output_type": "display_data"
    }
   ],
   "source": [
    "@interact_manual(q=IntSlider(value=50, min=0, max=100))\n",
    "def percentil(column=\"duration_ms\", q=10):\n",
    "    value = df[column].quantile(q=q/100)\n",
    "    print(f\"Percentil {q} de {column} é {value}\")"
   ]
  },
  {
   "cell_type": "markdown",
   "metadata": {},
   "source": [
    "## Conclusão\n",
    "\n",
    "Este notebook apresentou como criar um widget simples usando o decorador interact.\n",
    "\n",
    "O próximo notebook ([6.7.Widget.Personalizado.ipynb](6.7.Widget.Personalizado.ipynb)) apresenta como personalizar widgets e criar formulários mais completos."
   ]
  }
 ],
 "metadata": {
  "julynter-results": {
   "filteredId": [],
   "filteredIndividual": [],
   "filteredRestart": [],
   "filteredType": [],
   "hash": "9c3ce4e08ae78a9fd7fb4c30f00bff96413bce28",
   "visible": []
  },
  "kernelspec": {
   "display_name": "Python 3",
   "language": "python",
   "name": "python3"
  },
  "language_info": {
   "codemirror_mode": {
    "name": "ipython",
    "version": 3
   },
   "file_extension": ".py",
   "mimetype": "text/x-python",
   "name": "python",
   "nbconvert_exporter": "python",
   "pygments_lexer": "ipython3",
   "version": "3.8.8"
  }
 },
 "nbformat": 4,
 "nbformat_minor": 4
}
