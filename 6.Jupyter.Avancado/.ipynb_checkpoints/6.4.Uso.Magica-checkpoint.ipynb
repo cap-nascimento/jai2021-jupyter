{
 "cells": [
  {
   "cell_type": "markdown",
   "metadata": {},
   "source": [
    "# Uso de Mágicas\n",
    "\n",
    "Este notebook apresenta o uso de mágicas no notebook"
   ]
  },
  {
   "cell_type": "code",
   "execution_count": 1,
   "metadata": {},
   "outputs": [
    {
     "data": {
      "text/plain": [
       "'1rgnBhdG2JDFTbYkYRZAku'"
      ]
     },
     "execution_count": 1,
     "metadata": {},
     "output_type": "execute_result"
    }
   ],
   "source": [
    "%load_ext spotify\n",
    "import pandas as pd\n",
    "dfc = pd.read_csv(\"../dataset/spotify_charts_\"\n",
    "                  \"complete.tsv\", sep=\"\\t\")\n",
    "dfc.loc[0,\"song_id\"]"
   ]
  },
  {
   "cell_type": "code",
   "execution_count": 2,
   "metadata": {},
   "outputs": [
    {
     "name": "stderr",
     "output_type": "stream",
     "text": [
      "/home/joao/anaconda3/lib/python3.8/site-packages/IPython/core/display.py:717: UserWarning: Consider using IPython.display.IFrame instead\n",
      "  warnings.warn(\"Consider using IPython.display.IFrame instead\")\n"
     ]
    },
    {
     "data": {
      "text/html": [
       "<iframe src=\"https://open.spotify.com/embed/track/1rgnBhdG2JDFTbYkYRZAku\" width=\"300\" height=\"80\" frameborder=\"0\" allowtransparency=\"true\" allow=\"encrypted-media\"></iframe>"
      ],
      "text/plain": [
       "<IPython.core.display.HTML object>"
      ]
     },
     "execution_count": 2,
     "metadata": {},
     "output_type": "execute_result"
    }
   ],
   "source": [
    "%track {dfc.loc[0,\"song_id\"]} -h 80"
   ]
  },
  {
   "cell_type": "code",
   "execution_count": 3,
   "metadata": {},
   "outputs": [
    {
     "data": {
      "text/plain": [
       "1    696DnlkuDOXcMAnKlTgXXK\n",
       "2    7k4t7uLgtOxPwTpFmtJNTY\n",
       "3    2b8fOow8UzyDFAE27YhOZM\n",
       "4    4TnjEaWOeW0eKTKIEvJyCa\n",
       "Name: song_id, dtype: object"
      ]
     },
     "execution_count": 3,
     "metadata": {},
     "output_type": "execute_result"
    }
   ],
   "source": [
    "dfc.loc[1:4,\"song_id\"]"
   ]
  },
  {
   "cell_type": "code",
   "execution_count": 4,
   "metadata": {},
   "outputs": [
    {
     "data": {
      "text/html": [
       "<iframe src=\"https://open.spotify.com/embed/track/696DnlkuDOXcMAnKlTgXXK\" width=\"300\" height=\"80\" frameborder=\"0\" allowtransparency=\"true\" allow=\"encrypted-media\"></iframe><br><iframe src=\"https://open.spotify.com/embed/track/7k4t7uLgtOxPwTpFmtJNTY\" width=\"300\" height=\"80\" frameborder=\"0\" allowtransparency=\"true\" allow=\"encrypted-media\"></iframe><br><iframe src=\"https://open.spotify.com/embed/track/2b8fOow8UzyDFAE27YhOZM\" width=\"300\" height=\"80\" frameborder=\"0\" allowtransparency=\"true\" allow=\"encrypted-media\"></iframe><br><iframe src=\"https://open.spotify.com/embed/track/4TnjEaWOeW0eKTKIEvJyCa\" width=\"300\" height=\"80\" frameborder=\"0\" allowtransparency=\"true\" allow=\"encrypted-media\"></iframe>"
      ],
      "text/plain": [
       "<IPython.core.display.HTML object>"
      ]
     },
     "execution_count": 4,
     "metadata": {},
     "output_type": "execute_result"
    }
   ],
   "source": [
    "%%track -h 80\n",
    "696DnlkuDOXcMAnKlTgXXK\n",
    "7k4t7uLgtOxPwTpFmtJNTY\n",
    "2b8fOow8UzyDFAE27YhOZM\n",
    "4TnjEaWOeW0eKTKIEvJyCa"
   ]
  },
  {
   "cell_type": "markdown",
   "metadata": {},
   "source": [
    "## Conclusão\n",
    "\n",
    "A mágica track foi usada tanto como mágica de linha quanto como mágica de célula.\n",
    "\n",
    "O próximo notebook ([1.3.2.3.Exibicao.ipynb](1.3.2.3.Exibicao.ipynb)) apresenta como estender a visualização no IPython."
   ]
  },
  {
   "cell_type": "code",
   "execution_count": null,
   "metadata": {},
   "outputs": [],
   "source": []
  }
 ],
 "metadata": {
  "kernelspec": {
   "display_name": "Python 3",
   "language": "python",
   "name": "python3"
  },
  "language_info": {
   "codemirror_mode": {
    "name": "ipython",
    "version": 3
   },
   "file_extension": ".py",
   "mimetype": "text/x-python",
   "name": "python",
   "nbconvert_exporter": "python",
   "pygments_lexer": "ipython3",
   "version": "3.8.5"
  }
 },
 "nbformat": 4,
 "nbformat_minor": 4
}
