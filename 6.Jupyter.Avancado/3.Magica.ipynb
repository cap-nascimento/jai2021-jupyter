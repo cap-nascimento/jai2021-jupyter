{
 "cells": [
  {
   "cell_type": "markdown",
   "metadata": {
    "slideshow": {
     "slide_suffix": "Mágicas",
     "slide_title": "Jupyter Avançado",
     "slide_type": "slide"
    },
    "tags": []
   },
   "source": [
    "## Mágicas do IPython e Extensões\n",
    "\n",
    "No notebook anterior foi apresentado como usar mágicas no IPython.\n",
    "\n",
    "Este notebook tem os seguintes objetivos:\n",
    "- Apresentar como criar novas mágicas\n",
    "- Apresentar como exportá-las para extensões"
   ]
  },
  {
   "cell_type": "markdown",
   "metadata": {
    "slideshow": {
     "slide_type": "slide"
    },
    "tags": []
   },
   "source": [
    "Começamos o notebook carregando o arquivo com informações de artistas do Spotify para o Pandas.\n",
    "\n",
    "Esse arquivo será usado para criar um \"tocador\" do Spotify para músicas de artistas dentro do notebook.\n"
   ]
  },
  {
   "cell_type": "code",
   "execution_count": 1,
   "metadata": {},
   "outputs": [
    {
     "data": {
      "text/plain": [
       "artist_id                                4gzpq5DPGxSnKTe4SA8HAU\n",
       "name                                                   Coldplay\n",
       "followers                                              29397183\n",
       "popularity                                                   90\n",
       "genres                                ['permanent wave', 'pop']\n",
       "image_url     https://i.scdn.co/image/4ffd6710617d289699cc0d...\n",
       "Name: 0, dtype: object"
      ]
     },
     "execution_count": 1,
     "metadata": {},
     "output_type": "execute_result"
    }
   ],
   "source": [
    "import pandas as pd\n",
    "from IPython.core.magic import Magics, magics_class, line_magic\n",
    "dfa = pd.read_csv(\"../dataset/spotify_artists_info_complete.tsv\", sep=\"\\t\")\n",
    "dfa.loc[0]"
   ]
  },
  {
   "cell_type": "markdown",
   "metadata": {
    "slideshow": {
     "slide_type": "fragment"
    },
    "tags": []
   },
   "source": [
    "Perceba nesse resultado que o **Coldplay** possui `artist_id` **4gzpq5DPGxSnKTe4SA8HAU**."
   ]
  },
  {
   "cell_type": "markdown",
   "metadata": {
    "slideshow": {
     "slide_type": "slide"
    },
    "tags": []
   },
   "source": [
    "Este `artist_id` é usado no iframe que o Spotify disponibiliza para exibir tocadores de artistas e músicas em sites.\n",
    "\n",
    "```html\n",
    "<iframe src=\"https://open.spotify.com/embed/{type}/{id}\"\n",
    "        width=\"360\" height=\"180\"\n",
    "        frameborder=\"0\" allowtransparency=\"true\" \n",
    "        allow=\"encrypted-media\"></iframe>\n",
    "```\n",
    "\n",
    "Para artista, `type` deve ser `artist`\n",
    "\n",
    "Para música, `type` deve ser `track`\n",
    "     "
   ]
  },
  {
   "cell_type": "markdown",
   "metadata": {
    "slideshow": {
     "slide_type": "slide"
    },
    "tags": []
   },
   "source": [
    "Usando a mágica `%%html` apresentada anteriormente, podemos mostrar o tocador do Coldplay:"
   ]
  },
  {
   "cell_type": "code",
   "execution_count": 2,
   "metadata": {},
   "outputs": [
    {
     "data": {
      "text/html": [
       "<iframe src=\"https://open.spotify.com/embed/artist/4gzpq5DPGxSnKTe4SA8HAU\"\n",
       "        width=\"360\" height=\"180\"\n",
       "        frameborder=\"0\" allowtransparency=\"true\" \n",
       "        allow=\"encrypted-media\"></iframe>\n"
      ],
      "text/plain": [
       "<IPython.core.display.HTML object>"
      ]
     },
     "metadata": {},
     "output_type": "display_data"
    }
   ],
   "source": [
    "%%html\n",
    "<iframe src=\"https://open.spotify.com/embed/artist/4gzpq5DPGxSnKTe4SA8HAU\"\n",
    "        width=\"360\" height=\"180\"\n",
    "        frameborder=\"0\" allowtransparency=\"true\" \n",
    "        allow=\"encrypted-media\"></iframe>"
   ]
  },
  {
   "cell_type": "markdown",
   "metadata": {
    "slideshow": {
     "slide_type": "slide"
    },
    "tags": []
   },
   "source": [
    "Escrever assim funciona, mas repetir o código do iframe para cada artista pode ser um tanto complicado, então vamos facilitar com uma função:"
   ]
  },
  {
   "cell_type": "code",
   "execution_count": 3,
   "metadata": {},
   "outputs": [],
   "source": [
    "EMBED_URL = (\n",
    "    '<iframe src=\"https://open.spotify.com/embed/{type}/{id}\"'\n",
    "    ' width=\"{width}\" height=\"{height}\"'\n",
    "    ' frameborder=\"0\" allowtransparency=\"true\"'\n",
    "    ' allow=\"encrypted-media\"></iframe>'\n",
    ")\n",
    "\n",
    "def display_artist(kernel, aid, width=360, height=180):\n",
    "    return kernel.run_cell_magic('html', '', EMBED_URL.format(\n",
    "        type=\"artist\", id=aid,\n",
    "        width=width, height=height\n",
    "    ))"
   ]
  },
  {
   "cell_type": "code",
   "execution_count": 4,
   "metadata": {
    "slideshow": {
     "slide_type": "fragment"
    },
    "tags": []
   },
   "outputs": [
    {
     "name": "stderr",
     "output_type": "stream",
     "text": [
      "/home/joao/anaconda3/lib/python3.8/site-packages/IPython/core/display.py:717: UserWarning: Consider using IPython.display.IFrame instead\n",
      "  warnings.warn(\"Consider using IPython.display.IFrame instead\")\n"
     ]
    },
    {
     "data": {
      "text/html": [
       "<iframe src=\"https://open.spotify.com/embed/artist/4gzpq5DPGxSnKTe4SA8HAU\" width=\"360\" height=\"180\" frameborder=\"0\" allowtransparency=\"true\" allow=\"encrypted-media\"></iframe>"
      ],
      "text/plain": [
       "<IPython.core.display.HTML object>"
      ]
     },
     "metadata": {},
     "output_type": "display_data"
    }
   ],
   "source": [
    "display_artist(get_ipython(), \"4gzpq5DPGxSnKTe4SA8HAU\")"
   ]
  },
  {
   "cell_type": "markdown",
   "metadata": {
    "slideshow": {
     "slide_type": "slide"
    },
    "tags": []
   },
   "source": [
    "### Mágica de linha"
   ]
  },
  {
   "cell_type": "markdown",
   "metadata": {},
   "source": [
    "Essa forma de escrita funciona e usa apenas a sintaxe do Python, mas pode ser interessante ter isso como uma mágica do IPython."
   ]
  },
  {
   "cell_type": "code",
   "execution_count": 5,
   "metadata": {
    "slideshow": {
     "slide_type": "slide"
    },
    "tags": []
   },
   "outputs": [],
   "source": [
    "from IPython.core.magic import Magics, magics_class, line_magic\n",
    "\n",
    "@magics_class\n",
    "class SpotifyMagics(Magics):\n",
    "    \n",
    "    @line_magic\n",
    "    def artist(self, line):\n",
    "        return display_artist(self.shell, line)\n",
    "    \n",
    "get_ipython().register_magics(SpotifyMagics)"
   ]
  },
  {
   "cell_type": "markdown",
   "metadata": {
    "slideshow": {
     "slide_type": "slide"
    },
    "tags": []
   },
   "source": [
    "Pontos importantes a se observar:\n",
    "\n",
    "- `self.shell` já dá acesso ao kernel do IPython, dispensando o uso de `get_ipython()` na mágica\n",
    "- É necessário criar uma classe de mágicas e registrar essas mágicas no kernel através do método `register_magics`"
   ]
  },
  {
   "cell_type": "markdown",
   "metadata": {
    "slideshow": {
     "slide_type": "slide"
    },
    "tags": []
   },
   "source": [
    "Com esse código, passa a ser possível usar uma mágica para visualizar o artista:"
   ]
  },
  {
   "cell_type": "code",
   "execution_count": 6,
   "metadata": {},
   "outputs": [
    {
     "data": {
      "text/html": [
       "<iframe src=\"https://open.spotify.com/embed/artist/4gzpq5DPGxSnKTe4SA8HAU\" width=\"360\" height=\"180\" frameborder=\"0\" allowtransparency=\"true\" allow=\"encrypted-media\"></iframe>"
      ],
      "text/plain": [
       "<IPython.core.display.HTML object>"
      ]
     },
     "metadata": {},
     "output_type": "display_data"
    }
   ],
   "source": [
    "%artist 4gzpq5DPGxSnKTe4SA8HAU"
   ]
  },
  {
   "cell_type": "markdown",
   "metadata": {
    "slideshow": {
     "slide_type": "slide"
    },
    "tags": []
   },
   "source": [
    "### Argumentos"
   ]
  },
  {
   "cell_type": "markdown",
   "metadata": {},
   "source": [
    "Apesar de funcionar desta forma, poderia ser possível passar `-w 400 -h 250` para alterar o tamanho do tocador.\n",
    "\n",
    "Para isso usamos decoradores baseados no `argparse` do Python."
   ]
  },
  {
   "cell_type": "code",
   "execution_count": 7,
   "metadata": {
    "slideshow": {
     "slide_type": "slide"
    },
    "tags": []
   },
   "outputs": [],
   "source": [
    "from IPython.core.magic import Magics, magics_class, line_magic\n",
    "from IPython.core.magic_arguments import parse_argstring, magic_arguments, argument\n",
    "\n",
    "@magics_class\n",
    "class SpotifyMagics(Magics):\n",
    "    \n",
    "    @magic_arguments()\n",
    "    @argument(\"artist_id\", help=\"Id de artista\")\n",
    "    @argument(\"-w\", \"--width\", type=int, default=360, help=\"Largura\")\n",
    "    @argument(\"-h\", \"--height\", type=int, default=180, help=\"Altura\")\n",
    "    @line_magic\n",
    "    def artist(self, line):\n",
    "        args = parse_argstring(self.artist, line)\n",
    "        return display_artist(\n",
    "            self.shell, args.artist_id,\n",
    "            args.width, args.height\n",
    "        )\n",
    "    \n",
    "get_ipython().register_magics(SpotifyMagics)"
   ]
  },
  {
   "cell_type": "markdown",
   "metadata": {
    "slideshow": {
     "slide_type": "slide"
    },
    "tags": []
   },
   "source": [
    "O uso dos decoradores `@magic_arguments`, `@argument` e da função `parse_argstring` permite extrair argumentos do parâmetro linha.\n",
    "\n",
    "Com isso, definimos uma mágica que se parece com linhas de comando e expressões bang:"
   ]
  },
  {
   "cell_type": "code",
   "execution_count": 8,
   "metadata": {},
   "outputs": [
    {
     "data": {
      "text/html": [
       "<iframe src=\"https://open.spotify.com/embed/artist/4gzpq5DPGxSnKTe4SA8HAU\" width=\"400\" height=\"240\" frameborder=\"0\" allowtransparency=\"true\" allow=\"encrypted-media\"></iframe>"
      ],
      "text/plain": [
       "<IPython.core.display.HTML object>"
      ]
     },
     "metadata": {},
     "output_type": "display_data"
    }
   ],
   "source": [
    "%artist 4gzpq5DPGxSnKTe4SA8HAU -w 400 -h 240"
   ]
  },
  {
   "cell_type": "markdown",
   "metadata": {
    "slideshow": {
     "slide_type": "slide"
    },
    "tags": []
   },
   "source": [
    "Com os argumentos definidos desta forma, é possível acessar a documentação da mágica:"
   ]
  },
  {
   "cell_type": "code",
   "execution_count": 9,
   "metadata": {},
   "outputs": [
    {
     "data": {
      "text/plain": [
       "\u001b[0;31mDocstring:\u001b[0m\n",
       "::\n",
       "\n",
       "  %artist [-w WIDTH] [-h HEIGHT] artist_id\n",
       "\n",
       "positional arguments:\n",
       "  artist_id             Id de artista\n",
       "\n",
       "optional arguments:\n",
       "  -w WIDTH, --width WIDTH\n",
       "                        Largura\n",
       "  -h HEIGHT, --height HEIGHT\n",
       "                        Altura\n",
       "\u001b[0;31mFile:\u001b[0m      ~/projects/jai2021-jupyter/6.Jupyter.Avancado/<ipython-input-7-de37cd082157>\n"
      ]
     },
     "metadata": {},
     "output_type": "display_data"
    }
   ],
   "source": [
    "%artist?"
   ]
  },
  {
   "cell_type": "markdown",
   "metadata": {
    "slideshow": {
     "slide_type": "slide"
    },
    "tags": []
   },
   "source": [
    "### Mágica de célula"
   ]
  },
  {
   "cell_type": "markdown",
   "metadata": {},
   "source": [
    "Outra alteração que podemos fazer na mágica anterior, é permitir que ela atue tanto como mágica de linha quanto como mágica de célula. \n",
    "\n",
    "Quando ela for uma mágica de célula, ela deve poder apresentar o tocador de vários artistas."
   ]
  },
  {
   "cell_type": "code",
   "execution_count": 10,
   "metadata": {
    "slideshow": {
     "slide_type": "slide"
    },
    "tags": []
   },
   "outputs": [],
   "source": [
    "from IPython.display import HTML\n",
    "from IPython.core.magic import line_cell_magic\n",
    "\n",
    "@magics_class\n",
    "class SpotifyMagics(Magics):\n",
    "    \n",
    "    @magic_arguments()\n",
    "    @argument(\"ids\", nargs=\"*\", help=\"Ids de artistas\")\n",
    "    @argument(\"-w\", \"--width\", type=int, default=360, help=\"Largura\")\n",
    "    @argument(\"-h\", \"--height\", type=int, default=180, help=\"Altura\")\n",
    "    @line_cell_magic\n",
    "    def artist(self, line, cell=\"\"):\n",
    "        args = parse_argstring(self.artist, line)\n",
    "        ids = args.ids or cell.split('\\n')\n",
    "        result = []\n",
    "        for aid in ids:\n",
    "            if aid:\n",
    "                result.append(EMBED_URL.format(\n",
    "                    type=\"artist\", id=aid,\n",
    "                    width=args.width, height=args.height\n",
    "                ))\n",
    "        return HTML(\"<br>\".join(result))\n",
    "        \n",
    "get_ipython().register_magics(SpotifyMagics)"
   ]
  },
  {
   "cell_type": "markdown",
   "metadata": {
    "slideshow": {
     "slide_type": "slide"
    },
    "tags": []
   },
   "source": [
    "Principais mudanças:\n",
    "\n",
    "- `@line_magic` -> `@line_cell_magic`\n",
    "- `artist(self, line)` -> `artist(self, line, cell=\"\")`\n",
    "- `nargs=\"*\"` no argumento ids para aceitar vários\n",
    "- Construção de lista de resultados com vários IFrames\n",
    "- Resultado final usando classe HTML ao invés da mágica de célula `%%html`. A razão disso é antecipar uma mudança que será necessária no futuro"
   ]
  },
  {
   "cell_type": "markdown",
   "metadata": {
    "slideshow": {
     "slide_type": "slide"
    },
    "tags": []
   },
   "source": [
    "Para testar, vamos selecionar os 3 primeiros artistas:"
   ]
  },
  {
   "cell_type": "code",
   "execution_count": 11,
   "metadata": {},
   "outputs": [
    {
     "data": {
      "text/plain": [
       "0    4gzpq5DPGxSnKTe4SA8HAU\n",
       "1    6Te49r3A6f5BiIgBRxH7FH\n",
       "2    4QrBoWLm2WNlPdbFhmlaUZ\n",
       "Name: artist_id, dtype: object"
      ]
     },
     "execution_count": 11,
     "metadata": {},
     "output_type": "execute_result"
    }
   ],
   "source": [
    "dfa.loc[0:2].artist_id"
   ]
  },
  {
   "cell_type": "markdown",
   "metadata": {
    "slideshow": {
     "slide_type": "slide"
    },
    "tags": []
   },
   "source": [
    "A partir disso, podemos usar na mágica:"
   ]
  },
  {
   "cell_type": "code",
   "execution_count": 12,
   "metadata": {},
   "outputs": [
    {
     "data": {
      "text/html": [
       "<iframe src=\"https://open.spotify.com/embed/artist/4gzpq5DPGxSnKTe4SA8HAU\" width=\"360\" height=\"155\" frameborder=\"0\" allowtransparency=\"true\" allow=\"encrypted-media\"></iframe><br><iframe src=\"https://open.spotify.com/embed/artist/6Te49r3A6f5BiIgBRxH7FH\" width=\"360\" height=\"155\" frameborder=\"0\" allowtransparency=\"true\" allow=\"encrypted-media\"></iframe><br><iframe src=\"https://open.spotify.com/embed/artist/4QrBoWLm2WNlPdbFhmlaUZ\" width=\"360\" height=\"155\" frameborder=\"0\" allowtransparency=\"true\" allow=\"encrypted-media\"></iframe>"
      ],
      "text/plain": [
       "<IPython.core.display.HTML object>"
      ]
     },
     "execution_count": 12,
     "metadata": {},
     "output_type": "execute_result"
    }
   ],
   "source": [
    "%%artist -h 155\n",
    "4gzpq5DPGxSnKTe4SA8HAU\n",
    "6Te49r3A6f5BiIgBRxH7FH\n",
    "4QrBoWLm2WNlPdbFhmlaUZ"
   ]
  },
  {
   "cell_type": "markdown",
   "metadata": {
    "slideshow": {
     "slide_type": "slide"
    },
    "tags": []
   },
   "source": [
    "### Mágica para música"
   ]
  },
  {
   "cell_type": "markdown",
   "metadata": {},
   "source": [
    "Vamos criar também uma mágica `%track` para a visualização de tocadores de música."
   ]
  },
  {
   "cell_type": "code",
   "execution_count": 13,
   "metadata": {},
   "outputs": [],
   "source": [
    "from IPython.display import HTML\n",
    "from IPython.core.magic import line_cell_magic\n",
    "\n",
    "@magics_class\n",
    "class SpotifyMagics(Magics):\n",
    "    \n",
    "    def embed_player(self, fn, line, cell, type_):\n",
    "        args = parse_argstring(fn, line)\n",
    "        ids = args.ids or cell.split('\\n')\n",
    "        result = []\n",
    "        for aid in ids:\n",
    "            if aid:\n",
    "                result.append(EMBED_URL.format(\n",
    "                    type=type_, id=aid,\n",
    "                    width=args.width, height=args.height\n",
    "                ))\n",
    "        return HTML(\"<br>\".join(result))\n",
    "    \n",
    "    @magic_arguments()\n",
    "    @argument(\"ids\", nargs=\"*\", help=\"Ids de artistas\")\n",
    "    @argument(\"-w\", \"--width\", type=int, default=360, help=\"Largura\")\n",
    "    @argument(\"-h\", \"--height\", type=int, default=180, help=\"Altura\")\n",
    "    @line_cell_magic\n",
    "    def artist(self, line, cell=\"\"):\n",
    "        return self.embed_player(self.artist, line, cell, 'artist')\n",
    "        \n",
    "    @magic_arguments()\n",
    "    @argument(\"ids\", nargs=\"*\", help=\"Ids de músicas\")\n",
    "    @argument(\"-w\", \"--width\", type=int, default=300, help=\"Largura\")\n",
    "    @argument(\"-h\", \"--height\", type=int, default=80, help=\"Altura\")\n",
    "    @line_cell_magic\n",
    "    def track(self, line, cell=\"\"):\n",
    "        return self.embed_player(self.track, line, cell, 'track')\n",
    "\n",
    "get_ipython().register_magics(SpotifyMagics)"
   ]
  },
  {
   "cell_type": "markdown",
   "metadata": {
    "slideshow": {
     "slide_type": "slide"
    },
    "tags": []
   },
   "source": [
    "### Extensão IPython\n",
    "\n",
    "Por enquanto nossa mágica é valida para este único notebook, mas seria bom podermos usar em outros notebooks.\n",
    "\n",
    "Uma forma de atingir este objetivo é através da criação de uma extensão para o IPython."
   ]
  },
  {
   "cell_type": "markdown",
   "metadata": {
    "slideshow": {
     "slide_type": "slide"
    },
    "tags": []
   },
   "source": [
    "Extensões são arquivos Python comuns que podem ser carregados através da mágica `%load_ext`. \n",
    "\n",
    "Esta mágica importa a extensão e executa a função `load_ipython_extension` passando o kernel como parâmetro."
   ]
  },
  {
   "cell_type": "code",
   "execution_count": 14,
   "metadata": {},
   "outputs": [
    {
     "name": "stdout",
     "output_type": "stream",
     "text": [
      "Overwriting spotify.py\n"
     ]
    }
   ],
   "source": [
    "%%writefile spotify.py\n",
    "from IPython.core.magic import Magics, magics_class, line_magic, line_cell_magic\n",
    "from IPython.core.magic_arguments import parse_argstring, magic_arguments, argument\n",
    "from IPython.display import HTML\n",
    "\n",
    "EMBED_URL = (\n",
    "    '<iframe src=\"https://open.spotify.com/embed/{type}/{id}\"'\n",
    "    ' width=\"{width}\" height=\"{height}\"'\n",
    "    ' frameborder=\"0\" allowtransparency=\"true\"'\n",
    "    ' allow=\"encrypted-media\"></iframe>'\n",
    ")\n",
    "\n",
    "# Define classe de mágicas\n",
    "@magics_class\n",
    "class SpotifyMagics(Magics):\n",
    "    \n",
    "    def embed_player(self, fn, line, cell, type_):\n",
    "        args = parse_argstring(fn, line)\n",
    "        ids = args.ids or cell.split('\\n')\n",
    "        result = []\n",
    "        for aid in ids:\n",
    "            if aid:\n",
    "                result.append(EMBED_URL.format(\n",
    "                    type=type_, id=aid,\n",
    "                    width=args.width, height=args.height\n",
    "                ))\n",
    "        return HTML(\"<br>\".join(result))\n",
    "    \n",
    "    @magic_arguments()\n",
    "    @argument(\"ids\", nargs=\"*\", help=\"Ids de artistas\")\n",
    "    @argument(\"-w\", \"--width\", type=int, default=360, help=\"Largura\")\n",
    "    @argument(\"-h\", \"--height\", type=int, default=180, help=\"Altura\")\n",
    "    @line_cell_magic\n",
    "    def artist(self, line, cell=\"\"):\n",
    "        return self.embed_player(self.artist, line, cell, 'artist')\n",
    "        \n",
    "    @magic_arguments()\n",
    "    @argument(\"ids\", nargs=\"*\", help=\"Ids de músicas\")\n",
    "    @argument(\"-w\", \"--width\", type=int, default=300, help=\"Largura\")\n",
    "    @argument(\"-h\", \"--height\", type=int, default=80, help=\"Altura\")\n",
    "    @line_cell_magic\n",
    "    def track(self, line, cell=\"\"):\n",
    "        return self.embed_player(self.track, line, cell, 'track')\n",
    "        \n",
    "def load_ipython_extension(kernel):\n",
    "    # Registra mágicas\n",
    "    kernel.register_magics(SpotifyMagics)\n"
   ]
  },
  {
   "cell_type": "markdown",
   "metadata": {
    "slideshow": {
     "slide_type": "slide"
    },
    "tags": []
   },
   "source": [
    "## Conclusão\n",
    "\n",
    "Este notebook apresentou a definição de uma mágica e de uma extensão para o IPython.\n",
    "\n",
    "O próximo notebook ([4.Uso.Magica.ipynb](4.Uso.Magica.ipynb)) apresenta o uso da extensão."
   ]
  }
 ],
 "metadata": {
  "julynter-results": {
   "filteredId": [],
   "filteredIndividual": [],
   "filteredRestart": [],
   "filteredType": [],
   "hash": "0a2058f83d8f9660ac8fdcaae29ab786c39d6991",
   "visible": []
  },
  "kernelspec": {
   "display_name": "Python 3",
   "language": "python",
   "name": "python3"
  },
  "language_info": {
   "codemirror_mode": {
    "name": "ipython",
    "version": 3
   },
   "file_extension": ".py",
   "mimetype": "text/x-python",
   "name": "python",
   "nbconvert_exporter": "python",
   "pygments_lexer": "ipython3",
   "version": "3.8.5"
  }
 },
 "nbformat": 4,
 "nbformat_minor": 4
}
