{
 "cells": [
  {
   "cell_type": "markdown",
   "metadata": {
    "slideshow": {
     "slide_suffix": "Widget Simples",
     "slide_title": "Jupyter Avançado",
     "slide_type": "slide"
    },
    "tags": []
   },
   "source": [
    "# Widget Simples\n",
    "\n",
    "Criamos mágicas, extensões e visualizações de objetos até agora, mas a nossa interatividade com o Jupyter ainda está limitada a execução de células.\n",
    "\n",
    "É possível aumentar ainda mais a interatividade criando widgets com `ipywidgets`."
   ]
  },
  {
   "cell_type": "markdown",
   "metadata": {
    "slideshow": {
     "slide_type": "slide"
    },
    "tags": []
   },
   "source": [
    "Vamos carregar os dados do dataset:"
   ]
  },
  {
   "cell_type": "code",
   "execution_count": 1,
   "metadata": {},
   "outputs": [],
   "source": [
    "import pandas as pd\n",
    "%load_ext spotify\n",
    "df = pd.read_csv(\"../dataset/spotify_hits_dataset_complete.tsv\", sep=\"\\t\")"
   ]
  },
  {
   "cell_type": "markdown",
   "metadata": {
    "slideshow": {
     "slide_type": "slide"
    },
    "tags": []
   },
   "source": [
    "Nesse dataset podemos ver qual é o quantile **50** da coluna `duration_ms`:"
   ]
  },
  {
   "cell_type": "code",
   "execution_count": 2,
   "metadata": {},
   "outputs": [
    {
     "data": {
      "text/plain": [
       "193683.0"
      ]
     },
     "execution_count": 2,
     "metadata": {},
     "output_type": "execute_result"
    }
   ],
   "source": [
    "df[\"duration_ms\"].quantile(q=50/100)"
   ]
  },
  {
   "cell_type": "markdown",
   "metadata": {
    "slideshow": {
     "slide_type": "subslide"
    },
    "tags": []
   },
   "source": [
    "Nesse dataset podemos ver qual é o quantile **25** da coluna `duration_ms`:"
   ]
  },
  {
   "cell_type": "code",
   "execution_count": 3,
   "metadata": {},
   "outputs": [
    {
     "data": {
      "text/plain": [
       "170763.25"
      ]
     },
     "execution_count": 3,
     "metadata": {},
     "output_type": "execute_result"
    }
   ],
   "source": [
    "df[\"duration_ms\"].quantile(q=25/100)"
   ]
  },
  {
   "cell_type": "markdown",
   "metadata": {
    "slideshow": {
     "slide_type": "subslide"
    },
    "tags": []
   },
   "source": [
    "Nesse dataset podemos ver qual é o quantile **75** da coluna `duration_ms`:"
   ]
  },
  {
   "cell_type": "code",
   "execution_count": 4,
   "metadata": {},
   "outputs": [
    {
     "data": {
      "text/plain": [
       "217098.25"
      ]
     },
     "execution_count": 4,
     "metadata": {},
     "output_type": "execute_result"
    }
   ],
   "source": [
    "df[\"duration_ms\"].quantile(q=75/100)"
   ]
  },
  {
   "cell_type": "markdown",
   "metadata": {
    "slideshow": {
     "slide_type": "slide"
    },
    "tags": []
   },
   "source": [
    "E assim por diante, olhando para diversos valores de 0 a 100."
   ]
  },
  {
   "cell_type": "markdown",
   "metadata": {
    "slideshow": {
     "slide_type": "slide"
    },
    "tags": []
   },
   "source": [
    "Para fazer isso de forma mais interativa, podemos usar o decorador `interact` do ipywidgets, em conjunto com um `IntSlider`:"
   ]
  },
  {
   "cell_type": "code",
   "execution_count": 5,
   "metadata": {},
   "outputs": [
    {
     "data": {
      "application/vnd.jupyter.widget-view+json": {
       "model_id": "d62cedf2ad15411ab0bbc8110a60d3a6",
       "version_major": 2,
       "version_minor": 0
      },
      "text/plain": [
       "interactive(children=(Text(value='duration_ms', description='column'), IntSlider(value=50, description='q'), O…"
      ]
     },
     "metadata": {},
     "output_type": "display_data"
    }
   ],
   "source": [
    "from ipywidgets import interact, IntSlider\n",
    "\n",
    "@interact(q=IntSlider(value=50, min=0, max=100))\n",
    "def percentil(column=\"duration_ms\", q=10):\n",
    "    print(f\"Percentil {q} de {column} é {df[column].quantile(q=q/100)}\")"
   ]
  },
  {
   "cell_type": "markdown",
   "metadata": {},
   "source": [
    " "
   ]
  },
  {
   "cell_type": "markdown",
   "metadata": {
    "slideshow": {
     "slide_type": "fragment"
    },
    "tags": []
   },
   "source": [
    "Com esse widget, podemos variar tanto o quantile desejado quanto a coluna desejada. Por exemplo, podemos escrever `num_artists` no lugar."
   ]
  },
  {
   "cell_type": "markdown",
   "metadata": {
    "slideshow": {
     "slide_type": "slide"
    },
    "tags": []
   },
   "source": [
    "O widget é construido automaticamente a partir dos parâmetros da função `percentil`. Os parâmetros do decorador `@interact` permitem alterar o widget utilizado."
   ]
  },
  {
   "cell_type": "markdown",
   "metadata": {
    "slideshow": {
     "slide_type": "slide"
    },
    "tags": []
   },
   "source": [
    "Existem diversos widgets disponíveis na biblioteca [ipywidgets](https://ipywidgets.readthedocs.io/en/latest/examples/Widget%20List.html) para diversos tipos de dados:\n",
    "\n",
    "- **Númericos**: IntSlider, FloatSlider, FloatLogSlider, IntRangeSlider, FloatRangeSlider, IntProgress, FloatProgress, BoundedIntText, BoundedFloatText, IntText, FloatText\n",
    "- **Booleanos**: ToggleButton, Checkbox, Valid\n",
    "- **Seleções**: Dropdown, RadioButtons, Select, SelectionSlider, SelectionRangeSlider, ToggleButtons, SelectMultiple\n",
    "- **Textos**: Text, Textarea, Combobox, Password, Label, HTML, HTMLMath\n",
    "- **Imagens**: Image\n",
    "- **Botões**: Button\n",
    "- **Saídas**: Output\n",
    "- **Animações**: Play\n",
    "- **Datas**: DatePicker, TimePicker, DatetimePicker\n",
    "- **Cores**: ColorPicker\n",
    "- **Arquivos**: FileUpload\n",
    "- **Controles de jogos**: Controller\n",
    "- **Containers/Layouts**: Box, HBox, VBox, GridBox, Accordion, Tab, Stacked"
   ]
  },
  {
   "cell_type": "markdown",
   "metadata": {
    "slideshow": {
     "slide_type": "slide"
    },
    "tags": []
   },
   "source": [
    "Em algumas situações, a execução do widget pode ser demorada e pode não ser desejável atualizar valores assim que a entrada mudar.\n",
    "\n",
    "O uso do decorador `interact_manual` adiciona um botão para executar a função do widget sob demanda."
   ]
  },
  {
   "cell_type": "code",
   "execution_count": 6,
   "metadata": {},
   "outputs": [],
   "source": [
    "from ipywidgets import interact_manual"
   ]
  },
  {
   "cell_type": "code",
   "execution_count": 7,
   "metadata": {},
   "outputs": [
    {
     "data": {
      "application/vnd.jupyter.widget-view+json": {
       "model_id": "bb748c745bfb41d1b458a50369878334",
       "version_major": 2,
       "version_minor": 0
      },
      "text/plain": [
       "interactive(children=(Text(value='duration_ms', description='column'), IntSlider(value=50, description='q'), B…"
      ]
     },
     "metadata": {},
     "output_type": "display_data"
    }
   ],
   "source": [
    "@interact_manual(q=IntSlider(value=50, min=0, max=100))\n",
    "def percentil(column=\"duration_ms\", q=10):\n",
    "    value = df[column].quantile(q=q/100)\n",
    "    print(f\"Percentil {q} de {column} é {value}\")"
   ]
  },
  {
   "cell_type": "markdown",
   "metadata": {},
   "source": [
    "  "
   ]
  },
  {
   "cell_type": "markdown",
   "metadata": {
    "slideshow": {
     "slide_type": "slide"
    },
    "tags": []
   },
   "source": [
    "## Conclusão\n",
    "\n",
    "Este notebook apresentou como criar um widget simples usando o decorador interact.\n",
    "\n",
    "O próximo notebook ([6.7.Widget.Personalizado.ipynb](6.7.Widget.Personalizado.ipynb)) apresenta como personalizar widgets e criar formulários mais completos."
   ]
  },
  {
   "cell_type": "code",
   "execution_count": null,
   "metadata": {},
   "outputs": [],
   "source": []
  }
 ],
 "metadata": {
  "julynter-results": {
   "filteredId": [],
   "filteredIndividual": [],
   "filteredRestart": [],
   "filteredType": [],
   "hash": "9c3ce4e08ae78a9fd7fb4c30f00bff96413bce28",
   "visible": []
  },
  "kernelspec": {
   "display_name": "Python 3",
   "language": "python",
   "name": "python3"
  },
  "language_info": {
   "codemirror_mode": {
    "name": "ipython",
    "version": 3
   },
   "file_extension": ".py",
   "mimetype": "text/x-python",
   "name": "python",
   "nbconvert_exporter": "python",
   "pygments_lexer": "ipython3",
   "version": "3.8.5"
  }
 },
 "nbformat": 4,
 "nbformat_minor": 4
}
