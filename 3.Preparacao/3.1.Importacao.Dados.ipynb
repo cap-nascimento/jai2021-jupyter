{
 "cells": [
  {
   "cell_type": "markdown",
   "metadata": {},
   "source": [
    "# Importando Dados"
   ]
  },
  {
   "cell_type": "code",
   "execution_count": 1,
   "metadata": {},
   "outputs": [],
   "source": [
    "import pandas as pd\n",
    "import numpy as np\n",
    "import json"
   ]
  },
  {
   "cell_type": "markdown",
   "metadata": {},
   "source": [
    "## Arquivos Separados por Vírgula"
   ]
  },
  {
   "cell_type": "markdown",
   "metadata": {},
   "source": [
    "#### Arquivos CSV"
   ]
  },
  {
   "cell_type": "code",
   "execution_count": 2,
   "metadata": {
    "scrolled": true
   },
   "outputs": [
    {
     "data": {
      "text/html": [
       "<div>\n",
       "<style scoped>\n",
       "    .dataframe tbody tr th:only-of-type {\n",
       "        vertical-align: middle;\n",
       "    }\n",
       "\n",
       "    .dataframe tbody tr th {\n",
       "        vertical-align: top;\n",
       "    }\n",
       "\n",
       "    .dataframe thead th {\n",
       "        text-align: right;\n",
       "    }\n",
       "</style>\n",
       "<table border=\"1\" class=\"dataframe\">\n",
       "  <thead>\n",
       "    <tr style=\"text-align: right;\">\n",
       "      <th></th>\n",
       "      <th>name</th>\n",
       "      <th>followers</th>\n",
       "      <th>popularity</th>\n",
       "      <th>genres</th>\n",
       "    </tr>\n",
       "  </thead>\n",
       "  <tbody>\n",
       "    <tr>\n",
       "      <th>0</th>\n",
       "      <td>Coldplay</td>\n",
       "      <td>29397183</td>\n",
       "      <td>90.0</td>\n",
       "      <td>['permanent wave', 'pop']</td>\n",
       "    </tr>\n",
       "    <tr>\n",
       "      <th>1</th>\n",
       "      <td>Ninho</td>\n",
       "      <td>4239063</td>\n",
       "      <td>84.0</td>\n",
       "      <td>['french hip hop', 'pop urbaine']</td>\n",
       "    </tr>\n",
       "    <tr>\n",
       "      <th>2</th>\n",
       "      <td>KEVVO</td>\n",
       "      <td>167419</td>\n",
       "      <td>75.0</td>\n",
       "      <td>['perreo', 'reggaeton', 'reggaeton flow', 'tra...</td>\n",
       "    </tr>\n",
       "    <tr>\n",
       "      <th>3</th>\n",
       "      <td>Olivia Rodrigo</td>\n",
       "      <td>1134117</td>\n",
       "      <td>89.0</td>\n",
       "      <td>['alt z', 'pop', 'post-teen pop']</td>\n",
       "    </tr>\n",
       "    <tr>\n",
       "      <th>4</th>\n",
       "      <td>Harry Styles</td>\n",
       "      <td>13439256</td>\n",
       "      <td>91.0</td>\n",
       "      <td>['pop', 'post-teen pop']</td>\n",
       "    </tr>\n",
       "  </tbody>\n",
       "</table>\n",
       "</div>"
      ],
      "text/plain": [
       "             name  followers  popularity  \\\n",
       "0        Coldplay   29397183        90.0   \n",
       "1           Ninho    4239063        84.0   \n",
       "2           KEVVO     167419        75.0   \n",
       "3  Olivia Rodrigo    1134117        89.0   \n",
       "4    Harry Styles   13439256        91.0   \n",
       "\n",
       "                                              genres  \n",
       "0                          ['permanent wave', 'pop']  \n",
       "1                  ['french hip hop', 'pop urbaine']  \n",
       "2  ['perreo', 'reggaeton', 'reggaeton flow', 'tra...  \n",
       "3                  ['alt z', 'pop', 'post-teen pop']  \n",
       "4                           ['pop', 'post-teen pop']  "
      ]
     },
     "execution_count": 2,
     "metadata": {},
     "output_type": "execute_result"
    }
   ],
   "source": [
    "artistas = pd.read_csv('spotify_artists.csv')\n",
    "artistas"
   ]
  },
  {
   "cell_type": "markdown",
   "metadata": {},
   "source": [
    "#### Arquivos TSV"
   ]
  },
  {
   "cell_type": "code",
   "execution_count": 3,
   "metadata": {},
   "outputs": [
    {
     "data": {
      "text/html": [
       "<div>\n",
       "<style scoped>\n",
       "    .dataframe tbody tr th:only-of-type {\n",
       "        vertical-align: middle;\n",
       "    }\n",
       "\n",
       "    .dataframe tbody tr th {\n",
       "        vertical-align: top;\n",
       "    }\n",
       "\n",
       "    .dataframe thead th {\n",
       "        text-align: right;\n",
       "    }\n",
       "</style>\n",
       "<table border=\"1\" class=\"dataframe\">\n",
       "  <thead>\n",
       "    <tr style=\"text-align: right;\">\n",
       "      <th></th>\n",
       "      <th>chart_week</th>\n",
       "      <th>position</th>\n",
       "      <th>track_name</th>\n",
       "      <th>artist</th>\n",
       "      <th>streams</th>\n",
       "    </tr>\n",
       "  </thead>\n",
       "  <tbody>\n",
       "    <tr>\n",
       "      <th>0</th>\n",
       "      <td>2020-07-16</td>\n",
       "      <td>200</td>\n",
       "      <td>Como Llora</td>\n",
       "      <td>Juanfran</td>\n",
       "      <td>4534139</td>\n",
       "    </tr>\n",
       "    <tr>\n",
       "      <th>1</th>\n",
       "      <td>2020-07-23</td>\n",
       "      <td>1</td>\n",
       "      <td>ROCKSTAR (feat. Roddy Ricch)</td>\n",
       "      <td>DaBaby</td>\n",
       "      <td>35694103</td>\n",
       "    </tr>\n",
       "    <tr>\n",
       "      <th>2</th>\n",
       "      <td>2020-07-23</td>\n",
       "      <td>2</td>\n",
       "      <td>Savage Love (Laxed - Siren Beat)</td>\n",
       "      <td>Jawsh 685</td>\n",
       "      <td>33897676</td>\n",
       "    </tr>\n",
       "    <tr>\n",
       "      <th>3</th>\n",
       "      <td>2020-07-23</td>\n",
       "      <td>3</td>\n",
       "      <td>Blinding Lights</td>\n",
       "      <td>The Weeknd</td>\n",
       "      <td>30485774</td>\n",
       "    </tr>\n",
       "    <tr>\n",
       "      <th>4</th>\n",
       "      <td>2020-07-23</td>\n",
       "      <td>4</td>\n",
       "      <td>Watermelon Sugar</td>\n",
       "      <td>Harry Styles</td>\n",
       "      <td>26680752</td>\n",
       "    </tr>\n",
       "  </tbody>\n",
       "</table>\n",
       "</div>"
      ],
      "text/plain": [
       "   chart_week  position                        track_name        artist  \\\n",
       "0  2020-07-16       200                        Como Llora      Juanfran   \n",
       "1  2020-07-23         1      ROCKSTAR (feat. Roddy Ricch)        DaBaby   \n",
       "2  2020-07-23         2  Savage Love (Laxed - Siren Beat)     Jawsh 685   \n",
       "3  2020-07-23         3                   Blinding Lights    The Weeknd   \n",
       "4  2020-07-23         4                  Watermelon Sugar  Harry Styles   \n",
       "\n",
       "    streams  \n",
       "0   4534139  \n",
       "1  35694103  \n",
       "2  33897676  \n",
       "3  30485774  \n",
       "4  26680752  "
      ]
     },
     "execution_count": 3,
     "metadata": {},
     "output_type": "execute_result"
    }
   ],
   "source": [
    "# A função read_table é utilizada para ler arquivos .tsv\n",
    "charts = pd.read_table('spotify_charts.tsv')\n",
    "charts"
   ]
  },
  {
   "cell_type": "code",
   "execution_count": 4,
   "metadata": {},
   "outputs": [
    {
     "data": {
      "text/html": [
       "<div>\n",
       "<style scoped>\n",
       "    .dataframe tbody tr th:only-of-type {\n",
       "        vertical-align: middle;\n",
       "    }\n",
       "\n",
       "    .dataframe tbody tr th {\n",
       "        vertical-align: top;\n",
       "    }\n",
       "\n",
       "    .dataframe thead th {\n",
       "        text-align: right;\n",
       "    }\n",
       "</style>\n",
       "<table border=\"1\" class=\"dataframe\">\n",
       "  <thead>\n",
       "    <tr style=\"text-align: right;\">\n",
       "      <th></th>\n",
       "      <th>chart_week</th>\n",
       "      <th>position</th>\n",
       "      <th>track_name</th>\n",
       "      <th>artist</th>\n",
       "      <th>streams</th>\n",
       "    </tr>\n",
       "  </thead>\n",
       "  <tbody>\n",
       "    <tr>\n",
       "      <th>0</th>\n",
       "      <td>2020-07-16</td>\n",
       "      <td>200</td>\n",
       "      <td>Como Llora</td>\n",
       "      <td>Juanfran</td>\n",
       "      <td>4534139</td>\n",
       "    </tr>\n",
       "    <tr>\n",
       "      <th>1</th>\n",
       "      <td>2020-07-23</td>\n",
       "      <td>1</td>\n",
       "      <td>ROCKSTAR (feat. Roddy Ricch)</td>\n",
       "      <td>DaBaby</td>\n",
       "      <td>35694103</td>\n",
       "    </tr>\n",
       "    <tr>\n",
       "      <th>2</th>\n",
       "      <td>2020-07-23</td>\n",
       "      <td>2</td>\n",
       "      <td>Savage Love (Laxed - Siren Beat)</td>\n",
       "      <td>Jawsh 685</td>\n",
       "      <td>33897676</td>\n",
       "    </tr>\n",
       "    <tr>\n",
       "      <th>3</th>\n",
       "      <td>2020-07-23</td>\n",
       "      <td>3</td>\n",
       "      <td>Blinding Lights</td>\n",
       "      <td>The Weeknd</td>\n",
       "      <td>30485774</td>\n",
       "    </tr>\n",
       "    <tr>\n",
       "      <th>4</th>\n",
       "      <td>2020-07-23</td>\n",
       "      <td>4</td>\n",
       "      <td>Watermelon Sugar</td>\n",
       "      <td>Harry Styles</td>\n",
       "      <td>26680752</td>\n",
       "    </tr>\n",
       "  </tbody>\n",
       "</table>\n",
       "</div>"
      ],
      "text/plain": [
       "   chart_week  position                        track_name        artist  \\\n",
       "0  2020-07-16       200                        Como Llora      Juanfran   \n",
       "1  2020-07-23         1      ROCKSTAR (feat. Roddy Ricch)        DaBaby   \n",
       "2  2020-07-23         2  Savage Love (Laxed - Siren Beat)     Jawsh 685   \n",
       "3  2020-07-23         3                   Blinding Lights    The Weeknd   \n",
       "4  2020-07-23         4                  Watermelon Sugar  Harry Styles   \n",
       "\n",
       "    streams  \n",
       "0   4534139  \n",
       "1  35694103  \n",
       "2  33897676  \n",
       "3  30485774  \n",
       "4  26680752  "
      ]
     },
     "execution_count": 4,
     "metadata": {},
     "output_type": "execute_result"
    }
   ],
   "source": [
    "# De modo alternativo, pode-se utilizar a função read_csv\n",
    "# e especificar o delimitardor (\\t) com o parametro delimiter\n",
    "charts = pd.read_csv('spotify_charts.csv', delimiter='\\t')\n",
    "charts"
   ]
  },
  {
   "cell_type": "markdown",
   "metadata": {},
   "source": [
    "## Planilhas do Excel (xls e xlsx)"
   ]
  },
  {
   "cell_type": "code",
   "execution_count": null,
   "metadata": {},
   "outputs": [],
   "source": [
    "# Em arquivos excel que possuem mais de uma planilha, \n",
    "# o comando abaixo importa o conteúdo apenas da primeira\n",
    "\n",
    "df = pd.read_excel ('dados.xlsx')\n",
    "df"
   ]
  },
  {
   "cell_type": "code",
   "execution_count": null,
   "metadata": {},
   "outputs": [],
   "source": [
    "# Para selecionar uma planilha específica do arquivo excel\n",
    "# basta utilizar o parametro sheet_name e informar o nome da mesma\n",
    "\n",
    "df = pd.read_excel ('dados.xlsx', sheet_name ='Vendas')\n",
    "df"
   ]
  },
  {
   "cell_type": "markdown",
   "metadata": {},
   "source": [
    "## JavaScript Object Notation (JSON)"
   ]
  },
  {
   "cell_type": "code",
   "execution_count": null,
   "metadata": {
    "scrolled": true
   },
   "outputs": [],
   "source": [
    "# Para ler arquivos JSON, basta utilizar a função abaixo\n",
    "\n",
    "tracks = pd.read_json('Michael_Jackson_tracks.json')\n",
    "tracks"
   ]
  },
  {
   "cell_type": "markdown",
   "metadata": {},
   "source": [
    "No entanto, a saída acima parece um pouco desajeitada, certo? \n",
    "\n",
    "Isso acontece pois este é um arquivo JSON aninhado, ou seja, ele possui vários níveis de pares [chave:valor]. O primeiro nível é a chave *__tracks__*, ou seja, cada linha do dataframe retornado é um valor para 'track'. Neste caso, não é possível transformar um arquivo JSON __aninhado__ diretamente em um dataframe, pois a função __*read_json*__ faz a leitura de strings JSON mais simples.\n",
    "\n",
    "Para o nosso exemplo, a obtenção de um dataframe organizado demanda a divisão deste JSON aninhado. Para isso, a função *__json_normalize()__* é utilizada para ler a __STRING__ JSON aninhada e devolver um DataFrame.\n"
   ]
  },
  {
   "cell_type": "code",
   "execution_count": null,
   "metadata": {
    "scrolled": true
   },
   "outputs": [],
   "source": [
    "# Primeiro Passo: ler a string JSON com a função json.loads() \n",
    "# da biblioteca JSON\n",
    "\n",
    "with open('Michael_Jackson_tracks.json','r') as f:\n",
    "    data = json.loads(f.read())\n",
    "\n",
    "# Segundo Passo: passamos objeto JSON (data) para a função json_normalize()\n",
    "# que retornará um DataFrame contendo os dados necessários.\n",
    "# Para isso, é preciso informar o primeiro nível de chave (tracks)\n",
    "\n",
    "tracks_df = pd.json_normalize(data['tracks'])\n",
    "\n",
    "tracks_df           "
   ]
  },
  {
   "cell_type": "markdown",
   "metadata": {},
   "source": [
    "A coluna __*artists*__ também é composta por mais um nível do arquivo json. Para melhor visualizar esta coluna, é preciso repetir o processo acima construindo um novo dataframe."
   ]
  },
  {
   "cell_type": "markdown",
   "metadata": {},
   "source": [
    "## Outros formatos\n",
    "\n",
    "Além desses formatos, é possível carregar dados de XML e de bancos de dados."
   ]
  },
  {
   "cell_type": "markdown",
   "metadata": {},
   "source": [
    "## Conclusão"
   ]
  },
  {
   "cell_type": "markdown",
   "metadata": {},
   "source": [
    "Este notebook apresentou como importar dados de diversos formatos para o pandas.\n",
    "\n",
    "O próximo notebook ([3.2.Limpeza.ipynb](3.2.Limpeza.ipynb)) apresenta como fazer a limpeza dos dados."
   ]
  },
  {
   "cell_type": "code",
   "execution_count": null,
   "metadata": {},
   "outputs": [],
   "source": []
  }
 ],
 "metadata": {
  "julynter-results": {
   "filteredId": [],
   "filteredIndividual": [],
   "filteredRestart": [],
   "filteredType": [],
   "hash": "6b27a9fb782d43d181404925077b28607a688e69",
   "visible": []
  },
  "kernelspec": {
   "display_name": "Python 3",
   "language": "python",
   "name": "python3"
  },
  "language_info": {
   "codemirror_mode": {
    "name": "ipython",
    "version": 3
   },
   "file_extension": ".py",
   "mimetype": "text/x-python",
   "name": "python",
   "nbconvert_exporter": "python",
   "pygments_lexer": "ipython3",
   "version": "3.8.5"
  },
  "latex_envs": {
   "LaTeX_envs_menu_present": true,
   "autoclose": true,
   "autocomplete": true,
   "bibliofile": "biblio.bib",
   "cite_by": "apalike",
   "current_citInitial": 1,
   "eqLabelWithNumbers": true,
   "eqNumInitial": 1,
   "hotkeys": {
    "equation": "Ctrl-E",
    "itemize": "Ctrl-I"
   },
   "labels_anchors": false,
   "latex_user_defs": false,
   "report_style_numbering": false,
   "user_envs_cfg": false
  }
 },
 "nbformat": 4,
 "nbformat_minor": 4
}
