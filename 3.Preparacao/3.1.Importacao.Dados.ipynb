{
 "cells": [
  {
   "cell_type": "markdown",
   "metadata": {},
   "source": [
    "# Importando Dados"
   ]
  },
  {
   "cell_type": "code",
   "execution_count": 10,
   "metadata": {},
   "outputs": [],
   "source": [
    "### Importar Bibliotecas \n",
    "\n",
    "import pandas as pd\n",
    "pd.set_option('display.max_columns', 6)"
   ]
  },
  {
   "cell_type": "markdown",
   "metadata": {},
   "source": [
    "## Arquivos Separados por Vírgula"
   ]
  },
  {
   "cell_type": "markdown",
   "metadata": {},
   "source": [
    "Em ciência de dados, muitos projetos obrigam seus cientistas a reunir uma miscelânea de padrões de fontes de dados, tais como **CSV**, **TSV**, **XLS**, **JSON**, ou outro formato. Assim, é crucial saber lidar com os principais formatos de dados em Python."
   ]
  },
  {
   "cell_type": "markdown",
   "metadata": {},
   "source": [
    "## Arquivos Texto - CSV\n",
    "\n",
    "Um dos formatos mais utilizados é o CSV, que são arquivos de texto separados por vírgulas. A figura abaixo mostra um arquivo CSV.\n",
    "\n",
    "![Exemplo de Arquivo CSV](./img/CSV.png)\n",
    "\n",
    "Para importar arquivos CSV utilizando o pandas, basta segui os comandos abaixo:"
   ]
  },
  {
   "cell_type": "code",
   "execution_count": 8,
   "metadata": {
    "scrolled": true
   },
   "outputs": [
    {
     "ename": "ParserError",
     "evalue": "Error tokenizing data. C error: Expected 6 fields in line 46, saw 7\n",
     "output_type": "error",
     "traceback": [
      "\u001b[1;31m---------------------------------------------------------------------------\u001b[0m",
      "\u001b[1;31mParserError\u001b[0m                               Traceback (most recent call last)",
      "\u001b[1;32m<ipython-input-8-2502ade163a7>\u001b[0m in \u001b[0;36m<module>\u001b[1;34m\u001b[0m\n\u001b[1;32m----> 1\u001b[1;33m \u001b[0mspotify_Charts_df\u001b[0m \u001b[1;33m=\u001b[0m \u001b[0mpd\u001b[0m\u001b[1;33m.\u001b[0m\u001b[0mread_csv\u001b[0m\u001b[1;33m(\u001b[0m\u001b[1;34m'./datasets/spotify_charts_complete.csv'\u001b[0m\u001b[1;33m,\u001b[0m \u001b[0msep\u001b[0m\u001b[1;33m=\u001b[0m\u001b[1;34m','\u001b[0m\u001b[1;33m)\u001b[0m\u001b[1;33m\u001b[0m\u001b[1;33m\u001b[0m\u001b[0m\n\u001b[0m\u001b[0;32m      2\u001b[0m \u001b[0mspotify_Charts_df\u001b[0m\u001b[1;33m\u001b[0m\u001b[1;33m\u001b[0m\u001b[0m\n",
      "\u001b[1;32m~\\AppData\\Roaming\\Python\\Python38\\site-packages\\pandas\\io\\parsers.py\u001b[0m in \u001b[0;36mread_csv\u001b[1;34m(filepath_or_buffer, sep, delimiter, header, names, index_col, usecols, squeeze, prefix, mangle_dupe_cols, dtype, engine, converters, true_values, false_values, skipinitialspace, skiprows, skipfooter, nrows, na_values, keep_default_na, na_filter, verbose, skip_blank_lines, parse_dates, infer_datetime_format, keep_date_col, date_parser, dayfirst, cache_dates, iterator, chunksize, compression, thousands, decimal, lineterminator, quotechar, quoting, doublequote, escapechar, comment, encoding, dialect, error_bad_lines, warn_bad_lines, delim_whitespace, low_memory, memory_map, float_precision, storage_options)\u001b[0m\n\u001b[0;32m    608\u001b[0m     \u001b[0mkwds\u001b[0m\u001b[1;33m.\u001b[0m\u001b[0mupdate\u001b[0m\u001b[1;33m(\u001b[0m\u001b[0mkwds_defaults\u001b[0m\u001b[1;33m)\u001b[0m\u001b[1;33m\u001b[0m\u001b[1;33m\u001b[0m\u001b[0m\n\u001b[0;32m    609\u001b[0m \u001b[1;33m\u001b[0m\u001b[0m\n\u001b[1;32m--> 610\u001b[1;33m     \u001b[1;32mreturn\u001b[0m \u001b[0m_read\u001b[0m\u001b[1;33m(\u001b[0m\u001b[0mfilepath_or_buffer\u001b[0m\u001b[1;33m,\u001b[0m \u001b[0mkwds\u001b[0m\u001b[1;33m)\u001b[0m\u001b[1;33m\u001b[0m\u001b[1;33m\u001b[0m\u001b[0m\n\u001b[0m\u001b[0;32m    611\u001b[0m \u001b[1;33m\u001b[0m\u001b[0m\n\u001b[0;32m    612\u001b[0m \u001b[1;33m\u001b[0m\u001b[0m\n",
      "\u001b[1;32m~\\AppData\\Roaming\\Python\\Python38\\site-packages\\pandas\\io\\parsers.py\u001b[0m in \u001b[0;36m_read\u001b[1;34m(filepath_or_buffer, kwds)\u001b[0m\n\u001b[0;32m    466\u001b[0m \u001b[1;33m\u001b[0m\u001b[0m\n\u001b[0;32m    467\u001b[0m     \u001b[1;32mwith\u001b[0m \u001b[0mparser\u001b[0m\u001b[1;33m:\u001b[0m\u001b[1;33m\u001b[0m\u001b[1;33m\u001b[0m\u001b[0m\n\u001b[1;32m--> 468\u001b[1;33m         \u001b[1;32mreturn\u001b[0m \u001b[0mparser\u001b[0m\u001b[1;33m.\u001b[0m\u001b[0mread\u001b[0m\u001b[1;33m(\u001b[0m\u001b[0mnrows\u001b[0m\u001b[1;33m)\u001b[0m\u001b[1;33m\u001b[0m\u001b[1;33m\u001b[0m\u001b[0m\n\u001b[0m\u001b[0;32m    469\u001b[0m \u001b[1;33m\u001b[0m\u001b[0m\n\u001b[0;32m    470\u001b[0m \u001b[1;33m\u001b[0m\u001b[0m\n",
      "\u001b[1;32m~\\AppData\\Roaming\\Python\\Python38\\site-packages\\pandas\\io\\parsers.py\u001b[0m in \u001b[0;36mread\u001b[1;34m(self, nrows)\u001b[0m\n\u001b[0;32m   1055\u001b[0m     \u001b[1;32mdef\u001b[0m \u001b[0mread\u001b[0m\u001b[1;33m(\u001b[0m\u001b[0mself\u001b[0m\u001b[1;33m,\u001b[0m \u001b[0mnrows\u001b[0m\u001b[1;33m=\u001b[0m\u001b[1;32mNone\u001b[0m\u001b[1;33m)\u001b[0m\u001b[1;33m:\u001b[0m\u001b[1;33m\u001b[0m\u001b[1;33m\u001b[0m\u001b[0m\n\u001b[0;32m   1056\u001b[0m         \u001b[0mnrows\u001b[0m \u001b[1;33m=\u001b[0m \u001b[0mvalidate_integer\u001b[0m\u001b[1;33m(\u001b[0m\u001b[1;34m\"nrows\"\u001b[0m\u001b[1;33m,\u001b[0m \u001b[0mnrows\u001b[0m\u001b[1;33m)\u001b[0m\u001b[1;33m\u001b[0m\u001b[1;33m\u001b[0m\u001b[0m\n\u001b[1;32m-> 1057\u001b[1;33m         \u001b[0mindex\u001b[0m\u001b[1;33m,\u001b[0m \u001b[0mcolumns\u001b[0m\u001b[1;33m,\u001b[0m \u001b[0mcol_dict\u001b[0m \u001b[1;33m=\u001b[0m \u001b[0mself\u001b[0m\u001b[1;33m.\u001b[0m\u001b[0m_engine\u001b[0m\u001b[1;33m.\u001b[0m\u001b[0mread\u001b[0m\u001b[1;33m(\u001b[0m\u001b[0mnrows\u001b[0m\u001b[1;33m)\u001b[0m\u001b[1;33m\u001b[0m\u001b[1;33m\u001b[0m\u001b[0m\n\u001b[0m\u001b[0;32m   1058\u001b[0m \u001b[1;33m\u001b[0m\u001b[0m\n\u001b[0;32m   1059\u001b[0m         \u001b[1;32mif\u001b[0m \u001b[0mindex\u001b[0m \u001b[1;32mis\u001b[0m \u001b[1;32mNone\u001b[0m\u001b[1;33m:\u001b[0m\u001b[1;33m\u001b[0m\u001b[1;33m\u001b[0m\u001b[0m\n",
      "\u001b[1;32m~\\AppData\\Roaming\\Python\\Python38\\site-packages\\pandas\\io\\parsers.py\u001b[0m in \u001b[0;36mread\u001b[1;34m(self, nrows)\u001b[0m\n\u001b[0;32m   2059\u001b[0m     \u001b[1;32mdef\u001b[0m \u001b[0mread\u001b[0m\u001b[1;33m(\u001b[0m\u001b[0mself\u001b[0m\u001b[1;33m,\u001b[0m \u001b[0mnrows\u001b[0m\u001b[1;33m=\u001b[0m\u001b[1;32mNone\u001b[0m\u001b[1;33m)\u001b[0m\u001b[1;33m:\u001b[0m\u001b[1;33m\u001b[0m\u001b[1;33m\u001b[0m\u001b[0m\n\u001b[0;32m   2060\u001b[0m         \u001b[1;32mtry\u001b[0m\u001b[1;33m:\u001b[0m\u001b[1;33m\u001b[0m\u001b[1;33m\u001b[0m\u001b[0m\n\u001b[1;32m-> 2061\u001b[1;33m             \u001b[0mdata\u001b[0m \u001b[1;33m=\u001b[0m \u001b[0mself\u001b[0m\u001b[1;33m.\u001b[0m\u001b[0m_reader\u001b[0m\u001b[1;33m.\u001b[0m\u001b[0mread\u001b[0m\u001b[1;33m(\u001b[0m\u001b[0mnrows\u001b[0m\u001b[1;33m)\u001b[0m\u001b[1;33m\u001b[0m\u001b[1;33m\u001b[0m\u001b[0m\n\u001b[0m\u001b[0;32m   2062\u001b[0m         \u001b[1;32mexcept\u001b[0m \u001b[0mStopIteration\u001b[0m\u001b[1;33m:\u001b[0m\u001b[1;33m\u001b[0m\u001b[1;33m\u001b[0m\u001b[0m\n\u001b[0;32m   2063\u001b[0m             \u001b[1;32mif\u001b[0m \u001b[0mself\u001b[0m\u001b[1;33m.\u001b[0m\u001b[0m_first_chunk\u001b[0m\u001b[1;33m:\u001b[0m\u001b[1;33m\u001b[0m\u001b[1;33m\u001b[0m\u001b[0m\n",
      "\u001b[1;32mpandas\\_libs\\parsers.pyx\u001b[0m in \u001b[0;36mpandas._libs.parsers.TextReader.read\u001b[1;34m()\u001b[0m\n",
      "\u001b[1;32mpandas\\_libs\\parsers.pyx\u001b[0m in \u001b[0;36mpandas._libs.parsers.TextReader._read_low_memory\u001b[1;34m()\u001b[0m\n",
      "\u001b[1;32mpandas\\_libs\\parsers.pyx\u001b[0m in \u001b[0;36mpandas._libs.parsers.TextReader._read_rows\u001b[1;34m()\u001b[0m\n",
      "\u001b[1;32mpandas\\_libs\\parsers.pyx\u001b[0m in \u001b[0;36mpandas._libs.parsers.TextReader._tokenize_rows\u001b[1;34m()\u001b[0m\n",
      "\u001b[1;32mpandas\\_libs\\parsers.pyx\u001b[0m in \u001b[0;36mpandas._libs.parsers.raise_parser_error\u001b[1;34m()\u001b[0m\n",
      "\u001b[1;31mParserError\u001b[0m: Error tokenizing data. C error: Expected 6 fields in line 46, saw 7\n"
     ]
    }
   ],
   "source": [
    "spotify_Charts_df = pd.read_csv('./datasets/spotify_charts_complete.csv', sep=',')\n",
    "spotify_Charts_df"
   ]
  },
  {
   "cell_type": "markdown",
   "metadata": {},
   "source": [
    "#### Linha 46:\n",
    "\n",
    "chart_week, position, track_name, artist, streams, song_id\n",
    "\n",
    "_2020-01-02,45,10,000 Hours (with Justin Bieber),Dan + Shay,10360035,2wrJq5XKLnmhRXHIAf9xBa_\n",
    "\n",
    "Erro de **tokenização** é um problema muito comum quando lidamos com arquivos CSV. Neste caso, para que esse tipo de erro seja evitado, teríamos que escapar todas as Strings com aspas. Desta forma, todas as vírgulas de campos textuais não serão consideradas como separador de campo. Ou seja, todas as linhas do arquivo deveriam se parecer com:\n",
    "\n",
    "_2020-01-02,45,**'10,000 Hours (with Justin Bieber)'**,**'Dan + Shay'**,10360035,2wrJq5XKLnmhRXHIAf9xBa_\n",
    "\n",
    "#### Leitura sem erro"
   ]
  },
  {
   "cell_type": "code",
   "execution_count": 10,
   "metadata": {},
   "outputs": [
    {
     "data": {
      "text/html": [
       "<div>\n",
       "<style scoped>\n",
       "    .dataframe tbody tr th:only-of-type {\n",
       "        vertical-align: middle;\n",
       "    }\n",
       "\n",
       "    .dataframe tbody tr th {\n",
       "        vertical-align: top;\n",
       "    }\n",
       "\n",
       "    .dataframe thead th {\n",
       "        text-align: right;\n",
       "    }\n",
       "</style>\n",
       "<table border=\"1\" class=\"dataframe\">\n",
       "  <thead>\n",
       "    <tr style=\"text-align: right;\">\n",
       "      <th></th>\n",
       "      <th>chart_week</th>\n",
       "      <th>position</th>\n",
       "      <th>track_name</th>\n",
       "      <th>artist</th>\n",
       "      <th>streams</th>\n",
       "      <th>song_id</th>\n",
       "    </tr>\n",
       "  </thead>\n",
       "  <tbody>\n",
       "    <tr>\n",
       "      <th>0</th>\n",
       "      <td>2020-01-02</td>\n",
       "      <td>1</td>\n",
       "      <td>Dance Monkey</td>\n",
       "      <td>Tones And I</td>\n",
       "      <td>50183626</td>\n",
       "      <td>1rgnBhdG2JDFTbYkYRZAku</td>\n",
       "    </tr>\n",
       "    <tr>\n",
       "      <th>1</th>\n",
       "      <td>2020-01-02</td>\n",
       "      <td>2</td>\n",
       "      <td>ROXANNE</td>\n",
       "      <td>Arizona Zervas</td>\n",
       "      <td>33254585</td>\n",
       "      <td>696DnlkuDOXcMAnKlTgXXK</td>\n",
       "    </tr>\n",
       "    <tr>\n",
       "      <th>2</th>\n",
       "      <td>2020-01-02</td>\n",
       "      <td>3</td>\n",
       "      <td>Tusa</td>\n",
       "      <td>KAROL G</td>\n",
       "      <td>29349573</td>\n",
       "      <td>7k4t7uLgtOxPwTpFmtJNTY</td>\n",
       "    </tr>\n",
       "    <tr>\n",
       "      <th>3</th>\n",
       "      <td>2020-01-02</td>\n",
       "      <td>4</td>\n",
       "      <td>Memories</td>\n",
       "      <td>Maroon 5</td>\n",
       "      <td>26067853</td>\n",
       "      <td>2b8fOow8UzyDFAE27YhOZM</td>\n",
       "    </tr>\n",
       "    <tr>\n",
       "      <th>4</th>\n",
       "      <td>2020-01-02</td>\n",
       "      <td>5</td>\n",
       "      <td>Falling</td>\n",
       "      <td>Trevor Daniel</td>\n",
       "      <td>25901488</td>\n",
       "      <td>4TnjEaWOeW0eKTKIEvJyCa</td>\n",
       "    </tr>\n",
       "  </tbody>\n",
       "</table>\n",
       "</div>"
      ],
      "text/plain": [
       "   chart_week  position    track_name          artist   streams  \\\n",
       "0  2020-01-02         1  Dance Monkey     Tones And I  50183626   \n",
       "1  2020-01-02         2       ROXANNE  Arizona Zervas  33254585   \n",
       "2  2020-01-02         3          Tusa         KAROL G  29349573   \n",
       "3  2020-01-02         4      Memories        Maroon 5  26067853   \n",
       "4  2020-01-02         5       Falling   Trevor Daniel  25901488   \n",
       "\n",
       "                  song_id  \n",
       "0  1rgnBhdG2JDFTbYkYRZAku  \n",
       "1  696DnlkuDOXcMAnKlTgXXK  \n",
       "2  7k4t7uLgtOxPwTpFmtJNTY  \n",
       "3  2b8fOow8UzyDFAE27YhOZM  \n",
       "4  4TnjEaWOeW0eKTKIEvJyCa  "
      ]
     },
     "execution_count": 10,
     "metadata": {},
     "output_type": "execute_result"
    }
   ],
   "source": [
    "spotify_Charts_df = pd.read_csv('./datasets/spotify_charts_complete_Line45.csv', sep=',')\n",
    "spotify_Charts_df.head()"
   ]
  },
  {
   "cell_type": "markdown",
   "metadata": {},
   "source": [
    "## Arquivos Texto - TSV\n",
    "\n",
    "Uma alternativa aos arquivos CSV, são os arquivos TSV (separados por tabulação). Neste tipo de arquivo, como o delimitador de campo é uma **tabulação**, não deparamos com o problema de tokenização. A figura abaixo mostra um arquivo TSV.\n",
    "\n",
    "![Exemplo de Arquivo TSV](./img/TSV.png)\n",
    "\n",
    "A leitura deste tipo de arquivo é feita utilizando a mesma função **read_csv**. No entanto, precisamos especificar que o separador é a tabulação (\\t). Caso contrário, o python retornará um erro de **Parser**."
   ]
  },
  {
   "cell_type": "code",
   "execution_count": 15,
   "metadata": {},
   "outputs": [
    {
     "data": {
      "text/html": [
       "<div>\n",
       "<style scoped>\n",
       "    .dataframe tbody tr th:only-of-type {\n",
       "        vertical-align: middle;\n",
       "    }\n",
       "\n",
       "    .dataframe tbody tr th {\n",
       "        vertical-align: top;\n",
       "    }\n",
       "\n",
       "    .dataframe thead th {\n",
       "        text-align: right;\n",
       "    }\n",
       "</style>\n",
       "<table border=\"1\" class=\"dataframe\">\n",
       "  <thead>\n",
       "    <tr style=\"text-align: right;\">\n",
       "      <th></th>\n",
       "      <th>chart_week</th>\n",
       "      <th>position</th>\n",
       "      <th>track_name</th>\n",
       "      <th>artist</th>\n",
       "      <th>streams</th>\n",
       "      <th>song_id</th>\n",
       "    </tr>\n",
       "  </thead>\n",
       "  <tbody>\n",
       "    <tr>\n",
       "      <th>0</th>\n",
       "      <td>2020-01-02</td>\n",
       "      <td>1</td>\n",
       "      <td>Dance Monkey</td>\n",
       "      <td>Tones And I</td>\n",
       "      <td>50183626</td>\n",
       "      <td>1rgnBhdG2JDFTbYkYRZAku</td>\n",
       "    </tr>\n",
       "    <tr>\n",
       "      <th>1</th>\n",
       "      <td>2020-01-02</td>\n",
       "      <td>2</td>\n",
       "      <td>ROXANNE</td>\n",
       "      <td>Arizona Zervas</td>\n",
       "      <td>33254585</td>\n",
       "      <td>696DnlkuDOXcMAnKlTgXXK</td>\n",
       "    </tr>\n",
       "    <tr>\n",
       "      <th>2</th>\n",
       "      <td>2020-01-02</td>\n",
       "      <td>3</td>\n",
       "      <td>Tusa</td>\n",
       "      <td>KAROL G</td>\n",
       "      <td>29349573</td>\n",
       "      <td>7k4t7uLgtOxPwTpFmtJNTY</td>\n",
       "    </tr>\n",
       "    <tr>\n",
       "      <th>3</th>\n",
       "      <td>2020-01-02</td>\n",
       "      <td>4</td>\n",
       "      <td>Memories</td>\n",
       "      <td>Maroon 5</td>\n",
       "      <td>26067853</td>\n",
       "      <td>2b8fOow8UzyDFAE27YhOZM</td>\n",
       "    </tr>\n",
       "    <tr>\n",
       "      <th>4</th>\n",
       "      <td>2020-01-02</td>\n",
       "      <td>5</td>\n",
       "      <td>Falling</td>\n",
       "      <td>Trevor Daniel</td>\n",
       "      <td>25901488</td>\n",
       "      <td>4TnjEaWOeW0eKTKIEvJyCa</td>\n",
       "    </tr>\n",
       "  </tbody>\n",
       "</table>\n",
       "</div>"
      ],
      "text/plain": [
       "   chart_week  position    track_name          artist   streams  \\\n",
       "0  2020-01-02         1  Dance Monkey     Tones And I  50183626   \n",
       "1  2020-01-02         2       ROXANNE  Arizona Zervas  33254585   \n",
       "2  2020-01-02         3          Tusa         KAROL G  29349573   \n",
       "3  2020-01-02         4      Memories        Maroon 5  26067853   \n",
       "4  2020-01-02         5       Falling   Trevor Daniel  25901488   \n",
       "\n",
       "                  song_id  \n",
       "0  1rgnBhdG2JDFTbYkYRZAku  \n",
       "1  696DnlkuDOXcMAnKlTgXXK  \n",
       "2  7k4t7uLgtOxPwTpFmtJNTY  \n",
       "3  2b8fOow8UzyDFAE27YhOZM  \n",
       "4  4TnjEaWOeW0eKTKIEvJyCa  "
      ]
     },
     "execution_count": 15,
     "metadata": {},
     "output_type": "execute_result"
    }
   ],
   "source": [
    "spotify_Charts_df = pd.read_csv('./datasets/spotify_charts_complete.tsv', sep='\\t')\n",
    "spotify_Charts_df.head()"
   ]
  },
  {
   "cell_type": "markdown",
   "metadata": {},
   "source": [
    "Uma função alternativa para a leitura de arquivos deste tipo é a **read_table()**\n",
    "\n",
    "Neste caso, não é necessário o uso de outros parâmetros."
   ]
  },
  {
   "cell_type": "code",
   "execution_count": 13,
   "metadata": {},
   "outputs": [
    {
     "data": {
      "text/html": [
       "<div>\n",
       "<style scoped>\n",
       "    .dataframe tbody tr th:only-of-type {\n",
       "        vertical-align: middle;\n",
       "    }\n",
       "\n",
       "    .dataframe tbody tr th {\n",
       "        vertical-align: top;\n",
       "    }\n",
       "\n",
       "    .dataframe thead th {\n",
       "        text-align: right;\n",
       "    }\n",
       "</style>\n",
       "<table border=\"1\" class=\"dataframe\">\n",
       "  <thead>\n",
       "    <tr style=\"text-align: right;\">\n",
       "      <th></th>\n",
       "      <th>chart_week</th>\n",
       "      <th>position</th>\n",
       "      <th>track_name</th>\n",
       "      <th>artist</th>\n",
       "      <th>streams</th>\n",
       "      <th>song_id</th>\n",
       "    </tr>\n",
       "  </thead>\n",
       "  <tbody>\n",
       "    <tr>\n",
       "      <th>0</th>\n",
       "      <td>2020-01-02</td>\n",
       "      <td>1</td>\n",
       "      <td>Dance Monkey</td>\n",
       "      <td>Tones And I</td>\n",
       "      <td>50183626</td>\n",
       "      <td>1rgnBhdG2JDFTbYkYRZAku</td>\n",
       "    </tr>\n",
       "    <tr>\n",
       "      <th>1</th>\n",
       "      <td>2020-01-02</td>\n",
       "      <td>2</td>\n",
       "      <td>ROXANNE</td>\n",
       "      <td>Arizona Zervas</td>\n",
       "      <td>33254585</td>\n",
       "      <td>696DnlkuDOXcMAnKlTgXXK</td>\n",
       "    </tr>\n",
       "    <tr>\n",
       "      <th>2</th>\n",
       "      <td>2020-01-02</td>\n",
       "      <td>3</td>\n",
       "      <td>Tusa</td>\n",
       "      <td>KAROL G</td>\n",
       "      <td>29349573</td>\n",
       "      <td>7k4t7uLgtOxPwTpFmtJNTY</td>\n",
       "    </tr>\n",
       "    <tr>\n",
       "      <th>3</th>\n",
       "      <td>2020-01-02</td>\n",
       "      <td>4</td>\n",
       "      <td>Memories</td>\n",
       "      <td>Maroon 5</td>\n",
       "      <td>26067853</td>\n",
       "      <td>2b8fOow8UzyDFAE27YhOZM</td>\n",
       "    </tr>\n",
       "    <tr>\n",
       "      <th>4</th>\n",
       "      <td>2020-01-02</td>\n",
       "      <td>5</td>\n",
       "      <td>Falling</td>\n",
       "      <td>Trevor Daniel</td>\n",
       "      <td>25901488</td>\n",
       "      <td>4TnjEaWOeW0eKTKIEvJyCa</td>\n",
       "    </tr>\n",
       "  </tbody>\n",
       "</table>\n",
       "</div>"
      ],
      "text/plain": [
       "   chart_week  position    track_name          artist   streams  \\\n",
       "0  2020-01-02         1  Dance Monkey     Tones And I  50183626   \n",
       "1  2020-01-02         2       ROXANNE  Arizona Zervas  33254585   \n",
       "2  2020-01-02         3          Tusa         KAROL G  29349573   \n",
       "3  2020-01-02         4      Memories        Maroon 5  26067853   \n",
       "4  2020-01-02         5       Falling   Trevor Daniel  25901488   \n",
       "\n",
       "                  song_id  \n",
       "0  1rgnBhdG2JDFTbYkYRZAku  \n",
       "1  696DnlkuDOXcMAnKlTgXXK  \n",
       "2  7k4t7uLgtOxPwTpFmtJNTY  \n",
       "3  2b8fOow8UzyDFAE27YhOZM  \n",
       "4  4TnjEaWOeW0eKTKIEvJyCa  "
      ]
     },
     "execution_count": 13,
     "metadata": {},
     "output_type": "execute_result"
    }
   ],
   "source": [
    "# A função read_table é utilizada para ler arquivos .tsv\n",
    "charts = pd.read_table('./datasets/spotify_charts_complete.tsv')\n",
    "charts.head()"
   ]
  },
  {
   "cell_type": "markdown",
   "metadata": {},
   "source": [
    "## Arquivos de Planilhas - XLS\n",
    "\n",
    "Outro formato bastante popular são os arquivos que já se encontram em estrutura tabulares, tais como arquivos do Microsoft Excel. A figura abaixo mostra um arquivo XLS.\n",
    "\n",
    "![Exemplo de Arquivo XLS](./img/XLSX.png)\n",
    "\n",
    "O pandas possui a função **read_excel(‘arquivo.xlsx’)** para efetuar a leitura de arquivos em formato de planilhas eletrônicas.\n",
    "\n",
    "Para a importação de uma **planilha específica** em um mesmo arquivo (uma **aba**), é preciso utilizar o parâmetro _**sheet_name**_. \n",
    "\n",
    "Na figura acima, o arquivo chamado ‘dados.xlsx’ possui duas abas: _**spotify_artists**_ e _**spotify_charts**_. \n",
    "\n",
    "Para importar apenas o conteúdo da segunda aba **spotify_charts** do arquivo dados.xlsx, programa-se: "
   ]
  },
  {
   "cell_type": "code",
   "execution_count": 18,
   "metadata": {},
   "outputs": [
    {
     "data": {
      "text/html": [
       "<div>\n",
       "<style scoped>\n",
       "    .dataframe tbody tr th:only-of-type {\n",
       "        vertical-align: middle;\n",
       "    }\n",
       "\n",
       "    .dataframe tbody tr th {\n",
       "        vertical-align: top;\n",
       "    }\n",
       "\n",
       "    .dataframe thead th {\n",
       "        text-align: right;\n",
       "    }\n",
       "</style>\n",
       "<table border=\"1\" class=\"dataframe\">\n",
       "  <thead>\n",
       "    <tr style=\"text-align: right;\">\n",
       "      <th></th>\n",
       "      <th>chart_week</th>\n",
       "      <th>position</th>\n",
       "      <th>track_name</th>\n",
       "      <th>artist</th>\n",
       "      <th>streams</th>\n",
       "      <th>song_id</th>\n",
       "    </tr>\n",
       "  </thead>\n",
       "  <tbody>\n",
       "    <tr>\n",
       "      <th>0</th>\n",
       "      <td>2020-01-02</td>\n",
       "      <td>1</td>\n",
       "      <td>Dance Monkey</td>\n",
       "      <td>Tones And I</td>\n",
       "      <td>50183626</td>\n",
       "      <td>1rgnBhdG2JDFTbYkYRZAku</td>\n",
       "    </tr>\n",
       "    <tr>\n",
       "      <th>1</th>\n",
       "      <td>2020-01-02</td>\n",
       "      <td>2</td>\n",
       "      <td>ROXANNE</td>\n",
       "      <td>Arizona Zervas</td>\n",
       "      <td>33254585</td>\n",
       "      <td>696DnlkuDOXcMAnKlTgXXK</td>\n",
       "    </tr>\n",
       "    <tr>\n",
       "      <th>2</th>\n",
       "      <td>2020-01-02</td>\n",
       "      <td>3</td>\n",
       "      <td>Tusa</td>\n",
       "      <td>KAROL G</td>\n",
       "      <td>29349573</td>\n",
       "      <td>7k4t7uLgtOxPwTpFmtJNTY</td>\n",
       "    </tr>\n",
       "    <tr>\n",
       "      <th>3</th>\n",
       "      <td>2020-01-02</td>\n",
       "      <td>4</td>\n",
       "      <td>Memories</td>\n",
       "      <td>Maroon 5</td>\n",
       "      <td>26067853</td>\n",
       "      <td>2b8fOow8UzyDFAE27YhOZM</td>\n",
       "    </tr>\n",
       "    <tr>\n",
       "      <th>4</th>\n",
       "      <td>2020-01-02</td>\n",
       "      <td>5</td>\n",
       "      <td>Falling</td>\n",
       "      <td>Trevor Daniel</td>\n",
       "      <td>25901488</td>\n",
       "      <td>4TnjEaWOeW0eKTKIEvJyCa</td>\n",
       "    </tr>\n",
       "  </tbody>\n",
       "</table>\n",
       "</div>"
      ],
      "text/plain": [
       "  chart_week  position    track_name          artist   streams  \\\n",
       "0 2020-01-02         1  Dance Monkey     Tones And I  50183626   \n",
       "1 2020-01-02         2       ROXANNE  Arizona Zervas  33254585   \n",
       "2 2020-01-02         3          Tusa         KAROL G  29349573   \n",
       "3 2020-01-02         4      Memories        Maroon 5  26067853   \n",
       "4 2020-01-02         5       Falling   Trevor Daniel  25901488   \n",
       "\n",
       "                  song_id  \n",
       "0  1rgnBhdG2JDFTbYkYRZAku  \n",
       "1  696DnlkuDOXcMAnKlTgXXK  \n",
       "2  7k4t7uLgtOxPwTpFmtJNTY  \n",
       "3  2b8fOow8UzyDFAE27YhOZM  \n",
       "4  4TnjEaWOeW0eKTKIEvJyCa  "
      ]
     },
     "execution_count": 18,
     "metadata": {},
     "output_type": "execute_result"
    }
   ],
   "source": [
    "spotify_charts = pd.read_excel ('./datasets/dados.xlsx', sheet_name='spotify_charts')\n",
    "spotify_charts.head()"
   ]
  },
  {
   "cell_type": "markdown",
   "metadata": {},
   "source": [
    "#### Caso o sheet_name não seja especificado, importa-se a primeira aba."
   ]
  },
  {
   "cell_type": "code",
   "execution_count": 17,
   "metadata": {},
   "outputs": [
    {
     "data": {
      "text/html": [
       "<div>\n",
       "<style scoped>\n",
       "    .dataframe tbody tr th:only-of-type {\n",
       "        vertical-align: middle;\n",
       "    }\n",
       "\n",
       "    .dataframe tbody tr th {\n",
       "        vertical-align: top;\n",
       "    }\n",
       "\n",
       "    .dataframe thead th {\n",
       "        text-align: right;\n",
       "    }\n",
       "</style>\n",
       "<table border=\"1\" class=\"dataframe\">\n",
       "  <thead>\n",
       "    <tr style=\"text-align: right;\">\n",
       "      <th></th>\n",
       "      <th>artist_id</th>\n",
       "      <th>name</th>\n",
       "      <th>followers</th>\n",
       "      <th>popularity</th>\n",
       "      <th>genres</th>\n",
       "      <th>image_url</th>\n",
       "    </tr>\n",
       "  </thead>\n",
       "  <tbody>\n",
       "    <tr>\n",
       "      <th>0</th>\n",
       "      <td>4gzpq5DPGxSnKTe4SA8HAU</td>\n",
       "      <td>Coldplay</td>\n",
       "      <td>29397183</td>\n",
       "      <td>90</td>\n",
       "      <td>['permanent wave', 'pop']</td>\n",
       "      <td>https://i.scdn.co/image/4ffd6710617d289699cc0d...</td>\n",
       "    </tr>\n",
       "    <tr>\n",
       "      <th>1</th>\n",
       "      <td>6Te49r3A6f5BiIgBRxH7FH</td>\n",
       "      <td>Ninho</td>\n",
       "      <td>4239063</td>\n",
       "      <td>84</td>\n",
       "      <td>['french hip hop', 'pop urbaine']</td>\n",
       "      <td>https://i.scdn.co/image/ab67616d0000b2733f12b1...</td>\n",
       "    </tr>\n",
       "    <tr>\n",
       "      <th>2</th>\n",
       "      <td>4QrBoWLm2WNlPdbFhmlaUZ</td>\n",
       "      <td>KEVVO</td>\n",
       "      <td>167419</td>\n",
       "      <td>75</td>\n",
       "      <td>['perreo', 'reggaeton', 'reggaeton flow', 'tra...</td>\n",
       "      <td>https://i.scdn.co/image/9a75b11e5080f576bdff76...</td>\n",
       "    </tr>\n",
       "    <tr>\n",
       "      <th>3</th>\n",
       "      <td>1McMsnEElThX1knmY4oliG</td>\n",
       "      <td>Olivia Rodrigo</td>\n",
       "      <td>1134117</td>\n",
       "      <td>89</td>\n",
       "      <td>['alt z', 'pop', 'post-teen pop']</td>\n",
       "      <td>https://i.scdn.co/image/5fb1f691c5d3cdbc54e193...</td>\n",
       "    </tr>\n",
       "    <tr>\n",
       "      <th>4</th>\n",
       "      <td>6KImCVD70vtIoJWnq6nGn3</td>\n",
       "      <td>Harry Styles</td>\n",
       "      <td>13439256</td>\n",
       "      <td>91</td>\n",
       "      <td>['pop', 'post-teen pop']</td>\n",
       "      <td>https://i.scdn.co/image/b2163e7456f3d618a0e2a4...</td>\n",
       "    </tr>\n",
       "  </tbody>\n",
       "</table>\n",
       "</div>"
      ],
      "text/plain": [
       "                artist_id            name  followers  popularity  \\\n",
       "0  4gzpq5DPGxSnKTe4SA8HAU        Coldplay   29397183          90   \n",
       "1  6Te49r3A6f5BiIgBRxH7FH           Ninho    4239063          84   \n",
       "2  4QrBoWLm2WNlPdbFhmlaUZ           KEVVO     167419          75   \n",
       "3  1McMsnEElThX1knmY4oliG  Olivia Rodrigo    1134117          89   \n",
       "4  6KImCVD70vtIoJWnq6nGn3    Harry Styles   13439256          91   \n",
       "\n",
       "                                              genres  \\\n",
       "0                          ['permanent wave', 'pop']   \n",
       "1                  ['french hip hop', 'pop urbaine']   \n",
       "2  ['perreo', 'reggaeton', 'reggaeton flow', 'tra...   \n",
       "3                  ['alt z', 'pop', 'post-teen pop']   \n",
       "4                           ['pop', 'post-teen pop']   \n",
       "\n",
       "                                           image_url  \n",
       "0  https://i.scdn.co/image/4ffd6710617d289699cc0d...  \n",
       "1  https://i.scdn.co/image/ab67616d0000b2733f12b1...  \n",
       "2  https://i.scdn.co/image/9a75b11e5080f576bdff76...  \n",
       "3  https://i.scdn.co/image/5fb1f691c5d3cdbc54e193...  \n",
       "4  https://i.scdn.co/image/b2163e7456f3d618a0e2a4...  "
      ]
     },
     "execution_count": 17,
     "metadata": {},
     "output_type": "execute_result"
    }
   ],
   "source": [
    "spotify_artists = pd.read_excel ('./datasets/dados.xlsx')\n",
    "spotify_artists.head()"
   ]
  },
  {
   "cell_type": "markdown",
   "metadata": {},
   "source": [
    "## Arquivos JSON (JavaScript Object Notation)\n",
    "\n",
    "Um arquivo JSON armazena estruturas de dados simples, além de serem leves, textuais, legíveis por humanos e editáveis com editor de texto. Arquivos JSON representam dados com o conceito de chave e valor:\n",
    "\n",
    "cada valor tem uma chave que descreve seu significado. Por exemplo, o par de _**chave:valor**_ **name:‘Michael Jackson’** representa o artista ‘Michael Jackson’. A figura abaixo mostra um trecho de um arquivo JSON.\n",
    "\n",
    "![Exemplo de Arquivo JSON](./img/JSON.png)\n",
    "\n",
    "Note que é possível compreender os dados, e alterá-los utilizando um editor de texto.\n",
    "\n",
    "\n",
    "Para importar arquivos JSON, o pandas tem a função **read_json()**, com funcionamento similar às anteriores."
   ]
  },
  {
   "cell_type": "code",
   "execution_count": 19,
   "metadata": {
    "scrolled": true
   },
   "outputs": [
    {
     "data": {
      "text/html": [
       "<div>\n",
       "<style scoped>\n",
       "    .dataframe tbody tr th:only-of-type {\n",
       "        vertical-align: middle;\n",
       "    }\n",
       "\n",
       "    .dataframe tbody tr th {\n",
       "        vertical-align: top;\n",
       "    }\n",
       "\n",
       "    .dataframe thead th {\n",
       "        text-align: right;\n",
       "    }\n",
       "</style>\n",
       "<table border=\"1\" class=\"dataframe\">\n",
       "  <thead>\n",
       "    <tr style=\"text-align: right;\">\n",
       "      <th></th>\n",
       "      <th>tracks</th>\n",
       "    </tr>\n",
       "  </thead>\n",
       "  <tbody>\n",
       "    <tr>\n",
       "      <th>0</th>\n",
       "      <td>{'album': {'album_type': 'album', 'artists': [...</td>\n",
       "    </tr>\n",
       "    <tr>\n",
       "      <th>1</th>\n",
       "      <td>{'album': {'album_type': 'album', 'artists': [...</td>\n",
       "    </tr>\n",
       "    <tr>\n",
       "      <th>2</th>\n",
       "      <td>{'album': {'album_type': 'album', 'artists': [...</td>\n",
       "    </tr>\n",
       "    <tr>\n",
       "      <th>3</th>\n",
       "      <td>{'album': {'album_type': 'album', 'artists': [...</td>\n",
       "    </tr>\n",
       "    <tr>\n",
       "      <th>4</th>\n",
       "      <td>{'album': {'album_type': 'album', 'artists': [...</td>\n",
       "    </tr>\n",
       "  </tbody>\n",
       "</table>\n",
       "</div>"
      ],
      "text/plain": [
       "                                              tracks\n",
       "0  {'album': {'album_type': 'album', 'artists': [...\n",
       "1  {'album': {'album_type': 'album', 'artists': [...\n",
       "2  {'album': {'album_type': 'album', 'artists': [...\n",
       "3  {'album': {'album_type': 'album', 'artists': [...\n",
       "4  {'album': {'album_type': 'album', 'artists': [..."
      ]
     },
     "execution_count": 19,
     "metadata": {},
     "output_type": "execute_result"
    }
   ],
   "source": [
    "tracks = pd.read_json('./datasets/Michael_Jackson_tracks.json')\n",
    "tracks.head()"
   ]
  },
  {
   "cell_type": "markdown",
   "metadata": {},
   "source": [
    "No entanto, a saída acima parece um pouco desajeitada, certo? \n",
    "\n",
    "Isso acontece pois este é um arquivo **JSON aninhado**, ou seja, ele possui vários níveis de pares [chave:valor]. \n",
    "\n",
    "O primeiro nível é a chave *__tracks__*, ou seja, cada linha do dataframe retornado é um valor para 'track'. Neste caso, não é possível transformar um arquivo JSON __aninhado__ diretamente em um dataframe, pois a função __*read_json*__ faz a leitura de strings JSON mais simples.\n",
    "\n",
    "Para o nosso exemplo, a obtenção de um dataframe organizado demanda a divisão deste JSON aninhado. Para isso, a função *__json_normalize()__* é utilizada para ler a __STRING__ JSON aninhada e devolver um DataFrame.\n"
   ]
  },
  {
   "cell_type": "code",
   "execution_count": 20,
   "metadata": {
    "scrolled": true
   },
   "outputs": [],
   "source": [
    "# Precisamos importar a biblioteca JSON\n",
    "import json"
   ]
  },
  {
   "cell_type": "markdown",
   "metadata": {},
   "source": [
    "#### Primeiro Passo:\n",
    "ler a string JSON com a função **json.loads()** da biblioteca JSON"
   ]
  },
  {
   "cell_type": "code",
   "execution_count": 21,
   "metadata": {},
   "outputs": [],
   "source": [
    "with open('./datasets/Michael_Jackson_tracks.json','r') as f:\n",
    "    data = json.loads(f.read())"
   ]
  },
  {
   "cell_type": "markdown",
   "metadata": {},
   "source": [
    "#### Segundo Passo: \n",
    "\n",
    "Passamos o objeto JSON (data) para a função **json_normalize()** que retornará um DataFrame contendo os dados necessários. Para isso, é preciso informar o primeiro nível de chave (_tracks_)"
   ]
  },
  {
   "cell_type": "code",
   "execution_count": 22,
   "metadata": {},
   "outputs": [
    {
     "data": {
      "text/html": [
       "<div>\n",
       "<style scoped>\n",
       "    .dataframe tbody tr th:only-of-type {\n",
       "        vertical-align: middle;\n",
       "    }\n",
       "\n",
       "    .dataframe tbody tr th {\n",
       "        vertical-align: top;\n",
       "    }\n",
       "\n",
       "    .dataframe thead th {\n",
       "        text-align: right;\n",
       "    }\n",
       "</style>\n",
       "<table border=\"1\" class=\"dataframe\">\n",
       "  <thead>\n",
       "    <tr style=\"text-align: right;\">\n",
       "      <th></th>\n",
       "      <th>artists</th>\n",
       "      <th>disc_number</th>\n",
       "      <th>duration_ms</th>\n",
       "      <th>...</th>\n",
       "      <th>album.uri</th>\n",
       "      <th>external_ids.isrc</th>\n",
       "      <th>external_urls.spotify</th>\n",
       "    </tr>\n",
       "  </thead>\n",
       "  <tbody>\n",
       "    <tr>\n",
       "      <th>0</th>\n",
       "      <td>[{'external_urls': {'spotify': 'https://open.s...</td>\n",
       "      <td>1</td>\n",
       "      <td>293826</td>\n",
       "      <td>...</td>\n",
       "      <td>spotify:album:1C2h7mLntPSeVYciMRTF4a</td>\n",
       "      <td>USSM19902991</td>\n",
       "      <td>https://open.spotify.com/track/5ChkMS8OtdzJeqy...</td>\n",
       "    </tr>\n",
       "    <tr>\n",
       "      <th>1</th>\n",
       "      <td>[{'external_urls': {'spotify': 'https://open.s...</td>\n",
       "      <td>1</td>\n",
       "      <td>258040</td>\n",
       "      <td>...</td>\n",
       "      <td>spotify:album:1C2h7mLntPSeVYciMRTF4a</td>\n",
       "      <td>USSM19902990</td>\n",
       "      <td>https://open.spotify.com/track/1OOtq8tRnDM8kG2...</td>\n",
       "    </tr>\n",
       "    <tr>\n",
       "      <th>2</th>\n",
       "      <td>[{'external_urls': {'spotify': 'https://open.s...</td>\n",
       "      <td>1</td>\n",
       "      <td>257760</td>\n",
       "      <td>...</td>\n",
       "      <td>spotify:album:24TAupSNVWSAHL0R7n71vm</td>\n",
       "      <td>USSM11204989</td>\n",
       "      <td>https://open.spotify.com/track/2bCQHF9gdG5BNDV...</td>\n",
       "    </tr>\n",
       "    <tr>\n",
       "      <th>3</th>\n",
       "      <td>[{'external_urls': {'spotify': 'https://open.s...</td>\n",
       "      <td>1</td>\n",
       "      <td>365466</td>\n",
       "      <td>...</td>\n",
       "      <td>spotify:album:2ZytN2cY4Zjrr9ukb2rqTP</td>\n",
       "      <td>USSM17900816</td>\n",
       "      <td>https://open.spotify.com/track/46eu3SBuFCXWsPT...</td>\n",
       "    </tr>\n",
       "    <tr>\n",
       "      <th>4</th>\n",
       "      <td>[{'external_urls': {'spotify': 'https://open.s...</td>\n",
       "      <td>1</td>\n",
       "      <td>220626</td>\n",
       "      <td>...</td>\n",
       "      <td>spotify:album:2ZytN2cY4Zjrr9ukb2rqTP</td>\n",
       "      <td>USSM17900817</td>\n",
       "      <td>https://open.spotify.com/track/7oOOI85fVQvVnK5...</td>\n",
       "    </tr>\n",
       "  </tbody>\n",
       "</table>\n",
       "<p>5 rows × 28 columns</p>\n",
       "</div>"
      ],
      "text/plain": [
       "                                             artists  disc_number  \\\n",
       "0  [{'external_urls': {'spotify': 'https://open.s...            1   \n",
       "1  [{'external_urls': {'spotify': 'https://open.s...            1   \n",
       "2  [{'external_urls': {'spotify': 'https://open.s...            1   \n",
       "3  [{'external_urls': {'spotify': 'https://open.s...            1   \n",
       "4  [{'external_urls': {'spotify': 'https://open.s...            1   \n",
       "\n",
       "   duration_ms  ...                             album.uri external_ids.isrc  \\\n",
       "0       293826  ...  spotify:album:1C2h7mLntPSeVYciMRTF4a      USSM19902991   \n",
       "1       258040  ...  spotify:album:1C2h7mLntPSeVYciMRTF4a      USSM19902990   \n",
       "2       257760  ...  spotify:album:24TAupSNVWSAHL0R7n71vm      USSM11204989   \n",
       "3       365466  ...  spotify:album:2ZytN2cY4Zjrr9ukb2rqTP      USSM17900816   \n",
       "4       220626  ...  spotify:album:2ZytN2cY4Zjrr9ukb2rqTP      USSM17900817   \n",
       "\n",
       "                               external_urls.spotify  \n",
       "0  https://open.spotify.com/track/5ChkMS8OtdzJeqy...  \n",
       "1  https://open.spotify.com/track/1OOtq8tRnDM8kG2...  \n",
       "2  https://open.spotify.com/track/2bCQHF9gdG5BNDV...  \n",
       "3  https://open.spotify.com/track/46eu3SBuFCXWsPT...  \n",
       "4  https://open.spotify.com/track/7oOOI85fVQvVnK5...  \n",
       "\n",
       "[5 rows x 28 columns]"
      ]
     },
     "execution_count": 22,
     "metadata": {},
     "output_type": "execute_result"
    }
   ],
   "source": [
    "tracks_df = pd.json_normalize(data['tracks'])\n",
    "\n",
    "tracks_df.head()    "
   ]
  },
  {
   "cell_type": "markdown",
   "metadata": {},
   "source": [
    "A coluna __*artists*__ também é composta por mais um nível do arquivo json. \n",
    "\n",
    "Para melhor visualizar esta coluna, é preciso repetir o processo acima construindo um novo dataframe, no entanto é preciso informar a linha que se deseja recuperar."
   ]
  },
  {
   "cell_type": "code",
   "execution_count": 35,
   "metadata": {},
   "outputs": [
    {
     "data": {
      "text/html": [
       "<div>\n",
       "<style scoped>\n",
       "    .dataframe tbody tr th:only-of-type {\n",
       "        vertical-align: middle;\n",
       "    }\n",
       "\n",
       "    .dataframe tbody tr th {\n",
       "        vertical-align: top;\n",
       "    }\n",
       "\n",
       "    .dataframe thead th {\n",
       "        text-align: right;\n",
       "    }\n",
       "</style>\n",
       "<table border=\"1\" class=\"dataframe\">\n",
       "  <thead>\n",
       "    <tr style=\"text-align: right;\">\n",
       "      <th></th>\n",
       "      <th>href</th>\n",
       "      <th>id</th>\n",
       "      <th>name</th>\n",
       "      <th>type</th>\n",
       "      <th>uri</th>\n",
       "      <th>external_urls.spotify</th>\n",
       "    </tr>\n",
       "  </thead>\n",
       "  <tbody>\n",
       "    <tr>\n",
       "      <th>0</th>\n",
       "      <td>https://api.spotify.com/v1/artists/3fMbdgg4jU1...</td>\n",
       "      <td>3fMbdgg4jU18AjLCKBhRSm</td>\n",
       "      <td>Michael Jackson</td>\n",
       "      <td>artist</td>\n",
       "      <td>spotify:artist:3fMbdgg4jU18AjLCKBhRSm</td>\n",
       "      <td>https://open.spotify.com/artist/3fMbdgg4jU18Aj...</td>\n",
       "    </tr>\n",
       "  </tbody>\n",
       "</table>\n",
       "</div>"
      ],
      "text/plain": [
       "                                                href                      id  \\\n",
       "0  https://api.spotify.com/v1/artists/3fMbdgg4jU1...  3fMbdgg4jU18AjLCKBhRSm   \n",
       "\n",
       "              name    type                                    uri  \\\n",
       "0  Michael Jackson  artist  spotify:artist:3fMbdgg4jU18AjLCKBhRSm   \n",
       "\n",
       "                               external_urls.spotify  \n",
       "0  https://open.spotify.com/artist/3fMbdgg4jU18Aj...  "
      ]
     },
     "execution_count": 35,
     "metadata": {},
     "output_type": "execute_result"
    }
   ],
   "source": [
    "artist_df = pd.json_normalize(data['tracks'][0]['artists'])\n",
    "\n",
    "artist_df.head()    "
   ]
  },
  {
   "cell_type": "markdown",
   "metadata": {},
   "source": [
    "## Outros formatos\n",
    "\n",
    "Além desses formatos, é possível carregar dados de XML e de bancos de dados."
   ]
  },
  {
   "cell_type": "code",
   "execution_count": 9,
   "metadata": {},
   "outputs": [
    {
     "name": "stdout",
     "output_type": "stream",
     "text": [
      "(1, 'TJSE')\n",
      "(2, 'TRIBUNAL DE JUSTICA DO ESTADO DE GOIAS')\n",
      "(3, 'TJPR')\n",
      "(4, 'TRIBUNAL DE JUSTIÇA DO ESTADO DE MATO GROSSO')\n",
      "(5, 'TJ-TO')\n",
      "(6, 'JFTO')\n",
      "(7, 'JFMG')\n",
      "(8, 'Poder Judiciário do RN')\n",
      "(9, 'TRIBUNAL DE JUSTIÇA DO ESTADO DO PIAUÍ')\n",
      "(10, 'TRIBUNAL DE JUSTICA DO ESTADO DO CEARA')\n"
     ]
    }
   ],
   "source": [
    "# Primeiro, importa o driver para o MySQL\n",
    "import mysql.connector\n",
    "\n",
    "# O seguinte código faz a conexão:\n",
    "conn = mysql.connector.connect(user='jai',              # Seu User\n",
    "                                password='jupyter',     # Sua senha\n",
    "                                host='127.0.0.1',       # Endereço do servidor\n",
    "                                database='jusbd')       # Base de Dados\n",
    "\n",
    "# Criar um cursor\n",
    "cursor = conn.cursor()\n",
    "\n",
    "# Elabora uma consulta\n",
    "query = (\"SELECT * from orgão limit 10\")\n",
    "\n",
    "# Executa a consulta\n",
    "cursor.execute(query)\n",
    "\n",
    "# Exibe o resultado da consulta\n",
    "for l in cursor.fetchall():\n",
    "    print(l)\n",
    "\n",
    "# Fecha o cursor\n",
    "cursor.close()\n",
    "# Fecha a conexão\n",
    "conn.close()"
   ]
  },
  {
   "cell_type": "markdown",
   "metadata": {},
   "source": [
    "## Conclusão"
   ]
  },
  {
   "cell_type": "markdown",
   "metadata": {},
   "source": [
    "Este notebook apresentou como importar dados de diversos formatos para o pandas.\n",
    "\n",
    "O próximo notebook ([3.2.Limpeza.ipynb](3.2.Limpeza.ipynb)) apresenta como fazer a limpeza dos dados."
   ]
  }
 ],
 "metadata": {
  "julynter-results": {
   "filteredId": [],
   "filteredIndividual": [],
   "filteredRestart": [],
   "filteredType": [],
   "hash": "6b27a9fb782d43d181404925077b28607a688e69",
   "visible": []
  },
  "kernelspec": {
   "display_name": "Python 3",
   "language": "python",
   "name": "python3"
  },
  "language_info": {
   "codemirror_mode": {
    "name": "ipython",
    "version": 3
   },
   "file_extension": ".py",
   "mimetype": "text/x-python",
   "name": "python",
   "nbconvert_exporter": "python",
   "pygments_lexer": "ipython3",
   "version": "3.8.10"
  },
  "latex_envs": {
   "LaTeX_envs_menu_present": true,
   "autoclose": true,
   "autocomplete": true,
   "bibliofile": "biblio.bib",
   "cite_by": "apalike",
   "current_citInitial": 1,
   "eqLabelWithNumbers": true,
   "eqNumInitial": 1,
   "hotkeys": {
    "equation": "Ctrl-E",
    "itemize": "Ctrl-I"
   },
   "labels_anchors": false,
   "latex_user_defs": false,
   "report_style_numbering": false,
   "user_envs_cfg": false
  }
 },
 "nbformat": 4,
 "nbformat_minor": 4
}
