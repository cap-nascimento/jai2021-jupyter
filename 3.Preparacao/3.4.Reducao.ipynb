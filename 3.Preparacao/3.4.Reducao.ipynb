{
 "cells": [
  {
   "cell_type": "markdown",
   "metadata": {},
   "source": [
    "# Redução de Dados\n",
    "\n",
    "Gerenciar e processar dados requer tempo, esforço e recursos significativos, especialmente ao lidar com grandes volumes de dados de várias fontes e em diferentes formatos. Para enfrentar tais desafios, técnicas de Redução de dados são aplicadas, auxiliando na análise de dados com alta dimensionalidade. As estratégias para redução de dados buscam aumentar a eficiência de análises e reduzir os custos de armazenamento e processamento de dados. Nesta seção, vamos explorar alguns dos métodos de redução de dimensão mais comumente aplicados em Ciência de Dados."
   ]
  },
  {
   "cell_type": "code",
   "execution_count": 1,
   "metadata": {},
   "outputs": [],
   "source": [
    "# Importando o pacote necessário\n",
    "import pandas as pd\n",
    "import numpy as np\n",
    "from sklearn.feature_selection import VarianceThreshold\n",
    "from sklearn.feature_selection import SelectKBest, f_classif\n",
    "from sklearn.preprocessing import StandardScaler\n",
    "from sklearn.decomposition import PCA\n",
    "from sklearn.manifold import TSNE\n",
    "import matplotlib.pyplot as plt\n",
    "from sklearn.linear_model import LinearRegression\n"
   ]
  },
  {
   "cell_type": "markdown",
   "metadata": {},
   "source": [
    "## Redução de dimensionalidade\n",
    "\n",
    "É o processo de reduzir o número de dimensões de um conjunto de dados. Existem diferentes algoritmos de redução de dimensionalidade, mas nenhum método é único e ideal para todos os casos. Os diferentes algoritmos de redução de dimensionalidade podem ser divididos em duas categorias principais, Feature Selection e Feature Extraction. Nesta seção, nós exploraremos os principais métodos existentes nas duas categorias."
   ]
  },
  {
   "cell_type": "markdown",
   "metadata": {},
   "source": [
    "### Feature Selection\n",
    "\n",
    "Feature selection é o processo de seleção de um subconjunto de features relevantes para uso na construção de modelos de Aprendizado de Máquina. Tal processo pode aumentar o desempenho dos modelos, eliminando features irrelevantes, redundantes ou altamente correlacionados. A biblioteca \\textit{scikit-learn} inclui diferentes estratégias para realizar a seleção automática de features. Especificamente, as classes do módulo `sklearn.feature_selection` podem ser usadas tanto para melhorar a precisão dos modelos, quanto para impulsionar o desempenho em conjuntos de dados com alta dimensionalidade.\n",
    "\n",
    "Uma das abordagens mais simples disponíveis no módulo é a remoção de features com baixa variância. Utilizando a classe `VarianceThreshold`, nós removemos todas as features cuja variância não atende a um limite especificado. Se o limite não for especificado, por padrão, o método remove todas as features de variância zero, ou seja, atributos que possuem o mesmo valor em todas as amostras. No exemplo a seguir, nós selecionamos as features que possuem uma variância maior que 0,1."
   ]
  },
  {
   "cell_type": "code",
   "execution_count": 2,
   "metadata": {},
   "outputs": [
    {
     "name": "stdout",
     "output_type": "stream",
     "text": [
      "['popularity' 'track_number' 'num_artists' 'num_available_markets'\n",
      " 'duration_ms' 'key' 'mode' 'time_signature' 'acousticness' 'danceability'\n",
      " 'energy' 'instrumentalness' 'liveness' 'loudness' 'speechiness' 'valence'\n",
      " 'tempo']\n"
     ]
    }
   ],
   "source": [
    "# Lendo os dados\n",
    "data = pd.read_table('../dataset/spotify_hits_dataset_complete.tsv', encoding='utf-8')\n",
    "\n",
    "# Selecionando apenas variáveis numéricas\n",
    "df = data.select_dtypes(include=np.number)\n",
    "print(df.columns.values) # imprimindo as colunas restantes"
   ]
  },
  {
   "cell_type": "code",
   "execution_count": 3,
   "metadata": {},
   "outputs": [
    {
     "name": "stdout",
     "output_type": "stream",
     "text": [
      "Número de features inicialmente:  16 \n",
      "Número de features selecionadas:  8\n"
     ]
    }
   ],
   "source": [
    "\n",
    "array = df.values # converte em uma matriz\n",
    "X = array[:, 1:17] # treino (X)\n",
    "y = array[:, 0] # teste (y)\n",
    "resultado = VarianceThreshold(threshold=0.1).fit_transform(X) # remove features de baixa variância\n",
    "num_features = np.shape(X)[1]  # matriz original\n",
    "num_selec_features = np.shape(resultado)[1]  # matriz filtrada\n",
    "print(\"Número de features inicialmente: \", num_features,\n",
    "      \"\\nNúmero de features selecionadas: \", num_selec_features)"
   ]
  },
  {
   "cell_type": "markdown",
   "metadata": {},
   "source": [
    "Outra abordagem comumente usada é a seleção univariada, que seleciona os melhores atributos com base em testes estatítisticos univariados. Nesta abordagem, cada atributo é examinado individualmente para determinar a força da relação entre o atributo e a variável de resposta. A classe `SelectKBest` do módulo `sklearn.feature_selection` é um bom exemplo de seleção univariada, onde são selecionadas apenas as $k$ maiores features de um conjunto de dados com base em um teste estatístico. No exemplo a seguir, nós utilizamos a classe em nosso conjunto de dados para selecionar $k = 10$ features de acordo com a Análise de Variância (Anova)."
   ]
  },
  {
   "cell_type": "code",
   "execution_count": 4,
   "metadata": {},
   "outputs": [
    {
     "name": "stdout",
     "output_type": "stream",
     "text": [
      "Número de features inicialmente:  16 \n",
      "Número de features selecionadas:  10\n"
     ]
    }
   ],
   "source": [
    "\n",
    "resultado = SelectKBest(f_classif, k=10).fit_transform(X, y) # seleciona k=10 features\n",
    "num_features = np.shape(X)[1]  # matriz original\n",
    "num_selec_features = np.shape(resultado)[1]  # matriz filtrada\n",
    "print(\"Número de features inicialmente: \", num_features,\n",
    "      \"\\nNúmero de features selecionadas: \", num_selec_features)"
   ]
  },
  {
   "cell_type": "markdown",
   "metadata": {},
   "source": [
    "Observe que, após o processo de seleção, o conjunto de treinamento apresenta as dez features que atingiram as melhores pontuações no teste estatístico escolhido. Uma desvantagem desse método é a dificuldade em escolher o número $k$ ideal. Abordagens alternativas mais avançadas incluem os algoritmos *Backward Elimination*, *Forward Selection* e *Recursive Feature Elimination* (ou RFE). Além desses algoritmos, uma outra forma simples e comumente utilizada de selecionar features relevantes é através de uma Matriz de Correlação. No entanto, iremos discutir em detalhes tal abordagem nas Seções X e Y. "
   ]
  },
  {
   "cell_type": "markdown",
   "metadata": {},
   "source": [
    "### Feature Extraction\n",
    "\n",
    "Feature Extraction é o processo de extração de features, onde é gerado um conjunto novo e menor de atributos que captura a maioria das informações úteis. Isto é, enquanto a seleção de features apenas mantém um subconjunto dos atributos originais, a extração de recursos gera novos atributos. As técnicas de extração de features são divididas em métodos lineares e não-lineares. Os métodos lineares combinam linearmente os recursos originais para compactar as dimensões do conjunto de dados original. A Análise de Componentes Principais (PCA) é um dos métodos mais simples e, de longe, o mais comum para a redução da dimensionalidade. Em particular, o PCA é um algoritmo não supervisionado que cria combinações lineares dos atributos originais, classificadas em ordem de sua variância explicada. No exemplo a seguir, nós utilizamos a biblioteca *scikit-learn* para importar o módulo `sklearn.decomposition`. Em seguida, nós usamos a classe `PCA` para extrair os dois componentes principais `(n_components = 2)` do nosso conjunto de dados."
   ]
  },
  {
   "cell_type": "code",
   "execution_count": 5,
   "metadata": {
    "cell_style": "center",
    "hide_input": false
   },
   "outputs": [
    {
     "data": {
      "text/html": [
       "<div>\n",
       "<style scoped>\n",
       "    .dataframe tbody tr th:only-of-type {\n",
       "        vertical-align: middle;\n",
       "    }\n",
       "\n",
       "    .dataframe tbody tr th {\n",
       "        vertical-align: top;\n",
       "    }\n",
       "\n",
       "    .dataframe thead th {\n",
       "        text-align: right;\n",
       "    }\n",
       "</style>\n",
       "<table border=\"1\" class=\"dataframe\">\n",
       "  <thead>\n",
       "    <tr style=\"text-align: right;\">\n",
       "      <th></th>\n",
       "      <th>PC1</th>\n",
       "      <th>PC2</th>\n",
       "    </tr>\n",
       "  </thead>\n",
       "  <tbody>\n",
       "    <tr>\n",
       "      <th>1279</th>\n",
       "      <td>-1.848746</td>\n",
       "      <td>-1.361856</td>\n",
       "    </tr>\n",
       "    <tr>\n",
       "      <th>1280</th>\n",
       "      <td>5.266716</td>\n",
       "      <td>1.026617</td>\n",
       "    </tr>\n",
       "    <tr>\n",
       "      <th>1281</th>\n",
       "      <td>0.451366</td>\n",
       "      <td>-1.150981</td>\n",
       "    </tr>\n",
       "    <tr>\n",
       "      <th>1282</th>\n",
       "      <td>-0.780667</td>\n",
       "      <td>0.101453</td>\n",
       "    </tr>\n",
       "    <tr>\n",
       "      <th>1283</th>\n",
       "      <td>-2.273107</td>\n",
       "      <td>0.817602</td>\n",
       "    </tr>\n",
       "  </tbody>\n",
       "</table>\n",
       "</div>"
      ],
      "text/plain": [
       "           PC1       PC2\n",
       "1279 -1.848746 -1.361856\n",
       "1280  5.266716  1.026617\n",
       "1281  0.451366 -1.150981\n",
       "1282 -0.780667  0.101453\n",
       "1283 -2.273107  0.817602"
      ]
     },
     "execution_count": 5,
     "metadata": {},
     "output_type": "execute_result"
    }
   ],
   "source": [
    "\n",
    "# Padronizando os dados de treino\n",
    "X = StandardScaler().fit_transform(X)\n",
    "# Calculando os dois componentes principais\n",
    "pca_resultado = PCA(n_components=2)\n",
    "df_pcs = pd.DataFrame(pca_resultado.fit_transform(X), columns=['PC1', 'PC2'])\n",
    "df_pcs.tail()"
   ]
  },
  {
   "cell_type": "markdown",
   "metadata": {},
   "source": [
    "O *DataFrame* resultante apresenta os valores dos dois componentes principais para todas as 1283 amostras. Observe que o conjunto de dados foi padronizado, utilizando a classe `StandardScaler`. Do contrário, os atributos em maior escala dominariam os novos componentes principais. Após a extração dos componentes principais, você pode encontrar a variância explicada. Ou seja, o método fornece a quantidade de informações ou variação que cada componente principal mantém depois de projetar os dados em um subespaço de dimensão inferior."
   ]
  },
  {
   "cell_type": "code",
   "execution_count": 6,
   "metadata": {},
   "outputs": [
    {
     "name": "stdout",
     "output_type": "stream",
     "text": [
      "Variação explicada por componentes principais: [0.17349221 0.08862283]\n"
     ]
    }
   ],
   "source": [
    "print('Variação explicada por componentes principais: {}'.format(\n",
    "    pca_resultado.explained_variance_ratio_))"
   ]
  },
  {
   "cell_type": "markdown",
   "metadata": {},
   "source": [
    "O primeiro componente principal da saída anterior detém 17,3% das informações, enquanto o segundo detém apenas 9% das informações. Ou seja, ao reduzir a dimensionalidade do conjunto de dados para duas dimensões, 73,7% das informações originais foram perdidas."
   ]
  },
  {
   "cell_type": "markdown",
   "metadata": {},
   "source": [
    "Ao contrário dos métodos lineares, os métodos não-lineares são mais complexos. Exemplos comuns incluem o t-Distributed Stochastic Neighbor Embedding (t-SNE), autoencoders, IsoMap e UMap. Aqui, focaremos apenas no t-SNE que, ao contrário do PCA, não é uma técnica matemática e sim probabilística. Essencialmente, o método minimiza a divergência entre duas distribuições, mapeando os dados multidimensionais para um espaço dimensional inferior. No exemplo a seguir, utilizando o módulo `sklearn.manifold` e a classe `TSNE`, também reduzimos nosso conjunto de dados em duas dimensões."
   ]
  },
  {
   "cell_type": "code",
   "execution_count": 7,
   "metadata": {},
   "outputs": [
    {
     "data": {
      "text/html": [
       "<div>\n",
       "<style scoped>\n",
       "    .dataframe tbody tr th:only-of-type {\n",
       "        vertical-align: middle;\n",
       "    }\n",
       "\n",
       "    .dataframe tbody tr th {\n",
       "        vertical-align: top;\n",
       "    }\n",
       "\n",
       "    .dataframe thead th {\n",
       "        text-align: right;\n",
       "    }\n",
       "</style>\n",
       "<table border=\"1\" class=\"dataframe\">\n",
       "  <thead>\n",
       "    <tr style=\"text-align: right;\">\n",
       "      <th></th>\n",
       "      <th>tSNE1</th>\n",
       "      <th>tSNE2</th>\n",
       "    </tr>\n",
       "  </thead>\n",
       "  <tbody>\n",
       "    <tr>\n",
       "      <th>1279</th>\n",
       "      <td>9.103629</td>\n",
       "      <td>-3.113597</td>\n",
       "    </tr>\n",
       "    <tr>\n",
       "      <th>1280</th>\n",
       "      <td>-17.664431</td>\n",
       "      <td>-40.606129</td>\n",
       "    </tr>\n",
       "    <tr>\n",
       "      <th>1281</th>\n",
       "      <td>-21.541874</td>\n",
       "      <td>-51.378647</td>\n",
       "    </tr>\n",
       "    <tr>\n",
       "      <th>1282</th>\n",
       "      <td>-14.644680</td>\n",
       "      <td>29.997019</td>\n",
       "    </tr>\n",
       "    <tr>\n",
       "      <th>1283</th>\n",
       "      <td>35.986511</td>\n",
       "      <td>28.855595</td>\n",
       "    </tr>\n",
       "  </tbody>\n",
       "</table>\n",
       "</div>"
      ],
      "text/plain": [
       "          tSNE1      tSNE2\n",
       "1279   9.103629  -3.113597\n",
       "1280 -17.664431 -40.606129\n",
       "1281 -21.541874 -51.378647\n",
       "1282 -14.644680  29.997019\n",
       "1283  35.986511  28.855595"
      ]
     },
     "execution_count": 7,
     "metadata": {},
     "output_type": "execute_result"
    }
   ],
   "source": [
    "\n",
    "# Reduzindo a dimensão para duas\n",
    "tSNE_resultado = TSNE(n_components=2)\n",
    "tSNE = pd.DataFrame(\n",
    "    tSNE_resultado.fit_transform(X), \n",
    "    columns=['tSNE1', 'tSNE2'])\n",
    "tSNE.tail()"
   ]
  },
  {
   "cell_type": "markdown",
   "metadata": {},
   "source": [
    "## Redução de numerosidade\n",
    "\n",
    "É uma técnica de redução de dados usada para reduzir o volume de dados usando abordagens adequadas de representação de dados. Essas abordagens podem ser divididas em métodos paramétricos ou não-paramétricos. De forma geral, nos métodos paramétricos, um modelo é usado para estimar os dados, de modo que apenas parâmetros sejam armazenados, em vez dos dados reais. Já os métodos não-paramétricos são usados para armazenar representações reduzidas dos dados, como por exemplo, histogramas, \\textit{Clustering}, amostragem e \\textit{Data Cube Aggregation}.\n",
    "\n",
    "Exemplos clássicos de métodos paramétricos são os modelos de regressão e log-linear, podendo ser usados para aproximar os dados fornecidos. Na regressão linear, por exemplo, os dados são modelados para se ajustar a uma linha reta. No exemplo a seguir, considere que o atributo `duration_ms` é a nossa variável independente e o atributo `popularity` é a variável dependente. Utilizando o módulo `sklearn.linear_model`, nós aplicamos a classe `LinearRegression` para ajustar os dados em nosso modelo de regressão linear. Em seguida, nós plotamos um gráfico de dispersão, onde a variável dependente, `popularity`, é modelada como uma função linear da variável `duration_ms`, representada pela linha reta em vermelho."
   ]
  },
  {
   "cell_type": "code",
   "execution_count": 8,
   "metadata": {},
   "outputs": [
    {
     "data": {
      "image/png": "[encoded data removed]",
      "text/plain": [
       "<Figure size 432x288 with 1 Axes>"
      ]
     },
     "metadata": {
      "needs_background": "light"
     },
     "output_type": "display_data"
    }
   ],
   "source": [
    "\n",
    "X = array[:, 4].reshape(-1, 1)  # duration_ms\n",
    "y = array[:, 0].reshape(-1, 1)  # popularity\n",
    "linear_regressor = LinearRegression()\n",
    "linear_regressor.fit(X, y)\n",
    "Y_pred = linear_regressor.predict(X)\n",
    "plt.scatter(X, y) # gráfico de dispersão\n",
    "plt.plot(X, Y_pred, color='red') # resultado da regressão linear\n",
    "plt.xlabel(\"duration_ms\")\n",
    "plt.ylabel(\"popularity\")\n",
    "plt.show()"
   ]
  },
  {
   "cell_type": "markdown",
   "metadata": {},
   "source": [
    "Como exemplo de métodos não-paramétricos, podemos listar algumas das técnicas de amostragem mais comuns ao se trabalhar com dados. Começando pela **amostragem aleatória simples**, considere que precisamos selecionar um subconjunto de uma população em que cada membro do subconjunto tenha a mesma probabilidade de ser escolhido. A seguir, criamos uma amostra com apenas cinco registros a partir do conjunto de dados e, depois, especificamos o tamanho da amostra através de um percentual."
   ]
  },
  {
   "cell_type": "code",
   "execution_count": 9,
   "metadata": {
    "cell_style": "center"
   },
   "outputs": [
    {
     "data": {
      "text/plain": [
       "(5, 24)"
      ]
     },
     "execution_count": 9,
     "metadata": {},
     "output_type": "execute_result"
    }
   ],
   "source": [
    "# Amostragem aleatória simples\n",
    "sample_df = data.sample(5)\n",
    "sample_df.shape"
   ]
  },
  {
   "cell_type": "code",
   "execution_count": 10,
   "metadata": {},
   "outputs": [
    {
     "data": {
      "text/plain": [
       "(128, 24)"
      ]
     },
     "execution_count": 10,
     "metadata": {},
     "output_type": "execute_result"
    }
   ],
   "source": [
    "# Amostragem aleatória de 10%\n",
    "df_amostra = data.sample(frac=0.10)\n",
    "df_amostra.shape"
   ]
  },
  {
   "cell_type": "markdown",
   "metadata": {},
   "source": [
    "Considere agora que precisamos dividir toda a população em diferentes grupos ou estratos diferentes, de maneira que um indivíduo só pode fazer parte de um único grupo e nenhum desses indivíduos pode ficar de fora de um estrato. Além disso, a seleção de cada um dos indivíduos é feita de forma aleatória. A seguir, realizamos a **amostragem estratificada** selecionando aleatoriamente duas músicas de cada tipo de música."
   ]
  },
  {
   "cell_type": "code",
   "execution_count": 11,
   "metadata": {},
   "outputs": [
    {
     "data": {
      "text/plain": [
       "(4, 24)"
      ]
     },
     "execution_count": 11,
     "metadata": {},
     "output_type": "execute_result"
    }
   ],
   "source": [
    "# Amostragem estratificada \n",
    "df_amostra = data.groupby('song_type', group_keys=False).apply(lambda x: x.sample(2))\n",
    "df_amostra.shape"
   ]
  },
  {
   "cell_type": "markdown",
   "metadata": {},
   "source": [
    "Por último, a **amostragem sistemática** consiste em escolher um indivíduo inicialmente de forma aleatória entre a população e, posteriormente, selecionar para amostra cada enésimo indivíduo disponível. A seguir, utilizando a biblioteca *Numpy*, geramos a semente aleatória e, em seguida, os índices a serem amostrados."
   ]
  },
  {
   "cell_type": "code",
   "execution_count": 12,
   "metadata": {},
   "outputs": [
    {
     "data": {
      "text/plain": [
       "(17, 24)"
      ]
     },
     "execution_count": 12,
     "metadata": {},
     "output_type": "execute_result"
    }
   ],
   "source": [
    "semente = np.random.choice(10, 1) # semente aleatória de 0 a 10\n",
    "indices = np.arange(0, 100, semente) # array de 0 a 100, em intervalos de 5\n",
    "amostra = data.loc[indices, :] # amostra a partir dos índices\n",
    "amostra.shape"
   ]
  },
  {
   "cell_type": "markdown",
   "metadata": {},
   "source": [
    "## Conclusão\n",
    "\n",
    "Este notebook apresentou como reduzir a dimensionalidade dos dados.\n",
    "\n",
    "Este foi o fim desta parte do tutorial sobre prepação de dados. A próxima parte ([4.Ciencia.de.Dados](../4.Ciencia.de.Dados/4.1.Analise.Exploratoria.ipynb)) apresentará como fazer analise exploratória dos dados como parte da ciência de dados.\n",
    "\n"
   ]
  }
 ],
 "metadata": {
  "julynter-results": {
   "filteredId": [],
   "filteredIndividual": [],
   "filteredRestart": [],
   "filteredType": [],
   "hash": "42e8b7591aa2173a7b72b5ae2fb6718ece06becc",
   "visible": []
  },
  "kernelspec": {
   "display_name": "Python 3",
   "language": "python",
   "name": "python3"
  },
  "language_info": {
   "codemirror_mode": {
    "name": "ipython",
    "version": 3
   },
   "file_extension": ".py",
   "mimetype": "text/x-python",
   "name": "python",
   "nbconvert_exporter": "python",
   "pygments_lexer": "ipython3",
   "version": "3.8.8"
  },
  "latex_envs": {
   "LaTeX_envs_menu_present": true,
   "autoclose": true,
   "autocomplete": true,
   "bibliofile": "biblio.bib",
   "cite_by": "apalike",
   "current_citInitial": 1,
   "eqLabelWithNumbers": true,
   "eqNumInitial": 1,
   "hotkeys": {
    "equation": "Ctrl-E",
    "itemize": "Ctrl-I"
   },
   "labels_anchors": false,
   "latex_user_defs": false,
   "report_style_numbering": false,
   "user_envs_cfg": false
  },
  "varInspector": {
   "cols": {
    "lenName": 16,
    "lenType": 16,
    "lenVar": 40
   },
   "kernels_config": {
    "python": {
     "delete_cmd_postfix": "",
     "delete_cmd_prefix": "del ",
     "library": "var_list.py",
     "varRefreshCmd": "print(var_dic_list())"
    },
    "r": {
     "delete_cmd_postfix": ") ",
     "delete_cmd_prefix": "rm(",
     "library": "var_list.r",
     "varRefreshCmd": "cat(var_dic_list()) "
    }
   },
   "types_to_exclude": [
    "module",
    "function",
    "builtin_function_or_method",
    "instance",
    "_Feature"
   ],
   "window_display": false
  }
 },
 "nbformat": 4,
 "nbformat_minor": 4
}
