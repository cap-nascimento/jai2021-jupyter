{
 "cells": [
  {
   "cell_type": "markdown",
   "metadata": {},
   "source": [
    "# Integração de Dados\n",
    "\n",
    "Até aqui, nós realizamos a limpeza do nosso conjunto de dados selecionado, garantindo a remoção de possíveis impurezas. Agora, a próxima etapa do Pré-processamento é combinar dados de diferentes fontes para obter uma estrutura unificada com informações mais significativas e valiosas. Na vida real, geralmente é necessário a extração de dados a partir várias fontes. Por exemplo, suponha que informações básicas das músicas de sucesso estão localizados em uma tabela, enquanto informações mais detalhadas de tais músicas se encontram em uma outra tabela. Portanto, se quisermos fazer uma análise mais robusta sobre as músicas populares, precisamos reunir todos os dados possíveis referentes ao objeto de pesquisa em um único lugar. Esse processo de reunir dados em um só lugar é chamado de Integração de dados.\n",
    "\n",
    "Nesta seção, nós iremos integrar as informações referentes às músicas a partir de diferentes fontes de dados, ou seja, diferentes tabelas. Utilizando o \\textit{Pandas}, nós podemos mesclar e juntar múltiplas tabelas utilizando operações de junção. Para exemplificar, nós dividimos a tabela \\textit{Hits} em dois \\textit{DataFrames}, `df1` e `df2`. O primeiro contém os atributos: título da música, e o identificador e nome do(s) artista(s). Já o segundo, contém apenas a popularidade e a data de lançamento das músicas. Em ambas as tabelas, a coluna \\textit{song\\_id} está presente, para identificar cada uma das músicas."
   ]
  },
  {
   "cell_type": "code",
   "execution_count": 1,
   "metadata": {},
   "outputs": [],
   "source": [
    "# Importando os pacotes necessários\n",
    "import pandas as pd\n",
    "from IPython.core.display import display, HTML\n",
    "pd.set_option('display.max_columns', 6)"
   ]
  },
  {
   "cell_type": "code",
   "execution_count": 2,
   "metadata": {},
   "outputs": [],
   "source": [
    "\n",
    "\n",
    "def display_side_by_side(dfs:list, captions:list):\n",
    "    \"\"\"Display tables side by side to save vertical space\n",
    "    Input:\n",
    "        dfs: list of pandas.DataFrame\n",
    "        captions: list of table captions\n",
    "    \"\"\"\n",
    "    output = \"\"\n",
    "    combined = dict(zip(captions, dfs))\n",
    "    for caption, df in combined.items():\n",
    "        output += df.style.set_table_attributes(\"style='display:inline'\").set_caption(caption)._repr_html_()\n",
    "        output += \"\\xa0\\xa0\\xa0\"\n",
    "    display(HTML(output))"
   ]
  },
  {
   "cell_type": "code",
   "execution_count": 3,
   "metadata": {},
   "outputs": [],
   "source": [
    "# Lendo os dados\n",
    "df1 = pd.read_table('../dataset/spotify_hits_dataset_complete.tsv',\n",
    "    usecols=['song_id', 'song_name', 'artist_id', 'artist_name'], # seleciona campos específicos\n",
    "    encoding='utf-8')\n",
    "df2 = pd.read_table('../dataset/spotify_hits_dataset_complete.tsv',\n",
    "    usecols=['song_id', 'popularity', 'release_date'], # seleciona campos específicos\n",
    "    encoding='utf-8')"
   ]
  },
  {
   "cell_type": "code",
   "execution_count": 4,
   "metadata": {},
   "outputs": [
    {
     "data": {
      "text/html": [
       "<style  type=\"text/css\" >\n",
       "</style><table id=\"T_f22c995c_b14c_11eb_b6fa_9197cf007313\" style='display:inline'><caption>df1</caption><thead>    <tr>        <th class=\"blank level0\" ></th>        <th class=\"col_heading level0 col0\" >song_id</th>        <th class=\"col_heading level0 col1\" >song_name</th>        <th class=\"col_heading level0 col2\" >artist_id</th>        <th class=\"col_heading level0 col3\" >artist_name</th>    </tr></thead><tbody>\n",
       "                <tr>\n",
       "                        <th id=\"T_f22c995c_b14c_11eb_b6fa_9197cf007313level0_row0\" class=\"row_heading level0 row0\" >0</th>\n",
       "                        <td id=\"T_f22c995c_b14c_11eb_b6fa_9197cf007313row0_col0\" class=\"data row0 col0\" >2rRJrJEo19S2J82BDsQ3F7</td>\n",
       "                        <td id=\"T_f22c995c_b14c_11eb_b6fa_9197cf007313row0_col1\" class=\"data row0 col1\" >Falling</td>\n",
       "                        <td id=\"T_f22c995c_b14c_11eb_b6fa_9197cf007313row0_col2\" class=\"data row0 col2\" >['7uaIm6Pw7xplS8Dy06V6pT']</td>\n",
       "                        <td id=\"T_f22c995c_b14c_11eb_b6fa_9197cf007313row0_col3\" class=\"data row0 col3\" >['Trevor Daniel']</td>\n",
       "            </tr>\n",
       "            <tr>\n",
       "                        <th id=\"T_f22c995c_b14c_11eb_b6fa_9197cf007313level0_row1\" class=\"row_heading level0 row1\" >1</th>\n",
       "                        <td id=\"T_f22c995c_b14c_11eb_b6fa_9197cf007313row1_col0\" class=\"data row1 col0\" >3BYIzNZ3t9lRQCACXSMLrT</td>\n",
       "                        <td id=\"T_f22c995c_b14c_11eb_b6fa_9197cf007313row1_col1\" class=\"data row1 col1\" >Venetia</td>\n",
       "                        <td id=\"T_f22c995c_b14c_11eb_b6fa_9197cf007313row1_col2\" class=\"data row1 col2\" >['4O15NlyKLIASxsJ0PrXPfz']</td>\n",
       "                        <td id=\"T_f22c995c_b14c_11eb_b6fa_9197cf007313row1_col3\" class=\"data row1 col3\" >['Lil Uzi Vert']</td>\n",
       "            </tr>\n",
       "            <tr>\n",
       "                        <th id=\"T_f22c995c_b14c_11eb_b6fa_9197cf007313level0_row2\" class=\"row_heading level0 row2\" >2</th>\n",
       "                        <td id=\"T_f22c995c_b14c_11eb_b6fa_9197cf007313row2_col0\" class=\"data row2 col0\" >1g3J9W88hTG173ySZR6E9S</td>\n",
       "                        <td id=\"T_f22c995c_b14c_11eb_b6fa_9197cf007313row2_col1\" class=\"data row2 col1\" >Tilidin Weg</td>\n",
       "                        <td id=\"T_f22c995c_b14c_11eb_b6fa_9197cf007313row2_col2\" class=\"data row2 col2\" >['1aS5tqEs9ci5P9KD9tZWa6']</td>\n",
       "                        <td id=\"T_f22c995c_b14c_11eb_b6fa_9197cf007313row2_col3\" class=\"data row2 col3\" >['Bonez MC']</td>\n",
       "            </tr>\n",
       "    </tbody></table>   <style  type=\"text/css\" >\n",
       "</style><table id=\"T_f22cd624_b14c_11eb_b6fa_9197cf007313\" style='display:inline'><caption>df2</caption><thead>    <tr>        <th class=\"blank level0\" ></th>        <th class=\"col_heading level0 col0\" >song_id</th>        <th class=\"col_heading level0 col1\" >popularity</th>        <th class=\"col_heading level0 col2\" >release_date</th>    </tr></thead><tbody>\n",
       "                <tr>\n",
       "                        <th id=\"T_f22cd624_b14c_11eb_b6fa_9197cf007313level0_row0\" class=\"row_heading level0 row0\" >0</th>\n",
       "                        <td id=\"T_f22cd624_b14c_11eb_b6fa_9197cf007313row0_col0\" class=\"data row0 col0\" >2rRJrJEo19S2J82BDsQ3F7</td>\n",
       "                        <td id=\"T_f22cd624_b14c_11eb_b6fa_9197cf007313row0_col1\" class=\"data row0 col1\" >77</td>\n",
       "                        <td id=\"T_f22cd624_b14c_11eb_b6fa_9197cf007313row0_col2\" class=\"data row0 col2\" >2020-03-26</td>\n",
       "            </tr>\n",
       "            <tr>\n",
       "                        <th id=\"T_f22cd624_b14c_11eb_b6fa_9197cf007313level0_row1\" class=\"row_heading level0 row1\" >1</th>\n",
       "                        <td id=\"T_f22cd624_b14c_11eb_b6fa_9197cf007313row1_col0\" class=\"data row1 col0\" >3BYIzNZ3t9lRQCACXSMLrT</td>\n",
       "                        <td id=\"T_f22cd624_b14c_11eb_b6fa_9197cf007313row1_col1\" class=\"data row1 col1\" >66</td>\n",
       "                        <td id=\"T_f22cd624_b14c_11eb_b6fa_9197cf007313row1_col2\" class=\"data row1 col2\" >2020-03-06</td>\n",
       "            </tr>\n",
       "            <tr>\n",
       "                        <th id=\"T_f22cd624_b14c_11eb_b6fa_9197cf007313level0_row2\" class=\"row_heading level0 row2\" >2</th>\n",
       "                        <td id=\"T_f22cd624_b14c_11eb_b6fa_9197cf007313row2_col0\" class=\"data row2 col0\" >1g3J9W88hTG173ySZR6E9S</td>\n",
       "                        <td id=\"T_f22cd624_b14c_11eb_b6fa_9197cf007313row2_col1\" class=\"data row2 col1\" >13</td>\n",
       "                        <td id=\"T_f22cd624_b14c_11eb_b6fa_9197cf007313row2_col2\" class=\"data row2 col2\" >2020-07-30</td>\n",
       "            </tr>\n",
       "    </tbody></table>   "
      ],
      "text/plain": [
       "<IPython.core.display.HTML object>"
      ]
     },
     "metadata": {},
     "output_type": "display_data"
    }
   ],
   "source": [
    "display_side_by_side([df1.head(3), df2.head(3)], ['df1', 'df2'])"
   ]
  },
  {
   "cell_type": "markdown",
   "metadata": {},
   "source": [
    "A primeira operação que iremos explorar é a `merge()`. A função implementa vários tipos de junções: um-para-um (1:1), um-para-muitos (1:N) e muitos-para-muitos (N:N). O tipo de junção realizada depende essencialmente da organização dos conjuntos de dados de entrada. Aqui, mostraremos exemplos simples dos três tipos de fusão."
   ]
  },
  {
   "cell_type": "markdown",
   "metadata": {},
   "source": [
    "## Junções um-para-um (1:1) \n",
    "\n",
    "A junção um-para-um é talvez o tipo mais simples de fusão, muito semelhante à concatenação de colunas. Como um exemplo concreto, considere os seguintes dois *DataFrames* que contêm informações diversas sobre músicas:"
   ]
  },
  {
   "cell_type": "code",
   "execution_count": 5,
   "metadata": {},
   "outputs": [
    {
     "data": {
      "text/html": [
       "<div>\n",
       "<style scoped>\n",
       "    .dataframe tbody tr th:only-of-type {\n",
       "        vertical-align: middle;\n",
       "    }\n",
       "\n",
       "    .dataframe tbody tr th {\n",
       "        vertical-align: top;\n",
       "    }\n",
       "\n",
       "    .dataframe thead th {\n",
       "        text-align: right;\n",
       "    }\n",
       "</style>\n",
       "<table border=\"1\" class=\"dataframe\">\n",
       "  <thead>\n",
       "    <tr style=\"text-align: right;\">\n",
       "      <th></th>\n",
       "      <th>song_id</th>\n",
       "      <th>song_name</th>\n",
       "      <th>artist_id</th>\n",
       "      <th>artist_name</th>\n",
       "      <th>popularity</th>\n",
       "      <th>release_date</th>\n",
       "    </tr>\n",
       "  </thead>\n",
       "  <tbody>\n",
       "    <tr>\n",
       "      <th>0</th>\n",
       "      <td>2rRJrJEo19S2J82BDsQ3F7</td>\n",
       "      <td>Falling</td>\n",
       "      <td>['7uaIm6Pw7xplS8Dy06V6pT']</td>\n",
       "      <td>['Trevor Daniel']</td>\n",
       "      <td>77</td>\n",
       "      <td>2020-03-26</td>\n",
       "    </tr>\n",
       "    <tr>\n",
       "      <th>1</th>\n",
       "      <td>3BYIzNZ3t9lRQCACXSMLrT</td>\n",
       "      <td>Venetia</td>\n",
       "      <td>['4O15NlyKLIASxsJ0PrXPfz']</td>\n",
       "      <td>['Lil Uzi Vert']</td>\n",
       "      <td>66</td>\n",
       "      <td>2020-03-06</td>\n",
       "    </tr>\n",
       "    <tr>\n",
       "      <th>2</th>\n",
       "      <td>1g3J9W88hTG173ySZR6E9S</td>\n",
       "      <td>Tilidin Weg</td>\n",
       "      <td>['1aS5tqEs9ci5P9KD9tZWa6']</td>\n",
       "      <td>['Bonez MC']</td>\n",
       "      <td>13</td>\n",
       "      <td>2020-07-30</td>\n",
       "    </tr>\n",
       "  </tbody>\n",
       "</table>\n",
       "</div>"
      ],
      "text/plain": [
       "                  song_id    song_name                   artist_id  \\\n",
       "0  2rRJrJEo19S2J82BDsQ3F7      Falling  ['7uaIm6Pw7xplS8Dy06V6pT']   \n",
       "1  3BYIzNZ3t9lRQCACXSMLrT      Venetia  ['4O15NlyKLIASxsJ0PrXPfz']   \n",
       "2  1g3J9W88hTG173ySZR6E9S  Tilidin Weg  ['1aS5tqEs9ci5P9KD9tZWa6']   \n",
       "\n",
       "         artist_name  popularity release_date  \n",
       "0  ['Trevor Daniel']          77   2020-03-26  \n",
       "1   ['Lil Uzi Vert']          66   2020-03-06  \n",
       "2       ['Bonez MC']          13   2020-07-30  "
      ]
     },
     "execution_count": 5,
     "metadata": {},
     "output_type": "execute_result"
    }
   ],
   "source": [
    "# Junção um-para-um\n",
    "df3 = pd.merge(\n",
    "    df1, df2, on='song_id')\n",
    "df3.head(3)"
   ]
  },
  {
   "cell_type": "markdown",
   "metadata": {},
   "source": [
    "O resultado da junção é um único *DataFrame* que combina as informações das duas entradas, baseado nos valores comuns presentes na coluna `song_id` de ambos os *DataFrames* originais. Observe que a ordem das entradas em cada coluna não é necessariamente mantida. Nesse caso, a ordem da coluna `song_id` difere entre as duas tabelas, e a função `merge()` considera isso corretamente. "
   ]
  },
  {
   "cell_type": "markdown",
   "metadata": {},
   "source": [
    "## Junções  um-para-muitos (1:N)\n",
    "\n",
    "As junções um-para-muitos são usadas quando uma das duas colunas-chave contém mais de uma entrada para cada registro. Nesse caso, o *DataFrame* resultante preservará essas entradas duplicadas conforme apropriado. Considere o exemplo onde procuramos unir o resultado anterior com informações das paradas de sucesso do Spotify, presentes na tabela `Charts`. No entanto, nesta tabela, os identificadores das músicas podem aparecem mais de uma vez. Vamos então analisar esse caso claro de junção um-para-muitos. Especificamente, queremos unir as informações básicas das músicas com as semanas e as posições de cada música nos charts do Spotify:"
   ]
  },
  {
   "cell_type": "code",
   "execution_count": 6,
   "metadata": {},
   "outputs": [],
   "source": [
    "# Lendo os dados\n",
    "df4 = pd.read_table('../dataset/spotify_charts_complete.tsv',\n",
    "    usecols=['chart_week', 'song_id', 'position'], # seleciona campos específicos\n",
    "    encoding='utf-8')"
   ]
  },
  {
   "cell_type": "code",
   "execution_count": 7,
   "metadata": {},
   "outputs": [
    {
     "data": {
      "text/html": [
       "<div>\n",
       "<style scoped>\n",
       "    .dataframe tbody tr th:only-of-type {\n",
       "        vertical-align: middle;\n",
       "    }\n",
       "\n",
       "    .dataframe tbody tr th {\n",
       "        vertical-align: top;\n",
       "    }\n",
       "\n",
       "    .dataframe thead th {\n",
       "        text-align: right;\n",
       "    }\n",
       "</style>\n",
       "<table border=\"1\" class=\"dataframe\">\n",
       "  <thead>\n",
       "    <tr style=\"text-align: right;\">\n",
       "      <th></th>\n",
       "      <th>chart_week</th>\n",
       "      <th>position</th>\n",
       "      <th>song_id</th>\n",
       "    </tr>\n",
       "  </thead>\n",
       "  <tbody>\n",
       "    <tr>\n",
       "      <th>0</th>\n",
       "      <td>2020-01-02</td>\n",
       "      <td>1</td>\n",
       "      <td>1rgnBhdG2JDFTbYkYRZAku</td>\n",
       "    </tr>\n",
       "    <tr>\n",
       "      <th>1</th>\n",
       "      <td>2020-01-02</td>\n",
       "      <td>2</td>\n",
       "      <td>696DnlkuDOXcMAnKlTgXXK</td>\n",
       "    </tr>\n",
       "    <tr>\n",
       "      <th>2</th>\n",
       "      <td>2020-01-02</td>\n",
       "      <td>3</td>\n",
       "      <td>7k4t7uLgtOxPwTpFmtJNTY</td>\n",
       "    </tr>\n",
       "  </tbody>\n",
       "</table>\n",
       "</div>"
      ],
      "text/plain": [
       "   chart_week  position                 song_id\n",
       "0  2020-01-02         1  1rgnBhdG2JDFTbYkYRZAku\n",
       "1  2020-01-02         2  696DnlkuDOXcMAnKlTgXXK\n",
       "2  2020-01-02         3  7k4t7uLgtOxPwTpFmtJNTY"
      ]
     },
     "execution_count": 7,
     "metadata": {},
     "output_type": "execute_result"
    }
   ],
   "source": [
    "df4.head(3)"
   ]
  },
  {
   "cell_type": "code",
   "execution_count": 8,
   "metadata": {},
   "outputs": [
    {
     "data": {
      "text/html": [
       "<div>\n",
       "<style scoped>\n",
       "    .dataframe tbody tr th:only-of-type {\n",
       "        vertical-align: middle;\n",
       "    }\n",
       "\n",
       "    .dataframe tbody tr th {\n",
       "        vertical-align: top;\n",
       "    }\n",
       "\n",
       "    .dataframe thead th {\n",
       "        text-align: right;\n",
       "    }\n",
       "</style>\n",
       "<table border=\"1\" class=\"dataframe\">\n",
       "  <thead>\n",
       "    <tr style=\"text-align: right;\">\n",
       "      <th></th>\n",
       "      <th>song_id</th>\n",
       "      <th>song_name</th>\n",
       "      <th>artist_id</th>\n",
       "      <th>...</th>\n",
       "      <th>release_date</th>\n",
       "      <th>chart_week</th>\n",
       "      <th>position</th>\n",
       "    </tr>\n",
       "  </thead>\n",
       "  <tbody>\n",
       "    <tr>\n",
       "      <th>0</th>\n",
       "      <td>2rRJrJEo19S2J82BDsQ3F7</td>\n",
       "      <td>Falling</td>\n",
       "      <td>['7uaIm6Pw7xplS8Dy06V6pT']</td>\n",
       "      <td>...</td>\n",
       "      <td>2020-03-26</td>\n",
       "      <td>2020-03-26</td>\n",
       "      <td>11</td>\n",
       "    </tr>\n",
       "    <tr>\n",
       "      <th>1</th>\n",
       "      <td>2rRJrJEo19S2J82BDsQ3F7</td>\n",
       "      <td>Falling</td>\n",
       "      <td>['7uaIm6Pw7xplS8Dy06V6pT']</td>\n",
       "      <td>...</td>\n",
       "      <td>2020-03-26</td>\n",
       "      <td>2020-04-02</td>\n",
       "      <td>13</td>\n",
       "    </tr>\n",
       "    <tr>\n",
       "      <th>2</th>\n",
       "      <td>2rRJrJEo19S2J82BDsQ3F7</td>\n",
       "      <td>Falling</td>\n",
       "      <td>['7uaIm6Pw7xplS8Dy06V6pT']</td>\n",
       "      <td>...</td>\n",
       "      <td>2020-03-26</td>\n",
       "      <td>2020-04-09</td>\n",
       "      <td>12</td>\n",
       "    </tr>\n",
       "  </tbody>\n",
       "</table>\n",
       "<p>3 rows × 8 columns</p>\n",
       "</div>"
      ],
      "text/plain": [
       "                  song_id song_name                   artist_id  ...  \\\n",
       "0  2rRJrJEo19S2J82BDsQ3F7   Falling  ['7uaIm6Pw7xplS8Dy06V6pT']  ...   \n",
       "1  2rRJrJEo19S2J82BDsQ3F7   Falling  ['7uaIm6Pw7xplS8Dy06V6pT']  ...   \n",
       "2  2rRJrJEo19S2J82BDsQ3F7   Falling  ['7uaIm6Pw7xplS8Dy06V6pT']  ...   \n",
       "\n",
       "  release_date  chart_week position  \n",
       "0   2020-03-26  2020-03-26       11  \n",
       "1   2020-03-26  2020-04-02       13  \n",
       "2   2020-03-26  2020-04-09       12  \n",
       "\n",
       "[3 rows x 8 columns]"
      ]
     },
     "execution_count": 8,
     "metadata": {},
     "output_type": "execute_result"
    }
   ],
   "source": [
    "# Junção um-para-muitos de dois DataFrames\n",
    "df5 = pd.merge(df3, df4, on='song_id') \n",
    "df5.head(3)"
   ]
  },
  {
   "cell_type": "markdown",
   "metadata": {},
   "source": [
    "O resultado da junção é um único *DataFrame* que combina as informações das duas entradas, porém, ao contrário do exemplo anterior, as informações originais (i.e., do *DataFrame* `df3`) se repetem conforme exigido pelas entradas do *DataFrame* `df4`."
   ]
  },
  {
   "cell_type": "markdown",
   "metadata": {},
   "source": [
    "## Junções  muitos-para-muitos (N:N)\n",
    "\n",
    "Na junção muitos-para-muitos, se a coluna-chave das duas tabelas incluir entradas duplicadas, o resultado será uma fusão muitos-para-muitos. Isso ficará talvez mais claro com um exemplo concreto. Considere que queremos criar um relacionamento muitos-para-muitos entre a tabela anterior e uma nova tabela contendo o número total de streams que cada música atingiu nas semanas dos charts. Neste exemplo, a coluna-chave do *DataFrame* resultante será a combinação das colunas-chave de cada tabela. Ao contrário dos exemplos anteriores, neste cenário, as duas tabelas terão duas colunas-chave: `song_id` e `chart_week`. Após a junção muitos-para-muitos, a coluna-chave do *DataFrame* resultante será expressa pela combinação dos valores de `song_id` e `chart_week` das tabelas `df5` e `df6`:"
   ]
  },
  {
   "cell_type": "code",
   "execution_count": 9,
   "metadata": {},
   "outputs": [],
   "source": [
    "# Lendo os dados\n",
    "df6 = pd.read_table('../dataset/spotify_charts_complete.tsv',\n",
    "    usecols=['chart_week', 'song_id', 'streams'], # seleciona campos específicos\n",
    "    encoding='utf-8')"
   ]
  },
  {
   "cell_type": "code",
   "execution_count": 10,
   "metadata": {},
   "outputs": [
    {
     "data": {
      "text/html": [
       "<div>\n",
       "<style scoped>\n",
       "    .dataframe tbody tr th:only-of-type {\n",
       "        vertical-align: middle;\n",
       "    }\n",
       "\n",
       "    .dataframe tbody tr th {\n",
       "        vertical-align: top;\n",
       "    }\n",
       "\n",
       "    .dataframe thead th {\n",
       "        text-align: right;\n",
       "    }\n",
       "</style>\n",
       "<table border=\"1\" class=\"dataframe\">\n",
       "  <thead>\n",
       "    <tr style=\"text-align: right;\">\n",
       "      <th></th>\n",
       "      <th>chart_week</th>\n",
       "      <th>streams</th>\n",
       "      <th>song_id</th>\n",
       "    </tr>\n",
       "  </thead>\n",
       "  <tbody>\n",
       "    <tr>\n",
       "      <th>0</th>\n",
       "      <td>2020-01-02</td>\n",
       "      <td>50183626</td>\n",
       "      <td>1rgnBhdG2JDFTbYkYRZAku</td>\n",
       "    </tr>\n",
       "    <tr>\n",
       "      <th>1</th>\n",
       "      <td>2020-01-02</td>\n",
       "      <td>33254585</td>\n",
       "      <td>696DnlkuDOXcMAnKlTgXXK</td>\n",
       "    </tr>\n",
       "    <tr>\n",
       "      <th>2</th>\n",
       "      <td>2020-01-02</td>\n",
       "      <td>29349573</td>\n",
       "      <td>7k4t7uLgtOxPwTpFmtJNTY</td>\n",
       "    </tr>\n",
       "  </tbody>\n",
       "</table>\n",
       "</div>"
      ],
      "text/plain": [
       "   chart_week   streams                 song_id\n",
       "0  2020-01-02  50183626  1rgnBhdG2JDFTbYkYRZAku\n",
       "1  2020-01-02  33254585  696DnlkuDOXcMAnKlTgXXK\n",
       "2  2020-01-02  29349573  7k4t7uLgtOxPwTpFmtJNTY"
      ]
     },
     "execution_count": 10,
     "metadata": {},
     "output_type": "execute_result"
    }
   ],
   "source": [
    "df6.head(3)"
   ]
  },
  {
   "cell_type": "code",
   "execution_count": 11,
   "metadata": {},
   "outputs": [
    {
     "data": {
      "text/html": [
       "<div>\n",
       "<style scoped>\n",
       "    .dataframe tbody tr th:only-of-type {\n",
       "        vertical-align: middle;\n",
       "    }\n",
       "\n",
       "    .dataframe tbody tr th {\n",
       "        vertical-align: top;\n",
       "    }\n",
       "\n",
       "    .dataframe thead th {\n",
       "        text-align: right;\n",
       "    }\n",
       "</style>\n",
       "<table border=\"1\" class=\"dataframe\">\n",
       "  <thead>\n",
       "    <tr style=\"text-align: right;\">\n",
       "      <th></th>\n",
       "      <th>song_id</th>\n",
       "      <th>song_name</th>\n",
       "      <th>artist_id</th>\n",
       "      <th>...</th>\n",
       "      <th>chart_week</th>\n",
       "      <th>position</th>\n",
       "      <th>streams</th>\n",
       "    </tr>\n",
       "  </thead>\n",
       "  <tbody>\n",
       "    <tr>\n",
       "      <th>0</th>\n",
       "      <td>2rRJrJEo19S2J82BDsQ3F7</td>\n",
       "      <td>Falling</td>\n",
       "      <td>['7uaIm6Pw7xplS8Dy06V6pT']</td>\n",
       "      <td>...</td>\n",
       "      <td>2020-03-26</td>\n",
       "      <td>11</td>\n",
       "      <td>21964590</td>\n",
       "    </tr>\n",
       "    <tr>\n",
       "      <th>1</th>\n",
       "      <td>2rRJrJEo19S2J82BDsQ3F7</td>\n",
       "      <td>Falling</td>\n",
       "      <td>['7uaIm6Pw7xplS8Dy06V6pT']</td>\n",
       "      <td>...</td>\n",
       "      <td>2020-04-02</td>\n",
       "      <td>13</td>\n",
       "      <td>21724066</td>\n",
       "    </tr>\n",
       "    <tr>\n",
       "      <th>2</th>\n",
       "      <td>2rRJrJEo19S2J82BDsQ3F7</td>\n",
       "      <td>Falling</td>\n",
       "      <td>['7uaIm6Pw7xplS8Dy06V6pT']</td>\n",
       "      <td>...</td>\n",
       "      <td>2020-04-09</td>\n",
       "      <td>12</td>\n",
       "      <td>21126685</td>\n",
       "    </tr>\n",
       "  </tbody>\n",
       "</table>\n",
       "<p>3 rows × 9 columns</p>\n",
       "</div>"
      ],
      "text/plain": [
       "                  song_id song_name                   artist_id  ...  \\\n",
       "0  2rRJrJEo19S2J82BDsQ3F7   Falling  ['7uaIm6Pw7xplS8Dy06V6pT']  ...   \n",
       "1  2rRJrJEo19S2J82BDsQ3F7   Falling  ['7uaIm6Pw7xplS8Dy06V6pT']  ...   \n",
       "2  2rRJrJEo19S2J82BDsQ3F7   Falling  ['7uaIm6Pw7xplS8Dy06V6pT']  ...   \n",
       "\n",
       "   chart_week  position   streams  \n",
       "0  2020-03-26        11  21964590  \n",
       "1  2020-04-02        13  21724066  \n",
       "2  2020-04-09        12  21126685  \n",
       "\n",
       "[3 rows x 9 columns]"
      ]
     },
     "execution_count": 11,
     "metadata": {},
     "output_type": "execute_result"
    }
   ],
   "source": [
    "# Junção muitos-para-muitos de dois DataFrames\n",
    "df7 = pd.merge(df5, df6, on=['song_id', 'chart_week'])\n",
    "df7.head(3)"
   ]
  },
  {
   "cell_type": "markdown",
   "metadata": {},
   "source": [
    "## Conclusão\n",
    "\n",
    "Este notebook apresentou como fazer a integração de dados de diferentes fontes.\n",
    "\n",
    "O próximo notebook ([3.3.Transformacao.ipynb](3.3.Transformacao.ipynb)) apresenta como transformar dados de diferentes formatos em um formato suportado pelo processo de pesquisa."
   ]
  }
 ],
 "metadata": {
  "julynter-results": {
   "filteredId": [],
   "filteredIndividual": [],
   "filteredRestart": [],
   "filteredType": [],
   "hash": "54ddb368d9f7cf46f2f0eb7e1cec7b2db4667dd4",
   "visible": []
  },
  "kernelspec": {
   "display_name": "Python 3",
   "language": "python",
   "name": "python3"
  },
  "language_info": {
   "codemirror_mode": {
    "name": "ipython",
    "version": 3
   },
   "file_extension": ".py",
   "mimetype": "text/x-python",
   "name": "python",
   "nbconvert_exporter": "python",
   "pygments_lexer": "ipython3",
   "version": "3.8.5"
  },
  "latex_envs": {
   "LaTeX_envs_menu_present": true,
   "autoclose": true,
   "autocomplete": true,
   "bibliofile": "biblio.bib",
   "cite_by": "apalike",
   "current_citInitial": 1,
   "eqLabelWithNumbers": true,
   "eqNumInitial": 1,
   "hotkeys": {
    "equation": "Ctrl-E",
    "itemize": "Ctrl-I"
   },
   "labels_anchors": false,
   "latex_user_defs": false,
   "report_style_numbering": false,
   "user_envs_cfg": false
  },
  "varInspector": {
   "cols": {
    "lenName": 16,
    "lenType": 16,
    "lenVar": 40
   },
   "kernels_config": {
    "python": {
     "delete_cmd_postfix": "",
     "delete_cmd_prefix": "del ",
     "library": "var_list.py",
     "varRefreshCmd": "print(var_dic_list())"
    },
    "r": {
     "delete_cmd_postfix": ") ",
     "delete_cmd_prefix": "rm(",
     "library": "var_list.r",
     "varRefreshCmd": "cat(var_dic_list()) "
    }
   },
   "types_to_exclude": [
    "module",
    "function",
    "builtin_function_or_method",
    "instance",
    "_Feature"
   ],
   "window_display": false
  }
 },
 "nbformat": 4,
 "nbformat_minor": 4
}
