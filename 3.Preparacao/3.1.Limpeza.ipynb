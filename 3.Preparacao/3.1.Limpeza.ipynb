{
 "cells": [
  {
   "cell_type": "markdown",
   "metadata": {},
   "source": [
    "# Limpeza de Dados\n",
    "\n",
    "A limpeza de dados é o processo de detecção e correção de registros incorretos ou corrompidos em um conjunto de dados. Refere-se à identificação e, em seguida, a substituição, modificação ou exclusão de partes incompletas, imprecisas ou irrelevantes. Em geral, a limpeza de dados leva a uma sequência de tarefas que visam melhorar a qualidade dos dados. Algumas dessas tarefas incluem não só lidar com dados ausentes e duplicados, mas também remover dados ruidosos, inconsistentes e outliers. Esta seção apresenta cada uma dessas tarefas através de uma versão adaptada da tabela \\textit{Artists}, bem como as demais tabelas do nosso conjunto de dados."
   ]
  },
  {
   "cell_type": "code",
   "execution_count": 1,
   "metadata": {
    "ExecuteTime": {
     "end_time": "2021-04-20T20:07:24.597099Z",
     "start_time": "2021-04-20T20:07:24.220697Z"
    },
    "hide_input": false
   },
   "outputs": [],
   "source": [
    "# Importando os pacotes necessários\n",
    "import pandas as pd\n",
    "import numpy as np\n",
    "from scipy import stats\n",
    "\n",
    "from fuzzywuzzy import fuzz\n",
    "from itertools import combinations\n",
    "\n",
    "pd.set_option('display.max_columns', 5)"
   ]
  },
  {
   "cell_type": "code",
   "execution_count": 2,
   "metadata": {
    "ExecuteTime": {
     "end_time": "2021-04-20T20:07:25.366638Z",
     "start_time": "2021-04-20T20:07:25.331640Z"
    }
   },
   "outputs": [
    {
     "data": {
      "text/html": [
       "<div>\n",
       "<style scoped>\n",
       "    .dataframe tbody tr th:only-of-type {\n",
       "        vertical-align: middle;\n",
       "    }\n",
       "\n",
       "    .dataframe tbody tr th {\n",
       "        vertical-align: top;\n",
       "    }\n",
       "\n",
       "    .dataframe thead th {\n",
       "        text-align: right;\n",
       "    }\n",
       "</style>\n",
       "<table border=\"1\" class=\"dataframe\">\n",
       "  <thead>\n",
       "    <tr style=\"text-align: right;\">\n",
       "      <th></th>\n",
       "      <th>artist_id</th>\n",
       "      <th>name</th>\n",
       "      <th>...</th>\n",
       "      <th>genres</th>\n",
       "      <th>image_url</th>\n",
       "    </tr>\n",
       "  </thead>\n",
       "  <tbody>\n",
       "    <tr>\n",
       "      <th>0</th>\n",
       "      <td>4gzpq5DPGxSnKTe4SA8HAU</td>\n",
       "      <td>Coldplay</td>\n",
       "      <td>...</td>\n",
       "      <td>['permanent wave', 'pop']</td>\n",
       "      <td>https://i.scdn.co/image/4ffd6710617d289699cc0d...</td>\n",
       "    </tr>\n",
       "    <tr>\n",
       "      <th>1</th>\n",
       "      <td>6Te49r3A6f5BiIgBRxH7FH</td>\n",
       "      <td>Ninho</td>\n",
       "      <td>...</td>\n",
       "      <td>['french hip hop', 'pop urbaine']</td>\n",
       "      <td>https://i.scdn.co/image/ab67616d0000b2733f12b1...</td>\n",
       "    </tr>\n",
       "    <tr>\n",
       "      <th>2</th>\n",
       "      <td>4QrBoWLm2WNlPdbFhmlaUZ</td>\n",
       "      <td>KEVVO</td>\n",
       "      <td>...</td>\n",
       "      <td>['perreo', 'reggaeton', 'reggaeton flow', 'tra...</td>\n",
       "      <td>https://i.scdn.co/image/9a75b11e5080f576bdff76...</td>\n",
       "    </tr>\n",
       "    <tr>\n",
       "      <th>3</th>\n",
       "      <td>1McMsnEElThX1knmY4oliG</td>\n",
       "      <td>Olivia Rodrigo</td>\n",
       "      <td>...</td>\n",
       "      <td>['alt z', 'pop', 'post-teen pop']</td>\n",
       "      <td>https://i.scdn.co/image/5fb1f691c5d3cdbc54e193...</td>\n",
       "    </tr>\n",
       "    <tr>\n",
       "      <th>4</th>\n",
       "      <td>6KImCVD70vtIoJWnq6nGn3</td>\n",
       "      <td>Harry Styles</td>\n",
       "      <td>...</td>\n",
       "      <td>['pop', 'post-teen pop']</td>\n",
       "      <td>https://i.scdn.co/image/b2163e7456f3d618a0e2a4...</td>\n",
       "    </tr>\n",
       "    <tr>\n",
       "      <th>5</th>\n",
       "      <td>6TOKWuw816UU34AE4MCZqr</td>\n",
       "      <td>Beltito</td>\n",
       "      <td>...</td>\n",
       "      <td>NaN</td>\n",
       "      <td>NaN</td>\n",
       "    </tr>\n",
       "    <tr>\n",
       "      <th>6</th>\n",
       "      <td>7F2utINZ6tSokSiZTQBE27</td>\n",
       "      <td>Guè Pequeno</td>\n",
       "      <td>...</td>\n",
       "      <td>['italian hip hop', 'italian pop']</td>\n",
       "      <td>https://i.scdn.co/image/8c0ddb6022be1bbb4795cb...</td>\n",
       "    </tr>\n",
       "    <tr>\n",
       "      <th>7</th>\n",
       "      <td>2kCcBybjl3SAtIcwdWpUe3</td>\n",
       "      <td>Lil Peep</td>\n",
       "      <td>...</td>\n",
       "      <td>['emo rap', 'lgbtq+ hip hop']</td>\n",
       "      <td>https://i.scdn.co/image/06404029eb0ce3b6f3b9bc...</td>\n",
       "    </tr>\n",
       "    <tr>\n",
       "      <th>8</th>\n",
       "      <td>7b79bQFziJFedJb75k6hFt</td>\n",
       "      <td>Tion Wayne</td>\n",
       "      <td>...</td>\n",
       "      <td>['london rap', 'uk hip hop']</td>\n",
       "      <td>https://i.scdn.co/image/cd5bce94c304c5cd608eda...</td>\n",
       "    </tr>\n",
       "    <tr>\n",
       "      <th>9</th>\n",
       "      <td>2UZIAOlrnyZmyzt1nuXr9y</td>\n",
       "      <td>Nicki Nicole</td>\n",
       "      <td>...</td>\n",
       "      <td>['argentine hip hop', 'r&amp;b argentino', 'trap a...</td>\n",
       "      <td>https://i.scdn.co/image/a5f4ce02d179a6f41fc430...</td>\n",
       "    </tr>\n",
       "  </tbody>\n",
       "</table>\n",
       "<p>10 rows × 6 columns</p>\n",
       "</div>"
      ],
      "text/plain": [
       "                artist_id            name  ...  \\\n",
       "0  4gzpq5DPGxSnKTe4SA8HAU        Coldplay  ...   \n",
       "1  6Te49r3A6f5BiIgBRxH7FH           Ninho  ...   \n",
       "2  4QrBoWLm2WNlPdbFhmlaUZ           KEVVO  ...   \n",
       "3  1McMsnEElThX1knmY4oliG  Olivia Rodrigo  ...   \n",
       "4  6KImCVD70vtIoJWnq6nGn3    Harry Styles  ...   \n",
       "5  6TOKWuw816UU34AE4MCZqr         Beltito  ...   \n",
       "6  7F2utINZ6tSokSiZTQBE27     Guè Pequeno  ...   \n",
       "7  2kCcBybjl3SAtIcwdWpUe3        Lil Peep  ...   \n",
       "8  7b79bQFziJFedJb75k6hFt      Tion Wayne  ...   \n",
       "9  2UZIAOlrnyZmyzt1nuXr9y    Nicki Nicole  ...   \n",
       "\n",
       "                                              genres  \\\n",
       "0                          ['permanent wave', 'pop']   \n",
       "1                  ['french hip hop', 'pop urbaine']   \n",
       "2  ['perreo', 'reggaeton', 'reggaeton flow', 'tra...   \n",
       "3                  ['alt z', 'pop', 'post-teen pop']   \n",
       "4                           ['pop', 'post-teen pop']   \n",
       "5                                                NaN   \n",
       "6                 ['italian hip hop', 'italian pop']   \n",
       "7                      ['emo rap', 'lgbtq+ hip hop']   \n",
       "8                       ['london rap', 'uk hip hop']   \n",
       "9  ['argentine hip hop', 'r&b argentino', 'trap a...   \n",
       "\n",
       "                                           image_url  \n",
       "0  https://i.scdn.co/image/4ffd6710617d289699cc0d...  \n",
       "1  https://i.scdn.co/image/ab67616d0000b2733f12b1...  \n",
       "2  https://i.scdn.co/image/9a75b11e5080f576bdff76...  \n",
       "3  https://i.scdn.co/image/5fb1f691c5d3cdbc54e193...  \n",
       "4  https://i.scdn.co/image/b2163e7456f3d618a0e2a4...  \n",
       "5                                                NaN  \n",
       "6  https://i.scdn.co/image/8c0ddb6022be1bbb4795cb...  \n",
       "7  https://i.scdn.co/image/06404029eb0ce3b6f3b9bc...  \n",
       "8  https://i.scdn.co/image/cd5bce94c304c5cd608eda...  \n",
       "9  https://i.scdn.co/image/a5f4ce02d179a6f41fc430...  \n",
       "\n",
       "[10 rows x 6 columns]"
      ]
     },
     "execution_count": 2,
     "metadata": {},
     "output_type": "execute_result"
    }
   ],
   "source": [
    "# Lendo os dados\n",
    "df = pd.read_csv('../dataset/spotify_artists_info_edited.csv', sep='\\t', encoding='utf-8')\n",
    "df.head(10)"
   ]
  },
  {
   "cell_type": "markdown",
   "metadata": {},
   "source": [
    "## Dados ausentes \n",
    "\n",
    "Representam um obstáculo para a criação da maioria dos modelos de Aprendizado de Máquina e outras análises. Portanto, é necessário identificar campos para os quais não há dados e, em seguida, compensá-los adequadamente. Dados ausentes podem ocorrer quando nenhuma informação é fornecida para um ou mais registros (ou atributos inteiros) da base de dados. Em um \\textit{Pandas DataFrame}, os dados ausentes são representados como `None` ou `NaN` (\\textit{Not a Number}), embora `NaN` seja o marcador de valor ausente padrão por razões de velocidade e conveniência computacional. \n",
    "\n",
    "Após importar pacotes necessários e carregar o conjunto de dados, inicia-se o processo de limpeza de dados. Para facilitar a detecção, o \\textit{Pandas} fornece a função `isna()` para identificar valores ausentes em um \\textit{DataFrame}. A função retorna uma matriz \\textit{booleana} indicando se cada elemento correspondente está faltando (`True`) ou não (`False`):"
   ]
  },
  {
   "cell_type": "code",
   "execution_count": 3,
   "metadata": {},
   "outputs": [
    {
     "data": {
      "text/html": [
       "<div>\n",
       "<style scoped>\n",
       "    .dataframe tbody tr th:only-of-type {\n",
       "        vertical-align: middle;\n",
       "    }\n",
       "\n",
       "    .dataframe tbody tr th {\n",
       "        vertical-align: top;\n",
       "    }\n",
       "\n",
       "    .dataframe thead th {\n",
       "        text-align: right;\n",
       "    }\n",
       "</style>\n",
       "<table border=\"1\" class=\"dataframe\">\n",
       "  <thead>\n",
       "    <tr style=\"text-align: right;\">\n",
       "      <th></th>\n",
       "      <th>artist_id</th>\n",
       "      <th>name</th>\n",
       "      <th>...</th>\n",
       "      <th>genres</th>\n",
       "      <th>image_url</th>\n",
       "    </tr>\n",
       "  </thead>\n",
       "  <tbody>\n",
       "    <tr>\n",
       "      <th>0</th>\n",
       "      <td>False</td>\n",
       "      <td>False</td>\n",
       "      <td>...</td>\n",
       "      <td>False</td>\n",
       "      <td>False</td>\n",
       "    </tr>\n",
       "    <tr>\n",
       "      <th>1</th>\n",
       "      <td>False</td>\n",
       "      <td>False</td>\n",
       "      <td>...</td>\n",
       "      <td>False</td>\n",
       "      <td>False</td>\n",
       "    </tr>\n",
       "    <tr>\n",
       "      <th>2</th>\n",
       "      <td>False</td>\n",
       "      <td>False</td>\n",
       "      <td>...</td>\n",
       "      <td>False</td>\n",
       "      <td>False</td>\n",
       "    </tr>\n",
       "  </tbody>\n",
       "</table>\n",
       "<p>3 rows × 6 columns</p>\n",
       "</div>"
      ],
      "text/plain": [
       "   artist_id   name  ...  genres  image_url\n",
       "0      False  False  ...   False      False\n",
       "1      False  False  ...   False      False\n",
       "2      False  False  ...   False      False\n",
       "\n",
       "[3 rows x 6 columns]"
      ]
     },
     "execution_count": 3,
     "metadata": {},
     "output_type": "execute_result"
    }
   ],
   "source": [
    "# Esta célula identifica valores ausentes no Dataframe\n",
    "# e exibe as três primeiras linhas\n",
    "pd.set_option('display.max_columns', 5)\n",
    "df.isna().head(3)"
   ]
  },
  {
   "cell_type": "markdown",
   "metadata": {},
   "source": [
    "De acordo com o exemplo anterior, o conjunto de dados está aparentemente completo. Porém, tal resposta não é suficiente para descartar a hipótese de que existem dados ausentes. Para uma melhor averiguação, pode-se resumir cada coluna no \\textit{DataFrame} \\textit{booleano} somando os valores `False=0` e `True=1`. Tal processo retorna  o número de valores ausentes no \\textit{DataFrame}. Também pode-se dividir cada valor pelo número total de linhas, resultando na porcentagem de tais ausências, conforme o exemplo a seguir."
   ]
  },
  {
   "cell_type": "code",
   "execution_count": 4,
   "metadata": {
    "ExecuteTime": {
     "end_time": "2021-04-20T20:09:52.004424Z",
     "start_time": "2021-04-20T20:09:51.979435Z"
    },
    "cell_style": "center"
   },
   "outputs": [
    {
     "data": {
      "text/html": [
       "<div>\n",
       "<style scoped>\n",
       "    .dataframe tbody tr th:only-of-type {\n",
       "        vertical-align: middle;\n",
       "    }\n",
       "\n",
       "    .dataframe tbody tr th {\n",
       "        vertical-align: top;\n",
       "    }\n",
       "\n",
       "    .dataframe thead th {\n",
       "        text-align: right;\n",
       "    }\n",
       "</style>\n",
       "<table border=\"1\" class=\"dataframe\">\n",
       "  <thead>\n",
       "    <tr style=\"text-align: right;\">\n",
       "      <th></th>\n",
       "      <th>Coluna</th>\n",
       "      <th>Dados ausentes</th>\n",
       "      <th>Porcentagem</th>\n",
       "    </tr>\n",
       "  </thead>\n",
       "  <tbody>\n",
       "    <tr>\n",
       "      <th>artist_id</th>\n",
       "      <td>artist_id</td>\n",
       "      <td>0</td>\n",
       "      <td>0.00</td>\n",
       "    </tr>\n",
       "    <tr>\n",
       "      <th>name</th>\n",
       "      <td>name</td>\n",
       "      <td>0</td>\n",
       "      <td>0.00</td>\n",
       "    </tr>\n",
       "    <tr>\n",
       "      <th>followers</th>\n",
       "      <td>followers</td>\n",
       "      <td>0</td>\n",
       "      <td>0.00</td>\n",
       "    </tr>\n",
       "    <tr>\n",
       "      <th>popularity</th>\n",
       "      <td>popularity</td>\n",
       "      <td>62</td>\n",
       "      <td>9.92</td>\n",
       "    </tr>\n",
       "    <tr>\n",
       "      <th>genres</th>\n",
       "      <td>genres</td>\n",
       "      <td>40</td>\n",
       "      <td>6.40</td>\n",
       "    </tr>\n",
       "    <tr>\n",
       "      <th>image_url</th>\n",
       "      <td>image_url</td>\n",
       "      <td>10</td>\n",
       "      <td>1.60</td>\n",
       "    </tr>\n",
       "  </tbody>\n",
       "</table>\n",
       "</div>"
      ],
      "text/plain": [
       "                Coluna  Dados ausentes  Porcentagem\n",
       "artist_id    artist_id               0         0.00\n",
       "name              name               0         0.00\n",
       "followers    followers               0         0.00\n",
       "popularity  popularity              62         9.92\n",
       "genres          genres              40         6.40\n",
       "image_url    image_url              10         1.60"
      ]
     },
     "execution_count": 4,
     "metadata": {},
     "output_type": "execute_result"
    }
   ],
   "source": [
    "# Calcula o total e a % de valores ausentes\n",
    "num_ausentes = df.isna().sum() \n",
    "porc_ausentes = df.isna().sum() * 100 / len(df)\n",
    "# DataFrame com as informações computadas acima\n",
    "df_ausentes = pd.DataFrame({\n",
    "    'Coluna': df.columns,\n",
    "    'Dados ausentes': num_ausentes,\n",
    "    'Porcentagem': porc_ausentes\n",
    "})\n",
    "df_ausentes"
   ]
  },
  {
   "cell_type": "markdown",
   "metadata": {},
   "source": [
    "O \\textit{DataFrame} resultante contém 62 popularidades, 40 listas de gêneros e dez url de imagens ausentes, resultando em 9,9%, 6,4% e 1,6% de registros de cada coluna, respectivamente. Após essa identificação, é necessário tratar esses dados. A abordagem mais simples é eliminar todos os registros que contenham valores ausentes. No \\textit{Pandas}, o método `dropna()` permite analisar e descartar linhas/colunas com valores nulos. O parâmetro `axis` determina a dimensão em que a função atuará: `axis = 0` remove todas as \\textbf{linhas} que contêm valores nulos, e `axis = 1` remove \\textbf{colunas}, conforme o seguinte exemplo."
   ]
  },
  {
   "cell_type": "code",
   "execution_count": 5,
   "metadata": {
    "cell_style": "center"
   },
   "outputs": [
    {
     "name": "stdout",
     "output_type": "stream",
     "text": [
      "Nº de linhas do DF original: 625\n",
      "Nº de linhas do DF novo: 529\n",
      "Nº de linhas com pelo menos 1 valor ausente: 96\n"
     ]
    }
   ],
   "source": [
    "# Elimina linhas com valores ausentes\n",
    "novo_df = df.dropna(axis=0)\n",
    "print(f\"\"\"\\\n",
    "Nº de linhas do DF original: {len(df)}\n",
    "Nº de linhas do DF novo: {len(novo_df)}\n",
    "Nº de linhas com pelo menos 1 valor ausente: {\n",
    "(len(df) - len(novo_df))}\"\"\")"
   ]
  },
  {
   "cell_type": "code",
   "execution_count": 6,
   "metadata": {
    "cell_style": "center"
   },
   "outputs": [
    {
     "name": "stdout",
     "output_type": "stream",
     "text": [
      "Nº de colunas do DF original: 6\n",
      "Nº de colunas do DF novo: 3\n",
      "Nº de colunas com pelo menos 1 valor ausente: 3\n"
     ]
    }
   ],
   "source": [
    "# Eliminando colunas com valores ausentes\n",
    "novo_df = df.dropna(axis=1)\n",
    "print(f\"\"\"\\\n",
    "Nº de colunas do DF original: {len(df.columns)}\n",
    "Nº de colunas do DF novo: {len(novo_df.columns)}\n",
    "Nº de colunas com pelo menos 1 valor ausente: {\n",
    "(len(df.columns) - len(novo_df.columns))}\"\"\")"
   ]
  },
  {
   "cell_type": "markdown",
   "metadata": {},
   "source": [
    "O código dos exemplos anteriores removeram as linhas/colunas onde pelo menos um elemento está faltando. Ambas abordagens são particularmente vantajosas para amostras de grande volume de dados, onde os valores podem ser descartados sem distorcer significativamente a interpretação. Em geral, a estratégia de exclusão é utilizada quando o problema de falta de dados ocorre na maioria das linhas ou colunas do conjunto de dados. No entanto, apesar de ser uma solução simples, ela ainda apresenta o risco de perder dados potencialmente úteis."
   ]
  },
  {
   "cell_type": "markdown",
   "metadata": {},
   "source": [
    "Uma alternativa mais confiável para lidar com dados ausentes é a imputação. Em vez de descartar tais dados, a imputação procura substituir seus valores por outros. Nessa abordagem, os valores ausentes são inferidos a partir dos dados  existentes. Existem várias maneiras de imputar os dados, sendo a imputação por valor constante ou por estatísticas básicas (média, mediana ou moda) as mais simples, como o exemplo a seguir."
   ]
  },
  {
   "cell_type": "code",
   "execution_count": 7,
   "metadata": {},
   "outputs": [
    {
     "data": {
      "text/html": [
       "<div>\n",
       "<style scoped>\n",
       "    .dataframe tbody tr th:only-of-type {\n",
       "        vertical-align: middle;\n",
       "    }\n",
       "\n",
       "    .dataframe tbody tr th {\n",
       "        vertical-align: top;\n",
       "    }\n",
       "\n",
       "    .dataframe thead th {\n",
       "        text-align: right;\n",
       "    }\n",
       "</style>\n",
       "<table border=\"1\" class=\"dataframe\">\n",
       "  <thead>\n",
       "    <tr style=\"text-align: right;\">\n",
       "      <th></th>\n",
       "      <th>artist_id</th>\n",
       "      <th>name</th>\n",
       "      <th>...</th>\n",
       "      <th>genres</th>\n",
       "      <th>image_url</th>\n",
       "    </tr>\n",
       "  </thead>\n",
       "  <tbody>\n",
       "    <tr>\n",
       "      <th>535</th>\n",
       "      <td>3SYnDj7btg9gFY7ps8m5d5</td>\n",
       "      <td>RANI</td>\n",
       "      <td>...</td>\n",
       "      <td>['uk pop']</td>\n",
       "      <td>https://i.scdn.co/image/4ec63484b11c4ca237b480...</td>\n",
       "    </tr>\n",
       "    <tr>\n",
       "      <th>367</th>\n",
       "      <td>3oSJ7TBVCWMDMiYjXNiCKE</td>\n",
       "      <td>Kane Brown</td>\n",
       "      <td>...</td>\n",
       "      <td>['contemporary country', 'country road']</td>\n",
       "      <td>https://i.scdn.co/image/c1c4dca1973a866b372b64...</td>\n",
       "    </tr>\n",
       "  </tbody>\n",
       "</table>\n",
       "<p>2 rows × 6 columns</p>\n",
       "</div>"
      ],
      "text/plain": [
       "                  artist_id        name  ...  \\\n",
       "535  3SYnDj7btg9gFY7ps8m5d5        RANI  ...   \n",
       "367  3oSJ7TBVCWMDMiYjXNiCKE  Kane Brown  ...   \n",
       "\n",
       "                                       genres  \\\n",
       "535                                ['uk pop']   \n",
       "367  ['contemporary country', 'country road']   \n",
       "\n",
       "                                             image_url  \n",
       "535  https://i.scdn.co/image/4ec63484b11c4ca237b480...  \n",
       "367  https://i.scdn.co/image/c1c4dca1973a866b372b64...  \n",
       "\n",
       "[2 rows x 6 columns]"
      ]
     },
     "execution_count": 7,
     "metadata": {},
     "output_type": "execute_result"
    }
   ],
   "source": [
    "# Substituindo NaNs pela média de valores presentes\n",
    "copia_df = df.copy()\n",
    "copia_df['popularity'].fillna(copia_df['popularity'].mean(), inplace=True)\n",
    "copia_df.sample(2)"
   ]
  },
  {
   "cell_type": "markdown",
   "metadata": {},
   "source": [
    "Além de técnicas simples, existem várias técnicas de imputação avançadas cuja escolha depende da utilização dos dados, por exemplo, depende de um modelo de aprendizado de máquina para inserir e avaliar com precisão os dados ausentes. A imputação múltipla e modelos preditivos podem ser mais precisos, e assim são mais comuns do que métodos mais simples. No entanto, não existe uma maneira ideal de compensar os valores ausentes, pois cada estratégia pode ter um desempenho melhor ou pior dependendo do conjunto de dado e dos tipos de dados ausentes. "
   ]
  },
  {
   "cell_type": "markdown",
   "metadata": {},
   "source": [
    "## Dados ruidosos\n",
    "\n",
    "São dados que fornecem informações adicionais mas sem sentido, chamadas de ruído. Geralmente são gerados por alguma falha na coleta de dados, erros de entrada de dados, entre outros. Dados com ruído podem prejudicar resultados de análises e de modelos, como os de aprendizado de máquina, por exemplo. Tal problema pode ser solucionado a partir de diferentes abordagens, incluindo o método de Binning, Regressão e \\textit{Clustering}. \n",
    "\n",
    "Aqui, o foco é o método de Binning, uma técnica de suavização de dados  para reduzir os efeitos de pequenos erros de observação. Os dados originais são divididos em segmentos de tamanhos iguais (\\textit{bins}) e, em seguida, são substituídos por um valor geral calculado para cada intervalo. Cada segmento é tratado separadamente, onde a substituição de valores pode ser realizada através de valores médios ou limites. No \\textit{Pandas}, o método Binning usa as funções `cut()` e `qcut()`, que parecem iguais mas são diferentes."
   ]
  },
  {
   "cell_type": "markdown",
   "metadata": {},
   "source": [
    "### `qcut`\n",
    "\n",
    "De acordo com a documentação, `qcut()` é uma função de discretização baseada em quantis: ela procura dividir os dados em \\textit{bins} usando percentis com base na distribuição da amostra. A maneira mais simples de usá-la é definir o número de quantis e deixar que o \\textit{Pandas} descubra como dividir os dados. O exemplo a seguir discretiza a variável \\textit{followers} de duas maneiras diferentes: criando cinco \\textit{bins} de mesmo tamanho, e configurando três quantis rotulados como \"alto\", \"médio\" e \"baixo\"."
   ]
  },
  {
   "cell_type": "code",
   "execution_count": 8,
   "metadata": {
    "cell_style": "center"
   },
   "outputs": [
    {
     "data": {
      "text/html": [
       "<div>\n",
       "<style scoped>\n",
       "    .dataframe tbody tr th:only-of-type {\n",
       "        vertical-align: middle;\n",
       "    }\n",
       "\n",
       "    .dataframe tbody tr th {\n",
       "        vertical-align: top;\n",
       "    }\n",
       "\n",
       "    .dataframe thead th {\n",
       "        text-align: right;\n",
       "    }\n",
       "</style>\n",
       "<table border=\"1\" class=\"dataframe\">\n",
       "  <thead>\n",
       "    <tr style=\"text-align: right;\">\n",
       "      <th></th>\n",
       "      <th>artist_id</th>\n",
       "      <th>name</th>\n",
       "      <th>...</th>\n",
       "      <th>qcut_1</th>\n",
       "      <th>qcut_2</th>\n",
       "    </tr>\n",
       "  </thead>\n",
       "  <tbody>\n",
       "    <tr>\n",
       "      <th>0</th>\n",
       "      <td>4gzpq5DPGxSnKTe4SA8HAU</td>\n",
       "      <td>Coldplay</td>\n",
       "      <td>...</td>\n",
       "      <td>(6020134.2, 77681514.0]</td>\n",
       "      <td>alto</td>\n",
       "    </tr>\n",
       "    <tr>\n",
       "      <th>1</th>\n",
       "      <td>6Te49r3A6f5BiIgBRxH7FH</td>\n",
       "      <td>Ninho</td>\n",
       "      <td>...</td>\n",
       "      <td>(2373906.0, 6020134.2]</td>\n",
       "      <td>alto</td>\n",
       "    </tr>\n",
       "    <tr>\n",
       "      <th>2</th>\n",
       "      <td>4QrBoWLm2WNlPdbFhmlaUZ</td>\n",
       "      <td>KEVVO</td>\n",
       "      <td>...</td>\n",
       "      <td>(134539.2, 790144.4]</td>\n",
       "      <td>baixo</td>\n",
       "    </tr>\n",
       "  </tbody>\n",
       "</table>\n",
       "<p>3 rows × 8 columns</p>\n",
       "</div>"
      ],
      "text/plain": [
       "                artist_id      name  ...                   qcut_1  qcut_2\n",
       "0  4gzpq5DPGxSnKTe4SA8HAU  Coldplay  ...  (6020134.2, 77681514.0]    alto\n",
       "1  6Te49r3A6f5BiIgBRxH7FH     Ninho  ...   (2373906.0, 6020134.2]    alto\n",
       "2  4QrBoWLm2WNlPdbFhmlaUZ     KEVVO  ...     (134539.2, 790144.4]   baixo\n",
       "\n",
       "[3 rows x 8 columns]"
      ]
     },
     "execution_count": 8,
     "metadata": {},
     "output_type": "execute_result"
    }
   ],
   "source": [
    "# Discretizando:\n",
    "# ... em 5 intervalos de tamanhos iguais\n",
    "df['qcut_1'] = pd.qcut(df['followers'], q=5)\n",
    "# ... usando três quantis\n",
    "df['qcut_2'] = pd.qcut(df['followers'],  \n",
    "    q=[0, .3, .7, 1], \n",
    "    labels=[\"baixo\", \"médio\", \"alto\"])\n",
    "df.head(3)"
   ]
  },
  {
   "cell_type": "markdown",
   "metadata": {},
   "source": [
    "### `cut`\n",
    "\n",
    "Pode-se utilizar a função `cut()` para segmentar e ordenar os dados em \\textit{bins}. Enquanto `qcut()` calcula o tamanho de cada \\textit{bin}, garantindo que a distribuição dos dados nos compartimentos seja igual, a função `cut()` define bordas exatas dos compartimentos. Ou seja, não há garantia sobre a distribuição de itens em cada \\textit{bin}. O exemplo a seguir corta os dados da variável \\textit{followers} em quatro bins de tamanhos iguais."
   ]
  },
  {
   "cell_type": "code",
   "execution_count": 9,
   "metadata": {
    "cell_style": "center",
    "scrolled": true
   },
   "outputs": [
    {
     "data": {
      "text/html": [
       "<div>\n",
       "<style scoped>\n",
       "    .dataframe tbody tr th:only-of-type {\n",
       "        vertical-align: middle;\n",
       "    }\n",
       "\n",
       "    .dataframe tbody tr th {\n",
       "        vertical-align: top;\n",
       "    }\n",
       "\n",
       "    .dataframe thead th {\n",
       "        text-align: right;\n",
       "    }\n",
       "</style>\n",
       "<table border=\"1\" class=\"dataframe\">\n",
       "  <thead>\n",
       "    <tr style=\"text-align: right;\">\n",
       "      <th></th>\n",
       "      <th>artist_id</th>\n",
       "      <th>name</th>\n",
       "      <th>...</th>\n",
       "      <th>qcut_2</th>\n",
       "      <th>cut_1</th>\n",
       "    </tr>\n",
       "  </thead>\n",
       "  <tbody>\n",
       "    <tr>\n",
       "      <th>0</th>\n",
       "      <td>4gzpq5DPGxSnKTe4SA8HAU</td>\n",
       "      <td>Coldplay</td>\n",
       "      <td>...</td>\n",
       "      <td>alto</td>\n",
       "      <td>(19420416.75, 38840782.5]</td>\n",
       "    </tr>\n",
       "    <tr>\n",
       "      <th>1</th>\n",
       "      <td>6Te49r3A6f5BiIgBRxH7FH</td>\n",
       "      <td>Ninho</td>\n",
       "      <td>...</td>\n",
       "      <td>alto</td>\n",
       "      <td>(-77630.463, 19420416.75]</td>\n",
       "    </tr>\n",
       "    <tr>\n",
       "      <th>2</th>\n",
       "      <td>4QrBoWLm2WNlPdbFhmlaUZ</td>\n",
       "      <td>KEVVO</td>\n",
       "      <td>...</td>\n",
       "      <td>baixo</td>\n",
       "      <td>(-77630.463, 19420416.75]</td>\n",
       "    </tr>\n",
       "  </tbody>\n",
       "</table>\n",
       "<p>3 rows × 9 columns</p>\n",
       "</div>"
      ],
      "text/plain": [
       "                artist_id      name  ...  qcut_2                      cut_1\n",
       "0  4gzpq5DPGxSnKTe4SA8HAU  Coldplay  ...    alto  (19420416.75, 38840782.5]\n",
       "1  6Te49r3A6f5BiIgBRxH7FH     Ninho  ...    alto  (-77630.463, 19420416.75]\n",
       "2  4QrBoWLm2WNlPdbFhmlaUZ     KEVVO  ...   baixo  (-77630.463, 19420416.75]\n",
       "\n",
       "[3 rows x 9 columns]"
      ]
     },
     "execution_count": 9,
     "metadata": {},
     "output_type": "execute_result"
    }
   ],
   "source": [
    "# Discretizando em 4 bins\n",
    "df['cut_1'] = pd.cut(\n",
    "    df['followers'],\n",
    "    bins=4)\n",
    "df.head(3)"
   ]
  },
  {
   "cell_type": "markdown",
   "metadata": {},
   "source": [
    "Conforme mostrado a seguir, se você deseja uma distribuição igual dos valores em cada compartimento, use `qcut()`. Caso contrário, se você quiser definir seus próprios intervalos numéricos de categorias, use a função `cut()`."
   ]
  },
  {
   "cell_type": "code",
   "execution_count": 10,
   "metadata": {
    "cell_style": "split"
   },
   "outputs": [
    {
     "data": {
      "text/plain": [
       "(6020134.2, 77681514.0]    125\n",
       "(2373906.0, 6020134.2]     125\n",
       "(790144.4, 2373906.0]      125\n",
       "(134539.2, 790144.4]       125\n",
       "(50.999, 134539.2]         125\n",
       "Name: qcut_1, dtype: int64"
      ]
     },
     "execution_count": 10,
     "metadata": {},
     "output_type": "execute_result"
    }
   ],
   "source": [
    "df['qcut_1'].value_counts()"
   ]
  },
  {
   "cell_type": "code",
   "execution_count": 11,
   "metadata": {
    "cell_style": "split"
   },
   "outputs": [
    {
     "data": {
      "text/plain": [
       "(-77630.463, 19420416.75]    590\n",
       "(19420416.75, 38840782.5]     28\n",
       "(38840782.5, 58261148.25]      5\n",
       "(58261148.25, 77681514.0]      2\n",
       "Name: cut_1, dtype: int64"
      ]
     },
     "execution_count": 11,
     "metadata": {},
     "output_type": "execute_result"
    }
   ],
   "source": [
    "df['cut_1'].value_counts()"
   ]
  },
  {
   "cell_type": "markdown",
   "metadata": {},
   "source": [
    "## Outliers\n",
    "\n",
    "São amostras de dados que são claramente diferentes da tendência central. São geralmente criados por erros de coleta ou entrada de dados, e podem facilmente produzir valores discrepantes interferindo na qualidade de análises. A maneira mais simples de identificar outliers é observar os valores máximos e mínimos em cada variável para ver se eles estão muito fora da curva normal. O exemplo a seguir utiliza a função `describe()` para gerar estatísticas descritivas do conjunto de dados, incluindo os valores máximos e mínimos. "
   ]
  },
  {
   "cell_type": "code",
   "execution_count": 12,
   "metadata": {
    "cell_style": "center"
   },
   "outputs": [
    {
     "data": {
      "text/html": [
       "<div>\n",
       "<style scoped>\n",
       "    .dataframe tbody tr th:only-of-type {\n",
       "        vertical-align: middle;\n",
       "    }\n",
       "\n",
       "    .dataframe tbody tr th {\n",
       "        vertical-align: top;\n",
       "    }\n",
       "\n",
       "    .dataframe thead th {\n",
       "        text-align: right;\n",
       "    }\n",
       "</style>\n",
       "<table border=\"1\" class=\"dataframe\">\n",
       "  <thead>\n",
       "    <tr style=\"text-align: right;\">\n",
       "      <th></th>\n",
       "      <th>count</th>\n",
       "      <th>mean</th>\n",
       "      <th>std</th>\n",
       "      <th>min</th>\n",
       "      <th>25%</th>\n",
       "      <th>50%</th>\n",
       "      <th>75%</th>\n",
       "      <th>max</th>\n",
       "    </tr>\n",
       "  </thead>\n",
       "  <tbody>\n",
       "    <tr>\n",
       "      <th>followers</th>\n",
       "      <td>625.0</td>\n",
       "      <td>4471046.0</td>\n",
       "      <td>8194928.0</td>\n",
       "      <td>51.0</td>\n",
       "      <td>222726.0</td>\n",
       "      <td>1256547.0</td>\n",
       "      <td>4809711.0</td>\n",
       "      <td>77681514.0</td>\n",
       "    </tr>\n",
       "    <tr>\n",
       "      <th>popularity</th>\n",
       "      <td>563.0</td>\n",
       "      <td>78.0</td>\n",
       "      <td>10.0</td>\n",
       "      <td>0.0</td>\n",
       "      <td>72.0</td>\n",
       "      <td>79.0</td>\n",
       "      <td>84.0</td>\n",
       "      <td>100.0</td>\n",
       "    </tr>\n",
       "  </tbody>\n",
       "</table>\n",
       "</div>"
      ],
      "text/plain": [
       "            count       mean        std   min       25%        50%        75%  \\\n",
       "followers   625.0  4471046.0  8194928.0  51.0  222726.0  1256547.0  4809711.0   \n",
       "popularity  563.0       78.0       10.0   0.0      72.0       79.0       84.0   \n",
       "\n",
       "                   max  \n",
       "followers   77681514.0  \n",
       "popularity       100.0  "
      ]
     },
     "execution_count": 12,
     "metadata": {},
     "output_type": "execute_result"
    }
   ],
   "source": [
    "pd.set_option('display.max_columns', 10)\n",
    "\n",
    "df.describe().round().transpose()"
   ]
  },
  {
   "cell_type": "markdown",
   "metadata": {},
   "source": [
    "Para o recurso \\textit{followers}, o valor máximo é 77.7 milhões de seguidores, enquanto o quartil de 75% é apenas 48 milhões. Portanto, artistas com mais de 77 milhões de seguidores podem ser outliers. Essa verificação geral é melhor realizada através da representação gráfica dos dados numéricos por meio de seus quartis. Para isso, pode-se utilizar box plots, onde os valores discrepantes são plotados como pontos individuais. O gráfico do exemplo a seguir mostra a distribuição da variável \\textit{followers}."
   ]
  },
  {
   "cell_type": "code",
   "execution_count": 13,
   "metadata": {
    "cell_style": "center"
   },
   "outputs": [
    {
     "data": {
      "text/plain": [
       "<AxesSubplot:>"
      ]
     },
     "execution_count": 13,
     "metadata": {},
     "output_type": "execute_result"
    },
    {
     "data": {
      "image/png": "[encoded data removed]",
      "text/plain": [
       "<Figure size 1080x216 with 1 Axes>"
      ]
     },
     "metadata": {
      "needs_background": "light"
     },
     "output_type": "display_data"
    }
   ],
   "source": [
    "df.boxplot(column=['followers'], figsize=(15, 3), vert=False)"
   ]
  },
  {
   "cell_type": "markdown",
   "metadata": {},
   "source": [
    "O exemplo ilustra que existem inúmeros pontos individuais (outliers) entre  12 a 78 milhões (aproximadamente). Embora tenha sido fácil detectar tais valores discrepantes, é preciso determinar as soluções adequadas para tratá-los. Assim como no caso de dados ausentes, o tratamento de outliers depende muito do conjunto de dados e do objetivo do projeto. Soluções possíveis incluem manter, ajustar ou apenas remover os dados discrepantes. Uma técnica comum para a remoção de outliers é  o método de Z-score, que considera como outliers e remove valores a uma determinada quantidade de desvios padrões da média. A quantidade desses desvios pode variar conforme o tamanho da amostra. No exemplo a seguir, para identificar e remover os outliers da coluna \\textit{followers}, usou-se os z-scores de seus registros com a quantidade de desvios configurada para três."
   ]
  },
  {
   "cell_type": "code",
   "execution_count": 14,
   "metadata": {
    "cell_style": "center"
   },
   "outputs": [
    {
     "name": "stdout",
     "output_type": "stream",
     "text": [
      "18 foram outliers removidos\n"
     ]
    }
   ],
   "source": [
    "\n",
    "z_scores = stats.zscore(df['followers']) # Z-scores dos valores da coluna 'followers'\n",
    "abs_z_scores = np.abs(z_scores) # Obtendo os valores absolutos\n",
    "novo_df = df[abs_z_scores < 3] # Filtra por desvios padrões < 3\n",
    "print(f'{(len(df) - len(novo_df))} foram outliers removidos')"
   ]
  },
  {
   "cell_type": "markdown",
   "metadata": {},
   "source": [
    "## Dados duplicados\n",
    "\n",
    "Aparecem em muitos contextos, especialmente durante a entrada ou coleta de dados. Por exemplo, ao usar um \\textit{web scraper}, el pode coletar a mesma página web mais de uma vez ou as mesmas informações de duas páginas diferentes. Independente da causa, a duplicação de dados pode levar a conclusões incorretas, onde algumas observações podem ser consideradas mais comuns do que realmente são. O exemplo a seguir mostra quantas linhas estão duplicadas em cada coluna do conjunto de dados."
   ]
  },
  {
   "cell_type": "code",
   "execution_count": 15,
   "metadata": {
    "cell_style": "center"
   },
   "outputs": [
    {
     "name": "stdout",
     "output_type": "stream",
     "text": [
      "Total de linhas duplicadas na artist_id: 0\n",
      "Total de linhas duplicadas na name: 1\n",
      "Total de linhas duplicadas na followers: 0\n",
      "Total de linhas duplicadas na popularity: 569\n",
      "Total de linhas duplicadas na genres: 136\n",
      "Total de linhas duplicadas na image_url: 10\n",
      "Total de linhas duplicadas na qcut_1: 620\n",
      "Total de linhas duplicadas na qcut_2: 622\n",
      "Total de linhas duplicadas na cut_1: 621\n"
     ]
    }
   ],
   "source": [
    "# Para cada coluna,\n",
    "for coluna in df.columns:\n",
    "    # Seleciona linhas duplicadas\n",
    "    duplicatas_df = df[df.duplicated(coluna)]\n",
    "    \n",
    "    print(f\"Total de linhas duplicadas \"\n",
    "          f\"na {coluna}: {len(duplicatas_df)}\")\n"
   ]
  },
  {
   "cell_type": "markdown",
   "metadata": {},
   "source": [
    "Nesse exemplo, apenas duas colunas do  \\textit{DataFrame} não possuem duplicatas: \\textit{artist\\_id} e \\textit{followers}. Além disso, nota-se que existem duas cópias do nome de um mesmo artista. Essa duplicidade de dados é a categoria mais simples de duplicatas: são cópias exatamente iguais de um mesmo registro. Para resolver, basta identificar os valores idênticos e removê-los. O \\textit{Pandas} fornece o método `drop_duplicates()` que retorna um novo \\textit{DataFrame} com linhas duplicadas removidas, como no exemplo a seguir."
   ]
  },
  {
   "cell_type": "code",
   "execution_count": 16,
   "metadata": {},
   "outputs": [
    {
     "name": "stdout",
     "output_type": "stream",
     "text": [
      "Total de linhas duplicadas: 0\n"
     ]
    }
   ],
   "source": [
    "novo_df = df.drop_duplicates() # Remove as linhas duplicadas\n",
    "duplicatas_df = novo_df[novo_df.duplicated()] # calcula o total de linhas duplicadas\n",
    "print(f\"Total de linhas duplicadas: {len(duplicatas_df)}\")"
   ]
  },
  {
   "cell_type": "markdown",
   "metadata": {},
   "source": [
    "Com apenas uma lista de registros com duplicatas, a melhor e mais simples solução é geralmente a remoção. Porém, com dados tabulares, a melhor solução é remover os dados duplicados com base em um conjunto de identificadores exclusivos. Por exemplo, existe a coluna de identificadores únicos dos artistas (\\textit{artist\\_id}), que facilita analisar se o nome duplicado identificado pode ser descartado, conforme o seguinte."
   ]
  },
  {
   "cell_type": "code",
   "execution_count": 17,
   "metadata": {
    "cell_style": "center"
   },
   "outputs": [
    {
     "data": {
      "text/html": [
       "<div>\n",
       "<style scoped>\n",
       "    .dataframe tbody tr th:only-of-type {\n",
       "        vertical-align: middle;\n",
       "    }\n",
       "\n",
       "    .dataframe tbody tr th {\n",
       "        vertical-align: top;\n",
       "    }\n",
       "\n",
       "    .dataframe thead th {\n",
       "        text-align: right;\n",
       "    }\n",
       "</style>\n",
       "<table border=\"1\" class=\"dataframe\">\n",
       "  <thead>\n",
       "    <tr style=\"text-align: right;\">\n",
       "      <th></th>\n",
       "      <th>artist_id</th>\n",
       "      <th>name</th>\n",
       "      <th>...</th>\n",
       "      <th>qcut_2</th>\n",
       "      <th>cut_1</th>\n",
       "    </tr>\n",
       "  </thead>\n",
       "  <tbody>\n",
       "    <tr>\n",
       "      <th>88</th>\n",
       "      <td>30vzHJVtI7JWEKqk40eOdz</td>\n",
       "      <td>Niack</td>\n",
       "      <td>...</td>\n",
       "      <td>baixo</td>\n",
       "      <td>(-77630.463, 19420416.75]</td>\n",
       "    </tr>\n",
       "    <tr>\n",
       "      <th>249</th>\n",
       "      <td>5uYe4bcAXlMP7d4mrOYkML</td>\n",
       "      <td>Niack</td>\n",
       "      <td>...</td>\n",
       "      <td>baixo</td>\n",
       "      <td>(-77630.463, 19420416.75]</td>\n",
       "    </tr>\n",
       "  </tbody>\n",
       "</table>\n",
       "<p>2 rows × 9 columns</p>\n",
       "</div>"
      ],
      "text/plain": [
       "                  artist_id   name  ...  qcut_2                      cut_1\n",
       "88   30vzHJVtI7JWEKqk40eOdz  Niack  ...   baixo  (-77630.463, 19420416.75]\n",
       "249  5uYe4bcAXlMP7d4mrOYkML  Niack  ...   baixo  (-77630.463, 19420416.75]\n",
       "\n",
       "[2 rows x 9 columns]"
      ]
     },
     "execution_count": 17,
     "metadata": {},
     "output_type": "execute_result"
    }
   ],
   "source": [
    "pd.set_option('display.max_columns', 5)\n",
    "# Extrai o nome duplicado\n",
    "nome_duplicado = df[df.duplicated(['name'])].name\n",
    "\n",
    "# Linhas onde 'name' é igual ao nome duplicado\n",
    "df.loc[df['name'].isin(nome_duplicado)]"
   ]
  },
  {
   "cell_type": "markdown",
   "metadata": {},
   "source": [
    "Os resultados mostram dois artistas com o nome \"Niack\", mas com identificadores únicos diferentes. Logo, não se pode descartar uma das supostas cópias. Existem ainda outras formas de duplicação de dados mais complexas, onde mais de um registro é associado à mesma observação, porém seus valores não são completamente idênticos. Por exemplo, nomes próprios com e sem abreviação ou omissão de algum dos sobrenomes. Essa duplicação parcial é bem mais difícil de identificar, pois requer entender se realmente os registros duplicados dizem respeito ao mesmo objeto. Nesses casos, uma solução comum é utilizar funções de similaridade de strings. \n",
    "\n",
    "Uma ferramenta poderosa para esse problema é a biblioteca Python \\textit{FuzzyWuzzy}, que usa a distância de Levenshtein para calcular as diferenças entre duas strings. No exemplo a seguir, nós utilizamos duas funções, `ratio()` e `partial_ratio()`, para encontrar cópias não idênticas de nomes de artistas. O código retorna dois prováveis casos de duplicação parcial. No primeiro, ao pesquisarmos a fundo, descobrimos que os dois nomes identificam duas artistas distintas. Portanto, não podemos remover essas supostas cópias. No entanto, no segundo caso, \"Red Velvet\" denomina o mesmo grupo feminino sul-coreano, porém o nome \"Red Velvet - Irene & Seulgi\" foi cadastrado na plataforma Spotify para representar a primeira subunidade do grupo (composto por Irene e Seulgi)."
   ]
  },
  {
   "cell_type": "code",
   "execution_count": 18,
   "metadata": {},
   "outputs": [
    {
     "name": "stdout",
     "output_type": "stream",
     "text": [
      "The Blessed Madonna (100) | Madonna (54)\n",
      "Red Velvet - IRENE & SEULGI (100) | Red Velvet (54)\n"
     ]
    }
   ],
   "source": [
    "combinacoes = combinations(df.name, 2) # gera todas as combinações\n",
    "for nome_1, nome_2 in list(combinacoes): # para cada tupla de nomes,\n",
    "    partial_ratio = fuzz.partial_ratio(nome_1, nome_2) # similaridade parcial\n",
    "    ratio = fuzz.ratio(nome_1, nome_2) # similaridade simples\n",
    "    \n",
    "    # Se os nomes forem parcialmente iguais, porém não identicos,\n",
    "    if partial_ratio == 100 and ratio < 100 and ratio > 50:\n",
    "        print(f'{nome_1} ({partial_ratio}) | {nome_2} ({ratio})')"
   ]
  },
  {
   "cell_type": "markdown",
   "metadata": {},
   "source": [
    "## Conclusão\n",
    "\n",
    "Este notebook apresentou como fazer a limpeza inicial de dados de dados.\n",
    "\n",
    "O próximo notebook ([3.2.Integracao.ipynb](3.2.Integracao.ipynb)) apresenta como fazer a integração de dados de várias fontes."
   ]
  }
 ],
 "metadata": {
  "julynter-results": {
   "filteredId": [],
   "filteredIndividual": [],
   "filteredRestart": [],
   "filteredType": [],
   "hash": "3e97903641083aa633eee000628a202ffd7c34e3",
   "visible": [
    {
     "cellId": "group",
     "hash": "c0de46ba034d710c2b2406a37ee6816be9634aa0",
     "reason": "This groups other lint messages",
     "reportId": "group",
     "reportType": "hiddenstate",
     "suggestion": null,
     "text": "Hidden State"
    },
    {
     "cellId": 2,
     "hash": "71d2b721a8a21948e50ef4dcebaa8038e9e7b930",
     "reason": "A skip in the execution count might indicate the presence of a hidden state caused by a cell that does not exist anymore. Hidden states might prevent cells from executing or producing the same results, hampering the reproducibility.",
     "reportId": "h4",
     "reportType": "hiddenstate",
     "suggestion": "Please consider re-running the notebook to guarantee the reproducibility.",
     "text": "Cell 2 skips the execution count"
    }
   ]
  },
  "kernelspec": {
   "display_name": "Python 3",
   "language": "python",
   "name": "python3"
  },
  "language_info": {
   "codemirror_mode": {
    "name": "ipython",
    "version": 3
   },
   "file_extension": ".py",
   "mimetype": "text/x-python",
   "name": "python",
   "nbconvert_exporter": "python",
   "pygments_lexer": "ipython3",
   "version": "3.8.8"
  },
  "latex_envs": {
   "LaTeX_envs_menu_present": true,
   "autoclose": true,
   "autocomplete": true,
   "bibliofile": "biblio.bib",
   "cite_by": "apalike",
   "current_citInitial": 1,
   "eqLabelWithNumbers": true,
   "eqNumInitial": 1,
   "hotkeys": {
    "equation": "Ctrl-E",
    "itemize": "Ctrl-I"
   },
   "labels_anchors": false,
   "latex_user_defs": false,
   "report_style_numbering": false,
   "user_envs_cfg": false
  },
  "varInspector": {
   "cols": {
    "lenName": 16,
    "lenType": 16,
    "lenVar": 40
   },
   "kernels_config": {
    "python": {
     "delete_cmd_postfix": "",
     "delete_cmd_prefix": "del ",
     "library": "var_list.py",
     "varRefreshCmd": "print(var_dic_list())"
    },
    "r": {
     "delete_cmd_postfix": ") ",
     "delete_cmd_prefix": "rm(",
     "library": "var_list.r",
     "varRefreshCmd": "cat(var_dic_list()) "
    }
   },
   "types_to_exclude": [
    "module",
    "function",
    "builtin_function_or_method",
    "instance",
    "_Feature"
   ],
   "window_display": false
  }
 },
 "nbformat": 4,
 "nbformat_minor": 4
}
