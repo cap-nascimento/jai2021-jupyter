{
 "cells": [
  {
   "cell_type": "code",
   "execution_count": 1,
   "metadata": {
    "ExecuteTime": {
     "end_time": "2021-07-14T15:59:13.850892Z",
     "start_time": "2021-07-14T15:59:12.561858Z"
    }
   },
   "outputs": [],
   "source": [
    "# Importando os pacotes necessários\n",
    "\n",
    "import pandas as pd\n",
    "from IPython.core.display import display, HTML\n",
    "\n",
    "pd.set_option('display.max_columns', 6)"
   ]
  },
  {
   "cell_type": "code",
   "execution_count": 2,
   "metadata": {
    "ExecuteTime": {
     "end_time": "2021-07-14T15:59:13.879858Z",
     "start_time": "2021-07-14T15:59:13.860881Z"
    }
   },
   "outputs": [],
   "source": [
    "def display_side_by_side(dfs:list, captions:list):\n",
    "    \"\"\"Display tables side by side to save vertical space\n",
    "    Input:\n",
    "        dfs: list of pandas.DataFrame\n",
    "        captions: list of table captions\n",
    "    \"\"\"\n",
    "    output = \"\"\n",
    "    combined = dict(zip(captions, dfs))\n",
    "    for caption, df in combined.items():\n",
    "        output += df.style.set_table_attributes(\"style='display:inline'\").set_caption(caption)._repr_html_()\n",
    "        output += \"\\xa0\\xa0\\xa0\"\n",
    "    display(HTML(output))"
   ]
  },
  {
   "cell_type": "markdown",
   "metadata": {
    "ExecuteTime": {
     "end_time": "2021-07-13T21:13:41.368079Z",
     "start_time": "2021-07-13T21:13:41.352102Z"
    }
   },
   "source": [
    "# Integração de Dados\n",
    "\n",
    "---\n",
    "\n",
    "Até agora, nós realizamos a **limpeza** do nosso conjunto de dados, garantindo a remoção de possíveis impurezas. \n",
    "\n",
    "Agora, a próxima etapa do *Pré-processamento* é **combinar dados** de diferentes fontes para obter uma estrutura unificada com informações mais significativas. De fato, é bastante comum em aplicações da vida real a necessidade de extrair informação a partir de dados de diferentes fontes. \n",
    "\n",
    "Por exemplo, imagine que você precise analisar a popularidade de uma lista de músicas. No entanto, você possui apenas uma tabela separada listando informações básicas de todas as músicas presentes nos *Charts* do Spotify, incluindo o nome e identificador das músicas e de seus artistas. \n",
    "\n",
    "\n",
    "Portanto, para obter as informações de popularidade musical, você decide coletar informações dos *Charts*, onde você obtém uma tabela contendo o score da popularidade e a data de lançamento das músicas. Porém, nesta tabela, a única informação de identificação da música é o seu identificador. Consequentemente, apesar de ter as informações que você precisava, seria difícil dizer qual música você está analisando. \n",
    "\n",
    "\n",
    "\n",
    "> **O QUE FAZER AGORA?**\n",
    "\n",
    "Se quisermos fazer uma análise completa sobre a popularidade das músicas coletadas, precisamos reunir os dados das duas tabelas em um único lugar. \n",
    "\n",
    "#### Esse processo é denominado **Integração de dados**\n"
   ]
  },
  {
   "cell_type": "markdown",
   "metadata": {},
   "source": [
    "## Exemplo\n",
    "\n",
    "Nesta seção, nós iremos **integrar** informações sobre as músicas do nosso conjunto de dados a partir de diferentes tabelas. \n",
    "\n",
    "Através do *pandas*, nós podemos unir múltiplas tabelas utilizando operações de <ins>junção</ins>. \n",
    "\n",
    "\n",
    "Para exemplificar, nós dividimos a tabela `Hits` em dois *DataFrames*, `df1` e `df2`. \n",
    "\n",
    "\n",
    "### `df1`\n",
    "- identificador da música: `song_id`\n",
    "\n",
    "- título da música: `song_name`\n",
    "- identificador do(s) artista(s): `artist_id`\n",
    "- nome do(s) artista(s): `artist_name`\n",
    "\n",
    "### `df2`\n",
    "- identificador da música: `song_id`\n",
    "\n",
    "- popularidade da música: `popularity`\n",
    "- data de lançamento: `release_date`\n",
    "\n",
    "##### OBSERVAÇÃO! Ambas as tabelas possuem a coluna `song_id` para identificar cada uma das músicas.\n"
   ]
  },
  {
   "cell_type": "code",
   "execution_count": 3,
   "metadata": {
    "ExecuteTime": {
     "end_time": "2021-07-14T15:59:15.358858Z",
     "start_time": "2021-07-14T15:59:13.890858Z"
    }
   },
   "outputs": [
    {
     "data": {
      "text/html": [
       "<style  type=\"text/css\" >\n",
       "</style><table id=\"T_7044b889_e4bc_11eb_bbab_94659c29da56\" style='display:inline'><caption>df1</caption><thead>    <tr>        <th class=\"blank level0\" ></th>        <th class=\"col_heading level0 col0\" >song_id</th>        <th class=\"col_heading level0 col1\" >song_name</th>        <th class=\"col_heading level0 col2\" >artist_id</th>        <th class=\"col_heading level0 col3\" >artist_name</th>    </tr></thead><tbody>\n",
       "                <tr>\n",
       "                        <th id=\"T_7044b889_e4bc_11eb_bbab_94659c29da56level0_row0\" class=\"row_heading level0 row0\" >0</th>\n",
       "                        <td id=\"T_7044b889_e4bc_11eb_bbab_94659c29da56row0_col0\" class=\"data row0 col0\" >2rRJrJEo19S2J82BDsQ3F7</td>\n",
       "                        <td id=\"T_7044b889_e4bc_11eb_bbab_94659c29da56row0_col1\" class=\"data row0 col1\" >Falling</td>\n",
       "                        <td id=\"T_7044b889_e4bc_11eb_bbab_94659c29da56row0_col2\" class=\"data row0 col2\" >['7uaIm6Pw7xplS8Dy06V6pT']</td>\n",
       "                        <td id=\"T_7044b889_e4bc_11eb_bbab_94659c29da56row0_col3\" class=\"data row0 col3\" >['Trevor Daniel']</td>\n",
       "            </tr>\n",
       "            <tr>\n",
       "                        <th id=\"T_7044b889_e4bc_11eb_bbab_94659c29da56level0_row1\" class=\"row_heading level0 row1\" >1</th>\n",
       "                        <td id=\"T_7044b889_e4bc_11eb_bbab_94659c29da56row1_col0\" class=\"data row1 col0\" >3BYIzNZ3t9lRQCACXSMLrT</td>\n",
       "                        <td id=\"T_7044b889_e4bc_11eb_bbab_94659c29da56row1_col1\" class=\"data row1 col1\" >Venetia</td>\n",
       "                        <td id=\"T_7044b889_e4bc_11eb_bbab_94659c29da56row1_col2\" class=\"data row1 col2\" >['4O15NlyKLIASxsJ0PrXPfz']</td>\n",
       "                        <td id=\"T_7044b889_e4bc_11eb_bbab_94659c29da56row1_col3\" class=\"data row1 col3\" >['Lil Uzi Vert']</td>\n",
       "            </tr>\n",
       "            <tr>\n",
       "                        <th id=\"T_7044b889_e4bc_11eb_bbab_94659c29da56level0_row2\" class=\"row_heading level0 row2\" >2</th>\n",
       "                        <td id=\"T_7044b889_e4bc_11eb_bbab_94659c29da56row2_col0\" class=\"data row2 col0\" >1g3J9W88hTG173ySZR6E9S</td>\n",
       "                        <td id=\"T_7044b889_e4bc_11eb_bbab_94659c29da56row2_col1\" class=\"data row2 col1\" >Tilidin Weg</td>\n",
       "                        <td id=\"T_7044b889_e4bc_11eb_bbab_94659c29da56row2_col2\" class=\"data row2 col2\" >['1aS5tqEs9ci5P9KD9tZWa6']</td>\n",
       "                        <td id=\"T_7044b889_e4bc_11eb_bbab_94659c29da56row2_col3\" class=\"data row2 col3\" >['Bonez MC']</td>\n",
       "            </tr>\n",
       "    </tbody></table>   <style  type=\"text/css\" >\n",
       "</style><table id=\"T_7044dfb2_e4bc_11eb_b0af_94659c29da56\" style='display:inline'><caption>df2</caption><thead>    <tr>        <th class=\"blank level0\" ></th>        <th class=\"col_heading level0 col0\" >song_id</th>        <th class=\"col_heading level0 col1\" >popularity</th>        <th class=\"col_heading level0 col2\" >release_date</th>    </tr></thead><tbody>\n",
       "                <tr>\n",
       "                        <th id=\"T_7044dfb2_e4bc_11eb_b0af_94659c29da56level0_row0\" class=\"row_heading level0 row0\" >0</th>\n",
       "                        <td id=\"T_7044dfb2_e4bc_11eb_b0af_94659c29da56row0_col0\" class=\"data row0 col0\" >2rRJrJEo19S2J82BDsQ3F7</td>\n",
       "                        <td id=\"T_7044dfb2_e4bc_11eb_b0af_94659c29da56row0_col1\" class=\"data row0 col1\" >77</td>\n",
       "                        <td id=\"T_7044dfb2_e4bc_11eb_b0af_94659c29da56row0_col2\" class=\"data row0 col2\" >2020-03-26</td>\n",
       "            </tr>\n",
       "            <tr>\n",
       "                        <th id=\"T_7044dfb2_e4bc_11eb_b0af_94659c29da56level0_row1\" class=\"row_heading level0 row1\" >1</th>\n",
       "                        <td id=\"T_7044dfb2_e4bc_11eb_b0af_94659c29da56row1_col0\" class=\"data row1 col0\" >3BYIzNZ3t9lRQCACXSMLrT</td>\n",
       "                        <td id=\"T_7044dfb2_e4bc_11eb_b0af_94659c29da56row1_col1\" class=\"data row1 col1\" >66</td>\n",
       "                        <td id=\"T_7044dfb2_e4bc_11eb_b0af_94659c29da56row1_col2\" class=\"data row1 col2\" >2020-03-06</td>\n",
       "            </tr>\n",
       "            <tr>\n",
       "                        <th id=\"T_7044dfb2_e4bc_11eb_b0af_94659c29da56level0_row2\" class=\"row_heading level0 row2\" >2</th>\n",
       "                        <td id=\"T_7044dfb2_e4bc_11eb_b0af_94659c29da56row2_col0\" class=\"data row2 col0\" >1g3J9W88hTG173ySZR6E9S</td>\n",
       "                        <td id=\"T_7044dfb2_e4bc_11eb_b0af_94659c29da56row2_col1\" class=\"data row2 col1\" >13</td>\n",
       "                        <td id=\"T_7044dfb2_e4bc_11eb_b0af_94659c29da56row2_col2\" class=\"data row2 col2\" >2020-07-30</td>\n",
       "            </tr>\n",
       "    </tbody></table>   "
      ],
      "text/plain": [
       "<IPython.core.display.HTML object>"
      ]
     },
     "metadata": {},
     "output_type": "display_data"
    }
   ],
   "source": [
    "# Lendo os dados e criando os dois DataFrames\n",
    "df1 = pd.read_table('../dataset/spotify_hits_dataset_complete.tsv',\n",
    "    usecols=['song_id', 'song_name', 'artist_id', 'artist_name'], # seleciona campos específicos\n",
    "    encoding='utf-8')\n",
    "df2 = pd.read_table('../dataset/spotify_hits_dataset_complete.tsv',\n",
    "    usecols=['song_id', 'popularity', 'release_date'], # seleciona campos específicos\n",
    "    encoding='utf-8')\n",
    "\n",
    "display_side_by_side([df1.head(3), df2.head(3)], ['df1', 'df2']) # imprime as 3 primeiras linhas"
   ]
  },
  {
   "cell_type": "markdown",
   "metadata": {},
   "source": [
    "---\n",
    "\n",
    "Após a criação dos dois *DataFrames*, iremos explorar um recurso essencial oferecido pelo *pandas* para a junção de *DataFrames*: a função `merge()`.\n"
   ]
  },
  {
   "cell_type": "markdown",
   "metadata": {},
   "source": [
    "Essa função implementa vários tipos de junções: \n",
    "\n",
    "- um-para-um (1:1)\n",
    "- um-para-muitos (1:N) \n",
    "- muitos-para-muitos (N:N)\n",
    "\n",
    "O tipo de junção realizada depende **essencialmente** da organização dos conjuntos de dados de entrada. \n",
    "\n",
    "\n",
    "Nós mostraremos exemplos simples destes três tipos e discutiremos opções detalhadas mais adiante."
   ]
  },
  {
   "cell_type": "markdown",
   "metadata": {},
   "source": [
    "### Junções um-para-um (1:1) \n",
    "\n",
    "A junção **um-para-um** é talvez o tipo mais simples de fusão, muito semelhante à concatenação de colunas. \n",
    "\n",
    "Neste tipo de junção, cada registro na primeira tabela pode ter **somente um** registro correspondente na segunda tabela, e cada registro na segunda tabela pode ter **somente um** registro correspondente na primeira tabela (como mostrado na figura a seguir).\n"
   ]
  },
  {
   "cell_type": "markdown",
   "metadata": {},
   "source": [
    "<img src=\"figure1.png\" alt=\"Junção 1:1\" style=\"width: 500px;\"/>"
   ]
  },
  {
   "cell_type": "markdown",
   "metadata": {},
   "source": [
    "Neste exemplo, nós unimos as tabelas `df1` e `df2` para reunir informações de popularidade das músicas do Spotify usando a função `merge()`. Para isso, nós passamos as tabelas da esquerda e da direita a serem mescladas, através dos campos `left` e `right`. O último parâmetro a ser setado é o `on`, onde iremos passar a **coluna-chave** que está presente nas duas tabelas. \n",
    "\n"
   ]
  },
  {
   "cell_type": "code",
   "execution_count": 4,
   "metadata": {
    "ExecuteTime": {
     "end_time": "2021-07-14T15:59:15.422864Z",
     "start_time": "2021-07-14T15:59:15.364860Z"
    }
   },
   "outputs": [
    {
     "data": {
      "text/html": [
       "<div>\n",
       "<style scoped>\n",
       "    .dataframe tbody tr th:only-of-type {\n",
       "        vertical-align: middle;\n",
       "    }\n",
       "\n",
       "    .dataframe tbody tr th {\n",
       "        vertical-align: top;\n",
       "    }\n",
       "\n",
       "    .dataframe thead th {\n",
       "        text-align: right;\n",
       "    }\n",
       "</style>\n",
       "<table border=\"1\" class=\"dataframe\">\n",
       "  <thead>\n",
       "    <tr style=\"text-align: right;\">\n",
       "      <th></th>\n",
       "      <th>song_id</th>\n",
       "      <th>song_name</th>\n",
       "      <th>artist_id</th>\n",
       "      <th>artist_name</th>\n",
       "      <th>popularity</th>\n",
       "      <th>release_date</th>\n",
       "    </tr>\n",
       "  </thead>\n",
       "  <tbody>\n",
       "    <tr>\n",
       "      <th>0</th>\n",
       "      <td>2rRJrJEo19S2J82BDsQ3F7</td>\n",
       "      <td>Falling</td>\n",
       "      <td>['7uaIm6Pw7xplS8Dy06V6pT']</td>\n",
       "      <td>['Trevor Daniel']</td>\n",
       "      <td>77</td>\n",
       "      <td>2020-03-26</td>\n",
       "    </tr>\n",
       "    <tr>\n",
       "      <th>1</th>\n",
       "      <td>3BYIzNZ3t9lRQCACXSMLrT</td>\n",
       "      <td>Venetia</td>\n",
       "      <td>['4O15NlyKLIASxsJ0PrXPfz']</td>\n",
       "      <td>['Lil Uzi Vert']</td>\n",
       "      <td>66</td>\n",
       "      <td>2020-03-06</td>\n",
       "    </tr>\n",
       "    <tr>\n",
       "      <th>2</th>\n",
       "      <td>1g3J9W88hTG173ySZR6E9S</td>\n",
       "      <td>Tilidin Weg</td>\n",
       "      <td>['1aS5tqEs9ci5P9KD9tZWa6']</td>\n",
       "      <td>['Bonez MC']</td>\n",
       "      <td>13</td>\n",
       "      <td>2020-07-30</td>\n",
       "    </tr>\n",
       "  </tbody>\n",
       "</table>\n",
       "</div>"
      ],
      "text/plain": [
       "                  song_id    song_name                   artist_id  \\\n",
       "0  2rRJrJEo19S2J82BDsQ3F7      Falling  ['7uaIm6Pw7xplS8Dy06V6pT']   \n",
       "1  3BYIzNZ3t9lRQCACXSMLrT      Venetia  ['4O15NlyKLIASxsJ0PrXPfz']   \n",
       "2  1g3J9W88hTG173ySZR6E9S  Tilidin Weg  ['1aS5tqEs9ci5P9KD9tZWa6']   \n",
       "\n",
       "         artist_name  popularity release_date  \n",
       "0  ['Trevor Daniel']          77   2020-03-26  \n",
       "1   ['Lil Uzi Vert']          66   2020-03-06  \n",
       "2       ['Bonez MC']          13   2020-07-30  "
      ]
     },
     "execution_count": 4,
     "metadata": {},
     "output_type": "execute_result"
    }
   ],
   "source": [
    "# Junção um-para-um\n",
    "df3 = pd.merge(left=df1, right=df2, on='song_id')\n",
    "df3.head(3)"
   ]
  },
  {
   "cell_type": "markdown",
   "metadata": {},
   "source": [
    "O resultado da junção é um único *DataFrame* que combina as informações das duas entradas, baseado nos valores comuns presentes na coluna `song_id` de ambos os *DataFrames* originais.\n",
    "\n",
    "**Observação:** essa relação **não** é comum porque, geralmente, as informações relacionadas dessa maneira são armazenadas na mesma tabela."
   ]
  },
  {
   "cell_type": "markdown",
   "metadata": {},
   "source": [
    "### Junções  um-para-muitos (1:N)\n",
    "\n",
    "A junção **um-para-muitos** é usada quando uma das duas **colunas-chave** contém mais de uma entrada por registro (como mostrado na figura a seguir).\n"
   ]
  },
  {
   "cell_type": "markdown",
   "metadata": {},
   "source": [
    "<img src=\"figure2.png\" alt=\"Junção 1:N\" style=\"width: 500px;\"/>"
   ]
  },
  {
   "cell_type": "markdown",
   "metadata": {
    "ExecuteTime": {
     "end_time": "2021-07-14T15:54:02.091594Z",
     "start_time": "2021-07-14T15:54:02.068600Z"
    }
   },
   "source": [
    "Para exemplificar, vamos realizar a junção da tabela resultante do exemplo anterior (i.e., *DataFrame* `df3`) com os sucessos do Spotify na tabela `Charts` (i.e., *DataFrame* `df4`). \n",
    "\n",
    "Note que uma música pode aparecer em qualquer semana dos *Charts* do Spotify. Portanto, para qualquer música representada na tabela `df3`, pode haver mais de uma ocorrência na tabela `df4`. Neste caso, a relação entre a tabela `df3` e a tabela `df4` é uma relação **um-para-muitos**."
   ]
  },
  {
   "cell_type": "code",
   "execution_count": 5,
   "metadata": {
    "ExecuteTime": {
     "end_time": "2021-07-14T15:59:15.555876Z",
     "start_time": "2021-07-14T15:59:15.427859Z"
    }
   },
   "outputs": [
    {
     "data": {
      "text/html": [
       "<style  type=\"text/css\" >\n",
       "</style><table id=\"T_706008d0_e4bc_11eb_9272_94659c29da56\" style='display:inline'><caption>df3</caption><thead>    <tr>        <th class=\"blank level0\" ></th>        <th class=\"col_heading level0 col0\" >song_id</th>        <th class=\"col_heading level0 col1\" >song_name</th>        <th class=\"col_heading level0 col2\" >artist_id</th>        <th class=\"col_heading level0 col3\" >artist_name</th>        <th class=\"col_heading level0 col4\" >popularity</th>        <th class=\"col_heading level0 col5\" >release_date</th>    </tr></thead><tbody>\n",
       "                <tr>\n",
       "                        <th id=\"T_706008d0_e4bc_11eb_9272_94659c29da56level0_row0\" class=\"row_heading level0 row0\" >0</th>\n",
       "                        <td id=\"T_706008d0_e4bc_11eb_9272_94659c29da56row0_col0\" class=\"data row0 col0\" >2rRJrJEo19S2J82BDsQ3F7</td>\n",
       "                        <td id=\"T_706008d0_e4bc_11eb_9272_94659c29da56row0_col1\" class=\"data row0 col1\" >Falling</td>\n",
       "                        <td id=\"T_706008d0_e4bc_11eb_9272_94659c29da56row0_col2\" class=\"data row0 col2\" >['7uaIm6Pw7xplS8Dy06V6pT']</td>\n",
       "                        <td id=\"T_706008d0_e4bc_11eb_9272_94659c29da56row0_col3\" class=\"data row0 col3\" >['Trevor Daniel']</td>\n",
       "                        <td id=\"T_706008d0_e4bc_11eb_9272_94659c29da56row0_col4\" class=\"data row0 col4\" >77</td>\n",
       "                        <td id=\"T_706008d0_e4bc_11eb_9272_94659c29da56row0_col5\" class=\"data row0 col5\" >2020-03-26</td>\n",
       "            </tr>\n",
       "            <tr>\n",
       "                        <th id=\"T_706008d0_e4bc_11eb_9272_94659c29da56level0_row1\" class=\"row_heading level0 row1\" >1</th>\n",
       "                        <td id=\"T_706008d0_e4bc_11eb_9272_94659c29da56row1_col0\" class=\"data row1 col0\" >3BYIzNZ3t9lRQCACXSMLrT</td>\n",
       "                        <td id=\"T_706008d0_e4bc_11eb_9272_94659c29da56row1_col1\" class=\"data row1 col1\" >Venetia</td>\n",
       "                        <td id=\"T_706008d0_e4bc_11eb_9272_94659c29da56row1_col2\" class=\"data row1 col2\" >['4O15NlyKLIASxsJ0PrXPfz']</td>\n",
       "                        <td id=\"T_706008d0_e4bc_11eb_9272_94659c29da56row1_col3\" class=\"data row1 col3\" >['Lil Uzi Vert']</td>\n",
       "                        <td id=\"T_706008d0_e4bc_11eb_9272_94659c29da56row1_col4\" class=\"data row1 col4\" >66</td>\n",
       "                        <td id=\"T_706008d0_e4bc_11eb_9272_94659c29da56row1_col5\" class=\"data row1 col5\" >2020-03-06</td>\n",
       "            </tr>\n",
       "            <tr>\n",
       "                        <th id=\"T_706008d0_e4bc_11eb_9272_94659c29da56level0_row2\" class=\"row_heading level0 row2\" >2</th>\n",
       "                        <td id=\"T_706008d0_e4bc_11eb_9272_94659c29da56row2_col0\" class=\"data row2 col0\" >1g3J9W88hTG173ySZR6E9S</td>\n",
       "                        <td id=\"T_706008d0_e4bc_11eb_9272_94659c29da56row2_col1\" class=\"data row2 col1\" >Tilidin Weg</td>\n",
       "                        <td id=\"T_706008d0_e4bc_11eb_9272_94659c29da56row2_col2\" class=\"data row2 col2\" >['1aS5tqEs9ci5P9KD9tZWa6']</td>\n",
       "                        <td id=\"T_706008d0_e4bc_11eb_9272_94659c29da56row2_col3\" class=\"data row2 col3\" >['Bonez MC']</td>\n",
       "                        <td id=\"T_706008d0_e4bc_11eb_9272_94659c29da56row2_col4\" class=\"data row2 col4\" >13</td>\n",
       "                        <td id=\"T_706008d0_e4bc_11eb_9272_94659c29da56row2_col5\" class=\"data row2 col5\" >2020-07-30</td>\n",
       "            </tr>\n",
       "    </tbody></table>   <style  type=\"text/css\" >\n",
       "</style><table id=\"T_7060cc26_e4bc_11eb_bd9e_94659c29da56\" style='display:inline'><caption>df4</caption><thead>    <tr>        <th class=\"blank level0\" ></th>        <th class=\"col_heading level0 col0\" >chart_week</th>        <th class=\"col_heading level0 col1\" >position</th>        <th class=\"col_heading level0 col2\" >song_id</th>    </tr></thead><tbody>\n",
       "                <tr>\n",
       "                        <th id=\"T_7060cc26_e4bc_11eb_bd9e_94659c29da56level0_row0\" class=\"row_heading level0 row0\" >7793</th>\n",
       "                        <td id=\"T_7060cc26_e4bc_11eb_bd9e_94659c29da56row0_col0\" class=\"data row0 col0\" >2020-09-24</td>\n",
       "                        <td id=\"T_7060cc26_e4bc_11eb_bd9e_94659c29da56row0_col1\" class=\"data row0 col1\" >194</td>\n",
       "                        <td id=\"T_7060cc26_e4bc_11eb_bd9e_94659c29da56row0_col2\" class=\"data row0 col2\" >00ETaeHUQ6lops3oWU1Wrt</td>\n",
       "            </tr>\n",
       "            <tr>\n",
       "                        <th id=\"T_7060cc26_e4bc_11eb_bd9e_94659c29da56level0_row1\" class=\"row_heading level0 row1\" >9108</th>\n",
       "                        <td id=\"T_7060cc26_e4bc_11eb_bd9e_94659c29da56row1_col0\" class=\"data row1 col0\" >2020-11-12</td>\n",
       "                        <td id=\"T_7060cc26_e4bc_11eb_bd9e_94659c29da56row1_col1\" class=\"data row1 col1\" >109</td>\n",
       "                        <td id=\"T_7060cc26_e4bc_11eb_bd9e_94659c29da56row1_col2\" class=\"data row1 col2\" >017PF4Q3l4DBUiWoXk4OWT</td>\n",
       "            </tr>\n",
       "            <tr>\n",
       "                        <th id=\"T_7060cc26_e4bc_11eb_bd9e_94659c29da56level0_row2\" class=\"row_heading level0 row2\" >6035</th>\n",
       "                        <td id=\"T_7060cc26_e4bc_11eb_bd9e_94659c29da56row2_col0\" class=\"data row2 col0\" >2020-07-30</td>\n",
       "                        <td id=\"T_7060cc26_e4bc_11eb_bd9e_94659c29da56row2_col1\" class=\"data row2 col1\" >36</td>\n",
       "                        <td id=\"T_7060cc26_e4bc_11eb_bd9e_94659c29da56row2_col2\" class=\"data row2 col2\" >017PF4Q3l4DBUiWoXk4OWT</td>\n",
       "            </tr>\n",
       "    </tbody></table>   "
      ],
      "text/plain": [
       "<IPython.core.display.HTML object>"
      ]
     },
     "metadata": {},
     "output_type": "display_data"
    }
   ],
   "source": [
    "# Lendo os dados\n",
    "df4 = pd.read_table('../dataset/spotify_charts_complete.tsv',\n",
    "    usecols=['chart_week', 'song_id', 'position'], # seleciona campos específicos\n",
    "    encoding='utf-8')\n",
    "df4 = df4.sort_values(by=['song_id']) # ordena o DataFrame pelo id da música\n",
    "\n",
    "display_side_by_side([df3.head(3), df4.head(3)], ['df3', 'df4']) # imprime as 3 primeiras linhas"
   ]
  },
  {
   "cell_type": "code",
   "execution_count": 6,
   "metadata": {
    "ExecuteTime": {
     "end_time": "2021-07-14T15:59:15.664856Z",
     "start_time": "2021-07-14T15:59:15.567902Z"
    }
   },
   "outputs": [
    {
     "data": {
      "text/html": [
       "<div>\n",
       "<style scoped>\n",
       "    .dataframe tbody tr th:only-of-type {\n",
       "        vertical-align: middle;\n",
       "    }\n",
       "\n",
       "    .dataframe tbody tr th {\n",
       "        vertical-align: top;\n",
       "    }\n",
       "\n",
       "    .dataframe thead th {\n",
       "        text-align: right;\n",
       "    }\n",
       "</style>\n",
       "<table border=\"1\" class=\"dataframe\">\n",
       "  <thead>\n",
       "    <tr style=\"text-align: right;\">\n",
       "      <th></th>\n",
       "      <th>song_id</th>\n",
       "      <th>song_name</th>\n",
       "      <th>artist_id</th>\n",
       "      <th>...</th>\n",
       "      <th>release_date</th>\n",
       "      <th>chart_week</th>\n",
       "      <th>position</th>\n",
       "    </tr>\n",
       "  </thead>\n",
       "  <tbody>\n",
       "    <tr>\n",
       "      <th>0</th>\n",
       "      <td>2rRJrJEo19S2J82BDsQ3F7</td>\n",
       "      <td>Falling</td>\n",
       "      <td>['7uaIm6Pw7xplS8Dy06V6pT']</td>\n",
       "      <td>...</td>\n",
       "      <td>2020-03-26</td>\n",
       "      <td>2020-10-29</td>\n",
       "      <td>81</td>\n",
       "    </tr>\n",
       "    <tr>\n",
       "      <th>1</th>\n",
       "      <td>2rRJrJEo19S2J82BDsQ3F7</td>\n",
       "      <td>Falling</td>\n",
       "      <td>['7uaIm6Pw7xplS8Dy06V6pT']</td>\n",
       "      <td>...</td>\n",
       "      <td>2020-03-26</td>\n",
       "      <td>2020-05-07</td>\n",
       "      <td>20</td>\n",
       "    </tr>\n",
       "    <tr>\n",
       "      <th>2</th>\n",
       "      <td>2rRJrJEo19S2J82BDsQ3F7</td>\n",
       "      <td>Falling</td>\n",
       "      <td>['7uaIm6Pw7xplS8Dy06V6pT']</td>\n",
       "      <td>...</td>\n",
       "      <td>2020-03-26</td>\n",
       "      <td>2020-09-17</td>\n",
       "      <td>71</td>\n",
       "    </tr>\n",
       "  </tbody>\n",
       "</table>\n",
       "<p>3 rows × 8 columns</p>\n",
       "</div>"
      ],
      "text/plain": [
       "                  song_id song_name                   artist_id  ...  \\\n",
       "0  2rRJrJEo19S2J82BDsQ3F7   Falling  ['7uaIm6Pw7xplS8Dy06V6pT']  ...   \n",
       "1  2rRJrJEo19S2J82BDsQ3F7   Falling  ['7uaIm6Pw7xplS8Dy06V6pT']  ...   \n",
       "2  2rRJrJEo19S2J82BDsQ3F7   Falling  ['7uaIm6Pw7xplS8Dy06V6pT']  ...   \n",
       "\n",
       "  release_date  chart_week position  \n",
       "0   2020-03-26  2020-10-29       81  \n",
       "1   2020-03-26  2020-05-07       20  \n",
       "2   2020-03-26  2020-09-17       71  \n",
       "\n",
       "[3 rows x 8 columns]"
      ]
     },
     "execution_count": 6,
     "metadata": {},
     "output_type": "execute_result"
    }
   ],
   "source": [
    "# Junção um-para-muitos de dois DataFrames\n",
    "df5 = pd.merge(left=df3, right=df4, on='song_id') \n",
    "df5.head(3)"
   ]
  },
  {
   "cell_type": "markdown",
   "metadata": {},
   "source": [
    "O resultado da junção é um único *DataFrame* que combina as informações das duas entradas; porém, ao contrário do exemplo anterior, as informações originais (i.e., do *DataFrame* `df3`) se repetem conforme exigido pelas entradas do *DataFrame* `df4`."
   ]
  },
  {
   "cell_type": "markdown",
   "metadata": {},
   "source": [
    "### Junções  muitos-para-muitos (N:N)\n",
    "\n",
    "Um relacionamento **muitos-para-muitos** ocorre quando vários registros em uma tabela são associados a vários registros em outra tabela (como mostrado na figura a seguir). "
   ]
  },
  {
   "cell_type": "markdown",
   "metadata": {},
   "source": [
    "<img src=\"figure3.png\" alt=\"Junção N:N\" style=\"width: 500px;\"/>"
   ]
  },
  {
   "cell_type": "markdown",
   "metadata": {},
   "source": [
    "Para exemplificar, considere a tabela resultante anterior (i.e., *DataFrame* `df5`)\n",
    "\n",
    "um relacionamento muitos para muitos existe entre clientes e produtos: clientes podem comprar vários produtos e produtos podem ser comprados por muitos clientes.\n",
    "\n",
    "Se a **coluna-chave** das duas tabelas incluir entradas duplicadas, o resultado é uma fusão **muitos-para-muitos**. \n",
    "\n",
    "\n",
    "\n",
    "Neste exemplo, para criar um relacionamento **muitos-para-muitos** entre a tabela resultante anterior (i.e., *DataFrame* `df5`) e outra contendo o número total de *streams* que cada música atingiu nas semanas dos charts (i.e., *DataFrame* `df6`), a **coluna-chave** do *DataFrame* resultante é a combinação das **colunas-chave** de cada tabela. \n",
    "\n",
    "Agora, as duas tabelas terão duas **colunas-chave**: `song_id` e `chart_week`.\n"
   ]
  },
  {
   "cell_type": "code",
   "execution_count": 7,
   "metadata": {
    "ExecuteTime": {
     "end_time": "2021-07-14T15:59:15.742856Z",
     "start_time": "2021-07-14T15:59:15.671857Z"
    }
   },
   "outputs": [
    {
     "data": {
      "text/html": [
       "<style  type=\"text/css\" >\n",
       "</style><table id=\"T_707df216_e4bc_11eb_8a79_94659c29da56\" style='display:inline'><caption>df5</caption><thead>    <tr>        <th class=\"blank level0\" ></th>        <th class=\"col_heading level0 col0\" >song_id</th>        <th class=\"col_heading level0 col1\" >song_name</th>        <th class=\"col_heading level0 col2\" >artist_id</th>        <th class=\"col_heading level0 col3\" >artist_name</th>        <th class=\"col_heading level0 col4\" >popularity</th>        <th class=\"col_heading level0 col5\" >release_date</th>        <th class=\"col_heading level0 col6\" >chart_week</th>        <th class=\"col_heading level0 col7\" >position</th>    </tr></thead><tbody>\n",
       "                <tr>\n",
       "                        <th id=\"T_707df216_e4bc_11eb_8a79_94659c29da56level0_row0\" class=\"row_heading level0 row0\" >0</th>\n",
       "                        <td id=\"T_707df216_e4bc_11eb_8a79_94659c29da56row0_col0\" class=\"data row0 col0\" >2rRJrJEo19S2J82BDsQ3F7</td>\n",
       "                        <td id=\"T_707df216_e4bc_11eb_8a79_94659c29da56row0_col1\" class=\"data row0 col1\" >Falling</td>\n",
       "                        <td id=\"T_707df216_e4bc_11eb_8a79_94659c29da56row0_col2\" class=\"data row0 col2\" >['7uaIm6Pw7xplS8Dy06V6pT']</td>\n",
       "                        <td id=\"T_707df216_e4bc_11eb_8a79_94659c29da56row0_col3\" class=\"data row0 col3\" >['Trevor Daniel']</td>\n",
       "                        <td id=\"T_707df216_e4bc_11eb_8a79_94659c29da56row0_col4\" class=\"data row0 col4\" >77</td>\n",
       "                        <td id=\"T_707df216_e4bc_11eb_8a79_94659c29da56row0_col5\" class=\"data row0 col5\" >2020-03-26</td>\n",
       "                        <td id=\"T_707df216_e4bc_11eb_8a79_94659c29da56row0_col6\" class=\"data row0 col6\" >2020-10-29</td>\n",
       "                        <td id=\"T_707df216_e4bc_11eb_8a79_94659c29da56row0_col7\" class=\"data row0 col7\" >81</td>\n",
       "            </tr>\n",
       "            <tr>\n",
       "                        <th id=\"T_707df216_e4bc_11eb_8a79_94659c29da56level0_row1\" class=\"row_heading level0 row1\" >1</th>\n",
       "                        <td id=\"T_707df216_e4bc_11eb_8a79_94659c29da56row1_col0\" class=\"data row1 col0\" >2rRJrJEo19S2J82BDsQ3F7</td>\n",
       "                        <td id=\"T_707df216_e4bc_11eb_8a79_94659c29da56row1_col1\" class=\"data row1 col1\" >Falling</td>\n",
       "                        <td id=\"T_707df216_e4bc_11eb_8a79_94659c29da56row1_col2\" class=\"data row1 col2\" >['7uaIm6Pw7xplS8Dy06V6pT']</td>\n",
       "                        <td id=\"T_707df216_e4bc_11eb_8a79_94659c29da56row1_col3\" class=\"data row1 col3\" >['Trevor Daniel']</td>\n",
       "                        <td id=\"T_707df216_e4bc_11eb_8a79_94659c29da56row1_col4\" class=\"data row1 col4\" >77</td>\n",
       "                        <td id=\"T_707df216_e4bc_11eb_8a79_94659c29da56row1_col5\" class=\"data row1 col5\" >2020-03-26</td>\n",
       "                        <td id=\"T_707df216_e4bc_11eb_8a79_94659c29da56row1_col6\" class=\"data row1 col6\" >2020-05-07</td>\n",
       "                        <td id=\"T_707df216_e4bc_11eb_8a79_94659c29da56row1_col7\" class=\"data row1 col7\" >20</td>\n",
       "            </tr>\n",
       "            <tr>\n",
       "                        <th id=\"T_707df216_e4bc_11eb_8a79_94659c29da56level0_row2\" class=\"row_heading level0 row2\" >2</th>\n",
       "                        <td id=\"T_707df216_e4bc_11eb_8a79_94659c29da56row2_col0\" class=\"data row2 col0\" >2rRJrJEo19S2J82BDsQ3F7</td>\n",
       "                        <td id=\"T_707df216_e4bc_11eb_8a79_94659c29da56row2_col1\" class=\"data row2 col1\" >Falling</td>\n",
       "                        <td id=\"T_707df216_e4bc_11eb_8a79_94659c29da56row2_col2\" class=\"data row2 col2\" >['7uaIm6Pw7xplS8Dy06V6pT']</td>\n",
       "                        <td id=\"T_707df216_e4bc_11eb_8a79_94659c29da56row2_col3\" class=\"data row2 col3\" >['Trevor Daniel']</td>\n",
       "                        <td id=\"T_707df216_e4bc_11eb_8a79_94659c29da56row2_col4\" class=\"data row2 col4\" >77</td>\n",
       "                        <td id=\"T_707df216_e4bc_11eb_8a79_94659c29da56row2_col5\" class=\"data row2 col5\" >2020-03-26</td>\n",
       "                        <td id=\"T_707df216_e4bc_11eb_8a79_94659c29da56row2_col6\" class=\"data row2 col6\" >2020-09-17</td>\n",
       "                        <td id=\"T_707df216_e4bc_11eb_8a79_94659c29da56row2_col7\" class=\"data row2 col7\" >71</td>\n",
       "            </tr>\n",
       "    </tbody></table>   <style  type=\"text/css\" >\n",
       "</style><table id=\"T_707f027c_e4bc_11eb_bb17_94659c29da56\" style='display:inline'><caption>df6</caption><thead>    <tr>        <th class=\"blank level0\" ></th>        <th class=\"col_heading level0 col0\" >chart_week</th>        <th class=\"col_heading level0 col1\" >streams</th>        <th class=\"col_heading level0 col2\" >song_id</th>    </tr></thead><tbody>\n",
       "                <tr>\n",
       "                        <th id=\"T_707f027c_e4bc_11eb_bb17_94659c29da56level0_row0\" class=\"row_heading level0 row0\" >0</th>\n",
       "                        <td id=\"T_707f027c_e4bc_11eb_bb17_94659c29da56row0_col0\" class=\"data row0 col0\" >2020-01-02</td>\n",
       "                        <td id=\"T_707f027c_e4bc_11eb_bb17_94659c29da56row0_col1\" class=\"data row0 col1\" >50183626</td>\n",
       "                        <td id=\"T_707f027c_e4bc_11eb_bb17_94659c29da56row0_col2\" class=\"data row0 col2\" >1rgnBhdG2JDFTbYkYRZAku</td>\n",
       "            </tr>\n",
       "            <tr>\n",
       "                        <th id=\"T_707f027c_e4bc_11eb_bb17_94659c29da56level0_row1\" class=\"row_heading level0 row1\" >1</th>\n",
       "                        <td id=\"T_707f027c_e4bc_11eb_bb17_94659c29da56row1_col0\" class=\"data row1 col0\" >2020-01-02</td>\n",
       "                        <td id=\"T_707f027c_e4bc_11eb_bb17_94659c29da56row1_col1\" class=\"data row1 col1\" >33254585</td>\n",
       "                        <td id=\"T_707f027c_e4bc_11eb_bb17_94659c29da56row1_col2\" class=\"data row1 col2\" >696DnlkuDOXcMAnKlTgXXK</td>\n",
       "            </tr>\n",
       "            <tr>\n",
       "                        <th id=\"T_707f027c_e4bc_11eb_bb17_94659c29da56level0_row2\" class=\"row_heading level0 row2\" >2</th>\n",
       "                        <td id=\"T_707f027c_e4bc_11eb_bb17_94659c29da56row2_col0\" class=\"data row2 col0\" >2020-01-02</td>\n",
       "                        <td id=\"T_707f027c_e4bc_11eb_bb17_94659c29da56row2_col1\" class=\"data row2 col1\" >29349573</td>\n",
       "                        <td id=\"T_707f027c_e4bc_11eb_bb17_94659c29da56row2_col2\" class=\"data row2 col2\" >7k4t7uLgtOxPwTpFmtJNTY</td>\n",
       "            </tr>\n",
       "    </tbody></table>   "
      ],
      "text/plain": [
       "<IPython.core.display.HTML object>"
      ]
     },
     "metadata": {},
     "output_type": "display_data"
    }
   ],
   "source": [
    "# Lendo os dados\n",
    "df6 = pd.read_table('../dataset/spotify_charts_complete.tsv',\n",
    "    usecols=['chart_week', 'song_id', 'streams'], # seleciona campos específicos\n",
    "    encoding='utf-8')\n",
    "\n",
    "display_side_by_side([df5.head(3), df6.head(3)], ['df5', 'df6']) # imprime as 3 primeiras linhas"
   ]
  },
  {
   "cell_type": "code",
   "execution_count": 8,
   "metadata": {
    "ExecuteTime": {
     "end_time": "2021-07-14T15:59:15.833854Z",
     "start_time": "2021-07-14T15:59:15.746857Z"
    }
   },
   "outputs": [
    {
     "data": {
      "text/html": [
       "<div>\n",
       "<style scoped>\n",
       "    .dataframe tbody tr th:only-of-type {\n",
       "        vertical-align: middle;\n",
       "    }\n",
       "\n",
       "    .dataframe tbody tr th {\n",
       "        vertical-align: top;\n",
       "    }\n",
       "\n",
       "    .dataframe thead th {\n",
       "        text-align: right;\n",
       "    }\n",
       "</style>\n",
       "<table border=\"1\" class=\"dataframe\">\n",
       "  <thead>\n",
       "    <tr style=\"text-align: right;\">\n",
       "      <th></th>\n",
       "      <th>song_id</th>\n",
       "      <th>song_name</th>\n",
       "      <th>artist_id</th>\n",
       "      <th>...</th>\n",
       "      <th>chart_week</th>\n",
       "      <th>position</th>\n",
       "      <th>streams</th>\n",
       "    </tr>\n",
       "  </thead>\n",
       "  <tbody>\n",
       "    <tr>\n",
       "      <th>0</th>\n",
       "      <td>2rRJrJEo19S2J82BDsQ3F7</td>\n",
       "      <td>Falling</td>\n",
       "      <td>['7uaIm6Pw7xplS8Dy06V6pT']</td>\n",
       "      <td>...</td>\n",
       "      <td>2020-10-29</td>\n",
       "      <td>81</td>\n",
       "      <td>7517622</td>\n",
       "    </tr>\n",
       "    <tr>\n",
       "      <th>1</th>\n",
       "      <td>2rRJrJEo19S2J82BDsQ3F7</td>\n",
       "      <td>Falling</td>\n",
       "      <td>['7uaIm6Pw7xplS8Dy06V6pT']</td>\n",
       "      <td>...</td>\n",
       "      <td>2020-05-07</td>\n",
       "      <td>20</td>\n",
       "      <td>16751384</td>\n",
       "    </tr>\n",
       "    <tr>\n",
       "      <th>2</th>\n",
       "      <td>2rRJrJEo19S2J82BDsQ3F7</td>\n",
       "      <td>Falling</td>\n",
       "      <td>['7uaIm6Pw7xplS8Dy06V6pT']</td>\n",
       "      <td>...</td>\n",
       "      <td>2020-09-17</td>\n",
       "      <td>71</td>\n",
       "      <td>7944403</td>\n",
       "    </tr>\n",
       "  </tbody>\n",
       "</table>\n",
       "<p>3 rows × 9 columns</p>\n",
       "</div>"
      ],
      "text/plain": [
       "                  song_id song_name                   artist_id  ...  \\\n",
       "0  2rRJrJEo19S2J82BDsQ3F7   Falling  ['7uaIm6Pw7xplS8Dy06V6pT']  ...   \n",
       "1  2rRJrJEo19S2J82BDsQ3F7   Falling  ['7uaIm6Pw7xplS8Dy06V6pT']  ...   \n",
       "2  2rRJrJEo19S2J82BDsQ3F7   Falling  ['7uaIm6Pw7xplS8Dy06V6pT']  ...   \n",
       "\n",
       "   chart_week  position   streams  \n",
       "0  2020-10-29        81   7517622  \n",
       "1  2020-05-07        20  16751384  \n",
       "2  2020-09-17        71   7944403  \n",
       "\n",
       "[3 rows x 9 columns]"
      ]
     },
     "execution_count": 8,
     "metadata": {},
     "output_type": "execute_result"
    }
   ],
   "source": [
    "# Junção muitos-para-muitos de dois DataFrames\n",
    "df7 = pd.merge(left=df5, right=df6, on=['song_id', 'chart_week'])\n",
    "df7.head(3)"
   ]
  },
  {
   "cell_type": "markdown",
   "metadata": {},
   "source": [
    "Após a junção **muitos-para-muitos**, a **coluna-chave** do *DataFrame* resultante é expressa pela combinação dos valores de `song_id` e `chart_week` das tabelas `df5` e `df6`.\n"
   ]
  },
  {
   "cell_type": "markdown",
   "metadata": {},
   "source": [
    "## OPÇÕES DETALHADAS"
   ]
  },
  {
   "cell_type": "code",
   "execution_count": null,
   "metadata": {},
   "outputs": [],
   "source": []
  },
  {
   "cell_type": "markdown",
   "metadata": {},
   "source": [
    "### Conclusão\n",
    "\n",
    "Este notebook apresentou como fazer a integração de dados de diferentes fontes.\n",
    "\n",
    "O próximo notebook ([3.3.Transformacao.ipynb](3.3.Transformacao.ipynb)) apresenta como transformar dados de diferentes formatos em um formato suportado pelo processo de pesquisa."
   ]
  }
 ],
 "metadata": {
  "julynter-results": {
   "filteredId": [],
   "filteredIndividual": [],
   "filteredRestart": [],
   "filteredType": [],
   "hash": "54ddb368d9f7cf46f2f0eb7e1cec7b2db4667dd4",
   "visible": []
  },
  "kernelspec": {
   "display_name": "Python 3",
   "language": "python",
   "name": "python3"
  },
  "language_info": {
   "codemirror_mode": {
    "name": "ipython",
    "version": 3
   },
   "file_extension": ".py",
   "mimetype": "text/x-python",
   "name": "python",
   "nbconvert_exporter": "python",
   "pygments_lexer": "ipython3",
   "version": "3.8.2"
  },
  "latex_envs": {
   "LaTeX_envs_menu_present": true,
   "autoclose": true,
   "autocomplete": true,
   "bibliofile": "biblio.bib",
   "cite_by": "apalike",
   "current_citInitial": 1,
   "eqLabelWithNumbers": true,
   "eqNumInitial": 1,
   "hotkeys": {
    "equation": "Ctrl-E",
    "itemize": "Ctrl-I"
   },
   "labels_anchors": false,
   "latex_user_defs": false,
   "report_style_numbering": false,
   "user_envs_cfg": false
  },
  "varInspector": {
   "cols": {
    "lenName": 16,
    "lenType": 16,
    "lenVar": 40
   },
   "kernels_config": {
    "python": {
     "delete_cmd_postfix": "",
     "delete_cmd_prefix": "del ",
     "library": "var_list.py",
     "varRefreshCmd": "print(var_dic_list())"
    },
    "r": {
     "delete_cmd_postfix": ") ",
     "delete_cmd_prefix": "rm(",
     "library": "var_list.r",
     "varRefreshCmd": "cat(var_dic_list()) "
    }
   },
   "types_to_exclude": [
    "module",
    "function",
    "builtin_function_or_method",
    "instance",
    "_Feature"
   ],
   "window_display": false
  }
 },
 "nbformat": 4,
 "nbformat_minor": 4
}
