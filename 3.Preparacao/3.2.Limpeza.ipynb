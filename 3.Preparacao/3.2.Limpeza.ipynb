{
 "cells": [
  {
   "cell_type": "code",
   "execution_count": 1,
   "metadata": {
    "ExecuteTime": {
     "end_time": "2021-04-20T20:07:24.597099Z",
     "start_time": "2021-04-20T20:07:24.220697Z"
    },
    "hide_input": false
   },
   "outputs": [
    {
     "name": "stderr",
     "output_type": "stream",
     "text": [
      "2021-07-12 13:04:24,299 [18964] WARNING  py.warnings:109: [JupyterRequire] c:\\python38\\lib\\site-packages\\fuzzywuzzy\\fuzz.py:11: UserWarning: Using slow pure-python SequenceMatcher. Install python-Levenshtein to remove this warning\n",
      "  warnings.warn('Using slow pure-python SequenceMatcher. Install python-Levenshtein to remove this warning')\n",
      "\n"
     ]
    }
   ],
   "source": [
    "# Importando os pacotes necessários\n",
    "import pandas as pd\n",
    "import numpy as np\n",
    "from scipy import stats\n",
    "\n",
    "from fuzzywuzzy import fuzz\n",
    "from itertools import combinations\n",
    "\n",
    "pd.set_option('display.max_columns', 5)"
   ]
  },
  {
   "cell_type": "markdown",
   "metadata": {},
   "source": [
    "# Preparação de Dados para Ciência\n",
    "\n",
    "Em Ciência de Dados, dados de qualidade são pré-requisito para pesquisas válidas, descobertas significativas, modelos de Aprendizado de Máquina, entre outros. Porém, no mundo real, dados brutos costumam ser incompletos, ruidosos, inconsistentes e, às vezes, estão em formato inutilizável. Portanto, antes de alimentá-los a modelos (e outras etapas de pesquisa), é fundamental averiguar a integridade de dados e identificar possíveis problemas. Este processo é denominado pré-processamento de dados.\n",
    "\n",
    "Essencialmente, preparar dados significa adequá-los para servirem de entrada nos processos da pesquisa. Existem muitas técnicas de pré-processamento que, geralmente, acontecem em etapas organizadas nas seguintes categorias: Limpeza de Dados, Integração de Dados, Transformação de Dados, e Redução de Dados. As etapas do préprocessamento não são mutuamente exclusivas e são altamente dependentes do conjunto de dados; ou seja, podem trabalhar em conjunto, mas não são obrigatórias.\n",
    "\n",
    "Em particular, a Limpeza de dados pode remover ruído e corrigir inconsistências nos dados. A Integração de dados mescla dados de várias fontes em um armazenamento de dados coerente, como um armazém de dados. Transformações de dados, como normalização, podem melhorar a precisão e eficiência de algoritmos que envolvem medições de distância. Então, a Redução de dados pode diminuir o tamanho dos dados agregando ou eliminando recursos redundantes. Através de exemplos com dados reais, esta seção define e descreve cada uma dessas etapas técnicas"
   ]
  },
  {
   "cell_type": "markdown",
   "metadata": {},
   "source": [
    "## Limpeza de Dados\n",
    "\n",
    "A Limpeza de dados é o processo de detecção e correção de registros incorretos ou corrompidos. Refere-se à identificação e, em seguida, a substituição, modificação ou exclusão de partes incompletas, imprecisas ou irrelevantes. Em geral, a Limpeza de dados leva a uma sequência de tarefas que visam melhorar a qualidade dos dados. Algumas dessas tarefas incluem não só lidar com dados ausentes e duplicados, mas também remover dados ruidosos, inconsistentes e outliers. Esta seção apresenta cada uma dessas tarefas através de uma versão aleatoriamente modificada das tabelas do estudo de caso."
   ]
  },
  {
   "cell_type": "code",
   "execution_count": 2,
   "metadata": {
    "ExecuteTime": {
     "end_time": "2021-04-20T20:07:25.366638Z",
     "start_time": "2021-04-20T20:07:25.331640Z"
    }
   },
   "outputs": [
    {
     "data": {
      "text/html": [
       "<div>\n",
       "<style scoped>\n",
       "    .dataframe tbody tr th:only-of-type {\n",
       "        vertical-align: middle;\n",
       "    }\n",
       "\n",
       "    .dataframe tbody tr th {\n",
       "        vertical-align: top;\n",
       "    }\n",
       "\n",
       "    .dataframe thead th {\n",
       "        text-align: right;\n",
       "    }\n",
       "</style>\n",
       "<table border=\"1\" class=\"dataframe\">\n",
       "  <thead>\n",
       "    <tr style=\"text-align: right;\">\n",
       "      <th></th>\n",
       "      <th>artist_id</th>\n",
       "      <th>name</th>\n",
       "      <th>...</th>\n",
       "      <th>genres</th>\n",
       "      <th>image_url</th>\n",
       "    </tr>\n",
       "  </thead>\n",
       "  <tbody>\n",
       "    <tr>\n",
       "      <th>0</th>\n",
       "      <td>4gzpq5DPGxSnKTe4SA8HAU</td>\n",
       "      <td>Coldplay</td>\n",
       "      <td>...</td>\n",
       "      <td>['permanent wave', 'pop']</td>\n",
       "      <td>https://i.scdn.co/image/4ffd6710617d289699cc0d...</td>\n",
       "    </tr>\n",
       "    <tr>\n",
       "      <th>1</th>\n",
       "      <td>6Te49r3A6f5BiIgBRxH7FH</td>\n",
       "      <td>Ninho</td>\n",
       "      <td>...</td>\n",
       "      <td>['french hip hop', 'pop urbaine']</td>\n",
       "      <td>https://i.scdn.co/image/ab67616d0000b2733f12b1...</td>\n",
       "    </tr>\n",
       "    <tr>\n",
       "      <th>2</th>\n",
       "      <td>4QrBoWLm2WNlPdbFhmlaUZ</td>\n",
       "      <td>KEVVO</td>\n",
       "      <td>...</td>\n",
       "      <td>['perreo', 'reggaeton', 'reggaeton flow', 'tra...</td>\n",
       "      <td>https://i.scdn.co/image/9a75b11e5080f576bdff76...</td>\n",
       "    </tr>\n",
       "    <tr>\n",
       "      <th>3</th>\n",
       "      <td>1McMsnEElThX1knmY4oliG</td>\n",
       "      <td>Olivia Rodrigo</td>\n",
       "      <td>...</td>\n",
       "      <td>['alt z', 'pop', 'post-teen pop']</td>\n",
       "      <td>https://i.scdn.co/image/5fb1f691c5d3cdbc54e193...</td>\n",
       "    </tr>\n",
       "    <tr>\n",
       "      <th>4</th>\n",
       "      <td>6KImCVD70vtIoJWnq6nGn3</td>\n",
       "      <td>Harry Styles</td>\n",
       "      <td>...</td>\n",
       "      <td>['pop', 'post-teen pop']</td>\n",
       "      <td>https://i.scdn.co/image/b2163e7456f3d618a0e2a4...</td>\n",
       "    </tr>\n",
       "    <tr>\n",
       "      <th>5</th>\n",
       "      <td>6TOKWuw816UU34AE4MCZqr</td>\n",
       "      <td>Beltito</td>\n",
       "      <td>...</td>\n",
       "      <td>NaN</td>\n",
       "      <td>NaN</td>\n",
       "    </tr>\n",
       "    <tr>\n",
       "      <th>6</th>\n",
       "      <td>7F2utINZ6tSokSiZTQBE27</td>\n",
       "      <td>Guè Pequeno</td>\n",
       "      <td>...</td>\n",
       "      <td>['italian hip hop', 'italian pop']</td>\n",
       "      <td>https://i.scdn.co/image/8c0ddb6022be1bbb4795cb...</td>\n",
       "    </tr>\n",
       "    <tr>\n",
       "      <th>7</th>\n",
       "      <td>2kCcBybjl3SAtIcwdWpUe3</td>\n",
       "      <td>Lil Peep</td>\n",
       "      <td>...</td>\n",
       "      <td>['emo rap', 'lgbtq+ hip hop']</td>\n",
       "      <td>https://i.scdn.co/image/06404029eb0ce3b6f3b9bc...</td>\n",
       "    </tr>\n",
       "    <tr>\n",
       "      <th>8</th>\n",
       "      <td>7b79bQFziJFedJb75k6hFt</td>\n",
       "      <td>Tion Wayne</td>\n",
       "      <td>...</td>\n",
       "      <td>['london rap', 'uk hip hop']</td>\n",
       "      <td>https://i.scdn.co/image/cd5bce94c304c5cd608eda...</td>\n",
       "    </tr>\n",
       "    <tr>\n",
       "      <th>9</th>\n",
       "      <td>2UZIAOlrnyZmyzt1nuXr9y</td>\n",
       "      <td>Nicki Nicole</td>\n",
       "      <td>...</td>\n",
       "      <td>['argentine hip hop', 'r&amp;b argentino', 'trap a...</td>\n",
       "      <td>https://i.scdn.co/image/a5f4ce02d179a6f41fc430...</td>\n",
       "    </tr>\n",
       "  </tbody>\n",
       "</table>\n",
       "<p>10 rows × 6 columns</p>\n",
       "</div>"
      ],
      "text/plain": [
       "                artist_id            name  ...  \\\n",
       "0  4gzpq5DPGxSnKTe4SA8HAU        Coldplay  ...   \n",
       "1  6Te49r3A6f5BiIgBRxH7FH           Ninho  ...   \n",
       "2  4QrBoWLm2WNlPdbFhmlaUZ           KEVVO  ...   \n",
       "3  1McMsnEElThX1knmY4oliG  Olivia Rodrigo  ...   \n",
       "4  6KImCVD70vtIoJWnq6nGn3    Harry Styles  ...   \n",
       "5  6TOKWuw816UU34AE4MCZqr         Beltito  ...   \n",
       "6  7F2utINZ6tSokSiZTQBE27     Guè Pequeno  ...   \n",
       "7  2kCcBybjl3SAtIcwdWpUe3        Lil Peep  ...   \n",
       "8  7b79bQFziJFedJb75k6hFt      Tion Wayne  ...   \n",
       "9  2UZIAOlrnyZmyzt1nuXr9y    Nicki Nicole  ...   \n",
       "\n",
       "                                              genres  \\\n",
       "0                          ['permanent wave', 'pop']   \n",
       "1                  ['french hip hop', 'pop urbaine']   \n",
       "2  ['perreo', 'reggaeton', 'reggaeton flow', 'tra...   \n",
       "3                  ['alt z', 'pop', 'post-teen pop']   \n",
       "4                           ['pop', 'post-teen pop']   \n",
       "5                                                NaN   \n",
       "6                 ['italian hip hop', 'italian pop']   \n",
       "7                      ['emo rap', 'lgbtq+ hip hop']   \n",
       "8                       ['london rap', 'uk hip hop']   \n",
       "9  ['argentine hip hop', 'r&b argentino', 'trap a...   \n",
       "\n",
       "                                           image_url  \n",
       "0  https://i.scdn.co/image/4ffd6710617d289699cc0d...  \n",
       "1  https://i.scdn.co/image/ab67616d0000b2733f12b1...  \n",
       "2  https://i.scdn.co/image/9a75b11e5080f576bdff76...  \n",
       "3  https://i.scdn.co/image/5fb1f691c5d3cdbc54e193...  \n",
       "4  https://i.scdn.co/image/b2163e7456f3d618a0e2a4...  \n",
       "5                                                NaN  \n",
       "6  https://i.scdn.co/image/8c0ddb6022be1bbb4795cb...  \n",
       "7  https://i.scdn.co/image/06404029eb0ce3b6f3b9bc...  \n",
       "8  https://i.scdn.co/image/cd5bce94c304c5cd608eda...  \n",
       "9  https://i.scdn.co/image/a5f4ce02d179a6f41fc430...  \n",
       "\n",
       "[10 rows x 6 columns]"
      ]
     },
     "execution_count": 2,
     "metadata": {},
     "output_type": "execute_result"
    }
   ],
   "source": [
    "# Lendo a tabela modificada\n",
    "df = pd.read_csv('../dataset/spotify_artists_info_edited.csv', sep='\\t', encoding='utf-8')\n",
    "df.head(10)"
   ]
  },
  {
   "cell_type": "markdown",
   "metadata": {},
   "source": [
    "### Dados ausentes \n",
    "\n",
    "Representam um obstáculo para a criação da maioria dos modelos de Aprendizado de Máquina e outras análises. Portanto, é necessário identificar campos para os quais não há dados e, em seguida, compensá-los adequadamente. Dados ausentes podem ocorrer quando nenhuma informação é fornecida para um ou mais registros (ou atributos inteiros) da base de dados. Em um *pandas DataFrame*, os dados ausentes são representados como `None` ou `NaN` (*Not a Number*), embora `NaN` seja o marcador de valor ausente padrão por razões de velocidade e conveniência computacional. \n",
    "\n",
    "Após importar pacotes necessários e carregar o conjunto de dados, inicia-se o processo de Limpeza de dados. Para facilitar a detecção, o *pandas* fornece a função `isna()` para identificar valores ausentes em um *DataFrame*. Esta função retorna uma matriz *booleana* indicando se cada elemento correspondente está faltando (`True`) ou não (`False`). O exemplo a seguir apresenta o uso desta função no *DataFrame* `df` e seleciona as três primeiras linhas por meio da função `head(3)`."
   ]
  },
  {
   "cell_type": "code",
   "execution_count": 3,
   "metadata": {},
   "outputs": [
    {
     "data": {
      "text/html": [
       "<div>\n",
       "<style scoped>\n",
       "    .dataframe tbody tr th:only-of-type {\n",
       "        vertical-align: middle;\n",
       "    }\n",
       "\n",
       "    .dataframe tbody tr th {\n",
       "        vertical-align: top;\n",
       "    }\n",
       "\n",
       "    .dataframe thead th {\n",
       "        text-align: right;\n",
       "    }\n",
       "</style>\n",
       "<table border=\"1\" class=\"dataframe\">\n",
       "  <thead>\n",
       "    <tr style=\"text-align: right;\">\n",
       "      <th></th>\n",
       "      <th>artist_id</th>\n",
       "      <th>name</th>\n",
       "      <th>...</th>\n",
       "      <th>genres</th>\n",
       "      <th>image_url</th>\n",
       "    </tr>\n",
       "  </thead>\n",
       "  <tbody>\n",
       "    <tr>\n",
       "      <th>0</th>\n",
       "      <td>False</td>\n",
       "      <td>False</td>\n",
       "      <td>...</td>\n",
       "      <td>False</td>\n",
       "      <td>False</td>\n",
       "    </tr>\n",
       "    <tr>\n",
       "      <th>1</th>\n",
       "      <td>False</td>\n",
       "      <td>False</td>\n",
       "      <td>...</td>\n",
       "      <td>False</td>\n",
       "      <td>False</td>\n",
       "    </tr>\n",
       "    <tr>\n",
       "      <th>2</th>\n",
       "      <td>False</td>\n",
       "      <td>False</td>\n",
       "      <td>...</td>\n",
       "      <td>False</td>\n",
       "      <td>False</td>\n",
       "    </tr>\n",
       "  </tbody>\n",
       "</table>\n",
       "<p>3 rows × 6 columns</p>\n",
       "</div>"
      ],
      "text/plain": [
       "   artist_id   name  ...  genres  image_url\n",
       "0      False  False  ...   False      False\n",
       "1      False  False  ...   False      False\n",
       "2      False  False  ...   False      False\n",
       "\n",
       "[3 rows x 6 columns]"
      ]
     },
     "execution_count": 3,
     "metadata": {},
     "output_type": "execute_result"
    }
   ],
   "source": [
    "# Esta célula identifica valores ausentes no Dataframe\n",
    "# e exibe as três primeiras linhas\n",
    "df.isna().head(3)"
   ]
  },
  {
   "cell_type": "markdown",
   "metadata": {},
   "source": [
    "Segundo o exemplo anterior, o conjunto de dados está aparentemente completo. Porém, tal resposta não é suficiente para descartar a hipótese de que existem dados ausentes. Para uma melhor averiguação, pode-se resumir cada coluna no *DataFrame booleano* somando os valores `False=0` e `True=1`. Tal processo retorna o número total de valores ausentes. Também pode-se dividir cada valor pelo número total de linhas no conjunto de dados, resultando na porcentagem de tais ausências, conforme o exemplo a seguir."
   ]
  },
  {
   "cell_type": "code",
   "execution_count": 12,
   "metadata": {
    "ExecuteTime": {
     "end_time": "2021-04-20T20:09:52.004424Z",
     "start_time": "2021-04-20T20:09:51.979435Z"
    },
    "cell_style": "center"
   },
   "outputs": [
    {
     "data": {
      "text/html": [
       "<div>\n",
       "<style scoped>\n",
       "    .dataframe tbody tr th:only-of-type {\n",
       "        vertical-align: middle;\n",
       "    }\n",
       "\n",
       "    .dataframe tbody tr th {\n",
       "        vertical-align: top;\n",
       "    }\n",
       "\n",
       "    .dataframe thead th {\n",
       "        text-align: right;\n",
       "    }\n",
       "</style>\n",
       "<table border=\"1\" class=\"dataframe\">\n",
       "  <thead>\n",
       "    <tr style=\"text-align: right;\">\n",
       "      <th></th>\n",
       "      <th>Coluna</th>\n",
       "      <th>Dados ausentes</th>\n",
       "      <th>Porcentagem</th>\n",
       "    </tr>\n",
       "  </thead>\n",
       "  <tbody>\n",
       "    <tr>\n",
       "      <th>artist_id</th>\n",
       "      <td>artist_id</td>\n",
       "      <td>0</td>\n",
       "      <td>0.00</td>\n",
       "    </tr>\n",
       "    <tr>\n",
       "      <th>name</th>\n",
       "      <td>name</td>\n",
       "      <td>0</td>\n",
       "      <td>0.00</td>\n",
       "    </tr>\n",
       "    <tr>\n",
       "      <th>followers</th>\n",
       "      <td>followers</td>\n",
       "      <td>0</td>\n",
       "      <td>0.00</td>\n",
       "    </tr>\n",
       "    <tr>\n",
       "      <th>popularity</th>\n",
       "      <td>popularity</td>\n",
       "      <td>62</td>\n",
       "      <td>9.92</td>\n",
       "    </tr>\n",
       "    <tr>\n",
       "      <th>genres</th>\n",
       "      <td>genres</td>\n",
       "      <td>40</td>\n",
       "      <td>6.40</td>\n",
       "    </tr>\n",
       "    <tr>\n",
       "      <th>image_url</th>\n",
       "      <td>image_url</td>\n",
       "      <td>10</td>\n",
       "      <td>1.60</td>\n",
       "    </tr>\n",
       "  </tbody>\n",
       "</table>\n",
       "</div>"
      ],
      "text/plain": [
       "                Coluna  Dados ausentes  Porcentagem\n",
       "artist_id    artist_id               0         0.00\n",
       "name              name               0         0.00\n",
       "followers    followers               0         0.00\n",
       "popularity  popularity              62         9.92\n",
       "genres          genres              40         6.40\n",
       "image_url    image_url              10         1.60"
      ]
     },
     "execution_count": 12,
     "metadata": {},
     "output_type": "execute_result"
    }
   ],
   "source": [
    "# Calcula o total e a % de valores ausentes\n",
    "num_ausentes = df.isna().sum() \n",
    "porc_ausentes = df.isna().sum() * 100 / len(df)\n",
    "\n",
    "# DataFrame com as informações computadas acima\n",
    "df_ausentes = pd.DataFrame({\n",
    "    'Coluna': df.columns,\n",
    "    'Dados ausentes': num_ausentes,\n",
    "    'Porcentagem': porc_ausentes\n",
    "})\n",
    "df_ausentes"
   ]
  },
  {
   "cell_type": "markdown",
   "metadata": {},
   "source": [
    "O *DataFrame* resultante contém 62 popularidades, 40 listas de gêneros e dez url de imagens ausentes, resultando em 9,9%, 6,4% e 1,6% de registros de cada coluna, respectivamente. Após essa identificação, é necessário tratar esses dados. A abordagem mais simples é eliminar todos os registros que contenham valores ausentes. No *pandas*, o método `dropna()` permite analisar e descartar linhas/colunas com valores nulos. O parâmetro `axis` determina a dimensão em que a função atuará: `axis = 0` remove todas as __linhas__ que contêm valores nulos, e `axis = 1` remove colunas, conforme o seguinte exemplo."
   ]
  },
  {
   "cell_type": "code",
   "execution_count": 13,
   "metadata": {
    "cell_style": "center"
   },
   "outputs": [
    {
     "name": "stdout",
     "output_type": "stream",
     "text": [
      "Nº de linhas do DF original: 625\n",
      "Nº de linhas do DF novo: 529\n",
      "Nº de linhas com pelo menos 1 valor ausente: 96\n"
     ]
    }
   ],
   "source": [
    "# Elimina linhas com valores ausentes\n",
    "novo_df = df.dropna(axis=0)\n",
    "print(f\"\"\"\\\n",
    "Nº de linhas do DF original: {len(df)}\n",
    "Nº de linhas do DF novo: {len(novo_df)}\n",
    "Nº de linhas com pelo menos 1 valor ausente: {\n",
    "(len(df) - len(novo_df))}\"\"\")"
   ]
  },
  {
   "cell_type": "code",
   "execution_count": 14,
   "metadata": {
    "cell_style": "center"
   },
   "outputs": [
    {
     "name": "stdout",
     "output_type": "stream",
     "text": [
      "Nº de colunas do DF original: 6\n",
      "Nº de colunas do DF novo: 3\n",
      "Nº de colunas com pelo menos 1 valor ausente: 3\n"
     ]
    }
   ],
   "source": [
    "# Eliminando colunas com valores ausentes\n",
    "novo_df = df.dropna(axis=1)\n",
    "print(f\"\"\"\\\n",
    "Nº de colunas do DF original: {len(df.columns)}\n",
    "Nº de colunas do DF novo: {len(novo_df.columns)}\n",
    "Nº de colunas com pelo menos 1 valor ausente: {\n",
    "(len(df.columns) - len(novo_df.columns))}\"\"\")"
   ]
  },
  {
   "cell_type": "markdown",
   "metadata": {},
   "source": [
    "Os exemplos anteriores removeram as linhas/colunas onde pelo menos um elemento está faltando. Ambas abordagens são particularmente vantajosas para amostras de grande volume de dados, onde os valores podem ser descartados sem distorcer significativamente a interpretação. Em geral, a estratégia de exclusão é utilizada quando o problema de falta de dados ocorre na maioria das linhas ou colunas do conjunto de dados. No entanto, apesar de ser uma solução simples, ela ainda apresenta o risco de perder dados potencialmente úteis."
   ]
  },
  {
   "cell_type": "markdown",
   "metadata": {},
   "source": [
    "Uma alternativa mais confiável para lidar com dados ausentes é a imputação. Em vez de descartar tais dados, a imputação procura substituir seus valores por outros. Nessa abordagem, os valores ausentes são inferidos a partir dos dados existentes. Existem várias maneiras de imputar os dados, sendo a imputação por valor constante ou por estatísticas básicas (i.e., média, mediana ou moda) as mais simples. No exemplo a seguir, os valores de popularidade ausentes são substituídos pela média das popularidades existentes por meio da função `fillna()`."
   ]
  },
  {
   "cell_type": "code",
   "execution_count": 19,
   "metadata": {},
   "outputs": [],
   "source": [
    "# Substituindo NaNs pela média de valores presentes\n",
    "copia_df = df.copy()\n",
    "copia_df['popularity'].fillna(copia_df['popularity'].mean(), inplace=True)"
   ]
  },
  {
   "cell_type": "code",
   "execution_count": 22,
   "metadata": {
    "cell_style": "split"
   },
   "outputs": [
    {
     "data": {
      "text/plain": [
       "0      90.0\n",
       "1      84.0\n",
       "2      75.0\n",
       "3      89.0\n",
       "4      91.0\n",
       "       ... \n",
       "620    87.0\n",
       "621    73.0\n",
       "622    71.0\n",
       "623     NaN\n",
       "624    74.0\n",
       "Name: popularity, Length: 625, dtype: float64"
      ]
     },
     "execution_count": 22,
     "metadata": {},
     "output_type": "execute_result"
    }
   ],
   "source": [
    "df['popularity']"
   ]
  },
  {
   "cell_type": "code",
   "execution_count": 23,
   "metadata": {
    "cell_style": "split"
   },
   "outputs": [
    {
     "data": {
      "text/plain": [
       "0      90.000000\n",
       "1      84.000000\n",
       "2      75.000000\n",
       "3      89.000000\n",
       "4      91.000000\n",
       "         ...    \n",
       "620    87.000000\n",
       "621    73.000000\n",
       "622    71.000000\n",
       "623    77.513321\n",
       "624    74.000000\n",
       "Name: popularity, Length: 625, dtype: float64"
      ]
     },
     "execution_count": 23,
     "metadata": {},
     "output_type": "execute_result"
    }
   ],
   "source": [
    "copia_df['popularity']"
   ]
  },
  {
   "cell_type": "code",
   "execution_count": 20,
   "metadata": {},
   "outputs": [
    {
     "data": {
      "text/html": [
       "<div>\n",
       "<style scoped>\n",
       "    .dataframe tbody tr th:only-of-type {\n",
       "        vertical-align: middle;\n",
       "    }\n",
       "\n",
       "    .dataframe tbody tr th {\n",
       "        vertical-align: top;\n",
       "    }\n",
       "\n",
       "    .dataframe thead th {\n",
       "        text-align: right;\n",
       "    }\n",
       "</style>\n",
       "<table border=\"1\" class=\"dataframe\">\n",
       "  <thead>\n",
       "    <tr style=\"text-align: right;\">\n",
       "      <th></th>\n",
       "      <th>Coluna</th>\n",
       "      <th>Dados ausentes</th>\n",
       "      <th>Porcentagem</th>\n",
       "    </tr>\n",
       "  </thead>\n",
       "  <tbody>\n",
       "    <tr>\n",
       "      <th>artist_id</th>\n",
       "      <td>artist_id</td>\n",
       "      <td>0</td>\n",
       "      <td>0.0</td>\n",
       "    </tr>\n",
       "    <tr>\n",
       "      <th>name</th>\n",
       "      <td>name</td>\n",
       "      <td>0</td>\n",
       "      <td>0.0</td>\n",
       "    </tr>\n",
       "    <tr>\n",
       "      <th>followers</th>\n",
       "      <td>followers</td>\n",
       "      <td>0</td>\n",
       "      <td>0.0</td>\n",
       "    </tr>\n",
       "    <tr>\n",
       "      <th>popularity</th>\n",
       "      <td>popularity</td>\n",
       "      <td>0</td>\n",
       "      <td>0.0</td>\n",
       "    </tr>\n",
       "    <tr>\n",
       "      <th>genres</th>\n",
       "      <td>genres</td>\n",
       "      <td>40</td>\n",
       "      <td>6.4</td>\n",
       "    </tr>\n",
       "    <tr>\n",
       "      <th>image_url</th>\n",
       "      <td>image_url</td>\n",
       "      <td>10</td>\n",
       "      <td>1.6</td>\n",
       "    </tr>\n",
       "  </tbody>\n",
       "</table>\n",
       "</div>"
      ],
      "text/plain": [
       "                Coluna  Dados ausentes  Porcentagem\n",
       "artist_id    artist_id               0          0.0\n",
       "name              name               0          0.0\n",
       "followers    followers               0          0.0\n",
       "popularity  popularity               0          0.0\n",
       "genres          genres              40          6.4\n",
       "image_url    image_url              10          1.6"
      ]
     },
     "execution_count": 20,
     "metadata": {},
     "output_type": "execute_result"
    }
   ],
   "source": [
    "# Calcula o total e a % de valores ausentes\n",
    "num_ausentes = copia_df.isna().sum() \n",
    "porc_ausentes = copia_df.isna().sum() * 100 / len(copia_df)\n",
    "\n",
    "# DataFrame com as informações computadas acima\n",
    "df_ausentes = pd.DataFrame({\n",
    "    'Coluna': copia_df.columns,\n",
    "    'Dados ausentes': num_ausentes,\n",
    "    'Porcentagem': porc_ausentes\n",
    "})\n",
    "df_ausentes"
   ]
  },
  {
   "cell_type": "markdown",
   "metadata": {},
   "source": [
    "Também existem várias técnicas de imputação avançadas cuja escolha depende da utilização dos dados, por exemplo, depende de um modelo de aprendizado de máquina para inserir e avaliar com precisão os dados ausentes. A imputação múltipla e modelos preditivos podem ser mais precisos, e assim são mais comuns do que métodos mais simples. No entanto, não existe uma maneira ideal de compensar a ausência, pois cada estratégia possui um desempenho melhor ou pior dependendo do conjunto de dados."
   ]
  },
  {
   "cell_type": "markdown",
   "metadata": {},
   "source": [
    "### Dados ruidosos\n",
    "\n",
    "São dados que fornecem informações adicionais mas sem sentido, chamadas de ruído. Geralmente são gerados por alguma falha na coleta de dados, erros de entrada de dados, entre outros. Dados com ruído podem prejudicar resultados de análises e de modelos, como os de Aprendizado de Máquina, por exemplo. Tal problema pode ser solucionado a partir de diferentes abordagens, incluindo o método de Binning, Regressão e algoritmos de agrupamento de dados (*Clustering*).\n",
    "\n",
    "Para reduzir os efeitos de pequenos erros de observação, utiliza-se o método de Binning, que é uma técnica de suavização de dados bem popular. Os dados originais são divididos em segmentos de tamanhos iguais (*bins*) e, em seguida, são substituídos por um valor geral calculado para cada intervalo. Cada segmento é tratado separadamente, onde a substituição de valores pode ser realizada através de valores médios ou limites. No *pandas*, o método Binning usa as funções `qcut()` e `cut()`, que parecem iguais mas são diferentes."
   ]
  },
  {
   "cell_type": "markdown",
   "metadata": {},
   "source": [
    "### `qcut`\n",
    "\n",
    "De acordo com a documentação do *pandas*, `qcut()` é uma função de discretização baseada em quantis: ela procura dividir os dados em *bins* usando percentis com base na distribuição da amostra. A maneira mais simples de usá-la é definir o número de quantis e deixar que o *pandas* descubra como dividir os dados. O exemplo a seguir discretiza a variável `followers` de duas maneiras diferentes: criando cinco *bins* de mesmo tamanho, e configurando três quantis rotulados como \"alto\", \"médio\" e \"baixo\"."
   ]
  },
  {
   "cell_type": "code",
   "execution_count": 24,
   "metadata": {
    "cell_style": "center"
   },
   "outputs": [
    {
     "data": {
      "text/html": [
       "<div>\n",
       "<style scoped>\n",
       "    .dataframe tbody tr th:only-of-type {\n",
       "        vertical-align: middle;\n",
       "    }\n",
       "\n",
       "    .dataframe tbody tr th {\n",
       "        vertical-align: top;\n",
       "    }\n",
       "\n",
       "    .dataframe thead th {\n",
       "        text-align: right;\n",
       "    }\n",
       "</style>\n",
       "<table border=\"1\" class=\"dataframe\">\n",
       "  <thead>\n",
       "    <tr style=\"text-align: right;\">\n",
       "      <th></th>\n",
       "      <th>artist_id</th>\n",
       "      <th>name</th>\n",
       "      <th>...</th>\n",
       "      <th>qcut_1</th>\n",
       "      <th>qcut_2</th>\n",
       "    </tr>\n",
       "  </thead>\n",
       "  <tbody>\n",
       "    <tr>\n",
       "      <th>0</th>\n",
       "      <td>4gzpq5DPGxSnKTe4SA8HAU</td>\n",
       "      <td>Coldplay</td>\n",
       "      <td>...</td>\n",
       "      <td>(6020134.2, 77681514.0]</td>\n",
       "      <td>alto</td>\n",
       "    </tr>\n",
       "    <tr>\n",
       "      <th>1</th>\n",
       "      <td>6Te49r3A6f5BiIgBRxH7FH</td>\n",
       "      <td>Ninho</td>\n",
       "      <td>...</td>\n",
       "      <td>(2373906.0, 6020134.2]</td>\n",
       "      <td>alto</td>\n",
       "    </tr>\n",
       "    <tr>\n",
       "      <th>2</th>\n",
       "      <td>4QrBoWLm2WNlPdbFhmlaUZ</td>\n",
       "      <td>KEVVO</td>\n",
       "      <td>...</td>\n",
       "      <td>(134539.2, 790144.4]</td>\n",
       "      <td>baixo</td>\n",
       "    </tr>\n",
       "  </tbody>\n",
       "</table>\n",
       "<p>3 rows × 8 columns</p>\n",
       "</div>"
      ],
      "text/plain": [
       "                artist_id      name  ...                   qcut_1  qcut_2\n",
       "0  4gzpq5DPGxSnKTe4SA8HAU  Coldplay  ...  (6020134.2, 77681514.0]    alto\n",
       "1  6Te49r3A6f5BiIgBRxH7FH     Ninho  ...   (2373906.0, 6020134.2]    alto\n",
       "2  4QrBoWLm2WNlPdbFhmlaUZ     KEVVO  ...     (134539.2, 790144.4]   baixo\n",
       "\n",
       "[3 rows x 8 columns]"
      ]
     },
     "execution_count": 24,
     "metadata": {},
     "output_type": "execute_result"
    }
   ],
   "source": [
    "# Discretizando:\n",
    "# ... em 5 intervalos de tamanhos iguais\n",
    "df['qcut_1'] = pd.qcut(df['followers'], q=5)\n",
    "# ... usando três quantis\n",
    "df['qcut_2'] = pd.qcut(df['followers'],  \n",
    "    q=[0, .3, .7, 1], \n",
    "    labels=[\"baixo\", \"médio\", \"alto\"])\n",
    "df.head(3)"
   ]
  },
  {
   "cell_type": "markdown",
   "metadata": {},
   "source": [
    "### `cut`\n",
    "\n",
    "Por outro lado, pode-se utilizar a função `cut()` para segmentar e ordenar os dados em *bins*. Enquanto `qcut()` calcula o tamanho de cada *bin*, garantindo que a distribuição dos dados nos compartimentos seja igual, a função `cut()` define bordas exatas dos compartimentos. Ou seja, não há garantia sobre a distribuição de itens em cada *bin*. O exemplo a seguir corta os dados da variável `followers` em quatro *bins* de tamanhos iguais."
   ]
  },
  {
   "cell_type": "code",
   "execution_count": 25,
   "metadata": {
    "cell_style": "center",
    "scrolled": true
   },
   "outputs": [
    {
     "data": {
      "text/html": [
       "<div>\n",
       "<style scoped>\n",
       "    .dataframe tbody tr th:only-of-type {\n",
       "        vertical-align: middle;\n",
       "    }\n",
       "\n",
       "    .dataframe tbody tr th {\n",
       "        vertical-align: top;\n",
       "    }\n",
       "\n",
       "    .dataframe thead th {\n",
       "        text-align: right;\n",
       "    }\n",
       "</style>\n",
       "<table border=\"1\" class=\"dataframe\">\n",
       "  <thead>\n",
       "    <tr style=\"text-align: right;\">\n",
       "      <th></th>\n",
       "      <th>artist_id</th>\n",
       "      <th>name</th>\n",
       "      <th>...</th>\n",
       "      <th>qcut_2</th>\n",
       "      <th>cut_1</th>\n",
       "    </tr>\n",
       "  </thead>\n",
       "  <tbody>\n",
       "    <tr>\n",
       "      <th>0</th>\n",
       "      <td>4gzpq5DPGxSnKTe4SA8HAU</td>\n",
       "      <td>Coldplay</td>\n",
       "      <td>...</td>\n",
       "      <td>alto</td>\n",
       "      <td>(19420416.75, 38840782.5]</td>\n",
       "    </tr>\n",
       "    <tr>\n",
       "      <th>1</th>\n",
       "      <td>6Te49r3A6f5BiIgBRxH7FH</td>\n",
       "      <td>Ninho</td>\n",
       "      <td>...</td>\n",
       "      <td>alto</td>\n",
       "      <td>(-77630.463, 19420416.75]</td>\n",
       "    </tr>\n",
       "    <tr>\n",
       "      <th>2</th>\n",
       "      <td>4QrBoWLm2WNlPdbFhmlaUZ</td>\n",
       "      <td>KEVVO</td>\n",
       "      <td>...</td>\n",
       "      <td>baixo</td>\n",
       "      <td>(-77630.463, 19420416.75]</td>\n",
       "    </tr>\n",
       "  </tbody>\n",
       "</table>\n",
       "<p>3 rows × 9 columns</p>\n",
       "</div>"
      ],
      "text/plain": [
       "                artist_id      name  ...  qcut_2                      cut_1\n",
       "0  4gzpq5DPGxSnKTe4SA8HAU  Coldplay  ...    alto  (19420416.75, 38840782.5]\n",
       "1  6Te49r3A6f5BiIgBRxH7FH     Ninho  ...    alto  (-77630.463, 19420416.75]\n",
       "2  4QrBoWLm2WNlPdbFhmlaUZ     KEVVO  ...   baixo  (-77630.463, 19420416.75]\n",
       "\n",
       "[3 rows x 9 columns]"
      ]
     },
     "execution_count": 25,
     "metadata": {},
     "output_type": "execute_result"
    }
   ],
   "source": [
    "# Discretizando em 4 bins\n",
    "df['cut_1'] = pd.cut(\n",
    "    df['followers'],\n",
    "    bins=4)\n",
    "df.head(3)"
   ]
  },
  {
   "cell_type": "markdown",
   "metadata": {},
   "source": [
    "Conforme mostrado a seguir, se você deseja uma distribuição igual dos valores em cada compartimento, use `qcut()`. Caso contrário, se você quiser definir seus próprios intervalos numéricos de categorias, use a função `cut()`."
   ]
  },
  {
   "cell_type": "code",
   "execution_count": 26,
   "metadata": {
    "cell_style": "split"
   },
   "outputs": [
    {
     "data": {
      "text/plain": [
       "(6020134.2, 77681514.0]    125\n",
       "(2373906.0, 6020134.2]     125\n",
       "(790144.4, 2373906.0]      125\n",
       "(134539.2, 790144.4]       125\n",
       "(50.999, 134539.2]         125\n",
       "Name: qcut_1, dtype: int64"
      ]
     },
     "execution_count": 26,
     "metadata": {},
     "output_type": "execute_result"
    }
   ],
   "source": [
    "df['qcut_1'].value_counts()"
   ]
  },
  {
   "cell_type": "code",
   "execution_count": 27,
   "metadata": {
    "cell_style": "split"
   },
   "outputs": [
    {
     "data": {
      "text/plain": [
       "(-77630.463, 19420416.75]    590\n",
       "(19420416.75, 38840782.5]     28\n",
       "(38840782.5, 58261148.25]      5\n",
       "(58261148.25, 77681514.0]      2\n",
       "Name: cut_1, dtype: int64"
      ]
     },
     "execution_count": 27,
     "metadata": {},
     "output_type": "execute_result"
    }
   ],
   "source": [
    "df['cut_1'].value_counts()"
   ]
  },
  {
   "cell_type": "markdown",
   "metadata": {},
   "source": [
    "### Outliers\n",
    "\n",
    "São amostras de dados notoriamente diferentes da tendência central. São geralmente criados por erros de coleta ou entrada de dados, e podem facilmente produzir valores discrepantes interferindo na qualidade de análises. A maneira mais simples de identificar outliers é observar os valores máximos e mínimos em cada variável para ver se eles estão muito fora da curva normal. O exemplo a seguir utiliza a função `describe()` para gerar estatísticas do conjunto de dados, incluindo os valores máximos e mínimos."
   ]
  },
  {
   "cell_type": "code",
   "execution_count": 28,
   "metadata": {
    "cell_style": "center"
   },
   "outputs": [
    {
     "data": {
      "text/html": [
       "<div>\n",
       "<style scoped>\n",
       "    .dataframe tbody tr th:only-of-type {\n",
       "        vertical-align: middle;\n",
       "    }\n",
       "\n",
       "    .dataframe tbody tr th {\n",
       "        vertical-align: top;\n",
       "    }\n",
       "\n",
       "    .dataframe thead th {\n",
       "        text-align: right;\n",
       "    }\n",
       "</style>\n",
       "<table border=\"1\" class=\"dataframe\">\n",
       "  <thead>\n",
       "    <tr style=\"text-align: right;\">\n",
       "      <th></th>\n",
       "      <th>count</th>\n",
       "      <th>mean</th>\n",
       "      <th>std</th>\n",
       "      <th>min</th>\n",
       "      <th>25%</th>\n",
       "      <th>50%</th>\n",
       "      <th>75%</th>\n",
       "      <th>max</th>\n",
       "    </tr>\n",
       "  </thead>\n",
       "  <tbody>\n",
       "    <tr>\n",
       "      <th>followers</th>\n",
       "      <td>625.0</td>\n",
       "      <td>4471046.0</td>\n",
       "      <td>8194928.0</td>\n",
       "      <td>51.0</td>\n",
       "      <td>222726.0</td>\n",
       "      <td>1256547.0</td>\n",
       "      <td>4809711.0</td>\n",
       "      <td>77681514.0</td>\n",
       "    </tr>\n",
       "    <tr>\n",
       "      <th>popularity</th>\n",
       "      <td>563.0</td>\n",
       "      <td>78.0</td>\n",
       "      <td>10.0</td>\n",
       "      <td>0.0</td>\n",
       "      <td>72.0</td>\n",
       "      <td>79.0</td>\n",
       "      <td>84.0</td>\n",
       "      <td>100.0</td>\n",
       "    </tr>\n",
       "  </tbody>\n",
       "</table>\n",
       "</div>"
      ],
      "text/plain": [
       "            count       mean        std   min       25%        50%        75%  \\\n",
       "followers   625.0  4471046.0  8194928.0  51.0  222726.0  1256547.0  4809711.0   \n",
       "popularity  563.0       78.0       10.0   0.0      72.0       79.0       84.0   \n",
       "\n",
       "                   max  \n",
       "followers   77681514.0  \n",
       "popularity       100.0  "
      ]
     },
     "execution_count": 28,
     "metadata": {},
     "output_type": "execute_result"
    }
   ],
   "source": [
    "pd.set_option('display.max_columns', 10)\n",
    "\n",
    "df.describe().round().transpose()"
   ]
  },
  {
   "cell_type": "markdown",
   "metadata": {},
   "source": [
    "Para o recurso `followers`, o valor máximo é 77,7 milhões de seguidores, enquanto o quartil de 75% é apenas 48 milhões. Portanto, artistas com mais de 77 milhões de seguidores podem ser outliers. Essa verificação geral é melhor realizada através da representação gráfica dos dados numéricos através de seus quartis. Para isso, pode-se utilizar boxplots, onde os valores discrepantes são plotados como pontos individuais. O gráfico do exemplo a seguir mostra a distribuição da variável `followers`."
   ]
  },
  {
   "cell_type": "code",
   "execution_count": 29,
   "metadata": {
    "cell_style": "center"
   },
   "outputs": [
    {
     "data": {
      "text/plain": [
       "<matplotlib.axes._subplots.AxesSubplot at 0x1d461865460>"
      ]
     },
     "execution_count": 29,
     "metadata": {},
     "output_type": "execute_result"
    },
    {
     "data": {
      "image/png": "[encoded data removed]",
      "text/plain": [
       "<Figure size 1080x216 with 1 Axes>"
      ]
     },
     "metadata": {
      "needs_background": "light"
     },
     "output_type": "display_data"
    }
   ],
   "source": [
    "df.boxplot(column=['followers'], figsize=(15, 3), vert=False)"
   ]
  },
  {
   "cell_type": "markdown",
   "metadata": {},
   "source": [
    "Esse exemplo ilustra que existem inúmeros pontos (outliers) entre aproximadamente 12 a 78 milhões (observe que o eixo x está em dezenas de milhões). Embora tenha sido fácil detectar tais valores discrepantes, é preciso determinar as soluções adequadas para tratá-los. Assim como no caso de dados ausentes, o tratamento de outliers depende muito do conjunto de dados e do objetivo do projeto. Soluções possíveis incluem manter, ajustar ou apenas remover os dados discrepantes.\n",
    "\n",
    "Uma técnica comum para a remoção de outliers é o método de Z-score, que considera como outliers e remove valores a uma determinada quantidade de desvios padrões da média. A quantidade desses desvios pode variar conforme o tamanho da amostra. No exemplo a seguir, para identificar e remover os outliers da coluna `followers`, usou-se os z-scores de seus registros com a quantidade de desvios configurada para três. Para a obtenção dos z-scores, foi usado o módulo `stats` da biblioteca `SciPy`."
   ]
  },
  {
   "cell_type": "code",
   "execution_count": 31,
   "metadata": {
    "cell_style": "center"
   },
   "outputs": [
    {
     "name": "stdout",
     "output_type": "stream",
     "text": [
      "18 outliers foram removidos\n"
     ]
    }
   ],
   "source": [
    "z_scores = stats.zscore(df['followers']) # Z-scores dos valores da coluna 'followers'\n",
    "abs_z_scores = np.abs(z_scores) # Obtendo os valores absolutos\n",
    "novo_df = df[abs_z_scores < 3] # Filtra por desvios padrões < 3\n",
    "print(f'{(len(df) - len(novo_df))} outliers foram removidos')"
   ]
  },
  {
   "cell_type": "markdown",
   "metadata": {},
   "source": [
    "### Dados duplicados\n",
    "\n",
    "Aparecem em muitos contextos, especialmente durante a entrada ou coleta de dados. Por exemplo, ao usar um *web scraper*, ele pode coletar a mesma página web mais de uma vez ou as mesmas informações de duas páginas diferentes. Independente da causa, a duplicação de dados pode levar a conclusões incorretas, onde algumas observações podem ser consideradas mais comuns do que realmente são. O exemplo a seguir mostra quantas linhas estão duplicadas em cada coluna do conjunto de dados"
   ]
  },
  {
   "cell_type": "code",
   "execution_count": 33,
   "metadata": {
    "cell_style": "center"
   },
   "outputs": [
    {
     "name": "stdout",
     "output_type": "stream",
     "text": [
      "Total de linhas duplicadas na artist_id: 0\n",
      "Total de linhas duplicadas na name: 1\n",
      "Total de linhas duplicadas na followers: 0\n",
      "Total de linhas duplicadas na popularity: 569\n",
      "Total de linhas duplicadas na genres: 136\n",
      "Total de linhas duplicadas na image_url: 10\n",
      "Total de linhas duplicadas na qcut_1: 620\n",
      "Total de linhas duplicadas na qcut_2: 622\n",
      "Total de linhas duplicadas na cut_1: 621\n"
     ]
    }
   ],
   "source": [
    "# Para cada coluna,\n",
    "for coluna in df.columns:\n",
    "    # Seleciona linhas duplicadas\n",
    "    duplicatas_df = df[df.duplicated(coluna)]\n",
    "    \n",
    "    print(f\"Total de linhas duplicadas \"\n",
    "          f\"na {coluna}: {len(duplicatas_df)}\")"
   ]
  },
  {
   "cell_type": "markdown",
   "metadata": {},
   "source": [
    "No exemplo, apenas duas colunas do *DataFrame* não possuem duplicatas: `artist_id` e `followers`. Além disso, nota-se que existem duas cópias do nome de um mesmo artista. Essa duplicidade de dados é a categoria mais simples de duplicatas: são cópias exatamente iguais de um mesmo registro. Para resolver, basta identificar os valores idênticos e removê-los. O *pandas* fornece o método `drop_duplicates()` que retorna um novo *DataFrame* com linhas duplicadas removidas, como no exemplo a seguir."
   ]
  },
  {
   "cell_type": "code",
   "execution_count": 34,
   "metadata": {},
   "outputs": [
    {
     "name": "stdout",
     "output_type": "stream",
     "text": [
      "Total de linhas duplicadas: 0\n"
     ]
    }
   ],
   "source": [
    "novo_df = df.drop_duplicates() # Remove as linhas duplicadas\n",
    "duplicatas_df = novo_df[novo_df.duplicated()] # calcula o total de linhas duplicadas\n",
    "print(f\"Total de linhas duplicadas: {len(duplicatas_df)}\")"
   ]
  },
  {
   "cell_type": "markdown",
   "metadata": {},
   "source": [
    "Com apenas uma lista de registros com duplicatas, a melhor e mais simples solução é geralmente a remoção. Porém, com dados tabulares, a melhor solução é remover os dados duplicados considerando os identificadores exclusivos. Por exemplo, `artist_id` é a coluna de identificadores únicos, facilitando verificar se o registro duplo pode ser descartado, conforme o seguinte."
   ]
  },
  {
   "cell_type": "code",
   "execution_count": 35,
   "metadata": {
    "cell_style": "center"
   },
   "outputs": [
    {
     "data": {
      "text/html": [
       "<div>\n",
       "<style scoped>\n",
       "    .dataframe tbody tr th:only-of-type {\n",
       "        vertical-align: middle;\n",
       "    }\n",
       "\n",
       "    .dataframe tbody tr th {\n",
       "        vertical-align: top;\n",
       "    }\n",
       "\n",
       "    .dataframe thead th {\n",
       "        text-align: right;\n",
       "    }\n",
       "</style>\n",
       "<table border=\"1\" class=\"dataframe\">\n",
       "  <thead>\n",
       "    <tr style=\"text-align: right;\">\n",
       "      <th></th>\n",
       "      <th>artist_id</th>\n",
       "      <th>name</th>\n",
       "      <th>...</th>\n",
       "      <th>qcut_2</th>\n",
       "      <th>cut_1</th>\n",
       "    </tr>\n",
       "  </thead>\n",
       "  <tbody>\n",
       "    <tr>\n",
       "      <th>88</th>\n",
       "      <td>30vzHJVtI7JWEKqk40eOdz</td>\n",
       "      <td>Niack</td>\n",
       "      <td>...</td>\n",
       "      <td>baixo</td>\n",
       "      <td>(-77630.463, 19420416.75]</td>\n",
       "    </tr>\n",
       "    <tr>\n",
       "      <th>249</th>\n",
       "      <td>5uYe4bcAXlMP7d4mrOYkML</td>\n",
       "      <td>Niack</td>\n",
       "      <td>...</td>\n",
       "      <td>baixo</td>\n",
       "      <td>(-77630.463, 19420416.75]</td>\n",
       "    </tr>\n",
       "  </tbody>\n",
       "</table>\n",
       "<p>2 rows × 9 columns</p>\n",
       "</div>"
      ],
      "text/plain": [
       "                  artist_id   name  ...  qcut_2                      cut_1\n",
       "88   30vzHJVtI7JWEKqk40eOdz  Niack  ...   baixo  (-77630.463, 19420416.75]\n",
       "249  5uYe4bcAXlMP7d4mrOYkML  Niack  ...   baixo  (-77630.463, 19420416.75]\n",
       "\n",
       "[2 rows x 9 columns]"
      ]
     },
     "execution_count": 35,
     "metadata": {},
     "output_type": "execute_result"
    }
   ],
   "source": [
    "pd.set_option('display.max_columns', 5)\n",
    "# Extrai o nome duplicado\n",
    "nome_duplicado = df[df.duplicated(['name'])].name\n",
    "\n",
    "# Linhas onde 'name' é igual ao nome duplicado\n",
    "df.loc[df['name'].isin(nome_duplicado)]"
   ]
  },
  {
   "cell_type": "markdown",
   "metadata": {},
   "source": [
    "Os resultados mostram dois artistas de nome \"Niack\" com identificadores diferentes; logo, não descartáveis. Existem outras formas complexas, onde mais de um registro é associado à mesma observação, porém seus valores não são completamente idênticos. Por exemplo, nomes próprios com e sem abreviação ou omissão de algum dos sobrenomes. Essa duplicação parcial é mais difícil de identificar, pois requer entender se realmente os registros duplicados dizem respeito ao mesmo objeto. Nesses casos, uma solução comum é utilizar funções de similaridade de strings.\n",
    "\n",
    "A biblioteca Python `FuzzyWuzzy` usa a distância de Levenshtein para calcular as diferenças entre duas strings. Essa distância é calculada a partir da contagem de operações de inserção, remoção ou substituição necessárias para transformar uma string em outra. A seguir, as funções `ratio()` e `partial_ratio()` encontram cópias não idênticas de nomes de artistas. O código retorna duas prováveis duplicações parciais: na primeira, os dois nomes identificam duas artistas distintas, não se podendo removê-las; na segunda, \"Red Velvet\" denomina um grupo feminino sul-coreano, mas o nome \"Red Velvet - Irene & Seulgi\" foi cadastrado na plataforma Spotify para representar a primeira subunidade do grupo (composto por Irene & Seulgi)."
   ]
  },
  {
   "cell_type": "code",
   "execution_count": 36,
   "metadata": {},
   "outputs": [
    {
     "name": "stdout",
     "output_type": "stream",
     "text": [
      "The Blessed Madonna (100) | Madonna (54)\n",
      "Red Velvet - IRENE & SEULGI (100) | Red Velvet (54)\n"
     ]
    }
   ],
   "source": [
    "combinacoes = combinations(df.name, 2) # gera todas as combinações\n",
    "for nome_1, nome_2 in list(combinacoes): # para cada tupla de nomes,\n",
    "    partial_ratio = fuzz.partial_ratio(nome_1, nome_2) # similaridade parcial\n",
    "    ratio = fuzz.ratio(nome_1, nome_2) # similaridade simples\n",
    "    \n",
    "    # Se os nomes forem parcialmente iguais, porém não identicos,\n",
    "    if partial_ratio == 100 and ratio < 100 and ratio > 50:\n",
    "        print(f'{nome_1} ({partial_ratio}) | {nome_2} ({ratio})')"
   ]
  },
  {
   "cell_type": "markdown",
   "metadata": {},
   "source": [
    "### Conclusão\n",
    "\n",
    "Este notebook apresentou como fazer a limpeza inicial de dados de dados.\n",
    "\n",
    "A próxima parte ([4.Transformacao](../4.Transformacao/4.1.Integracao.ipynb)) apresenta como fazer a integração, transformação e redução de dados de várias fontes."
   ]
  },
  {
   "cell_type": "code",
   "execution_count": null,
   "metadata": {},
   "outputs": [],
   "source": []
  }
 ],
 "metadata": {
  "julynter-results": {
   "filteredId": [],
   "filteredIndividual": [],
   "filteredRestart": [],
   "filteredType": [],
   "hash": "3e97903641083aa633eee000628a202ffd7c34e3",
   "visible": [
    {
     "cellId": "group",
     "hash": "c0de46ba034d710c2b2406a37ee6816be9634aa0",
     "reason": "This groups other lint messages",
     "reportId": "group",
     "reportType": "hiddenstate",
     "suggestion": null,
     "text": "Hidden State"
    },
    {
     "cellId": 2,
     "hash": "71d2b721a8a21948e50ef4dcebaa8038e9e7b930",
     "reason": "A skip in the execution count might indicate the presence of a hidden state caused by a cell that does not exist anymore. Hidden states might prevent cells from executing or producing the same results, hampering the reproducibility.",
     "reportId": "h4",
     "reportType": "hiddenstate",
     "suggestion": "Please consider re-running the notebook to guarantee the reproducibility.",
     "text": "Cell 2 skips the execution count"
    }
   ]
  },
  "kernelspec": {
   "display_name": "Python 3",
   "language": "python",
   "name": "python3"
  },
  "language_info": {
   "codemirror_mode": {
    "name": "ipython",
    "version": 3
   },
   "file_extension": ".py",
   "mimetype": "text/x-python",
   "name": "python",
   "nbconvert_exporter": "python",
   "pygments_lexer": "ipython3",
   "version": "3.8.5"
  },
  "latex_envs": {
   "LaTeX_envs_menu_present": true,
   "autoclose": true,
   "autocomplete": true,
   "bibliofile": "biblio.bib",
   "cite_by": "apalike",
   "current_citInitial": 1,
   "eqLabelWithNumbers": true,
   "eqNumInitial": 1,
   "hotkeys": {
    "equation": "Ctrl-E",
    "itemize": "Ctrl-I"
   },
   "labels_anchors": false,
   "latex_user_defs": false,
   "report_style_numbering": false,
   "user_envs_cfg": false
  },
  "varInspector": {
   "cols": {
    "lenName": 16,
    "lenType": 16,
    "lenVar": 40
   },
   "kernels_config": {
    "python": {
     "delete_cmd_postfix": "",
     "delete_cmd_prefix": "del ",
     "library": "var_list.py",
     "varRefreshCmd": "print(var_dic_list())"
    },
    "r": {
     "delete_cmd_postfix": ") ",
     "delete_cmd_prefix": "rm(",
     "library": "var_list.r",
     "varRefreshCmd": "cat(var_dic_list()) "
    }
   },
   "types_to_exclude": [
    "module",
    "function",
    "builtin_function_or_method",
    "instance",
    "_Feature"
   ],
   "window_display": false
  }
 },
 "nbformat": 4,
 "nbformat_minor": 4
}
