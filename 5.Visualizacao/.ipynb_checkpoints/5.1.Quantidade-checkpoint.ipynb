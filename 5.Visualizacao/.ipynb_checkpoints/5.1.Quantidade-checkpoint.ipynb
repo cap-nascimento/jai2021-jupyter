{
 "cells": [
  {
   "cell_type": "markdown",
   "metadata": {},
   "source": [
    "# Visualização - Quantidade\n",
    "\n",
    "Ao visualizarmos quantidades, estamos interessados em analisar a magnitude de algum conjunto de números. Por exemplo, podemos querer visualizar o número total de streams de diferentes tipos de música, ou o número total de artistas para cada tipo de gênero musical. Em todos esses casos, temos um conjunto de categorias (por exemplo, tipos de música e gêneros musicais) e um valor quantitativo para cada categoria. A visualização mais utilizada para este cenário é o gráfico de barras, que pode ter barras simples, agrupadas ou empilhadas. Em um gráfico de barras, cada entidade da variável categórica é representada como uma barra e o tamanho da barra representa seu valor numérico."
   ]
  },
  {
   "cell_type": "code",
   "execution_count": 1,
   "metadata": {},
   "outputs": [],
   "source": [
    "# Importando os pacotes necessários\n",
    "import pandas as pd\n",
    "import numpy as np\n",
    "import seaborn as sns\n",
    "import matplotlib.pyplot as plt\n",
    "\n",
    "pd.set_option('display.max_columns', 6)"
   ]
  },
  {
   "cell_type": "code",
   "execution_count": 2,
   "metadata": {},
   "outputs": [],
   "source": [
    "# Lendo os dados\n",
    "df_artistas = pd.read_table('../dataset/spotify_artists_info_complete.tsv',\n",
    "                            encoding='utf-8')\n",
    "df_hits = pd.read_table('../dataset/spotify_hits_dataset_complete.tsv',\n",
    "                        encoding='utf-8')\n",
    "df_charts = pd.read_table('../dataset/spotify_charts_complete.tsv',\n",
    "                          encoding='utf-8')"
   ]
  },
  {
   "cell_type": "code",
   "execution_count": 3,
   "metadata": {},
   "outputs": [
    {
     "data": {
      "text/html": [
       "<div>\n",
       "<style scoped>\n",
       "    .dataframe tbody tr th:only-of-type {\n",
       "        vertical-align: middle;\n",
       "    }\n",
       "\n",
       "    .dataframe tbody tr th {\n",
       "        vertical-align: top;\n",
       "    }\n",
       "\n",
       "    .dataframe thead th {\n",
       "        text-align: right;\n",
       "    }\n",
       "</style>\n",
       "<table border=\"1\" class=\"dataframe\">\n",
       "  <thead>\n",
       "    <tr style=\"text-align: right;\">\n",
       "      <th></th>\n",
       "      <th>song_type</th>\n",
       "      <th>popularity</th>\n",
       "      <th>explicit</th>\n",
       "      <th>...</th>\n",
       "      <th>tempo</th>\n",
       "      <th>position</th>\n",
       "      <th>streams</th>\n",
       "    </tr>\n",
       "  </thead>\n",
       "  <tbody>\n",
       "    <tr>\n",
       "      <th>0</th>\n",
       "      <td>Collaboration</td>\n",
       "      <td>355077</td>\n",
       "      <td>2014</td>\n",
       "      <td>...</td>\n",
       "      <td>552656.865</td>\n",
       "      <td>451801</td>\n",
       "      <td>41018982499</td>\n",
       "    </tr>\n",
       "    <tr>\n",
       "      <th>1</th>\n",
       "      <td>Solo</td>\n",
       "      <td>450823</td>\n",
       "      <td>2226</td>\n",
       "      <td>...</td>\n",
       "      <td>704102.936</td>\n",
       "      <td>593399</td>\n",
       "      <td>53777416027</td>\n",
       "    </tr>\n",
       "  </tbody>\n",
       "</table>\n",
       "<p>2 rows × 21 columns</p>\n",
       "</div>"
      ],
      "text/plain": [
       "       song_type  popularity  explicit  ...       tempo  position      streams\n",
       "0  Collaboration      355077      2014  ...  552656.865    451801  41018982499\n",
       "1           Solo      450823      2226  ...  704102.936    593399  53777416027\n",
       "\n",
       "[2 rows x 21 columns]"
      ]
     },
     "execution_count": 3,
     "metadata": {},
     "output_type": "execute_result"
    }
   ],
   "source": [
    "# Junção dos dois DataFrames\n",
    "data = pd.merge(df_hits, df_charts, on='song_id')\n",
    "\n",
    "# Agrupando o DataFrame resultante pelo tipo de música e agregando os valores das variáveis numéricas\n",
    "df = data.groupby(by=['song_type']).sum()\n",
    "df = df.reset_index()\n",
    "df.head()"
   ]
  },
  {
   "cell_type": "code",
   "execution_count": 4,
   "metadata": {
    "cell_style": "center"
   },
   "outputs": [],
   "source": [
    "# Criando o DataFrame\n",
    "df = pd.DataFrame({\n",
    "    'Tipos de Música': df.song_type,\n",
    "    'Total de Streams': df.streams\n",
    "})"
   ]
  },
  {
   "cell_type": "markdown",
   "metadata": {},
   "source": [
    "## Gráfico de barra\n",
    "\n",
    "Para exemplificar o conceito de gráfico de barras, considere o total de streams no Spotify para as músicas solo e colaborativas mais populares em 2020. Este tipo de dado é comumente visualizado com barras horizontais ou verticais. No exemplo a seguir, mostramos como construir um gráfico de barras simples usando Matplotlib e Seaborn. Especificamente, para cada tipo de música, desenhamos uma barra que começa em zero e se estende até o valor de streams."
   ]
  },
  {
   "cell_type": "code",
   "execution_count": 5,
   "metadata": {
    "cell_style": "split"
   },
   "outputs": [
    {
     "data": {
      "image/png": "[encoded data removed]",
      "text/plain": [
       "<Figure size 504x108 with 1 Axes>"
      ]
     },
     "metadata": {
      "needs_background": "light"
     },
     "output_type": "display_data"
    }
   ],
   "source": [
    "# Criando um gráfico de barras horizontal\n",
    "fig, ax = plt.subplots()\n",
    "ax.barh(y=df['Tipos de Música'],\n",
    "    width=df['Total de Streams'])\n",
    "ax.set_xlabel('Total de Streams')\n",
    "ax.set_ylabel('Tipos de Música')\n",
    "fig.set_size_inches(7, 1.5)"
   ]
  },
  {
   "cell_type": "code",
   "execution_count": 6,
   "metadata": {
    "cell_style": "split"
   },
   "outputs": [
    {
     "data": {
      "image/png": "[encoded data removed]",
      "text/plain": [
       "<Figure size 504x108 with 1 Axes>"
      ]
     },
     "metadata": {
      "needs_background": "light"
     },
     "output_type": "display_data"
    }
   ],
   "source": [
    "# Criando um gráfico de barras horizontal\n",
    "sns.barplot(data=df,\n",
    "    x=\"Total de Streams\",\n",
    "    y=\"Tipos de Música\",\n",
    "    order=['Solo', 'Collaboration'],\n",
    "    color='#3274A1')\n",
    "plt.gcf().set_size_inches(7, 1.5)"
   ]
  },
  {
   "cell_type": "markdown",
   "metadata": {},
   "source": [
    "## Barras agrupadas\n",
    "O exemplo anterior mostra como uma quantidade quantitativa varia em relação a uma variável categórica. Entretanto, frequentemente, estamos interessados em duas variáveis categóricas ao mesmo tempo. Considere, por exemplo, que queremos saber o total de streams de acordo com a expliciticidade das músicas, além do tipo da música. Podemos visualizar esse conjunto de dados com um gráfico de barras agrupadas. Em um gráfico de barras agrupadas, desenhamos um grupo de barras em cada posição ao longo do eixo x, determinado por uma variável categórica, e então desenhamos barras dentro de cada grupo de acordo com a outra variável categórica."
   ]
  },
  {
   "cell_type": "code",
   "execution_count": 7,
   "metadata": {},
   "outputs": [
    {
     "data": {
      "text/html": [
       "<div>\n",
       "<style scoped>\n",
       "    .dataframe tbody tr th:only-of-type {\n",
       "        vertical-align: middle;\n",
       "    }\n",
       "\n",
       "    .dataframe tbody tr th {\n",
       "        vertical-align: top;\n",
       "    }\n",
       "\n",
       "    .dataframe thead th {\n",
       "        text-align: right;\n",
       "    }\n",
       "</style>\n",
       "<table border=\"1\" class=\"dataframe\">\n",
       "  <thead>\n",
       "    <tr style=\"text-align: right;\">\n",
       "      <th></th>\n",
       "      <th>song_type</th>\n",
       "      <th>explicit</th>\n",
       "      <th>popularity</th>\n",
       "      <th>...</th>\n",
       "      <th>tempo</th>\n",
       "      <th>position</th>\n",
       "      <th>streams</th>\n",
       "    </tr>\n",
       "  </thead>\n",
       "  <tbody>\n",
       "    <tr>\n",
       "      <th>0</th>\n",
       "      <td>Collaboration</td>\n",
       "      <td>False</td>\n",
       "      <td>199093</td>\n",
       "      <td>...</td>\n",
       "      <td>294853.524</td>\n",
       "      <td>257806</td>\n",
       "      <td>21419775132</td>\n",
       "    </tr>\n",
       "    <tr>\n",
       "      <th>1</th>\n",
       "      <td>Collaboration</td>\n",
       "      <td>True</td>\n",
       "      <td>155984</td>\n",
       "      <td>...</td>\n",
       "      <td>257803.341</td>\n",
       "      <td>193995</td>\n",
       "      <td>19599207367</td>\n",
       "    </tr>\n",
       "    <tr>\n",
       "      <th>2</th>\n",
       "      <td>Solo</td>\n",
       "      <td>False</td>\n",
       "      <td>278235</td>\n",
       "      <td>...</td>\n",
       "      <td>427566.058</td>\n",
       "      <td>359947</td>\n",
       "      <td>34681135818</td>\n",
       "    </tr>\n",
       "    <tr>\n",
       "      <th>3</th>\n",
       "      <td>Solo</td>\n",
       "      <td>True</td>\n",
       "      <td>172588</td>\n",
       "      <td>...</td>\n",
       "      <td>276536.878</td>\n",
       "      <td>233452</td>\n",
       "      <td>19096280209</td>\n",
       "    </tr>\n",
       "  </tbody>\n",
       "</table>\n",
       "<p>4 rows × 21 columns</p>\n",
       "</div>"
      ],
      "text/plain": [
       "       song_type  explicit  popularity  ...       tempo  position      streams\n",
       "0  Collaboration     False      199093  ...  294853.524    257806  21419775132\n",
       "1  Collaboration      True      155984  ...  257803.341    193995  19599207367\n",
       "2           Solo     False      278235  ...  427566.058    359947  34681135818\n",
       "3           Solo      True      172588  ...  276536.878    233452  19096280209\n",
       "\n",
       "[4 rows x 21 columns]"
      ]
     },
     "execution_count": 7,
     "metadata": {},
     "output_type": "execute_result"
    }
   ],
   "source": [
    "# Agrupando o DataFrame 'data' pelo tipo de música e a expliciticidade e agregando os valores das variáveis numéricas\n",
    "df = data.groupby(by=['song_type', 'explicit']).sum()\n",
    "df = df.reset_index()\n",
    "df.head()"
   ]
  },
  {
   "cell_type": "code",
   "execution_count": 8,
   "metadata": {},
   "outputs": [],
   "source": [
    "# Criando o DataFrame\n",
    "df = pd.DataFrame({\n",
    "    'Tipos de Música': df.song_type,\n",
    "    'Total de Streams': df.streams,\n",
    "    'Explícita': df.explicit,\n",
    "})"
   ]
  },
  {
   "cell_type": "code",
   "execution_count": 9,
   "metadata": {
    "cell_style": "center"
   },
   "outputs": [
    {
     "name": "stderr",
     "output_type": "stream",
     "text": [
      "Note: NumExpr detected 12 cores but \"NUMEXPR_MAX_THREADS\" not set, so enforcing safe limit of 8.\n",
      "NumExpr defaulting to 8 threads.\n"
     ]
    },
    {
     "data": {
      "image/png": "[encoded data removed]",
      "text/plain": [
       "<Figure size 504x180 with 1 Axes>"
      ]
     },
     "metadata": {
      "needs_background": "light"
     },
     "output_type": "display_data"
    }
   ],
   "source": [
    "# Criando um gráfico de barras agrupadas\n",
    "sns.barplot(\n",
    "    x=\"Tipos de Música\",\n",
    "    y=\"Total de Streams\",\n",
    "    hue=\"Explícita\", \n",
    "    data=df\n",
    ")\n",
    "plt.gcf().set_size_inches(7, 2.5)"
   ]
  },
  {
   "cell_type": "markdown",
   "metadata": {},
   "source": [
    "## Conclusão\n",
    "\n",
    "Este notebook apresentou como visualizar quantidades\n",
    "\n",
    "O próximo notebook ([5.2.Distribuicao.ipynb](5.2.Distribuicao.ipynb)) apresenta como visualizar distribuições."
   ]
  }
 ],
 "metadata": {
  "julynter-results": {
   "filteredId": [],
   "filteredIndividual": [],
   "filteredRestart": [],
   "filteredType": [],
   "hash": "06d8556bc2eb19025b0370a091f9098a39f64d2b",
   "visible": []
  },
  "kernelspec": {
   "display_name": "Python 3",
   "language": "python",
   "name": "python3"
  },
  "language_info": {
   "codemirror_mode": {
    "name": "ipython",
    "version": 3
   },
   "file_extension": ".py",
   "mimetype": "text/x-python",
   "name": "python",
   "nbconvert_exporter": "python",
   "pygments_lexer": "ipython3",
   "version": "3.8.5"
  },
  "latex_envs": {
   "LaTeX_envs_menu_present": true,
   "autoclose": true,
   "autocomplete": true,
   "bibliofile": "biblio.bib",
   "cite_by": "apalike",
   "current_citInitial": 1,
   "eqLabelWithNumbers": true,
   "eqNumInitial": 1,
   "hotkeys": {
    "equation": "Ctrl-E",
    "itemize": "Ctrl-I"
   },
   "labels_anchors": false,
   "latex_user_defs": false,
   "report_style_numbering": false,
   "user_envs_cfg": false
  }
 },
 "nbformat": 4,
 "nbformat_minor": 4
}
