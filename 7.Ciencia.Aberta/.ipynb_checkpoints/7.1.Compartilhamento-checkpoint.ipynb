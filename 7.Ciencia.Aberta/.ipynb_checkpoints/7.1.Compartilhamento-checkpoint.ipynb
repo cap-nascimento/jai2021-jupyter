{
 "cells": [
  {
   "cell_type": "markdown",
   "metadata": {},
   "source": [
    "# Compartilhamento de Notebooks\n",
    "\n",
    "Arquivos de notebooks possuem código e resultados de execução de notebook. Por conterem código, é natural que se usem plataformas de compartilhamento e versionamento de código, como GitHub.\n",
    "Essas plataformas utilizam o git\n",
    "ou outro sistema de versionamento para gerenciar diferentes versões do código e chegam a implementar a visualização de notebooks em suas interfaces web.\n",
    "\n",
    "Apesar de permitirem o armazenamento de arquivos de notebooks, ferramentas como git podem não ser a escolha ideal para experimentos científicos por diversos motivos. Primeiro, elas tentam realizar operações de *diff* em arquivos de texto para reduzir a sobrecarga do armazenamento de versões e permitir o desenvolvimento paralelo. Como notebooks são armazenados em arquivos de texto (JSON) que também possuem resultados binários (imagens) dentro, a realização do *diff* pode falhar e induzir ao erro no uso habitual de notebooks. Ferramentas como [nbdime](https://nbdime.readthedocs.io/en/latest/) podem reduzir o problema com operações de *diff* e *merge*, mas exigem que cientistas as usem ativamente por fora do uso padrão do git. Segundo, experimentos científicos costumam ter grandes conjuntos de dados de entrada que precisam ser compartilhados para garantir a reprodutibilidade. Por ser projetado para fazer versionamento de código, o git não lida bem com um volume grande da dados e plataformas como GitHub restringem o tamanho de arquivos e de repositórios, inviabilizando o uso. Por fim, não existe uma garantia de que páginas do GitHub se manterão sem mudanças ao longo do tempo.\n",
    "\n",
    "Dessa forma, ao citar que um repositório possui dados do experimento, existe a possibilidade do repositório versionado de código evoluir e deixar de representar o experimento citado em um artigo. Esse problema pode ser amenizado com a citação de uma versão específica, mas requer um trabalho a mais de cientistas marcarem a versão.\n",
    "\n",
    "Por conta dessas limitações, repositórios de acesso aberto como [figshare](https://figshare.com/) e [Zenodo](https://zenodo.org/) foram criados especificamente para permitir o compartilhamento de dados científicos, notebooks e outros artefatos digitais. Apesar de permitirem o versionamento dos dados, essas plataformas não foram projetadas para o desenvolvimento contínuo de versões. Ao invés disso, elas promovem o compartilhamento de versões finais dos experimentos, com a indicação de licenças apropriadas e documentação de como reproduzir. Após a confirmação do envio, essas plataformas geram números de DOI que podem ser citados em artigos com a garantia de que não ocorrerão mudanças.\n",
    "\n"
   ]
  },
  {
   "cell_type": "markdown",
   "metadata": {},
   "source": [
    "## Todo -> Reprodução e boas práticas"
   ]
  },
  {
   "cell_type": "code",
   "execution_count": null,
   "metadata": {},
   "outputs": [],
   "source": []
  }
 ],
 "metadata": {
  "julynter-results": {
   "filteredId": [],
   "filteredIndividual": [],
   "filteredRestart": [],
   "filteredType": [],
   "hash": "c6ee2b7fe6c7d77d201e2cdf4755f0033f5a245b",
   "visible": []
  },
  "kernelspec": {
   "display_name": "Python 3",
   "language": "python",
   "name": "python3"
  },
  "language_info": {
   "codemirror_mode": {
    "name": "ipython",
    "version": 3
   },
   "file_extension": ".py",
   "mimetype": "text/x-python",
   "name": "python",
   "nbconvert_exporter": "python",
   "pygments_lexer": "ipython3",
   "version": "3.8.5"
  }
 },
 "nbformat": 4,
 "nbformat_minor": 4
}
