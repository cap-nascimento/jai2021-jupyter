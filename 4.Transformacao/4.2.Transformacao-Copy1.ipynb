{
 "cells": [
  {
   "cell_type": "code",
   "execution_count": 1,
   "metadata": {},
   "outputs": [],
   "source": [
    "# Importando os pacotes necessários\n",
    "import pandas as pd\n",
    "import numpy as np\n",
    "\n",
    "from IPython.core.display import display, HTML\n",
    "\n",
    "from sklearn.linear_model import LogisticRegression\n",
    "from sklearn.metrics import accuracy_score\n",
    "from sklearn.utils import resample\n",
    "from sklearn.preprocessing import MinMaxScaler, StandardScaler\n",
    "\n",
    "pd.set_option('display.max_columns', 10)\n",
    "pd.options.mode.chained_assignment = None  # default='warn'"
   ]
  },
  {
   "cell_type": "code",
   "execution_count": 2,
   "metadata": {},
   "outputs": [],
   "source": [
    "def display_side_by_side(dfs: list, captions: list):\n",
    "    \"\"\"Display tables side by side to save vertical space\n",
    "    Input:\n",
    "        dfs: list of pandas.DataFrame\n",
    "        captions: list of table captions\n",
    "    \"\"\"\n",
    "    output = \"\"\n",
    "    combined = dict(zip(captions, dfs))\n",
    "    for caption, df in combined.items():\n",
    "        output += df.style.set_table_attributes(\n",
    "            \"style='display:inline'\").set_caption(caption)._repr_html_()\n",
    "        output += \"\\xa0\\xa0\\xa0\"\n",
    "    display(HTML(output))"
   ]
  },
  {
   "cell_type": "markdown",
   "metadata": {},
   "source": [
    "# Transformação de Dados\n",
    "---\n",
    "\n",
    "Em geral, após um processo de <ins>**Integração de dados**</ins>, colunas com diferentes tipos de dados podem ser geradas. \n",
    "\n",
    "Na <ins>**Transformação de dados**</ins>, o principal objetivo é exatamente **transformar** os dados de diferentes formatos em um formato suportado pelo processo de pesquisa, e.g., modelos e algoritmos. \n",
    "\n",
    "A <ins>**Transformação de dados**</ins> possui algumas etapas em comum com a <ins>**Limpeza de dados**</ins>, incluindo técnicas de remoção de ruído e discretização de dados. \n",
    "\n",
    "Portanto, nesta etapa, nós vamos investigar as demais etapas envolvidas nesta fase de *Preparação de dados*."
   ]
  },
  {
   "cell_type": "markdown",
   "metadata": {},
   "source": [
    "## Dados não padronizados\n",
    "\n",
    "Dados coletados de diferentes fontes podem reunir dados **heterogêneos**, **não padronizados** e em **diferentes escalas**. \n",
    "\n",
    "O escalonamento de tais dados não é uma etapa obrigatória, mas uma boa prática! \n",
    "\n",
    "> **Mas... Por que precisamos dimensionar as variáveis em nosso conjunto de dados?**\n",
    "\n",
    "> *Atributos padronizados podem auxiliar o desempenho de modelos, algoritmos e afins que são sensíveis ao dimensionamento dos atributos.*\n",
    "\n",
    "Existem algumas técnicas de escalonamento que **transformam** características para uma escala, magnitude ou intervalo. \n",
    "\n",
    "Para descrever e exemplicar cada uma delas, utilizaremos o conjunto de atributos numéricos que descrevem as músicas do Spotify. Mais especificamente, utilizaremos apenas os atributos numéricos da tabela `Tracks` do nosso conjunto de dados. "
   ]
  },
  {
   "cell_type": "code",
   "execution_count": 3,
   "metadata": {},
   "outputs": [
    {
     "data": {
      "text/html": [
       "<div>\n",
       "<style scoped>\n",
       "    .dataframe tbody tr th:only-of-type {\n",
       "        vertical-align: middle;\n",
       "    }\n",
       "\n",
       "    .dataframe tbody tr th {\n",
       "        vertical-align: top;\n",
       "    }\n",
       "\n",
       "    .dataframe thead th {\n",
       "        text-align: right;\n",
       "    }\n",
       "</style>\n",
       "<table border=\"1\" class=\"dataframe\">\n",
       "  <thead>\n",
       "    <tr style=\"text-align: right;\">\n",
       "      <th></th>\n",
       "      <th>song_id</th>\n",
       "      <th>song_name</th>\n",
       "      <th>artist_id</th>\n",
       "      <th>artist_name</th>\n",
       "      <th>popularity</th>\n",
       "      <th>...</th>\n",
       "      <th>liveness</th>\n",
       "      <th>loudness</th>\n",
       "      <th>speechiness</th>\n",
       "      <th>valence</th>\n",
       "      <th>tempo</th>\n",
       "    </tr>\n",
       "  </thead>\n",
       "  <tbody>\n",
       "    <tr>\n",
       "      <th>0</th>\n",
       "      <td>2rRJrJEo19S2J82BDsQ3F7</td>\n",
       "      <td>Falling</td>\n",
       "      <td>['7uaIm6Pw7xplS8Dy06V6pT']</td>\n",
       "      <td>['Trevor Daniel']</td>\n",
       "      <td>77</td>\n",
       "      <td>...</td>\n",
       "      <td>0.0887</td>\n",
       "      <td>-8.756</td>\n",
       "      <td>0.0364</td>\n",
       "      <td>0.236</td>\n",
       "      <td>127.087</td>\n",
       "    </tr>\n",
       "    <tr>\n",
       "      <th>1</th>\n",
       "      <td>3BYIzNZ3t9lRQCACXSMLrT</td>\n",
       "      <td>Venetia</td>\n",
       "      <td>['4O15NlyKLIASxsJ0PrXPfz']</td>\n",
       "      <td>['Lil Uzi Vert']</td>\n",
       "      <td>66</td>\n",
       "      <td>...</td>\n",
       "      <td>0.1480</td>\n",
       "      <td>-4.139</td>\n",
       "      <td>0.1750</td>\n",
       "      <td>0.562</td>\n",
       "      <td>142.933</td>\n",
       "    </tr>\n",
       "    <tr>\n",
       "      <th>2</th>\n",
       "      <td>1g3J9W88hTG173ySZR6E9S</td>\n",
       "      <td>Tilidin Weg</td>\n",
       "      <td>['1aS5tqEs9ci5P9KD9tZWa6']</td>\n",
       "      <td>['Bonez MC']</td>\n",
       "      <td>13</td>\n",
       "      <td>...</td>\n",
       "      <td>0.0838</td>\n",
       "      <td>-8.544</td>\n",
       "      <td>0.2330</td>\n",
       "      <td>0.171</td>\n",
       "      <td>109.090</td>\n",
       "    </tr>\n",
       "  </tbody>\n",
       "</table>\n",
       "<p>3 rows × 24 columns</p>\n",
       "</div>"
      ],
      "text/plain": [
       "                  song_id    song_name                   artist_id  \\\n",
       "0  2rRJrJEo19S2J82BDsQ3F7      Falling  ['7uaIm6Pw7xplS8Dy06V6pT']   \n",
       "1  3BYIzNZ3t9lRQCACXSMLrT      Venetia  ['4O15NlyKLIASxsJ0PrXPfz']   \n",
       "2  1g3J9W88hTG173ySZR6E9S  Tilidin Weg  ['1aS5tqEs9ci5P9KD9tZWa6']   \n",
       "\n",
       "         artist_name  popularity  ...  liveness loudness  speechiness  \\\n",
       "0  ['Trevor Daniel']          77  ...    0.0887   -8.756       0.0364   \n",
       "1   ['Lil Uzi Vert']          66  ...    0.1480   -4.139       0.1750   \n",
       "2       ['Bonez MC']          13  ...    0.0838   -8.544       0.2330   \n",
       "\n",
       "   valence    tempo  \n",
       "0    0.236  127.087  \n",
       "1    0.562  142.933  \n",
       "2    0.171  109.090  \n",
       "\n",
       "[3 rows x 24 columns]"
      ]
     },
     "execution_count": 3,
     "metadata": {},
     "output_type": "execute_result"
    }
   ],
   "source": [
    "# Lendo os dados\n",
    "data = pd.read_table('../dataset/spotify_hits_dataset_complete.tsv', encoding='utf-8')\n",
    "data.head(3)"
   ]
  },
  {
   "cell_type": "code",
   "execution_count": 4,
   "metadata": {},
   "outputs": [
    {
     "name": "stdout",
     "output_type": "stream",
     "text": [
      "['popularity' 'track_number' 'num_artists' 'num_available_markets'\n",
      " 'duration_ms' 'key' 'mode' 'time_signature' 'acousticness' 'danceability'\n",
      " 'energy' 'instrumentalness' 'liveness' 'loudness' 'speechiness' 'valence'\n",
      " 'tempo']\n"
     ]
    }
   ],
   "source": [
    "# Selecionando apenas as variáveis numéricas\n",
    "df = data.select_dtypes(include=['number'])\n",
    "print(df.columns.values) # imprime as colunas restantes"
   ]
  },
  {
   "cell_type": "markdown",
   "metadata": {},
   "source": [
    "Depois de selecionar as variáveis numéricas da nossa tabela, ficamos com as seguintes informações:\n",
    "\n",
    "* `popularity`: *score* de popularidade da track (o valor varia entre 0 e 100, sendo 100 o mais popular)\n",
    "* `track_number`: número da track no um álbum que ela pertence\n",
    "* `num_artists`: número total de intérpretes da track\n",
    "* `num_available_markets`: número total de países nos quais a track pode ser reproduzida\n",
    "* `duration_ms`: duração da track em milissegundos\n",
    "* [`key` - `tempo`]: características acústicas da track\n",
    "\n",
    "Utilizando esses atributos, nós iremos explorar dois tipos de escalonamento: *Normalização* e *Padronização*."
   ]
  },
  {
   "cell_type": "markdown",
   "metadata": {},
   "source": [
    "### NORMALIZAÇÃO\n",
    "\n",
    "A *Normalização* é uma técnica de escalonamento em que os valores são **deslocados** e **redimensionados** para que fiquem entre 0 e 1. Essa técnica também é conhecida como nomarlização *Min-Max* e é usada para **transformar** dados em uma <ins>escala semelhante</ins>.\n",
    "\n",
    "A fórmula da *Normalização* é dada por:\n",
    "\n",
    "$$X' = \\frac{X - X_{min}}{X_{max} - X_{min}},$$\n",
    "\n",
    "onde $X_{max}$ e $X_{min}$ são os valores máximo e mínimo do atributo, respectivamente.\n",
    "\n",
    "**OBSERVAÇÕES**\n",
    "* Quando o valor de $X$ é o valor **mínimo** na coluna, o numerador será 0 e, portanto, $X'$ será igual a 0\n",
    "* Por outro lado, quando o valor de $X$ é o valor **máximo** na coluna, o numerador é igual ao denominador e, portanto, o valor de $X'$ será igual a 1\n",
    "* Se o valor de $X$ estiver entre o valor mínimo e máximo, então o valor de $X'$ estará entre 0 e 1\n",
    "\n",
    "#### EXEMPLO\n",
    "No exemplo a seguir, nós iremos normalizar todas as colunas numéricas da tabela `Tracks`.\n",
    "\n",
    "Isto é, para cada atributo (i.e., coluna), o valor mínimo desse recurso será transformado em 0 e o valor máximo será transformado em 1, aplicando a fórmula descrita anteriormente da *Normalização Min-Max*. Para isso, nós utilizaremos os métodos `min()` e `max()` do *pandas*:"
   ]
  },
  {
   "cell_type": "code",
   "execution_count": 5,
   "metadata": {
    "cell_style": "center"
   },
   "outputs": [
    {
     "data": {
      "text/html": [
       "<style  type=\"text/css\" >\n",
       "</style><table id=\"T_12db56f1_e768_11eb_93dc_00155dad103f\" style='display:inline'><caption>Original</caption><thead>    <tr>        <th class=\"blank level0\" ></th>        <th class=\"col_heading level0 col0\" >popularity</th>        <th class=\"col_heading level0 col1\" >track_number</th>        <th class=\"col_heading level0 col2\" >num_artists</th>        <th class=\"col_heading level0 col3\" >num_available_markets</th>        <th class=\"col_heading level0 col4\" >duration_ms</th>        <th class=\"col_heading level0 col5\" >key</th>        <th class=\"col_heading level0 col6\" >mode</th>        <th class=\"col_heading level0 col7\" >time_signature</th>        <th class=\"col_heading level0 col8\" >acousticness</th>        <th class=\"col_heading level0 col9\" >danceability</th>        <th class=\"col_heading level0 col10\" >energy</th>        <th class=\"col_heading level0 col11\" >instrumentalness</th>        <th class=\"col_heading level0 col12\" >liveness</th>        <th class=\"col_heading level0 col13\" >loudness</th>        <th class=\"col_heading level0 col14\" >speechiness</th>        <th class=\"col_heading level0 col15\" >valence</th>        <th class=\"col_heading level0 col16\" >tempo</th>    </tr></thead><tbody>\n",
       "                <tr>\n",
       "                        <th id=\"T_12db56f1_e768_11eb_93dc_00155dad103flevel0_row0\" class=\"row_heading level0 row0\" >0</th>\n",
       "                        <td id=\"T_12db56f1_e768_11eb_93dc_00155dad103frow0_col0\" class=\"data row0 col0\" >77</td>\n",
       "                        <td id=\"T_12db56f1_e768_11eb_93dc_00155dad103frow0_col1\" class=\"data row0 col1\" >10</td>\n",
       "                        <td id=\"T_12db56f1_e768_11eb_93dc_00155dad103frow0_col2\" class=\"data row0 col2\" >1</td>\n",
       "                        <td id=\"T_12db56f1_e768_11eb_93dc_00155dad103frow0_col3\" class=\"data row0 col3\" >177</td>\n",
       "                        <td id=\"T_12db56f1_e768_11eb_93dc_00155dad103frow0_col4\" class=\"data row0 col4\" >159381</td>\n",
       "                        <td id=\"T_12db56f1_e768_11eb_93dc_00155dad103frow0_col5\" class=\"data row0 col5\" >10</td>\n",
       "                        <td id=\"T_12db56f1_e768_11eb_93dc_00155dad103frow0_col6\" class=\"data row0 col6\" >0</td>\n",
       "                        <td id=\"T_12db56f1_e768_11eb_93dc_00155dad103frow0_col7\" class=\"data row0 col7\" >4</td>\n",
       "                        <td id=\"T_12db56f1_e768_11eb_93dc_00155dad103frow0_col8\" class=\"data row0 col8\" >0.123000</td>\n",
       "                        <td id=\"T_12db56f1_e768_11eb_93dc_00155dad103frow0_col9\" class=\"data row0 col9\" >0.784000</td>\n",
       "                        <td id=\"T_12db56f1_e768_11eb_93dc_00155dad103frow0_col10\" class=\"data row0 col10\" >0.430000</td>\n",
       "                        <td id=\"T_12db56f1_e768_11eb_93dc_00155dad103frow0_col11\" class=\"data row0 col11\" >0.000000</td>\n",
       "                        <td id=\"T_12db56f1_e768_11eb_93dc_00155dad103frow0_col12\" class=\"data row0 col12\" >0.088700</td>\n",
       "                        <td id=\"T_12db56f1_e768_11eb_93dc_00155dad103frow0_col13\" class=\"data row0 col13\" >-8.756000</td>\n",
       "                        <td id=\"T_12db56f1_e768_11eb_93dc_00155dad103frow0_col14\" class=\"data row0 col14\" >0.036400</td>\n",
       "                        <td id=\"T_12db56f1_e768_11eb_93dc_00155dad103frow0_col15\" class=\"data row0 col15\" >0.236000</td>\n",
       "                        <td id=\"T_12db56f1_e768_11eb_93dc_00155dad103frow0_col16\" class=\"data row0 col16\" >127.087000</td>\n",
       "            </tr>\n",
       "            <tr>\n",
       "                        <th id=\"T_12db56f1_e768_11eb_93dc_00155dad103flevel0_row1\" class=\"row_heading level0 row1\" >1</th>\n",
       "                        <td id=\"T_12db56f1_e768_11eb_93dc_00155dad103frow1_col0\" class=\"data row1 col0\" >66</td>\n",
       "                        <td id=\"T_12db56f1_e768_11eb_93dc_00155dad103frow1_col1\" class=\"data row1 col1\" >14</td>\n",
       "                        <td id=\"T_12db56f1_e768_11eb_93dc_00155dad103frow1_col2\" class=\"data row1 col2\" >1</td>\n",
       "                        <td id=\"T_12db56f1_e768_11eb_93dc_00155dad103frow1_col3\" class=\"data row1 col3\" >178</td>\n",
       "                        <td id=\"T_12db56f1_e768_11eb_93dc_00155dad103frow1_col4\" class=\"data row1 col4\" >188800</td>\n",
       "                        <td id=\"T_12db56f1_e768_11eb_93dc_00155dad103frow1_col5\" class=\"data row1 col5\" >9</td>\n",
       "                        <td id=\"T_12db56f1_e768_11eb_93dc_00155dad103frow1_col6\" class=\"data row1 col6\" >1</td>\n",
       "                        <td id=\"T_12db56f1_e768_11eb_93dc_00155dad103frow1_col7\" class=\"data row1 col7\" >4</td>\n",
       "                        <td id=\"T_12db56f1_e768_11eb_93dc_00155dad103frow1_col8\" class=\"data row1 col8\" >0.162000</td>\n",
       "                        <td id=\"T_12db56f1_e768_11eb_93dc_00155dad103frow1_col9\" class=\"data row1 col9\" >0.775000</td>\n",
       "                        <td id=\"T_12db56f1_e768_11eb_93dc_00155dad103frow1_col10\" class=\"data row1 col10\" >0.757000</td>\n",
       "                        <td id=\"T_12db56f1_e768_11eb_93dc_00155dad103frow1_col11\" class=\"data row1 col11\" >0.000000</td>\n",
       "                        <td id=\"T_12db56f1_e768_11eb_93dc_00155dad103frow1_col12\" class=\"data row1 col12\" >0.148000</td>\n",
       "                        <td id=\"T_12db56f1_e768_11eb_93dc_00155dad103frow1_col13\" class=\"data row1 col13\" >-4.139000</td>\n",
       "                        <td id=\"T_12db56f1_e768_11eb_93dc_00155dad103frow1_col14\" class=\"data row1 col14\" >0.175000</td>\n",
       "                        <td id=\"T_12db56f1_e768_11eb_93dc_00155dad103frow1_col15\" class=\"data row1 col15\" >0.562000</td>\n",
       "                        <td id=\"T_12db56f1_e768_11eb_93dc_00155dad103frow1_col16\" class=\"data row1 col16\" >142.933000</td>\n",
       "            </tr>\n",
       "            <tr>\n",
       "                        <th id=\"T_12db56f1_e768_11eb_93dc_00155dad103flevel0_row2\" class=\"row_heading level0 row2\" >2</th>\n",
       "                        <td id=\"T_12db56f1_e768_11eb_93dc_00155dad103frow2_col0\" class=\"data row2 col0\" >13</td>\n",
       "                        <td id=\"T_12db56f1_e768_11eb_93dc_00155dad103frow2_col1\" class=\"data row2 col1\" >1</td>\n",
       "                        <td id=\"T_12db56f1_e768_11eb_93dc_00155dad103frow2_col2\" class=\"data row2 col2\" >1</td>\n",
       "                        <td id=\"T_12db56f1_e768_11eb_93dc_00155dad103frow2_col3\" class=\"data row2 col3\" >0</td>\n",
       "                        <td id=\"T_12db56f1_e768_11eb_93dc_00155dad103frow2_col4\" class=\"data row2 col4\" >180950</td>\n",
       "                        <td id=\"T_12db56f1_e768_11eb_93dc_00155dad103frow2_col5\" class=\"data row2 col5\" >10</td>\n",
       "                        <td id=\"T_12db56f1_e768_11eb_93dc_00155dad103frow2_col6\" class=\"data row2 col6\" >0</td>\n",
       "                        <td id=\"T_12db56f1_e768_11eb_93dc_00155dad103frow2_col7\" class=\"data row2 col7\" >4</td>\n",
       "                        <td id=\"T_12db56f1_e768_11eb_93dc_00155dad103frow2_col8\" class=\"data row2 col8\" >0.113000</td>\n",
       "                        <td id=\"T_12db56f1_e768_11eb_93dc_00155dad103frow2_col9\" class=\"data row2 col9\" >0.882000</td>\n",
       "                        <td id=\"T_12db56f1_e768_11eb_93dc_00155dad103frow2_col10\" class=\"data row2 col10\" >0.530000</td>\n",
       "                        <td id=\"T_12db56f1_e768_11eb_93dc_00155dad103frow2_col11\" class=\"data row2 col11\" >0.479000</td>\n",
       "                        <td id=\"T_12db56f1_e768_11eb_93dc_00155dad103frow2_col12\" class=\"data row2 col12\" >0.083800</td>\n",
       "                        <td id=\"T_12db56f1_e768_11eb_93dc_00155dad103frow2_col13\" class=\"data row2 col13\" >-8.544000</td>\n",
       "                        <td id=\"T_12db56f1_e768_11eb_93dc_00155dad103frow2_col14\" class=\"data row2 col14\" >0.233000</td>\n",
       "                        <td id=\"T_12db56f1_e768_11eb_93dc_00155dad103frow2_col15\" class=\"data row2 col15\" >0.171000</td>\n",
       "                        <td id=\"T_12db56f1_e768_11eb_93dc_00155dad103frow2_col16\" class=\"data row2 col16\" >109.090000</td>\n",
       "            </tr>\n",
       "    </tbody></table>   <style  type=\"text/css\" >\n",
       "</style><table id=\"T_12dc1a40_e768_11eb_9f91_00155dad103f\" style='display:inline'><caption>Normalizado</caption><thead>    <tr>        <th class=\"blank level0\" ></th>        <th class=\"col_heading level0 col0\" >popularity</th>        <th class=\"col_heading level0 col1\" >track_number</th>        <th class=\"col_heading level0 col2\" >num_artists</th>        <th class=\"col_heading level0 col3\" >num_available_markets</th>        <th class=\"col_heading level0 col4\" >duration_ms</th>        <th class=\"col_heading level0 col5\" >key</th>        <th class=\"col_heading level0 col6\" >mode</th>        <th class=\"col_heading level0 col7\" >time_signature</th>        <th class=\"col_heading level0 col8\" >acousticness</th>        <th class=\"col_heading level0 col9\" >danceability</th>        <th class=\"col_heading level0 col10\" >energy</th>        <th class=\"col_heading level0 col11\" >instrumentalness</th>        <th class=\"col_heading level0 col12\" >liveness</th>        <th class=\"col_heading level0 col13\" >loudness</th>        <th class=\"col_heading level0 col14\" >speechiness</th>        <th class=\"col_heading level0 col15\" >valence</th>        <th class=\"col_heading level0 col16\" >tempo</th>    </tr></thead><tbody>\n",
       "                <tr>\n",
       "                        <th id=\"T_12dc1a40_e768_11eb_9f91_00155dad103flevel0_row0\" class=\"row_heading level0 row0\" >0</th>\n",
       "                        <td id=\"T_12dc1a40_e768_11eb_9f91_00155dad103frow0_col0\" class=\"data row0 col0\" >0.793814</td>\n",
       "                        <td id=\"T_12dc1a40_e768_11eb_9f91_00155dad103frow0_col1\" class=\"data row0 col1\" >0.310345</td>\n",
       "                        <td id=\"T_12dc1a40_e768_11eb_9f91_00155dad103frow0_col2\" class=\"data row0 col2\" >0.000000</td>\n",
       "                        <td id=\"T_12dc1a40_e768_11eb_9f91_00155dad103frow0_col3\" class=\"data row0 col3\" >0.994382</td>\n",
       "                        <td id=\"T_12dc1a40_e768_11eb_9f91_00155dad103frow0_col4\" class=\"data row0 col4\" >0.284679</td>\n",
       "                        <td id=\"T_12dc1a40_e768_11eb_9f91_00155dad103frow0_col5\" class=\"data row0 col5\" >0.909091</td>\n",
       "                        <td id=\"T_12dc1a40_e768_11eb_9f91_00155dad103frow0_col6\" class=\"data row0 col6\" >0.000000</td>\n",
       "                        <td id=\"T_12dc1a40_e768_11eb_9f91_00155dad103frow0_col7\" class=\"data row0 col7\" >0.750000</td>\n",
       "                        <td id=\"T_12dc1a40_e768_11eb_9f91_00155dad103frow0_col8\" class=\"data row0 col8\" >0.123557</td>\n",
       "                        <td id=\"T_12dc1a40_e768_11eb_9f91_00155dad103frow0_col9\" class=\"data row0 col9\" >0.769231</td>\n",
       "                        <td id=\"T_12dc1a40_e768_11eb_9f91_00155dad103frow0_col10\" class=\"data row0 col10\" >0.424552</td>\n",
       "                        <td id=\"T_12dc1a40_e768_11eb_9f91_00155dad103frow0_col11\" class=\"data row0 col11\" >0.000000</td>\n",
       "                        <td id=\"T_12dc1a40_e768_11eb_9f91_00155dad103frow0_col12\" class=\"data row0 col12\" >0.073225</td>\n",
       "                        <td id=\"T_12dc1a40_e768_11eb_9f91_00155dad103frow0_col13\" class=\"data row0 col13\" >0.615183</td>\n",
       "                        <td id=\"T_12dc1a40_e768_11eb_9f91_00155dad103frow0_col14\" class=\"data row0 col14\" >0.015335</td>\n",
       "                        <td id=\"T_12dc1a40_e768_11eb_9f91_00155dad103frow0_col15\" class=\"data row0 col15\" >0.212314</td>\n",
       "                        <td id=\"T_12dc1a40_e768_11eb_9f91_00155dad103frow0_col16\" class=\"data row0 col16\" >0.506887</td>\n",
       "            </tr>\n",
       "            <tr>\n",
       "                        <th id=\"T_12dc1a40_e768_11eb_9f91_00155dad103flevel0_row1\" class=\"row_heading level0 row1\" >1</th>\n",
       "                        <td id=\"T_12dc1a40_e768_11eb_9f91_00155dad103frow1_col0\" class=\"data row1 col0\" >0.680412</td>\n",
       "                        <td id=\"T_12dc1a40_e768_11eb_9f91_00155dad103frow1_col1\" class=\"data row1 col1\" >0.448276</td>\n",
       "                        <td id=\"T_12dc1a40_e768_11eb_9f91_00155dad103frow1_col2\" class=\"data row1 col2\" >0.000000</td>\n",
       "                        <td id=\"T_12dc1a40_e768_11eb_9f91_00155dad103frow1_col3\" class=\"data row1 col3\" >1.000000</td>\n",
       "                        <td id=\"T_12dc1a40_e768_11eb_9f91_00155dad103frow1_col4\" class=\"data row1 col4\" >0.349477</td>\n",
       "                        <td id=\"T_12dc1a40_e768_11eb_9f91_00155dad103frow1_col5\" class=\"data row1 col5\" >0.818182</td>\n",
       "                        <td id=\"T_12dc1a40_e768_11eb_9f91_00155dad103frow1_col6\" class=\"data row1 col6\" >1.000000</td>\n",
       "                        <td id=\"T_12dc1a40_e768_11eb_9f91_00155dad103frow1_col7\" class=\"data row1 col7\" >0.750000</td>\n",
       "                        <td id=\"T_12dc1a40_e768_11eb_9f91_00155dad103frow1_col8\" class=\"data row1 col8\" >0.162801</td>\n",
       "                        <td id=\"T_12dc1a40_e768_11eb_9f91_00155dad103frow1_col9\" class=\"data row1 col9\" >0.757692</td>\n",
       "                        <td id=\"T_12dc1a40_e768_11eb_9f91_00155dad103frow1_col10\" class=\"data row1 col10\" >0.773018</td>\n",
       "                        <td id=\"T_12dc1a40_e768_11eb_9f91_00155dad103frow1_col11\" class=\"data row1 col11\" >0.000000</td>\n",
       "                        <td id=\"T_12dc1a40_e768_11eb_9f91_00155dad103frow1_col12\" class=\"data row1 col12\" >0.136156</td>\n",
       "                        <td id=\"T_12dc1a40_e768_11eb_9f91_00155dad103frow1_col13\" class=\"data row1 col13\" >0.788266</td>\n",
       "                        <td id=\"T_12dc1a40_e768_11eb_9f91_00155dad103frow1_col14\" class=\"data row1 col14\" >0.176348</td>\n",
       "                        <td id=\"T_12dc1a40_e768_11eb_9f91_00155dad103frow1_col15\" class=\"data row1 col15\" >0.558386</td>\n",
       "                        <td id=\"T_12dc1a40_e768_11eb_9f91_00155dad103frow1_col16\" class=\"data row1 col16\" >0.606828</td>\n",
       "            </tr>\n",
       "            <tr>\n",
       "                        <th id=\"T_12dc1a40_e768_11eb_9f91_00155dad103flevel0_row2\" class=\"row_heading level0 row2\" >2</th>\n",
       "                        <td id=\"T_12dc1a40_e768_11eb_9f91_00155dad103frow2_col0\" class=\"data row2 col0\" >0.134021</td>\n",
       "                        <td id=\"T_12dc1a40_e768_11eb_9f91_00155dad103frow2_col1\" class=\"data row2 col1\" >0.000000</td>\n",
       "                        <td id=\"T_12dc1a40_e768_11eb_9f91_00155dad103frow2_col2\" class=\"data row2 col2\" >0.000000</td>\n",
       "                        <td id=\"T_12dc1a40_e768_11eb_9f91_00155dad103frow2_col3\" class=\"data row2 col3\" >0.000000</td>\n",
       "                        <td id=\"T_12dc1a40_e768_11eb_9f91_00155dad103frow2_col4\" class=\"data row2 col4\" >0.332187</td>\n",
       "                        <td id=\"T_12dc1a40_e768_11eb_9f91_00155dad103frow2_col5\" class=\"data row2 col5\" >0.909091</td>\n",
       "                        <td id=\"T_12dc1a40_e768_11eb_9f91_00155dad103frow2_col6\" class=\"data row2 col6\" >0.000000</td>\n",
       "                        <td id=\"T_12dc1a40_e768_11eb_9f91_00155dad103frow2_col7\" class=\"data row2 col7\" >0.750000</td>\n",
       "                        <td id=\"T_12dc1a40_e768_11eb_9f91_00155dad103frow2_col8\" class=\"data row2 col8\" >0.113495</td>\n",
       "                        <td id=\"T_12dc1a40_e768_11eb_9f91_00155dad103frow2_col9\" class=\"data row2 col9\" >0.894872</td>\n",
       "                        <td id=\"T_12dc1a40_e768_11eb_9f91_00155dad103frow2_col10\" class=\"data row2 col10\" >0.531117</td>\n",
       "                        <td id=\"T_12dc1a40_e768_11eb_9f91_00155dad103frow2_col11\" class=\"data row2 col11\" >0.502623</td>\n",
       "                        <td id=\"T_12dc1a40_e768_11eb_9f91_00155dad103frow2_col12\" class=\"data row2 col12\" >0.068025</td>\n",
       "                        <td id=\"T_12dc1a40_e768_11eb_9f91_00155dad103frow2_col13\" class=\"data row2 col13\" >0.623130</td>\n",
       "                        <td id=\"T_12dc1a40_e768_11eb_9f91_00155dad103frow2_col14\" class=\"data row2 col14\" >0.243727</td>\n",
       "                        <td id=\"T_12dc1a40_e768_11eb_9f91_00155dad103frow2_col15\" class=\"data row2 col15\" >0.143312</td>\n",
       "                        <td id=\"T_12dc1a40_e768_11eb_9f91_00155dad103frow2_col16\" class=\"data row2 col16\" >0.393380</td>\n",
       "            </tr>\n",
       "    </tbody></table>   "
      ],
      "text/plain": [
       "<IPython.core.display.HTML object>"
      ]
     },
     "metadata": {},
     "output_type": "display_data"
    }
   ],
   "source": [
    "df_norm = df.copy()  # cópia do DataFrame\n",
    "\n",
    "# Para cada coluna de df_norm,\n",
    "for coluna in df_norm.columns:\n",
    "    \n",
    "    X = df_norm[[coluna]] # pegamos os valores da coluna\n",
    "    X_ = (X - X.min()) / (X.max() - X.min()) # Normalização Min-Max \n",
    "    df_norm[[coluna]] = X_\n",
    "\n",
    "display_side_by_side([df.head(3), df_norm.head(3)], ['Original', 'Normalizado']) # imprime as 3 primeiras linhas"
   ]
  },
  {
   "cell_type": "markdown",
   "metadata": {},
   "source": [
    "#### OBSERVAÇÕES\n",
    "\n",
    "Note que nós utilizamos `df_norm[[coluna]]` para selecionar as entradas de uma determinada coluna do nosso *DataFrame*, ao invés de apenas `df_norm[coluna]`.\n",
    "\n",
    "> **Qual a diferença?**\n",
    "\n",
    "Utilizando o método `type()` nós conseguimos verificar o tipo de classe do argumento passado como parâmetro:"
   ]
  },
  {
   "cell_type": "code",
   "execution_count": 6,
   "metadata": {},
   "outputs": [
    {
     "data": {
      "text/plain": [
       "pandas.core.series.Series"
      ]
     },
     "execution_count": 6,
     "metadata": {},
     "output_type": "execute_result"
    }
   ],
   "source": [
    "type(df['popularity'])"
   ]
  },
  {
   "cell_type": "code",
   "execution_count": 7,
   "metadata": {},
   "outputs": [
    {
     "data": {
      "text/plain": [
       "pandas.core.frame.DataFrame"
      ]
     },
     "execution_count": 7,
     "metadata": {},
     "output_type": "execute_result"
    }
   ],
   "source": [
    "type(df[['popularity']])"
   ]
  },
  {
   "cell_type": "markdown",
   "metadata": {},
   "source": [
    "Portanto, quando utilizamos `[[]]`, é retornado um *DataFrame* formado apenas pelas colunas passadas por parâmetro. Já quando utilizamos `[]`, uma *Series* é retornada. Neste último caso, apenas uma coluna pode ser passada como parâmetro. Caso contrário, o seguinte erro será retornado:"
   ]
  },
  {
   "cell_type": "code",
   "execution_count": 9,
   "metadata": {},
   "outputs": [
    {
     "ename": "KeyError",
     "evalue": "('popularity', 'track_number')",
     "output_type": "error",
     "traceback": [
      "\u001b[1;31m---------------------------------------------------------------------------\u001b[0m",
      "\u001b[1;31mKeyError\u001b[0m                                  Traceback (most recent call last)",
      "\u001b[1;32mc:\\python38\\lib\\site-packages\\pandas\\core\\indexes\\base.py\u001b[0m in \u001b[0;36mget_loc\u001b[1;34m(self, key, method, tolerance)\u001b[0m\n\u001b[0;32m   2645\u001b[0m             \u001b[1;32mtry\u001b[0m\u001b[1;33m:\u001b[0m\u001b[1;33m\u001b[0m\u001b[1;33m\u001b[0m\u001b[0m\n\u001b[1;32m-> 2646\u001b[1;33m                 \u001b[1;32mreturn\u001b[0m \u001b[0mself\u001b[0m\u001b[1;33m.\u001b[0m\u001b[0m_engine\u001b[0m\u001b[1;33m.\u001b[0m\u001b[0mget_loc\u001b[0m\u001b[1;33m(\u001b[0m\u001b[0mkey\u001b[0m\u001b[1;33m)\u001b[0m\u001b[1;33m\u001b[0m\u001b[1;33m\u001b[0m\u001b[0m\n\u001b[0m\u001b[0;32m   2647\u001b[0m             \u001b[1;32mexcept\u001b[0m \u001b[0mKeyError\u001b[0m\u001b[1;33m:\u001b[0m\u001b[1;33m\u001b[0m\u001b[1;33m\u001b[0m\u001b[0m\n",
      "\u001b[1;32mpandas\\_libs\\index.pyx\u001b[0m in \u001b[0;36mpandas._libs.index.IndexEngine.get_loc\u001b[1;34m()\u001b[0m\n",
      "\u001b[1;32mpandas\\_libs\\index.pyx\u001b[0m in \u001b[0;36mpandas._libs.index.IndexEngine.get_loc\u001b[1;34m()\u001b[0m\n",
      "\u001b[1;32mpandas\\_libs\\hashtable_class_helper.pxi\u001b[0m in \u001b[0;36mpandas._libs.hashtable.PyObjectHashTable.get_item\u001b[1;34m()\u001b[0m\n",
      "\u001b[1;32mpandas\\_libs\\hashtable_class_helper.pxi\u001b[0m in \u001b[0;36mpandas._libs.hashtable.PyObjectHashTable.get_item\u001b[1;34m()\u001b[0m\n",
      "\u001b[1;31mKeyError\u001b[0m: ('popularity', 'track_number')",
      "\nDuring handling of the above exception, another exception occurred:\n",
      "\u001b[1;31mKeyError\u001b[0m                                  Traceback (most recent call last)",
      "\u001b[1;32m<ipython-input-9-60c9eb19af70>\u001b[0m in \u001b[0;36m<module>\u001b[1;34m\u001b[0m\n\u001b[1;32m----> 1\u001b[1;33m \u001b[0mdf\u001b[0m\u001b[1;33m[\u001b[0m\u001b[1;34m'popularity'\u001b[0m\u001b[1;33m,\u001b[0m\u001b[1;34m'track_number'\u001b[0m\u001b[1;33m]\u001b[0m\u001b[1;33m.\u001b[0m\u001b[0mhead\u001b[0m\u001b[1;33m(\u001b[0m\u001b[1;36m3\u001b[0m\u001b[1;33m)\u001b[0m\u001b[1;33m\u001b[0m\u001b[1;33m\u001b[0m\u001b[0m\n\u001b[0m",
      "\u001b[1;32mc:\\python38\\lib\\site-packages\\pandas\\core\\frame.py\u001b[0m in \u001b[0;36m__getitem__\u001b[1;34m(self, key)\u001b[0m\n\u001b[0;32m   2798\u001b[0m             \u001b[1;32mif\u001b[0m \u001b[0mself\u001b[0m\u001b[1;33m.\u001b[0m\u001b[0mcolumns\u001b[0m\u001b[1;33m.\u001b[0m\u001b[0mnlevels\u001b[0m \u001b[1;33m>\u001b[0m \u001b[1;36m1\u001b[0m\u001b[1;33m:\u001b[0m\u001b[1;33m\u001b[0m\u001b[1;33m\u001b[0m\u001b[0m\n\u001b[0;32m   2799\u001b[0m                 \u001b[1;32mreturn\u001b[0m \u001b[0mself\u001b[0m\u001b[1;33m.\u001b[0m\u001b[0m_getitem_multilevel\u001b[0m\u001b[1;33m(\u001b[0m\u001b[0mkey\u001b[0m\u001b[1;33m)\u001b[0m\u001b[1;33m\u001b[0m\u001b[1;33m\u001b[0m\u001b[0m\n\u001b[1;32m-> 2800\u001b[1;33m             \u001b[0mindexer\u001b[0m \u001b[1;33m=\u001b[0m \u001b[0mself\u001b[0m\u001b[1;33m.\u001b[0m\u001b[0mcolumns\u001b[0m\u001b[1;33m.\u001b[0m\u001b[0mget_loc\u001b[0m\u001b[1;33m(\u001b[0m\u001b[0mkey\u001b[0m\u001b[1;33m)\u001b[0m\u001b[1;33m\u001b[0m\u001b[1;33m\u001b[0m\u001b[0m\n\u001b[0m\u001b[0;32m   2801\u001b[0m             \u001b[1;32mif\u001b[0m \u001b[0mis_integer\u001b[0m\u001b[1;33m(\u001b[0m\u001b[0mindexer\u001b[0m\u001b[1;33m)\u001b[0m\u001b[1;33m:\u001b[0m\u001b[1;33m\u001b[0m\u001b[1;33m\u001b[0m\u001b[0m\n\u001b[0;32m   2802\u001b[0m                 \u001b[0mindexer\u001b[0m \u001b[1;33m=\u001b[0m \u001b[1;33m[\u001b[0m\u001b[0mindexer\u001b[0m\u001b[1;33m]\u001b[0m\u001b[1;33m\u001b[0m\u001b[1;33m\u001b[0m\u001b[0m\n",
      "\u001b[1;32mc:\\python38\\lib\\site-packages\\pandas\\core\\indexes\\base.py\u001b[0m in \u001b[0;36mget_loc\u001b[1;34m(self, key, method, tolerance)\u001b[0m\n\u001b[0;32m   2646\u001b[0m                 \u001b[1;32mreturn\u001b[0m \u001b[0mself\u001b[0m\u001b[1;33m.\u001b[0m\u001b[0m_engine\u001b[0m\u001b[1;33m.\u001b[0m\u001b[0mget_loc\u001b[0m\u001b[1;33m(\u001b[0m\u001b[0mkey\u001b[0m\u001b[1;33m)\u001b[0m\u001b[1;33m\u001b[0m\u001b[1;33m\u001b[0m\u001b[0m\n\u001b[0;32m   2647\u001b[0m             \u001b[1;32mexcept\u001b[0m \u001b[0mKeyError\u001b[0m\u001b[1;33m:\u001b[0m\u001b[1;33m\u001b[0m\u001b[1;33m\u001b[0m\u001b[0m\n\u001b[1;32m-> 2648\u001b[1;33m                 \u001b[1;32mreturn\u001b[0m \u001b[0mself\u001b[0m\u001b[1;33m.\u001b[0m\u001b[0m_engine\u001b[0m\u001b[1;33m.\u001b[0m\u001b[0mget_loc\u001b[0m\u001b[1;33m(\u001b[0m\u001b[0mself\u001b[0m\u001b[1;33m.\u001b[0m\u001b[0m_maybe_cast_indexer\u001b[0m\u001b[1;33m(\u001b[0m\u001b[0mkey\u001b[0m\u001b[1;33m)\u001b[0m\u001b[1;33m)\u001b[0m\u001b[1;33m\u001b[0m\u001b[1;33m\u001b[0m\u001b[0m\n\u001b[0m\u001b[0;32m   2649\u001b[0m         \u001b[0mindexer\u001b[0m \u001b[1;33m=\u001b[0m \u001b[0mself\u001b[0m\u001b[1;33m.\u001b[0m\u001b[0mget_indexer\u001b[0m\u001b[1;33m(\u001b[0m\u001b[1;33m[\u001b[0m\u001b[0mkey\u001b[0m\u001b[1;33m]\u001b[0m\u001b[1;33m,\u001b[0m \u001b[0mmethod\u001b[0m\u001b[1;33m=\u001b[0m\u001b[0mmethod\u001b[0m\u001b[1;33m,\u001b[0m \u001b[0mtolerance\u001b[0m\u001b[1;33m=\u001b[0m\u001b[0mtolerance\u001b[0m\u001b[1;33m)\u001b[0m\u001b[1;33m\u001b[0m\u001b[1;33m\u001b[0m\u001b[0m\n\u001b[0;32m   2650\u001b[0m         \u001b[1;32mif\u001b[0m \u001b[0mindexer\u001b[0m\u001b[1;33m.\u001b[0m\u001b[0mndim\u001b[0m \u001b[1;33m>\u001b[0m \u001b[1;36m1\u001b[0m \u001b[1;32mor\u001b[0m \u001b[0mindexer\u001b[0m\u001b[1;33m.\u001b[0m\u001b[0msize\u001b[0m \u001b[1;33m>\u001b[0m \u001b[1;36m1\u001b[0m\u001b[1;33m:\u001b[0m\u001b[1;33m\u001b[0m\u001b[1;33m\u001b[0m\u001b[0m\n",
      "\u001b[1;32mpandas\\_libs\\index.pyx\u001b[0m in \u001b[0;36mpandas._libs.index.IndexEngine.get_loc\u001b[1;34m()\u001b[0m\n",
      "\u001b[1;32mpandas\\_libs\\index.pyx\u001b[0m in \u001b[0;36mpandas._libs.index.IndexEngine.get_loc\u001b[1;34m()\u001b[0m\n",
      "\u001b[1;32mpandas\\_libs\\hashtable_class_helper.pxi\u001b[0m in \u001b[0;36mpandas._libs.hashtable.PyObjectHashTable.get_item\u001b[1;34m()\u001b[0m\n",
      "\u001b[1;32mpandas\\_libs\\hashtable_class_helper.pxi\u001b[0m in \u001b[0;36mpandas._libs.hashtable.PyObjectHashTable.get_item\u001b[1;34m()\u001b[0m\n",
      "\u001b[1;31mKeyError\u001b[0m: ('popularity', 'track_number')"
     ]
    }
   ],
   "source": [
    "df['popularity','track_number'].head(3)"
   ]
  },
  {
   "cell_type": "code",
   "execution_count": 10,
   "metadata": {},
   "outputs": [
    {
     "data": {
      "text/html": [
       "<div>\n",
       "<style scoped>\n",
       "    .dataframe tbody tr th:only-of-type {\n",
       "        vertical-align: middle;\n",
       "    }\n",
       "\n",
       "    .dataframe tbody tr th {\n",
       "        vertical-align: top;\n",
       "    }\n",
       "\n",
       "    .dataframe thead th {\n",
       "        text-align: right;\n",
       "    }\n",
       "</style>\n",
       "<table border=\"1\" class=\"dataframe\">\n",
       "  <thead>\n",
       "    <tr style=\"text-align: right;\">\n",
       "      <th></th>\n",
       "      <th>popularity</th>\n",
       "      <th>track_number</th>\n",
       "    </tr>\n",
       "  </thead>\n",
       "  <tbody>\n",
       "    <tr>\n",
       "      <th>0</th>\n",
       "      <td>77</td>\n",
       "      <td>10</td>\n",
       "    </tr>\n",
       "    <tr>\n",
       "      <th>1</th>\n",
       "      <td>66</td>\n",
       "      <td>14</td>\n",
       "    </tr>\n",
       "    <tr>\n",
       "      <th>2</th>\n",
       "      <td>13</td>\n",
       "      <td>1</td>\n",
       "    </tr>\n",
       "  </tbody>\n",
       "</table>\n",
       "</div>"
      ],
      "text/plain": [
       "   popularity  track_number\n",
       "0          77            10\n",
       "1          66            14\n",
       "2          13             1"
      ]
     },
     "execution_count": 10,
     "metadata": {},
     "output_type": "execute_result"
    }
   ],
   "source": [
    "df[['popularity','track_number']].head(3)"
   ]
  },
  {
   "cell_type": "markdown",
   "metadata": {},
   "source": [
    "#### EXEMPLO AVANÇADO\n",
    "\n",
    "Uma outra forma de aplicar a *Normalização Min-Max* é utilizando o módulo `sklearn.preprocessing` e a classe `MinMaxScaler()` da biblioteca *sklearn*:"
   ]
  },
  {
   "cell_type": "code",
   "execution_count": 11,
   "metadata": {},
   "outputs": [
    {
     "data": {
      "text/html": [
       "<style  type=\"text/css\" >\n",
       "</style><table id=\"T_1f4291a3_e768_11eb_81ef_00155dad103f\" style='display:inline'><caption>Normalização com pandas</caption><thead>    <tr>        <th class=\"blank level0\" ></th>        <th class=\"col_heading level0 col0\" >popularity</th>        <th class=\"col_heading level0 col1\" >track_number</th>        <th class=\"col_heading level0 col2\" >num_artists</th>        <th class=\"col_heading level0 col3\" >num_available_markets</th>        <th class=\"col_heading level0 col4\" >duration_ms</th>        <th class=\"col_heading level0 col5\" >key</th>        <th class=\"col_heading level0 col6\" >mode</th>        <th class=\"col_heading level0 col7\" >time_signature</th>        <th class=\"col_heading level0 col8\" >acousticness</th>        <th class=\"col_heading level0 col9\" >danceability</th>        <th class=\"col_heading level0 col10\" >energy</th>        <th class=\"col_heading level0 col11\" >instrumentalness</th>        <th class=\"col_heading level0 col12\" >liveness</th>        <th class=\"col_heading level0 col13\" >loudness</th>        <th class=\"col_heading level0 col14\" >speechiness</th>        <th class=\"col_heading level0 col15\" >valence</th>        <th class=\"col_heading level0 col16\" >tempo</th>    </tr></thead><tbody>\n",
       "                <tr>\n",
       "                        <th id=\"T_1f4291a3_e768_11eb_81ef_00155dad103flevel0_row0\" class=\"row_heading level0 row0\" >0</th>\n",
       "                        <td id=\"T_1f4291a3_e768_11eb_81ef_00155dad103frow0_col0\" class=\"data row0 col0\" >0.793814</td>\n",
       "                        <td id=\"T_1f4291a3_e768_11eb_81ef_00155dad103frow0_col1\" class=\"data row0 col1\" >0.310345</td>\n",
       "                        <td id=\"T_1f4291a3_e768_11eb_81ef_00155dad103frow0_col2\" class=\"data row0 col2\" >0.000000</td>\n",
       "                        <td id=\"T_1f4291a3_e768_11eb_81ef_00155dad103frow0_col3\" class=\"data row0 col3\" >0.994382</td>\n",
       "                        <td id=\"T_1f4291a3_e768_11eb_81ef_00155dad103frow0_col4\" class=\"data row0 col4\" >0.284679</td>\n",
       "                        <td id=\"T_1f4291a3_e768_11eb_81ef_00155dad103frow0_col5\" class=\"data row0 col5\" >0.909091</td>\n",
       "                        <td id=\"T_1f4291a3_e768_11eb_81ef_00155dad103frow0_col6\" class=\"data row0 col6\" >0.000000</td>\n",
       "                        <td id=\"T_1f4291a3_e768_11eb_81ef_00155dad103frow0_col7\" class=\"data row0 col7\" >0.750000</td>\n",
       "                        <td id=\"T_1f4291a3_e768_11eb_81ef_00155dad103frow0_col8\" class=\"data row0 col8\" >0.123557</td>\n",
       "                        <td id=\"T_1f4291a3_e768_11eb_81ef_00155dad103frow0_col9\" class=\"data row0 col9\" >0.769231</td>\n",
       "                        <td id=\"T_1f4291a3_e768_11eb_81ef_00155dad103frow0_col10\" class=\"data row0 col10\" >0.424552</td>\n",
       "                        <td id=\"T_1f4291a3_e768_11eb_81ef_00155dad103frow0_col11\" class=\"data row0 col11\" >0.000000</td>\n",
       "                        <td id=\"T_1f4291a3_e768_11eb_81ef_00155dad103frow0_col12\" class=\"data row0 col12\" >0.073225</td>\n",
       "                        <td id=\"T_1f4291a3_e768_11eb_81ef_00155dad103frow0_col13\" class=\"data row0 col13\" >0.615183</td>\n",
       "                        <td id=\"T_1f4291a3_e768_11eb_81ef_00155dad103frow0_col14\" class=\"data row0 col14\" >0.015335</td>\n",
       "                        <td id=\"T_1f4291a3_e768_11eb_81ef_00155dad103frow0_col15\" class=\"data row0 col15\" >0.212314</td>\n",
       "                        <td id=\"T_1f4291a3_e768_11eb_81ef_00155dad103frow0_col16\" class=\"data row0 col16\" >0.506887</td>\n",
       "            </tr>\n",
       "            <tr>\n",
       "                        <th id=\"T_1f4291a3_e768_11eb_81ef_00155dad103flevel0_row1\" class=\"row_heading level0 row1\" >1</th>\n",
       "                        <td id=\"T_1f4291a3_e768_11eb_81ef_00155dad103frow1_col0\" class=\"data row1 col0\" >0.680412</td>\n",
       "                        <td id=\"T_1f4291a3_e768_11eb_81ef_00155dad103frow1_col1\" class=\"data row1 col1\" >0.448276</td>\n",
       "                        <td id=\"T_1f4291a3_e768_11eb_81ef_00155dad103frow1_col2\" class=\"data row1 col2\" >0.000000</td>\n",
       "                        <td id=\"T_1f4291a3_e768_11eb_81ef_00155dad103frow1_col3\" class=\"data row1 col3\" >1.000000</td>\n",
       "                        <td id=\"T_1f4291a3_e768_11eb_81ef_00155dad103frow1_col4\" class=\"data row1 col4\" >0.349477</td>\n",
       "                        <td id=\"T_1f4291a3_e768_11eb_81ef_00155dad103frow1_col5\" class=\"data row1 col5\" >0.818182</td>\n",
       "                        <td id=\"T_1f4291a3_e768_11eb_81ef_00155dad103frow1_col6\" class=\"data row1 col6\" >1.000000</td>\n",
       "                        <td id=\"T_1f4291a3_e768_11eb_81ef_00155dad103frow1_col7\" class=\"data row1 col7\" >0.750000</td>\n",
       "                        <td id=\"T_1f4291a3_e768_11eb_81ef_00155dad103frow1_col8\" class=\"data row1 col8\" >0.162801</td>\n",
       "                        <td id=\"T_1f4291a3_e768_11eb_81ef_00155dad103frow1_col9\" class=\"data row1 col9\" >0.757692</td>\n",
       "                        <td id=\"T_1f4291a3_e768_11eb_81ef_00155dad103frow1_col10\" class=\"data row1 col10\" >0.773018</td>\n",
       "                        <td id=\"T_1f4291a3_e768_11eb_81ef_00155dad103frow1_col11\" class=\"data row1 col11\" >0.000000</td>\n",
       "                        <td id=\"T_1f4291a3_e768_11eb_81ef_00155dad103frow1_col12\" class=\"data row1 col12\" >0.136156</td>\n",
       "                        <td id=\"T_1f4291a3_e768_11eb_81ef_00155dad103frow1_col13\" class=\"data row1 col13\" >0.788266</td>\n",
       "                        <td id=\"T_1f4291a3_e768_11eb_81ef_00155dad103frow1_col14\" class=\"data row1 col14\" >0.176348</td>\n",
       "                        <td id=\"T_1f4291a3_e768_11eb_81ef_00155dad103frow1_col15\" class=\"data row1 col15\" >0.558386</td>\n",
       "                        <td id=\"T_1f4291a3_e768_11eb_81ef_00155dad103frow1_col16\" class=\"data row1 col16\" >0.606828</td>\n",
       "            </tr>\n",
       "            <tr>\n",
       "                        <th id=\"T_1f4291a3_e768_11eb_81ef_00155dad103flevel0_row2\" class=\"row_heading level0 row2\" >2</th>\n",
       "                        <td id=\"T_1f4291a3_e768_11eb_81ef_00155dad103frow2_col0\" class=\"data row2 col0\" >0.134021</td>\n",
       "                        <td id=\"T_1f4291a3_e768_11eb_81ef_00155dad103frow2_col1\" class=\"data row2 col1\" >0.000000</td>\n",
       "                        <td id=\"T_1f4291a3_e768_11eb_81ef_00155dad103frow2_col2\" class=\"data row2 col2\" >0.000000</td>\n",
       "                        <td id=\"T_1f4291a3_e768_11eb_81ef_00155dad103frow2_col3\" class=\"data row2 col3\" >0.000000</td>\n",
       "                        <td id=\"T_1f4291a3_e768_11eb_81ef_00155dad103frow2_col4\" class=\"data row2 col4\" >0.332187</td>\n",
       "                        <td id=\"T_1f4291a3_e768_11eb_81ef_00155dad103frow2_col5\" class=\"data row2 col5\" >0.909091</td>\n",
       "                        <td id=\"T_1f4291a3_e768_11eb_81ef_00155dad103frow2_col6\" class=\"data row2 col6\" >0.000000</td>\n",
       "                        <td id=\"T_1f4291a3_e768_11eb_81ef_00155dad103frow2_col7\" class=\"data row2 col7\" >0.750000</td>\n",
       "                        <td id=\"T_1f4291a3_e768_11eb_81ef_00155dad103frow2_col8\" class=\"data row2 col8\" >0.113495</td>\n",
       "                        <td id=\"T_1f4291a3_e768_11eb_81ef_00155dad103frow2_col9\" class=\"data row2 col9\" >0.894872</td>\n",
       "                        <td id=\"T_1f4291a3_e768_11eb_81ef_00155dad103frow2_col10\" class=\"data row2 col10\" >0.531117</td>\n",
       "                        <td id=\"T_1f4291a3_e768_11eb_81ef_00155dad103frow2_col11\" class=\"data row2 col11\" >0.502623</td>\n",
       "                        <td id=\"T_1f4291a3_e768_11eb_81ef_00155dad103frow2_col12\" class=\"data row2 col12\" >0.068025</td>\n",
       "                        <td id=\"T_1f4291a3_e768_11eb_81ef_00155dad103frow2_col13\" class=\"data row2 col13\" >0.623130</td>\n",
       "                        <td id=\"T_1f4291a3_e768_11eb_81ef_00155dad103frow2_col14\" class=\"data row2 col14\" >0.243727</td>\n",
       "                        <td id=\"T_1f4291a3_e768_11eb_81ef_00155dad103frow2_col15\" class=\"data row2 col15\" >0.143312</td>\n",
       "                        <td id=\"T_1f4291a3_e768_11eb_81ef_00155dad103frow2_col16\" class=\"data row2 col16\" >0.393380</td>\n",
       "            </tr>\n",
       "    </tbody></table>   <style  type=\"text/css\" >\n",
       "</style><table id=\"T_1f437c04_e768_11eb_979a_00155dad103f\" style='display:inline'><caption>Normalização com sklearn</caption><thead>    <tr>        <th class=\"blank level0\" ></th>        <th class=\"col_heading level0 col0\" >popularity</th>        <th class=\"col_heading level0 col1\" >track_number</th>        <th class=\"col_heading level0 col2\" >num_artists</th>        <th class=\"col_heading level0 col3\" >num_available_markets</th>        <th class=\"col_heading level0 col4\" >duration_ms</th>        <th class=\"col_heading level0 col5\" >key</th>        <th class=\"col_heading level0 col6\" >mode</th>        <th class=\"col_heading level0 col7\" >time_signature</th>        <th class=\"col_heading level0 col8\" >acousticness</th>        <th class=\"col_heading level0 col9\" >danceability</th>        <th class=\"col_heading level0 col10\" >energy</th>        <th class=\"col_heading level0 col11\" >instrumentalness</th>        <th class=\"col_heading level0 col12\" >liveness</th>        <th class=\"col_heading level0 col13\" >loudness</th>        <th class=\"col_heading level0 col14\" >speechiness</th>        <th class=\"col_heading level0 col15\" >valence</th>        <th class=\"col_heading level0 col16\" >tempo</th>    </tr></thead><tbody>\n",
       "                <tr>\n",
       "                        <th id=\"T_1f437c04_e768_11eb_979a_00155dad103flevel0_row0\" class=\"row_heading level0 row0\" >0</th>\n",
       "                        <td id=\"T_1f437c04_e768_11eb_979a_00155dad103frow0_col0\" class=\"data row0 col0\" >0.793814</td>\n",
       "                        <td id=\"T_1f437c04_e768_11eb_979a_00155dad103frow0_col1\" class=\"data row0 col1\" >0.310345</td>\n",
       "                        <td id=\"T_1f437c04_e768_11eb_979a_00155dad103frow0_col2\" class=\"data row0 col2\" >0.000000</td>\n",
       "                        <td id=\"T_1f437c04_e768_11eb_979a_00155dad103frow0_col3\" class=\"data row0 col3\" >0.994382</td>\n",
       "                        <td id=\"T_1f437c04_e768_11eb_979a_00155dad103frow0_col4\" class=\"data row0 col4\" >0.284679</td>\n",
       "                        <td id=\"T_1f437c04_e768_11eb_979a_00155dad103frow0_col5\" class=\"data row0 col5\" >0.909091</td>\n",
       "                        <td id=\"T_1f437c04_e768_11eb_979a_00155dad103frow0_col6\" class=\"data row0 col6\" >0.000000</td>\n",
       "                        <td id=\"T_1f437c04_e768_11eb_979a_00155dad103frow0_col7\" class=\"data row0 col7\" >0.750000</td>\n",
       "                        <td id=\"T_1f437c04_e768_11eb_979a_00155dad103frow0_col8\" class=\"data row0 col8\" >0.123557</td>\n",
       "                        <td id=\"T_1f437c04_e768_11eb_979a_00155dad103frow0_col9\" class=\"data row0 col9\" >0.769231</td>\n",
       "                        <td id=\"T_1f437c04_e768_11eb_979a_00155dad103frow0_col10\" class=\"data row0 col10\" >0.424552</td>\n",
       "                        <td id=\"T_1f437c04_e768_11eb_979a_00155dad103frow0_col11\" class=\"data row0 col11\" >0.000000</td>\n",
       "                        <td id=\"T_1f437c04_e768_11eb_979a_00155dad103frow0_col12\" class=\"data row0 col12\" >0.073225</td>\n",
       "                        <td id=\"T_1f437c04_e768_11eb_979a_00155dad103frow0_col13\" class=\"data row0 col13\" >0.615183</td>\n",
       "                        <td id=\"T_1f437c04_e768_11eb_979a_00155dad103frow0_col14\" class=\"data row0 col14\" >0.015335</td>\n",
       "                        <td id=\"T_1f437c04_e768_11eb_979a_00155dad103frow0_col15\" class=\"data row0 col15\" >0.212314</td>\n",
       "                        <td id=\"T_1f437c04_e768_11eb_979a_00155dad103frow0_col16\" class=\"data row0 col16\" >0.506887</td>\n",
       "            </tr>\n",
       "            <tr>\n",
       "                        <th id=\"T_1f437c04_e768_11eb_979a_00155dad103flevel0_row1\" class=\"row_heading level0 row1\" >1</th>\n",
       "                        <td id=\"T_1f437c04_e768_11eb_979a_00155dad103frow1_col0\" class=\"data row1 col0\" >0.680412</td>\n",
       "                        <td id=\"T_1f437c04_e768_11eb_979a_00155dad103frow1_col1\" class=\"data row1 col1\" >0.448276</td>\n",
       "                        <td id=\"T_1f437c04_e768_11eb_979a_00155dad103frow1_col2\" class=\"data row1 col2\" >0.000000</td>\n",
       "                        <td id=\"T_1f437c04_e768_11eb_979a_00155dad103frow1_col3\" class=\"data row1 col3\" >1.000000</td>\n",
       "                        <td id=\"T_1f437c04_e768_11eb_979a_00155dad103frow1_col4\" class=\"data row1 col4\" >0.349477</td>\n",
       "                        <td id=\"T_1f437c04_e768_11eb_979a_00155dad103frow1_col5\" class=\"data row1 col5\" >0.818182</td>\n",
       "                        <td id=\"T_1f437c04_e768_11eb_979a_00155dad103frow1_col6\" class=\"data row1 col6\" >1.000000</td>\n",
       "                        <td id=\"T_1f437c04_e768_11eb_979a_00155dad103frow1_col7\" class=\"data row1 col7\" >0.750000</td>\n",
       "                        <td id=\"T_1f437c04_e768_11eb_979a_00155dad103frow1_col8\" class=\"data row1 col8\" >0.162801</td>\n",
       "                        <td id=\"T_1f437c04_e768_11eb_979a_00155dad103frow1_col9\" class=\"data row1 col9\" >0.757692</td>\n",
       "                        <td id=\"T_1f437c04_e768_11eb_979a_00155dad103frow1_col10\" class=\"data row1 col10\" >0.773018</td>\n",
       "                        <td id=\"T_1f437c04_e768_11eb_979a_00155dad103frow1_col11\" class=\"data row1 col11\" >0.000000</td>\n",
       "                        <td id=\"T_1f437c04_e768_11eb_979a_00155dad103frow1_col12\" class=\"data row1 col12\" >0.136156</td>\n",
       "                        <td id=\"T_1f437c04_e768_11eb_979a_00155dad103frow1_col13\" class=\"data row1 col13\" >0.788266</td>\n",
       "                        <td id=\"T_1f437c04_e768_11eb_979a_00155dad103frow1_col14\" class=\"data row1 col14\" >0.176348</td>\n",
       "                        <td id=\"T_1f437c04_e768_11eb_979a_00155dad103frow1_col15\" class=\"data row1 col15\" >0.558386</td>\n",
       "                        <td id=\"T_1f437c04_e768_11eb_979a_00155dad103frow1_col16\" class=\"data row1 col16\" >0.606828</td>\n",
       "            </tr>\n",
       "            <tr>\n",
       "                        <th id=\"T_1f437c04_e768_11eb_979a_00155dad103flevel0_row2\" class=\"row_heading level0 row2\" >2</th>\n",
       "                        <td id=\"T_1f437c04_e768_11eb_979a_00155dad103frow2_col0\" class=\"data row2 col0\" >0.134021</td>\n",
       "                        <td id=\"T_1f437c04_e768_11eb_979a_00155dad103frow2_col1\" class=\"data row2 col1\" >0.000000</td>\n",
       "                        <td id=\"T_1f437c04_e768_11eb_979a_00155dad103frow2_col2\" class=\"data row2 col2\" >0.000000</td>\n",
       "                        <td id=\"T_1f437c04_e768_11eb_979a_00155dad103frow2_col3\" class=\"data row2 col3\" >0.000000</td>\n",
       "                        <td id=\"T_1f437c04_e768_11eb_979a_00155dad103frow2_col4\" class=\"data row2 col4\" >0.332187</td>\n",
       "                        <td id=\"T_1f437c04_e768_11eb_979a_00155dad103frow2_col5\" class=\"data row2 col5\" >0.909091</td>\n",
       "                        <td id=\"T_1f437c04_e768_11eb_979a_00155dad103frow2_col6\" class=\"data row2 col6\" >0.000000</td>\n",
       "                        <td id=\"T_1f437c04_e768_11eb_979a_00155dad103frow2_col7\" class=\"data row2 col7\" >0.750000</td>\n",
       "                        <td id=\"T_1f437c04_e768_11eb_979a_00155dad103frow2_col8\" class=\"data row2 col8\" >0.113495</td>\n",
       "                        <td id=\"T_1f437c04_e768_11eb_979a_00155dad103frow2_col9\" class=\"data row2 col9\" >0.894872</td>\n",
       "                        <td id=\"T_1f437c04_e768_11eb_979a_00155dad103frow2_col10\" class=\"data row2 col10\" >0.531117</td>\n",
       "                        <td id=\"T_1f437c04_e768_11eb_979a_00155dad103frow2_col11\" class=\"data row2 col11\" >0.502623</td>\n",
       "                        <td id=\"T_1f437c04_e768_11eb_979a_00155dad103frow2_col12\" class=\"data row2 col12\" >0.068025</td>\n",
       "                        <td id=\"T_1f437c04_e768_11eb_979a_00155dad103frow2_col13\" class=\"data row2 col13\" >0.623130</td>\n",
       "                        <td id=\"T_1f437c04_e768_11eb_979a_00155dad103frow2_col14\" class=\"data row2 col14\" >0.243727</td>\n",
       "                        <td id=\"T_1f437c04_e768_11eb_979a_00155dad103frow2_col15\" class=\"data row2 col15\" >0.143312</td>\n",
       "                        <td id=\"T_1f437c04_e768_11eb_979a_00155dad103frow2_col16\" class=\"data row2 col16\" >0.393380</td>\n",
       "            </tr>\n",
       "    </tbody></table>   "
      ],
      "text/plain": [
       "<IPython.core.display.HTML object>"
      ]
     },
     "metadata": {},
     "output_type": "display_data"
    }
   ],
   "source": [
    "df_norm_2 = df_norm.copy()  # cópia do DataFrame\n",
    "min_max_scaler = MinMaxScaler() # inicializa o transformador\n",
    "df_norm_2.loc[:,] = min_max_scaler.fit_transform(df_norm_2) # Normalização Min-Max\n",
    "\n",
    "display_side_by_side([df_norm.head(3), df_norm_2.head(3)], ['Normalização com pandas', 'Normalização com sklearn']) # imprime as 3 primeiras linhas"
   ]
  },
  {
   "cell_type": "markdown",
   "metadata": {
    "cell_style": "center"
   },
   "source": [
    "### PADRONIZAÇÃO\n",
    "\n",
    "A *Padronização* é outra técnica de escalonamento em que os valores são **centralizados** em torno da média. Isso significa que a média de cada atributo se iguala a 0 e a distribuição resultante tem um desvio padrão igual a 1.\n",
    "\n",
    "A fórmula da *Padronização* é dada por:\n",
    "\n",
    "$$X' = \\frac{X - \\mu}{\\sigma},$$\n",
    "\n",
    "onde $\\mu$ e $\\sigma$ são a média e o desvio padrão dos valores do atributo, respectivamente.\n",
    "\n",
    "#### EXEMPLO\n",
    "No exemplo a seguir, nós iremos padronizar todas as colunas numéricas da tabela `Tracks`.\n",
    "\n",
    "Isto é, para cada coluna, a média dos valores será subtraída pelo desvio padrão, aplicando a fórmula descrita anteriormente. Para isso, nós utilizaremos os métodos `mean()` e `std()` do *pandas*:"
   ]
  },
  {
   "cell_type": "code",
   "execution_count": 12,
   "metadata": {},
   "outputs": [
    {
     "data": {
      "text/html": [
       "<style  type=\"text/css\" >\n",
       "</style><table id=\"T_1f5be5df_e768_11eb_9a79_00155dad103f\" style='display:inline'><caption>Original</caption><thead>    <tr>        <th class=\"blank level0\" ></th>        <th class=\"col_heading level0 col0\" >popularity</th>        <th class=\"col_heading level0 col1\" >track_number</th>        <th class=\"col_heading level0 col2\" >num_artists</th>        <th class=\"col_heading level0 col3\" >num_available_markets</th>        <th class=\"col_heading level0 col4\" >duration_ms</th>        <th class=\"col_heading level0 col5\" >key</th>        <th class=\"col_heading level0 col6\" >mode</th>        <th class=\"col_heading level0 col7\" >time_signature</th>        <th class=\"col_heading level0 col8\" >acousticness</th>        <th class=\"col_heading level0 col9\" >danceability</th>        <th class=\"col_heading level0 col10\" >energy</th>        <th class=\"col_heading level0 col11\" >instrumentalness</th>        <th class=\"col_heading level0 col12\" >liveness</th>        <th class=\"col_heading level0 col13\" >loudness</th>        <th class=\"col_heading level0 col14\" >speechiness</th>        <th class=\"col_heading level0 col15\" >valence</th>        <th class=\"col_heading level0 col16\" >tempo</th>    </tr></thead><tbody>\n",
       "                <tr>\n",
       "                        <th id=\"T_1f5be5df_e768_11eb_9a79_00155dad103flevel0_row0\" class=\"row_heading level0 row0\" >0</th>\n",
       "                        <td id=\"T_1f5be5df_e768_11eb_9a79_00155dad103frow0_col0\" class=\"data row0 col0\" >77</td>\n",
       "                        <td id=\"T_1f5be5df_e768_11eb_9a79_00155dad103frow0_col1\" class=\"data row0 col1\" >10</td>\n",
       "                        <td id=\"T_1f5be5df_e768_11eb_9a79_00155dad103frow0_col2\" class=\"data row0 col2\" >1</td>\n",
       "                        <td id=\"T_1f5be5df_e768_11eb_9a79_00155dad103frow0_col3\" class=\"data row0 col3\" >177</td>\n",
       "                        <td id=\"T_1f5be5df_e768_11eb_9a79_00155dad103frow0_col4\" class=\"data row0 col4\" >159381</td>\n",
       "                        <td id=\"T_1f5be5df_e768_11eb_9a79_00155dad103frow0_col5\" class=\"data row0 col5\" >10</td>\n",
       "                        <td id=\"T_1f5be5df_e768_11eb_9a79_00155dad103frow0_col6\" class=\"data row0 col6\" >0</td>\n",
       "                        <td id=\"T_1f5be5df_e768_11eb_9a79_00155dad103frow0_col7\" class=\"data row0 col7\" >4</td>\n",
       "                        <td id=\"T_1f5be5df_e768_11eb_9a79_00155dad103frow0_col8\" class=\"data row0 col8\" >0.123000</td>\n",
       "                        <td id=\"T_1f5be5df_e768_11eb_9a79_00155dad103frow0_col9\" class=\"data row0 col9\" >0.784000</td>\n",
       "                        <td id=\"T_1f5be5df_e768_11eb_9a79_00155dad103frow0_col10\" class=\"data row0 col10\" >0.430000</td>\n",
       "                        <td id=\"T_1f5be5df_e768_11eb_9a79_00155dad103frow0_col11\" class=\"data row0 col11\" >0.000000</td>\n",
       "                        <td id=\"T_1f5be5df_e768_11eb_9a79_00155dad103frow0_col12\" class=\"data row0 col12\" >0.088700</td>\n",
       "                        <td id=\"T_1f5be5df_e768_11eb_9a79_00155dad103frow0_col13\" class=\"data row0 col13\" >-8.756000</td>\n",
       "                        <td id=\"T_1f5be5df_e768_11eb_9a79_00155dad103frow0_col14\" class=\"data row0 col14\" >0.036400</td>\n",
       "                        <td id=\"T_1f5be5df_e768_11eb_9a79_00155dad103frow0_col15\" class=\"data row0 col15\" >0.236000</td>\n",
       "                        <td id=\"T_1f5be5df_e768_11eb_9a79_00155dad103frow0_col16\" class=\"data row0 col16\" >127.087000</td>\n",
       "            </tr>\n",
       "            <tr>\n",
       "                        <th id=\"T_1f5be5df_e768_11eb_9a79_00155dad103flevel0_row1\" class=\"row_heading level0 row1\" >1</th>\n",
       "                        <td id=\"T_1f5be5df_e768_11eb_9a79_00155dad103frow1_col0\" class=\"data row1 col0\" >66</td>\n",
       "                        <td id=\"T_1f5be5df_e768_11eb_9a79_00155dad103frow1_col1\" class=\"data row1 col1\" >14</td>\n",
       "                        <td id=\"T_1f5be5df_e768_11eb_9a79_00155dad103frow1_col2\" class=\"data row1 col2\" >1</td>\n",
       "                        <td id=\"T_1f5be5df_e768_11eb_9a79_00155dad103frow1_col3\" class=\"data row1 col3\" >178</td>\n",
       "                        <td id=\"T_1f5be5df_e768_11eb_9a79_00155dad103frow1_col4\" class=\"data row1 col4\" >188800</td>\n",
       "                        <td id=\"T_1f5be5df_e768_11eb_9a79_00155dad103frow1_col5\" class=\"data row1 col5\" >9</td>\n",
       "                        <td id=\"T_1f5be5df_e768_11eb_9a79_00155dad103frow1_col6\" class=\"data row1 col6\" >1</td>\n",
       "                        <td id=\"T_1f5be5df_e768_11eb_9a79_00155dad103frow1_col7\" class=\"data row1 col7\" >4</td>\n",
       "                        <td id=\"T_1f5be5df_e768_11eb_9a79_00155dad103frow1_col8\" class=\"data row1 col8\" >0.162000</td>\n",
       "                        <td id=\"T_1f5be5df_e768_11eb_9a79_00155dad103frow1_col9\" class=\"data row1 col9\" >0.775000</td>\n",
       "                        <td id=\"T_1f5be5df_e768_11eb_9a79_00155dad103frow1_col10\" class=\"data row1 col10\" >0.757000</td>\n",
       "                        <td id=\"T_1f5be5df_e768_11eb_9a79_00155dad103frow1_col11\" class=\"data row1 col11\" >0.000000</td>\n",
       "                        <td id=\"T_1f5be5df_e768_11eb_9a79_00155dad103frow1_col12\" class=\"data row1 col12\" >0.148000</td>\n",
       "                        <td id=\"T_1f5be5df_e768_11eb_9a79_00155dad103frow1_col13\" class=\"data row1 col13\" >-4.139000</td>\n",
       "                        <td id=\"T_1f5be5df_e768_11eb_9a79_00155dad103frow1_col14\" class=\"data row1 col14\" >0.175000</td>\n",
       "                        <td id=\"T_1f5be5df_e768_11eb_9a79_00155dad103frow1_col15\" class=\"data row1 col15\" >0.562000</td>\n",
       "                        <td id=\"T_1f5be5df_e768_11eb_9a79_00155dad103frow1_col16\" class=\"data row1 col16\" >142.933000</td>\n",
       "            </tr>\n",
       "            <tr>\n",
       "                        <th id=\"T_1f5be5df_e768_11eb_9a79_00155dad103flevel0_row2\" class=\"row_heading level0 row2\" >2</th>\n",
       "                        <td id=\"T_1f5be5df_e768_11eb_9a79_00155dad103frow2_col0\" class=\"data row2 col0\" >13</td>\n",
       "                        <td id=\"T_1f5be5df_e768_11eb_9a79_00155dad103frow2_col1\" class=\"data row2 col1\" >1</td>\n",
       "                        <td id=\"T_1f5be5df_e768_11eb_9a79_00155dad103frow2_col2\" class=\"data row2 col2\" >1</td>\n",
       "                        <td id=\"T_1f5be5df_e768_11eb_9a79_00155dad103frow2_col3\" class=\"data row2 col3\" >0</td>\n",
       "                        <td id=\"T_1f5be5df_e768_11eb_9a79_00155dad103frow2_col4\" class=\"data row2 col4\" >180950</td>\n",
       "                        <td id=\"T_1f5be5df_e768_11eb_9a79_00155dad103frow2_col5\" class=\"data row2 col5\" >10</td>\n",
       "                        <td id=\"T_1f5be5df_e768_11eb_9a79_00155dad103frow2_col6\" class=\"data row2 col6\" >0</td>\n",
       "                        <td id=\"T_1f5be5df_e768_11eb_9a79_00155dad103frow2_col7\" class=\"data row2 col7\" >4</td>\n",
       "                        <td id=\"T_1f5be5df_e768_11eb_9a79_00155dad103frow2_col8\" class=\"data row2 col8\" >0.113000</td>\n",
       "                        <td id=\"T_1f5be5df_e768_11eb_9a79_00155dad103frow2_col9\" class=\"data row2 col9\" >0.882000</td>\n",
       "                        <td id=\"T_1f5be5df_e768_11eb_9a79_00155dad103frow2_col10\" class=\"data row2 col10\" >0.530000</td>\n",
       "                        <td id=\"T_1f5be5df_e768_11eb_9a79_00155dad103frow2_col11\" class=\"data row2 col11\" >0.479000</td>\n",
       "                        <td id=\"T_1f5be5df_e768_11eb_9a79_00155dad103frow2_col12\" class=\"data row2 col12\" >0.083800</td>\n",
       "                        <td id=\"T_1f5be5df_e768_11eb_9a79_00155dad103frow2_col13\" class=\"data row2 col13\" >-8.544000</td>\n",
       "                        <td id=\"T_1f5be5df_e768_11eb_9a79_00155dad103frow2_col14\" class=\"data row2 col14\" >0.233000</td>\n",
       "                        <td id=\"T_1f5be5df_e768_11eb_9a79_00155dad103frow2_col15\" class=\"data row2 col15\" >0.171000</td>\n",
       "                        <td id=\"T_1f5be5df_e768_11eb_9a79_00155dad103frow2_col16\" class=\"data row2 col16\" >109.090000</td>\n",
       "            </tr>\n",
       "    </tbody></table>   <style  type=\"text/css\" >\n",
       "</style><table id=\"T_1f5cf74c_e768_11eb_91ef_00155dad103f\" style='display:inline'><caption>Padronizado</caption><thead>    <tr>        <th class=\"blank level0\" ></th>        <th class=\"col_heading level0 col0\" >popularity</th>        <th class=\"col_heading level0 col1\" >track_number</th>        <th class=\"col_heading level0 col2\" >num_artists</th>        <th class=\"col_heading level0 col3\" >num_available_markets</th>        <th class=\"col_heading level0 col4\" >duration_ms</th>        <th class=\"col_heading level0 col5\" >key</th>        <th class=\"col_heading level0 col6\" >mode</th>        <th class=\"col_heading level0 col7\" >time_signature</th>        <th class=\"col_heading level0 col8\" >acousticness</th>        <th class=\"col_heading level0 col9\" >danceability</th>        <th class=\"col_heading level0 col10\" >energy</th>        <th class=\"col_heading level0 col11\" >instrumentalness</th>        <th class=\"col_heading level0 col12\" >liveness</th>        <th class=\"col_heading level0 col13\" >loudness</th>        <th class=\"col_heading level0 col14\" >speechiness</th>        <th class=\"col_heading level0 col15\" >valence</th>        <th class=\"col_heading level0 col16\" >tempo</th>    </tr></thead><tbody>\n",
       "                <tr>\n",
       "                        <th id=\"T_1f5cf74c_e768_11eb_91ef_00155dad103flevel0_row0\" class=\"row_heading level0 row0\" >0</th>\n",
       "                        <td id=\"T_1f5cf74c_e768_11eb_91ef_00155dad103frow0_col0\" class=\"data row0 col0\" >0.448125</td>\n",
       "                        <td id=\"T_1f5cf74c_e768_11eb_91ef_00155dad103frow0_col1\" class=\"data row0 col1\" >1.007112</td>\n",
       "                        <td id=\"T_1f5cf74c_e768_11eb_91ef_00155dad103frow0_col2\" class=\"data row0 col2\" >-0.644346</td>\n",
       "                        <td id=\"T_1f5cf74c_e768_11eb_91ef_00155dad103frow0_col3\" class=\"data row0 col3\" >0.361651</td>\n",
       "                        <td id=\"T_1f5cf74c_e768_11eb_91ef_00155dad103frow0_col4\" class=\"data row0 col4\" >-0.846963</td>\n",
       "                        <td id=\"T_1f5cf74c_e768_11eb_91ef_00155dad103frow0_col5\" class=\"data row0 col5\" >1.277028</td>\n",
       "                        <td id=\"T_1f5cf74c_e768_11eb_91ef_00155dad103frow0_col6\" class=\"data row0 col6\" >-1.138397</td>\n",
       "                        <td id=\"T_1f5cf74c_e768_11eb_91ef_00155dad103frow0_col7\" class=\"data row0 col7\" >0.106209</td>\n",
       "                        <td id=\"T_1f5cf74c_e768_11eb_91ef_00155dad103frow0_col8\" class=\"data row0 col8\" >-0.483188</td>\n",
       "                        <td id=\"T_1f5cf74c_e768_11eb_91ef_00155dad103frow0_col9\" class=\"data row0 col9\" >0.621100</td>\n",
       "                        <td id=\"T_1f5cf74c_e768_11eb_91ef_00155dad103frow0_col10\" class=\"data row0 col10\" >-1.231196</td>\n",
       "                        <td id=\"T_1f5cf74c_e768_11eb_91ef_00155dad103frow0_col11\" class=\"data row0 col11\" >-0.160381</td>\n",
       "                        <td id=\"T_1f5cf74c_e768_11eb_91ef_00155dad103frow0_col12\" class=\"data row0 col12\" >-0.640537</td>\n",
       "                        <td id=\"T_1f5cf74c_e768_11eb_91ef_00155dad103frow0_col13\" class=\"data row0 col13\" >-0.896190</td>\n",
       "                        <td id=\"T_1f5cf74c_e768_11eb_91ef_00155dad103frow0_col14\" class=\"data row0 col14\" >-0.802165</td>\n",
       "                        <td id=\"T_1f5cf74c_e768_11eb_91ef_00155dad103frow0_col15\" class=\"data row0 col15\" >-1.217354</td>\n",
       "                        <td id=\"T_1f5cf74c_e768_11eb_91ef_00155dad103frow0_col16\" class=\"data row0 col16\" >0.122480</td>\n",
       "            </tr>\n",
       "            <tr>\n",
       "                        <th id=\"T_1f5cf74c_e768_11eb_91ef_00155dad103flevel0_row1\" class=\"row_heading level0 row1\" >1</th>\n",
       "                        <td id=\"T_1f5cf74c_e768_11eb_91ef_00155dad103frow1_col0\" class=\"data row1 col0\" >-0.164943</td>\n",
       "                        <td id=\"T_1f5cf74c_e768_11eb_91ef_00155dad103frow1_col1\" class=\"data row1 col1\" >1.806576</td>\n",
       "                        <td id=\"T_1f5cf74c_e768_11eb_91ef_00155dad103frow1_col2\" class=\"data row1 col2\" >-0.644346</td>\n",
       "                        <td id=\"T_1f5cf74c_e768_11eb_91ef_00155dad103frow1_col3\" class=\"data row1 col3\" >0.380038</td>\n",
       "                        <td id=\"T_1f5cf74c_e768_11eb_91ef_00155dad103frow1_col4\" class=\"data row1 col4\" >-0.181157</td>\n",
       "                        <td id=\"T_1f5cf74c_e768_11eb_91ef_00155dad103frow1_col5\" class=\"data row1 col5\" >1.003471</td>\n",
       "                        <td id=\"T_1f5cf74c_e768_11eb_91ef_00155dad103frow1_col6\" class=\"data row1 col6\" >0.877744</td>\n",
       "                        <td id=\"T_1f5cf74c_e768_11eb_91ef_00155dad103frow1_col7\" class=\"data row1 col7\" >0.106209</td>\n",
       "                        <td id=\"T_1f5cf74c_e768_11eb_91ef_00155dad103frow1_col8\" class=\"data row1 col8\" >-0.327328</td>\n",
       "                        <td id=\"T_1f5cf74c_e768_11eb_91ef_00155dad103frow1_col9\" class=\"data row1 col9\" >0.556130</td>\n",
       "                        <td id=\"T_1f5cf74c_e768_11eb_91ef_00155dad103frow1_col10\" class=\"data row1 col10\" >0.809644</td>\n",
       "                        <td id=\"T_1f5cf74c_e768_11eb_91ef_00155dad103frow1_col11\" class=\"data row1 col11\" >-0.160381</td>\n",
       "                        <td id=\"T_1f5cf74c_e768_11eb_91ef_00155dad103frow1_col12\" class=\"data row1 col12\" >-0.225699</td>\n",
       "                        <td id=\"T_1f5cf74c_e768_11eb_91ef_00155dad103frow1_col13\" class=\"data row1 col13\" >0.871711</td>\n",
       "                        <td id=\"T_1f5cf74c_e768_11eb_91ef_00155dad103frow1_col14\" class=\"data row1 col14\" >0.462704</td>\n",
       "                        <td id=\"T_1f5cf74c_e768_11eb_91ef_00155dad103frow1_col15\" class=\"data row1 col15\" >0.221431</td>\n",
       "                        <td id=\"T_1f5cf74c_e768_11eb_91ef_00155dad103frow1_col16\" class=\"data row1 col16\" >0.658761</td>\n",
       "            </tr>\n",
       "            <tr>\n",
       "                        <th id=\"T_1f5cf74c_e768_11eb_91ef_00155dad103flevel0_row2\" class=\"row_heading level0 row2\" >2</th>\n",
       "                        <td id=\"T_1f5cf74c_e768_11eb_91ef_00155dad103frow2_col0\" class=\"data row2 col0\" >-3.118819</td>\n",
       "                        <td id=\"T_1f5cf74c_e768_11eb_91ef_00155dad103frow2_col1\" class=\"data row2 col1\" >-0.791681</td>\n",
       "                        <td id=\"T_1f5cf74c_e768_11eb_91ef_00155dad103frow2_col2\" class=\"data row2 col2\" >-0.644346</td>\n",
       "                        <td id=\"T_1f5cf74c_e768_11eb_91ef_00155dad103frow2_col3\" class=\"data row2 col3\" >-2.892824</td>\n",
       "                        <td id=\"T_1f5cf74c_e768_11eb_91ef_00155dad103frow2_col4\" class=\"data row2 col4\" >-0.358817</td>\n",
       "                        <td id=\"T_1f5cf74c_e768_11eb_91ef_00155dad103frow2_col5\" class=\"data row2 col5\" >1.277028</td>\n",
       "                        <td id=\"T_1f5cf74c_e768_11eb_91ef_00155dad103frow2_col6\" class=\"data row2 col6\" >-1.138397</td>\n",
       "                        <td id=\"T_1f5cf74c_e768_11eb_91ef_00155dad103frow2_col7\" class=\"data row2 col7\" >0.106209</td>\n",
       "                        <td id=\"T_1f5cf74c_e768_11eb_91ef_00155dad103frow2_col8\" class=\"data row2 col8\" >-0.523152</td>\n",
       "                        <td id=\"T_1f5cf74c_e768_11eb_91ef_00155dad103frow2_col9\" class=\"data row2 col9\" >1.328550</td>\n",
       "                        <td id=\"T_1f5cf74c_e768_11eb_91ef_00155dad103frow2_col10\" class=\"data row2 col10\" >-0.607086</td>\n",
       "                        <td id=\"T_1f5cf74c_e768_11eb_91ef_00155dad103frow2_col11\" class=\"data row2 col11\" >6.303556</td>\n",
       "                        <td id=\"T_1f5cf74c_e768_11eb_91ef_00155dad103frow2_col12\" class=\"data row2 col12\" >-0.674816</td>\n",
       "                        <td id=\"T_1f5cf74c_e768_11eb_91ef_00155dad103frow2_col13\" class=\"data row2 col13\" >-0.815013</td>\n",
       "                        <td id=\"T_1f5cf74c_e768_11eb_91ef_00155dad103frow2_col14\" class=\"data row2 col14\" >0.992015</td>\n",
       "                        <td id=\"T_1f5cf74c_e768_11eb_91ef_00155dad103frow2_col15\" class=\"data row2 col15\" >-1.504228</td>\n",
       "                        <td id=\"T_1f5cf74c_e768_11eb_91ef_00155dad103frow2_col16\" class=\"data row2 col16\" >-0.486598</td>\n",
       "            </tr>\n",
       "    </tbody></table>   "
      ],
      "text/plain": [
       "<IPython.core.display.HTML object>"
      ]
     },
     "metadata": {},
     "output_type": "display_data"
    }
   ],
   "source": [
    "df_padron = df.copy()  # cópia do DataFrame\n",
    "\n",
    "# Para cada coluna de df_padron,\n",
    "for coluna in df_padron.columns:\n",
    "    \n",
    "    X = df_padron[[coluna]] # pegamos os valores da coluna\n",
    "    X_ = (X - X.mean()) / (X.std()) # Padronização\n",
    "    df_padron[[coluna]] = X_\n",
    "\n",
    "display_side_by_side([df.head(3), df_padron.head(3)], ['Original', 'Padronizado']) # imprime as 3 primeiras linhas"
   ]
  },
  {
   "cell_type": "markdown",
   "metadata": {},
   "source": [
    "#### EXEMPLO AVANÇADO\n",
    "\n",
    "Uma outra forma de aplicar a *Padronização* é utilizando o módulo `sklearn.preprocessing` e a classe `StandardScaler()` da biblioteca *sklearn*:"
   ]
  },
  {
   "cell_type": "code",
   "execution_count": 13,
   "metadata": {},
   "outputs": [
    {
     "data": {
      "text/html": [
       "<style  type=\"text/css\" >\n",
       "</style><table id=\"T_1f661f28_e768_11eb_be53_00155dad103f\" style='display:inline'><caption>Padronização com pandas</caption><thead>    <tr>        <th class=\"blank level0\" ></th>        <th class=\"col_heading level0 col0\" >popularity</th>        <th class=\"col_heading level0 col1\" >track_number</th>        <th class=\"col_heading level0 col2\" >num_artists</th>        <th class=\"col_heading level0 col3\" >num_available_markets</th>        <th class=\"col_heading level0 col4\" >duration_ms</th>        <th class=\"col_heading level0 col5\" >key</th>        <th class=\"col_heading level0 col6\" >mode</th>        <th class=\"col_heading level0 col7\" >time_signature</th>        <th class=\"col_heading level0 col8\" >acousticness</th>        <th class=\"col_heading level0 col9\" >danceability</th>        <th class=\"col_heading level0 col10\" >energy</th>        <th class=\"col_heading level0 col11\" >instrumentalness</th>        <th class=\"col_heading level0 col12\" >liveness</th>        <th class=\"col_heading level0 col13\" >loudness</th>        <th class=\"col_heading level0 col14\" >speechiness</th>        <th class=\"col_heading level0 col15\" >valence</th>        <th class=\"col_heading level0 col16\" >tempo</th>    </tr></thead><tbody>\n",
       "                <tr>\n",
       "                        <th id=\"T_1f661f28_e768_11eb_be53_00155dad103flevel0_row0\" class=\"row_heading level0 row0\" >0</th>\n",
       "                        <td id=\"T_1f661f28_e768_11eb_be53_00155dad103frow0_col0\" class=\"data row0 col0\" >0.448125</td>\n",
       "                        <td id=\"T_1f661f28_e768_11eb_be53_00155dad103frow0_col1\" class=\"data row0 col1\" >1.007112</td>\n",
       "                        <td id=\"T_1f661f28_e768_11eb_be53_00155dad103frow0_col2\" class=\"data row0 col2\" >-0.644346</td>\n",
       "                        <td id=\"T_1f661f28_e768_11eb_be53_00155dad103frow0_col3\" class=\"data row0 col3\" >0.361651</td>\n",
       "                        <td id=\"T_1f661f28_e768_11eb_be53_00155dad103frow0_col4\" class=\"data row0 col4\" >-0.846963</td>\n",
       "                        <td id=\"T_1f661f28_e768_11eb_be53_00155dad103frow0_col5\" class=\"data row0 col5\" >1.277028</td>\n",
       "                        <td id=\"T_1f661f28_e768_11eb_be53_00155dad103frow0_col6\" class=\"data row0 col6\" >-1.138397</td>\n",
       "                        <td id=\"T_1f661f28_e768_11eb_be53_00155dad103frow0_col7\" class=\"data row0 col7\" >0.106209</td>\n",
       "                        <td id=\"T_1f661f28_e768_11eb_be53_00155dad103frow0_col8\" class=\"data row0 col8\" >-0.483188</td>\n",
       "                        <td id=\"T_1f661f28_e768_11eb_be53_00155dad103frow0_col9\" class=\"data row0 col9\" >0.621100</td>\n",
       "                        <td id=\"T_1f661f28_e768_11eb_be53_00155dad103frow0_col10\" class=\"data row0 col10\" >-1.231196</td>\n",
       "                        <td id=\"T_1f661f28_e768_11eb_be53_00155dad103frow0_col11\" class=\"data row0 col11\" >-0.160381</td>\n",
       "                        <td id=\"T_1f661f28_e768_11eb_be53_00155dad103frow0_col12\" class=\"data row0 col12\" >-0.640537</td>\n",
       "                        <td id=\"T_1f661f28_e768_11eb_be53_00155dad103frow0_col13\" class=\"data row0 col13\" >-0.896190</td>\n",
       "                        <td id=\"T_1f661f28_e768_11eb_be53_00155dad103frow0_col14\" class=\"data row0 col14\" >-0.802165</td>\n",
       "                        <td id=\"T_1f661f28_e768_11eb_be53_00155dad103frow0_col15\" class=\"data row0 col15\" >-1.217354</td>\n",
       "                        <td id=\"T_1f661f28_e768_11eb_be53_00155dad103frow0_col16\" class=\"data row0 col16\" >0.122480</td>\n",
       "            </tr>\n",
       "            <tr>\n",
       "                        <th id=\"T_1f661f28_e768_11eb_be53_00155dad103flevel0_row1\" class=\"row_heading level0 row1\" >1</th>\n",
       "                        <td id=\"T_1f661f28_e768_11eb_be53_00155dad103frow1_col0\" class=\"data row1 col0\" >-0.164943</td>\n",
       "                        <td id=\"T_1f661f28_e768_11eb_be53_00155dad103frow1_col1\" class=\"data row1 col1\" >1.806576</td>\n",
       "                        <td id=\"T_1f661f28_e768_11eb_be53_00155dad103frow1_col2\" class=\"data row1 col2\" >-0.644346</td>\n",
       "                        <td id=\"T_1f661f28_e768_11eb_be53_00155dad103frow1_col3\" class=\"data row1 col3\" >0.380038</td>\n",
       "                        <td id=\"T_1f661f28_e768_11eb_be53_00155dad103frow1_col4\" class=\"data row1 col4\" >-0.181157</td>\n",
       "                        <td id=\"T_1f661f28_e768_11eb_be53_00155dad103frow1_col5\" class=\"data row1 col5\" >1.003471</td>\n",
       "                        <td id=\"T_1f661f28_e768_11eb_be53_00155dad103frow1_col6\" class=\"data row1 col6\" >0.877744</td>\n",
       "                        <td id=\"T_1f661f28_e768_11eb_be53_00155dad103frow1_col7\" class=\"data row1 col7\" >0.106209</td>\n",
       "                        <td id=\"T_1f661f28_e768_11eb_be53_00155dad103frow1_col8\" class=\"data row1 col8\" >-0.327328</td>\n",
       "                        <td id=\"T_1f661f28_e768_11eb_be53_00155dad103frow1_col9\" class=\"data row1 col9\" >0.556130</td>\n",
       "                        <td id=\"T_1f661f28_e768_11eb_be53_00155dad103frow1_col10\" class=\"data row1 col10\" >0.809644</td>\n",
       "                        <td id=\"T_1f661f28_e768_11eb_be53_00155dad103frow1_col11\" class=\"data row1 col11\" >-0.160381</td>\n",
       "                        <td id=\"T_1f661f28_e768_11eb_be53_00155dad103frow1_col12\" class=\"data row1 col12\" >-0.225699</td>\n",
       "                        <td id=\"T_1f661f28_e768_11eb_be53_00155dad103frow1_col13\" class=\"data row1 col13\" >0.871711</td>\n",
       "                        <td id=\"T_1f661f28_e768_11eb_be53_00155dad103frow1_col14\" class=\"data row1 col14\" >0.462704</td>\n",
       "                        <td id=\"T_1f661f28_e768_11eb_be53_00155dad103frow1_col15\" class=\"data row1 col15\" >0.221431</td>\n",
       "                        <td id=\"T_1f661f28_e768_11eb_be53_00155dad103frow1_col16\" class=\"data row1 col16\" >0.658761</td>\n",
       "            </tr>\n",
       "            <tr>\n",
       "                        <th id=\"T_1f661f28_e768_11eb_be53_00155dad103flevel0_row2\" class=\"row_heading level0 row2\" >2</th>\n",
       "                        <td id=\"T_1f661f28_e768_11eb_be53_00155dad103frow2_col0\" class=\"data row2 col0\" >-3.118819</td>\n",
       "                        <td id=\"T_1f661f28_e768_11eb_be53_00155dad103frow2_col1\" class=\"data row2 col1\" >-0.791681</td>\n",
       "                        <td id=\"T_1f661f28_e768_11eb_be53_00155dad103frow2_col2\" class=\"data row2 col2\" >-0.644346</td>\n",
       "                        <td id=\"T_1f661f28_e768_11eb_be53_00155dad103frow2_col3\" class=\"data row2 col3\" >-2.892824</td>\n",
       "                        <td id=\"T_1f661f28_e768_11eb_be53_00155dad103frow2_col4\" class=\"data row2 col4\" >-0.358817</td>\n",
       "                        <td id=\"T_1f661f28_e768_11eb_be53_00155dad103frow2_col5\" class=\"data row2 col5\" >1.277028</td>\n",
       "                        <td id=\"T_1f661f28_e768_11eb_be53_00155dad103frow2_col6\" class=\"data row2 col6\" >-1.138397</td>\n",
       "                        <td id=\"T_1f661f28_e768_11eb_be53_00155dad103frow2_col7\" class=\"data row2 col7\" >0.106209</td>\n",
       "                        <td id=\"T_1f661f28_e768_11eb_be53_00155dad103frow2_col8\" class=\"data row2 col8\" >-0.523152</td>\n",
       "                        <td id=\"T_1f661f28_e768_11eb_be53_00155dad103frow2_col9\" class=\"data row2 col9\" >1.328550</td>\n",
       "                        <td id=\"T_1f661f28_e768_11eb_be53_00155dad103frow2_col10\" class=\"data row2 col10\" >-0.607086</td>\n",
       "                        <td id=\"T_1f661f28_e768_11eb_be53_00155dad103frow2_col11\" class=\"data row2 col11\" >6.303556</td>\n",
       "                        <td id=\"T_1f661f28_e768_11eb_be53_00155dad103frow2_col12\" class=\"data row2 col12\" >-0.674816</td>\n",
       "                        <td id=\"T_1f661f28_e768_11eb_be53_00155dad103frow2_col13\" class=\"data row2 col13\" >-0.815013</td>\n",
       "                        <td id=\"T_1f661f28_e768_11eb_be53_00155dad103frow2_col14\" class=\"data row2 col14\" >0.992015</td>\n",
       "                        <td id=\"T_1f661f28_e768_11eb_be53_00155dad103frow2_col15\" class=\"data row2 col15\" >-1.504228</td>\n",
       "                        <td id=\"T_1f661f28_e768_11eb_be53_00155dad103frow2_col16\" class=\"data row2 col16\" >-0.486598</td>\n",
       "            </tr>\n",
       "    </tbody></table>   <style  type=\"text/css\" >\n",
       "</style><table id=\"T_1f670975_e768_11eb_b531_00155dad103f\" style='display:inline'><caption>Padronização com sklearn</caption><thead>    <tr>        <th class=\"blank level0\" ></th>        <th class=\"col_heading level0 col0\" >popularity</th>        <th class=\"col_heading level0 col1\" >track_number</th>        <th class=\"col_heading level0 col2\" >num_artists</th>        <th class=\"col_heading level0 col3\" >num_available_markets</th>        <th class=\"col_heading level0 col4\" >duration_ms</th>        <th class=\"col_heading level0 col5\" >key</th>        <th class=\"col_heading level0 col6\" >mode</th>        <th class=\"col_heading level0 col7\" >time_signature</th>        <th class=\"col_heading level0 col8\" >acousticness</th>        <th class=\"col_heading level0 col9\" >danceability</th>        <th class=\"col_heading level0 col10\" >energy</th>        <th class=\"col_heading level0 col11\" >instrumentalness</th>        <th class=\"col_heading level0 col12\" >liveness</th>        <th class=\"col_heading level0 col13\" >loudness</th>        <th class=\"col_heading level0 col14\" >speechiness</th>        <th class=\"col_heading level0 col15\" >valence</th>        <th class=\"col_heading level0 col16\" >tempo</th>    </tr></thead><tbody>\n",
       "                <tr>\n",
       "                        <th id=\"T_1f670975_e768_11eb_b531_00155dad103flevel0_row0\" class=\"row_heading level0 row0\" >0</th>\n",
       "                        <td id=\"T_1f670975_e768_11eb_b531_00155dad103frow0_col0\" class=\"data row0 col0\" >0.448300</td>\n",
       "                        <td id=\"T_1f670975_e768_11eb_b531_00155dad103frow0_col1\" class=\"data row0 col1\" >1.007505</td>\n",
       "                        <td id=\"T_1f670975_e768_11eb_b531_00155dad103frow0_col2\" class=\"data row0 col2\" >-0.644597</td>\n",
       "                        <td id=\"T_1f670975_e768_11eb_b531_00155dad103frow0_col3\" class=\"data row0 col3\" >0.361792</td>\n",
       "                        <td id=\"T_1f670975_e768_11eb_b531_00155dad103frow0_col4\" class=\"data row0 col4\" >-0.847293</td>\n",
       "                        <td id=\"T_1f670975_e768_11eb_b531_00155dad103frow0_col5\" class=\"data row0 col5\" >1.277526</td>\n",
       "                        <td id=\"T_1f670975_e768_11eb_b531_00155dad103frow0_col6\" class=\"data row0 col6\" >-1.138841</td>\n",
       "                        <td id=\"T_1f670975_e768_11eb_b531_00155dad103frow0_col7\" class=\"data row0 col7\" >0.106250</td>\n",
       "                        <td id=\"T_1f670975_e768_11eb_b531_00155dad103frow0_col8\" class=\"data row0 col8\" >-0.483376</td>\n",
       "                        <td id=\"T_1f670975_e768_11eb_b531_00155dad103frow0_col9\" class=\"data row0 col9\" >0.621342</td>\n",
       "                        <td id=\"T_1f670975_e768_11eb_b531_00155dad103frow0_col10\" class=\"data row0 col10\" >-1.231676</td>\n",
       "                        <td id=\"T_1f670975_e768_11eb_b531_00155dad103frow0_col11\" class=\"data row0 col11\" >-0.160443</td>\n",
       "                        <td id=\"T_1f670975_e768_11eb_b531_00155dad103frow0_col12\" class=\"data row0 col12\" >-0.640787</td>\n",
       "                        <td id=\"T_1f670975_e768_11eb_b531_00155dad103frow0_col13\" class=\"data row0 col13\" >-0.896539</td>\n",
       "                        <td id=\"T_1f670975_e768_11eb_b531_00155dad103frow0_col14\" class=\"data row0 col14\" >-0.802477</td>\n",
       "                        <td id=\"T_1f670975_e768_11eb_b531_00155dad103frow0_col15\" class=\"data row0 col15\" >-1.217828</td>\n",
       "                        <td id=\"T_1f670975_e768_11eb_b531_00155dad103frow0_col16\" class=\"data row0 col16\" >0.122528</td>\n",
       "            </tr>\n",
       "            <tr>\n",
       "                        <th id=\"T_1f670975_e768_11eb_b531_00155dad103flevel0_row1\" class=\"row_heading level0 row1\" >1</th>\n",
       "                        <td id=\"T_1f670975_e768_11eb_b531_00155dad103frow1_col0\" class=\"data row1 col0\" >-0.165008</td>\n",
       "                        <td id=\"T_1f670975_e768_11eb_b531_00155dad103frow1_col1\" class=\"data row1 col1\" >1.807280</td>\n",
       "                        <td id=\"T_1f670975_e768_11eb_b531_00155dad103frow1_col2\" class=\"data row1 col2\" >-0.644597</td>\n",
       "                        <td id=\"T_1f670975_e768_11eb_b531_00155dad103frow1_col3\" class=\"data row1 col3\" >0.380186</td>\n",
       "                        <td id=\"T_1f670975_e768_11eb_b531_00155dad103frow1_col4\" class=\"data row1 col4\" >-0.181228</td>\n",
       "                        <td id=\"T_1f670975_e768_11eb_b531_00155dad103frow1_col5\" class=\"data row1 col5\" >1.003862</td>\n",
       "                        <td id=\"T_1f670975_e768_11eb_b531_00155dad103frow1_col6\" class=\"data row1 col6\" >0.878086</td>\n",
       "                        <td id=\"T_1f670975_e768_11eb_b531_00155dad103frow1_col7\" class=\"data row1 col7\" >0.106250</td>\n",
       "                        <td id=\"T_1f670975_e768_11eb_b531_00155dad103frow1_col8\" class=\"data row1 col8\" >-0.327456</td>\n",
       "                        <td id=\"T_1f670975_e768_11eb_b531_00155dad103frow1_col9\" class=\"data row1 col9\" >0.556346</td>\n",
       "                        <td id=\"T_1f670975_e768_11eb_b531_00155dad103frow1_col10\" class=\"data row1 col10\" >0.809959</td>\n",
       "                        <td id=\"T_1f670975_e768_11eb_b531_00155dad103frow1_col11\" class=\"data row1 col11\" >-0.160443</td>\n",
       "                        <td id=\"T_1f670975_e768_11eb_b531_00155dad103frow1_col12\" class=\"data row1 col12\" >-0.225787</td>\n",
       "                        <td id=\"T_1f670975_e768_11eb_b531_00155dad103frow1_col13\" class=\"data row1 col13\" >0.872051</td>\n",
       "                        <td id=\"T_1f670975_e768_11eb_b531_00155dad103frow1_col14\" class=\"data row1 col14\" >0.462885</td>\n",
       "                        <td id=\"T_1f670975_e768_11eb_b531_00155dad103frow1_col15\" class=\"data row1 col15\" >0.221517</td>\n",
       "                        <td id=\"T_1f670975_e768_11eb_b531_00155dad103frow1_col16\" class=\"data row1 col16\" >0.659018</td>\n",
       "            </tr>\n",
       "            <tr>\n",
       "                        <th id=\"T_1f670975_e768_11eb_b531_00155dad103flevel0_row2\" class=\"row_heading level0 row2\" >2</th>\n",
       "                        <td id=\"T_1f670975_e768_11eb_b531_00155dad103frow2_col0\" class=\"data row2 col0\" >-3.120034</td>\n",
       "                        <td id=\"T_1f670975_e768_11eb_b531_00155dad103frow2_col1\" class=\"data row2 col1\" >-0.791989</td>\n",
       "                        <td id=\"T_1f670975_e768_11eb_b531_00155dad103frow2_col2\" class=\"data row2 col2\" >-0.644597</td>\n",
       "                        <td id=\"T_1f670975_e768_11eb_b531_00155dad103frow2_col3\" class=\"data row2 col3\" >-2.893951</td>\n",
       "                        <td id=\"T_1f670975_e768_11eb_b531_00155dad103frow2_col4\" class=\"data row2 col4\" >-0.358957</td>\n",
       "                        <td id=\"T_1f670975_e768_11eb_b531_00155dad103frow2_col5\" class=\"data row2 col5\" >1.277526</td>\n",
       "                        <td id=\"T_1f670975_e768_11eb_b531_00155dad103frow2_col6\" class=\"data row2 col6\" >-1.138841</td>\n",
       "                        <td id=\"T_1f670975_e768_11eb_b531_00155dad103frow2_col7\" class=\"data row2 col7\" >0.106250</td>\n",
       "                        <td id=\"T_1f670975_e768_11eb_b531_00155dad103frow2_col8\" class=\"data row2 col8\" >-0.523356</td>\n",
       "                        <td id=\"T_1f670975_e768_11eb_b531_00155dad103frow2_col9\" class=\"data row2 col9\" >1.329068</td>\n",
       "                        <td id=\"T_1f670975_e768_11eb_b531_00155dad103frow2_col10\" class=\"data row2 col10\" >-0.607323</td>\n",
       "                        <td id=\"T_1f670975_e768_11eb_b531_00155dad103frow2_col11\" class=\"data row2 col11\" >6.306012</td>\n",
       "                        <td id=\"T_1f670975_e768_11eb_b531_00155dad103frow2_col12\" class=\"data row2 col12\" >-0.675079</td>\n",
       "                        <td id=\"T_1f670975_e768_11eb_b531_00155dad103frow2_col13\" class=\"data row2 col13\" >-0.815330</td>\n",
       "                        <td id=\"T_1f670975_e768_11eb_b531_00155dad103frow2_col14\" class=\"data row2 col14\" >0.992401</td>\n",
       "                        <td id=\"T_1f670975_e768_11eb_b531_00155dad103frow2_col15\" class=\"data row2 col15\" >-1.504814</td>\n",
       "                        <td id=\"T_1f670975_e768_11eb_b531_00155dad103frow2_col16\" class=\"data row2 col16\" >-0.486788</td>\n",
       "            </tr>\n",
       "    </tbody></table>   "
      ],
      "text/plain": [
       "<IPython.core.display.HTML object>"
      ]
     },
     "metadata": {},
     "output_type": "display_data"
    }
   ],
   "source": [
    "df_padron_2 = df_padron.copy()  # cópia do DataFrame\n",
    "standard_scaler = StandardScaler() # inicializa o transformador\n",
    "df_padron_2.loc[:,] = standard_scaler.fit_transform(df_padron_2) # Padronização\n",
    "\n",
    "display_side_by_side([df_padron.head(3), df_padron_2.head(3)], ['Padronização com pandas', 'Padronização com sklearn']) # imprime as 3 primeiras linhas"
   ]
  },
  {
   "cell_type": "markdown",
   "metadata": {},
   "source": [
    "---\n",
    "## Engenharia de características (Feature Engineering)\n",
    "\n",
    "Outra forma de **transformar** os dados é através da **Engenharia de características**. Nesta técnica, características de um conjunto de dados podem ser criadas ou removidas para melhorar o desempenho de modelos de Aprendizado de Máquina. \n",
    "\n",
    "Muitas técnicas de <ins>**Transformação**</ins> e <ins>**Limpeza de dados**</ins> também podem ser consideradas **Engenharia de características**, incluindo métodos de escalonamento, discretização e redução de dimensionalidade. \n",
    "\n",
    "Portanto, a seguir, nós vamos discutir algumas técnicas que ainda não foram abordadas."
   ]
  },
  {
   "cell_type": "markdown",
   "metadata": {},
   "source": [
    "#### EXEMPLO\n",
    "\n",
    "Para exemplificar, utilizaremos dessa vez as variáveis não-numéricas da tabela `Tracks`."
   ]
  },
  {
   "cell_type": "code",
   "execution_count": 14,
   "metadata": {
    "cell_style": "center"
   },
   "outputs": [
    {
     "name": "stdout",
     "output_type": "stream",
     "text": [
      "['explicit' 'song_type' 'release_date']\n"
     ]
    }
   ],
   "source": [
    "# Selecionando apenas variáveis não-numéricas\n",
    "df = data.select_dtypes(exclude=['number'])\n",
    "df = df.drop(columns=['song_id', 'song_name', 'artist_id', 'artist_name']) # removendo colunas desnecessárias\n",
    "print(df.columns.values) # imprime as colunas restantes"
   ]
  },
  {
   "cell_type": "markdown",
   "metadata": {},
   "source": [
    "Depois de selecionar as variáveis não-numéricas da nossa tabela e de remover colunas desnecessárias (i.e., ids e nomes), ficamos com os seguintes dados:\n",
    "\n",
    "* `explicit`: *flag* indicando se a track contém conteúdo explícito\n",
    "* `song_type`: se a track é do tipo *Solo* ou *Collaboration*\n",
    "* `release_date`: data de lançamento da track\n",
    "\n",
    "Utilizando esses atributos, nós iremos explorar duas formas de **Engenharia de características**: \n",
    "\n",
    "1. Transformando variáveis categóricas\n",
    "2. Criar novos atributos a partir de variáveis de data"
   ]
  },
  {
   "cell_type": "markdown",
   "metadata": {},
   "source": [
    "### DADOS CATEGÓRICOS\n",
    "\n",
    "Variáveis categóricas são atributos que só podem assumir um número limitado e, geralmente, fixo de valores possíveis. \n",
    "\n",
    "Por exemplo, as músicas do Spotify contêm dados categóricos (`explicit`) para informar se as músicas são explícitas. \n",
    "\n",
    "Ou seja, cada unidade de observação (i.e., música) é atribuída a um determinado grupo ou categoria nominal (i.e. [`False` e `True`]). "
   ]
  },
  {
   "cell_type": "code",
   "execution_count": 15,
   "metadata": {},
   "outputs": [
    {
     "data": {
      "text/html": [
       "<div>\n",
       "<style scoped>\n",
       "    .dataframe tbody tr th:only-of-type {\n",
       "        vertical-align: middle;\n",
       "    }\n",
       "\n",
       "    .dataframe tbody tr th {\n",
       "        vertical-align: top;\n",
       "    }\n",
       "\n",
       "    .dataframe thead th {\n",
       "        text-align: right;\n",
       "    }\n",
       "</style>\n",
       "<table border=\"1\" class=\"dataframe\">\n",
       "  <thead>\n",
       "    <tr style=\"text-align: right;\">\n",
       "      <th></th>\n",
       "      <th>explicit</th>\n",
       "    </tr>\n",
       "  </thead>\n",
       "  <tbody>\n",
       "    <tr>\n",
       "      <th>0</th>\n",
       "      <td>False</td>\n",
       "    </tr>\n",
       "    <tr>\n",
       "      <th>1</th>\n",
       "      <td>True</td>\n",
       "    </tr>\n",
       "    <tr>\n",
       "      <th>2</th>\n",
       "      <td>False</td>\n",
       "    </tr>\n",
       "  </tbody>\n",
       "</table>\n",
       "</div>"
      ],
      "text/plain": [
       "   explicit\n",
       "0     False\n",
       "1      True\n",
       "2     False"
      ]
     },
     "execution_count": 15,
     "metadata": {},
     "output_type": "execute_result"
    }
   ],
   "source": [
    "df[['explicit']].head(3)"
   ]
  },
  {
   "cell_type": "markdown",
   "metadata": {},
   "source": [
    "Muitos algoritmos e modelos de Aprendizado de Máquina têm dificuldades em processar dados categóricos, necessitando alguma forma de **transformar** tais atributos em variáveis numéricas. \n",
    "\n",
    "Uma das abordagens mais simples e comuns é converter variáveis categóricas em *dummies* ou indicadores, utilizando a função `get_dummies()` do *pandas*, conforme o exemplo a seguir. "
   ]
  },
  {
   "cell_type": "code",
   "execution_count": 16,
   "metadata": {
    "cell_style": "center",
    "scrolled": true
   },
   "outputs": [
    {
     "data": {
      "text/html": [
       "<style  type=\"text/css\" >\n",
       "</style><table id=\"T_1f78bcc7_e768_11eb_9beb_00155dad103f\" style='display:inline'><caption>Original</caption><thead>    <tr>        <th class=\"blank level0\" ></th>        <th class=\"col_heading level0 col0\" >explicit</th>        <th class=\"col_heading level0 col1\" >song_type</th>    </tr></thead><tbody>\n",
       "                <tr>\n",
       "                        <th id=\"T_1f78bcc7_e768_11eb_9beb_00155dad103flevel0_row0\" class=\"row_heading level0 row0\" >0</th>\n",
       "                        <td id=\"T_1f78bcc7_e768_11eb_9beb_00155dad103frow0_col0\" class=\"data row0 col0\" >False</td>\n",
       "                        <td id=\"T_1f78bcc7_e768_11eb_9beb_00155dad103frow0_col1\" class=\"data row0 col1\" >Solo</td>\n",
       "            </tr>\n",
       "            <tr>\n",
       "                        <th id=\"T_1f78bcc7_e768_11eb_9beb_00155dad103flevel0_row1\" class=\"row_heading level0 row1\" >1</th>\n",
       "                        <td id=\"T_1f78bcc7_e768_11eb_9beb_00155dad103frow1_col0\" class=\"data row1 col0\" >True</td>\n",
       "                        <td id=\"T_1f78bcc7_e768_11eb_9beb_00155dad103frow1_col1\" class=\"data row1 col1\" >Solo</td>\n",
       "            </tr>\n",
       "            <tr>\n",
       "                        <th id=\"T_1f78bcc7_e768_11eb_9beb_00155dad103flevel0_row2\" class=\"row_heading level0 row2\" >2</th>\n",
       "                        <td id=\"T_1f78bcc7_e768_11eb_9beb_00155dad103frow2_col0\" class=\"data row2 col0\" >False</td>\n",
       "                        <td id=\"T_1f78bcc7_e768_11eb_9beb_00155dad103frow2_col1\" class=\"data row2 col1\" >Solo</td>\n",
       "            </tr>\n",
       "    </tbody></table>   <style  type=\"text/css\" >\n",
       "</style><table id=\"T_1f790ad7_e768_11eb_b3eb_00155dad103f\" style='display:inline'><caption>Transformado</caption><thead>    <tr>        <th class=\"blank level0\" ></th>        <th class=\"col_heading level0 col0\" >explicit_False</th>        <th class=\"col_heading level0 col1\" >explicit_True</th>        <th class=\"col_heading level0 col2\" >song_type_Collaboration</th>        <th class=\"col_heading level0 col3\" >song_type_Solo</th>    </tr></thead><tbody>\n",
       "                <tr>\n",
       "                        <th id=\"T_1f790ad7_e768_11eb_b3eb_00155dad103flevel0_row0\" class=\"row_heading level0 row0\" >0</th>\n",
       "                        <td id=\"T_1f790ad7_e768_11eb_b3eb_00155dad103frow0_col0\" class=\"data row0 col0\" >1</td>\n",
       "                        <td id=\"T_1f790ad7_e768_11eb_b3eb_00155dad103frow0_col1\" class=\"data row0 col1\" >0</td>\n",
       "                        <td id=\"T_1f790ad7_e768_11eb_b3eb_00155dad103frow0_col2\" class=\"data row0 col2\" >0</td>\n",
       "                        <td id=\"T_1f790ad7_e768_11eb_b3eb_00155dad103frow0_col3\" class=\"data row0 col3\" >1</td>\n",
       "            </tr>\n",
       "            <tr>\n",
       "                        <th id=\"T_1f790ad7_e768_11eb_b3eb_00155dad103flevel0_row1\" class=\"row_heading level0 row1\" >1</th>\n",
       "                        <td id=\"T_1f790ad7_e768_11eb_b3eb_00155dad103frow1_col0\" class=\"data row1 col0\" >0</td>\n",
       "                        <td id=\"T_1f790ad7_e768_11eb_b3eb_00155dad103frow1_col1\" class=\"data row1 col1\" >1</td>\n",
       "                        <td id=\"T_1f790ad7_e768_11eb_b3eb_00155dad103frow1_col2\" class=\"data row1 col2\" >0</td>\n",
       "                        <td id=\"T_1f790ad7_e768_11eb_b3eb_00155dad103frow1_col3\" class=\"data row1 col3\" >1</td>\n",
       "            </tr>\n",
       "            <tr>\n",
       "                        <th id=\"T_1f790ad7_e768_11eb_b3eb_00155dad103flevel0_row2\" class=\"row_heading level0 row2\" >2</th>\n",
       "                        <td id=\"T_1f790ad7_e768_11eb_b3eb_00155dad103frow2_col0\" class=\"data row2 col0\" >1</td>\n",
       "                        <td id=\"T_1f790ad7_e768_11eb_b3eb_00155dad103frow2_col1\" class=\"data row2 col1\" >0</td>\n",
       "                        <td id=\"T_1f790ad7_e768_11eb_b3eb_00155dad103frow2_col2\" class=\"data row2 col2\" >0</td>\n",
       "                        <td id=\"T_1f790ad7_e768_11eb_b3eb_00155dad103frow2_col3\" class=\"data row2 col3\" >1</td>\n",
       "            </tr>\n",
       "    </tbody></table>   "
      ],
      "text/plain": [
       "<IPython.core.display.HTML object>"
      ]
     },
     "metadata": {},
     "output_type": "display_data"
    }
   ],
   "source": [
    "# Selecionando os atributos categóricos\n",
    "df = data[['explicit', 'song_type']].astype('category')\n",
    "\n",
    "# Convertendo em dummies\n",
    "df_dummies = pd.get_dummies(df)\n",
    "\n",
    "display_side_by_side([df.head(3), df_dummies.head(3)], ['Original', 'Transformado']) # imprime as 3 primeiras linhas"
   ]
  },
  {
   "cell_type": "markdown",
   "metadata": {},
   "source": [
    "O método `get_dummies()` cria uma nova coluna contendo 0s e 1s para cada categoria possível do atributo, onde:\n",
    "\n",
    "* `0`: indica que o dado não é daquela categoria\n",
    "* `1`: indica que o dado é daquela categoria \n",
    "\n",
    "Como os dois atributos têm apenas duas categorias possíveis, o método criou duas colunas para cada atributo."
   ]
  },
  {
   "cell_type": "markdown",
   "metadata": {},
   "source": [
    "### VARIÁVEIS DE DATA\n",
    "\n",
    "Datas e horários são fontes valiosas de informações que podem ser usadas em projetos de Ciência de Dados.\n",
    "\n",
    "Por exemplo, em um modelo de predição de sucesso musical, pode ser útil considerar a data de lançamento das músicas. De fato, existem casos onde o período de lançamento influencia diretamente no sucesso musical.\n",
    "**Exemplos:** músicas de Carnaval, músicas natalinas, músicas da Copa, etc.\n",
    " \n",
    "No entanto, tecnicamente, as variáveis de data requerem alguma **Engenharia de características** para **transformá-las** em dados numéricos antes de serem usadas pelos algoritmos de Aprendizado de Máquina. \n",
    "\n",
    "#### EXEMPLO\n",
    "\n",
    "Para exemplificar, utilizaremos a data de lançamento das músicas do Spotify (`release_date`) convertendo em formatos mais amigáveis, extraindo recursos e criando novas variáveis que podem ser usadas na análise de algum modelo. "
   ]
  },
  {
   "cell_type": "code",
   "execution_count": 17,
   "metadata": {
    "cell_style": "center"
   },
   "outputs": [
    {
     "data": {
      "text/html": [
       "<div>\n",
       "<style scoped>\n",
       "    .dataframe tbody tr th:only-of-type {\n",
       "        vertical-align: middle;\n",
       "    }\n",
       "\n",
       "    .dataframe tbody tr th {\n",
       "        vertical-align: top;\n",
       "    }\n",
       "\n",
       "    .dataframe thead th {\n",
       "        text-align: right;\n",
       "    }\n",
       "</style>\n",
       "<table border=\"1\" class=\"dataframe\">\n",
       "  <thead>\n",
       "    <tr style=\"text-align: right;\">\n",
       "      <th></th>\n",
       "      <th>song_id</th>\n",
       "      <th>song_name</th>\n",
       "      <th>release_date</th>\n",
       "    </tr>\n",
       "  </thead>\n",
       "  <tbody>\n",
       "    <tr>\n",
       "      <th>0</th>\n",
       "      <td>2rRJrJEo19S2J82BDsQ3F7</td>\n",
       "      <td>Falling</td>\n",
       "      <td>2020-03-26</td>\n",
       "    </tr>\n",
       "    <tr>\n",
       "      <th>1</th>\n",
       "      <td>3BYIzNZ3t9lRQCACXSMLrT</td>\n",
       "      <td>Venetia</td>\n",
       "      <td>2020-03-06</td>\n",
       "    </tr>\n",
       "    <tr>\n",
       "      <th>2</th>\n",
       "      <td>1g3J9W88hTG173ySZR6E9S</td>\n",
       "      <td>Tilidin Weg</td>\n",
       "      <td>2020-07-30</td>\n",
       "    </tr>\n",
       "    <tr>\n",
       "      <th>3</th>\n",
       "      <td>75pQqzwgCjUOSSy5CpmAjy</td>\n",
       "      <td>Pero Ya No</td>\n",
       "      <td>2020-02-28</td>\n",
       "    </tr>\n",
       "    <tr>\n",
       "      <th>4</th>\n",
       "      <td>7kDUspsoYfLkWnZR7qwHZl</td>\n",
       "      <td>my ex's best friend (with blackbear)</td>\n",
       "      <td>2020-09-25</td>\n",
       "    </tr>\n",
       "  </tbody>\n",
       "</table>\n",
       "</div>"
      ],
      "text/plain": [
       "                  song_id                             song_name release_date\n",
       "0  2rRJrJEo19S2J82BDsQ3F7                               Falling   2020-03-26\n",
       "1  3BYIzNZ3t9lRQCACXSMLrT                               Venetia   2020-03-06\n",
       "2  1g3J9W88hTG173ySZR6E9S                           Tilidin Weg   2020-07-30\n",
       "3  75pQqzwgCjUOSSy5CpmAjy                            Pero Ya No   2020-02-28\n",
       "4  7kDUspsoYfLkWnZR7qwHZl  my ex's best friend (with blackbear)   2020-09-25"
      ]
     },
     "execution_count": 17,
     "metadata": {},
     "output_type": "execute_result"
    }
   ],
   "source": [
    "# Selecionando o id, nome e a data de lançamento das tracks\n",
    "df = data[['song_id', 'song_name', 'release_date']]\n",
    "df.head()"
   ]
  },
  {
   "cell_type": "markdown",
   "metadata": {},
   "source": [
    "O primeiro passo do processamento de datas é verificar se as variáveis estão em formato `datetime`.\n",
    "Para isso, podemos utilizar o `dtypes` para verificar o tipo de de cada coluna do nosso *DataFrame*: "
   ]
  },
  {
   "cell_type": "code",
   "execution_count": 18,
   "metadata": {},
   "outputs": [
    {
     "data": {
      "text/plain": [
       "song_id         object\n",
       "song_name       object\n",
       "release_date    object\n",
       "dtype: object"
      ]
     },
     "execution_count": 18,
     "metadata": {},
     "output_type": "execute_result"
    }
   ],
   "source": [
    "df.dtypes # verificando o tipo das colunas de df"
   ]
  },
  {
   "cell_type": "markdown",
   "metadata": {},
   "source": [
    "Como podemos notar, o tipo da variável `release_date` é `object` e não `datetime`. Portanto, precisamos convertê-la antes de passar para a **Engenharia de características**. Para isso, usaremos o método `to_datetime()` do *pandas*:"
   ]
  },
  {
   "cell_type": "code",
   "execution_count": 19,
   "metadata": {},
   "outputs": [
    {
     "data": {
      "text/plain": [
       "song_id                 object\n",
       "song_name               object\n",
       "release_date    datetime64[ns]\n",
       "dtype: object"
      ]
     },
     "execution_count": 19,
     "metadata": {},
     "output_type": "execute_result"
    }
   ],
   "source": [
    "df['release_date'] = pd.to_datetime(df['release_date'], format='%Y-%m-%d') # convertendo a data de lançamento em 'datetime'\n",
    "df.dtypes # verificando o tipo das colunas de df"
   ]
  },
  {
   "cell_type": "markdown",
   "metadata": {},
   "source": [
    "Depois de converter para o formato correto, podemos gerar novas variáveis numéricas a partir da data de lançamento das músicas. Por exemplo, podemos quebrar a data em: dia, mês e ano: "
   ]
  },
  {
   "cell_type": "code",
   "execution_count": 20,
   "metadata": {},
   "outputs": [
    {
     "data": {
      "text/html": [
       "<div>\n",
       "<style scoped>\n",
       "    .dataframe tbody tr th:only-of-type {\n",
       "        vertical-align: middle;\n",
       "    }\n",
       "\n",
       "    .dataframe tbody tr th {\n",
       "        vertical-align: top;\n",
       "    }\n",
       "\n",
       "    .dataframe thead th {\n",
       "        text-align: right;\n",
       "    }\n",
       "</style>\n",
       "<table border=\"1\" class=\"dataframe\">\n",
       "  <thead>\n",
       "    <tr style=\"text-align: right;\">\n",
       "      <th></th>\n",
       "      <th>song_id</th>\n",
       "      <th>song_name</th>\n",
       "      <th>release_date</th>\n",
       "      <th>day</th>\n",
       "      <th>month</th>\n",
       "      <th>year</th>\n",
       "    </tr>\n",
       "  </thead>\n",
       "  <tbody>\n",
       "    <tr>\n",
       "      <th>0</th>\n",
       "      <td>2rRJrJEo19S2J82BDsQ3F7</td>\n",
       "      <td>Falling</td>\n",
       "      <td>2020-03-26</td>\n",
       "      <td>26</td>\n",
       "      <td>3</td>\n",
       "      <td>2020</td>\n",
       "    </tr>\n",
       "    <tr>\n",
       "      <th>1</th>\n",
       "      <td>3BYIzNZ3t9lRQCACXSMLrT</td>\n",
       "      <td>Venetia</td>\n",
       "      <td>2020-03-06</td>\n",
       "      <td>6</td>\n",
       "      <td>3</td>\n",
       "      <td>2020</td>\n",
       "    </tr>\n",
       "    <tr>\n",
       "      <th>2</th>\n",
       "      <td>1g3J9W88hTG173ySZR6E9S</td>\n",
       "      <td>Tilidin Weg</td>\n",
       "      <td>2020-07-30</td>\n",
       "      <td>30</td>\n",
       "      <td>7</td>\n",
       "      <td>2020</td>\n",
       "    </tr>\n",
       "  </tbody>\n",
       "</table>\n",
       "</div>"
      ],
      "text/plain": [
       "                  song_id    song_name release_date  day  month  year\n",
       "0  2rRJrJEo19S2J82BDsQ3F7      Falling   2020-03-26   26      3  2020\n",
       "1  3BYIzNZ3t9lRQCACXSMLrT      Venetia   2020-03-06    6      3  2020\n",
       "2  1g3J9W88hTG173ySZR6E9S  Tilidin Weg   2020-07-30   30      7  2020"
      ]
     },
     "execution_count": 20,
     "metadata": {},
     "output_type": "execute_result"
    }
   ],
   "source": [
    "df['day'] = df['release_date'].dt.day  # dia\n",
    "df['month'] = df['release_date'].dt.month  # mês\n",
    "df['year'] = df['release_date'].dt.year  # ano\n",
    "df.head(3)"
   ]
  },
  {
   "cell_type": "markdown",
   "metadata": {},
   "source": [
    "Além dessas informações básicas, também podemos obter a semana do ano, o dia da semana e o trimestre:"
   ]
  },
  {
   "cell_type": "code",
   "execution_count": 21,
   "metadata": {},
   "outputs": [
    {
     "data": {
      "text/html": [
       "<div>\n",
       "<style scoped>\n",
       "    .dataframe tbody tr th:only-of-type {\n",
       "        vertical-align: middle;\n",
       "    }\n",
       "\n",
       "    .dataframe tbody tr th {\n",
       "        vertical-align: top;\n",
       "    }\n",
       "\n",
       "    .dataframe thead th {\n",
       "        text-align: right;\n",
       "    }\n",
       "</style>\n",
       "<table border=\"1\" class=\"dataframe\">\n",
       "  <thead>\n",
       "    <tr style=\"text-align: right;\">\n",
       "      <th></th>\n",
       "      <th>song_id</th>\n",
       "      <th>song_name</th>\n",
       "      <th>release_date</th>\n",
       "      <th>day</th>\n",
       "      <th>month</th>\n",
       "      <th>year</th>\n",
       "      <th>week</th>\n",
       "      <th>dayofweek_index</th>\n",
       "      <th>dayofweek_name</th>\n",
       "      <th>quarter</th>\n",
       "    </tr>\n",
       "  </thead>\n",
       "  <tbody>\n",
       "    <tr>\n",
       "      <th>0</th>\n",
       "      <td>2rRJrJEo19S2J82BDsQ3F7</td>\n",
       "      <td>Falling</td>\n",
       "      <td>2020-03-26</td>\n",
       "      <td>26</td>\n",
       "      <td>3</td>\n",
       "      <td>2020</td>\n",
       "      <td>13</td>\n",
       "      <td>3</td>\n",
       "      <td>Thursday</td>\n",
       "      <td>1</td>\n",
       "    </tr>\n",
       "    <tr>\n",
       "      <th>1</th>\n",
       "      <td>3BYIzNZ3t9lRQCACXSMLrT</td>\n",
       "      <td>Venetia</td>\n",
       "      <td>2020-03-06</td>\n",
       "      <td>6</td>\n",
       "      <td>3</td>\n",
       "      <td>2020</td>\n",
       "      <td>10</td>\n",
       "      <td>4</td>\n",
       "      <td>Friday</td>\n",
       "      <td>1</td>\n",
       "    </tr>\n",
       "    <tr>\n",
       "      <th>2</th>\n",
       "      <td>1g3J9W88hTG173ySZR6E9S</td>\n",
       "      <td>Tilidin Weg</td>\n",
       "      <td>2020-07-30</td>\n",
       "      <td>30</td>\n",
       "      <td>7</td>\n",
       "      <td>2020</td>\n",
       "      <td>31</td>\n",
       "      <td>3</td>\n",
       "      <td>Thursday</td>\n",
       "      <td>3</td>\n",
       "    </tr>\n",
       "  </tbody>\n",
       "</table>\n",
       "</div>"
      ],
      "text/plain": [
       "                  song_id    song_name release_date  day  month  year  week  \\\n",
       "0  2rRJrJEo19S2J82BDsQ3F7      Falling   2020-03-26   26      3  2020    13   \n",
       "1  3BYIzNZ3t9lRQCACXSMLrT      Venetia   2020-03-06    6      3  2020    10   \n",
       "2  1g3J9W88hTG173ySZR6E9S  Tilidin Weg   2020-07-30   30      7  2020    31   \n",
       "\n",
       "   dayofweek_index dayofweek_name  quarter  \n",
       "0                3       Thursday        1  \n",
       "1                4         Friday        1  \n",
       "2                3       Thursday        3  "
      ]
     },
     "execution_count": 21,
     "metadata": {},
     "output_type": "execute_result"
    }
   ],
   "source": [
    "df['week'] = df['release_date'].dt.week  # semana\n",
    "df['dayofweek_index'] = df['release_date'].dt.dayofweek  # dia do mês (índice)\n",
    "df['dayofweek_name'] = df['release_date'].dt.day_name() # dia do mês (nome)\n",
    "df['quarter'] = df['release_date'].dt.quarter # trimestre\n",
    "df.head(3)"
   ]
  },
  {
   "cell_type": "markdown",
   "metadata": {},
   "source": [
    "Existem ainda outras informações possíveis de se obter como, por exemplo, hora, minutos, segundos, etc. "
   ]
  },
  {
   "cell_type": "markdown",
   "metadata": {},
   "source": [
    "---\n",
    "## Dados desbalanceados\n",
    "\n",
    "A última técnica de <ins>**Transformação de dados**</ins> que vamos analisar é a o **Balanceamento de dados**.  \n",
    "\n",
    "Especificamente, dados balanceados são uma ocorrência comum em domínios reais, especialmente em modelos de classificação.\n",
    "\n",
    "Podemos dizer que os dados estão desbalanceados quando existe uma **desproporção** de observações de cada classe do nosso modelo. \n",
    "\n",
    "Tal desbalanceamento não gera um erro imediato ao construir e executar um modelo. No entanto, os resultados podem ser ilusórios, dado que, por exemplo, a maioria das técnicas de Aprendizado de Máquina funcionam melhor quando o número de amostras em cada classe está equilibrado. \n",
    "\n",
    "### EXEMPLO\n",
    "\n",
    "Para exemplificar, suponha que você tenha um modelo de classificação onde você precisa prever se uma música será uma colaboração ou não, com base em suas características acústicas. \n",
    "\n",
    "Resumindo, você teria um modelo de classificação binária onde cada música recebe o valor: \n",
    "\n",
    "* 1 se for uma colaboração, ou\n",
    "* 0, caso contrário. \n",
    "\n",
    "\n",
    "Para começar, vamos selecionar apenas as colunas referentes aos nossos preditores (i.e., as características acústicas das músicas) e a nossa variável *target*, i.e., `song_type`:"
   ]
  },
  {
   "cell_type": "code",
   "execution_count": 22,
   "metadata": {},
   "outputs": [
    {
     "data": {
      "text/html": [
       "<div>\n",
       "<style scoped>\n",
       "    .dataframe tbody tr th:only-of-type {\n",
       "        vertical-align: middle;\n",
       "    }\n",
       "\n",
       "    .dataframe tbody tr th {\n",
       "        vertical-align: top;\n",
       "    }\n",
       "\n",
       "    .dataframe thead th {\n",
       "        text-align: right;\n",
       "    }\n",
       "</style>\n",
       "<table border=\"1\" class=\"dataframe\">\n",
       "  <thead>\n",
       "    <tr style=\"text-align: right;\">\n",
       "      <th></th>\n",
       "      <th>song_type</th>\n",
       "      <th>duration_ms</th>\n",
       "      <th>key</th>\n",
       "      <th>mode</th>\n",
       "      <th>time_signature</th>\n",
       "      <th>...</th>\n",
       "      <th>liveness</th>\n",
       "      <th>loudness</th>\n",
       "      <th>speechiness</th>\n",
       "      <th>valence</th>\n",
       "      <th>tempo</th>\n",
       "    </tr>\n",
       "  </thead>\n",
       "  <tbody>\n",
       "    <tr>\n",
       "      <th>0</th>\n",
       "      <td>Solo</td>\n",
       "      <td>159381</td>\n",
       "      <td>10</td>\n",
       "      <td>0</td>\n",
       "      <td>4</td>\n",
       "      <td>...</td>\n",
       "      <td>0.0887</td>\n",
       "      <td>-8.756</td>\n",
       "      <td>0.0364</td>\n",
       "      <td>0.236</td>\n",
       "      <td>127.087</td>\n",
       "    </tr>\n",
       "    <tr>\n",
       "      <th>1</th>\n",
       "      <td>Solo</td>\n",
       "      <td>188800</td>\n",
       "      <td>9</td>\n",
       "      <td>1</td>\n",
       "      <td>4</td>\n",
       "      <td>...</td>\n",
       "      <td>0.1480</td>\n",
       "      <td>-4.139</td>\n",
       "      <td>0.1750</td>\n",
       "      <td>0.562</td>\n",
       "      <td>142.933</td>\n",
       "    </tr>\n",
       "    <tr>\n",
       "      <th>2</th>\n",
       "      <td>Solo</td>\n",
       "      <td>180950</td>\n",
       "      <td>10</td>\n",
       "      <td>0</td>\n",
       "      <td>4</td>\n",
       "      <td>...</td>\n",
       "      <td>0.0838</td>\n",
       "      <td>-8.544</td>\n",
       "      <td>0.2330</td>\n",
       "      <td>0.171</td>\n",
       "      <td>109.090</td>\n",
       "    </tr>\n",
       "  </tbody>\n",
       "</table>\n",
       "<p>3 rows × 14 columns</p>\n",
       "</div>"
      ],
      "text/plain": [
       "  song_type  duration_ms  key  mode  time_signature  ...  liveness  loudness  \\\n",
       "0      Solo       159381   10     0               4  ...    0.0887    -8.756   \n",
       "1      Solo       188800    9     1               4  ...    0.1480    -4.139   \n",
       "2      Solo       180950   10     0               4  ...    0.0838    -8.544   \n",
       "\n",
       "   speechiness  valence    tempo  \n",
       "0       0.0364    0.236  127.087  \n",
       "1       0.1750    0.562  142.933  \n",
       "2       0.2330    0.171  109.090  \n",
       "\n",
       "[3 rows x 14 columns]"
      ]
     },
     "execution_count": 22,
     "metadata": {},
     "output_type": "execute_result"
    }
   ],
   "source": [
    "cols = [\n",
    "    'duration_ms', 'key', 'mode', 'time_signature', 'acousticness',\n",
    "    'danceability', 'energy', 'instrumentalness', 'liveness', 'loudness',\n",
    "    'speechiness', 'valence', 'tempo', 'song_type'\n",
    "]\n",
    "\n",
    "# Selecionando algumas colunas da tabela Tracks\n",
    "data = pd.read_table('../dataset/spotify_hits_dataset_complete.tsv', encoding='utf-8', usecols=cols)\n",
    "data.head(3)"
   ]
  },
  {
   "cell_type": "markdown",
   "metadata": {},
   "source": [
    "Note que a variável *target* `song_type` está em formato categórico. Como vimos anteriormente, nós precisaríamos transformá-la em uma variável numérica caso esta variável fosse usada em algum algoritmo de Aprendizado de Máquina. \n",
    "\n",
    "No entanto, neste caso, tal variável corresponde ao que queremos prever (i.e., variável *target*). Portanto, não precisamos aplicar nenhum tratamento aqui."
   ]
  },
  {
   "cell_type": "markdown",
   "metadata": {},
   "source": [
    "Podemos, então, seguir para a verificação do balanceamento das classes (`Solo` e `Collaboration`). \n",
    "Para isso, usamos a função `value_counts()` que computa os valores únicos de cada categoria:"
   ]
  },
  {
   "cell_type": "code",
   "execution_count": 23,
   "metadata": {},
   "outputs": [
    {
     "data": {
      "text/html": [
       "<div>\n",
       "<style scoped>\n",
       "    .dataframe tbody tr th:only-of-type {\n",
       "        vertical-align: middle;\n",
       "    }\n",
       "\n",
       "    .dataframe tbody tr th {\n",
       "        vertical-align: top;\n",
       "    }\n",
       "\n",
       "    .dataframe thead th {\n",
       "        text-align: right;\n",
       "    }\n",
       "</style>\n",
       "<table border=\"1\" class=\"dataframe\">\n",
       "  <thead>\n",
       "    <tr style=\"text-align: right;\">\n",
       "      <th></th>\n",
       "      <th>counts</th>\n",
       "      <th>%</th>\n",
       "    </tr>\n",
       "  </thead>\n",
       "  <tbody>\n",
       "    <tr>\n",
       "      <th>Solo</th>\n",
       "      <td>752</td>\n",
       "      <td>59.0</td>\n",
       "    </tr>\n",
       "    <tr>\n",
       "      <th>Collaboration</th>\n",
       "      <td>532</td>\n",
       "      <td>41.0</td>\n",
       "    </tr>\n",
       "  </tbody>\n",
       "</table>\n",
       "</div>"
      ],
      "text/plain": [
       "               counts     %\n",
       "Solo              752  59.0\n",
       "Collaboration     532  41.0"
      ]
     },
     "execution_count": 23,
     "metadata": {},
     "output_type": "execute_result"
    }
   ],
   "source": [
    "c = data['song_type'].value_counts() # quantidade de cada classe\n",
    "p = data['song_type'].value_counts(normalize=True) # porcentagem de cada classe\n",
    "pd.concat([c,round(p*100)], axis=1, keys=['counts', '%'])"
   ]
  },
  {
   "cell_type": "markdown",
   "metadata": {},
   "source": [
    "Podemos observar que cerca de 41% das observações (i.e., 532 músicas) são colaborações. \n",
    "\n",
    "Portanto, se tivéssemos que prever sempre a classe 0, músicas `Solo`, obteríamos uma precisão de 59%.\n",
    "\n",
    "A seguir, iremos testar esse cenário criando um modelo linear de regressão logística, usando o módulo `sklearn.linear_model` e a classe `LogisticRegression`. Nós seguimos os seguintes passos:\n",
    "\n",
    "1. Separamos o conjunto de predidores (X) da nossa variável *target* (y);\n",
    "2. Treinamos o modelo de regressão logística com os dois conjuntos X e y;\n",
    "3. Realizamos a predição utilizando o mesmo conjunto de preditores X; e, por fim, \n",
    "4. Imprimimos os resultados."
   ]
  },
  {
   "cell_type": "code",
   "execution_count": 24,
   "metadata": {},
   "outputs": [
    {
     "name": "stdout",
     "output_type": "stream",
     "text": [
      "59%\n",
      "['Solo']\n"
     ]
    }
   ],
   "source": [
    "# primeiro passo\n",
    "y = data.song_type # variável target\n",
    "X = data.drop('song_type', axis=1) # conjunto de preditores\n",
    "\n",
    "# segundo passo\n",
    "logr = LogisticRegression().fit(X, y) # treinando o modelo de regressão logística\n",
    "\n",
    "# terceiro passo\n",
    "pred_y_0 = logr.predict(X)\n",
    "accuracy = round(accuracy_score(pred_y_0, y)*100)\n",
    "\n",
    "# imprimindo os resultados\n",
    "print(f'{accuracy}%') # acurácia do modelo\n",
    "print(np.unique(pred_y_0)) # classes previstas pelo modelo"
   ]
  },
  {
   "cell_type": "markdown",
   "metadata": {},
   "source": [
    "Como podemos ver pelo resultado, nosso modelo apresentou uma precisão geral de 59%; ou seja, como consequência dos dados desbalanceados, o modelo prevê apenas uma classe. \n",
    "\n",
    "Em outras palavras, ele **ignora** a classe minoritária (i.e., `Collaborations`) em favor da classe majoritária (i.e., `Solo`). \n",
    "\n",
    "A seguir, aplicamos a técnica de *Downsampling*, que remove aleatoriamente observações da classe majoritária para evitar que seu sinal domine o algoritmo de aprendizagem. Para isso, seguimos alguns passos:\n",
    "\n",
    "1. Separamos as observações de cada classe em diferentes *DataFrames*;\n",
    "2. Realizamos uma amostragem da classe majoritária sem substituição para corresponder ao número total da classe minoritária; e, por fim,  \n",
    "3. Concatenamos o *DataFrame* da classe minoritária com o *DataFrame* resultante."
   ]
  },
  {
   "cell_type": "code",
   "execution_count": 25,
   "metadata": {},
   "outputs": [
    {
     "data": {
      "text/plain": [
       "Solo             532\n",
       "Collaboration    532\n",
       "Name: song_type, dtype: int64"
      ]
     },
     "execution_count": 25,
     "metadata": {},
     "output_type": "execute_result"
    }
   ],
   "source": [
    "# primeiro passo\n",
    "df_majority = data[data.song_type == 'Solo'] # classe majoritária\n",
    "df_minority = data[data.song_type == 'Collaboration'] # classe minoritária\n",
    "\n",
    "# segundo passo\n",
    "df_majority_downsampled = resample(\n",
    "    df_majority, replace=False,  # amostra sem substituição\n",
    "    n_samples=532,  # para corresponder à classe minoritária\n",
    "    random_state=123)  # garantindo reprodutibilidade\n",
    "\n",
    "# terceiro passo\n",
    "df_downsampled = pd.concat([df_majority_downsampled, df_minority])\n",
    "df_downsampled.song_type.value_counts()"
   ]
  },
  {
   "cell_type": "code",
   "execution_count": 26,
   "metadata": {},
   "outputs": [
    {
     "name": "stdout",
     "output_type": "stream",
     "text": [
      "1064 1284\n"
     ]
    }
   ],
   "source": [
    "print(df_downsampled.shape[0], data.shape[0]) # comparando o tamanho dos DataFrames"
   ]
  },
  {
   "cell_type": "markdown",
   "metadata": {},
   "source": [
    "Note que, apesar do novo *DataFrame* ter menos observações do que o original, a proporção das duas classes está **balanceada**. \n",
    "\n",
    "Agora, podemos treinar novamente o modelo de regressão logística! "
   ]
  },
  {
   "cell_type": "code",
   "execution_count": 27,
   "metadata": {},
   "outputs": [
    {
     "name": "stdout",
     "output_type": "stream",
     "text": [
      "49%\n",
      "['Collaboration' 'Solo']\n"
     ]
    }
   ],
   "source": [
    "# primeiro passo\n",
    "y = df_downsampled.song_type # variável target\n",
    "X = df_downsampled.drop('song_type', axis=1) # conjunto de preditores\n",
    "\n",
    "# segundo passo\n",
    "logr = LogisticRegression().fit(X, y) # treinando o modelo de regressão logística\n",
    "\n",
    "# terceiro passo\n",
    "pred_y_1 = logr.predict(X)\n",
    "accuracy = round(accuracy_score(pred_y_1, y)*100)\n",
    "\n",
    "# imprimindo os resultados\n",
    "print(f'{accuracy}%') # acurácia do modelo\n",
    "print(np.unique(pred_y_1)) # classes previstas pelo modelo"
   ]
  },
  {
   "cell_type": "markdown",
   "metadata": {},
   "source": [
    "Obeserve que, após o balanceamento, o modelo consegue prever as duas classes.\n",
    "\n",
    "Apesar de apresentar uma menor precisão (50%), o modelo apresenta uma métrica de avaliação mais significativa. "
   ]
  },
  {
   "cell_type": "markdown",
   "metadata": {},
   "source": [
    "## Conclusão\n",
    "\n",
    "Este notebook apresentou como fazer a transformação de dados de diferentes formatos.\n",
    "\n",
    "O próximo notebook ([4.3.Reducao.ipynb](4.3.Reducao.ipynb)) apresenta como aplicar técnicas de redução de dados para auxiliar a análise de dados com alta dimensionalidade."
   ]
  }
 ],
 "metadata": {
  "julynter-results": {
   "filteredId": [],
   "filteredIndividual": [],
   "filteredRestart": [],
   "filteredType": [],
   "hash": "5262264cd9b5bca8895a3c3c49a809815b06710a",
   "visible": []
  },
  "kernelspec": {
   "display_name": "Python 3",
   "language": "python",
   "name": "python3"
  },
  "language_info": {
   "codemirror_mode": {
    "name": "ipython",
    "version": 3
   },
   "file_extension": ".py",
   "mimetype": "text/x-python",
   "name": "python",
   "nbconvert_exporter": "python",
   "pygments_lexer": "ipython3",
   "version": "3.8.2"
  },
  "latex_envs": {
   "LaTeX_envs_menu_present": true,
   "autoclose": true,
   "autocomplete": true,
   "bibliofile": "biblio.bib",
   "cite_by": "apalike",
   "current_citInitial": 1,
   "eqLabelWithNumbers": true,
   "eqNumInitial": 1,
   "hotkeys": {
    "equation": "Ctrl-E",
    "itemize": "Ctrl-I"
   },
   "labels_anchors": false,
   "latex_user_defs": false,
   "report_style_numbering": false,
   "user_envs_cfg": false
  },
  "varInspector": {
   "cols": {
    "lenName": 16,
    "lenType": 16,
    "lenVar": 40
   },
   "kernels_config": {
    "python": {
     "delete_cmd_postfix": "",
     "delete_cmd_prefix": "del ",
     "library": "var_list.py",
     "varRefreshCmd": "print(var_dic_list())"
    },
    "r": {
     "delete_cmd_postfix": ") ",
     "delete_cmd_prefix": "rm(",
     "library": "var_list.r",
     "varRefreshCmd": "cat(var_dic_list()) "
    }
   },
   "types_to_exclude": [
    "module",
    "function",
    "builtin_function_or_method",
    "instance",
    "_Feature"
   ],
   "window_display": false
  }
 },
 "nbformat": 4,
 "nbformat_minor": 4
}
