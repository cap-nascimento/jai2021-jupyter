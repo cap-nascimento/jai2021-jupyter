{
 "cells": [
  {
   "cell_type": "code",
   "execution_count": 1,
   "metadata": {},
   "outputs": [],
   "source": [
    "# Importando o pacote necessário\n",
    "import pandas as pd\n",
    "import numpy as np\n",
    "import matplotlib.pyplot as plt\n",
    "\n",
    "from sklearn.preprocessing import StandardScaler\n",
    "from sklearn.decomposition import PCA"
   ]
  },
  {
   "cell_type": "markdown",
   "metadata": {},
   "source": [
    "\n",
    "# Redução de Dados\n",
    "---\n",
    "\n",
    "Para finalizar a seção de *Preparação de dados*, nós vamos explorar a <ins>**Redução de dados**</ins>, uma etapa fundamental para lidar com grandes volumes de dados.\n",
    "\n",
    "De fato, gerenciar e processar dados requer tempo, esforço e recursos quando estamos lidando com muitos dados. \n",
    "\n",
    "Para enfrentar tais desafios, técnicas de <ins>**Redução de dados**</ins> são aplicadas, auxiliando na análise de dados com alta dimensionalidade. \n",
    "\n",
    "Embora **essenciais**, essas técnicas geralmente são **complexas**, pois exigem amplo conhecimento para a escolha adequada de qual técnica utilizar. \n",
    "\n",
    "Assim, para simplificar, essa etapa irá apresentar apenas uma técnica muito utilizada de *Redução de dimensionalidade*."
   ]
  },
  {
   "cell_type": "markdown",
   "metadata": {},
   "source": [
    "## Análise de Componentes Principais (PCA)\n",
    "\n",
    "O PCA, ou Análise de Componentes Principais, é um dos métodos mais simples e, de longe, o mais comum para a *Redução da dimensionalidade*. \n",
    "\n",
    "Especificamente, o PCA é um algoritmo não supervisionado que cria **combinações lineares** dos atributos originais, classificadas em ordem de sua variância explicada. \n",
    "\n",
    "https://jakevdp.github.io/PythonDataScienceHandbook/05.09-principal-component-analysis.html\n",
    "http://www.billconnelly.net/?p=697\n",
    "\n",
    "Normalmente, você coletou tantos dados que nem sabe por onde começar, então realiza o PCA para reduzir os dados a duas dimensões e, em seguida, pode plotá-los e procurar a estrutura.\n",
    "\n",
    "### EXEMPLO\n",
    "\n",
    "O próximo exemplo utiliza a biblioteca *scikit-learn* para importar o módulo `sklearn.decomposition` e a classe PCA para extrair os dois componentes principais `(n_components = 2)` do nosso conjunto de dados."
   ]
  },
  {
   "cell_type": "code",
   "execution_count": 6,
   "metadata": {},
   "outputs": [
    {
     "data": {
      "text/html": [
       "<div>\n",
       "<style scoped>\n",
       "    .dataframe tbody tr th:only-of-type {\n",
       "        vertical-align: middle;\n",
       "    }\n",
       "\n",
       "    .dataframe tbody tr th {\n",
       "        vertical-align: top;\n",
       "    }\n",
       "\n",
       "    .dataframe thead th {\n",
       "        text-align: right;\n",
       "    }\n",
       "</style>\n",
       "<table border=\"1\" class=\"dataframe\">\n",
       "  <thead>\n",
       "    <tr style=\"text-align: right;\">\n",
       "      <th></th>\n",
       "      <th>song_type</th>\n",
       "      <th>duration_ms</th>\n",
       "      <th>key</th>\n",
       "      <th>mode</th>\n",
       "      <th>time_signature</th>\n",
       "      <th>acousticness</th>\n",
       "      <th>danceability</th>\n",
       "      <th>energy</th>\n",
       "      <th>instrumentalness</th>\n",
       "      <th>liveness</th>\n",
       "      <th>loudness</th>\n",
       "      <th>speechiness</th>\n",
       "      <th>valence</th>\n",
       "      <th>tempo</th>\n",
       "    </tr>\n",
       "  </thead>\n",
       "  <tbody>\n",
       "    <tr>\n",
       "      <th>0</th>\n",
       "      <td>Solo</td>\n",
       "      <td>159381</td>\n",
       "      <td>10</td>\n",
       "      <td>0</td>\n",
       "      <td>4</td>\n",
       "      <td>0.123</td>\n",
       "      <td>0.784</td>\n",
       "      <td>0.430</td>\n",
       "      <td>0.000</td>\n",
       "      <td>0.0887</td>\n",
       "      <td>-8.756</td>\n",
       "      <td>0.0364</td>\n",
       "      <td>0.236</td>\n",
       "      <td>127.087</td>\n",
       "    </tr>\n",
       "    <tr>\n",
       "      <th>1</th>\n",
       "      <td>Solo</td>\n",
       "      <td>188800</td>\n",
       "      <td>9</td>\n",
       "      <td>1</td>\n",
       "      <td>4</td>\n",
       "      <td>0.162</td>\n",
       "      <td>0.775</td>\n",
       "      <td>0.757</td>\n",
       "      <td>0.000</td>\n",
       "      <td>0.1480</td>\n",
       "      <td>-4.139</td>\n",
       "      <td>0.1750</td>\n",
       "      <td>0.562</td>\n",
       "      <td>142.933</td>\n",
       "    </tr>\n",
       "    <tr>\n",
       "      <th>2</th>\n",
       "      <td>Solo</td>\n",
       "      <td>180950</td>\n",
       "      <td>10</td>\n",
       "      <td>0</td>\n",
       "      <td>4</td>\n",
       "      <td>0.113</td>\n",
       "      <td>0.882</td>\n",
       "      <td>0.530</td>\n",
       "      <td>0.479</td>\n",
       "      <td>0.0838</td>\n",
       "      <td>-8.544</td>\n",
       "      <td>0.2330</td>\n",
       "      <td>0.171</td>\n",
       "      <td>109.090</td>\n",
       "    </tr>\n",
       "  </tbody>\n",
       "</table>\n",
       "</div>"
      ],
      "text/plain": [
       "  song_type  duration_ms  key  mode  time_signature  acousticness  \\\n",
       "0      Solo       159381   10     0               4         0.123   \n",
       "1      Solo       188800    9     1               4         0.162   \n",
       "2      Solo       180950   10     0               4         0.113   \n",
       "\n",
       "   danceability  energy  instrumentalness  liveness  loudness  speechiness  \\\n",
       "0         0.784   0.430             0.000    0.0887    -8.756       0.0364   \n",
       "1         0.775   0.757             0.000    0.1480    -4.139       0.1750   \n",
       "2         0.882   0.530             0.479    0.0838    -8.544       0.2330   \n",
       "\n",
       "   valence    tempo  \n",
       "0    0.236  127.087  \n",
       "1    0.562  142.933  \n",
       "2    0.171  109.090  "
      ]
     },
     "execution_count": 6,
     "metadata": {},
     "output_type": "execute_result"
    }
   ],
   "source": [
    "cols = [\n",
    "    'duration_ms', 'key', 'mode', 'time_signature', 'acousticness',\n",
    "    'danceability', 'energy', 'instrumentalness', 'liveness', 'loudness',\n",
    "    'speechiness', 'valence', 'tempo', 'song_type'\n",
    "]\n",
    "\n",
    "# Selecionando algumas colunas da tabela Tracks\n",
    "data = pd.read_table('../dataset/spotify_hits_dataset_complete.tsv', encoding='utf-8', usecols=cols)\n",
    "data.head(3)"
   ]
  },
  {
   "cell_type": "code",
   "execution_count": 3,
   "metadata": {
    "cell_style": "center",
    "hide_input": false
   },
   "outputs": [
    {
     "data": {
      "text/html": [
       "<div>\n",
       "<style scoped>\n",
       "    .dataframe tbody tr th:only-of-type {\n",
       "        vertical-align: middle;\n",
       "    }\n",
       "\n",
       "    .dataframe tbody tr th {\n",
       "        vertical-align: top;\n",
       "    }\n",
       "\n",
       "    .dataframe thead th {\n",
       "        text-align: right;\n",
       "    }\n",
       "</style>\n",
       "<table border=\"1\" class=\"dataframe\">\n",
       "  <thead>\n",
       "    <tr style=\"text-align: right;\">\n",
       "      <th></th>\n",
       "      <th>PC1</th>\n",
       "      <th>PC2</th>\n",
       "    </tr>\n",
       "  </thead>\n",
       "  <tbody>\n",
       "    <tr>\n",
       "      <th>1279</th>\n",
       "      <td>-2.048672</td>\n",
       "      <td>-1.284035</td>\n",
       "    </tr>\n",
       "    <tr>\n",
       "      <th>1280</th>\n",
       "      <td>4.875108</td>\n",
       "      <td>1.751937</td>\n",
       "    </tr>\n",
       "    <tr>\n",
       "      <th>1281</th>\n",
       "      <td>0.104736</td>\n",
       "      <td>-0.615856</td>\n",
       "    </tr>\n",
       "    <tr>\n",
       "      <th>1282</th>\n",
       "      <td>-0.672320</td>\n",
       "      <td>-0.010807</td>\n",
       "    </tr>\n",
       "    <tr>\n",
       "      <th>1283</th>\n",
       "      <td>-1.882789</td>\n",
       "      <td>0.678059</td>\n",
       "    </tr>\n",
       "  </tbody>\n",
       "</table>\n",
       "</div>"
      ],
      "text/plain": [
       "           PC1       PC2\n",
       "1279 -2.048672 -1.284035\n",
       "1280  4.875108  1.751937\n",
       "1281  0.104736 -0.615856\n",
       "1282 -0.672320 -0.010807\n",
       "1283 -1.882789  0.678059"
      ]
     },
     "execution_count": 3,
     "metadata": {},
     "output_type": "execute_result"
    }
   ],
   "source": [
    "# Separando preditores (X) da variável target (y)\n",
    "y = data.song_type # variável target\n",
    "X = data.drop('song_type', axis=1) # conjunto de preditores\n",
    "\n",
    "# Padronizando os dados de treino\n",
    "X = StandardScaler().fit_transform(X)\n",
    "\n",
    "# Calculando os dois componentes principais\n",
    "pca_resultado = PCA(n_components=2)\n",
    "df_pcs = pd.DataFrame(pca_resultado.fit_transform(X), columns=['PC1', 'PC2'])\n",
    "df_pcs.tail()"
   ]
  },
  {
   "cell_type": "markdown",
   "metadata": {},
   "source": [
    "O *DataFrame* resultante apresenta os valores dos dois componentes principais para todas as 1284 amostras. O conjunto de dados foi padronizado, utilizando a classe `StandardScaler`; do contrário, os atributos em maior escala dominariam os novos componentes principais. \n",
    "\n",
    "Após a extração dos componentes principais, o método fornece a quantidade de informações ou variação que cada componente principal mantém após projetar os dados em um subespaço de dimensão inferior. O primeiro componente principal detém 20,5% das informações, enquanto o segundo apenas 10,8% das informações. Ou seja, ao reduzir a dimensionalidade do conjunto de dados para duas dimensões, 79,5% das informações originais foram perdidas, conforme mostrado a seguir."
   ]
  },
  {
   "cell_type": "code",
   "execution_count": 4,
   "metadata": {},
   "outputs": [
    {
     "name": "stdout",
     "output_type": "stream",
     "text": [
      "Variação explicada por componentes principais: [0.20466025 0.10812237]\n"
     ]
    }
   ],
   "source": [
    "print('Variação explicada por componentes principais: {}'.format(\n",
    "    pca_resultado.explained_variance_ratio_))"
   ]
  },
  {
   "cell_type": "markdown",
   "metadata": {},
   "source": [
    "## Conclusão\n",
    "\n",
    "Este notebook apresentou como reduzir a dimensionalidade dos dados.\n",
    "\n",
    "Este foi o fim desta parte do tutorial sobre prepação de dados. A próxima parte ([5.Ciencia.de.Dados](../5.Ciencia.de.Dados/5.1.Analise.Exploratoria.ipynb)) apresentará como fazer analise exploratória dos dados como parte da ciência de dados.\n",
    "\n"
   ]
  }
 ],
 "metadata": {
  "julynter-results": {
   "filteredId": [],
   "filteredIndividual": [],
   "filteredRestart": [],
   "filteredType": [],
   "hash": "42e8b7591aa2173a7b72b5ae2fb6718ece06becc",
   "visible": []
  },
  "kernelspec": {
   "display_name": "Python 3",
   "language": "python",
   "name": "python3"
  },
  "language_info": {
   "codemirror_mode": {
    "name": "ipython",
    "version": 3
   },
   "file_extension": ".py",
   "mimetype": "text/x-python",
   "name": "python",
   "nbconvert_exporter": "python",
   "pygments_lexer": "ipython3",
   "version": "3.8.2"
  },
  "latex_envs": {
   "LaTeX_envs_menu_present": true,
   "autoclose": true,
   "autocomplete": true,
   "bibliofile": "biblio.bib",
   "cite_by": "apalike",
   "current_citInitial": 1,
   "eqLabelWithNumbers": true,
   "eqNumInitial": 1,
   "hotkeys": {
    "equation": "Ctrl-E",
    "itemize": "Ctrl-I"
   },
   "labels_anchors": false,
   "latex_user_defs": false,
   "report_style_numbering": false,
   "user_envs_cfg": false
  },
  "varInspector": {
   "cols": {
    "lenName": 16,
    "lenType": 16,
    "lenVar": 40
   },
   "kernels_config": {
    "python": {
     "delete_cmd_postfix": "",
     "delete_cmd_prefix": "del ",
     "library": "var_list.py",
     "varRefreshCmd": "print(var_dic_list())"
    },
    "r": {
     "delete_cmd_postfix": ") ",
     "delete_cmd_prefix": "rm(",
     "library": "var_list.r",
     "varRefreshCmd": "cat(var_dic_list()) "
    }
   },
   "types_to_exclude": [
    "module",
    "function",
    "builtin_function_or_method",
    "instance",
    "_Feature"
   ],
   "window_display": false
  }
 },
 "nbformat": 4,
 "nbformat_minor": 4
}
