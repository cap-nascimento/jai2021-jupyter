{
 "cells": [
  {
   "cell_type": "code",
   "execution_count": null,
   "metadata": {
    "ExecuteTime": {
     "end_time": "2021-07-14T15:59:13.850892Z",
     "start_time": "2021-07-14T15:59:12.561858Z"
    }
   },
   "outputs": [],
   "source": [
    "# Importando os pacotes necessários\n",
    "import pandas as pd"
   ]
  },
  {
   "cell_type": "code",
   "execution_count": null,
   "metadata": {
    "ExecuteTime": {
     "end_time": "2021-07-14T15:59:13.879858Z",
     "start_time": "2021-07-14T15:59:13.860881Z"
    }
   },
   "outputs": [],
   "source": [
    "# Comandos auxiliares\n",
    "from IPython.core.display import display, HTML\n",
    "pd.set_option('display.max_columns', 6)\n",
    "\n",
    "def display_side_by_side(dfs: list, captions: list):\n",
    "    \"\"\"Display tables side by side to save vertical space\n",
    "    Input:\n",
    "        dfs: list of pandas.DataFrame\n",
    "        captions: list of table captions\n",
    "    \"\"\"\n",
    "    output = \"\"\n",
    "    combined = dict(zip(captions, dfs))\n",
    "    for caption, df in combined.items():\n",
    "        output += df.style.set_table_attributes(\n",
    "            \"style='display:inline'\").set_caption(caption)._repr_html_()\n",
    "        output += \"\\xa0\\xa0\\xa0\"\n",
    "    display(HTML(output))"
   ]
  },
  {
   "cell_type": "markdown",
   "metadata": {
    "ExecuteTime": {
     "end_time": "2021-07-13T21:13:41.368079Z",
     "start_time": "2021-07-13T21:13:41.352102Z"
    }
   },
   "source": [
    "# Integração de Dados\n",
    "\n",
    "---\n",
    "\n",
    "Até agora, nós realizamos a **limpeza** do nosso conjunto de dados, garantindo a remoção de possíveis impurezas. \n",
    "\n",
    "Agora, a próxima etapa da *Preparação* é **combinar dados** de diferentes fontes para obter uma estrutura unificada com informações mais significativas. \n",
    "\n",
    "De fato, é bastante comum em aplicações da vida real a necessidade de extrair informação a partir de dados de diferentes fontes. \n",
    "\n",
    "Por exemplo, imagine que você precise analisar a popularidade de uma lista de músicas. No entanto, você possui apenas uma tabela separada listando informações básicas de todas as músicas presentes nos *Charts* do Spotify, incluindo o nome e identificador das músicas e de seus artistas. \n",
    "\n",
    "Portanto, para obter as informações de popularidade musical, você decide coletar informações extras dos *Charts*, onde você obtém uma tabela contendo o *score* da popularidade e a data de lançamento das músicas. \n",
    "\n",
    "Porém, nesta tabela, a única informação de identificação da música é o seu **id**. \n",
    "Consequentemente, apesar de ter as informações que você precisava, sem o nome seria difícil dizer qual música você está analisando. \n",
    "\n",
    "> **O que fazer então?** 🤔\n",
    "\n",
    "Se quisermos fazer uma análise completa sobre a popularidade das músicas coletadas, precisamos reunir os dados das duas tabelas em um único lugar. \n",
    "\n",
    "➡️ **Esse processo é denominado <ins>Integração de dados</ins>**"
   ]
  },
  {
   "cell_type": "markdown",
   "metadata": {},
   "source": [
    "Nesta seção, nós iremos explorar um recurso essencial oferecido pelo *pandas* para realizar **integração de dados**: a função `merge()`."
   ]
  },
  {
   "cell_type": "markdown",
   "metadata": {},
   "source": [
    "## `merge()`\n",
    "---\n",
    "\n",
    "Muito utilizada para fazer operações de junção comumente aplicadas em banco de dados.\n",
    "Especificamente, quando você deseja combinar objetos de dados com base em uma ou mais **colunas-chave** de maneira semelhante a um banco de dados relacional, `merge()` é a ferramenta ideal. "
   ]
  },
  {
   "cell_type": "markdown",
   "metadata": {},
   "source": [
    "Essa função implementa vários tipos de associações: \n",
    "\n",
    "- um-para-um (1:1)\n",
    "- um-para-muitos (1:N) \n",
    "- muitos-para-muitos (N:N)\n",
    "\n",
    "O tipo de associação realizada depende **essencialmente** da organização dos conjuntos de dados de entrada. \n",
    "\n",
    "Aqui, nós mostraremos exemplos simples destes três tipos de associação e discutiremos opções detalhadas mais adiante."
   ]
  },
  {
   "cell_type": "markdown",
   "metadata": {},
   "source": [
    "### EXEMPLO\n",
    "\n",
    "Inicialmente, para exemplificar, nós iremos **integrar** informações sobre as músicas do nosso conjunto de dados a partir de diferentes tabelas. \n",
    "\n",
    "Para isso, nós dividimos a tabela `Tracks` em dois *DataFrames*, `df1` e `df2`.  \n",
    "\n",
    "### `df1`\n",
    "- identificador da música: `song_id`\n",
    "- título da música: `song_name`\n",
    "- identificador do(s) artista(s): `artist_id`\n",
    "- nome do(s) artista(s): `artist_name`\n",
    "\n",
    "### `df2`\n",
    "- identificador da música: `song_id`\n",
    "- popularidade da música: `popularity`\n",
    "- data de lançamento: `release_date`\n",
    "\n",
    "**ATENÇÃO** ⚠️\n",
    "> Ambas as tabelas possuem a coluna `song_id` para identificar cada uma das músicas."
   ]
  },
  {
   "cell_type": "code",
   "execution_count": null,
   "metadata": {
    "ExecuteTime": {
     "end_time": "2021-07-14T15:59:15.358858Z",
     "start_time": "2021-07-14T15:59:13.890858Z"
    }
   },
   "outputs": [],
   "source": [
    "# Lendo os dados e criando os dois DataFrames\n",
    "df1 = pd.read_table('../dataset/spotify_hits_dataset_complete.tsv',\n",
    "    usecols=['song_id', 'song_name', 'artist_id', 'artist_name'], # seleciona campos específicos\n",
    "    encoding='utf-8')\n",
    "df2 = pd.read_table('../dataset/spotify_hits_dataset_complete.tsv',\n",
    "    usecols=['song_id', 'popularity', 'release_date'], # seleciona campos específicos\n",
    "    encoding='utf-8')\n",
    "\n",
    "display_side_by_side([df1.head(3), df2.head(3)], ['df1', 'df2']) # imprime as 3 primeiras linhas"
   ]
  },
  {
   "cell_type": "markdown",
   "metadata": {},
   "source": [
    "### Um-para-um (1:1) \n",
    "\n",
    "A associação **um-para-um** é talvez o tipo mais simples de fusão, muito semelhante à concatenação de colunas. \n",
    "\n",
    "Neste tipo de relacionamento, cada registro na primeira tabela pode ter **somente um** registro correspondente na segunda tabela, e cada registro na segunda tabela pode ter **somente um** registro correspondente na primeira tabela (como mostrado na figura a seguir).\n"
   ]
  },
  {
   "cell_type": "markdown",
   "metadata": {},
   "source": [
    "<img src=\"figure1.png\" alt=\"Junção 1:1\" style=\"width: 500px;\" class=\"center\"/>"
   ]
  },
  {
   "cell_type": "markdown",
   "metadata": {},
   "source": [
    "Neste exemplo, nós unimos as tabelas `df1` e `df2` para reunir informações de popularidade das músicas do Spotify usando a função `merge()`.\n",
    "\n",
    "Ao usar `merge()`, você fornecerá dois argumentos obrigatórios:\n",
    "\n",
    "* `left`: *DataFrame* esquerdo\n",
    "* `right`: *DataFrame* direito\n",
    "\n",
    "No nosso caso, nós passamos as tabelas `df1`e `df2`.\n",
    "\n",
    "Depois disso, você pode fornecer vários argumentos opcionais para definir como as tabelas serão mescladas. \n",
    "Neste primeiro exemplo, o único parâmetro que precisamos setar é:\n",
    "\n",
    "* `on`: informa quais colunas ou índices (i.e., **colunas-chave** ou **índices-chave**) você deseja unir\n",
    "    \n",
    "No nosso caso, passaremos a coluna `song_id`, que está presente em ambas as tabelas, como vimos anteriormente."
   ]
  },
  {
   "cell_type": "code",
   "execution_count": null,
   "metadata": {
    "ExecuteTime": {
     "end_time": "2021-07-14T15:59:15.422864Z",
     "start_time": "2021-07-14T15:59:15.364860Z"
    }
   },
   "outputs": [],
   "source": [
    "# Associação um-para-um\n",
    "df3 = pd.merge(left=df1, right=df2, on='song_id')\n",
    "df3.head(3)"
   ]
  },
  {
   "cell_type": "markdown",
   "metadata": {},
   "source": [
    "<img src=\"figure1_result.png\" alt=\"Junção 1:1\" style=\"width: 700px;\" class=\"center\"/>"
   ]
  },
  {
   "cell_type": "markdown",
   "metadata": {},
   "source": [
    "O resultado da junção é um único *DataFrame* que combina as informações das duas entradas, baseado nos valores comuns presentes na coluna `song_id` de ambos os *DataFrames* originais."
   ]
  },
  {
   "cell_type": "markdown",
   "metadata": {},
   "source": [
    "### OBSERVAÇÕES"
   ]
  },
  {
   "cell_type": "markdown",
   "metadata": {},
   "source": [
    "* Lembre-se que se você usar o parâmetro `on`, a coluna ou índice especificado deve estar presente nas duas tabelas.\n",
    "\n",
    "* Se você não especificar o parâmetro `on`, as colunas que compartilham o mesmo nome nos dois *DataFrames* serão usadas como **colunas-chave** na junção. \n",
    "\n",
    "> **Vamos testar?** 😃"
   ]
  },
  {
   "cell_type": "code",
   "execution_count": null,
   "metadata": {},
   "outputs": [],
   "source": [
    "# Associação um-para-um\n",
    "df3 = pd.merge(left=df1, right=df2) # SEM ESPECIFICAR A COLUNA-CHAVE\n",
    "df3.head(3)"
   ]
  },
  {
   "cell_type": "markdown",
   "metadata": {},
   "source": [
    "### Um-para-muitos (1:N)\n",
    "\n",
    "A associação **um-para-muitos** é usada quando uma das duas **colunas-chave** contém mais de uma entrada por registro (como mostrado na figura a seguir)."
   ]
  },
  {
   "cell_type": "markdown",
   "metadata": {},
   "source": [
    "<img src=\"figure2.png\" alt=\"Junção 1:N\" style=\"width: 500px;\" class=\"center\"/>"
   ]
  },
  {
   "cell_type": "markdown",
   "metadata": {
    "ExecuteTime": {
     "end_time": "2021-07-14T15:54:02.091594Z",
     "start_time": "2021-07-14T15:54:02.068600Z"
    }
   },
   "source": [
    "Para exemplificar, vamos realizar a junção da tabela resultante do exemplo anterior (i.e., *DataFrame* `df3`) com os sucessos do Spotify na tabela `Charts` (i.e., *DataFrame* `df4`). "
   ]
  },
  {
   "cell_type": "code",
   "execution_count": null,
   "metadata": {
    "ExecuteTime": {
     "end_time": "2021-07-14T15:59:15.555876Z",
     "start_time": "2021-07-14T15:59:15.427859Z"
    }
   },
   "outputs": [],
   "source": [
    "# Lendo os dados\n",
    "df4 = pd.read_table('../dataset/spotify_charts_complete.tsv',\n",
    "    usecols=['chart_week', 'song_id', 'position'], # seleciona campos específicos\n",
    "    encoding='utf-8')\n",
    "df4 = df4.sort_values(by=['song_id']) # ordena o DataFrame pelo id da música\n",
    "\n",
    "display_side_by_side([df3.head(3), df4.head(3)], ['df3', 'df4']) # imprime as 3 primeiras linhas"
   ]
  },
  {
   "cell_type": "markdown",
   "metadata": {},
   "source": [
    "⚠️ **Note que, nesta tabela, uma música pode aparecer em qualquer semana dos *Charts* do Spotify.** Ou seja, elas podem repetir!\n",
    "\n",
    "Portanto, para **qualquer** música representada na tabela `df3`, pode haver **mais de uma** ocorrência na tabela `df4`. \n",
    "\n",
    "Neste caso, a associação entre a tabela `df3` e a tabela `df4` é uma relação **um-para-muitos**."
   ]
  },
  {
   "cell_type": "markdown",
   "metadata": {},
   "source": [
    "> **Vamos integrá-las?**\n",
    "\n",
    "Assim como no exemplo anterior, nós passaremos os dois *DataFrames* para a função `merge()`, bem como a **coluna-chave** `song_id` presente em ambas as tabelas:"
   ]
  },
  {
   "cell_type": "code",
   "execution_count": null,
   "metadata": {
    "ExecuteTime": {
     "end_time": "2021-07-14T15:59:15.664856Z",
     "start_time": "2021-07-14T15:59:15.567902Z"
    }
   },
   "outputs": [],
   "source": [
    "# Associação um-para-muitos de dois DataFrames\n",
    "df5 = pd.merge(left=df3, right=df4, on='song_id') \n",
    "df5.head(3)"
   ]
  },
  {
   "cell_type": "markdown",
   "metadata": {},
   "source": [
    "<img src=\"figure2_result.png\" alt=\"Junção 1:N\" style=\"width: 800px;\" class=\"center\"/>"
   ]
  },
  {
   "cell_type": "markdown",
   "metadata": {},
   "source": [
    "O resultado da junção é um único *DataFrame* que combina as informações das duas entradas; **porém**, ao contrário do exemplo anterior, as informações originais (i.e., do *DataFrame* `df3`) se repetem conforme exigido pelas entradas do *DataFrame* `df4`."
   ]
  },
  {
   "cell_type": "markdown",
   "metadata": {},
   "source": [
    "### Muitos-para-muitos (N:N)\n",
    "\n",
    "Um relacionamento **muitos-para-muitos** ocorre quando vários registros em uma tabela são associados a vários registros em outra tabela (como mostrado na figura a seguir). "
   ]
  },
  {
   "cell_type": "markdown",
   "metadata": {},
   "source": [
    "<img src=\"figure3.png\" alt=\"Junção N:N\" style=\"width: 500px;\" class=\"center\"/>"
   ]
  },
  {
   "cell_type": "markdown",
   "metadata": {},
   "source": [
    "Para exemplificar, suponha que você precisa integrar as várias músicas da tabela resultante anterior (i.e., *DataFrame* `df5`) com outra tabela contendo o número total de *streams* que cada música atingiu nas semanas dos *Charts* (i.e., *DataFrame* `df6`). \n",
    "\n",
    "⚠️ **Observe** que em ambas as tabelas a **coluna-chave** `song_id` possui entradas repetidas. \n",
    "\n",
    "Quando isso acontece, ou seja, se a **coluna-chave** das duas tabelas incluir entradas duplicadas, o resultado é uma fusão **muitos-para-muitos**. "
   ]
  },
  {
   "cell_type": "code",
   "execution_count": null,
   "metadata": {
    "ExecuteTime": {
     "end_time": "2021-07-14T15:59:15.742856Z",
     "start_time": "2021-07-14T15:59:15.671857Z"
    }
   },
   "outputs": [],
   "source": [
    "# Lendo os dados\n",
    "df6 = pd.read_table('../dataset/spotify_charts_complete.tsv',\n",
    "    usecols=['chart_week', 'song_id', 'streams'], # seleciona campos específicos\n",
    "    encoding='utf-8')\n",
    "df6 = df6.sort_values(by=['song_id']) # ordena o DataFrame pelo id da música\n",
    "\n",
    "display_side_by_side([df5.head(3), df6.head(3)], ['df5', 'df6']) # imprime as 3 primeiras linhas"
   ]
  },
  {
   "cell_type": "markdown",
   "metadata": {},
   "source": [
    "Antes de prosseguirmos com a junção, note que as duas tabelas possuem em comum, além da coluna `song_id`, a coluna `chart_week`. Ou seja, neste exemplo, teremos duas **colunas-chave** para realizar a junção. "
   ]
  },
  {
   "cell_type": "code",
   "execution_count": null,
   "metadata": {
    "ExecuteTime": {
     "end_time": "2021-07-14T15:59:15.833854Z",
     "start_time": "2021-07-14T15:59:15.746857Z"
    }
   },
   "outputs": [],
   "source": [
    "# Associação muitos-para-muitos de dois DataFrames\n",
    "df7 = pd.merge(left=df5, right=df6, on=['song_id', 'chart_week'])\n",
    "df7.head(3)"
   ]
  },
  {
   "cell_type": "markdown",
   "metadata": {},
   "source": [
    "<img src=\"figure3_result.png\" alt=\"Junção N:N\" style=\"width: 800px;\" class=\"center\"/>"
   ]
  },
  {
   "cell_type": "markdown",
   "metadata": {},
   "source": [
    "Após a junção **muitos-para-muitos**, a **coluna-chave** do *DataFrame* resultante será a combinação das **colunas-chave** de cada tabela. "
   ]
  },
  {
   "cell_type": "markdown",
   "metadata": {},
   "source": [
    "---\n",
    "## VERIFICAÇÃO"
   ]
  },
  {
   "cell_type": "markdown",
   "metadata": {},
   "source": [
    "Além dos parâmetros vistos anteriormente, a função `merge()` possui o argumento `validate` para verificar se a junção realizada é do tipo especificado. Os tipos disponíveis são:\n",
    "\n",
    "* `one_to_one` ou `1:1`: verifica se as **chaves** são exclusivas nos conjuntos de dados esquerdo e direito.\n",
    "* `one_to_many` ou `1:m`: verifica se as **chaves** são exclusivas no conjunto de dados esquerdo.\n",
    "* `many_to_one` ou `m:1`: verifica se as **chaves** são exclusivas no conjunto de dados correto.\n",
    "* `many_to_many` ou `m:m`: permitido, mas não resulta em verificações.\n",
    "\n",
    "> **Vamos verificar se as integrações realizadas anteriormente estão corretas!** 👀"
   ]
  },
  {
   "cell_type": "code",
   "execution_count": null,
   "metadata": {},
   "outputs": [],
   "source": [
    "# Associação um-para-um\n",
    "df3 = pd.merge(left=df1, right=df2, on='song_id', validate='one_to_one') # verificando\n",
    "df3.head(3)"
   ]
  },
  {
   "cell_type": "code",
   "execution_count": null,
   "metadata": {},
   "outputs": [],
   "source": [
    "# Associação um-para-muitos\n",
    "df5 = pd.merge(left=df3, right=df4, on='song_id', validate='one_to_many') # verificando\n",
    "df5.head(3)"
   ]
  },
  {
   "cell_type": "code",
   "execution_count": null,
   "metadata": {},
   "outputs": [],
   "source": [
    "# Associação muitos-para-muitos\n",
    "df7 = pd.merge(left=df5, right=df6, on=['song_id','chart_week'], validate='many_to_many') # verificando\n",
    "df7.head(3)"
   ]
  },
  {
   "cell_type": "markdown",
   "metadata": {},
   "source": [
    "**SIM!** Está tudo correto! ✔️\n",
    "\n",
    "Se o tipo das associações das junções anteriores estivessem incorretas, ou seja, se a validação falhasse, a função geraria um `MergeError`.\n",
    "\n",
    "> **Vamos fazer um exemplo teste?**\n",
    "\n",
    "Vamos tentar unir as tabelas `df4` e `df5`, que possuem **chaves** duplicadas da **coluna-chave** `song_id`, utilizando a associação **um-para-muitos**."
   ]
  },
  {
   "cell_type": "code",
   "execution_count": null,
   "metadata": {},
   "outputs": [],
   "source": [
    "# Testando uma validação incorreta\n",
    "pd.merge(left=df4, right=df5, on='song_id', validate='one_to_many') # verificando"
   ]
  },
  {
   "cell_type": "markdown",
   "metadata": {},
   "source": [
    "Como esperado, a função lançou um `MergeError` indicando que o *DataFrame* da esquerda possui **chaves** duplicadas, o que não é aceitável em uma associação do tipo **um-para-muitos**."
   ]
  },
  {
   "cell_type": "markdown",
   "metadata": {},
   "source": [
    "---\n",
    "## TIPOS DE JUNÇÕES"
   ]
  },
  {
   "cell_type": "markdown",
   "metadata": {},
   "source": [
    "Além das associações, a função `merge()` disponibiliza quatro tipos de junções:\n",
    "\n",
    "* `inner`: o tipo de junção *default* da função `merge()`, e se baseia na **interseção** de **chaves** de ambos os *DataFrames*\n",
    "* `outer`: se baseia na **união** de **chaves** do *DataFrame* esquerdo e os registros correspondentes do *DataFrame* direito\n",
    "* `left`: usa apenas as **chaves** do *DataFrame* esquerdo\n",
    "* `right`: usa apenas as **chaves** do *DataFrame* direito\n",
    "\n",
    "<br>\n",
    "<img src=\"figure4.png\" alt=\"tipos de junção\" style=\"width: 700px;\" class=\"center\"/>\n",
    "<br>"
   ]
  },
  {
   "cell_type": "markdown",
   "metadata": {},
   "source": [
    "### EXEMPLO\n",
    "\n",
    "Para entendermos melhor cada tipo de junção, vamos utilizar duas tabelas do nosso conjunto de dados nos exemplos a seguir."
   ]
  },
  {
   "cell_type": "code",
   "execution_count": null,
   "metadata": {},
   "outputs": [],
   "source": [
    "# Lendo os dados\n",
    "charts = pd.read_table('../dataset/spotify_charts_complete.tsv',\n",
    "    usecols=['song_id', 'streams', 'position'], # seleciona campos específicos\n",
    "    encoding='utf-8')\n",
    "tracks = pd.read_table('../dataset/spotify_hits_dataset_complete.tsv',\n",
    "    usecols=['song_id', 'song_name', 'artist_id', 'popularity', 'song_type'], # seleciona campos específicos\n",
    "    encoding='utf-8')\n",
    "\n",
    "display_side_by_side([charts.head(3), tracks.head(3)], ['Charts', 'Tracks'])"
   ]
  },
  {
   "cell_type": "markdown",
   "metadata": {},
   "source": [
    "#### `inner`\n",
    "\n",
    "Neste exemplo, vamos realizar um `inner join` entre a tabela `Tracks` e a tabela que armazena as músicas **#1** dos *Charts* do Spotify utilizando a função `merge()` com seus argumentos *default*.\n",
    "\n",
    "Para isso, vamos criar a segunda tabela primeiro:"
   ]
  },
  {
   "cell_type": "code",
   "execution_count": null,
   "metadata": {},
   "outputs": [],
   "source": [
    "# Criando a tabela #1 Hits\n",
    "top_one_hits = charts[charts['position'] == 1] # selecionando apenas as músicas com posição 1\n",
    "top_one_hits.head()"
   ]
  },
  {
   "cell_type": "markdown",
   "metadata": {},
   "source": [
    "Agora, podemos prosseguir para a junção:"
   ]
  },
  {
   "cell_type": "code",
   "execution_count": null,
   "metadata": {},
   "outputs": [],
   "source": [
    "# inner join, utilizando os parâmetros default\n",
    "inner_merged = pd.merge(tracks, top_one_hits) \n",
    "inner_merged.head()"
   ]
  },
  {
   "cell_type": "markdown",
   "metadata": {},
   "source": [
    "Como resultado, a junção mantém apenas as linhas que estão presentes na **coluna-chave** dos dois *DataFrames*.\n",
    "\n",
    "Para verificar se a junção deu certo, dado que todas as músicas da tabela `Tracks` estão presentes da tabela `Charts`, nós podemos comparar o número total de linhas do *DataFrame* resultante (`inner_merged`) com o número total de linhas do menor *DataFrame* da junção. "
   ]
  },
  {
   "cell_type": "code",
   "execution_count": null,
   "metadata": {},
   "outputs": [],
   "source": [
    "# Calculando o tamanho das tabelas usadas na junção\n",
    "print(len(tracks))\n",
    "print(len(top_one_hits))"
   ]
  },
  {
   "cell_type": "markdown",
   "metadata": {},
   "source": [
    "No nosso caso, a tabela `top_one_hits` é a menor. Portanto, o *DataFrame* resultante precisa ter o mesmo número de linhas:"
   ]
  },
  {
   "cell_type": "code",
   "execution_count": null,
   "metadata": {},
   "outputs": [],
   "source": [
    "# Verificando se o tamanho das tabelas são iguais\n",
    "if (len(inner_merged) == len(top_one_hits)):\n",
    "    print(\"✔️\")\n",
    "else:\n",
    "    print(\"❌\")"
   ]
  },
  {
   "cell_type": "markdown",
   "metadata": {},
   "source": [
    "#### `outer`\n",
    "\n",
    "Neste exemplo, vamos realizar um `outer join` entre a tabela `Charts` e a tabela `top_one_hits` utilizando a função `merge()` com o parâmetro `how`:"
   ]
  },
  {
   "cell_type": "code",
   "execution_count": null,
   "metadata": {},
   "outputs": [],
   "source": [
    "# Visualizando as duas tabelas\n",
    "display_side_by_side([charts.head(3), top_one_hits.head(3)], ['Charts', '#1 Hits'])"
   ]
  },
  {
   "cell_type": "code",
   "execution_count": null,
   "metadata": {},
   "outputs": [],
   "source": [
    "# outer join\n",
    "outer_merged = pd.merge(charts, top_one_hits, how=\"outer\")\n",
    "outer_merged.head()"
   ]
  },
  {
   "cell_type": "markdown",
   "metadata": {},
   "source": [
    "⚠️ **OBSERVAÇÃO!** Como foi mostrado na figura anterior, em um `outer join`, todas as linhas de ambos os *DataFrames* estarão presentes no *DataFrame* final. Portanto, neste exemplo, após a junção, teríamos que ter exatamente as mesmas linhas da tabela `Charts`, já que a tabela `top_one_hits` é um subconjunto da mesma.\n",
    "\n",
    "Utilizando a função `equals` do *pandas*, podemos verificar se os dois *DataFrames* contêm os mesmos elementos:"
   ]
  },
  {
   "cell_type": "code",
   "execution_count": null,
   "metadata": {},
   "outputs": [],
   "source": [
    "# Verificando se dois objetos contêm os mesmos elementos\n",
    "if (charts.equals(outer_merged)):\n",
    "    print(\"✔️\")\n",
    "else:\n",
    "    print(\"❌\")"
   ]
  },
  {
   "cell_type": "markdown",
   "metadata": {},
   "source": [
    "#### `left` / `right`\n",
    "\n",
    "Neste exemplo, vamos realizar apenas um `left join`, dado que um `right join` seguiria os mesmo passos, porém considerando o *DataFrame da direita*.\n",
    "\n",
    "Aqui, nós vamos realizar a junção entre a tabela `top_one_hits` e a tabela `Tracks` utilizando a função `merge()` com o parâmetro `how`:"
   ]
  },
  {
   "cell_type": "code",
   "execution_count": null,
   "metadata": {},
   "outputs": [],
   "source": [
    "# Visualizando as duas tabelas\n",
    "display_side_by_side([top_one_hits.head(3), tracks.head(3)], ['#1 Hits', 'Tracks'])"
   ]
  },
  {
   "cell_type": "code",
   "execution_count": null,
   "metadata": {},
   "outputs": [],
   "source": [
    "# left join\n",
    "left_merged = pd.merge(top_one_hits, tracks, how=\"left\")\n",
    "left_merged.head()"
   ]
  },
  {
   "cell_type": "markdown",
   "metadata": {},
   "source": [
    "O resultado da junção é um *DataFrame* contendo todos os **#1** *hits* dos *Charts* do Spotify e suas informações básicas.\n",
    "\n",
    "A partir desse resultado, poderíamos, por exemplo, verificar o intervalo do *score* de popularidade de tais músicas:"
   ]
  },
  {
   "cell_type": "code",
   "execution_count": null,
   "metadata": {},
   "outputs": [],
   "source": [
    "left_merged.popularity.value_counts() # verificando os scores de popularidade únicos"
   ]
  },
  {
   "cell_type": "code",
   "execution_count": null,
   "metadata": {},
   "outputs": [],
   "source": [
    "left_merged.popularity.mean() # verificando a média das popularidades"
   ]
  },
  {
   "cell_type": "markdown",
   "metadata": {},
   "source": [
    "Podemos ver que, no geral, a popularidade de tais músicas é bem alta, com uma média de 82! "
   ]
  },
  {
   "cell_type": "markdown",
   "metadata": {},
   "source": [
    "### Conclusão\n",
    "\n",
    "Este notebook apresentou como fazer a integração de dados de diferentes fontes aplicando a função `merge()` da biblioteca *pandas*. \n",
    "\n",
    "🔎 **Se interessou?** Dê uma olhada na documentação do *pandas* para informações extras sobre integração de dados:\n",
    "[Merging with *pandas*](https://pandas.pydata.org/pandas-docs/stable/user_guide/merging.html)\n",
    "\n",
    "---\n",
    "\n",
    "O próximo notebook ([4.2.Transformacao.ipynb](4.2.Transformacao.ipynb)) apresenta como transformar dados de diferentes formatos em formatos mais amigáveis para modelos e algoritmos de Aprendizado de Máquina."
   ]
  }
 ],
 "metadata": {
  "julynter-results": {
   "filteredId": [],
   "filteredIndividual": [],
   "filteredRestart": [],
   "filteredType": [],
   "hash": "54ddb368d9f7cf46f2f0eb7e1cec7b2db4667dd4",
   "visible": []
  },
  "kernelspec": {
   "display_name": "Python 3",
   "language": "python",
   "name": "python3"
  },
  "language_info": {
   "codemirror_mode": {
    "name": "ipython",
    "version": 3
   },
   "file_extension": ".py",
   "mimetype": "text/x-python",
   "name": "python",
   "nbconvert_exporter": "python",
   "pygments_lexer": "ipython3",
   "version": "3.8.2"
  },
  "latex_envs": {
   "LaTeX_envs_menu_present": true,
   "autoclose": true,
   "autocomplete": true,
   "bibliofile": "biblio.bib",
   "cite_by": "apalike",
   "current_citInitial": 1,
   "eqLabelWithNumbers": true,
   "eqNumInitial": 1,
   "hotkeys": {
    "equation": "Ctrl-E",
    "itemize": "Ctrl-I"
   },
   "labels_anchors": false,
   "latex_user_defs": false,
   "report_style_numbering": false,
   "user_envs_cfg": false
  },
  "varInspector": {
   "cols": {
    "lenName": 16,
    "lenType": 16,
    "lenVar": 40
   },
   "kernels_config": {
    "python": {
     "delete_cmd_postfix": "",
     "delete_cmd_prefix": "del ",
     "library": "var_list.py",
     "varRefreshCmd": "print(var_dic_list())"
    },
    "r": {
     "delete_cmd_postfix": ") ",
     "delete_cmd_prefix": "rm(",
     "library": "var_list.r",
     "varRefreshCmd": "cat(var_dic_list()) "
    }
   },
   "types_to_exclude": [
    "module",
    "function",
    "builtin_function_or_method",
    "instance",
    "_Feature"
   ],
   "window_display": false
  }
 },
 "nbformat": 4,
 "nbformat_minor": 4
}
