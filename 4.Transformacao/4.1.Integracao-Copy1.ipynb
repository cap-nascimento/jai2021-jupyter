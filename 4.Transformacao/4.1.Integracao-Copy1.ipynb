{
 "cells": [
  {
   "cell_type": "code",
   "execution_count": 1,
   "metadata": {
    "ExecuteTime": {
     "end_time": "2021-07-14T15:59:13.850892Z",
     "start_time": "2021-07-14T15:59:12.561858Z"
    }
   },
   "outputs": [],
   "source": [
    "# Importando os pacotes necessários\n",
    "import pandas as pd\n",
    "from IPython.core.display import display, HTML\n",
    "\n",
    "pd.set_option('display.max_columns', 6)"
   ]
  },
  {
   "cell_type": "code",
   "execution_count": 2,
   "metadata": {
    "ExecuteTime": {
     "end_time": "2021-07-14T15:59:13.879858Z",
     "start_time": "2021-07-14T15:59:13.860881Z"
    }
   },
   "outputs": [],
   "source": [
    "def display_side_by_side(dfs: list, captions: list):\n",
    "    \"\"\"Display tables side by side to save vertical space\n",
    "    Input:\n",
    "        dfs: list of pandas.DataFrame\n",
    "        captions: list of table captions\n",
    "    \"\"\"\n",
    "    output = \"\"\n",
    "    combined = dict(zip(captions, dfs))\n",
    "    for caption, df in combined.items():\n",
    "        output += df.style.set_table_attributes(\n",
    "            \"style='display:inline'\").set_caption(caption)._repr_html_()\n",
    "        output += \"\\xa0\\xa0\\xa0\"\n",
    "    display(HTML(output))"
   ]
  },
  {
   "cell_type": "markdown",
   "metadata": {
    "ExecuteTime": {
     "end_time": "2021-07-13T21:13:41.368079Z",
     "start_time": "2021-07-13T21:13:41.352102Z"
    }
   },
   "source": [
    "# Integração de Dados\n",
    "\n",
    "---\n",
    "\n",
    "Até agora, nós realizamos a **limpeza** do nosso conjunto de dados, garantindo a remoção de possíveis impurezas. \n",
    "\n",
    "Agora, a próxima etapa da *Preparação* é **combinar dados** de diferentes fontes para obter uma estrutura unificada com informações mais significativas. \n",
    "\n",
    "De fato, é bastante comum em aplicações da vida real a necessidade de extrair informação a partir de dados de diferentes fontes. \n",
    "\n",
    "Por exemplo, imagine que você precise analisar a popularidade de uma lista de músicas. No entanto, você possui apenas uma tabela separada listando informações básicas de todas as músicas presentes nos *Charts* do Spotify, incluindo o nome e identificador das músicas e de seus artistas. \n",
    "\n",
    "Portanto, para obter as informações de popularidade musical, você decide coletar informações extras dos *Charts*, onde você obtém uma tabela contendo o *score* da popularidade e a data de lançamento das músicas. \n",
    "\n",
    "Porém, nesta tabela, a única informação de identificação da música é o seu **id**. \n",
    "Consequentemente, apesar de ter as informações que você precisava, sem o nome seria difícil dizer qual música você está analisando. \n",
    "\n",
    "> **O QUE FAZER ENTÃO?**\n",
    "\n",
    "Se quisermos fazer uma análise completa sobre a popularidade das músicas coletadas, precisamos reunir os dados das duas tabelas em um único lugar. \n",
    "\n",
    "**Esse processo é denominado <ins>Integração de dados</ins>**"
   ]
  },
  {
   "cell_type": "markdown",
   "metadata": {},
   "source": [
    "Nesta seção, nós iremos explorar um recurso essencial oferecido pelo *pandas* para realizar **integração de dados**: a função `merge()`."
   ]
  },
  {
   "cell_type": "markdown",
   "metadata": {},
   "source": [
    "## `merge()`\n",
    "---\n",
    "\n",
    "Muito utilizada para fazer operações de junção comumente aplicadas em banco de dados.\n",
    "Especificamente, quando você deseja combinar objetos de dados com base em uma ou mais **colunas-chave** de maneira semelhante a um banco de dados relacional, `merge()` é a ferramenta ideal. "
   ]
  },
  {
   "cell_type": "markdown",
   "metadata": {},
   "source": [
    "Essa função implementa vários tipos de associações: \n",
    "\n",
    "- um-para-um (1:1)\n",
    "- um-para-muitos (1:N) \n",
    "- muitos-para-muitos (N:N)\n",
    "\n",
    "O tipo de associação realizada depende **essencialmente** da organização dos conjuntos de dados de entrada. \n",
    "\n",
    "Aqui, nós mostraremos exemplos simples destes três tipos de associação e discutiremos opções detalhadas mais adiante."
   ]
  },
  {
   "cell_type": "markdown",
   "metadata": {},
   "source": [
    "## Exemplos\n",
    "\n",
    "Inicialmente, para exemplificar, nós iremos **integrar** informações sobre as músicas do nosso conjunto de dados a partir de diferentes tabelas. \n",
    "\n",
    "Para isso, nós dividimos a tabela `Tracks` em dois *DataFrames*, `df1` e `df2`.  \n",
    "\n",
    "### `df1`\n",
    "- identificador da música: `song_id`\n",
    "- título da música: `song_name`\n",
    "- identificador do(s) artista(s): `artist_id`\n",
    "- nome do(s) artista(s): `artist_name`\n",
    "\n",
    "### `df2`\n",
    "- identificador da música: `song_id`\n",
    "- popularidade da música: `popularity`\n",
    "- data de lançamento: `release_date`\n",
    "\n",
    "**OBSERVAÇÃO! Ambas as tabelas possuem a coluna `song_id` para identificar cada uma das músicas.**"
   ]
  },
  {
   "cell_type": "code",
   "execution_count": 3,
   "metadata": {
    "ExecuteTime": {
     "end_time": "2021-07-14T15:59:15.358858Z",
     "start_time": "2021-07-14T15:59:13.890858Z"
    }
   },
   "outputs": [
    {
     "data": {
      "text/html": [
       "<style  type=\"text/css\" >\n",
       "</style><table id=\"T_fb9b1afc_e722_11eb_9fb3_00155dad103f\" style='display:inline'><caption>df1</caption><thead>    <tr>        <th class=\"blank level0\" ></th>        <th class=\"col_heading level0 col0\" >song_id</th>        <th class=\"col_heading level0 col1\" >song_name</th>        <th class=\"col_heading level0 col2\" >artist_id</th>        <th class=\"col_heading level0 col3\" >artist_name</th>    </tr></thead><tbody>\n",
       "                <tr>\n",
       "                        <th id=\"T_fb9b1afc_e722_11eb_9fb3_00155dad103flevel0_row0\" class=\"row_heading level0 row0\" >0</th>\n",
       "                        <td id=\"T_fb9b1afc_e722_11eb_9fb3_00155dad103frow0_col0\" class=\"data row0 col0\" >2rRJrJEo19S2J82BDsQ3F7</td>\n",
       "                        <td id=\"T_fb9b1afc_e722_11eb_9fb3_00155dad103frow0_col1\" class=\"data row0 col1\" >Falling</td>\n",
       "                        <td id=\"T_fb9b1afc_e722_11eb_9fb3_00155dad103frow0_col2\" class=\"data row0 col2\" >['7uaIm6Pw7xplS8Dy06V6pT']</td>\n",
       "                        <td id=\"T_fb9b1afc_e722_11eb_9fb3_00155dad103frow0_col3\" class=\"data row0 col3\" >['Trevor Daniel']</td>\n",
       "            </tr>\n",
       "            <tr>\n",
       "                        <th id=\"T_fb9b1afc_e722_11eb_9fb3_00155dad103flevel0_row1\" class=\"row_heading level0 row1\" >1</th>\n",
       "                        <td id=\"T_fb9b1afc_e722_11eb_9fb3_00155dad103frow1_col0\" class=\"data row1 col0\" >3BYIzNZ3t9lRQCACXSMLrT</td>\n",
       "                        <td id=\"T_fb9b1afc_e722_11eb_9fb3_00155dad103frow1_col1\" class=\"data row1 col1\" >Venetia</td>\n",
       "                        <td id=\"T_fb9b1afc_e722_11eb_9fb3_00155dad103frow1_col2\" class=\"data row1 col2\" >['4O15NlyKLIASxsJ0PrXPfz']</td>\n",
       "                        <td id=\"T_fb9b1afc_e722_11eb_9fb3_00155dad103frow1_col3\" class=\"data row1 col3\" >['Lil Uzi Vert']</td>\n",
       "            </tr>\n",
       "            <tr>\n",
       "                        <th id=\"T_fb9b1afc_e722_11eb_9fb3_00155dad103flevel0_row2\" class=\"row_heading level0 row2\" >2</th>\n",
       "                        <td id=\"T_fb9b1afc_e722_11eb_9fb3_00155dad103frow2_col0\" class=\"data row2 col0\" >1g3J9W88hTG173ySZR6E9S</td>\n",
       "                        <td id=\"T_fb9b1afc_e722_11eb_9fb3_00155dad103frow2_col1\" class=\"data row2 col1\" >Tilidin Weg</td>\n",
       "                        <td id=\"T_fb9b1afc_e722_11eb_9fb3_00155dad103frow2_col2\" class=\"data row2 col2\" >['1aS5tqEs9ci5P9KD9tZWa6']</td>\n",
       "                        <td id=\"T_fb9b1afc_e722_11eb_9fb3_00155dad103frow2_col3\" class=\"data row2 col3\" >['Bonez MC']</td>\n",
       "            </tr>\n",
       "    </tbody></table>   <style  type=\"text/css\" >\n",
       "</style><table id=\"T_fb9b6929_e722_11eb_a126_00155dad103f\" style='display:inline'><caption>df2</caption><thead>    <tr>        <th class=\"blank level0\" ></th>        <th class=\"col_heading level0 col0\" >song_id</th>        <th class=\"col_heading level0 col1\" >popularity</th>        <th class=\"col_heading level0 col2\" >release_date</th>    </tr></thead><tbody>\n",
       "                <tr>\n",
       "                        <th id=\"T_fb9b6929_e722_11eb_a126_00155dad103flevel0_row0\" class=\"row_heading level0 row0\" >0</th>\n",
       "                        <td id=\"T_fb9b6929_e722_11eb_a126_00155dad103frow0_col0\" class=\"data row0 col0\" >2rRJrJEo19S2J82BDsQ3F7</td>\n",
       "                        <td id=\"T_fb9b6929_e722_11eb_a126_00155dad103frow0_col1\" class=\"data row0 col1\" >77</td>\n",
       "                        <td id=\"T_fb9b6929_e722_11eb_a126_00155dad103frow0_col2\" class=\"data row0 col2\" >2020-03-26</td>\n",
       "            </tr>\n",
       "            <tr>\n",
       "                        <th id=\"T_fb9b6929_e722_11eb_a126_00155dad103flevel0_row1\" class=\"row_heading level0 row1\" >1</th>\n",
       "                        <td id=\"T_fb9b6929_e722_11eb_a126_00155dad103frow1_col0\" class=\"data row1 col0\" >3BYIzNZ3t9lRQCACXSMLrT</td>\n",
       "                        <td id=\"T_fb9b6929_e722_11eb_a126_00155dad103frow1_col1\" class=\"data row1 col1\" >66</td>\n",
       "                        <td id=\"T_fb9b6929_e722_11eb_a126_00155dad103frow1_col2\" class=\"data row1 col2\" >2020-03-06</td>\n",
       "            </tr>\n",
       "            <tr>\n",
       "                        <th id=\"T_fb9b6929_e722_11eb_a126_00155dad103flevel0_row2\" class=\"row_heading level0 row2\" >2</th>\n",
       "                        <td id=\"T_fb9b6929_e722_11eb_a126_00155dad103frow2_col0\" class=\"data row2 col0\" >1g3J9W88hTG173ySZR6E9S</td>\n",
       "                        <td id=\"T_fb9b6929_e722_11eb_a126_00155dad103frow2_col1\" class=\"data row2 col1\" >13</td>\n",
       "                        <td id=\"T_fb9b6929_e722_11eb_a126_00155dad103frow2_col2\" class=\"data row2 col2\" >2020-07-30</td>\n",
       "            </tr>\n",
       "    </tbody></table>   "
      ],
      "text/plain": [
       "<IPython.core.display.HTML object>"
      ]
     },
     "metadata": {},
     "output_type": "display_data"
    }
   ],
   "source": [
    "# Lendo os dados e criando os dois DataFrames\n",
    "df1 = pd.read_table('../dataset/spotify_hits_dataset_complete.tsv',\n",
    "    usecols=['song_id', 'song_name', 'artist_id', 'artist_name'], # seleciona campos específicos\n",
    "    encoding='utf-8')\n",
    "df2 = pd.read_table('../dataset/spotify_hits_dataset_complete.tsv',\n",
    "    usecols=['song_id', 'popularity', 'release_date'], # seleciona campos específicos\n",
    "    encoding='utf-8')\n",
    "\n",
    "display_side_by_side([df1.head(3), df2.head(3)], ['df1', 'df2']) # imprime as 3 primeiras linhas"
   ]
  },
  {
   "cell_type": "markdown",
   "metadata": {},
   "source": [
    "### Um-para-um (1:1) \n",
    "\n",
    "A associação **um-para-um** é talvez o tipo mais simples de fusão, muito semelhante à concatenação de colunas. \n",
    "\n",
    "Neste tipo de relacionamento, cada registro na primeira tabela pode ter **somente um** registro correspondente na segunda tabela, e cada registro na segunda tabela pode ter **somente um** registro correspondente na primeira tabela (como mostrado na figura a seguir).\n"
   ]
  },
  {
   "cell_type": "markdown",
   "metadata": {},
   "source": [
    "<img src=\"figure1.png\" alt=\"Junção 1:1\" style=\"width: 500px;\"/>"
   ]
  },
  {
   "cell_type": "markdown",
   "metadata": {},
   "source": [
    "Neste exemplo, nós unimos as tabelas `df1` e `df2` para reunir informações de popularidade das músicas do Spotify usando a função `merge()`.\n",
    "\n",
    "Ao usar `merge()`, você fornecerá dois argumentos obrigatórios:\n",
    "\n",
    "* `left`: *DataFrame* esquerdo\n",
    "* `right`: *DataFrame* direito\n",
    "\n",
    "No nosso caso, nós passamos as tabelas `df1`e `df2`.\n",
    "\n",
    "Depois disso, você pode fornecer vários argumentos opcionais para definir como as tabelas serão mescladas. \n",
    "Neste primeiro exemplo, o único parâmetro que precisamos setar é:\n",
    "\n",
    "* `on`: informa quais colunas ou índices (i.e., **colunas-chave** ou **índices-chave**) você deseja unir\n",
    "    \n",
    "No nosso caso, passaremos a coluna `song_id`, que está presente em ambas as tabelas, como vimos anteriormente."
   ]
  },
  {
   "cell_type": "code",
   "execution_count": 4,
   "metadata": {
    "ExecuteTime": {
     "end_time": "2021-07-14T15:59:15.422864Z",
     "start_time": "2021-07-14T15:59:15.364860Z"
    }
   },
   "outputs": [
    {
     "data": {
      "text/html": [
       "<div>\n",
       "<style scoped>\n",
       "    .dataframe tbody tr th:only-of-type {\n",
       "        vertical-align: middle;\n",
       "    }\n",
       "\n",
       "    .dataframe tbody tr th {\n",
       "        vertical-align: top;\n",
       "    }\n",
       "\n",
       "    .dataframe thead th {\n",
       "        text-align: right;\n",
       "    }\n",
       "</style>\n",
       "<table border=\"1\" class=\"dataframe\">\n",
       "  <thead>\n",
       "    <tr style=\"text-align: right;\">\n",
       "      <th></th>\n",
       "      <th>song_id</th>\n",
       "      <th>song_name</th>\n",
       "      <th>artist_id</th>\n",
       "      <th>artist_name</th>\n",
       "      <th>popularity</th>\n",
       "      <th>release_date</th>\n",
       "    </tr>\n",
       "  </thead>\n",
       "  <tbody>\n",
       "    <tr>\n",
       "      <th>0</th>\n",
       "      <td>2rRJrJEo19S2J82BDsQ3F7</td>\n",
       "      <td>Falling</td>\n",
       "      <td>['7uaIm6Pw7xplS8Dy06V6pT']</td>\n",
       "      <td>['Trevor Daniel']</td>\n",
       "      <td>77</td>\n",
       "      <td>2020-03-26</td>\n",
       "    </tr>\n",
       "    <tr>\n",
       "      <th>1</th>\n",
       "      <td>3BYIzNZ3t9lRQCACXSMLrT</td>\n",
       "      <td>Venetia</td>\n",
       "      <td>['4O15NlyKLIASxsJ0PrXPfz']</td>\n",
       "      <td>['Lil Uzi Vert']</td>\n",
       "      <td>66</td>\n",
       "      <td>2020-03-06</td>\n",
       "    </tr>\n",
       "    <tr>\n",
       "      <th>2</th>\n",
       "      <td>1g3J9W88hTG173ySZR6E9S</td>\n",
       "      <td>Tilidin Weg</td>\n",
       "      <td>['1aS5tqEs9ci5P9KD9tZWa6']</td>\n",
       "      <td>['Bonez MC']</td>\n",
       "      <td>13</td>\n",
       "      <td>2020-07-30</td>\n",
       "    </tr>\n",
       "  </tbody>\n",
       "</table>\n",
       "</div>"
      ],
      "text/plain": [
       "                  song_id    song_name                   artist_id  \\\n",
       "0  2rRJrJEo19S2J82BDsQ3F7      Falling  ['7uaIm6Pw7xplS8Dy06V6pT']   \n",
       "1  3BYIzNZ3t9lRQCACXSMLrT      Venetia  ['4O15NlyKLIASxsJ0PrXPfz']   \n",
       "2  1g3J9W88hTG173ySZR6E9S  Tilidin Weg  ['1aS5tqEs9ci5P9KD9tZWa6']   \n",
       "\n",
       "         artist_name  popularity release_date  \n",
       "0  ['Trevor Daniel']          77   2020-03-26  \n",
       "1   ['Lil Uzi Vert']          66   2020-03-06  \n",
       "2       ['Bonez MC']          13   2020-07-30  "
      ]
     },
     "execution_count": 4,
     "metadata": {},
     "output_type": "execute_result"
    }
   ],
   "source": [
    "# Associação um-para-um\n",
    "df3 = pd.merge(left=df1, right=df2, on='song_id')\n",
    "df3.head(3)"
   ]
  },
  {
   "cell_type": "markdown",
   "metadata": {},
   "source": [
    "<img src=\"figure1_result.png\" alt=\"Junção 1:1\" style=\"width: 700px;\"/>"
   ]
  },
  {
   "cell_type": "markdown",
   "metadata": {},
   "source": [
    "O resultado da junção é um único *DataFrame* que combina as informações das duas entradas, baseado nos valores comuns presentes na coluna `song_id` de ambos os *DataFrames* originais."
   ]
  },
  {
   "cell_type": "markdown",
   "metadata": {},
   "source": [
    "### OBSERVAÇÕES"
   ]
  },
  {
   "cell_type": "markdown",
   "metadata": {},
   "source": [
    "* Lembre-se que se você usar o parâmetro `on`, a coluna ou índice especificado deve estar presente nas duas tabelas.\n",
    "\n",
    "* Se você não especificar o parâmetro `on`, as colunas que compartilham o mesmo nome nos dois *DataFrames* serão usadas como **colunas-chave** na junção. \n",
    "\n",
    "> **Vamos testar?**"
   ]
  },
  {
   "cell_type": "code",
   "execution_count": 5,
   "metadata": {},
   "outputs": [
    {
     "data": {
      "text/html": [
       "<div>\n",
       "<style scoped>\n",
       "    .dataframe tbody tr th:only-of-type {\n",
       "        vertical-align: middle;\n",
       "    }\n",
       "\n",
       "    .dataframe tbody tr th {\n",
       "        vertical-align: top;\n",
       "    }\n",
       "\n",
       "    .dataframe thead th {\n",
       "        text-align: right;\n",
       "    }\n",
       "</style>\n",
       "<table border=\"1\" class=\"dataframe\">\n",
       "  <thead>\n",
       "    <tr style=\"text-align: right;\">\n",
       "      <th></th>\n",
       "      <th>song_id</th>\n",
       "      <th>song_name</th>\n",
       "      <th>artist_id</th>\n",
       "      <th>artist_name</th>\n",
       "      <th>popularity</th>\n",
       "      <th>release_date</th>\n",
       "    </tr>\n",
       "  </thead>\n",
       "  <tbody>\n",
       "    <tr>\n",
       "      <th>0</th>\n",
       "      <td>2rRJrJEo19S2J82BDsQ3F7</td>\n",
       "      <td>Falling</td>\n",
       "      <td>['7uaIm6Pw7xplS8Dy06V6pT']</td>\n",
       "      <td>['Trevor Daniel']</td>\n",
       "      <td>77</td>\n",
       "      <td>2020-03-26</td>\n",
       "    </tr>\n",
       "    <tr>\n",
       "      <th>1</th>\n",
       "      <td>3BYIzNZ3t9lRQCACXSMLrT</td>\n",
       "      <td>Venetia</td>\n",
       "      <td>['4O15NlyKLIASxsJ0PrXPfz']</td>\n",
       "      <td>['Lil Uzi Vert']</td>\n",
       "      <td>66</td>\n",
       "      <td>2020-03-06</td>\n",
       "    </tr>\n",
       "    <tr>\n",
       "      <th>2</th>\n",
       "      <td>1g3J9W88hTG173ySZR6E9S</td>\n",
       "      <td>Tilidin Weg</td>\n",
       "      <td>['1aS5tqEs9ci5P9KD9tZWa6']</td>\n",
       "      <td>['Bonez MC']</td>\n",
       "      <td>13</td>\n",
       "      <td>2020-07-30</td>\n",
       "    </tr>\n",
       "  </tbody>\n",
       "</table>\n",
       "</div>"
      ],
      "text/plain": [
       "                  song_id    song_name                   artist_id  \\\n",
       "0  2rRJrJEo19S2J82BDsQ3F7      Falling  ['7uaIm6Pw7xplS8Dy06V6pT']   \n",
       "1  3BYIzNZ3t9lRQCACXSMLrT      Venetia  ['4O15NlyKLIASxsJ0PrXPfz']   \n",
       "2  1g3J9W88hTG173ySZR6E9S  Tilidin Weg  ['1aS5tqEs9ci5P9KD9tZWa6']   \n",
       "\n",
       "         artist_name  popularity release_date  \n",
       "0  ['Trevor Daniel']          77   2020-03-26  \n",
       "1   ['Lil Uzi Vert']          66   2020-03-06  \n",
       "2       ['Bonez MC']          13   2020-07-30  "
      ]
     },
     "execution_count": 5,
     "metadata": {},
     "output_type": "execute_result"
    }
   ],
   "source": [
    "# Associação um-para-um\n",
    "df3 = pd.merge(left=df1, right=df2) # SEM ESPECIFICAR A COLUNA-CHAVE\n",
    "df3.head(3)"
   ]
  },
  {
   "cell_type": "markdown",
   "metadata": {},
   "source": [
    "### Um-para-muitos (1:N)\n",
    "\n",
    "A associação **um-para-muitos** é usada quando uma das duas **colunas-chave** contém mais de uma entrada por registro (como mostrado na figura a seguir)."
   ]
  },
  {
   "cell_type": "markdown",
   "metadata": {},
   "source": [
    "<img src=\"figure2.png\" alt=\"Junção 1:N\" style=\"width: 500px;\"/>"
   ]
  },
  {
   "cell_type": "markdown",
   "metadata": {
    "ExecuteTime": {
     "end_time": "2021-07-14T15:54:02.091594Z",
     "start_time": "2021-07-14T15:54:02.068600Z"
    }
   },
   "source": [
    "Para exemplificar, vamos realizar a junção da tabela resultante do exemplo anterior (i.e., *DataFrame* `df3`) com os sucessos do Spotify na tabela `Charts` (i.e., *DataFrame* `df4`). "
   ]
  },
  {
   "cell_type": "code",
   "execution_count": 6,
   "metadata": {
    "ExecuteTime": {
     "end_time": "2021-07-14T15:59:15.555876Z",
     "start_time": "2021-07-14T15:59:15.427859Z"
    }
   },
   "outputs": [
    {
     "data": {
      "text/html": [
       "<style  type=\"text/css\" >\n",
       "</style><table id=\"T_fbb951d7_e722_11eb_b079_00155dad103f\" style='display:inline'><caption>df3</caption><thead>    <tr>        <th class=\"blank level0\" ></th>        <th class=\"col_heading level0 col0\" >song_id</th>        <th class=\"col_heading level0 col1\" >song_name</th>        <th class=\"col_heading level0 col2\" >artist_id</th>        <th class=\"col_heading level0 col3\" >artist_name</th>        <th class=\"col_heading level0 col4\" >popularity</th>        <th class=\"col_heading level0 col5\" >release_date</th>    </tr></thead><tbody>\n",
       "                <tr>\n",
       "                        <th id=\"T_fbb951d7_e722_11eb_b079_00155dad103flevel0_row0\" class=\"row_heading level0 row0\" >0</th>\n",
       "                        <td id=\"T_fbb951d7_e722_11eb_b079_00155dad103frow0_col0\" class=\"data row0 col0\" >2rRJrJEo19S2J82BDsQ3F7</td>\n",
       "                        <td id=\"T_fbb951d7_e722_11eb_b079_00155dad103frow0_col1\" class=\"data row0 col1\" >Falling</td>\n",
       "                        <td id=\"T_fbb951d7_e722_11eb_b079_00155dad103frow0_col2\" class=\"data row0 col2\" >['7uaIm6Pw7xplS8Dy06V6pT']</td>\n",
       "                        <td id=\"T_fbb951d7_e722_11eb_b079_00155dad103frow0_col3\" class=\"data row0 col3\" >['Trevor Daniel']</td>\n",
       "                        <td id=\"T_fbb951d7_e722_11eb_b079_00155dad103frow0_col4\" class=\"data row0 col4\" >77</td>\n",
       "                        <td id=\"T_fbb951d7_e722_11eb_b079_00155dad103frow0_col5\" class=\"data row0 col5\" >2020-03-26</td>\n",
       "            </tr>\n",
       "            <tr>\n",
       "                        <th id=\"T_fbb951d7_e722_11eb_b079_00155dad103flevel0_row1\" class=\"row_heading level0 row1\" >1</th>\n",
       "                        <td id=\"T_fbb951d7_e722_11eb_b079_00155dad103frow1_col0\" class=\"data row1 col0\" >3BYIzNZ3t9lRQCACXSMLrT</td>\n",
       "                        <td id=\"T_fbb951d7_e722_11eb_b079_00155dad103frow1_col1\" class=\"data row1 col1\" >Venetia</td>\n",
       "                        <td id=\"T_fbb951d7_e722_11eb_b079_00155dad103frow1_col2\" class=\"data row1 col2\" >['4O15NlyKLIASxsJ0PrXPfz']</td>\n",
       "                        <td id=\"T_fbb951d7_e722_11eb_b079_00155dad103frow1_col3\" class=\"data row1 col3\" >['Lil Uzi Vert']</td>\n",
       "                        <td id=\"T_fbb951d7_e722_11eb_b079_00155dad103frow1_col4\" class=\"data row1 col4\" >66</td>\n",
       "                        <td id=\"T_fbb951d7_e722_11eb_b079_00155dad103frow1_col5\" class=\"data row1 col5\" >2020-03-06</td>\n",
       "            </tr>\n",
       "            <tr>\n",
       "                        <th id=\"T_fbb951d7_e722_11eb_b079_00155dad103flevel0_row2\" class=\"row_heading level0 row2\" >2</th>\n",
       "                        <td id=\"T_fbb951d7_e722_11eb_b079_00155dad103frow2_col0\" class=\"data row2 col0\" >1g3J9W88hTG173ySZR6E9S</td>\n",
       "                        <td id=\"T_fbb951d7_e722_11eb_b079_00155dad103frow2_col1\" class=\"data row2 col1\" >Tilidin Weg</td>\n",
       "                        <td id=\"T_fbb951d7_e722_11eb_b079_00155dad103frow2_col2\" class=\"data row2 col2\" >['1aS5tqEs9ci5P9KD9tZWa6']</td>\n",
       "                        <td id=\"T_fbb951d7_e722_11eb_b079_00155dad103frow2_col3\" class=\"data row2 col3\" >['Bonez MC']</td>\n",
       "                        <td id=\"T_fbb951d7_e722_11eb_b079_00155dad103frow2_col4\" class=\"data row2 col4\" >13</td>\n",
       "                        <td id=\"T_fbb951d7_e722_11eb_b079_00155dad103frow2_col5\" class=\"data row2 col5\" >2020-07-30</td>\n",
       "            </tr>\n",
       "    </tbody></table>   <style  type=\"text/css\" >\n",
       "</style><table id=\"T_fbb99f4d_e722_11eb_a76b_00155dad103f\" style='display:inline'><caption>df4</caption><thead>    <tr>        <th class=\"blank level0\" ></th>        <th class=\"col_heading level0 col0\" >chart_week</th>        <th class=\"col_heading level0 col1\" >position</th>        <th class=\"col_heading level0 col2\" >song_id</th>    </tr></thead><tbody>\n",
       "                <tr>\n",
       "                        <th id=\"T_fbb99f4d_e722_11eb_a76b_00155dad103flevel0_row0\" class=\"row_heading level0 row0\" >7793</th>\n",
       "                        <td id=\"T_fbb99f4d_e722_11eb_a76b_00155dad103frow0_col0\" class=\"data row0 col0\" >2020-09-24</td>\n",
       "                        <td id=\"T_fbb99f4d_e722_11eb_a76b_00155dad103frow0_col1\" class=\"data row0 col1\" >194</td>\n",
       "                        <td id=\"T_fbb99f4d_e722_11eb_a76b_00155dad103frow0_col2\" class=\"data row0 col2\" >00ETaeHUQ6lops3oWU1Wrt</td>\n",
       "            </tr>\n",
       "            <tr>\n",
       "                        <th id=\"T_fbb99f4d_e722_11eb_a76b_00155dad103flevel0_row1\" class=\"row_heading level0 row1\" >9108</th>\n",
       "                        <td id=\"T_fbb99f4d_e722_11eb_a76b_00155dad103frow1_col0\" class=\"data row1 col0\" >2020-11-12</td>\n",
       "                        <td id=\"T_fbb99f4d_e722_11eb_a76b_00155dad103frow1_col1\" class=\"data row1 col1\" >109</td>\n",
       "                        <td id=\"T_fbb99f4d_e722_11eb_a76b_00155dad103frow1_col2\" class=\"data row1 col2\" >017PF4Q3l4DBUiWoXk4OWT</td>\n",
       "            </tr>\n",
       "            <tr>\n",
       "                        <th id=\"T_fbb99f4d_e722_11eb_a76b_00155dad103flevel0_row2\" class=\"row_heading level0 row2\" >6035</th>\n",
       "                        <td id=\"T_fbb99f4d_e722_11eb_a76b_00155dad103frow2_col0\" class=\"data row2 col0\" >2020-07-30</td>\n",
       "                        <td id=\"T_fbb99f4d_e722_11eb_a76b_00155dad103frow2_col1\" class=\"data row2 col1\" >36</td>\n",
       "                        <td id=\"T_fbb99f4d_e722_11eb_a76b_00155dad103frow2_col2\" class=\"data row2 col2\" >017PF4Q3l4DBUiWoXk4OWT</td>\n",
       "            </tr>\n",
       "    </tbody></table>   "
      ],
      "text/plain": [
       "<IPython.core.display.HTML object>"
      ]
     },
     "metadata": {},
     "output_type": "display_data"
    }
   ],
   "source": [
    "# Lendo os dados\n",
    "df4 = pd.read_table('../dataset/spotify_charts_complete.tsv',\n",
    "    usecols=['chart_week', 'song_id', 'position'], # seleciona campos específicos\n",
    "    encoding='utf-8')\n",
    "df4 = df4.sort_values(by=['song_id']) # ordena o DataFrame pelo id da música\n",
    "\n",
    "display_side_by_side([df3.head(3), df4.head(3)], ['df3', 'df4']) # imprime as 3 primeiras linhas"
   ]
  },
  {
   "cell_type": "markdown",
   "metadata": {},
   "source": [
    "**Note que, nesta tabela, uma música pode aparecer em qualquer semana dos *Charts* do Spotify.** Ou seja, elas podem repetir!\n",
    "\n",
    "Portanto, para **qualquer** música representada na tabela `df3`, pode haver **mais de uma** ocorrência na tabela `df4`. \n",
    "\n",
    "Neste caso, a associação entre a tabela `df3` e a tabela `df4` é uma relação **um-para-muitos**."
   ]
  },
  {
   "cell_type": "markdown",
   "metadata": {},
   "source": [
    "> **Vamos integrá-las?**\n",
    "\n",
    "Assim como no exemplo anterior, nós passaremos os dois *DataFrames* para a função `merge()`, bem como a **coluna-chave** `song_id` presente em ambas as tabelas:"
   ]
  },
  {
   "cell_type": "code",
   "execution_count": 7,
   "metadata": {
    "ExecuteTime": {
     "end_time": "2021-07-14T15:59:15.664856Z",
     "start_time": "2021-07-14T15:59:15.567902Z"
    }
   },
   "outputs": [
    {
     "data": {
      "text/html": [
       "<div>\n",
       "<style scoped>\n",
       "    .dataframe tbody tr th:only-of-type {\n",
       "        vertical-align: middle;\n",
       "    }\n",
       "\n",
       "    .dataframe tbody tr th {\n",
       "        vertical-align: top;\n",
       "    }\n",
       "\n",
       "    .dataframe thead th {\n",
       "        text-align: right;\n",
       "    }\n",
       "</style>\n",
       "<table border=\"1\" class=\"dataframe\">\n",
       "  <thead>\n",
       "    <tr style=\"text-align: right;\">\n",
       "      <th></th>\n",
       "      <th>song_id</th>\n",
       "      <th>song_name</th>\n",
       "      <th>artist_id</th>\n",
       "      <th>...</th>\n",
       "      <th>release_date</th>\n",
       "      <th>chart_week</th>\n",
       "      <th>position</th>\n",
       "    </tr>\n",
       "  </thead>\n",
       "  <tbody>\n",
       "    <tr>\n",
       "      <th>0</th>\n",
       "      <td>2rRJrJEo19S2J82BDsQ3F7</td>\n",
       "      <td>Falling</td>\n",
       "      <td>['7uaIm6Pw7xplS8Dy06V6pT']</td>\n",
       "      <td>...</td>\n",
       "      <td>2020-03-26</td>\n",
       "      <td>2020-10-29</td>\n",
       "      <td>81</td>\n",
       "    </tr>\n",
       "    <tr>\n",
       "      <th>1</th>\n",
       "      <td>2rRJrJEo19S2J82BDsQ3F7</td>\n",
       "      <td>Falling</td>\n",
       "      <td>['7uaIm6Pw7xplS8Dy06V6pT']</td>\n",
       "      <td>...</td>\n",
       "      <td>2020-03-26</td>\n",
       "      <td>2020-05-07</td>\n",
       "      <td>20</td>\n",
       "    </tr>\n",
       "    <tr>\n",
       "      <th>2</th>\n",
       "      <td>2rRJrJEo19S2J82BDsQ3F7</td>\n",
       "      <td>Falling</td>\n",
       "      <td>['7uaIm6Pw7xplS8Dy06V6pT']</td>\n",
       "      <td>...</td>\n",
       "      <td>2020-03-26</td>\n",
       "      <td>2020-09-17</td>\n",
       "      <td>71</td>\n",
       "    </tr>\n",
       "  </tbody>\n",
       "</table>\n",
       "<p>3 rows × 8 columns</p>\n",
       "</div>"
      ],
      "text/plain": [
       "                  song_id song_name                   artist_id  ...  \\\n",
       "0  2rRJrJEo19S2J82BDsQ3F7   Falling  ['7uaIm6Pw7xplS8Dy06V6pT']  ...   \n",
       "1  2rRJrJEo19S2J82BDsQ3F7   Falling  ['7uaIm6Pw7xplS8Dy06V6pT']  ...   \n",
       "2  2rRJrJEo19S2J82BDsQ3F7   Falling  ['7uaIm6Pw7xplS8Dy06V6pT']  ...   \n",
       "\n",
       "  release_date  chart_week position  \n",
       "0   2020-03-26  2020-10-29       81  \n",
       "1   2020-03-26  2020-05-07       20  \n",
       "2   2020-03-26  2020-09-17       71  \n",
       "\n",
       "[3 rows x 8 columns]"
      ]
     },
     "execution_count": 7,
     "metadata": {},
     "output_type": "execute_result"
    }
   ],
   "source": [
    "# Associação um-para-muitos de dois DataFrames\n",
    "df5 = pd.merge(left=df3, right=df4, on='song_id') \n",
    "df5.head(3)"
   ]
  },
  {
   "cell_type": "markdown",
   "metadata": {},
   "source": [
    "<img src=\"figure2_result.png\" alt=\"Junção 1:N\" style=\"width: 800px;\"/>"
   ]
  },
  {
   "cell_type": "markdown",
   "metadata": {},
   "source": [
    "O resultado da junção é um único *DataFrame* que combina as informações das duas entradas; **porém**, ao contrário do exemplo anterior, as informações originais (i.e., do *DataFrame* `df3`) se repetem conforme exigido pelas entradas do *DataFrame* `df4`."
   ]
  },
  {
   "cell_type": "markdown",
   "metadata": {},
   "source": [
    "### Muitos-para-muitos (N:N)\n",
    "\n",
    "Um relacionamento **muitos-para-muitos** ocorre quando vários registros em uma tabela são associados a vários registros em outra tabela (como mostrado na figura a seguir). "
   ]
  },
  {
   "cell_type": "markdown",
   "metadata": {},
   "source": [
    "<img src=\"figure3.png\" alt=\"Junção N:N\" style=\"width: 500px;\"/>"
   ]
  },
  {
   "cell_type": "markdown",
   "metadata": {},
   "source": [
    "Para exemplificar, suponha que você precisa integrar as várias músicas da tabela resultante anterior (i.e., *DataFrame* `df5`) com outra tabela contendo o número total de *streams* que cada música atingiu nas semanas dos *Charts* (i.e., *DataFrame* `df6`). \n",
    "\n",
    "**Observe** que em ambas as tabelas a **coluna-chave** `song_id` possui entradas repetidas. \n",
    "\n",
    "Quando isso acontece, ou seja, se a **coluna-chave** das duas tabelas incluir entradas duplicadas, o resultado é uma fusão **muitos-para-muitos**. "
   ]
  },
  {
   "cell_type": "code",
   "execution_count": 8,
   "metadata": {
    "ExecuteTime": {
     "end_time": "2021-07-14T15:59:15.742856Z",
     "start_time": "2021-07-14T15:59:15.671857Z"
    }
   },
   "outputs": [
    {
     "data": {
      "text/html": [
       "<style  type=\"text/css\" >\n",
       "</style><table id=\"T_2aab9f39_e72c_11eb_b80f_00155dad103f\" style='display:inline'><caption>df5</caption><thead>    <tr>        <th class=\"blank level0\" ></th>        <th class=\"col_heading level0 col0\" >song_id</th>        <th class=\"col_heading level0 col1\" >song_name</th>        <th class=\"col_heading level0 col2\" >artist_id</th>        <th class=\"col_heading level0 col3\" >artist_name</th>        <th class=\"col_heading level0 col4\" >popularity</th>        <th class=\"col_heading level0 col5\" >release_date</th>        <th class=\"col_heading level0 col6\" >chart_week</th>        <th class=\"col_heading level0 col7\" >position</th>    </tr></thead><tbody>\n",
       "                <tr>\n",
       "                        <th id=\"T_2aab9f39_e72c_11eb_b80f_00155dad103flevel0_row0\" class=\"row_heading level0 row0\" >0</th>\n",
       "                        <td id=\"T_2aab9f39_e72c_11eb_b80f_00155dad103frow0_col0\" class=\"data row0 col0\" >2rRJrJEo19S2J82BDsQ3F7</td>\n",
       "                        <td id=\"T_2aab9f39_e72c_11eb_b80f_00155dad103frow0_col1\" class=\"data row0 col1\" >Falling</td>\n",
       "                        <td id=\"T_2aab9f39_e72c_11eb_b80f_00155dad103frow0_col2\" class=\"data row0 col2\" >['7uaIm6Pw7xplS8Dy06V6pT']</td>\n",
       "                        <td id=\"T_2aab9f39_e72c_11eb_b80f_00155dad103frow0_col3\" class=\"data row0 col3\" >['Trevor Daniel']</td>\n",
       "                        <td id=\"T_2aab9f39_e72c_11eb_b80f_00155dad103frow0_col4\" class=\"data row0 col4\" >77</td>\n",
       "                        <td id=\"T_2aab9f39_e72c_11eb_b80f_00155dad103frow0_col5\" class=\"data row0 col5\" >2020-03-26</td>\n",
       "                        <td id=\"T_2aab9f39_e72c_11eb_b80f_00155dad103frow0_col6\" class=\"data row0 col6\" >2020-10-29</td>\n",
       "                        <td id=\"T_2aab9f39_e72c_11eb_b80f_00155dad103frow0_col7\" class=\"data row0 col7\" >81</td>\n",
       "            </tr>\n",
       "            <tr>\n",
       "                        <th id=\"T_2aab9f39_e72c_11eb_b80f_00155dad103flevel0_row1\" class=\"row_heading level0 row1\" >1</th>\n",
       "                        <td id=\"T_2aab9f39_e72c_11eb_b80f_00155dad103frow1_col0\" class=\"data row1 col0\" >2rRJrJEo19S2J82BDsQ3F7</td>\n",
       "                        <td id=\"T_2aab9f39_e72c_11eb_b80f_00155dad103frow1_col1\" class=\"data row1 col1\" >Falling</td>\n",
       "                        <td id=\"T_2aab9f39_e72c_11eb_b80f_00155dad103frow1_col2\" class=\"data row1 col2\" >['7uaIm6Pw7xplS8Dy06V6pT']</td>\n",
       "                        <td id=\"T_2aab9f39_e72c_11eb_b80f_00155dad103frow1_col3\" class=\"data row1 col3\" >['Trevor Daniel']</td>\n",
       "                        <td id=\"T_2aab9f39_e72c_11eb_b80f_00155dad103frow1_col4\" class=\"data row1 col4\" >77</td>\n",
       "                        <td id=\"T_2aab9f39_e72c_11eb_b80f_00155dad103frow1_col5\" class=\"data row1 col5\" >2020-03-26</td>\n",
       "                        <td id=\"T_2aab9f39_e72c_11eb_b80f_00155dad103frow1_col6\" class=\"data row1 col6\" >2020-05-07</td>\n",
       "                        <td id=\"T_2aab9f39_e72c_11eb_b80f_00155dad103frow1_col7\" class=\"data row1 col7\" >20</td>\n",
       "            </tr>\n",
       "            <tr>\n",
       "                        <th id=\"T_2aab9f39_e72c_11eb_b80f_00155dad103flevel0_row2\" class=\"row_heading level0 row2\" >2</th>\n",
       "                        <td id=\"T_2aab9f39_e72c_11eb_b80f_00155dad103frow2_col0\" class=\"data row2 col0\" >2rRJrJEo19S2J82BDsQ3F7</td>\n",
       "                        <td id=\"T_2aab9f39_e72c_11eb_b80f_00155dad103frow2_col1\" class=\"data row2 col1\" >Falling</td>\n",
       "                        <td id=\"T_2aab9f39_e72c_11eb_b80f_00155dad103frow2_col2\" class=\"data row2 col2\" >['7uaIm6Pw7xplS8Dy06V6pT']</td>\n",
       "                        <td id=\"T_2aab9f39_e72c_11eb_b80f_00155dad103frow2_col3\" class=\"data row2 col3\" >['Trevor Daniel']</td>\n",
       "                        <td id=\"T_2aab9f39_e72c_11eb_b80f_00155dad103frow2_col4\" class=\"data row2 col4\" >77</td>\n",
       "                        <td id=\"T_2aab9f39_e72c_11eb_b80f_00155dad103frow2_col5\" class=\"data row2 col5\" >2020-03-26</td>\n",
       "                        <td id=\"T_2aab9f39_e72c_11eb_b80f_00155dad103frow2_col6\" class=\"data row2 col6\" >2020-09-17</td>\n",
       "                        <td id=\"T_2aab9f39_e72c_11eb_b80f_00155dad103frow2_col7\" class=\"data row2 col7\" >71</td>\n",
       "            </tr>\n",
       "    </tbody></table>   <style  type=\"text/css\" >\n",
       "</style><table id=\"T_2aabed34_e72c_11eb_9609_00155dad103f\" style='display:inline'><caption>df6</caption><thead>    <tr>        <th class=\"blank level0\" ></th>        <th class=\"col_heading level0 col0\" >chart_week</th>        <th class=\"col_heading level0 col1\" >streams</th>        <th class=\"col_heading level0 col2\" >song_id</th>    </tr></thead><tbody>\n",
       "                <tr>\n",
       "                        <th id=\"T_2aabed34_e72c_11eb_9609_00155dad103flevel0_row0\" class=\"row_heading level0 row0\" >0</th>\n",
       "                        <td id=\"T_2aabed34_e72c_11eb_9609_00155dad103frow0_col0\" class=\"data row0 col0\" >2020-01-02</td>\n",
       "                        <td id=\"T_2aabed34_e72c_11eb_9609_00155dad103frow0_col1\" class=\"data row0 col1\" >50183626</td>\n",
       "                        <td id=\"T_2aabed34_e72c_11eb_9609_00155dad103frow0_col2\" class=\"data row0 col2\" >1rgnBhdG2JDFTbYkYRZAku</td>\n",
       "            </tr>\n",
       "            <tr>\n",
       "                        <th id=\"T_2aabed34_e72c_11eb_9609_00155dad103flevel0_row1\" class=\"row_heading level0 row1\" >1</th>\n",
       "                        <td id=\"T_2aabed34_e72c_11eb_9609_00155dad103frow1_col0\" class=\"data row1 col0\" >2020-01-02</td>\n",
       "                        <td id=\"T_2aabed34_e72c_11eb_9609_00155dad103frow1_col1\" class=\"data row1 col1\" >33254585</td>\n",
       "                        <td id=\"T_2aabed34_e72c_11eb_9609_00155dad103frow1_col2\" class=\"data row1 col2\" >696DnlkuDOXcMAnKlTgXXK</td>\n",
       "            </tr>\n",
       "            <tr>\n",
       "                        <th id=\"T_2aabed34_e72c_11eb_9609_00155dad103flevel0_row2\" class=\"row_heading level0 row2\" >2</th>\n",
       "                        <td id=\"T_2aabed34_e72c_11eb_9609_00155dad103frow2_col0\" class=\"data row2 col0\" >2020-01-02</td>\n",
       "                        <td id=\"T_2aabed34_e72c_11eb_9609_00155dad103frow2_col1\" class=\"data row2 col1\" >29349573</td>\n",
       "                        <td id=\"T_2aabed34_e72c_11eb_9609_00155dad103frow2_col2\" class=\"data row2 col2\" >7k4t7uLgtOxPwTpFmtJNTY</td>\n",
       "            </tr>\n",
       "    </tbody></table>   "
      ],
      "text/plain": [
       "<IPython.core.display.HTML object>"
      ]
     },
     "metadata": {},
     "output_type": "display_data"
    }
   ],
   "source": [
    "# Lendo os dados\n",
    "df6 = pd.read_table('../dataset/spotify_charts_complete.tsv',\n",
    "    usecols=['chart_week', 'song_id', 'streams'], # seleciona campos específicos\n",
    "    encoding='utf-8')\n",
    "\n",
    "display_side_by_side([df5.head(3), df6.head(3)], ['df5', 'df6']) # imprime as 3 primeiras linhas"
   ]
  },
  {
   "cell_type": "markdown",
   "metadata": {},
   "source": [
    "Antes de prosseguirmos com a junção, note que as duas tabelas possuem em comum, além da coluna `song_id`, a coluna `chart_week`. Ou seja, neste exemplo, teremos duas **colunas-chave** para realizar a junção. "
   ]
  },
  {
   "cell_type": "code",
   "execution_count": 9,
   "metadata": {
    "ExecuteTime": {
     "end_time": "2021-07-14T15:59:15.833854Z",
     "start_time": "2021-07-14T15:59:15.746857Z"
    }
   },
   "outputs": [
    {
     "data": {
      "text/html": [
       "<div>\n",
       "<style scoped>\n",
       "    .dataframe tbody tr th:only-of-type {\n",
       "        vertical-align: middle;\n",
       "    }\n",
       "\n",
       "    .dataframe tbody tr th {\n",
       "        vertical-align: top;\n",
       "    }\n",
       "\n",
       "    .dataframe thead th {\n",
       "        text-align: right;\n",
       "    }\n",
       "</style>\n",
       "<table border=\"1\" class=\"dataframe\">\n",
       "  <thead>\n",
       "    <tr style=\"text-align: right;\">\n",
       "      <th></th>\n",
       "      <th>song_id</th>\n",
       "      <th>song_name</th>\n",
       "      <th>artist_id</th>\n",
       "      <th>...</th>\n",
       "      <th>chart_week</th>\n",
       "      <th>position</th>\n",
       "      <th>streams</th>\n",
       "    </tr>\n",
       "  </thead>\n",
       "  <tbody>\n",
       "    <tr>\n",
       "      <th>0</th>\n",
       "      <td>2rRJrJEo19S2J82BDsQ3F7</td>\n",
       "      <td>Falling</td>\n",
       "      <td>['7uaIm6Pw7xplS8Dy06V6pT']</td>\n",
       "      <td>...</td>\n",
       "      <td>2020-10-29</td>\n",
       "      <td>81</td>\n",
       "      <td>7517622</td>\n",
       "    </tr>\n",
       "    <tr>\n",
       "      <th>1</th>\n",
       "      <td>2rRJrJEo19S2J82BDsQ3F7</td>\n",
       "      <td>Falling</td>\n",
       "      <td>['7uaIm6Pw7xplS8Dy06V6pT']</td>\n",
       "      <td>...</td>\n",
       "      <td>2020-05-07</td>\n",
       "      <td>20</td>\n",
       "      <td>16751384</td>\n",
       "    </tr>\n",
       "    <tr>\n",
       "      <th>2</th>\n",
       "      <td>2rRJrJEo19S2J82BDsQ3F7</td>\n",
       "      <td>Falling</td>\n",
       "      <td>['7uaIm6Pw7xplS8Dy06V6pT']</td>\n",
       "      <td>...</td>\n",
       "      <td>2020-09-17</td>\n",
       "      <td>71</td>\n",
       "      <td>7944403</td>\n",
       "    </tr>\n",
       "  </tbody>\n",
       "</table>\n",
       "<p>3 rows × 9 columns</p>\n",
       "</div>"
      ],
      "text/plain": [
       "                  song_id song_name                   artist_id  ...  \\\n",
       "0  2rRJrJEo19S2J82BDsQ3F7   Falling  ['7uaIm6Pw7xplS8Dy06V6pT']  ...   \n",
       "1  2rRJrJEo19S2J82BDsQ3F7   Falling  ['7uaIm6Pw7xplS8Dy06V6pT']  ...   \n",
       "2  2rRJrJEo19S2J82BDsQ3F7   Falling  ['7uaIm6Pw7xplS8Dy06V6pT']  ...   \n",
       "\n",
       "   chart_week  position   streams  \n",
       "0  2020-10-29        81   7517622  \n",
       "1  2020-05-07        20  16751384  \n",
       "2  2020-09-17        71   7944403  \n",
       "\n",
       "[3 rows x 9 columns]"
      ]
     },
     "execution_count": 9,
     "metadata": {},
     "output_type": "execute_result"
    }
   ],
   "source": [
    "# Associação muitos-para-muitos de dois DataFrames\n",
    "df7 = pd.merge(left=df5, right=df6, on=['song_id', 'chart_week'])\n",
    "df7.head(3)"
   ]
  },
  {
   "cell_type": "markdown",
   "metadata": {},
   "source": [
    "<img src=\"figure3_result.png\" alt=\"Junção N:N\" style=\"width: 800px;\"/>"
   ]
  },
  {
   "cell_type": "markdown",
   "metadata": {},
   "source": [
    "Após a junção **muitos-para-muitos**, a **coluna-chave** do *DataFrame* resultante será a combinação das **colunas-chave** de cada tabela. "
   ]
  },
  {
   "cell_type": "markdown",
   "metadata": {},
   "source": [
    "---\n",
    "## VERIFICAÇÃO"
   ]
  },
  {
   "cell_type": "markdown",
   "metadata": {},
   "source": [
    "Além dos parâmetros vistos anteriormente, a função `merge()` possui o argumento `validate` para verificar se a junção realizada é do tipo especificado. Os tipos disponíveis são:\n",
    "\n",
    "* `one_to_one` ou `1:1`: verifica se as **chaves** são exclusivas nos conjuntos de dados esquerdo e direito.\n",
    "* `one_to_many` ou `1:m`: verifica se as **chaves** são exclusivas no conjunto de dados esquerdo.\n",
    "* `many_to_one` ou `m:1`: verifica se as **chaves** são exclusivas no conjunto de dados correto.\n",
    "* `many_to_many` ou `m:m`: permitido, mas não resulta em verificações.\n",
    "\n",
    "> **Vamos verificar se as integrações realizadas anteriormente estão corretas!**"
   ]
  },
  {
   "cell_type": "code",
   "execution_count": 11,
   "metadata": {},
   "outputs": [
    {
     "data": {
      "text/html": [
       "<div>\n",
       "<style scoped>\n",
       "    .dataframe tbody tr th:only-of-type {\n",
       "        vertical-align: middle;\n",
       "    }\n",
       "\n",
       "    .dataframe tbody tr th {\n",
       "        vertical-align: top;\n",
       "    }\n",
       "\n",
       "    .dataframe thead th {\n",
       "        text-align: right;\n",
       "    }\n",
       "</style>\n",
       "<table border=\"1\" class=\"dataframe\">\n",
       "  <thead>\n",
       "    <tr style=\"text-align: right;\">\n",
       "      <th></th>\n",
       "      <th>song_id</th>\n",
       "      <th>song_name</th>\n",
       "      <th>artist_id</th>\n",
       "      <th>artist_name</th>\n",
       "      <th>popularity</th>\n",
       "      <th>release_date</th>\n",
       "    </tr>\n",
       "  </thead>\n",
       "  <tbody>\n",
       "    <tr>\n",
       "      <th>0</th>\n",
       "      <td>2rRJrJEo19S2J82BDsQ3F7</td>\n",
       "      <td>Falling</td>\n",
       "      <td>['7uaIm6Pw7xplS8Dy06V6pT']</td>\n",
       "      <td>['Trevor Daniel']</td>\n",
       "      <td>77</td>\n",
       "      <td>2020-03-26</td>\n",
       "    </tr>\n",
       "    <tr>\n",
       "      <th>1</th>\n",
       "      <td>3BYIzNZ3t9lRQCACXSMLrT</td>\n",
       "      <td>Venetia</td>\n",
       "      <td>['4O15NlyKLIASxsJ0PrXPfz']</td>\n",
       "      <td>['Lil Uzi Vert']</td>\n",
       "      <td>66</td>\n",
       "      <td>2020-03-06</td>\n",
       "    </tr>\n",
       "    <tr>\n",
       "      <th>2</th>\n",
       "      <td>1g3J9W88hTG173ySZR6E9S</td>\n",
       "      <td>Tilidin Weg</td>\n",
       "      <td>['1aS5tqEs9ci5P9KD9tZWa6']</td>\n",
       "      <td>['Bonez MC']</td>\n",
       "      <td>13</td>\n",
       "      <td>2020-07-30</td>\n",
       "    </tr>\n",
       "  </tbody>\n",
       "</table>\n",
       "</div>"
      ],
      "text/plain": [
       "                  song_id    song_name                   artist_id  \\\n",
       "0  2rRJrJEo19S2J82BDsQ3F7      Falling  ['7uaIm6Pw7xplS8Dy06V6pT']   \n",
       "1  3BYIzNZ3t9lRQCACXSMLrT      Venetia  ['4O15NlyKLIASxsJ0PrXPfz']   \n",
       "2  1g3J9W88hTG173ySZR6E9S  Tilidin Weg  ['1aS5tqEs9ci5P9KD9tZWa6']   \n",
       "\n",
       "         artist_name  popularity release_date  \n",
       "0  ['Trevor Daniel']          77   2020-03-26  \n",
       "1   ['Lil Uzi Vert']          66   2020-03-06  \n",
       "2       ['Bonez MC']          13   2020-07-30  "
      ]
     },
     "execution_count": 11,
     "metadata": {},
     "output_type": "execute_result"
    }
   ],
   "source": [
    "# Associação um-para-um\n",
    "df3 = pd.merge(left=df1, right=df2, on='song_id', validate='one_to_one') # verificando\n",
    "df3.head(3)"
   ]
  },
  {
   "cell_type": "code",
   "execution_count": 12,
   "metadata": {},
   "outputs": [
    {
     "data": {
      "text/html": [
       "<div>\n",
       "<style scoped>\n",
       "    .dataframe tbody tr th:only-of-type {\n",
       "        vertical-align: middle;\n",
       "    }\n",
       "\n",
       "    .dataframe tbody tr th {\n",
       "        vertical-align: top;\n",
       "    }\n",
       "\n",
       "    .dataframe thead th {\n",
       "        text-align: right;\n",
       "    }\n",
       "</style>\n",
       "<table border=\"1\" class=\"dataframe\">\n",
       "  <thead>\n",
       "    <tr style=\"text-align: right;\">\n",
       "      <th></th>\n",
       "      <th>song_id</th>\n",
       "      <th>song_name</th>\n",
       "      <th>artist_id</th>\n",
       "      <th>...</th>\n",
       "      <th>release_date</th>\n",
       "      <th>chart_week</th>\n",
       "      <th>position</th>\n",
       "    </tr>\n",
       "  </thead>\n",
       "  <tbody>\n",
       "    <tr>\n",
       "      <th>0</th>\n",
       "      <td>2rRJrJEo19S2J82BDsQ3F7</td>\n",
       "      <td>Falling</td>\n",
       "      <td>['7uaIm6Pw7xplS8Dy06V6pT']</td>\n",
       "      <td>...</td>\n",
       "      <td>2020-03-26</td>\n",
       "      <td>2020-10-29</td>\n",
       "      <td>81</td>\n",
       "    </tr>\n",
       "    <tr>\n",
       "      <th>1</th>\n",
       "      <td>2rRJrJEo19S2J82BDsQ3F7</td>\n",
       "      <td>Falling</td>\n",
       "      <td>['7uaIm6Pw7xplS8Dy06V6pT']</td>\n",
       "      <td>...</td>\n",
       "      <td>2020-03-26</td>\n",
       "      <td>2020-05-07</td>\n",
       "      <td>20</td>\n",
       "    </tr>\n",
       "    <tr>\n",
       "      <th>2</th>\n",
       "      <td>2rRJrJEo19S2J82BDsQ3F7</td>\n",
       "      <td>Falling</td>\n",
       "      <td>['7uaIm6Pw7xplS8Dy06V6pT']</td>\n",
       "      <td>...</td>\n",
       "      <td>2020-03-26</td>\n",
       "      <td>2020-09-17</td>\n",
       "      <td>71</td>\n",
       "    </tr>\n",
       "  </tbody>\n",
       "</table>\n",
       "<p>3 rows × 8 columns</p>\n",
       "</div>"
      ],
      "text/plain": [
       "                  song_id song_name                   artist_id  ...  \\\n",
       "0  2rRJrJEo19S2J82BDsQ3F7   Falling  ['7uaIm6Pw7xplS8Dy06V6pT']  ...   \n",
       "1  2rRJrJEo19S2J82BDsQ3F7   Falling  ['7uaIm6Pw7xplS8Dy06V6pT']  ...   \n",
       "2  2rRJrJEo19S2J82BDsQ3F7   Falling  ['7uaIm6Pw7xplS8Dy06V6pT']  ...   \n",
       "\n",
       "  release_date  chart_week position  \n",
       "0   2020-03-26  2020-10-29       81  \n",
       "1   2020-03-26  2020-05-07       20  \n",
       "2   2020-03-26  2020-09-17       71  \n",
       "\n",
       "[3 rows x 8 columns]"
      ]
     },
     "execution_count": 12,
     "metadata": {},
     "output_type": "execute_result"
    }
   ],
   "source": [
    "# Associação um-para-muitos\n",
    "df5 = pd.merge(left=df3, right=df4, on='song_id', validate='one_to_many') # verificando\n",
    "df5.head(3)"
   ]
  },
  {
   "cell_type": "code",
   "execution_count": 14,
   "metadata": {},
   "outputs": [
    {
     "data": {
      "text/html": [
       "<div>\n",
       "<style scoped>\n",
       "    .dataframe tbody tr th:only-of-type {\n",
       "        vertical-align: middle;\n",
       "    }\n",
       "\n",
       "    .dataframe tbody tr th {\n",
       "        vertical-align: top;\n",
       "    }\n",
       "\n",
       "    .dataframe thead th {\n",
       "        text-align: right;\n",
       "    }\n",
       "</style>\n",
       "<table border=\"1\" class=\"dataframe\">\n",
       "  <thead>\n",
       "    <tr style=\"text-align: right;\">\n",
       "      <th></th>\n",
       "      <th>song_id</th>\n",
       "      <th>song_name</th>\n",
       "      <th>artist_id</th>\n",
       "      <th>...</th>\n",
       "      <th>chart_week</th>\n",
       "      <th>position</th>\n",
       "      <th>streams</th>\n",
       "    </tr>\n",
       "  </thead>\n",
       "  <tbody>\n",
       "    <tr>\n",
       "      <th>0</th>\n",
       "      <td>2rRJrJEo19S2J82BDsQ3F7</td>\n",
       "      <td>Falling</td>\n",
       "      <td>['7uaIm6Pw7xplS8Dy06V6pT']</td>\n",
       "      <td>...</td>\n",
       "      <td>2020-10-29</td>\n",
       "      <td>81</td>\n",
       "      <td>7517622</td>\n",
       "    </tr>\n",
       "    <tr>\n",
       "      <th>1</th>\n",
       "      <td>2rRJrJEo19S2J82BDsQ3F7</td>\n",
       "      <td>Falling</td>\n",
       "      <td>['7uaIm6Pw7xplS8Dy06V6pT']</td>\n",
       "      <td>...</td>\n",
       "      <td>2020-05-07</td>\n",
       "      <td>20</td>\n",
       "      <td>16751384</td>\n",
       "    </tr>\n",
       "    <tr>\n",
       "      <th>2</th>\n",
       "      <td>2rRJrJEo19S2J82BDsQ3F7</td>\n",
       "      <td>Falling</td>\n",
       "      <td>['7uaIm6Pw7xplS8Dy06V6pT']</td>\n",
       "      <td>...</td>\n",
       "      <td>2020-09-17</td>\n",
       "      <td>71</td>\n",
       "      <td>7944403</td>\n",
       "    </tr>\n",
       "  </tbody>\n",
       "</table>\n",
       "<p>3 rows × 9 columns</p>\n",
       "</div>"
      ],
      "text/plain": [
       "                  song_id song_name                   artist_id  ...  \\\n",
       "0  2rRJrJEo19S2J82BDsQ3F7   Falling  ['7uaIm6Pw7xplS8Dy06V6pT']  ...   \n",
       "1  2rRJrJEo19S2J82BDsQ3F7   Falling  ['7uaIm6Pw7xplS8Dy06V6pT']  ...   \n",
       "2  2rRJrJEo19S2J82BDsQ3F7   Falling  ['7uaIm6Pw7xplS8Dy06V6pT']  ...   \n",
       "\n",
       "   chart_week  position   streams  \n",
       "0  2020-10-29        81   7517622  \n",
       "1  2020-05-07        20  16751384  \n",
       "2  2020-09-17        71   7944403  \n",
       "\n",
       "[3 rows x 9 columns]"
      ]
     },
     "execution_count": 14,
     "metadata": {},
     "output_type": "execute_result"
    }
   ],
   "source": [
    "# Associação muitos-para-muitos\n",
    "df7 = pd.merge(left=df5, right=df6, on=['song_id','chart_week'], validate='many_to_many') # verificando\n",
    "df7.head(3)"
   ]
  },
  {
   "cell_type": "markdown",
   "metadata": {},
   "source": [
    "**SIM!** Está tudo correto! :)\n",
    "\n",
    "Se o tipo das associações das junções anteriores estivessem incorretas, ou seja, se a validação falhasse, a função geraria um `MergeError`.\n",
    "\n",
    "> **Vamos fazer um exemplo teste?**\n",
    "\n",
    "Vamos tentar unir as tabelas `df4` e `df5`, que possuem **chaves** duplicadas da **coluna-chave** `song_id`, utilizando a associação **um-para-muitos**."
   ]
  },
  {
   "cell_type": "code",
   "execution_count": 21,
   "metadata": {},
   "outputs": [
    {
     "ename": "MergeError",
     "evalue": "Merge keys are not unique in left dataset; not a one-to-many merge",
     "output_type": "error",
     "traceback": [
      "\u001b[1;31m---------------------------------------------------------------------------\u001b[0m",
      "\u001b[1;31mMergeError\u001b[0m                                Traceback (most recent call last)",
      "\u001b[1;32m<ipython-input-21-f01f75a3cbcd>\u001b[0m in \u001b[0;36m<module>\u001b[1;34m\u001b[0m\n\u001b[0;32m      1\u001b[0m \u001b[1;31m# Testando uma validação incorreta\u001b[0m\u001b[1;33m\u001b[0m\u001b[1;33m\u001b[0m\u001b[1;33m\u001b[0m\u001b[0m\n\u001b[1;32m----> 2\u001b[1;33m \u001b[0mpd\u001b[0m\u001b[1;33m.\u001b[0m\u001b[0mmerge\u001b[0m\u001b[1;33m(\u001b[0m\u001b[0mleft\u001b[0m\u001b[1;33m=\u001b[0m\u001b[0mdf4\u001b[0m\u001b[1;33m,\u001b[0m \u001b[0mright\u001b[0m\u001b[1;33m=\u001b[0m\u001b[0mdf5\u001b[0m\u001b[1;33m,\u001b[0m \u001b[0mon\u001b[0m\u001b[1;33m=\u001b[0m\u001b[1;34m'song_id'\u001b[0m\u001b[1;33m,\u001b[0m \u001b[0mvalidate\u001b[0m\u001b[1;33m=\u001b[0m\u001b[1;34m'one_to_many'\u001b[0m\u001b[1;33m)\u001b[0m \u001b[1;31m# verificando\u001b[0m\u001b[1;33m\u001b[0m\u001b[1;33m\u001b[0m\u001b[0m\n\u001b[0m",
      "\u001b[1;32mc:\\python38\\lib\\site-packages\\pandas\\core\\reshape\\merge.py\u001b[0m in \u001b[0;36mmerge\u001b[1;34m(left, right, how, on, left_on, right_on, left_index, right_index, sort, suffixes, copy, indicator, validate)\u001b[0m\n\u001b[0;32m     71\u001b[0m     \u001b[0mvalidate\u001b[0m\u001b[1;33m=\u001b[0m\u001b[1;32mNone\u001b[0m\u001b[1;33m,\u001b[0m\u001b[1;33m\u001b[0m\u001b[1;33m\u001b[0m\u001b[0m\n\u001b[0;32m     72\u001b[0m ) -> \"DataFrame\":\n\u001b[1;32m---> 73\u001b[1;33m     op = _MergeOperation(\n\u001b[0m\u001b[0;32m     74\u001b[0m         \u001b[0mleft\u001b[0m\u001b[1;33m,\u001b[0m\u001b[1;33m\u001b[0m\u001b[1;33m\u001b[0m\u001b[0m\n\u001b[0;32m     75\u001b[0m         \u001b[0mright\u001b[0m\u001b[1;33m,\u001b[0m\u001b[1;33m\u001b[0m\u001b[1;33m\u001b[0m\u001b[0m\n",
      "\u001b[1;32mc:\\python38\\lib\\site-packages\\pandas\\core\\reshape\\merge.py\u001b[0m in \u001b[0;36m__init__\u001b[1;34m(self, left, right, how, on, left_on, right_on, axis, left_index, right_index, sort, suffixes, copy, indicator, validate)\u001b[0m\n\u001b[0;32m    635\u001b[0m         \u001b[1;31m# are in fact unique.\u001b[0m\u001b[1;33m\u001b[0m\u001b[1;33m\u001b[0m\u001b[1;33m\u001b[0m\u001b[0m\n\u001b[0;32m    636\u001b[0m         \u001b[1;32mif\u001b[0m \u001b[0mvalidate\u001b[0m \u001b[1;32mis\u001b[0m \u001b[1;32mnot\u001b[0m \u001b[1;32mNone\u001b[0m\u001b[1;33m:\u001b[0m\u001b[1;33m\u001b[0m\u001b[1;33m\u001b[0m\u001b[0m\n\u001b[1;32m--> 637\u001b[1;33m             \u001b[0mself\u001b[0m\u001b[1;33m.\u001b[0m\u001b[0m_validate\u001b[0m\u001b[1;33m(\u001b[0m\u001b[0mvalidate\u001b[0m\u001b[1;33m)\u001b[0m\u001b[1;33m\u001b[0m\u001b[1;33m\u001b[0m\u001b[0m\n\u001b[0m\u001b[0;32m    638\u001b[0m \u001b[1;33m\u001b[0m\u001b[0m\n\u001b[0;32m    639\u001b[0m     \u001b[1;32mdef\u001b[0m \u001b[0mget_result\u001b[0m\u001b[1;33m(\u001b[0m\u001b[0mself\u001b[0m\u001b[1;33m)\u001b[0m\u001b[1;33m:\u001b[0m\u001b[1;33m\u001b[0m\u001b[1;33m\u001b[0m\u001b[0m\n",
      "\u001b[1;32mc:\\python38\\lib\\site-packages\\pandas\\core\\reshape\\merge.py\u001b[0m in \u001b[0;36m_validate\u001b[1;34m(self, validate)\u001b[0m\n\u001b[0;32m   1263\u001b[0m         \u001b[1;32melif\u001b[0m \u001b[0mvalidate\u001b[0m \u001b[1;32min\u001b[0m \u001b[1;33m[\u001b[0m\u001b[1;34m\"one_to_many\"\u001b[0m\u001b[1;33m,\u001b[0m \u001b[1;34m\"1:m\"\u001b[0m\u001b[1;33m]\u001b[0m\u001b[1;33m:\u001b[0m\u001b[1;33m\u001b[0m\u001b[1;33m\u001b[0m\u001b[0m\n\u001b[0;32m   1264\u001b[0m             \u001b[1;32mif\u001b[0m \u001b[1;32mnot\u001b[0m \u001b[0mleft_unique\u001b[0m\u001b[1;33m:\u001b[0m\u001b[1;33m\u001b[0m\u001b[1;33m\u001b[0m\u001b[0m\n\u001b[1;32m-> 1265\u001b[1;33m                 raise MergeError(\n\u001b[0m\u001b[0;32m   1266\u001b[0m                     \u001b[1;34m\"Merge keys are not unique in left dataset; \"\u001b[0m\u001b[1;33m\u001b[0m\u001b[1;33m\u001b[0m\u001b[0m\n\u001b[0;32m   1267\u001b[0m                     \u001b[1;34m\"not a one-to-many merge\"\u001b[0m\u001b[1;33m\u001b[0m\u001b[1;33m\u001b[0m\u001b[0m\n",
      "\u001b[1;31mMergeError\u001b[0m: Merge keys are not unique in left dataset; not a one-to-many merge"
     ]
    }
   ],
   "source": [
    "# Testando uma validação incorreta\n",
    "pd.merge(left=df4, right=df5, on='song_id', validate='one_to_many') # verificando"
   ]
  },
  {
   "cell_type": "markdown",
   "metadata": {},
   "source": [
    "Como esperado, a função lançou um `MergeError` indicando que o *DataFrame* da esquerda possui **chaves** duplicadas, o que não é aceitável em uma associação do tipo **um-para-muitos**."
   ]
  },
  {
   "cell_type": "markdown",
   "metadata": {},
   "source": [
    "---\n",
    "## TIPOS DE JUNÇÕES"
   ]
  },
  {
   "cell_type": "markdown",
   "metadata": {},
   "source": [
    "Além das associações, a função `merge()` disponibiliza quatro tipos de junções:\n",
    "\n",
    "* `inner`: o tipo de junção *default* da função `merge()`, e se baseia na **interseção** de **chaves** de ambos os *DataFrames*\n",
    "* `outer`: se baseia na **união** de **chaves** do *DataFrame* esquerdo e os registros correspondentes do *DataFrame* direito\n",
    "* `left`: usa apenas as **chaves** do *DataFrame* esquerdo\n",
    "* `right`: usa apenas as **chaves** do *DataFrame* direito\n",
    "\n",
    "---\n",
    "\n",
    "<img src=\"figure4.png\" alt=\"tipos de junção\" style=\"width: 700px;\"/>\n"
   ]
  },
  {
   "cell_type": "markdown",
   "metadata": {},
   "source": [
    "### EXEMPLOS\n",
    "\n",
    "Para exemplificar, nós usaremos as três tabelas do nosso conjunto de dados\n",
    "\n",
    "<img src=\"figure5.png\" alt=\"schema\" style=\"width: 700px;\"/>\n",
    "\n"
   ]
  },
  {
   "cell_type": "code",
   "execution_count": 22,
   "metadata": {},
   "outputs": [
    {
     "data": {
      "text/html": [
       "<style  type=\"text/css\" >\n",
       "</style><table id=\"T_ee5f59af_e736_11eb_b455_00155dad103f\" style='display:inline'><caption>Charts</caption><thead>    <tr>        <th class=\"blank level0\" ></th>        <th class=\"col_heading level0 col0\" >position</th>        <th class=\"col_heading level0 col1\" >streams</th>        <th class=\"col_heading level0 col2\" >song_id</th>    </tr></thead><tbody>\n",
       "                <tr>\n",
       "                        <th id=\"T_ee5f59af_e736_11eb_b455_00155dad103flevel0_row0\" class=\"row_heading level0 row0\" >0</th>\n",
       "                        <td id=\"T_ee5f59af_e736_11eb_b455_00155dad103frow0_col0\" class=\"data row0 col0\" >1</td>\n",
       "                        <td id=\"T_ee5f59af_e736_11eb_b455_00155dad103frow0_col1\" class=\"data row0 col1\" >50183626</td>\n",
       "                        <td id=\"T_ee5f59af_e736_11eb_b455_00155dad103frow0_col2\" class=\"data row0 col2\" >1rgnBhdG2JDFTbYkYRZAku</td>\n",
       "            </tr>\n",
       "            <tr>\n",
       "                        <th id=\"T_ee5f59af_e736_11eb_b455_00155dad103flevel0_row1\" class=\"row_heading level0 row1\" >1</th>\n",
       "                        <td id=\"T_ee5f59af_e736_11eb_b455_00155dad103frow1_col0\" class=\"data row1 col0\" >2</td>\n",
       "                        <td id=\"T_ee5f59af_e736_11eb_b455_00155dad103frow1_col1\" class=\"data row1 col1\" >33254585</td>\n",
       "                        <td id=\"T_ee5f59af_e736_11eb_b455_00155dad103frow1_col2\" class=\"data row1 col2\" >696DnlkuDOXcMAnKlTgXXK</td>\n",
       "            </tr>\n",
       "            <tr>\n",
       "                        <th id=\"T_ee5f59af_e736_11eb_b455_00155dad103flevel0_row2\" class=\"row_heading level0 row2\" >2</th>\n",
       "                        <td id=\"T_ee5f59af_e736_11eb_b455_00155dad103frow2_col0\" class=\"data row2 col0\" >3</td>\n",
       "                        <td id=\"T_ee5f59af_e736_11eb_b455_00155dad103frow2_col1\" class=\"data row2 col1\" >29349573</td>\n",
       "                        <td id=\"T_ee5f59af_e736_11eb_b455_00155dad103frow2_col2\" class=\"data row2 col2\" >7k4t7uLgtOxPwTpFmtJNTY</td>\n",
       "            </tr>\n",
       "    </tbody></table>   <style  type=\"text/css\" >\n",
       "</style><table id=\"T_ee609237_e736_11eb_9d8b_00155dad103f\" style='display:inline'><caption>Tracks</caption><thead>    <tr>        <th class=\"blank level0\" ></th>        <th class=\"col_heading level0 col0\" >song_id</th>        <th class=\"col_heading level0 col1\" >song_name</th>        <th class=\"col_heading level0 col2\" >artist_id</th>        <th class=\"col_heading level0 col3\" >popularity</th>        <th class=\"col_heading level0 col4\" >song_type</th>    </tr></thead><tbody>\n",
       "                <tr>\n",
       "                        <th id=\"T_ee609237_e736_11eb_9d8b_00155dad103flevel0_row0\" class=\"row_heading level0 row0\" >0</th>\n",
       "                        <td id=\"T_ee609237_e736_11eb_9d8b_00155dad103frow0_col0\" class=\"data row0 col0\" >2rRJrJEo19S2J82BDsQ3F7</td>\n",
       "                        <td id=\"T_ee609237_e736_11eb_9d8b_00155dad103frow0_col1\" class=\"data row0 col1\" >Falling</td>\n",
       "                        <td id=\"T_ee609237_e736_11eb_9d8b_00155dad103frow0_col2\" class=\"data row0 col2\" >['7uaIm6Pw7xplS8Dy06V6pT']</td>\n",
       "                        <td id=\"T_ee609237_e736_11eb_9d8b_00155dad103frow0_col3\" class=\"data row0 col3\" >77</td>\n",
       "                        <td id=\"T_ee609237_e736_11eb_9d8b_00155dad103frow0_col4\" class=\"data row0 col4\" >Solo</td>\n",
       "            </tr>\n",
       "            <tr>\n",
       "                        <th id=\"T_ee609237_e736_11eb_9d8b_00155dad103flevel0_row1\" class=\"row_heading level0 row1\" >1</th>\n",
       "                        <td id=\"T_ee609237_e736_11eb_9d8b_00155dad103frow1_col0\" class=\"data row1 col0\" >3BYIzNZ3t9lRQCACXSMLrT</td>\n",
       "                        <td id=\"T_ee609237_e736_11eb_9d8b_00155dad103frow1_col1\" class=\"data row1 col1\" >Venetia</td>\n",
       "                        <td id=\"T_ee609237_e736_11eb_9d8b_00155dad103frow1_col2\" class=\"data row1 col2\" >['4O15NlyKLIASxsJ0PrXPfz']</td>\n",
       "                        <td id=\"T_ee609237_e736_11eb_9d8b_00155dad103frow1_col3\" class=\"data row1 col3\" >66</td>\n",
       "                        <td id=\"T_ee609237_e736_11eb_9d8b_00155dad103frow1_col4\" class=\"data row1 col4\" >Solo</td>\n",
       "            </tr>\n",
       "            <tr>\n",
       "                        <th id=\"T_ee609237_e736_11eb_9d8b_00155dad103flevel0_row2\" class=\"row_heading level0 row2\" >2</th>\n",
       "                        <td id=\"T_ee609237_e736_11eb_9d8b_00155dad103frow2_col0\" class=\"data row2 col0\" >1g3J9W88hTG173ySZR6E9S</td>\n",
       "                        <td id=\"T_ee609237_e736_11eb_9d8b_00155dad103frow2_col1\" class=\"data row2 col1\" >Tilidin Weg</td>\n",
       "                        <td id=\"T_ee609237_e736_11eb_9d8b_00155dad103frow2_col2\" class=\"data row2 col2\" >['1aS5tqEs9ci5P9KD9tZWa6']</td>\n",
       "                        <td id=\"T_ee609237_e736_11eb_9d8b_00155dad103frow2_col3\" class=\"data row2 col3\" >13</td>\n",
       "                        <td id=\"T_ee609237_e736_11eb_9d8b_00155dad103frow2_col4\" class=\"data row2 col4\" >Solo</td>\n",
       "            </tr>\n",
       "    </tbody></table>   <style  type=\"text/css\" >\n",
       "</style><table id=\"T_ee612e5e_e736_11eb_962a_00155dad103f\" style='display:inline'><caption>Artists</caption><thead>    <tr>        <th class=\"blank level0\" ></th>        <th class=\"col_heading level0 col0\" >artist_id</th>        <th class=\"col_heading level0 col1\" >name</th>        <th class=\"col_heading level0 col2\" >followers</th>        <th class=\"col_heading level0 col3\" >popularity</th>    </tr></thead><tbody>\n",
       "                <tr>\n",
       "                        <th id=\"T_ee612e5e_e736_11eb_962a_00155dad103flevel0_row0\" class=\"row_heading level0 row0\" >0</th>\n",
       "                        <td id=\"T_ee612e5e_e736_11eb_962a_00155dad103frow0_col0\" class=\"data row0 col0\" >4gzpq5DPGxSnKTe4SA8HAU</td>\n",
       "                        <td id=\"T_ee612e5e_e736_11eb_962a_00155dad103frow0_col1\" class=\"data row0 col1\" >Coldplay</td>\n",
       "                        <td id=\"T_ee612e5e_e736_11eb_962a_00155dad103frow0_col2\" class=\"data row0 col2\" >29397183</td>\n",
       "                        <td id=\"T_ee612e5e_e736_11eb_962a_00155dad103frow0_col3\" class=\"data row0 col3\" >90</td>\n",
       "            </tr>\n",
       "            <tr>\n",
       "                        <th id=\"T_ee612e5e_e736_11eb_962a_00155dad103flevel0_row1\" class=\"row_heading level0 row1\" >1</th>\n",
       "                        <td id=\"T_ee612e5e_e736_11eb_962a_00155dad103frow1_col0\" class=\"data row1 col0\" >6Te49r3A6f5BiIgBRxH7FH</td>\n",
       "                        <td id=\"T_ee612e5e_e736_11eb_962a_00155dad103frow1_col1\" class=\"data row1 col1\" >Ninho</td>\n",
       "                        <td id=\"T_ee612e5e_e736_11eb_962a_00155dad103frow1_col2\" class=\"data row1 col2\" >4239063</td>\n",
       "                        <td id=\"T_ee612e5e_e736_11eb_962a_00155dad103frow1_col3\" class=\"data row1 col3\" >84</td>\n",
       "            </tr>\n",
       "            <tr>\n",
       "                        <th id=\"T_ee612e5e_e736_11eb_962a_00155dad103flevel0_row2\" class=\"row_heading level0 row2\" >2</th>\n",
       "                        <td id=\"T_ee612e5e_e736_11eb_962a_00155dad103frow2_col0\" class=\"data row2 col0\" >4QrBoWLm2WNlPdbFhmlaUZ</td>\n",
       "                        <td id=\"T_ee612e5e_e736_11eb_962a_00155dad103frow2_col1\" class=\"data row2 col1\" >KEVVO</td>\n",
       "                        <td id=\"T_ee612e5e_e736_11eb_962a_00155dad103frow2_col2\" class=\"data row2 col2\" >167419</td>\n",
       "                        <td id=\"T_ee612e5e_e736_11eb_962a_00155dad103frow2_col3\" class=\"data row2 col3\" >75</td>\n",
       "            </tr>\n",
       "    </tbody></table>   "
      ],
      "text/plain": [
       "<IPython.core.display.HTML object>"
      ]
     },
     "metadata": {},
     "output_type": "display_data"
    }
   ],
   "source": [
    "# Lendo os dados\n",
    "charts = pd.read_table('../dataset/spotify_charts_complete.tsv',\n",
    "    usecols=['song_id', 'streams', 'position'], # seleciona campos específicos\n",
    "    encoding='utf-8')\n",
    "tracks = pd.read_table('../dataset/spotify_hits_dataset_complete.tsv',\n",
    "    usecols=['song_id', 'song_name', 'artist_id', 'popularity', 'song_type'], # seleciona campos específicos\n",
    "    encoding='utf-8')\n",
    "artists = pd.read_table('../dataset/spotify_artists_info_complete.tsv',\n",
    "    usecols=['artist_id', 'name', 'followers', 'popularity'], # seleciona campos específicos\n",
    "    encoding='utf-8')\n",
    "\n",
    "display_side_by_side([charts.head(3), tracks.head(3), artists.head(3)], ['Charts', 'Tracks', 'Artists'])"
   ]
  },
  {
   "cell_type": "code",
   "execution_count": null,
   "metadata": {},
   "outputs": [],
   "source": []
  },
  {
   "cell_type": "markdown",
   "metadata": {},
   "source": [
    "### Conclusão\n",
    "\n",
    "Este notebook apresentou como fazer a integração de dados de diferentes fontes.\n",
    "\n",
    "O próximo notebook ([4.2.Transformacao.ipynb](4.2.Transformacao.ipynb)) apresenta como transformar dados de diferentes formatos em um formato suportado pelo processo de pesquisa."
   ]
  },
  {
   "cell_type": "code",
   "execution_count": null,
   "metadata": {},
   "outputs": [],
   "source": []
  }
 ],
 "metadata": {
  "julynter-results": {
   "filteredId": [],
   "filteredIndividual": [],
   "filteredRestart": [],
   "filteredType": [],
   "hash": "54ddb368d9f7cf46f2f0eb7e1cec7b2db4667dd4",
   "visible": []
  },
  "kernelspec": {
   "display_name": "Python 3",
   "language": "python",
   "name": "python3"
  },
  "language_info": {
   "codemirror_mode": {
    "name": "ipython",
    "version": 3
   },
   "file_extension": ".py",
   "mimetype": "text/x-python",
   "name": "python",
   "nbconvert_exporter": "python",
   "pygments_lexer": "ipython3",
   "version": "3.8.2"
  },
  "latex_envs": {
   "LaTeX_envs_menu_present": true,
   "autoclose": true,
   "autocomplete": true,
   "bibliofile": "biblio.bib",
   "cite_by": "apalike",
   "current_citInitial": 1,
   "eqLabelWithNumbers": true,
   "eqNumInitial": 1,
   "hotkeys": {
    "equation": "Ctrl-E",
    "itemize": "Ctrl-I"
   },
   "labels_anchors": false,
   "latex_user_defs": false,
   "report_style_numbering": false,
   "user_envs_cfg": false
  },
  "varInspector": {
   "cols": {
    "lenName": 16,
    "lenType": 16,
    "lenVar": 40
   },
   "kernels_config": {
    "python": {
     "delete_cmd_postfix": "",
     "delete_cmd_prefix": "del ",
     "library": "var_list.py",
     "varRefreshCmd": "print(var_dic_list())"
    },
    "r": {
     "delete_cmd_postfix": ") ",
     "delete_cmd_prefix": "rm(",
     "library": "var_list.r",
     "varRefreshCmd": "cat(var_dic_list()) "
    }
   },
   "types_to_exclude": [
    "module",
    "function",
    "builtin_function_or_method",
    "instance",
    "_Feature"
   ],
   "window_display": false
  }
 },
 "nbformat": 4,
 "nbformat_minor": 4
}
