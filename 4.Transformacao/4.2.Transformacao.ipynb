{
 "cells": [
  {
   "cell_type": "code",
   "execution_count": null,
   "metadata": {},
   "outputs": [],
   "source": [
    "# Importando os pacotes necessários\n",
    "import pandas as pd\n",
    "import numpy as np\n",
    "\n",
    "from sklearn.linear_model import LogisticRegression\n",
    "from sklearn.metrics import accuracy_score\n",
    "from sklearn.utils import resample\n",
    "from sklearn.preprocessing import MinMaxScaler, StandardScaler"
   ]
  },
  {
   "cell_type": "code",
   "execution_count": null,
   "metadata": {},
   "outputs": [],
   "source": [
    "# Comandos auxiliares\n",
    "from IPython.core.display import display, HTML\n",
    "pd.set_option('display.max_columns', 10)\n",
    "pd.options.mode.chained_assignment = None  # default='warn'\n",
    "\n",
    "def display_side_by_side(dfs: list, captions: list):\n",
    "    \"\"\"Display tables side by side to save vertical space\n",
    "    Input:\n",
    "        dfs: list of pandas.DataFrame\n",
    "        captions: list of table captions\n",
    "    \"\"\"\n",
    "    output = \"\"\n",
    "    combined = dict(zip(captions, dfs))\n",
    "    for caption, df in combined.items():\n",
    "        output += df.style.set_table_attributes(\n",
    "            \"style='display:inline'\").set_caption(caption)._repr_html_()\n",
    "        output += \"\\xa0\\xa0\\xa0\"\n",
    "    display(HTML(output))"
   ]
  },
  {
   "cell_type": "markdown",
   "metadata": {},
   "source": [
    "# Transformação de Dados\n",
    "---\n",
    "\n",
    "Em geral, após um processo de <ins>**Integração de dados**</ins>, colunas com diferentes tipos de dados podem ser geradas. \n",
    "\n",
    "Na <ins>**Transformação de dados**</ins>, o principal objetivo é exatamente **transformar** esses dados de diferentes formatos em um formato suportado pelo processo de pesquisa, e.g., modelos e algoritmos. \n",
    "\n",
    "A <ins>**Transformação de dados**</ins> possui algumas etapas em comum com a <ins>**Limpeza de dados**</ins>, incluindo técnicas de remoção de ruído e discretização de dados. \n",
    "\n",
    "Portanto, nesta etapa, nós vamos focar nas técnicas que ainda não foram abordadas até aqui."
   ]
  },
  {
   "cell_type": "markdown",
   "metadata": {},
   "source": [
    "## Dados não padronizados\n",
    "\n",
    "Dados coletados de diferentes fontes podem reunir dados **heterogêneos**, **não padronizados** e em **diferentes escalas** que muitas vezes necessitam um pré-processamento, i.e., uma etapa de escalonamento. \n",
    "\n",
    "O escalonamento de tais dados não é uma etapa obrigatória, mas uma boa prática! \n",
    "\n",
    "> **Mas... Por que precisamos dimensionar as variáveis em nosso conjunto de dados?** 🤔\n",
    "\n",
    "> *Muitos algoritmos de Aprendizado de Máquina apresentam um melhor desempenho quando as variáveis numéricas de entrada são padronizadas.*\n",
    "\n",
    "Isso inclui algoritmos que usam uma soma ponderada da entrada como, por exemplo, a regressão linhear e algoritmos que usam medidas de distância, como os algoritmos K-means e K-NN."
   ]
  },
  {
   "cell_type": "markdown",
   "metadata": {},
   "source": [
    "Existem algumas técnicas de escalonamento que **transformam** características para uma escala, magnitude ou intervalo. \n",
    "\n",
    "Para descrever e exemplicar cada uma delas, utilizaremos o conjunto de atributos numéricos que descrevem as músicas do Spotify. Ou seja, vamos utilizar a tabela `Tracks` do nosso conjunto de dados. "
   ]
  },
  {
   "cell_type": "code",
   "execution_count": null,
   "metadata": {},
   "outputs": [],
   "source": [
    "# Lendo os dados\n",
    "data = pd.read_table('../dataset/spotify_hits_dataset_complete.tsv', encoding='utf-8')\n",
    "data.head(3)"
   ]
  },
  {
   "cell_type": "code",
   "execution_count": null,
   "metadata": {},
   "outputs": [],
   "source": [
    "# Selecionando apenas as variáveis numéricas\n",
    "df = data.select_dtypes(include=['number'])\n",
    "# print(df.columns.values) # imprime as colunas restantes"
   ]
  },
  {
   "cell_type": "markdown",
   "metadata": {},
   "source": [
    "Depois de selecionar as variáveis numéricas da nossa tabela, ficamos com as seguintes informações:\n",
    "\n",
    "* `popularity`: *score* de popularidade da track (o valor varia entre 0 e 100, sendo 100 o mais popular)\n",
    "* `track_number`: número da track no um álbum que ela pertence\n",
    "* `num_artists`: número total de intérpretes da track\n",
    "* `num_available_markets`: número total de países nos quais a track pode ser reproduzida\n",
    "* `duration_ms`: duração da track em milissegundos\n",
    "* [`key` - `tempo`]: características acústicas da track\n",
    "\n",
    "Utilizando esses atributos, nós iremos explorar dois tipos de escalonamento: *Normalização* e *Padronização*."
   ]
  },
  {
   "cell_type": "markdown",
   "metadata": {},
   "source": [
    "### NORMALIZAÇÃO\n",
    "\n",
    "A *Normalização* é uma técnica de escalonamento em que os valores são **deslocados** e **redimensionados** para que fiquem entre 0 e 1. Essa técnica também é conhecida como nomarlização *Min-Max* e é usada para **transformar** dados em uma <ins>escala semelhante</ins>.\n",
    "\n",
    "A fórmula da *Normalização* é dada por:\n",
    "\n",
    "$$X' = \\frac{X - X_{min}}{X_{max} - X_{min}},$$\n",
    "\n",
    "onde $X_{max}$ e $X_{min}$ são os valores máximo e mínimo do atributo, respectivamente.\n",
    "\n",
    "**RESUMINDO**\n",
    "* O valor mínimo da coluna será transformado em 0\n",
    "* O valor máximo da coluna será transformado em 1\n",
    "* Os valores que estiverem entre o valor mínimo e máximo, estarão entre o intervalo de 0 a 1\n",
    "\n",
    "#### EXEMPLO\n",
    "No exemplo a seguir, nós iremos normalizar todas as colunas numéricas da tabela `Tracks`.\n",
    "\n",
    "Isto é, para cada atributo (i.e., coluna), nós aplicaremos a fórmula da *Normalização Min-Max*. \n",
    "\n",
    "Para isso, nós utilizaremos os métodos `min()` e `max()` do *pandas*:"
   ]
  },
  {
   "cell_type": "code",
   "execution_count": null,
   "metadata": {
    "cell_style": "center"
   },
   "outputs": [],
   "source": [
    "df_norm = df.copy()  # cópia do DataFrame\n",
    "\n",
    "# Para cada coluna de df_norm,\n",
    "for coluna in df_norm.columns:\n",
    "    \n",
    "    # Normalização Min-Max\n",
    "    X = df_norm[[coluna]]\n",
    "    df_norm[[coluna]] = (X - X.min()) / (X.max() - X.min())\n",
    "\n",
    "display_side_by_side([df.head(3), df_norm.head(3)], ['Original', 'Normalizado']) # imprime as 3 primeiras linhas"
   ]
  },
  {
   "cell_type": "markdown",
   "metadata": {},
   "source": [
    "#### ⚠️ OBSERVAÇÕES\n",
    "\n",
    "Note que nós utilizamos `df_norm[[coluna]]` para selecionar as entradas de uma determinada coluna do nosso *DataFrame*, ao invés de apenas `df_norm[coluna]`.\n",
    "\n",
    "> **Qual a diferença?** 🤔\n",
    "\n",
    "Utilizando o método `type()` nós conseguimos verificar o tipo de classe do argumento passado como parâmetro:"
   ]
  },
  {
   "cell_type": "code",
   "execution_count": null,
   "metadata": {},
   "outputs": [],
   "source": [
    "type(df['popularity'])"
   ]
  },
  {
   "cell_type": "code",
   "execution_count": null,
   "metadata": {},
   "outputs": [],
   "source": [
    "type(df[['popularity']])"
   ]
  },
  {
   "cell_type": "markdown",
   "metadata": {},
   "source": [
    "Portanto, quando utilizamos `[[]]`, é retornado um *DataFrame* formado apenas pelas colunas passadas por parâmetro. Já quando utilizamos `[]`, uma *Series* é retornada. Neste último caso, apenas uma coluna pode ser passada como parâmetro. Caso contrário, o seguinte erro será retornado:"
   ]
  },
  {
   "cell_type": "code",
   "execution_count": null,
   "metadata": {},
   "outputs": [],
   "source": [
    "df['popularity','track_number'].head(3)"
   ]
  },
  {
   "cell_type": "code",
   "execution_count": null,
   "metadata": {},
   "outputs": [],
   "source": [
    "df[['popularity','track_number']].head(3)"
   ]
  },
  {
   "cell_type": "markdown",
   "metadata": {},
   "source": [
    "#### EXEMPLO AVANÇADO\n",
    "\n",
    "Uma outra forma de aplicar a *Normalização Min-Max* é utilizando o módulo `sklearn.preprocessing` e a classe `MinMaxScaler()` da biblioteca *sklearn*:"
   ]
  },
  {
   "cell_type": "code",
   "execution_count": null,
   "metadata": {},
   "outputs": [],
   "source": [
    "df_norm_2 = df.copy()  # cópia do DataFrame\n",
    "min_max_scaler = MinMaxScaler() # inicializa o transformador\n",
    "\n",
    "# Para cada coluna de df_norm_2,\n",
    "for coluna in df_norm_2.columns:\n",
    "    \n",
    "    # Normalização Min-Max\n",
    "    df_norm_2[[coluna]] = min_max_scaler.fit_transform(df_norm_2[[coluna]])\n",
    "\n",
    "display_side_by_side([df_norm.head(3), df_norm_2.head(3)], ['Normalização com pandas', 'Normalização com sklearn']) # imprime as 3 primeiras linhas"
   ]
  },
  {
   "cell_type": "markdown",
   "metadata": {
    "cell_style": "center"
   },
   "source": [
    "### PADRONIZAÇÃO\n",
    "\n",
    "A *Padronização* é outra técnica de escalonamento em que os valores são **centralizados** em torno da média. Isso significa que a média de cada atributo se iguala a 0 e a distribuição resultante tem um desvio padrão igual a 1.\n",
    "\n",
    "A fórmula da *Padronização* é dada por:\n",
    "\n",
    "$$X' = \\frac{X - \\mu}{\\sigma},$$\n",
    "\n",
    "onde $\\mu$ e $\\sigma$ são a média e o desvio padrão dos valores do atributo, respectivamente.\n",
    "\n",
    "#### EXEMPLO\n",
    "No exemplo a seguir, nós iremos padronizar todas as colunas numéricas da tabela `Tracks`.\n",
    "\n",
    "Isto é, para cada coluna, os valores serão subtraídos pela média e divididos pelo desvio padrão, aplicando a fórmula descrita anteriormente. Para isso, nós utilizaremos os métodos `mean()` e `std()` do *pandas*:"
   ]
  },
  {
   "cell_type": "code",
   "execution_count": null,
   "metadata": {},
   "outputs": [],
   "source": [
    "df_padron = df.copy()  # cópia do DataFrame\n",
    "\n",
    "# Para cada coluna de df_padron,\n",
    "for coluna in df_padron.columns:\n",
    "    \n",
    "    # Padronização\n",
    "    X = df_padron[[coluna]]\n",
    "    df_padron[[coluna]] = (X - X.mean()) / (X.std())\n",
    "\n",
    "display_side_by_side([df.head(3), df_padron.head(3)], ['Original', 'Padronizado']) # imprime as 3 primeiras linhas"
   ]
  },
  {
   "cell_type": "markdown",
   "metadata": {},
   "source": [
    "#### EXEMPLO AVANÇADO\n",
    "\n",
    "Uma outra forma de aplicar a *Padronização* é utilizando o módulo `sklearn.preprocessing` e a classe `StandardScaler()` da biblioteca *sklearn*:"
   ]
  },
  {
   "cell_type": "code",
   "execution_count": null,
   "metadata": {},
   "outputs": [],
   "source": [
    "df_padron_2 = df.copy()  # cópia do DataFrame\n",
    "standard_scaler = StandardScaler() # inicializa o transformador\n",
    "\n",
    "# Para cada coluna de df_padron_2,\n",
    "for coluna in df_padron_2.columns:\n",
    "    \n",
    "    # Padronização\n",
    "    df_padron_2[[coluna]] = standard_scaler.fit_transform(df_padron_2[[coluna]])\n",
    "\n",
    "display_side_by_side([df_padron.head(3), df_padron_2.head(3)], ['Padronização com pandas', 'Padronização com sklearn']) # imprime as 3 primeiras linhas"
   ]
  },
  {
   "cell_type": "markdown",
   "metadata": {},
   "source": [
    "---\n",
    "## Engenharia de características (Feature Engineering)\n",
    "\n",
    "Outra forma de **transformar** os dados é através da **Engenharia de características**. Nesta técnica, características de um conjunto de dados podem ser criadas ou removidas para melhorar o desempenho de modelos de Aprendizado de Máquina. \n",
    "\n",
    "Muitas técnicas de <ins>**Transformação**</ins> e <ins>**Limpeza de dados**</ins> também podem ser consideradas **Engenharia de características**, incluindo métodos de escalonamento, discretização e redução de dimensionalidade. \n",
    "\n",
    "Portanto, a seguir, nós vamos discutir algumas técnicas que ainda não foram abordadas."
   ]
  },
  {
   "cell_type": "markdown",
   "metadata": {},
   "source": [
    "#### EXEMPLO\n",
    "\n",
    "Para exemplificar, utilizaremos dessa vez as variáveis não-numéricas da tabela `Tracks`."
   ]
  },
  {
   "cell_type": "code",
   "execution_count": null,
   "metadata": {
    "cell_style": "center"
   },
   "outputs": [],
   "source": [
    "# Selecionando apenas variáveis não-numéricas\n",
    "df = data.select_dtypes(exclude=['number'])\n",
    "df = df.drop(columns=['song_id', 'song_name', 'artist_id', 'artist_name']) # removendo colunas desnecessárias\n",
    "# print(df.columns.values) # imprime as colunas restantes"
   ]
  },
  {
   "cell_type": "markdown",
   "metadata": {},
   "source": [
    "Depois de selecionar as variáveis não-numéricas da nossa tabela e de remover colunas desnecessárias (i.e., ids e nomes), ficamos com os seguintes dados:\n",
    "\n",
    "* `explicit`: *flag* indicando se a track contém conteúdo explícito\n",
    "* `song_type`: se a track é do tipo *Solo* ou *Collaboration*\n",
    "* `release_date`: data de lançamento da track\n",
    "\n",
    "Utilizando esses atributos, nós iremos explorar duas formas de **Engenharia de características**: \n",
    "\n",
    "1. Converter variáveis categóricas em numéricas\n",
    "2. Criar novos atributos a partir de variáveis de data"
   ]
  },
  {
   "cell_type": "markdown",
   "metadata": {},
   "source": [
    "### DADOS CATEGÓRICOS\n",
    "\n",
    "Variáveis categóricas são atributos que só podem assumir um número limitado e, geralmente, fixo de valores possíveis. \n",
    "\n",
    "Por exemplo, as músicas do Spotify contêm dados categóricos para informar se as músicas são explícitas ou não (`explicit`). \n",
    "\n",
    "Ou seja, cada unidade de observação (i.e., música) é atribuída a um determinado grupo ou categoria nominal (i.e. [`False` ou `True`]). "
   ]
  },
  {
   "cell_type": "code",
   "execution_count": null,
   "metadata": {},
   "outputs": [],
   "source": [
    "df[['explicit']].head(3)"
   ]
  },
  {
   "cell_type": "markdown",
   "metadata": {},
   "source": [
    "Muitos algoritmos e modelos de Aprendizado de Máquina têm dificuldades em processar dados categóricos, necessitando alguma forma de **transformar** tais atributos em variáveis numéricas. \n",
    "\n",
    "Uma das abordagens mais simples e comuns é converter variáveis categóricas em *dummies* ou indicadores, utilizando a função `get_dummies()` do *pandas*, conforme o exemplo a seguir. "
   ]
  },
  {
   "cell_type": "code",
   "execution_count": null,
   "metadata": {
    "cell_style": "center",
    "scrolled": true
   },
   "outputs": [],
   "source": [
    "# Selecionando os atributos categóricos\n",
    "df = data[['explicit', 'song_type']].astype('category')\n",
    "\n",
    "# Convertendo em dummies\n",
    "df_dummies = pd.get_dummies(df)\n",
    "\n",
    "display_side_by_side([df.head(3), df_dummies.head(3)], ['Original', 'Transformado']) # imprime as 3 primeiras linhas"
   ]
  },
  {
   "cell_type": "markdown",
   "metadata": {},
   "source": [
    "O método `get_dummies()` cria uma nova coluna contendo 0s e 1s para cada categoria possível do atributo, onde:\n",
    "\n",
    "* `0`: indica que o dado não é daquela categoria\n",
    "* `1`: indica que o dado é daquela categoria \n",
    "\n",
    "Como os dois atributos têm apenas duas categorias possíveis, o método criou duas colunas para cada atributo."
   ]
  },
  {
   "cell_type": "markdown",
   "metadata": {},
   "source": [
    "### VARIÁVEIS DE DATA\n",
    "\n",
    "Datas e horários são fontes valiosas de informações que podem ser usadas em projetos de Ciência de Dados.\n",
    "\n",
    "Por exemplo, em um modelo de predição de sucesso musical, pode ser útil considerar a data de lançamento das músicas. De fato, existem casos onde o período de lançamento influencia diretamente no sucesso musical.\n",
    "**Exemplos:** músicas de Carnaval, músicas natalinas, músicas da Copa, etc.\n",
    " \n",
    "No entanto, tecnicamente, as variáveis de data requerem alguma **Engenharia de características** para **transformá-las** em dados numéricos antes de serem usadas pelos algoritmos de Aprendizado de Máquina. \n",
    "\n",
    "#### EXEMPLO\n",
    "\n",
    "Para exemplificar, utilizaremos a data de lançamento das músicas do Spotify (`release_date`) convertendo em formatos mais amigáveis, extraindo recursos e criando novas variáveis que podem ser usadas na análise de algum modelo. "
   ]
  },
  {
   "cell_type": "code",
   "execution_count": null,
   "metadata": {
    "cell_style": "center"
   },
   "outputs": [],
   "source": [
    "# Selecionando o id, nome e a data de lançamento das tracks\n",
    "df = data[['song_id', 'song_name', 'release_date']]\n",
    "df.head()"
   ]
  },
  {
   "cell_type": "markdown",
   "metadata": {},
   "source": [
    "O primeiro passo do processamento de datas é verificar se as variáveis estão em formato `datetime`.\n",
    "Para isso, podemos utilizar o `dtypes` para verificar o tipo de cada coluna do nosso *DataFrame*: "
   ]
  },
  {
   "cell_type": "code",
   "execution_count": null,
   "metadata": {},
   "outputs": [],
   "source": [
    "df.dtypes # verificando o tipo das colunas de df"
   ]
  },
  {
   "cell_type": "markdown",
   "metadata": {},
   "source": [
    "Como podemos notar, o tipo da variável `release_date` é `object` e não `datetime`. Portanto, precisamos convertê-la antes de passar para a **Engenharia de características**. Para isso, usaremos o método `to_datetime()` do *pandas*:"
   ]
  },
  {
   "cell_type": "code",
   "execution_count": null,
   "metadata": {},
   "outputs": [],
   "source": [
    "df['release_date'] = pd.to_datetime(df['release_date']) # convertendo a data de lançamento em 'datetime'\n",
    "df.dtypes # verificando o tipo das colunas de df"
   ]
  },
  {
   "cell_type": "markdown",
   "metadata": {},
   "source": [
    "A biblioteca *pandas* disponibiliza diversas propriedades de variáveis `datetime`, incluindo:\n",
    "\n",
    "* `year`: o ano da `datetime`\n",
    "* `month`: o mês da `datetime`, onde `January=1` e `December=12`\n",
    "* `day`: o dia da `datetime`\n",
    "\n",
    "Então, depois de converter nossa variável para o tipo `datetime`, utilizando essas propriedades nós podemos quebrar a data de lançamento das músicas em dia, mês e ano: "
   ]
  },
  {
   "cell_type": "code",
   "execution_count": null,
   "metadata": {},
   "outputs": [],
   "source": [
    "df['day'] = df['release_date'].dt.day  # dia\n",
    "df['month'] = df['release_date'].dt.month  # mês\n",
    "df['year'] = df['release_date'].dt.year  # ano\n",
    "df.head(3)"
   ]
  },
  {
   "cell_type": "markdown",
   "metadata": {},
   "source": [
    "Além dessas propriedades básicas, existem outras informações que podemos extrair da nossa variável `datetime`.\n",
    "\n",
    "Por exemplo, a semana do ano, o dia da semana e o trimestre:"
   ]
  },
  {
   "cell_type": "code",
   "execution_count": null,
   "metadata": {},
   "outputs": [],
   "source": [
    "df['week'] = df['release_date'].dt.week  # semana do ano\n",
    "df['dayofweek_index'] = df['release_date'].dt.dayofweek  # dia da semana (índice)\n",
    "df['dayofweek_name'] = df['release_date'].dt.day_name() # dia da semana (nome)\n",
    "df['quarter'] = df['release_date'].dt.quarter # trimestre\n",
    "df.head(3)"
   ]
  },
  {
   "cell_type": "markdown",
   "metadata": {},
   "source": [
    "Existem ainda diversas outras propriedades possíveis de se obter que você pode encontrar através da documentação do *pandas*: [DatetimeIndex](https://pandas.pydata.org/docs/reference/api/pandas.DatetimeIndex.html)"
   ]
  },
  {
   "cell_type": "markdown",
   "metadata": {},
   "source": [
    "---\n",
    "## Dados desbalanceados\n",
    "\n",
    "A última técnica de <ins>**Transformação de dados**</ins> que vamos analisar é a o **Balanceamento de dados**.  \n",
    "\n",
    "Especificamente, nós podemos dizer que os dados estão desbalanceados quando existe uma **desproporção** de observações de cada classe do nosso modelo. Os impactos do desbalanceamento são implícitos, ou seja, não geram um erro imediato ao construir e executar um modelo. \n",
    "\n",
    "⚠️ Porém, os resultados podem ser **ilusórios**. \n",
    "\n",
    "Se o sinal da classe *majoritária* for **bem maior** do que o sinal da classe *minoritária*, o classificador pode gerar uma alta precisão geral, uma vez que o modelo provavelmente irá prever a maioria das amostras pertencentes à classe majoritária. O que não quer dizer que o modelo teve um bom desempenho no geral. \n",
    "\n",
    "Por exemplo, em um problema de duas classes com uma distribuição de classe de `90:10`, o desempenho ao classificar as classes *majoritárias* será **nove** vezes maior do que o desempenho em exemplos de classes *minoritárias*.\n",
    "\n",
    "> **Achou confuso?** Vamos para um exemplo então! 😉\n",
    "\n",
    "### EXEMPLO\n",
    "\n",
    "Para exemplificar, suponha que você tenha um modelo de classificação onde você precisa prever se uma música será uma colaboração ou não, com base em suas características acústicas. \n",
    "\n",
    "Resumindo, você teria um modelo de classificação binária com duas classes: \n",
    "\n",
    "* `Collaboration`\n",
    "* `Solo`\n",
    "\n",
    "Para começar, então, vamos selecionar apenas as colunas referentes aos nossos preditores (i.e., as características acústicas das músicas) e a nossa variável *target*, i.e., `song_type`:"
   ]
  },
  {
   "cell_type": "code",
   "execution_count": null,
   "metadata": {},
   "outputs": [],
   "source": [
    "cols = [\n",
    "    'duration_ms', 'key', 'mode', 'time_signature', 'acousticness',\n",
    "    'danceability', 'energy', 'instrumentalness', 'liveness', 'loudness',\n",
    "    'speechiness', 'valence', 'tempo', 'song_type'\n",
    "]\n",
    "\n",
    "# Selecionando algumas colunas da tabela Tracks\n",
    "data = pd.read_table('../dataset/spotify_hits_dataset_complete.tsv', encoding='utf-8', usecols=cols)\n",
    "data.head(3)"
   ]
  },
  {
   "cell_type": "markdown",
   "metadata": {},
   "source": [
    "⚠️ Note que a variável *target* `song_type` está em formato não-numérico. Como vimos anteriormente, nós **precisaríamos** transformá-la em uma variável numérica caso esta variável fosse usada em algum algoritmo de Aprendizado de Máquina. \n",
    "\n",
    "No entanto, neste caso, tal variável corresponde ao que queremos prever (i.e., variável *target*). Portanto, não precisamos aplicar nenhum tratamento aqui."
   ]
  },
  {
   "cell_type": "markdown",
   "metadata": {},
   "source": [
    "Podemos, então, seguir para a verificação do balanceamento das classes (`Solo` e `Collaboration`). \n",
    "Para isso, usamos a função `value_counts()` que computa os valores únicos de cada categoria:"
   ]
  },
  {
   "cell_type": "code",
   "execution_count": null,
   "metadata": {},
   "outputs": [],
   "source": [
    "c = data['song_type'].value_counts() # quantidade de cada classe\n",
    "p = data['song_type'].value_counts(normalize=True) # porcentagem de cada classe\n",
    "pd.concat([c,round(p*100)], axis=1, keys=['counts', '%'])"
   ]
  },
  {
   "cell_type": "markdown",
   "metadata": {},
   "source": [
    "Podemos observar que cerca de 41% das observações (i.e., 532 músicas) são colaborações. \n",
    "\n",
    "Portanto, se tivéssemos que prever sempre músicas `Solo` obteríamos uma precisão de 59%.\n",
    "\n",
    "A seguir, iremos testar esse cenário criando um modelo linear de regressão logística, usando o módulo `sklearn.linear_model` e a classe `LogisticRegression`. Para isso, nós seguimos os seguintes passos:\n",
    "\n",
    "1. Separamos o conjunto de predidores (X) da nossa variável *target* (y);\n",
    "2. Treinamos o modelo de regressão logística com os dois conjuntos X e y;\n",
    "3. Realizamos a predição utilizando o mesmo conjunto de preditores X; e, por fim, \n",
    "4. Imprimimos os resultados."
   ]
  },
  {
   "cell_type": "code",
   "execution_count": null,
   "metadata": {},
   "outputs": [],
   "source": [
    "# primeiro passo\n",
    "y = data.song_type # variável target\n",
    "X = data.drop('song_type', axis=1) # conjunto de preditores\n",
    "\n",
    "# segundo passo\n",
    "logr = LogisticRegression().fit(X, y) # treinando o modelo de regressão logística\n",
    "\n",
    "# terceiro passo\n",
    "pred_y_0 = logr.predict(X)\n",
    "accuracy = round(accuracy_score(pred_y_0, y)*100)\n",
    "\n",
    "# imprimindo os resultados\n",
    "print(f'{accuracy}%') # acurácia do modelo\n",
    "print(np.unique(pred_y_0)) # classes previstas pelo modelo"
   ]
  },
  {
   "cell_type": "markdown",
   "metadata": {},
   "source": [
    "Como podemos ver pelo resultado, nosso modelo apresentou uma precisão geral de 59%; ou seja, como consequência dos dados desbalanceados, o modelo prevê apenas uma classe. \n",
    "\n",
    "Em outras palavras, ele **ignora** a classe minoritária (i.e., `Collaborations`) em favor da classe majoritária (i.e., `Solo`). \n",
    "\n",
    "> **Então, como solucionar este problema?** 🤔\n",
    "\n",
    "Uma técnica amplamente adotada para lidar com conjuntos de dados desbalanceados é a **Reamostragem**. \n",
    "\n",
    "#### REAMOSTRAGEM DE CLASSES\n",
    "\n",
    "Esta técnica pode ser dividida em duas abordagens diferentes: \n",
    "\n",
    "* **Downsampling:** consiste em **remover** amostras da classe *majoritária* \n",
    "* **Oversampling:** consiste em **adicionar** mais exemplos da classe *minoritária*  \n",
    "\n",
    "<img src=\"figure6.png\" alt=\"schema\" style=\"width: 700px;\" class=\"center\"/>\n",
    "\n",
    "A seguir, vamos aplicar as duas técnicas no nosso exemplo de predição de colaborações.\n",
    "\n",
    "---\n",
    "\n",
    "**1. Downsampling** \n",
    "\n",
    "Começamos aplicando a técnica de *Downsampling*, que remove aleatoriamente observações da classe majoritária para evitar que seu sinal domine o algoritmo de aprendizagem. Para isso, seguimos alguns passos:\n",
    "\n",
    "1. Separamos as observações de cada classe em diferentes *DataFrames*;\n",
    "2. Realizamos uma amostragem da classe majoritária sem substituição para corresponder ao número total da classe minoritária; e, por fim,  \n",
    "3. Concatenamos o *DataFrame* da classe minoritária com o *DataFrame* resultante."
   ]
  },
  {
   "cell_type": "code",
   "execution_count": null,
   "metadata": {},
   "outputs": [],
   "source": [
    "# primeiro passo\n",
    "df_majority = data[data.song_type == 'Solo'] # classe majoritária\n",
    "df_minority = data[data.song_type == 'Collaboration'] # classe minoritária\n",
    "\n",
    "# segundo passo\n",
    "df_majority_downsampled = resample(\n",
    "    df_majority, replace=False,  # amostra sem substituição\n",
    "    n_samples=len(df_minority),  # para corresponder à classe minoritária\n",
    "    random_state=123)  # garantindo reprodutibilidade\n",
    "\n",
    "# terceiro passo\n",
    "df_downsampled = pd.concat([df_majority_downsampled, df_minority])\n",
    "df_downsampled.song_type.value_counts()"
   ]
  },
  {
   "cell_type": "code",
   "execution_count": null,
   "metadata": {},
   "outputs": [],
   "source": [
    "print(df_downsampled.shape[0], data.shape[0]) # comparando o tamanho dos DataFrames"
   ]
  },
  {
   "cell_type": "markdown",
   "metadata": {},
   "source": [
    "⚠️ Note que, apesar do novo *DataFrame* ter menos observações do que o original, a proporção das duas classes está **balanceada**. \n",
    "\n",
    "Agora, podemos treinar novamente o modelo de regressão logística! "
   ]
  },
  {
   "cell_type": "code",
   "execution_count": null,
   "metadata": {},
   "outputs": [],
   "source": [
    "# primeiro passo\n",
    "y = df_downsampled.song_type # variável target\n",
    "X = df_downsampled.drop('song_type', axis=1) # conjunto de preditores\n",
    "\n",
    "# segundo passo\n",
    "logr = LogisticRegression().fit(X, y) # treinando o modelo de regressão logística\n",
    "\n",
    "# terceiro passo\n",
    "pred_y_1 = logr.predict(X)\n",
    "accuracy = round(accuracy_score(pred_y_1, y)*100)\n",
    "\n",
    "# imprimindo os resultados\n",
    "print(f'{accuracy}%') # acurácia do modelo\n",
    "print(np.unique(pred_y_1)) # classes previstas pelo modelo"
   ]
  },
  {
   "cell_type": "markdown",
   "metadata": {},
   "source": [
    "Obeserve que, após o balanceamento, o modelo consegue prever as duas classes e, apesar de apresentar uma menor precisão (49%), o modelo apresenta uma métrica de avaliação mais significativa. "
   ]
  },
  {
   "cell_type": "markdown",
   "metadata": {},
   "source": [
    "**2. Oversampling** \n",
    "\n",
    "Vamos, agora, aplicar a técnica de *Oversampling*, que replica aleatoriamente observações da classe minoritária. Para isso, seguimos alguns passos:\n",
    "\n",
    "1. Separamos as observações de cada classe em diferentes *DataFrames*;\n",
    "2. Realizamos a replicação da classe minoritária para corresponder ao número total da classe majoritária; e, por fim,  \n",
    "3. Concatenamos o *DataFrame* da classe majoritária com o *DataFrame* resultante."
   ]
  },
  {
   "cell_type": "code",
   "execution_count": null,
   "metadata": {},
   "outputs": [],
   "source": [
    "# primeiro passo\n",
    "df_majority = data[data.song_type == 'Solo'] # classe majoritária\n",
    "df_minority = data[data.song_type == 'Collaboration'] # classe minoritária\n",
    "\n",
    "# segundo passo\n",
    "df_minority_oversampled = resample(\n",
    "    df_minority, # replicação aleatória\n",
    "    n_samples=len(df_majority),  # para corresponder à classe majoritária\n",
    "    random_state=123)  # garantindo reprodutibilidade\n",
    "\n",
    "# terceiro passo\n",
    "df_oversampled = pd.concat([df_minority_oversampled, df_majority])\n",
    "df_oversampled.song_type.value_counts()"
   ]
  },
  {
   "cell_type": "code",
   "execution_count": null,
   "metadata": {},
   "outputs": [],
   "source": [
    "print(df_oversampled.shape[0], data.shape[0]) # comparando o tamanho dos DataFrames"
   ]
  },
  {
   "cell_type": "markdown",
   "metadata": {},
   "source": [
    "Observe que, desta vez, o novo *DataFrame* possui menos observações do que o original após a replicação das classes minoritárias.\n",
    "\n",
    "Agora, podemos treinar novamente o modelo de regressão logística!"
   ]
  },
  {
   "cell_type": "code",
   "execution_count": null,
   "metadata": {},
   "outputs": [],
   "source": [
    "# primeiro passo\n",
    "y = df_oversampled.song_type # variável target\n",
    "X = df_oversampled.drop('song_type', axis=1) # conjunto de preditores\n",
    "\n",
    "# segundo passo\n",
    "logr = LogisticRegression().fit(X, y) # treinando o modelo de regressão logística\n",
    "\n",
    "# terceiro passo\n",
    "pred_y_1 = logr.predict(X)\n",
    "accuracy = round(accuracy_score(pred_y_1, y)*100)\n",
    "\n",
    "# imprimindo os resultados\n",
    "print(f'{accuracy}%') # acurácia do modelo\n",
    "print(np.unique(pred_y_1)) # classes previstas pelo modelo"
   ]
  },
  {
   "cell_type": "markdown",
   "metadata": {},
   "source": [
    "Mais uma vez, após o balanceamento, o modelo conseguiu prever as duas classes apresentando uma métrica de precisão mais significativa. "
   ]
  },
  {
   "cell_type": "markdown",
   "metadata": {},
   "source": [
    "## Conclusão\n",
    "\n",
    "Este notebook apresentou como fazer a transformação de dados de diferentes formatos a partir de diversas abordagens.\n",
    "\n",
    "🔎 **Se interessou?** Dê uma olhada na documentação da biblioteca *sklearn* para informações extras sobre transformação de dados:\n",
    "[Dataset transformations](https://scikit-learn.org/stable/data_transforms.html)\n",
    "\n",
    "---\n",
    "\n",
    "O próximo notebook ([4.3.Reducao.ipynb](4.3.Reducao.ipynb)) apresenta como aplicar técnicas de redução de dados para auxiliar a análise de dados com alta dimensionalidade."
   ]
  }
 ],
 "metadata": {
  "julynter-results": {
   "filteredId": [],
   "filteredIndividual": [],
   "filteredRestart": [],
   "filteredType": [],
   "hash": "5262264cd9b5bca8895a3c3c49a809815b06710a",
   "visible": []
  },
  "kernelspec": {
   "display_name": "Python 3",
   "language": "python",
   "name": "python3"
  },
  "language_info": {
   "codemirror_mode": {
    "name": "ipython",
    "version": 3
   },
   "file_extension": ".py",
   "mimetype": "text/x-python",
   "name": "python",
   "nbconvert_exporter": "python",
   "pygments_lexer": "ipython3",
   "version": "3.8.2"
  },
  "latex_envs": {
   "LaTeX_envs_menu_present": true,
   "autoclose": true,
   "autocomplete": true,
   "bibliofile": "biblio.bib",
   "cite_by": "apalike",
   "current_citInitial": 1,
   "eqLabelWithNumbers": true,
   "eqNumInitial": 1,
   "hotkeys": {
    "equation": "Ctrl-E",
    "itemize": "Ctrl-I"
   },
   "labels_anchors": false,
   "latex_user_defs": false,
   "report_style_numbering": false,
   "user_envs_cfg": false
  },
  "varInspector": {
   "cols": {
    "lenName": 16,
    "lenType": 16,
    "lenVar": 40
   },
   "kernels_config": {
    "python": {
     "delete_cmd_postfix": "",
     "delete_cmd_prefix": "del ",
     "library": "var_list.py",
     "varRefreshCmd": "print(var_dic_list())"
    },
    "r": {
     "delete_cmd_postfix": ") ",
     "delete_cmd_prefix": "rm(",
     "library": "var_list.r",
     "varRefreshCmd": "cat(var_dic_list()) "
    }
   },
   "types_to_exclude": [
    "module",
    "function",
    "builtin_function_or_method",
    "instance",
    "_Feature"
   ],
   "window_display": false
  }
 },
 "nbformat": 4,
 "nbformat_minor": 4
}
