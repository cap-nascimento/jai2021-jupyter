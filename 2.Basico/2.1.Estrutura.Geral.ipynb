{
 "cells": [
  {
   "cell_type": "markdown",
   "metadata": {},
   "source": [
    "# Estrutura geral de um Notebook\n",
    "\n",
    "Notebooks possuem célula de Markdown, código e bruta.\n",
    "\n",
    "<style>\n",
    "    .tutorial-text {\n",
    "       color: red;\n",
    "    }\n",
    "</style>"
   ]
  },
  {
   "cell_type": "code",
   "execution_count": 1,
   "metadata": {
    "tags": []
   },
   "outputs": [
    {
     "data": {
      "text/html": [
       "<style>\n",
       ".tutorial-text {\n",
       "    color: red;\n",
       "    display: none;\n",
       "}\n",
       "</style>\n",
       "\n",
       "<script>\n",
       "function setTutorialDisplay() {\n",
       "    let elements = document.querySelectorAll(\".tutorial-text\");\n",
       "    for (let i = 0; i < elements.length; i++) {\n",
       "        if (elements[i].style.display == \"block\") {\n",
       "            elements[i].style.display = \"none\";\n",
       "        } else {\n",
       "            elements[i].style.display = \"block\";\n",
       "        }\n",
       "    }\n",
       "}\n",
       "</script>\n",
       "\n",
       "<button onclick=\"setTutorialDisplay()\"> Tutorial </button>\n"
      ],
      "text/plain": [
       "<IPython.core.display.HTML object>"
      ]
     },
     "metadata": {},
     "output_type": "display_data"
    }
   ],
   "source": [
    "%%html\n",
    "<style>\n",
    ".tutorial-text {\n",
    "    color: red;\n",
    "    display: none;\n",
    "}\n",
    "</style>\n",
    "\n",
    "<script>\n",
    "function setTutorialDisplay() {\n",
    "    let elements = document.querySelectorAll(\".tutorial-text\");\n",
    "    for (let i = 0; i < elements.length; i++) {\n",
    "        if (elements[i].style.display == \"block\") {\n",
    "            elements[i].style.display = \"none\";\n",
    "        } else {\n",
    "            elements[i].style.display = \"block\";\n",
    "        }\n",
    "    }\n",
    "}\n",
    "</script>\n",
    "\n",
    "<button onclick=\"setTutorialDisplay()\"> Tutorial </button>"
   ]
  },
  {
   "cell_type": "markdown",
   "metadata": {},
   "source": [
    "<span class=\"tutorial-text\"> Célula de Markdown com texto formatado: </span>"
   ]
  },
  {
   "cell_type": "markdown",
   "metadata": {},
   "source": [
    "## Fibonacci"
   ]
  },
  {
   "cell_type": "markdown",
   "metadata": {},
   "source": [
    "<span class=\"tutorial-text\"> Célula de código com código executável e resultados:</span>"
   ]
  },
  {
   "cell_type": "code",
   "execution_count": 2,
   "metadata": {},
   "outputs": [
    {
     "data": {
      "text/plain": [
       "55"
      ]
     },
     "execution_count": 2,
     "metadata": {},
     "output_type": "execute_result"
    }
   ],
   "source": [
    "def fib(x):\n",
    "    if x <= 1:\n",
    "        return x\n",
    "    return fib(x-1) + fib(x-2)\n",
    "fib(10)"
   ]
  },
  {
   "cell_type": "markdown",
   "metadata": {},
   "source": [
    "<span class=\"tutorial-text\"> Outra célula Markdown: </span>"
   ]
  },
  {
   "cell_type": "markdown",
   "metadata": {},
   "source": [
    "Vamos **visualizar** os números"
   ]
  },
  {
   "cell_type": "markdown",
   "metadata": {},
   "source": [
    "<span class=\"tutorial-text\"> Célula de código com gráfico: </span>"
   ]
  },
  {
   "cell_type": "code",
   "execution_count": 3,
   "metadata": {},
   "outputs": [
    {
     "data": {
      "image/png": "[encoded data removed]",
      "text/plain": [
       "<Figure size 432x288 with 1 Axes>"
      ]
     },
     "metadata": {
      "needs_background": "light"
     },
     "output_type": "display_data"
    }
   ],
   "source": [
    "from matplotlib import pyplot\n",
    "%matplotlib inline\n",
    "x = range(15)\n",
    "y = [fib(n) for n in x]\n",
    "pyplot.plot(x, y);"
   ]
  },
  {
   "cell_type": "markdown",
   "metadata": {},
   "source": [
    "<span class=\"tutorial-text\"> Célula bruta - usada por ferramentas externas que convertem notebooks em outros formatos </span>"
   ]
  },
  {
   "cell_type": "raw",
   "metadata": {},
   "source": [
    "Esta célula **não** é nem Markdown nem Código"
   ]
  },
  {
   "cell_type": "markdown",
   "metadata": {},
   "source": [
    "## Conclusão\n",
    "\n",
    "Este notebook apresentou brevemente os tipos de células que existem em notebooks.\n",
    "\n",
    "O próximo notebook ([2.2.Estudo.de.Caso.ipynb](2.2.Estudo.de.Caso.ipynb)) apresenta o estudo de caso que usaremmos neste tutorial.\n"
   ]
  },
  {
   "cell_type": "code",
   "execution_count": null,
   "metadata": {},
   "outputs": [],
   "source": []
  }
 ],
 "metadata": {
  "julynter-results": {
   "filteredId": [],
   "filteredIndividual": [],
   "filteredRestart": [],
   "filteredType": [],
   "hash": "9e088ce637e8038d85778693dab25e54a66a64a5",
   "visible": [
    {
     "cellId": "group",
     "hash": "d6fbc9d2bdd580e18ed0bc5805dc26db323d6f5f",
     "reason": "This groups other lint messages",
     "reportId": "group",
     "reportType": "import",
     "suggestion": null,
     "text": "Import"
    },
    {
     "cellId": 9,
     "hash": "4a1687404f6b8df1d133a3a0ba9941731d0f9feb",
     "reason": "Imports at the beginning of the notebook allow for a quick failure in the case of a non-installed dependency. It prevents users from stopping their executions for installing dependencies. Additionally, imports in the middle might reduce notebooks' readability by taking the attention from the logic to the import constructs.",
     "reportId": "i1",
     "reportType": "import",
     "suggestion": "Please consider moving the import to the first cell of the notebook.",
     "text": "Cell 9 has imports but it is not the first cell"
    }
   ]
  },
  "kernelspec": {
   "display_name": "Python 3",
   "language": "python",
   "name": "python3"
  },
  "language_info": {
   "codemirror_mode": {
    "name": "ipython",
    "version": 3
   },
   "file_extension": ".py",
   "mimetype": "text/x-python",
   "name": "python",
   "nbconvert_exporter": "python",
   "pygments_lexer": "ipython3",
   "version": "3.8.5"
  }
 },
 "nbformat": 4,
 "nbformat_minor": 4
}
